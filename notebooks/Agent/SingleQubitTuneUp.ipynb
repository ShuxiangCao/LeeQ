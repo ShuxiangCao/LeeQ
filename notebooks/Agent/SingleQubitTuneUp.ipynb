{
 "cells": [
  {
   "cell_type": "markdown",
   "id": "46ed3b2a-adb8-4455-b96e-7f68696f672e",
   "metadata": {
    "scrolled": true
   },
   "source": [
    "# Automated calibration for single qubit\n",
    "## Load virtual qubit"
   ]
  },
  {
   "cell_type": "code",
   "id": "6bc05f9e-e8b3-4aa8-8382-9d6c202230a8",
   "metadata": {},
   "source": [
    "from simulated_setup import *\n",
    "from leeq.experiments.builtin import *\n",
    "\n",
    "qubit = simulation_setup()"
   ],
   "outputs": [],
   "execution_count": null
  },
  {
   "cell_type": "markdown",
   "id": "45f9aec7a2c7ecfc",
   "metadata": {},
   "source": "## Run calibration by agents"
  },
  {
   "cell_type": "code",
   "id": "b4d4f2c9-ad83-461c-ba24-a33aae217cde",
   "metadata": {},
   "source": [
    "from k_agents.execution.agent import execute_procedure\n",
    "from leeq.utils.ai.translation_agent import init_leeq_translation_agents\n",
    "\n",
    "from mllm.config import default_models\n",
    "default_models.normal = \"gpt-4o\"\n",
    "default_models.expensive = \"gpt-4o\"\n",
    "setup().status().set_param(\"AIAutoInspectPlots\", True)     \n",
    "\n",
    "init_leeq_translation_agents()\n",
    "execute_procedure(\"Full gate calibration on `dut`\", dut=qubit)"
   ],
   "outputs": [],
   "execution_count": null
  }
 ],
 "metadata": {
  "kernelspec": {
   "display_name": "Python 3 (ipykernel)",
   "language": "python",
   "name": "python3"
  },
  "language_info": {
   "codemirror_mode": {
    "name": "ipython",
    "version": 3
   },
   "file_extension": ".py",
   "mimetype": "text/x-python",
   "name": "python",
   "nbconvert_exporter": "python",
   "pygments_lexer": "ipython3",
   "version": "3.10.15"
  }
 },
 "nbformat": 4,
 "nbformat_minor": 5
}
