{
 "cells": [
  {
   "metadata": {},
   "cell_type": "markdown",
   "source": [
    "# Automated calibration for two-qubit gate\n",
    "## Load virtual qubits"
   ],
   "id": "66bd3e2100e94e47"
  },
  {
   "cell_type": "code",
   "id": "initial_id",
   "metadata": {},
   "source": [
    "from simulated_setup_2 import *\n",
    "from leeq import ExperimentManager\n",
    "from leeq.chronicle import Chronicle\n",
    "Chronicle().start_log()\n",
    "qubit_1, qubit_2 = get_virtual_qubit_pair()\n",
    "ExperimentManager().status().set_param(\"Plot_Result_In_Jupyter\", True)"
   ],
   "outputs": [],
   "execution_count": null
  },
  {
   "metadata": {},
   "cell_type": "markdown",
   "source": "## Run calibration by agents",
   "id": "7440cf399d01c3e4"
  },
  {
   "cell_type": "code",
   "id": "fed6c78a29e55398",
   "metadata": {},
   "source": [
    "from k_agents.execution.agent import execute_procedure\n",
    "from leeq.utils.ai.translation_agent import init_leeq_translation_agents\n",
    "from mllm import config\n",
    "\n",
    "config.default_models.normal = \"gpt-4o\"\n",
    "config.default_models.expensive = \"gpt-4o\"\n",
    "config.default_options.temperature = 0.2\n",
    "\n",
    "init_leeq_translation_agents()\n",
    "\n",
    "execute_procedure(\"Two level Two-qubit calibration on `duts`\", duts=[qubit_1, qubit_2])"
   ],
   "outputs": [],
   "execution_count": null
  }
 ],
 "metadata": {
  "kernelspec": {
   "display_name": "Python 3 (ipykernel)",
   "language": "python",
   "name": "python3"
  },
  "language_info": {
   "codemirror_mode": {
    "name": "ipython",
    "version": 3
   },
   "file_extension": ".py",
   "mimetype": "text/x-python",
   "name": "python",
   "nbconvert_exporter": "python",
   "pygments_lexer": "ipython3",
   "version": "3.10.15"
  }
 },
 "nbformat": 4,
 "nbformat_minor": 5
}