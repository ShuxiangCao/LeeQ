{
 "cells": [
  {
   "cell_type": "code",
   "execution_count": 1,
   "id": "6cfcdb4d-7754-40b0-939e-343f1b875636",
   "metadata": {},
   "outputs": [
    {
     "name": "stdout",
     "output_type": "stream",
     "text": [
      "dict_keys(['openai_gmm_failure_cases_image_few_shot', '', 'openai_rabi_success_cases_image_few_shot', 'llama_rabi_failure_cases_image_few_shot', 'gemini_rabi_success_cases_raw', 'llama_drag_success_cases_raw', 'openai_drag_failure_cases_image_few_shot', 'llama_gmm_success_cases_raw', 'gemini_resonator_spec_failure_cases_raw', 'llama_rabi_success_cases_image_few_shot', 'openai_gmm_success_cases_image_few_shot', 'gemini_drag_failure_cases_raw', 'llama_rabi_failure_cases_raw', 'llama_drag_failure_cases_raw', 'openai_drag_success_cases_raw', 'gemini_drag_failure_cases_image_few_shot', 'llama_gmm_failure_cases_image_few_shot', 'gemini_gmm_success_cases_image_few_shot', 'openai_rabi_failure_cases_raw', 'gemini_rabi_failure_cases_raw', 'gemini_resonator_spec_success_cases_raw', 'llama_gmm_failure_cases_raw', 'gemini_resonator_spec_success_cases_image_few_shot', 'openai_drag_success_cases_image_few_shot', 'openai_drag_failure_cases_raw', 'openai_rabi_success_cases_raw', 'llama_rabi_success_cases_raw', 'openai_gmm_failure_cases_raw', 'llama_drag_success_cases_image_few_shot', 'llama_gmm_success_cases_image_few_shot', 'gemini_resonator_spec_failure_cases_image_few_shot', 'gemini_gmm_success_cases_raw', 'llama_drag_failure_cases_image_few_shot', 'gemini_rabi_failure_cases_image_few_shot', 'gemini_drag_success_cases_raw', 'gemini_drag_success_cases_image_few_shot', 'openai_rabi_failure_cases_image_few_shot', 'openai_resonator_spec_failure_cases_image_few_shot', 'openai_gmm_success_cases_raw', 'openai_resonator_spec_success_cases_image_few_shot', 'openai_resonator_spec_failure_cases_raw', 'gemini_rabi_success_cases_image_few_shot', 'openai_resonator_spec_success_cases_raw'])\n"
     ]
    }
   ],
   "source": [
    "import os\n",
    "import json\n",
    "from pprint import pprint\n",
    "\n",
    "# List to hold the data from all JSON files\n",
    "all_json_data = {}\n",
    "\n",
    "# Get the current directory\n",
    "current_directory = os.getcwd()\n",
    "\n",
    "# Loop through all files in the current directory\n",
    "for filename in os.listdir(current_directory):\n",
    "    if filename.endswith('.json'):\n",
    "        file_path = os.path.join(current_directory, filename)\n",
    "        \n",
    "        # Open and read the JSON file\n",
    "        with open(file_path, 'r') as file:\n",
    "            try:\n",
    "                json_data = json.load(file)\n",
    "\n",
    "                label = filename.split('.')[0]\n",
    "\n",
    "                all_json_data[label] = json_data\n",
    "            except json.JSONDecodeError as e:\n",
    "                print(f\"Error reading {filename}: {e}\")\n",
    "\n",
    "# Now, all_json_data contains the contents of all JSON files\n",
    "pprint(all_json_data.keys())\n"
   ]
  },
  {
   "cell_type": "code",
   "execution_count": 2,
   "id": "acad67e1-ab3c-4387-8d51-29ffe31a18a0",
   "metadata": {},
   "outputs": [],
   "source": [
    "import numpy as np\n",
    "import pandas as pd"
   ]
  },
  {
   "cell_type": "code",
   "execution_count": 3,
   "id": "3e96dc22-1985-473b-a147-7147e11025be",
   "metadata": {},
   "outputs": [],
   "source": [
    "entries = []\n",
    "\n",
    "def summarize_statistics(data):\n",
    "\n",
    "    entries = []\n",
    "    for key,val in data.items():\n",
    "        data = {\n",
    "            'model_type':key\n",
    "        }\n",
    "        data.update(val)\n",
    "        entries.append(data)\n",
    "\n",
    "    return entries\n",
    "\n",
    "for case,data in all_json_data.items():\n",
    "    model = case.split('_')[0]\n",
    "    case = '_'.join(case.split('_')[1:-1])\n",
    "    for _, results in data.items():\n",
    "        entry = {}\n",
    "        entry['case'] = case\n",
    "        entry['model'] = model\n",
    "        for r in summarize_statistics(results):\n",
    "                r.update(entry)\n",
    "                entries.append(r)"
   ]
  },
  {
   "cell_type": "code",
   "execution_count": 7,
   "id": "a14803a0-78cf-4259-b610-c58a2b1db821",
   "metadata": {},
   "outputs": [
    {
     "name": "stdout",
     "output_type": "stream",
     "text": [
      "dict_keys(['model_type', 'full', 'fitting_only', 'visual_only', 'case', 'model'])\n"
     ]
    }
   ],
   "source": [
    "print(entries[0].keys())"
   ]
  },
  {
   "cell_type": "code",
   "execution_count": 4,
   "id": "692853c9-1282-4541-b1e5-1372abc9fea8",
   "metadata": {},
   "outputs": [],
   "source": [
    "df = pd.DataFrame(entries)"
   ]
  },
  {
   "cell_type": "code",
   "execution_count": 5,
   "id": "5992bb51-b798-47d2-bee4-d73343209aa9",
   "metadata": {},
   "outputs": [],
   "source": [
    "df['Experiment success'] = df['Experiment success']==True"
   ]
  },
  {
   "cell_type": "code",
   "execution_count": 6,
   "id": "cc2b64e9-257f-4942-aa95-a3386af6d358",
   "metadata": {},
   "outputs": [],
   "source": [
    "mask = df['case'].str.contains('success')"
   ]
  },
  {
   "cell_type": "code",
   "execution_count": 7,
   "id": "a54d513c-a3e4-4ea5-85fa-49f8ca330945",
   "metadata": {},
   "outputs": [],
   "source": [
    "df['success'] = df['Experiment success']==mask"
   ]
  },
  {
   "cell_type": "code",
   "execution_count": 8,
   "id": "add4c3ef-7bdb-43ae-8ab7-4dd4ff527327",
   "metadata": {
    "scrolled": true
   },
   "outputs": [
    {
     "data": {
      "text/html": [
       "<div>\n",
       "<style scoped>\n",
       "    .dataframe tbody tr th:only-of-type {\n",
       "        vertical-align: middle;\n",
       "    }\n",
       "\n",
       "    .dataframe tbody tr th {\n",
       "        vertical-align: top;\n",
       "    }\n",
       "\n",
       "    .dataframe thead th {\n",
       "        text-align: right;\n",
       "    }\n",
       "</style>\n",
       "<table border=\"1\" class=\"dataframe\">\n",
       "  <thead>\n",
       "    <tr style=\"text-align: right;\">\n",
       "      <th></th>\n",
       "      <th></th>\n",
       "      <th></th>\n",
       "      <th>Experiment success</th>\n",
       "    </tr>\n",
       "    <tr>\n",
       "      <th>case</th>\n",
       "      <th>model_type</th>\n",
       "      <th>model</th>\n",
       "      <th></th>\n",
       "    </tr>\n",
       "  </thead>\n",
       "  <tbody>\n",
       "    <tr>\n",
       "      <th rowspan=\"3\" valign=\"top\">rabi_failure</th>\n",
       "      <th>fitting_only</th>\n",
       "      <th>openai</th>\n",
       "      <td>1.00</td>\n",
       "    </tr>\n",
       "    <tr>\n",
       "      <th>full</th>\n",
       "      <th>openai</th>\n",
       "      <td>0.05</td>\n",
       "    </tr>\n",
       "    <tr>\n",
       "      <th>visual_only</th>\n",
       "      <th>openai</th>\n",
       "      <td>0.05</td>\n",
       "    </tr>\n",
       "    <tr>\n",
       "      <th rowspan=\"3\" valign=\"top\">rabi_success</th>\n",
       "      <th>fitting_only</th>\n",
       "      <th>openai</th>\n",
       "      <td>1.00</td>\n",
       "    </tr>\n",
       "    <tr>\n",
       "      <th>full</th>\n",
       "      <th>openai</th>\n",
       "      <td>1.00</td>\n",
       "    </tr>\n",
       "    <tr>\n",
       "      <th>visual_only</th>\n",
       "      <th>openai</th>\n",
       "      <td>1.00</td>\n",
       "    </tr>\n",
       "  </tbody>\n",
       "</table>\n",
       "</div>"
      ],
      "text/plain": [
       "                                  Experiment success\n",
       "case         model_type   model                     \n",
       "rabi_failure fitting_only openai                1.00\n",
       "             full         openai                0.05\n",
       "             visual_only  openai                0.05\n",
       "rabi_success fitting_only openai                1.00\n",
       "             full         openai                1.00\n",
       "             visual_only  openai                1.00"
      ]
     },
     "execution_count": 8,
     "metadata": {},
     "output_type": "execute_result"
    }
   ],
   "source": [
    "sub_df= df[['model_type','Experiment success','case', 'model']]\n",
    "mask_sub_df = sub_df['model'] == 'openai'\n",
    "sub_df[mask_sub_df].groupby(['case','model_type', 'model']).mean()"
   ]
  },
  {
   "cell_type": "code",
   "execution_count": 9,
   "id": "2dd345e2-984f-4e60-b52d-1f80ee7612a5",
   "metadata": {},
   "outputs": [
    {
     "data": {
      "text/html": [
       "<div>\n",
       "<style scoped>\n",
       "    .dataframe tbody tr th:only-of-type {\n",
       "        vertical-align: middle;\n",
       "    }\n",
       "\n",
       "    .dataframe tbody tr th {\n",
       "        vertical-align: top;\n",
       "    }\n",
       "\n",
       "    .dataframe thead th {\n",
       "        text-align: right;\n",
       "    }\n",
       "</style>\n",
       "<table border=\"1\" class=\"dataframe\">\n",
       "  <thead>\n",
       "    <tr style=\"text-align: right;\">\n",
       "      <th></th>\n",
       "      <th></th>\n",
       "      <th></th>\n",
       "      <th>success</th>\n",
       "    </tr>\n",
       "    <tr>\n",
       "      <th>case</th>\n",
       "      <th>model_type</th>\n",
       "      <th>model</th>\n",
       "      <th></th>\n",
       "    </tr>\n",
       "  </thead>\n",
       "  <tbody>\n",
       "    <tr>\n",
       "      <th rowspan=\"3\" valign=\"top\">rabi_failure</th>\n",
       "      <th>fitting_only</th>\n",
       "      <th>openai</th>\n",
       "      <td>0.00</td>\n",
       "    </tr>\n",
       "    <tr>\n",
       "      <th>full</th>\n",
       "      <th>openai</th>\n",
       "      <td>0.95</td>\n",
       "    </tr>\n",
       "    <tr>\n",
       "      <th>visual_only</th>\n",
       "      <th>openai</th>\n",
       "      <td>0.95</td>\n",
       "    </tr>\n",
       "    <tr>\n",
       "      <th rowspan=\"3\" valign=\"top\">rabi_success</th>\n",
       "      <th>fitting_only</th>\n",
       "      <th>openai</th>\n",
       "      <td>1.00</td>\n",
       "    </tr>\n",
       "    <tr>\n",
       "      <th>full</th>\n",
       "      <th>openai</th>\n",
       "      <td>1.00</td>\n",
       "    </tr>\n",
       "    <tr>\n",
       "      <th>visual_only</th>\n",
       "      <th>openai</th>\n",
       "      <td>1.00</td>\n",
       "    </tr>\n",
       "  </tbody>\n",
       "</table>\n",
       "</div>"
      ],
      "text/plain": [
       "                                  success\n",
       "case         model_type   model          \n",
       "rabi_failure fitting_only openai     0.00\n",
       "             full         openai     0.95\n",
       "             visual_only  openai     0.95\n",
       "rabi_success fitting_only openai     1.00\n",
       "             full         openai     1.00\n",
       "             visual_only  openai     1.00"
      ]
     },
     "execution_count": 9,
     "metadata": {},
     "output_type": "execute_result"
    }
   ],
   "source": [
    "sub_df= df[['model_type','success','case', 'model']]\n",
    "mask_sub_df = sub_df['model'] == 'openai'\n",
    "sub_df[mask_sub_df].groupby(['case','model_type', 'model']).mean()"
   ]
  },
  {
   "cell_type": "code",
   "execution_count": null,
   "id": "9c2fe222-ecf6-4f99-8693-fbb96b1b051c",
   "metadata": {},
   "outputs": [],
   "source": []
  },
  {
   "cell_type": "code",
   "execution_count": 10,
   "id": "1d6f4fbd-bf81-49c9-8ebd-6b28861cbf2c",
   "metadata": {},
   "outputs": [
    {
     "data": {
      "text/html": [
       "<div>\n",
       "<style scoped>\n",
       "    .dataframe tbody tr th:only-of-type {\n",
       "        vertical-align: middle;\n",
       "    }\n",
       "\n",
       "    .dataframe tbody tr th {\n",
       "        vertical-align: top;\n",
       "    }\n",
       "\n",
       "    .dataframe thead th {\n",
       "        text-align: right;\n",
       "    }\n",
       "</style>\n",
       "<table border=\"1\" class=\"dataframe\">\n",
       "  <thead>\n",
       "    <tr style=\"text-align: right;\">\n",
       "      <th></th>\n",
       "      <th>success</th>\n",
       "    </tr>\n",
       "    <tr>\n",
       "      <th>model_type</th>\n",
       "      <th></th>\n",
       "    </tr>\n",
       "  </thead>\n",
       "  <tbody>\n",
       "    <tr>\n",
       "      <th>fitting_only</th>\n",
       "      <td>0.500</td>\n",
       "    </tr>\n",
       "    <tr>\n",
       "      <th>full</th>\n",
       "      <td>0.975</td>\n",
       "    </tr>\n",
       "    <tr>\n",
       "      <th>visual_only</th>\n",
       "      <td>0.975</td>\n",
       "    </tr>\n",
       "  </tbody>\n",
       "</table>\n",
       "</div>"
      ],
      "text/plain": [
       "              success\n",
       "model_type           \n",
       "fitting_only    0.500\n",
       "full            0.975\n",
       "visual_only     0.975"
      ]
     },
     "execution_count": 10,
     "metadata": {},
     "output_type": "execute_result"
    }
   ],
   "source": [
    "sub_df= df[['model_type','success']]\n",
    "# mask_sub_df = sub_df['model'] == 'open'\n",
    "sub_df[mask_sub_df].groupby(['model_type']).mean()"
   ]
  },
  {
   "cell_type": "code",
   "execution_count": null,
   "id": "2b499b79-02da-4801-933f-c27c2c004cd0",
   "metadata": {},
   "outputs": [],
   "source": []
  }
 ],
 "metadata": {
  "kernelspec": {
   "display_name": "Python 3 (ipykernel)",
   "language": "python",
   "name": "python3"
  },
  "language_info": {
   "codemirror_mode": {
    "name": "ipython",
    "version": 3
   },
   "file_extension": ".py",
   "mimetype": "text/x-python",
   "name": "python",
   "nbconvert_exporter": "python",
   "pygments_lexer": "ipython3",
   "version": "3.11.2"
  }
 },
 "nbformat": 4,
 "nbformat_minor": 5
}
