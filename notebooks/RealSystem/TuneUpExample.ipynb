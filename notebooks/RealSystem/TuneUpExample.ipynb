{
 "cells": [
  {
   "cell_type": "markdown",
   "id": "46ed3b2a-adb8-4455-b96e-7f68696f672e",
   "metadata": {
    "scrolled": true
   },
   "source": [
    "# LeeQ Example notebook"
   ]
  },
  {
   "cell_type": "markdown",
   "id": "da3bff3e-0301-4ffd-8f1d-e2b0e2e42f56",
   "metadata": {},
   "source": [
    "This notebook provides the examples of basic usage of the LeeQ software"
   ]
  },
  {
   "cell_type": "markdown",
   "id": "dad87523-31cb-4c65-ada6-88ae4fc93273",
   "metadata": {},
   "source": [
    "## Load the environment"
   ]
  },
  {
   "cell_type": "code",
   "execution_count": null,
   "id": "6bc05f9e-e8b3-4aa8-8382-9d6c202230a8",
   "metadata": {},
   "outputs": [],
   "source": [
    "import leeq\n",
    "from example_setup import * # Change to your customized setup file\n",
    "import numpy as np\n",
    "from scipy import optimize as so\n",
    "from leeq.experiments.builtin import *\n",
    "import plotly.graph_objects as go\n",
    "from labchronicle import log_and_record, register_browser_function\n",
    "\n",
    "from leeq.utils.compatibility import *\n",
    "from leeq.core.elements.built_in.qudit_transmon import TransmonElement\n",
    "from leeq.experiments.builtin import *"
   ]
  },
  {
   "cell_type": "markdown",
   "id": "b761dea8-5e93-493e-9d56-78b1249ea426",
   "metadata": {},
   "source": [
    "## Initialize qubits configuration"
   ]
  },
  {
   "cell_type": "code",
   "execution_count": null,
   "id": "48ed15bd-87a4-4757-957e-9bdc393af3fa",
   "metadata": {},
   "outputs": [],
   "source": [
    "\n",
    "# setup().start_live_monitor() # When needed you can setup the live monitor.\n",
    "setup().status().set_param('Engine_Batch_Size',20)\n",
    "setup().status().set_param(\"Shot_Number\", 500)\n",
    "setup().status().set_param(\"Shot_Period\", 500)                                      ######################################\n",
    "  \n",
    "dut_dict = {\n",
    "    'Q1': {'Active': True, 'Tuneup': False,'FromLog':False, 'Params': q1_params},\n",
    "    'Q2': {'Active': True, 'Tuneup': False,'FromLog':False, 'Params': q2_params}\n",
    "} \n",
    "\n",
    "\n",
    "duts_dict = {}\n",
    "for hrid, dd in dut_dict.items():\n",
    "    if (dd['Active']):\n",
    "        if (dd['FromLog']):\n",
    "            dut = TransmonElement.load_from_calibration_log(dd['Params']['hrid'])\n",
    "        else:\n",
    "            dut = TransmonElement(name=dd['Params']['hrid'],parameters=dd['Params'])\n",
    "            \n",
    "        if (dd['Tuneup']):\n",
    "            dut.save_calibration_log()\n",
    "        else:\n",
    "            lpb_scan = (dut.get_c1('f01')['I'], dut.get_c1('f01')['X'])\n",
    "            calib = MeasurementCalibrationMultilevelGMM(dut, mprim_index=0,sweep_lpb_list=lpb_scan)\n",
    "        dut.print_config_info()\n",
    "        duts_dict[hrid] = dut\n",
    "\n",
    "dut = None"
   ]
  },
  {
   "cell_type": "markdown",
   "id": "0a788abc-0459-44b9-b542-7e59c5d9e2a8",
   "metadata": {},
   "source": [
    "# Resonators Spectroscopy"
   ]
  },
  {
   "cell_type": "code",
   "execution_count": null,
   "id": "349ceab9-527b-4ccd-bfa3-c84a6c9c8b92",
   "metadata": {},
   "outputs": [],
   "source": [
    "dut = duts_dict['Q1']                                # device under test (qubit and resonator pair)\n",
    "mprim = dut.get_measurement_prim_intlist(0)         # resonator measurement params\n",
    "c1 = dut.get_c1('f01')                              # qubit pulse collection\n",
    "\n",
    "ResonatorSweepTransmissionWithExtraInitialLPB(dut,\n",
    "            start = 9999.198288343621-10,\n",
    "            stop  = 9999.198288343621+10,\n",
    "            step = 0.5,\n",
    "            num_avs = 10000,\n",
    "            rep_rate = 0.0,\n",
    "            mp_width = 8,\n",
    "            amp=0.03\n",
    ")"
   ]
  },
  {
   "cell_type": "markdown",
   "id": "f3a26e15-1007-451a-af2d-eb8191b1a2db",
   "metadata": {},
   "source": [
    "## Qubits Tuneup"
   ]
  },
  {
   "cell_type": "markdown",
   "id": "eb0be265-37f9-48ed-99df-b2244857e73a",
   "metadata": {},
   "source": [
    "### Manually update parameters"
   ]
  },
  {
   "cell_type": "code",
   "execution_count": null,
   "id": "055bccbe-37a9-4d46-a33d-3ca70cc1ef5e",
   "metadata": {},
   "outputs": [],
   "source": [
    "dut = duts_dict['Q1']                                # device under test (qubit and resonator pair)\n",
    "mprim = dut.get_measurement_prim_intlist(0)          # resonator measurement params\n",
    "c1 = dut.get_c1('f01')                               # qubit pulse collection\n",
    "\n",
    "c1['X'].update_freq(4888.205889560021)\n",
    "\n",
    "c1['X'].update_pulse_args(amp=0.19905818643939352, width=0.05)\n",
    "\n",
    "mprim.update_freq(9997.4)                     # from resonator spectroscopy  \n",
    "\n",
    "# mprim.update_freq(10000.4)      \n",
    "\n",
    "# mprim.update_freq(9999.198288343621)      \n",
    "mprim.update_pulse_args(amp=0.08, width=8)                   \n",
    "\n",
    "lpb_scan = (dut.get_c1('f01')['I'], dut.get_c1('f01')['X'])\n",
    "\n",
    "calib = MeasurementCalibrationMultilevelGMM(dut, mprim_index=0,sweep_lpb_list=lpb_scan)"
   ]
  },
  {
   "cell_type": "markdown",
   "id": "de8b9692-22c1-4e47-8093-868c1734973c",
   "metadata": {},
   "source": [
    "### Calibrate single qubit pulse amplitute"
   ]
  },
  {
   "cell_type": "code",
   "execution_count": null,
   "id": "b829c475-3e19-4880-98fb-3fddc3a21491",
   "metadata": {},
   "outputs": [],
   "source": [
    "rabi = NormalisedRabi(dut_qubit=dut,step=0.01,stop=0.5, amp=0.19905818643939352,update=True)"
   ]
  },
  {
   "cell_type": "markdown",
   "id": "a70984a3-2a1a-4f07-923d-9b630c8039e8",
   "metadata": {},
   "source": [
    "### Calibrate single qubit gate frequency then amplitute again"
   ]
  },
  {
   "cell_type": "code",
   "execution_count": null,
   "id": "08e459fe-4c93-45d3-8878-02af1f80f9c1",
   "metadata": {},
   "outputs": [],
   "source": [
    "# Ramsey\n",
    "ramsey = SimpleRamseyMultilevel(qubit=dut,set_offset=10,stop=0.3,step=0.005)\n",
    "ramsey = SimpleRamseyMultilevel(qubit=dut,set_offset=1,stop=3,step=0.05)\n",
    "ramsey = SimpleRamseyMultilevel(qubit=dut,set_offset=0.1,stop=30,step=0.5)\n",
    "    \n",
    "# Rabi\n",
    "rabi = NormalisedRabi(dut_qubit=dut,step=0.01,stop=0.5, amp=0.19905818643939352,update=True)"
   ]
  },
  {
   "cell_type": "markdown",
   "id": "aa0fa3ea-dbb0-435f-b3da-41093a0d3e8f",
   "metadata": {},
   "source": [
    "### Find optimal readout frequency and amplitute"
   ]
  },
  {
   "cell_type": "code",
   "execution_count": null,
   "id": "505a2f52-03e2-4974-b2a8-67d9408650d2",
   "metadata": {
    "scrolled": true
   },
   "outputs": [],
   "source": [
    "dut  =duts_dict['Q1']\n",
    "\n",
    "lpb_scan = (dut.get_c1('f01')['I'], dut.get_c1('f01')['X'])\n",
    "\n",
    "center = 9997.4\n",
    "\n",
    "MeasurementScanParams(\n",
    "    dut = duts_dict['Q1'],\n",
    "    sweep_lpb_list = lpb_scan,\n",
    "    mprim_index = 0,\n",
    "    amp_scan = {\n",
    "        'start':0.001,\n",
    "        'stop':0.05,\n",
    "        'step':0.005\n",
    "    },\n",
    "    freq_scan = {\n",
    "    'start':center-1,\n",
    "    'stop':center+0.5,\n",
    "    'step' : 0.2,\n",
    "    }\n",
    ")\n",
    "\n",
    "MeasurementScanParams(\n",
    "    dut = duts_dict['Q1'],\n",
    "    sweep_lpb_list = lpb_scan,\n",
    "    mprim_index = 0,\n",
    "    amp_scan = None,\n",
    "    freq_scan = {\n",
    "    'start':center-1,\n",
    "    'stop':center+0.5,\n",
    "    'step' : 0.2,\n",
    "    }\n",
    ")\n",
    "\n",
    "\n",
    "MeasurementScanParams(\n",
    "    dut = duts_dict['Q1'],\n",
    "    sweep_lpb_list = lpb_scan,\n",
    "    mprim_index = 0,\n",
    "    amp_scan = {\n",
    "        'start':0.001,\n",
    "        'stop':0.08,\n",
    "        'step':0.005\n",
    "    },\n",
    "    freq_scan = None\n",
    ")"
   ]
  },
  {
   "cell_type": "markdown",
   "id": "a79186ac-1c5b-4014-8341-4422d71f6fda",
   "metadata": {},
   "source": [
    "### Update parameter manually and implement measurement calibration again"
   ]
  },
  {
   "cell_type": "code",
   "execution_count": null,
   "id": "df0abd68-f1e2-46fe-9526-12a1a82c418b",
   "metadata": {},
   "outputs": [],
   "source": [
    "dut = duts_dict['Q1']                                # device under test (qubit and resonator pair)\n",
    "mprim = dut.get_measurement_prim_intlist(0)          # resonator measurement params\n",
    "c1 = dut.get_c1('f01')                               # qubit pulse collection\n",
    "\n",
    "c1['X'].update_freq(4888.205889560021)\n",
    "\n",
    "c1['X'].update_pulse_args(amp=0.19905818643939352, width=0.05)\n",
    "\n",
    "mprim.update_freq(9997.4)                     # from resonator spectroscopy  \n",
    "mprim.update_pulse_args(amp=0.05, width=8)                   \n",
    "\n",
    "lpb_scan = (dut.get_c1('f01')['I'], dut.get_c1('f01')['X'])\n",
    "\n",
    "calib = MeasurementCalibrationMultilevelGMM(dut, mprim_index=0,sweep_lpb_list=lpb_scan)"
   ]
  },
  {
   "cell_type": "markdown",
   "id": "5ac5f573-b2e3-4f14-8f07-022c6c490bd2",
   "metadata": {},
   "source": [
    "### Tune up again with the optimal readout parameters"
   ]
  },
  {
   "cell_type": "code",
   "execution_count": null,
   "id": "36ab23e8-fb2f-46b8-8f28-43deae837eb3",
   "metadata": {},
   "outputs": [],
   "source": [
    "# Ramsey\n",
    "ramsey = SimpleRamseyMultilevel(qubit=dut,set_offset=10,stop=0.3,step=0.005)\n",
    "ramsey = SimpleRamseyMultilevel(qubit=dut,set_offset=1,stop=3,step=0.05)\n",
    "ramsey = SimpleRamseyMultilevel(qubit=dut,set_offset=0.1,stop=30,step=0.5)\n",
    "    \n",
    "# Rabi\n",
    "rabi = NormalisedRabi(dut_qubit=dut,step=0.01,stop=0.5, amp=0.19905818643939352,update=True)\n",
    "    \n",
    "# pingpong\n",
    "setup().status().set_param('Engine_Batch_Size',1)\n",
    "pingpong = AmpTuneUpSingleQubitMultilevel(\n",
    "        dut = dut\n",
    "    )\n",
    "    \n",
    "# Drag\n",
    "drag = CrossAllXYDragMultiRunSingleQubitMultilevel(\n",
    "        dut = dut\n",
    "    )"
   ]
  },
  {
   "cell_type": "code",
   "execution_count": null,
   "id": "5e6776c6-19ee-4839-ae6d-bdef908492b6",
   "metadata": {},
   "outputs": [],
   "source": [
    "duts_dict['Q1'].save_calibration_log()"
   ]
  },
  {
   "cell_type": "markdown",
   "id": "dde84e67-f09f-4741-a5fc-2af8af15aab8",
   "metadata": {},
   "source": [
    "### Run randomized benchmarking"
   ]
  },
  {
   "cell_type": "code",
   "execution_count": null,
   "id": "adf922ad-74e7-4f81-95a8-58aee903fc66",
   "metadata": {},
   "outputs": [],
   "source": [
    "rb_q1 = RandomizedBenchmarkingTwoLevelSubspaceMultilevelSystem(\n",
    "        dut_list=[duts_dict['Q1']],\n",
    "        kinds=10,\n",
    "        seq_length=np.arange(0, 1000, 64)\n",
    "    )"
   ]
  },
  {
   "cell_type": "markdown",
   "id": "0e35ed37-d518-4d6c-a13d-725d4e10ea6e",
   "metadata": {},
   "source": [
    "### Measure Xi shift"
   ]
  },
  {
   "cell_type": "code",
   "execution_count": null,
   "id": "5a962d51-b708-485a-b909-adf4e1804160",
   "metadata": {},
   "outputs": [],
   "source": [
    "c1 = duts_dict['Q1'].get_c1('f01')\n",
    "\n",
    "center = 9997.4\n",
    "\n",
    "ResonatorSweepTransmissionXiComparison(\n",
    "    dut_qubit = duts_dict['Q1'],\n",
    "    lpb_scan = (\n",
    "        c1['I'],\n",
    "        c1['X']\n",
    "    ),\n",
    "    start = center-10,\n",
    "    stop = center+10,\n",
    "    step = 0.05,\n",
    "    mp_width=8,\n",
    ")"
   ]
  },
  {
   "cell_type": "markdown",
   "id": "84689477-de85-49df-b03b-d01428d2b5d5",
   "metadata": {},
   "source": [
    "### Coherence (T1 T2 echo T2 ramsey)"
   ]
  },
  {
   "cell_type": "code",
   "execution_count": null,
   "id": "5f7b0487-d94c-4fac-a9f5-907e9a76f4e2",
   "metadata": {},
   "outputs": [],
   "source": [
    "SimpleT1(qubit=duts_dict['Q1'],time_length=300,time_resolution=5)\n",
    "SpinEchoMultiLevel(qubit=duts_dict['Q1'],free_evolution_time=300,time_resolution=5)\n",
    "ramsey = SimpleRamseyMultilevel(\n",
    "    qubit=duts_dict['Q1'],\n",
    "    stop=50,\n",
    "    step=0.25,\n",
    "    set_offset=0.2\n",
    ")"
   ]
  }
 ],
 "metadata": {
  "kernelspec": {
   "display_name": "Python 3 (ipykernel)",
   "language": "python",
   "name": "python3"
  },
  "language_info": {
   "codemirror_mode": {
    "name": "ipython",
    "version": 3
   },
   "file_extension": ".py",
   "mimetype": "text/x-python",
   "name": "python",
   "nbconvert_exporter": "python",
   "pygments_lexer": "ipython3",
   "version": "3.11.7"
  }
 },
 "nbformat": 4,
 "nbformat_minor": 5
}
