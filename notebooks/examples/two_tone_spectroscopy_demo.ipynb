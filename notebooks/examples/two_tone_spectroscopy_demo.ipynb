{
 "cells": [
  {
   "cell_type": "markdown",
   "metadata": {},
   "source": [
    "# Two-Tone Qubit Spectroscopy Demo\n",
    "\n",
    "This notebook demonstrates two-tone spectroscopy experiments which apply two frequency-swept tones simultaneously to probe:\n",
    "- Multi-photon transitions\n",
    "- Sideband effects  \n",
    "- Qubit-resonator coupling\n",
    "- AC Stark shifts"
   ]
  },
  {
   "cell_type": "markdown",
   "metadata": {},
   "source": [
    "## 1. Setup Simulation Environment"
   ]
  },
  {
   "cell_type": "code",
   "execution_count": null,
   "metadata": {},
   "outputs": [],
   "source": [
    "import numpy as np\n",
    "from leeq.experiments.experiments import ExperimentManager\n",
    "from leeq.experiments.builtin.basic.calibrations.two_tone_spectroscopy import TwoToneQubitSpectroscopy\n",
    "from leeq.core.elements.built_in.qudit_transmon import TransmonElement\n",
    "from leeq.setups.built_in.setup_simulation_high_level import HighLevelSimulationSetup\n",
    "from leeq.theory.simulation.numpy.rotated_frame_simulator import VirtualTransmon\n",
    "from leeq.chronicle import Chronicle\n",
    "\n",
    "# Start logging\n",
    "Chronicle().start_log()"
   ]
  },
  {
   "cell_type": "markdown",
   "metadata": {},
   "source": [
    "## 2. Configure Virtual Qubit and Setup"
   ]
  },
  {
   "cell_type": "code",
   "execution_count": null,
   "metadata": {},
   "outputs": [],
   "source": [
    "# Clear any existing setups\n",
    "manager = ExperimentManager()\n",
    "manager.clear_setups()\n",
    "\n",
    "# Create virtual transmon with realistic parameters\n",
    "virtual_transmon = VirtualTransmon(\n",
    "    name=\"TestQubit\",\n",
    "    qubit_frequency=5000.0,  # MHz\n",
    "    anharmonicity=-200.0,    # MHz\n",
    "    t1=50,                   # us\n",
    "    t2=25,                   # us\n",
    "    readout_frequency=9500.0, # MHz\n",
    "    quiescent_state_distribution=np.array([0.9, 0.08, 0.02, 0.0])\n",
    ")\n",
    "\n",
    "# For two-tone on different channels, we need a second virtual qubit\n",
    "virtual_transmon2 = VirtualTransmon(\n",
    "    name=\"TestQubit2\",\n",
    "    qubit_frequency=4800.0,  # Different frequency for f12 transition\n",
    "    anharmonicity=-200.0,\n",
    "    t1=50,\n",
    "    t2=25,\n",
    "    readout_frequency=9500.0,\n",
    "    quiescent_state_distribution=np.array([0.9, 0.08, 0.02, 0.0])\n",
    ")\n",
    "\n",
    "# Setup high-level simulation\n",
    "setup = HighLevelSimulationSetup(\n",
    "    name='TwoToneDemo',\n",
    "    virtual_qubits={\n",
    "        1: virtual_transmon,   # Channel 1 (f01)\n",
    "        2: virtual_transmon2,  # Channel 2 (f12)\n",
    "        3: virtual_transmon    # Channel 3 (readout)\n",
    "    }\n",
    ")\n",
    "\n",
    "# Optional: Set coupling between qubits\n",
    "setup.set_coupling_strength_by_qubit(virtual_transmon, virtual_transmon2, coupling_strength=2.0)\n",
    "\n",
    "manager.register_setup(setup)\n",
    "print(\"Setup registered successfully\")"
   ]
  },
  {
   "cell_type": "markdown",
   "metadata": {},
   "source": [
    "## 3. Configure Qubit Element"
   ]
  },
  {
   "cell_type": "code",
   "execution_count": null,
   "metadata": {},
   "outputs": [],
   "source": [
    "# Define qubit configuration\n",
    "qubit_config = {\n",
    "    'lpb_collections': {\n",
    "        'f01': {\n",
    "            'type': 'SimpleDriveCollection',\n",
    "            'freq': 5000.0,\n",
    "            'channel': 1,\n",
    "            'shape': 'blackman_drag',\n",
    "            'amp': 0.5,\n",
    "            'phase': 0.,\n",
    "            'width': 0.05,\n",
    "            'alpha': 500,\n",
    "            'trunc': 1.2\n",
    "        },\n",
    "        'f12': {\n",
    "            'type': 'SimpleDriveCollection',\n",
    "            'freq': 4800.0,  # f01 - anharmonicity\n",
    "            'channel': 2,\n",
    "            'shape': 'blackman_drag',\n",
    "            'amp': 0.1,\n",
    "            'phase': 0.,\n",
    "            'width': 0.025,\n",
    "            'alpha': 425,\n",
    "            'trunc': 1.2\n",
    "        }\n",
    "    },\n",
    "    'measurement_primitives': {\n",
    "        '0': {\n",
    "            'type': 'SimpleDispersiveMeasurement',\n",
    "            'freq': 9500.0,\n",
    "            'channel': 3,\n",
    "            'shape': 'square',\n",
    "            'amp': 0.15,\n",
    "            'phase': 0.,\n",
    "            'width': 1,\n",
    "            'trunc': 1.2,\n",
    "            'distinguishable_states': [0, 1]\n",
    "        }\n",
    "    }\n",
    "}\n",
    "\n",
    "# Create qubit element\n",
    "qubit = TransmonElement(name='Q1', parameters=qubit_config)\n",
    "print(f\"Created qubit element: {qubit.hrid}\")"
   ]
  },
  {
   "cell_type": "markdown",
   "metadata": {},
   "source": [
    "## 4. Two-Tone Spectroscopy - Different Channels\n",
    "\n",
    "First, we'll run two-tone spectroscopy with the two tones on different channels (f01 and f12 transitions)."
   ]
  },
  {
   "cell_type": "code",
   "execution_count": null,
   "metadata": {},
   "outputs": [],
   "source": [
    "# Run two-tone spectroscopy on different channels\n",
    "# Constructor automatically runs the experiment\n",
    "exp_different = TwoToneQubitSpectroscopy(\n",
    "    dut_qubit=qubit,\n",
    "    tone1_start=4950.0,\n",
    "    tone1_stop=5050.0,\n",
    "    tone1_step=5.0,\n",
    "    tone1_amp=0.1,\n",
    "    tone2_start=4750.0,\n",
    "    tone2_stop=4850.0,\n",
    "    tone2_step=5.0,\n",
    "    tone2_amp=0.1,\n",
    "    same_channel=False,  # Different channels\n",
    "    num_avs=1000,\n",
    "    mp_width=1.0\n",
    ")\n",
    "\n",
    "# Plots are displayed automatically when experiment finishes\n",
    "print(f\"Experiment completed. Data shape: {exp_different.result['Magnitude'].shape}\")"
   ]
  },
  {
   "cell_type": "markdown",
   "metadata": {},
   "source": [
    "## 5. Two-Tone Spectroscopy - Same Channel\n",
    "\n",
    "Now we'll run two-tone spectroscopy with both tones superimposed on the same channel."
   ]
  },
  {
   "cell_type": "code",
   "execution_count": null,
   "metadata": {},
   "outputs": [],
   "source": [
    "# Run two-tone spectroscopy on same channel\n",
    "exp_same = TwoToneQubitSpectroscopy(\n",
    "    dut_qubit=qubit,\n",
    "    tone1_start=4980.0,\n",
    "    tone1_stop=5020.0,\n",
    "    tone1_step=2.0,\n",
    "    tone1_amp=0.05,\n",
    "    tone2_start=5000.0,\n",
    "    tone2_stop=5040.0,\n",
    "    tone2_step=2.0,\n",
    "    tone2_amp=0.05,\n",
    "    same_channel=True,  # Same channel (superimposed)\n",
    "    num_avs=500\n",
    ")\n",
    "\n",
    "print(f\"Experiment completed. Data shape: {exp_same.result['Magnitude'].shape}\")"
   ]
  },
  {
   "cell_type": "markdown",
   "metadata": {},
   "source": [
    "## 6. Analysis: Peak Detection"
   ]
  },
  {
   "cell_type": "code",
   "execution_count": null,
   "metadata": {},
   "outputs": [],
   "source": [
    "# Find resonance peaks\n",
    "peaks_different = exp_different.find_peaks()\n",
    "peaks_same = exp_same.find_peaks()\n",
    "\n",
    "print(\"Different Channels Peak Detection:\")\n",
    "print(f\"  Tone 1 Peak: {peaks_different['peak_freq1']:.1f} MHz\")\n",
    "print(f\"  Tone 2 Peak: {peaks_different['peak_freq2']:.1f} MHz\")\n",
    "print(f\"  Peak Magnitude: {peaks_different['peak_magnitude']:.4f}\")\n",
    "\n",
    "print(\"\\nSame Channel Peak Detection:\")\n",
    "print(f\"  Tone 1 Peak: {peaks_same['peak_freq1']:.1f} MHz\")\n",
    "print(f\"  Tone 2 Peak: {peaks_same['peak_freq2']:.1f} MHz\")\n",
    "print(f\"  Peak Magnitude: {peaks_same['peak_magnitude']:.4f}\")"
   ]
  },
  {
   "cell_type": "markdown",
   "metadata": {},
   "source": [
    "## 7. Analysis: Cross-Sections\n",
    "\n",
    "Extract 1D cross-sections from the 2D data to examine specific frequency slices."
   ]
  },
  {
   "cell_type": "code",
   "execution_count": null,
   "metadata": {},
   "outputs": [],
   "source": [
    "import plotly.graph_objects as go\n",
    "\n",
    "# Get cross-sections at peak locations\n",
    "cross_freq1 = exp_different.get_cross_section(axis='freq1')\n",
    "cross_freq2 = exp_different.get_cross_section(axis='freq2')\n",
    "\n",
    "# Plot cross-sections\n",
    "fig = go.Figure()\n",
    "\n",
    "fig.add_trace(go.Scatter(\n",
    "    x=cross_freq1['frequencies'],\n",
    "    y=cross_freq1['magnitude'],\n",
    "    mode='lines+markers',\n",
    "    name=f\"Fixed Tone1={cross_freq1['slice_freq']:.1f} MHz\"\n",
    "))\n",
    "\n",
    "fig.add_trace(go.Scatter(\n",
    "    x=cross_freq2['frequencies'],\n",
    "    y=cross_freq2['magnitude'],\n",
    "    mode='lines+markers',\n",
    "    name=f\"Fixed Tone2={cross_freq2['slice_freq']:.1f} MHz\"\n",
    "))\n",
    "\n",
    "fig.update_layout(\n",
    "    title=\"Two-Tone Spectroscopy Cross-Sections\",\n",
    "    xaxis_title=\"Frequency (MHz)\",\n",
    "    yaxis_title=\"Magnitude\",\n",
    "    width=800,\n",
    "    height=400\n",
    ")\n",
    "\n",
    "fig.show()"
   ]
  },
  {
   "cell_type": "markdown",
   "metadata": {},
   "source": [
    "## 8. Phase Analysis\n",
    "\n",
    "The phase information can reveal additional physics such as dispersive shifts."
   ]
  },
  {
   "cell_type": "code",
   "execution_count": null,
   "metadata": {},
   "outputs": [],
   "source": [
    "# Calculate phase gradient to identify regions of strong interaction\n",
    "phase = exp_different.result['Phase']\n",
    "phase_gradient_x = np.gradient(phase, axis=0)\n",
    "phase_gradient_y = np.gradient(phase, axis=1)\n",
    "phase_gradient_mag = np.sqrt(phase_gradient_x**2 + phase_gradient_y**2)\n",
    "\n",
    "# Plot phase gradient magnitude\n",
    "fig = go.Figure(data=go.Heatmap(\n",
    "    x=exp_different.freq2_arr,\n",
    "    y=exp_different.freq1_arr,\n",
    "    z=phase_gradient_mag,\n",
    "    colorscale='Viridis',\n",
    "    colorbar=dict(title='Phase Gradient')\n",
    "))\n",
    "\n",
    "fig.update_layout(\n",
    "    title='Phase Gradient Magnitude - Identifies Strong Interactions',\n",
    "    xaxis_title='Tone 2 Frequency (MHz)',\n",
    "    yaxis_title='Tone 1 Frequency (MHz)',\n",
    "    width=800,\n",
    "    height=600\n",
    ")\n",
    "\n",
    "fig.show()\n",
    "\n",
    "# Find maximum phase gradient location\n",
    "max_grad_idx = np.unravel_index(np.argmax(phase_gradient_mag), phase_gradient_mag.shape)\n",
    "print(f\"Maximum phase gradient at:\")\n",
    "print(f\"  Tone 1: {exp_different.freq1_arr[max_grad_idx[0]]:.1f} MHz\")\n",
    "print(f\"  Tone 2: {exp_different.freq2_arr[max_grad_idx[1]]:.1f} MHz\")"
   ]
  },
  {
   "cell_type": "markdown",
   "metadata": {},
   "source": [
    "## 9. Power Dependence Study\n",
    "\n",
    "Study how the two-tone response changes with drive amplitude."
   ]
  },
  {
   "cell_type": "code",
   "execution_count": null,
   "metadata": {},
   "outputs": [],
   "source": [
    "# Run with different power combinations\n",
    "amplitudes = [0.05, 0.1, 0.2]\n",
    "results = []\n",
    "\n",
    "for amp in amplitudes:\n",
    "    exp = TwoToneQubitSpectroscopy(\n",
    "        dut_qubit=qubit,\n",
    "        tone1_start=4990.0,\n",
    "        tone1_stop=5010.0,\n",
    "        tone1_step=5.0,\n",
    "        tone1_amp=amp,\n",
    "        tone2_start=4790.0,\n",
    "        tone2_stop=4810.0,\n",
    "        tone2_step=5.0,\n",
    "        tone2_amp=amp,\n",
    "        same_channel=False,\n",
    "        num_avs=200\n",
    "    )\n",
    "    peaks = exp.find_peaks()\n",
    "    results.append({\n",
    "        'amp': amp,\n",
    "        'peak_mag': peaks['peak_magnitude'],\n",
    "        'freq1': peaks['peak_freq1'],\n",
    "        'freq2': peaks['peak_freq2']\n",
    "    })\n",
    "    print(f\"Amplitude {amp:.2f}: Peak magnitude = {peaks['peak_magnitude']:.4f}\")\n",
    "\n",
    "# Plot power dependence\n",
    "fig = go.Figure()\n",
    "fig.add_trace(go.Scatter(\n",
    "    x=[r['amp'] for r in results],\n",
    "    y=[r['peak_mag'] for r in results],\n",
    "    mode='lines+markers',\n",
    "    marker=dict(size=10),\n",
    "    name='Peak Response'\n",
    "))\n",
    "\n",
    "fig.update_layout(\n",
    "    title='Two-Tone Response vs Drive Amplitude',\n",
    "    xaxis_title='Drive Amplitude',\n",
    "    yaxis_title='Peak Magnitude',\n",
    "    width=600,\n",
    "    height=400\n",
    ")\n",
    "\n",
    "fig.show()"
   ]
  },
  {
   "cell_type": "markdown",
   "metadata": {},
   "source": [
    "## 10. Summary\n",
    "\n",
    "This notebook demonstrated:\n",
    "1. **Two-tone spectroscopy** with dual frequency sweeps\n",
    "2. **Different channel mode** - probing f01 and f12 transitions simultaneously\n",
    "3. **Same channel mode** - superimposing two tones on the same drive channel\n",
    "4. **Peak detection** - automatic identification of resonances\n",
    "5. **Cross-section analysis** - extracting 1D slices from 2D data\n",
    "6. **Phase gradient analysis** - identifying regions of strong interaction\n",
    "7. **Power dependence** - studying amplitude effects\n",
    "\n",
    "Key observations:\n",
    "- The experiment class handles both simulation and hardware modes automatically\n",
    "- Plots are generated automatically via the `@register_browser_function` decorator\n",
    "- The sweep engine efficiently handles 2D parameter sweeps\n",
    "- CWSpectroscopySimulator provides realistic multi-tone simulation including crosstalk"
   ]
  }
 ],
 "metadata": {
  "kernelspec": {
   "display_name": "Python 3",
   "language": "python",
   "name": "python3"
  },
  "language_info": {
   "codemirror_mode": {
    "name": "ipython",
    "version": 3
   },
   "file_extension": ".py",
   "mimetype": "text/x-python",
   "name": "python",
   "nbconvert_exporter": "python",
   "pygments_lexer": "ipython3",
   "version": "3.10.0"
  }
 },
 "nbformat": 4,
 "nbformat_minor": 4
}