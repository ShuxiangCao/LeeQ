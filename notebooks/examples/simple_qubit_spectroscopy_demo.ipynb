{
 "cells": [
  {
   "cell_type": "markdown",
   "metadata": {},
   "source": [
    "# Simple Qubit Spectroscopy Demo\n",
    "\n",
    "This notebook demonstrates four essential spectroscopy experiments:\n",
    "1. Resonator Spectroscopy\n",
    "2. Single-tone Frequency Spectroscopy\n",
    "3. Amplitude-Frequency 2D Spectroscopy\n",
    "4. Two-tone Spectroscopy"
   ]
  },
  {
   "cell_type": "code",
   "execution_count": 1,
   "metadata": {},
   "outputs": [
    {
     "name": "stderr",
     "output_type": "stream",
     "text": [
      "[2025-08-24 14:41:39] [INFO] [leeq.chronicle.chronicle] Log started at log/coxious/2025-08/2025-08-24/14.41.39\n"
     ]
    }
   ],
   "source": [
    "import numpy as np\n",
    "\n",
    "from leeq.experiments.experiments import ExperimentManager\n",
    "from leeq.experiments.builtin.basic.calibrations.qubit_spectroscopy import (\n",
    "    QubitSpectroscopyFrequency,\n",
    "    QubitSpectroscopyAmplitudeFrequency\n",
    ")\n",
    "from leeq.experiments.builtin.basic.calibrations.two_tone_spectroscopy import TwoToneQubitSpectroscopy\n",
    "from leeq.experiments.builtin.basic.calibrations.resonator_spectroscopy import (\n",
    "    ResonatorSweepTransmissionWithExtraInitialLPB\n",
    ")\n",
    "from leeq.core.elements.built_in.qudit_transmon import TransmonElement\n",
    "from leeq.setups.built_in.setup_simulation_high_level import HighLevelSimulationSetup\n",
    "from leeq.theory.simulation.numpy.rotated_frame_simulator import VirtualTransmon\n",
    "from leeq.chronicle import Chronicle\n",
    "\n",
    "Chronicle().start_log()"
   ]
  },
  {
   "cell_type": "code",
   "execution_count": 2,
   "metadata": {},
   "outputs": [],
   "source": [
    "# Setup\n",
    "manager = ExperimentManager()\n",
    "manager.clear_setups()\n",
    "\n",
    "virtual_transmon = VirtualTransmon(\n",
    "    name=\"VQubit1\",\n",
    "    qubit_frequency=5000.0,\n",
    "    anharmonicity=-200.0,\n",
    "    t1=50,\n",
    "    t2=25,\n",
    "    readout_frequency=9500.0,\n",
    "    quiescent_state_distribution=np.array([0.9, 0.08, 0.02, 0.0])\n",
    ")\n",
    "\n",
    "setup = HighLevelSimulationSetup(\n",
    "    name='SimpleSpectroscopyDemo',\n",
    "    virtual_qubits={1: virtual_transmon}\n",
    ")\n",
    "\n",
    "manager.register_setup(setup)"
   ]
  },
  {
   "cell_type": "code",
   "execution_count": 3,
   "metadata": {},
   "outputs": [],
   "source": [
    "# Qubit configuration\n",
    "qubit_config = {\n",
    "    'lpb_collections': {\n",
    "        'f01': {\n",
    "            'type': 'SimpleDriveCollection',\n",
    "            'freq': 5000.0,\n",
    "            'channel': 1,\n",
    "            'shape': 'blackman_drag',\n",
    "            'amp': 0.5,\n",
    "            'phase': 0.,\n",
    "            'width': 0.05,\n",
    "            'alpha': 500,\n",
    "            'trunc': 1.2\n",
    "        }\n",
    "    },\n",
    "    'measurement_primitives': {\n",
    "        '0': {\n",
    "            'type': 'SimpleDispersiveMeasurement',\n",
    "            'freq': 9500.0,\n",
    "            'channel': 1,\n",
    "            'shape': 'square',\n",
    "            'amp': 0.15,\n",
    "            'phase': 0.,\n",
    "            'width': 1,\n",
    "            'trunc': 1.2,\n",
    "            'distinguishable_states': [0, 1]\n",
    "        }\n",
    "    }\n",
    "}\n",
    "\n",
    "qubit = TransmonElement(name='Q1', parameters=qubit_config)"
   ]
  },
  {
   "cell_type": "code",
   "execution_count": 4,
   "metadata": {},
   "outputs": [
    {
     "data": {
      "application/vnd.plotly.v1+json": {
       "config": {
        "plotlyServerURL": "https://plot.ly"
       },
       "data": [
        {
         "mode": "lines",
         "name": "Magnitude",
         "type": "scatter",
         "x": {
          "bdata": "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",
          "dtype": "f8"
         },
         "y": {
          "bdata": "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",
          "dtype": "f8"
         }
        }
       ],
       "layout": {
        "plot_bgcolor": "white",
        "template": {
         "data": {
          "bar": [
           {
            "error_x": {
             "color": "#2a3f5f"
            },
            "error_y": {
             "color": "#2a3f5f"
            },
            "marker": {
             "line": {
              "color": "#E5ECF6",
              "width": 0.5
             },
             "pattern": {
              "fillmode": "overlay",
              "size": 10,
              "solidity": 0.2
             }
            },
            "type": "bar"
           }
          ],
          "barpolar": [
           {
            "marker": {
             "line": {
              "color": "#E5ECF6",
              "width": 0.5
             },
             "pattern": {
              "fillmode": "overlay",
              "size": 10,
              "solidity": 0.2
             }
            },
            "type": "barpolar"
           }
          ],
          "carpet": [
           {
            "aaxis": {
             "endlinecolor": "#2a3f5f",
             "gridcolor": "white",
             "linecolor": "white",
             "minorgridcolor": "white",
             "startlinecolor": "#2a3f5f"
            },
            "baxis": {
             "endlinecolor": "#2a3f5f",
             "gridcolor": "white",
             "linecolor": "white",
             "minorgridcolor": "white",
             "startlinecolor": "#2a3f5f"
            },
            "type": "carpet"
           }
          ],
          "choropleth": [
           {
            "colorbar": {
             "outlinewidth": 0,
             "ticks": ""
            },
            "type": "choropleth"
           }
          ],
          "contour": [
           {
            "colorbar": {
             "outlinewidth": 0,
             "ticks": ""
            },
            "colorscale": [
             [
              0,
              "#0d0887"
             ],
             [
              0.1111111111111111,
              "#46039f"
             ],
             [
              0.2222222222222222,
              "#7201a8"
             ],
             [
              0.3333333333333333,
              "#9c179e"
             ],
             [
              0.4444444444444444,
              "#bd3786"
             ],
             [
              0.5555555555555556,
              "#d8576b"
             ],
             [
              0.6666666666666666,
              "#ed7953"
             ],
             [
              0.7777777777777778,
              "#fb9f3a"
             ],
             [
              0.8888888888888888,
              "#fdca26"
             ],
             [
              1,
              "#f0f921"
             ]
            ],
            "type": "contour"
           }
          ],
          "contourcarpet": [
           {
            "colorbar": {
             "outlinewidth": 0,
             "ticks": ""
            },
            "type": "contourcarpet"
           }
          ],
          "heatmap": [
           {
            "colorbar": {
             "outlinewidth": 0,
             "ticks": ""
            },
            "colorscale": [
             [
              0,
              "#0d0887"
             ],
             [
              0.1111111111111111,
              "#46039f"
             ],
             [
              0.2222222222222222,
              "#7201a8"
             ],
             [
              0.3333333333333333,
              "#9c179e"
             ],
             [
              0.4444444444444444,
              "#bd3786"
             ],
             [
              0.5555555555555556,
              "#d8576b"
             ],
             [
              0.6666666666666666,
              "#ed7953"
             ],
             [
              0.7777777777777778,
              "#fb9f3a"
             ],
             [
              0.8888888888888888,
              "#fdca26"
             ],
             [
              1,
              "#f0f921"
             ]
            ],
            "type": "heatmap"
           }
          ],
          "histogram": [
           {
            "marker": {
             "pattern": {
              "fillmode": "overlay",
              "size": 10,
              "solidity": 0.2
             }
            },
            "type": "histogram"
           }
          ],
          "histogram2d": [
           {
            "colorbar": {
             "outlinewidth": 0,
             "ticks": ""
            },
            "colorscale": [
             [
              0,
              "#0d0887"
             ],
             [
              0.1111111111111111,
              "#46039f"
             ],
             [
              0.2222222222222222,
              "#7201a8"
             ],
             [
              0.3333333333333333,
              "#9c179e"
             ],
             [
              0.4444444444444444,
              "#bd3786"
             ],
             [
              0.5555555555555556,
              "#d8576b"
             ],
             [
              0.6666666666666666,
              "#ed7953"
             ],
             [
              0.7777777777777778,
              "#fb9f3a"
             ],
             [
              0.8888888888888888,
              "#fdca26"
             ],
             [
              1,
              "#f0f921"
             ]
            ],
            "type": "histogram2d"
           }
          ],
          "histogram2dcontour": [
           {
            "colorbar": {
             "outlinewidth": 0,
             "ticks": ""
            },
            "colorscale": [
             [
              0,
              "#0d0887"
             ],
             [
              0.1111111111111111,
              "#46039f"
             ],
             [
              0.2222222222222222,
              "#7201a8"
             ],
             [
              0.3333333333333333,
              "#9c179e"
             ],
             [
              0.4444444444444444,
              "#bd3786"
             ],
             [
              0.5555555555555556,
              "#d8576b"
             ],
             [
              0.6666666666666666,
              "#ed7953"
             ],
             [
              0.7777777777777778,
              "#fb9f3a"
             ],
             [
              0.8888888888888888,
              "#fdca26"
             ],
             [
              1,
              "#f0f921"
             ]
            ],
            "type": "histogram2dcontour"
           }
          ],
          "mesh3d": [
           {
            "colorbar": {
             "outlinewidth": 0,
             "ticks": ""
            },
            "type": "mesh3d"
           }
          ],
          "parcoords": [
           {
            "line": {
             "colorbar": {
              "outlinewidth": 0,
              "ticks": ""
             }
            },
            "type": "parcoords"
           }
          ],
          "pie": [
           {
            "automargin": true,
            "type": "pie"
           }
          ],
          "scatter": [
           {
            "fillpattern": {
             "fillmode": "overlay",
             "size": 10,
             "solidity": 0.2
            },
            "type": "scatter"
           }
          ],
          "scatter3d": [
           {
            "line": {
             "colorbar": {
              "outlinewidth": 0,
              "ticks": ""
             }
            },
            "marker": {
             "colorbar": {
              "outlinewidth": 0,
              "ticks": ""
             }
            },
            "type": "scatter3d"
           }
          ],
          "scattercarpet": [
           {
            "marker": {
             "colorbar": {
              "outlinewidth": 0,
              "ticks": ""
             }
            },
            "type": "scattercarpet"
           }
          ],
          "scattergeo": [
           {
            "marker": {
             "colorbar": {
              "outlinewidth": 0,
              "ticks": ""
             }
            },
            "type": "scattergeo"
           }
          ],
          "scattergl": [
           {
            "marker": {
             "colorbar": {
              "outlinewidth": 0,
              "ticks": ""
             }
            },
            "type": "scattergl"
           }
          ],
          "scattermap": [
           {
            "marker": {
             "colorbar": {
              "outlinewidth": 0,
              "ticks": ""
             }
            },
            "type": "scattermap"
           }
          ],
          "scattermapbox": [
           {
            "marker": {
             "colorbar": {
              "outlinewidth": 0,
              "ticks": ""
             }
            },
            "type": "scattermapbox"
           }
          ],
          "scatterpolar": [
           {
            "marker": {
             "colorbar": {
              "outlinewidth": 0,
              "ticks": ""
             }
            },
            "type": "scatterpolar"
           }
          ],
          "scatterpolargl": [
           {
            "marker": {
             "colorbar": {
              "outlinewidth": 0,
              "ticks": ""
             }
            },
            "type": "scatterpolargl"
           }
          ],
          "scatterternary": [
           {
            "marker": {
             "colorbar": {
              "outlinewidth": 0,
              "ticks": ""
             }
            },
            "type": "scatterternary"
           }
          ],
          "surface": [
           {
            "colorbar": {
             "outlinewidth": 0,
             "ticks": ""
            },
            "colorscale": [
             [
              0,
              "#0d0887"
             ],
             [
              0.1111111111111111,
              "#46039f"
             ],
             [
              0.2222222222222222,
              "#7201a8"
             ],
             [
              0.3333333333333333,
              "#9c179e"
             ],
             [
              0.4444444444444444,
              "#bd3786"
             ],
             [
              0.5555555555555556,
              "#d8576b"
             ],
             [
              0.6666666666666666,
              "#ed7953"
             ],
             [
              0.7777777777777778,
              "#fb9f3a"
             ],
             [
              0.8888888888888888,
              "#fdca26"
             ],
             [
              1,
              "#f0f921"
             ]
            ],
            "type": "surface"
           }
          ],
          "table": [
           {
            "cells": {
             "fill": {
              "color": "#EBF0F8"
             },
             "line": {
              "color": "white"
             }
            },
            "header": {
             "fill": {
              "color": "#C8D4E3"
             },
             "line": {
              "color": "white"
             }
            },
            "type": "table"
           }
          ]
         },
         "layout": {
          "annotationdefaults": {
           "arrowcolor": "#2a3f5f",
           "arrowhead": 0,
           "arrowwidth": 1
          },
          "autotypenumbers": "strict",
          "coloraxis": {
           "colorbar": {
            "outlinewidth": 0,
            "ticks": ""
           }
          },
          "colorscale": {
           "diverging": [
            [
             0,
             "#8e0152"
            ],
            [
             0.1,
             "#c51b7d"
            ],
            [
             0.2,
             "#de77ae"
            ],
            [
             0.3,
             "#f1b6da"
            ],
            [
             0.4,
             "#fde0ef"
            ],
            [
             0.5,
             "#f7f7f7"
            ],
            [
             0.6,
             "#e6f5d0"
            ],
            [
             0.7,
             "#b8e186"
            ],
            [
             0.8,
             "#7fbc41"
            ],
            [
             0.9,
             "#4d9221"
            ],
            [
             1,
             "#276419"
            ]
           ],
           "sequential": [
            [
             0,
             "#0d0887"
            ],
            [
             0.1111111111111111,
             "#46039f"
            ],
            [
             0.2222222222222222,
             "#7201a8"
            ],
            [
             0.3333333333333333,
             "#9c179e"
            ],
            [
             0.4444444444444444,
             "#bd3786"
            ],
            [
             0.5555555555555556,
             "#d8576b"
            ],
            [
             0.6666666666666666,
             "#ed7953"
            ],
            [
             0.7777777777777778,
             "#fb9f3a"
            ],
            [
             0.8888888888888888,
             "#fdca26"
            ],
            [
             1,
             "#f0f921"
            ]
           ],
           "sequentialminus": [
            [
             0,
             "#0d0887"
            ],
            [
             0.1111111111111111,
             "#46039f"
            ],
            [
             0.2222222222222222,
             "#7201a8"
            ],
            [
             0.3333333333333333,
             "#9c179e"
            ],
            [
             0.4444444444444444,
             "#bd3786"
            ],
            [
             0.5555555555555556,
             "#d8576b"
            ],
            [
             0.6666666666666666,
             "#ed7953"
            ],
            [
             0.7777777777777778,
             "#fb9f3a"
            ],
            [
             0.8888888888888888,
             "#fdca26"
            ],
            [
             1,
             "#f0f921"
            ]
           ]
          },
          "colorway": [
           "#636efa",
           "#EF553B",
           "#00cc96",
           "#ab63fa",
           "#FFA15A",
           "#19d3f3",
           "#FF6692",
           "#B6E880",
           "#FF97FF",
           "#FECB52"
          ],
          "font": {
           "color": "#2a3f5f"
          },
          "geo": {
           "bgcolor": "white",
           "lakecolor": "white",
           "landcolor": "#E5ECF6",
           "showlakes": true,
           "showland": true,
           "subunitcolor": "white"
          },
          "hoverlabel": {
           "align": "left"
          },
          "hovermode": "closest",
          "mapbox": {
           "style": "light"
          },
          "paper_bgcolor": "white",
          "plot_bgcolor": "#E5ECF6",
          "polar": {
           "angularaxis": {
            "gridcolor": "white",
            "linecolor": "white",
            "ticks": ""
           },
           "bgcolor": "#E5ECF6",
           "radialaxis": {
            "gridcolor": "white",
            "linecolor": "white",
            "ticks": ""
           }
          },
          "scene": {
           "xaxis": {
            "backgroundcolor": "#E5ECF6",
            "gridcolor": "white",
            "gridwidth": 2,
            "linecolor": "white",
            "showbackground": true,
            "ticks": "",
            "zerolinecolor": "white"
           },
           "yaxis": {
            "backgroundcolor": "#E5ECF6",
            "gridcolor": "white",
            "gridwidth": 2,
            "linecolor": "white",
            "showbackground": true,
            "ticks": "",
            "zerolinecolor": "white"
           },
           "zaxis": {
            "backgroundcolor": "#E5ECF6",
            "gridcolor": "white",
            "gridwidth": 2,
            "linecolor": "white",
            "showbackground": true,
            "ticks": "",
            "zerolinecolor": "white"
           }
          },
          "shapedefaults": {
           "line": {
            "color": "#2a3f5f"
           }
          },
          "ternary": {
           "aaxis": {
            "gridcolor": "white",
            "linecolor": "white",
            "ticks": ""
           },
           "baxis": {
            "gridcolor": "white",
            "linecolor": "white",
            "ticks": ""
           },
           "bgcolor": "#E5ECF6",
           "caxis": {
            "gridcolor": "white",
            "linecolor": "white",
            "ticks": ""
           }
          },
          "title": {
           "x": 0.05
          },
          "xaxis": {
           "automargin": true,
           "gridcolor": "white",
           "linecolor": "white",
           "ticks": "",
           "title": {
            "standoff": 15
           },
           "zerolinecolor": "white",
           "zerolinewidth": 2
          },
          "yaxis": {
           "automargin": true,
           "gridcolor": "white",
           "linecolor": "white",
           "ticks": "",
           "title": {
            "standoff": 15
           },
           "zerolinecolor": "white",
           "zerolinewidth": 2
          }
         }
        },
        "title": {
         "text": "Resonator spectroscopy magnitude"
        },
        "xaxis": {
         "title": {
          "text": "Frequency [MHz]"
         }
        },
        "yaxis": {
         "title": {
          "text": "Magnitude"
         }
        }
       }
      },
      "image/png": "[encoded data removed]"
     },
     "metadata": {},
     "output_type": "display_data"
    },
    {
     "data": {
      "application/vnd.plotly.v1+json": {
       "config": {
        "plotlyServerURL": "https://plot.ly"
       },
       "data": [
        {
         "line": {
          "width": 2
         },
         "mode": "lines",
         "name": "Magnitude",
         "type": "scatter",
         "x": {
          "bdata": "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",
          "dtype": "f8"
         },
         "y": {
          "bdata": "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",
          "dtype": "f8"
         }
        }
       ],
       "layout": {
        "plot_bgcolor": "white",
        "template": {
         "data": {
          "bar": [
           {
            "error_x": {
             "color": "#2a3f5f"
            },
            "error_y": {
             "color": "#2a3f5f"
            },
            "marker": {
             "line": {
              "color": "#E5ECF6",
              "width": 0.5
             },
             "pattern": {
              "fillmode": "overlay",
              "size": 10,
              "solidity": 0.2
             }
            },
            "type": "bar"
           }
          ],
          "barpolar": [
           {
            "marker": {
             "line": {
              "color": "#E5ECF6",
              "width": 0.5
             },
             "pattern": {
              "fillmode": "overlay",
              "size": 10,
              "solidity": 0.2
             }
            },
            "type": "barpolar"
           }
          ],
          "carpet": [
           {
            "aaxis": {
             "endlinecolor": "#2a3f5f",
             "gridcolor": "white",
             "linecolor": "white",
             "minorgridcolor": "white",
             "startlinecolor": "#2a3f5f"
            },
            "baxis": {
             "endlinecolor": "#2a3f5f",
             "gridcolor": "white",
             "linecolor": "white",
             "minorgridcolor": "white",
             "startlinecolor": "#2a3f5f"
            },
            "type": "carpet"
           }
          ],
          "choropleth": [
           {
            "colorbar": {
             "outlinewidth": 0,
             "ticks": ""
            },
            "type": "choropleth"
           }
          ],
          "contour": [
           {
            "colorbar": {
             "outlinewidth": 0,
             "ticks": ""
            },
            "colorscale": [
             [
              0,
              "#0d0887"
             ],
             [
              0.1111111111111111,
              "#46039f"
             ],
             [
              0.2222222222222222,
              "#7201a8"
             ],
             [
              0.3333333333333333,
              "#9c179e"
             ],
             [
              0.4444444444444444,
              "#bd3786"
             ],
             [
              0.5555555555555556,
              "#d8576b"
             ],
             [
              0.6666666666666666,
              "#ed7953"
             ],
             [
              0.7777777777777778,
              "#fb9f3a"
             ],
             [
              0.8888888888888888,
              "#fdca26"
             ],
             [
              1,
              "#f0f921"
             ]
            ],
            "type": "contour"
           }
          ],
          "contourcarpet": [
           {
            "colorbar": {
             "outlinewidth": 0,
             "ticks": ""
            },
            "type": "contourcarpet"
           }
          ],
          "heatmap": [
           {
            "colorbar": {
             "outlinewidth": 0,
             "ticks": ""
            },
            "colorscale": [
             [
              0,
              "#0d0887"
             ],
             [
              0.1111111111111111,
              "#46039f"
             ],
             [
              0.2222222222222222,
              "#7201a8"
             ],
             [
              0.3333333333333333,
              "#9c179e"
             ],
             [
              0.4444444444444444,
              "#bd3786"
             ],
             [
              0.5555555555555556,
              "#d8576b"
             ],
             [
              0.6666666666666666,
              "#ed7953"
             ],
             [
              0.7777777777777778,
              "#fb9f3a"
             ],
             [
              0.8888888888888888,
              "#fdca26"
             ],
             [
              1,
              "#f0f921"
             ]
            ],
            "type": "heatmap"
           }
          ],
          "histogram": [
           {
            "marker": {
             "pattern": {
              "fillmode": "overlay",
              "size": 10,
              "solidity": 0.2
             }
            },
            "type": "histogram"
           }
          ],
          "histogram2d": [
           {
            "colorbar": {
             "outlinewidth": 0,
             "ticks": ""
            },
            "colorscale": [
             [
              0,
              "#0d0887"
             ],
             [
              0.1111111111111111,
              "#46039f"
             ],
             [
              0.2222222222222222,
              "#7201a8"
             ],
             [
              0.3333333333333333,
              "#9c179e"
             ],
             [
              0.4444444444444444,
              "#bd3786"
             ],
             [
              0.5555555555555556,
              "#d8576b"
             ],
             [
              0.6666666666666666,
              "#ed7953"
             ],
             [
              0.7777777777777778,
              "#fb9f3a"
             ],
             [
              0.8888888888888888,
              "#fdca26"
             ],
             [
              1,
              "#f0f921"
             ]
            ],
            "type": "histogram2d"
           }
          ],
          "histogram2dcontour": [
           {
            "colorbar": {
             "outlinewidth": 0,
             "ticks": ""
            },
            "colorscale": [
             [
              0,
              "#0d0887"
             ],
             [
              0.1111111111111111,
              "#46039f"
             ],
             [
              0.2222222222222222,
              "#7201a8"
             ],
             [
              0.3333333333333333,
              "#9c179e"
             ],
             [
              0.4444444444444444,
              "#bd3786"
             ],
             [
              0.5555555555555556,
              "#d8576b"
             ],
             [
              0.6666666666666666,
              "#ed7953"
             ],
             [
              0.7777777777777778,
              "#fb9f3a"
             ],
             [
              0.8888888888888888,
              "#fdca26"
             ],
             [
              1,
              "#f0f921"
             ]
            ],
            "type": "histogram2dcontour"
           }
          ],
          "mesh3d": [
           {
            "colorbar": {
             "outlinewidth": 0,
             "ticks": ""
            },
            "type": "mesh3d"
           }
          ],
          "parcoords": [
           {
            "line": {
             "colorbar": {
              "outlinewidth": 0,
              "ticks": ""
             }
            },
            "type": "parcoords"
           }
          ],
          "pie": [
           {
            "automargin": true,
            "type": "pie"
           }
          ],
          "scatter": [
           {
            "fillpattern": {
             "fillmode": "overlay",
             "size": 10,
             "solidity": 0.2
            },
            "type": "scatter"
           }
          ],
          "scatter3d": [
           {
            "line": {
             "colorbar": {
              "outlinewidth": 0,
              "ticks": ""
             }
            },
            "marker": {
             "colorbar": {
              "outlinewidth": 0,
              "ticks": ""
             }
            },
            "type": "scatter3d"
           }
          ],
          "scattercarpet": [
           {
            "marker": {
             "colorbar": {
              "outlinewidth": 0,
              "ticks": ""
             }
            },
            "type": "scattercarpet"
           }
          ],
          "scattergeo": [
           {
            "marker": {
             "colorbar": {
              "outlinewidth": 0,
              "ticks": ""
             }
            },
            "type": "scattergeo"
           }
          ],
          "scattergl": [
           {
            "marker": {
             "colorbar": {
              "outlinewidth": 0,
              "ticks": ""
             }
            },
            "type": "scattergl"
           }
          ],
          "scattermap": [
           {
            "marker": {
             "colorbar": {
              "outlinewidth": 0,
              "ticks": ""
             }
            },
            "type": "scattermap"
           }
          ],
          "scattermapbox": [
           {
            "marker": {
             "colorbar": {
              "outlinewidth": 0,
              "ticks": ""
             }
            },
            "type": "scattermapbox"
           }
          ],
          "scatterpolar": [
           {
            "marker": {
             "colorbar": {
              "outlinewidth": 0,
              "ticks": ""
             }
            },
            "type": "scatterpolar"
           }
          ],
          "scatterpolargl": [
           {
            "marker": {
             "colorbar": {
              "outlinewidth": 0,
              "ticks": ""
             }
            },
            "type": "scatterpolargl"
           }
          ],
          "scatterternary": [
           {
            "marker": {
             "colorbar": {
              "outlinewidth": 0,
              "ticks": ""
             }
            },
            "type": "scatterternary"
           }
          ],
          "surface": [
           {
            "colorbar": {
             "outlinewidth": 0,
             "ticks": ""
            },
            "colorscale": [
             [
              0,
              "#0d0887"
             ],
             [
              0.1111111111111111,
              "#46039f"
             ],
             [
              0.2222222222222222,
              "#7201a8"
             ],
             [
              0.3333333333333333,
              "#9c179e"
             ],
             [
              0.4444444444444444,
              "#bd3786"
             ],
             [
              0.5555555555555556,
              "#d8576b"
             ],
             [
              0.6666666666666666,
              "#ed7953"
             ],
             [
              0.7777777777777778,
              "#fb9f3a"
             ],
             [
              0.8888888888888888,
              "#fdca26"
             ],
             [
              1,
              "#f0f921"
             ]
            ],
            "type": "surface"
           }
          ],
          "table": [
           {
            "cells": {
             "fill": {
              "color": "#EBF0F8"
             },
             "line": {
              "color": "white"
             }
            },
            "header": {
             "fill": {
              "color": "#C8D4E3"
             },
             "line": {
              "color": "white"
             }
            },
            "type": "table"
           }
          ]
         },
         "layout": {
          "annotationdefaults": {
           "arrowcolor": "#2a3f5f",
           "arrowhead": 0,
           "arrowwidth": 1
          },
          "autotypenumbers": "strict",
          "coloraxis": {
           "colorbar": {
            "outlinewidth": 0,
            "ticks": ""
           }
          },
          "colorscale": {
           "diverging": [
            [
             0,
             "#8e0152"
            ],
            [
             0.1,
             "#c51b7d"
            ],
            [
             0.2,
             "#de77ae"
            ],
            [
             0.3,
             "#f1b6da"
            ],
            [
             0.4,
             "#fde0ef"
            ],
            [
             0.5,
             "#f7f7f7"
            ],
            [
             0.6,
             "#e6f5d0"
            ],
            [
             0.7,
             "#b8e186"
            ],
            [
             0.8,
             "#7fbc41"
            ],
            [
             0.9,
             "#4d9221"
            ],
            [
             1,
             "#276419"
            ]
           ],
           "sequential": [
            [
             0,
             "#0d0887"
            ],
            [
             0.1111111111111111,
             "#46039f"
            ],
            [
             0.2222222222222222,
             "#7201a8"
            ],
            [
             0.3333333333333333,
             "#9c179e"
            ],
            [
             0.4444444444444444,
             "#bd3786"
            ],
            [
             0.5555555555555556,
             "#d8576b"
            ],
            [
             0.6666666666666666,
             "#ed7953"
            ],
            [
             0.7777777777777778,
             "#fb9f3a"
            ],
            [
             0.8888888888888888,
             "#fdca26"
            ],
            [
             1,
             "#f0f921"
            ]
           ],
           "sequentialminus": [
            [
             0,
             "#0d0887"
            ],
            [
             0.1111111111111111,
             "#46039f"
            ],
            [
             0.2222222222222222,
             "#7201a8"
            ],
            [
             0.3333333333333333,
             "#9c179e"
            ],
            [
             0.4444444444444444,
             "#bd3786"
            ],
            [
             0.5555555555555556,
             "#d8576b"
            ],
            [
             0.6666666666666666,
             "#ed7953"
            ],
            [
             0.7777777777777778,
             "#fb9f3a"
            ],
            [
             0.8888888888888888,
             "#fdca26"
            ],
            [
             1,
             "#f0f921"
            ]
           ]
          },
          "colorway": [
           "#636efa",
           "#EF553B",
           "#00cc96",
           "#ab63fa",
           "#FFA15A",
           "#19d3f3",
           "#FF6692",
           "#B6E880",
           "#FF97FF",
           "#FECB52"
          ],
          "font": {
           "color": "#2a3f5f"
          },
          "geo": {
           "bgcolor": "white",
           "lakecolor": "white",
           "landcolor": "#E5ECF6",
           "showlakes": true,
           "showland": true,
           "subunitcolor": "white"
          },
          "hoverlabel": {
           "align": "left"
          },
          "hovermode": "closest",
          "mapbox": {
           "style": "light"
          },
          "paper_bgcolor": "white",
          "plot_bgcolor": "#E5ECF6",
          "polar": {
           "angularaxis": {
            "gridcolor": "white",
            "linecolor": "white",
            "ticks": ""
           },
           "bgcolor": "#E5ECF6",
           "radialaxis": {
            "gridcolor": "white",
            "linecolor": "white",
            "ticks": ""
           }
          },
          "scene": {
           "xaxis": {
            "backgroundcolor": "#E5ECF6",
            "gridcolor": "white",
            "gridwidth": 2,
            "linecolor": "white",
            "showbackground": true,
            "ticks": "",
            "zerolinecolor": "white"
           },
           "yaxis": {
            "backgroundcolor": "#E5ECF6",
            "gridcolor": "white",
            "gridwidth": 2,
            "linecolor": "white",
            "showbackground": true,
            "ticks": "",
            "zerolinecolor": "white"
           },
           "zaxis": {
            "backgroundcolor": "#E5ECF6",
            "gridcolor": "white",
            "gridwidth": 2,
            "linecolor": "white",
            "showbackground": true,
            "ticks": "",
            "zerolinecolor": "white"
           }
          },
          "shapedefaults": {
           "line": {
            "color": "#2a3f5f"
           }
          },
          "ternary": {
           "aaxis": {
            "gridcolor": "white",
            "linecolor": "white",
            "ticks": ""
           },
           "baxis": {
            "gridcolor": "white",
            "linecolor": "white",
            "ticks": ""
           },
           "bgcolor": "#E5ECF6",
           "caxis": {
            "gridcolor": "white",
            "linecolor": "white",
            "ticks": ""
           }
          },
          "title": {
           "x": 0.05
          },
          "xaxis": {
           "automargin": true,
           "gridcolor": "white",
           "linecolor": "white",
           "ticks": "",
           "title": {
            "standoff": 15
           },
           "zerolinecolor": "white",
           "zerolinewidth": 2
          },
          "yaxis": {
           "automargin": true,
           "gridcolor": "white",
           "linecolor": "white",
           "ticks": "",
           "title": {
            "standoff": 15
           },
           "zerolinecolor": "white",
           "zerolinewidth": 2
          }
         }
        },
        "title": {
         "text": "Resonator spectroscopy magnitude"
        },
        "xaxis": {
         "title": {
          "text": "Frequency [MHz]"
         }
        },
        "yaxis": {
         "title": {
          "text": "Magnitude"
         }
        }
       }
      },
      "image/png": "[encoded data removed]"
     },
     "metadata": {},
     "output_type": "display_data"
    },
    {
     "data": {
      "application/vnd.plotly.v1+json": {
       "config": {
        "plotlyServerURL": "https://plot.ly"
       },
       "data": [
        {
         "mode": "lines",
         "name": "Phase",
         "type": "scatter",
         "x": {
          "bdata": "AAAAAACUwUAAAAAAgJbBQAAAAAAAmcFAAAAAAICbwUAAAAAAAJ7BQAAAAACAoMFAAAAAAACjwUAAAAAAgKXBQAAAAAAAqMFAAAAAAICqwUAAAAAAAK3BQAAAAACAr8FAAAAAAACywUAAAAAAgLTBQAAAAAAAt8FAAAAAAIC5wUAAAAAAALzBQAAAAACAvsFAAAAAAADBwUAAAAAAgMPBQAAAAAAAxsFAAAAAAIDIwUAAAAAAAMvBQAAAAACAzcFAAAAAAADQwUAAAAAAgNLBQAAAAAAA1cFAAAAAAIDXwUAAAAAAANrBQAAAAACA3MFAAAAAAADfwUAAAAAAgOHBQAAAAAAA5MFAAAAAAIDmwUAAAAAAAOnBQAAAAACA68FAAAAAAADuwUAAAAAAgPDBQAAAAAAA88FAAAAAAID1wUAAAAAAAPjBQAAAAACA+sFAAAAAAAD9wUAAAAAAgP/BQAAAAAAAAsJAAAAAAIAEwkAAAAAAAAfCQAAAAACACcJAAAAAAAAMwkAAAAAAgA7CQAAAAAAAEcJAAAAAAIATwkAAAAAAABbCQAAAAACAGMJAAAAAAAAbwkAAAAAAgB3CQAAAAAAAIMJAAAAAAIAiwkAAAAAAACXCQAAAAACAJ8JAAAAAAAAqwkAAAAAAgCzCQAAAAAAAL8JAAAAAAIAxwkAAAAAAADTCQAAAAACANsJAAAAAAAA5wkAAAAAAgDvCQAAAAAAAPsJAAAAAAIBAwkAAAAAAAEPCQAAAAACARcJAAAAAAABIwkAAAAAAgErCQAAAAAAATcJAAAAAAIBPwkAAAAAAAFLCQAAAAACAVMJAAAAAAABXwkAAAAAAgFnCQAAAAAAAXMJAAAAAAIBewkAAAAAAAGHCQAAAAACAY8JAAAAAAABmwkAAAAAAgGjCQAAAAAAAa8JAAAAAAIBtwkAAAAAAAHDCQAAAAACAcsJAAAAAAAB1wkAAAAAAgHfCQAAAAAAAesJAAAAAAIB8wkAAAAAAAH/CQAAAAACAgcJAAAAAAACEwkAAAAAAgIbCQAAAAAAAicJAAAAAAICLwkAAAAAAAI7CQAAAAACAkMJAAAAAAACTwkAAAAAAgJXCQAAAAAAAmMJAAAAAAICawkAAAAAAAJ3CQAAAAACAn8JAAAAAAACiwkAAAAAAgKTCQAAAAAAAp8JAAAAAAICpwkAAAAAAAKzCQAAAAACArsJAAAAAAACxwkAAAAAAgLPCQAAAAAAAtsJAAAAAAIC4wkAAAAAAALvCQAAAAACAvcJAAAAAAADAwkAAAAAAgMLCQAAAAAAAxcJAAAAAAIDHwkAAAAAAAMrCQAAAAACAzMJAAAAAAADPwkAAAAAAgNHCQAAAAAAA1MJAAAAAAIDWwkAAAAAAANnCQAAAAACA28JAAAAAAADewkAAAAAAgODCQAAAAAAA48JAAAAAAIDlwkAAAAAAAOjCQAAAAACA6sJAAAAAAADtwkAAAAAAgO/CQAAAAAAA8sJAAAAAAID0wkAAAAAAAPfCQAAAAACA+cJAAAAAAAD8wkAAAAAAgP7CQAAAAAAAAcNAAAAAAIADw0AAAAAAAAbDQAAAAACACMNAAAAAAAALw0AAAAAAgA3DQAAAAAAAEMNAAAAAAIASw0AAAAAAABXDQAAAAACAF8NAAAAAAAAaw0AAAAAAgBzDQAAAAAAAH8NAAAAAAIAhw0AAAAAAACTDQAAAAACAJsNAAAAAAAApw0AAAAAAgCvDQAAAAAAALsNAAAAAAIAww0AAAAAAADPDQAAAAACANcNAAAAAAAA4w0AAAAAAgDrDQAAAAAAAPcNAAAAAAIA/w0AAAAAAAELDQAAAAACARMNAAAAAAABHw0AAAAAAgEnDQAAAAAAATMNAAAAAAIBOw0AAAAAAAFHDQAAAAACAU8NAAAAAAABWw0AAAAAAgFjDQAAAAAAAW8NAAAAAAIBdw0AAAAAAAGDDQAAAAACAYsNAAAAAAABlw0AAAAAAgGfDQAAAAAAAasNAAAAAAIBsw0AAAAAAAG/DQAAAAACAccNAAAAAAAB0w0AAAAAAgHbDQAAAAAAAecNAAAAAAIB7w0AAAAAAAH7DQAAAAACAgMNAAAAAAACDw0AAAAAAgIXDQA==",
          "dtype": "f8"
         },
         "y": {
          "bdata": "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",
          "dtype": "f8"
         }
        },
        {
         "mode": "lines",
         "name": "Phase Gradient",
         "type": "scatter",
         "x": {
          "bdata": "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",
          "dtype": "f8"
         },
         "y": {
          "bdata": "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",
          "dtype": "f8"
         }
        }
       ],
       "layout": {
        "plot_bgcolor": "white",
        "template": {
         "data": {
          "bar": [
           {
            "error_x": {
             "color": "#2a3f5f"
            },
            "error_y": {
             "color": "#2a3f5f"
            },
            "marker": {
             "line": {
              "color": "#E5ECF6",
              "width": 0.5
             },
             "pattern": {
              "fillmode": "overlay",
              "size": 10,
              "solidity": 0.2
             }
            },
            "type": "bar"
           }
          ],
          "barpolar": [
           {
            "marker": {
             "line": {
              "color": "#E5ECF6",
              "width": 0.5
             },
             "pattern": {
              "fillmode": "overlay",
              "size": 10,
              "solidity": 0.2
             }
            },
            "type": "barpolar"
           }
          ],
          "carpet": [
           {
            "aaxis": {
             "endlinecolor": "#2a3f5f",
             "gridcolor": "white",
             "linecolor": "white",
             "minorgridcolor": "white",
             "startlinecolor": "#2a3f5f"
            },
            "baxis": {
             "endlinecolor": "#2a3f5f",
             "gridcolor": "white",
             "linecolor": "white",
             "minorgridcolor": "white",
             "startlinecolor": "#2a3f5f"
            },
            "type": "carpet"
           }
          ],
          "choropleth": [
           {
            "colorbar": {
             "outlinewidth": 0,
             "ticks": ""
            },
            "type": "choropleth"
           }
          ],
          "contour": [
           {
            "colorbar": {
             "outlinewidth": 0,
             "ticks": ""
            },
            "colorscale": [
             [
              0,
              "#0d0887"
             ],
             [
              0.1111111111111111,
              "#46039f"
             ],
             [
              0.2222222222222222,
              "#7201a8"
             ],
             [
              0.3333333333333333,
              "#9c179e"
             ],
             [
              0.4444444444444444,
              "#bd3786"
             ],
             [
              0.5555555555555556,
              "#d8576b"
             ],
             [
              0.6666666666666666,
              "#ed7953"
             ],
             [
              0.7777777777777778,
              "#fb9f3a"
             ],
             [
              0.8888888888888888,
              "#fdca26"
             ],
             [
              1,
              "#f0f921"
             ]
            ],
            "type": "contour"
           }
          ],
          "contourcarpet": [
           {
            "colorbar": {
             "outlinewidth": 0,
             "ticks": ""
            },
            "type": "contourcarpet"
           }
          ],
          "heatmap": [
           {
            "colorbar": {
             "outlinewidth": 0,
             "ticks": ""
            },
            "colorscale": [
             [
              0,
              "#0d0887"
             ],
             [
              0.1111111111111111,
              "#46039f"
             ],
             [
              0.2222222222222222,
              "#7201a8"
             ],
             [
              0.3333333333333333,
              "#9c179e"
             ],
             [
              0.4444444444444444,
              "#bd3786"
             ],
             [
              0.5555555555555556,
              "#d8576b"
             ],
             [
              0.6666666666666666,
              "#ed7953"
             ],
             [
              0.7777777777777778,
              "#fb9f3a"
             ],
             [
              0.8888888888888888,
              "#fdca26"
             ],
             [
              1,
              "#f0f921"
             ]
            ],
            "type": "heatmap"
           }
          ],
          "histogram": [
           {
            "marker": {
             "pattern": {
              "fillmode": "overlay",
              "size": 10,
              "solidity": 0.2
             }
            },
            "type": "histogram"
           }
          ],
          "histogram2d": [
           {
            "colorbar": {
             "outlinewidth": 0,
             "ticks": ""
            },
            "colorscale": [
             [
              0,
              "#0d0887"
             ],
             [
              0.1111111111111111,
              "#46039f"
             ],
             [
              0.2222222222222222,
              "#7201a8"
             ],
             [
              0.3333333333333333,
              "#9c179e"
             ],
             [
              0.4444444444444444,
              "#bd3786"
             ],
             [
              0.5555555555555556,
              "#d8576b"
             ],
             [
              0.6666666666666666,
              "#ed7953"
             ],
             [
              0.7777777777777778,
              "#fb9f3a"
             ],
             [
              0.8888888888888888,
              "#fdca26"
             ],
             [
              1,
              "#f0f921"
             ]
            ],
            "type": "histogram2d"
           }
          ],
          "histogram2dcontour": [
           {
            "colorbar": {
             "outlinewidth": 0,
             "ticks": ""
            },
            "colorscale": [
             [
              0,
              "#0d0887"
             ],
             [
              0.1111111111111111,
              "#46039f"
             ],
             [
              0.2222222222222222,
              "#7201a8"
             ],
             [
              0.3333333333333333,
              "#9c179e"
             ],
             [
              0.4444444444444444,
              "#bd3786"
             ],
             [
              0.5555555555555556,
              "#d8576b"
             ],
             [
              0.6666666666666666,
              "#ed7953"
             ],
             [
              0.7777777777777778,
              "#fb9f3a"
             ],
             [
              0.8888888888888888,
              "#fdca26"
             ],
             [
              1,
              "#f0f921"
             ]
            ],
            "type": "histogram2dcontour"
           }
          ],
          "mesh3d": [
           {
            "colorbar": {
             "outlinewidth": 0,
             "ticks": ""
            },
            "type": "mesh3d"
           }
          ],
          "parcoords": [
           {
            "line": {
             "colorbar": {
              "outlinewidth": 0,
              "ticks": ""
             }
            },
            "type": "parcoords"
           }
          ],
          "pie": [
           {
            "automargin": true,
            "type": "pie"
           }
          ],
          "scatter": [
           {
            "fillpattern": {
             "fillmode": "overlay",
             "size": 10,
             "solidity": 0.2
            },
            "type": "scatter"
           }
          ],
          "scatter3d": [
           {
            "line": {
             "colorbar": {
              "outlinewidth": 0,
              "ticks": ""
             }
            },
            "marker": {
             "colorbar": {
              "outlinewidth": 0,
              "ticks": ""
             }
            },
            "type": "scatter3d"
           }
          ],
          "scattercarpet": [
           {
            "marker": {
             "colorbar": {
              "outlinewidth": 0,
              "ticks": ""
             }
            },
            "type": "scattercarpet"
           }
          ],
          "scattergeo": [
           {
            "marker": {
             "colorbar": {
              "outlinewidth": 0,
              "ticks": ""
             }
            },
            "type": "scattergeo"
           }
          ],
          "scattergl": [
           {
            "marker": {
             "colorbar": {
              "outlinewidth": 0,
              "ticks": ""
             }
            },
            "type": "scattergl"
           }
          ],
          "scattermap": [
           {
            "marker": {
             "colorbar": {
              "outlinewidth": 0,
              "ticks": ""
             }
            },
            "type": "scattermap"
           }
          ],
          "scattermapbox": [
           {
            "marker": {
             "colorbar": {
              "outlinewidth": 0,
              "ticks": ""
             }
            },
            "type": "scattermapbox"
           }
          ],
          "scatterpolar": [
           {
            "marker": {
             "colorbar": {
              "outlinewidth": 0,
              "ticks": ""
             }
            },
            "type": "scatterpolar"
           }
          ],
          "scatterpolargl": [
           {
            "marker": {
             "colorbar": {
              "outlinewidth": 0,
              "ticks": ""
             }
            },
            "type": "scatterpolargl"
           }
          ],
          "scatterternary": [
           {
            "marker": {
             "colorbar": {
              "outlinewidth": 0,
              "ticks": ""
             }
            },
            "type": "scatterternary"
           }
          ],
          "surface": [
           {
            "colorbar": {
             "outlinewidth": 0,
             "ticks": ""
            },
            "colorscale": [
             [
              0,
              "#0d0887"
             ],
             [
              0.1111111111111111,
              "#46039f"
             ],
             [
              0.2222222222222222,
              "#7201a8"
             ],
             [
              0.3333333333333333,
              "#9c179e"
             ],
             [
              0.4444444444444444,
              "#bd3786"
             ],
             [
              0.5555555555555556,
              "#d8576b"
             ],
             [
              0.6666666666666666,
              "#ed7953"
             ],
             [
              0.7777777777777778,
              "#fb9f3a"
             ],
             [
              0.8888888888888888,
              "#fdca26"
             ],
             [
              1,
              "#f0f921"
             ]
            ],
            "type": "surface"
           }
          ],
          "table": [
           {
            "cells": {
             "fill": {
              "color": "#EBF0F8"
             },
             "line": {
              "color": "white"
             }
            },
            "header": {
             "fill": {
              "color": "#C8D4E3"
             },
             "line": {
              "color": "white"
             }
            },
            "type": "table"
           }
          ]
         },
         "layout": {
          "annotationdefaults": {
           "arrowcolor": "#2a3f5f",
           "arrowhead": 0,
           "arrowwidth": 1
          },
          "autotypenumbers": "strict",
          "coloraxis": {
           "colorbar": {
            "outlinewidth": 0,
            "ticks": ""
           }
          },
          "colorscale": {
           "diverging": [
            [
             0,
             "#8e0152"
            ],
            [
             0.1,
             "#c51b7d"
            ],
            [
             0.2,
             "#de77ae"
            ],
            [
             0.3,
             "#f1b6da"
            ],
            [
             0.4,
             "#fde0ef"
            ],
            [
             0.5,
             "#f7f7f7"
            ],
            [
             0.6,
             "#e6f5d0"
            ],
            [
             0.7,
             "#b8e186"
            ],
            [
             0.8,
             "#7fbc41"
            ],
            [
             0.9,
             "#4d9221"
            ],
            [
             1,
             "#276419"
            ]
           ],
           "sequential": [
            [
             0,
             "#0d0887"
            ],
            [
             0.1111111111111111,
             "#46039f"
            ],
            [
             0.2222222222222222,
             "#7201a8"
            ],
            [
             0.3333333333333333,
             "#9c179e"
            ],
            [
             0.4444444444444444,
             "#bd3786"
            ],
            [
             0.5555555555555556,
             "#d8576b"
            ],
            [
             0.6666666666666666,
             "#ed7953"
            ],
            [
             0.7777777777777778,
             "#fb9f3a"
            ],
            [
             0.8888888888888888,
             "#fdca26"
            ],
            [
             1,
             "#f0f921"
            ]
           ],
           "sequentialminus": [
            [
             0,
             "#0d0887"
            ],
            [
             0.1111111111111111,
             "#46039f"
            ],
            [
             0.2222222222222222,
             "#7201a8"
            ],
            [
             0.3333333333333333,
             "#9c179e"
            ],
            [
             0.4444444444444444,
             "#bd3786"
            ],
            [
             0.5555555555555556,
             "#d8576b"
            ],
            [
             0.6666666666666666,
             "#ed7953"
            ],
            [
             0.7777777777777778,
             "#fb9f3a"
            ],
            [
             0.8888888888888888,
             "#fdca26"
            ],
            [
             1,
             "#f0f921"
            ]
           ]
          },
          "colorway": [
           "#636efa",
           "#EF553B",
           "#00cc96",
           "#ab63fa",
           "#FFA15A",
           "#19d3f3",
           "#FF6692",
           "#B6E880",
           "#FF97FF",
           "#FECB52"
          ],
          "font": {
           "color": "#2a3f5f"
          },
          "geo": {
           "bgcolor": "white",
           "lakecolor": "white",
           "landcolor": "#E5ECF6",
           "showlakes": true,
           "showland": true,
           "subunitcolor": "white"
          },
          "hoverlabel": {
           "align": "left"
          },
          "hovermode": "closest",
          "mapbox": {
           "style": "light"
          },
          "paper_bgcolor": "white",
          "plot_bgcolor": "#E5ECF6",
          "polar": {
           "angularaxis": {
            "gridcolor": "white",
            "linecolor": "white",
            "ticks": ""
           },
           "bgcolor": "#E5ECF6",
           "radialaxis": {
            "gridcolor": "white",
            "linecolor": "white",
            "ticks": ""
           }
          },
          "scene": {
           "xaxis": {
            "backgroundcolor": "#E5ECF6",
            "gridcolor": "white",
            "gridwidth": 2,
            "linecolor": "white",
            "showbackground": true,
            "ticks": "",
            "zerolinecolor": "white"
           },
           "yaxis": {
            "backgroundcolor": "#E5ECF6",
            "gridcolor": "white",
            "gridwidth": 2,
            "linecolor": "white",
            "showbackground": true,
            "ticks": "",
            "zerolinecolor": "white"
           },
           "zaxis": {
            "backgroundcolor": "#E5ECF6",
            "gridcolor": "white",
            "gridwidth": 2,
            "linecolor": "white",
            "showbackground": true,
            "ticks": "",
            "zerolinecolor": "white"
           }
          },
          "shapedefaults": {
           "line": {
            "color": "#2a3f5f"
           }
          },
          "ternary": {
           "aaxis": {
            "gridcolor": "white",
            "linecolor": "white",
            "ticks": ""
           },
           "baxis": {
            "gridcolor": "white",
            "linecolor": "white",
            "ticks": ""
           },
           "bgcolor": "#E5ECF6",
           "caxis": {
            "gridcolor": "white",
            "linecolor": "white",
            "ticks": ""
           }
          },
          "title": {
           "x": 0.05
          },
          "xaxis": {
           "automargin": true,
           "gridcolor": "white",
           "linecolor": "white",
           "ticks": "",
           "title": {
            "standoff": 15
           },
           "zerolinecolor": "white",
           "zerolinewidth": 2
          },
          "yaxis": {
           "automargin": true,
           "gridcolor": "white",
           "linecolor": "white",
           "ticks": "",
           "title": {
            "standoff": 15
           },
           "zerolinecolor": "white",
           "zerolinewidth": 2
          }
         }
        },
        "title": {
         "text": "Resonator spectroscopy phase plot"
        },
        "xaxis": {
         "title": {
          "text": "Frequency [MHz]"
         }
        },
        "yaxis": {
         "title": {
          "text": "Magnitude"
         }
        }
       }
      },
      "image/png": "[encoded data removed]"
     },
     "metadata": {},
     "output_type": "display_data"
    },
    {
     "data": {
      "application/vnd.plotly.v1+json": {
       "config": {
        "plotlyServerURL": "https://plot.ly"
       },
       "data": [
        {
         "mode": "lines",
         "name": "Lorentzian fit",
         "type": "scatter",
         "x": {
          "bdata": "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",
          "dtype": "f8"
         },
         "y": {
          "bdata": "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",
          "dtype": "f8"
         }
        },
        {
         "mode": "markers",
         "name": "Phase gradient",
         "type": "scatter",
         "x": {
          "bdata": "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",
          "dtype": "f8"
         },
         "y": {
          "bdata": "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",
          "dtype": "f8"
         }
        }
       ],
       "layout": {
        "plot_bgcolor": "white",
        "template": {
         "data": {
          "bar": [
           {
            "error_x": {
             "color": "#2a3f5f"
            },
            "error_y": {
             "color": "#2a3f5f"
            },
            "marker": {
             "line": {
              "color": "#E5ECF6",
              "width": 0.5
             },
             "pattern": {
              "fillmode": "overlay",
              "size": 10,
              "solidity": 0.2
             }
            },
            "type": "bar"
           }
          ],
          "barpolar": [
           {
            "marker": {
             "line": {
              "color": "#E5ECF6",
              "width": 0.5
             },
             "pattern": {
              "fillmode": "overlay",
              "size": 10,
              "solidity": 0.2
             }
            },
            "type": "barpolar"
           }
          ],
          "carpet": [
           {
            "aaxis": {
             "endlinecolor": "#2a3f5f",
             "gridcolor": "white",
             "linecolor": "white",
             "minorgridcolor": "white",
             "startlinecolor": "#2a3f5f"
            },
            "baxis": {
             "endlinecolor": "#2a3f5f",
             "gridcolor": "white",
             "linecolor": "white",
             "minorgridcolor": "white",
             "startlinecolor": "#2a3f5f"
            },
            "type": "carpet"
           }
          ],
          "choropleth": [
           {
            "colorbar": {
             "outlinewidth": 0,
             "ticks": ""
            },
            "type": "choropleth"
           }
          ],
          "contour": [
           {
            "colorbar": {
             "outlinewidth": 0,
             "ticks": ""
            },
            "colorscale": [
             [
              0,
              "#0d0887"
             ],
             [
              0.1111111111111111,
              "#46039f"
             ],
             [
              0.2222222222222222,
              "#7201a8"
             ],
             [
              0.3333333333333333,
              "#9c179e"
             ],
             [
              0.4444444444444444,
              "#bd3786"
             ],
             [
              0.5555555555555556,
              "#d8576b"
             ],
             [
              0.6666666666666666,
              "#ed7953"
             ],
             [
              0.7777777777777778,
              "#fb9f3a"
             ],
             [
              0.8888888888888888,
              "#fdca26"
             ],
             [
              1,
              "#f0f921"
             ]
            ],
            "type": "contour"
           }
          ],
          "contourcarpet": [
           {
            "colorbar": {
             "outlinewidth": 0,
             "ticks": ""
            },
            "type": "contourcarpet"
           }
          ],
          "heatmap": [
           {
            "colorbar": {
             "outlinewidth": 0,
             "ticks": ""
            },
            "colorscale": [
             [
              0,
              "#0d0887"
             ],
             [
              0.1111111111111111,
              "#46039f"
             ],
             [
              0.2222222222222222,
              "#7201a8"
             ],
             [
              0.3333333333333333,
              "#9c179e"
             ],
             [
              0.4444444444444444,
              "#bd3786"
             ],
             [
              0.5555555555555556,
              "#d8576b"
             ],
             [
              0.6666666666666666,
              "#ed7953"
             ],
             [
              0.7777777777777778,
              "#fb9f3a"
             ],
             [
              0.8888888888888888,
              "#fdca26"
             ],
             [
              1,
              "#f0f921"
             ]
            ],
            "type": "heatmap"
           }
          ],
          "histogram": [
           {
            "marker": {
             "pattern": {
              "fillmode": "overlay",
              "size": 10,
              "solidity": 0.2
             }
            },
            "type": "histogram"
           }
          ],
          "histogram2d": [
           {
            "colorbar": {
             "outlinewidth": 0,
             "ticks": ""
            },
            "colorscale": [
             [
              0,
              "#0d0887"
             ],
             [
              0.1111111111111111,
              "#46039f"
             ],
             [
              0.2222222222222222,
              "#7201a8"
             ],
             [
              0.3333333333333333,
              "#9c179e"
             ],
             [
              0.4444444444444444,
              "#bd3786"
             ],
             [
              0.5555555555555556,
              "#d8576b"
             ],
             [
              0.6666666666666666,
              "#ed7953"
             ],
             [
              0.7777777777777778,
              "#fb9f3a"
             ],
             [
              0.8888888888888888,
              "#fdca26"
             ],
             [
              1,
              "#f0f921"
             ]
            ],
            "type": "histogram2d"
           }
          ],
          "histogram2dcontour": [
           {
            "colorbar": {
             "outlinewidth": 0,
             "ticks": ""
            },
            "colorscale": [
             [
              0,
              "#0d0887"
             ],
             [
              0.1111111111111111,
              "#46039f"
             ],
             [
              0.2222222222222222,
              "#7201a8"
             ],
             [
              0.3333333333333333,
              "#9c179e"
             ],
             [
              0.4444444444444444,
              "#bd3786"
             ],
             [
              0.5555555555555556,
              "#d8576b"
             ],
             [
              0.6666666666666666,
              "#ed7953"
             ],
             [
              0.7777777777777778,
              "#fb9f3a"
             ],
             [
              0.8888888888888888,
              "#fdca26"
             ],
             [
              1,
              "#f0f921"
             ]
            ],
            "type": "histogram2dcontour"
           }
          ],
          "mesh3d": [
           {
            "colorbar": {
             "outlinewidth": 0,
             "ticks": ""
            },
            "type": "mesh3d"
           }
          ],
          "parcoords": [
           {
            "line": {
             "colorbar": {
              "outlinewidth": 0,
              "ticks": ""
             }
            },
            "type": "parcoords"
           }
          ],
          "pie": [
           {
            "automargin": true,
            "type": "pie"
           }
          ],
          "scatter": [
           {
            "fillpattern": {
             "fillmode": "overlay",
             "size": 10,
             "solidity": 0.2
            },
            "type": "scatter"
           }
          ],
          "scatter3d": [
           {
            "line": {
             "colorbar": {
              "outlinewidth": 0,
              "ticks": ""
             }
            },
            "marker": {
             "colorbar": {
              "outlinewidth": 0,
              "ticks": ""
             }
            },
            "type": "scatter3d"
           }
          ],
          "scattercarpet": [
           {
            "marker": {
             "colorbar": {
              "outlinewidth": 0,
              "ticks": ""
             }
            },
            "type": "scattercarpet"
           }
          ],
          "scattergeo": [
           {
            "marker": {
             "colorbar": {
              "outlinewidth": 0,
              "ticks": ""
             }
            },
            "type": "scattergeo"
           }
          ],
          "scattergl": [
           {
            "marker": {
             "colorbar": {
              "outlinewidth": 0,
              "ticks": ""
             }
            },
            "type": "scattergl"
           }
          ],
          "scattermap": [
           {
            "marker": {
             "colorbar": {
              "outlinewidth": 0,
              "ticks": ""
             }
            },
            "type": "scattermap"
           }
          ],
          "scattermapbox": [
           {
            "marker": {
             "colorbar": {
              "outlinewidth": 0,
              "ticks": ""
             }
            },
            "type": "scattermapbox"
           }
          ],
          "scatterpolar": [
           {
            "marker": {
             "colorbar": {
              "outlinewidth": 0,
              "ticks": ""
             }
            },
            "type": "scatterpolar"
           }
          ],
          "scatterpolargl": [
           {
            "marker": {
             "colorbar": {
              "outlinewidth": 0,
              "ticks": ""
             }
            },
            "type": "scatterpolargl"
           }
          ],
          "scatterternary": [
           {
            "marker": {
             "colorbar": {
              "outlinewidth": 0,
              "ticks": ""
             }
            },
            "type": "scatterternary"
           }
          ],
          "surface": [
           {
            "colorbar": {
             "outlinewidth": 0,
             "ticks": ""
            },
            "colorscale": [
             [
              0,
              "#0d0887"
             ],
             [
              0.1111111111111111,
              "#46039f"
             ],
             [
              0.2222222222222222,
              "#7201a8"
             ],
             [
              0.3333333333333333,
              "#9c179e"
             ],
             [
              0.4444444444444444,
              "#bd3786"
             ],
             [
              0.5555555555555556,
              "#d8576b"
             ],
             [
              0.6666666666666666,
              "#ed7953"
             ],
             [
              0.7777777777777778,
              "#fb9f3a"
             ],
             [
              0.8888888888888888,
              "#fdca26"
             ],
             [
              1,
              "#f0f921"
             ]
            ],
            "type": "surface"
           }
          ],
          "table": [
           {
            "cells": {
             "fill": {
              "color": "#EBF0F8"
             },
             "line": {
              "color": "white"
             }
            },
            "header": {
             "fill": {
              "color": "#C8D4E3"
             },
             "line": {
              "color": "white"
             }
            },
            "type": "table"
           }
          ]
         },
         "layout": {
          "annotationdefaults": {
           "arrowcolor": "#2a3f5f",
           "arrowhead": 0,
           "arrowwidth": 1
          },
          "autotypenumbers": "strict",
          "coloraxis": {
           "colorbar": {
            "outlinewidth": 0,
            "ticks": ""
           }
          },
          "colorscale": {
           "diverging": [
            [
             0,
             "#8e0152"
            ],
            [
             0.1,
             "#c51b7d"
            ],
            [
             0.2,
             "#de77ae"
            ],
            [
             0.3,
             "#f1b6da"
            ],
            [
             0.4,
             "#fde0ef"
            ],
            [
             0.5,
             "#f7f7f7"
            ],
            [
             0.6,
             "#e6f5d0"
            ],
            [
             0.7,
             "#b8e186"
            ],
            [
             0.8,
             "#7fbc41"
            ],
            [
             0.9,
             "#4d9221"
            ],
            [
             1,
             "#276419"
            ]
           ],
           "sequential": [
            [
             0,
             "#0d0887"
            ],
            [
             0.1111111111111111,
             "#46039f"
            ],
            [
             0.2222222222222222,
             "#7201a8"
            ],
            [
             0.3333333333333333,
             "#9c179e"
            ],
            [
             0.4444444444444444,
             "#bd3786"
            ],
            [
             0.5555555555555556,
             "#d8576b"
            ],
            [
             0.6666666666666666,
             "#ed7953"
            ],
            [
             0.7777777777777778,
             "#fb9f3a"
            ],
            [
             0.8888888888888888,
             "#fdca26"
            ],
            [
             1,
             "#f0f921"
            ]
           ],
           "sequentialminus": [
            [
             0,
             "#0d0887"
            ],
            [
             0.1111111111111111,
             "#46039f"
            ],
            [
             0.2222222222222222,
             "#7201a8"
            ],
            [
             0.3333333333333333,
             "#9c179e"
            ],
            [
             0.4444444444444444,
             "#bd3786"
            ],
            [
             0.5555555555555556,
             "#d8576b"
            ],
            [
             0.6666666666666666,
             "#ed7953"
            ],
            [
             0.7777777777777778,
             "#fb9f3a"
            ],
            [
             0.8888888888888888,
             "#fdca26"
            ],
            [
             1,
             "#f0f921"
            ]
           ]
          },
          "colorway": [
           "#636efa",
           "#EF553B",
           "#00cc96",
           "#ab63fa",
           "#FFA15A",
           "#19d3f3",
           "#FF6692",
           "#B6E880",
           "#FF97FF",
           "#FECB52"
          ],
          "font": {
           "color": "#2a3f5f"
          },
          "geo": {
           "bgcolor": "white",
           "lakecolor": "white",
           "landcolor": "#E5ECF6",
           "showlakes": true,
           "showland": true,
           "subunitcolor": "white"
          },
          "hoverlabel": {
           "align": "left"
          },
          "hovermode": "closest",
          "mapbox": {
           "style": "light"
          },
          "paper_bgcolor": "white",
          "plot_bgcolor": "#E5ECF6",
          "polar": {
           "angularaxis": {
            "gridcolor": "white",
            "linecolor": "white",
            "ticks": ""
           },
           "bgcolor": "#E5ECF6",
           "radialaxis": {
            "gridcolor": "white",
            "linecolor": "white",
            "ticks": ""
           }
          },
          "scene": {
           "xaxis": {
            "backgroundcolor": "#E5ECF6",
            "gridcolor": "white",
            "gridwidth": 2,
            "linecolor": "white",
            "showbackground": true,
            "ticks": "",
            "zerolinecolor": "white"
           },
           "yaxis": {
            "backgroundcolor": "#E5ECF6",
            "gridcolor": "white",
            "gridwidth": 2,
            "linecolor": "white",
            "showbackground": true,
            "ticks": "",
            "zerolinecolor": "white"
           },
           "zaxis": {
            "backgroundcolor": "#E5ECF6",
            "gridcolor": "white",
            "gridwidth": 2,
            "linecolor": "white",
            "showbackground": true,
            "ticks": "",
            "zerolinecolor": "white"
           }
          },
          "shapedefaults": {
           "line": {
            "color": "#2a3f5f"
           }
          },
          "ternary": {
           "aaxis": {
            "gridcolor": "white",
            "linecolor": "white",
            "ticks": ""
           },
           "baxis": {
            "gridcolor": "white",
            "linecolor": "white",
            "ticks": ""
           },
           "bgcolor": "#E5ECF6",
           "caxis": {
            "gridcolor": "white",
            "linecolor": "white",
            "ticks": ""
           }
          },
          "title": {
           "x": 0.05
          },
          "xaxis": {
           "automargin": true,
           "gridcolor": "white",
           "linecolor": "white",
           "ticks": "",
           "title": {
            "standoff": 15
           },
           "zerolinecolor": "white",
           "zerolinewidth": 2
          },
          "yaxis": {
           "automargin": true,
           "gridcolor": "white",
           "linecolor": "white",
           "ticks": "",
           "title": {
            "standoff": 15
           },
           "zerolinecolor": "white",
           "zerolinewidth": 2
          }
         }
        },
        "title": {
         "text": "Resonator spectroscopy phase gradient fitting"
        },
        "xaxis": {
         "title": {
          "text": "Frequency [MHz]"
         }
        },
        "yaxis": {
         "title": {
          "text": "Phase"
         }
        }
       }
      },
      "image/png": "[encoded data removed]"
     },
     "metadata": {},
     "output_type": "display_data"
    },
    {
     "data": {
      "application/json": {
       "print_time": "2025-08-24 14:41:39",
       "record_book_path": "log/coxious/2025-08/2025-08-24/14.41.39",
       "record_entry_path": "/root/1-ResonatorSweepTransmissionWithExtraInitialLPB.run",
       "record_id": "fc925fcb-a1f4-4dc1-9e70-436b67f0232d",
       "record_time": 1756071699
      },
      "text/plain": [
       "<IPython.core.display.JSON object>"
      ]
     },
     "metadata": {
      "application/json": {
       "expanded": false,
       "root": "ResonatorSweepTransmissionWithExtraInitialLPB"
      }
     },
     "output_type": "display_data"
    }
   ],
   "source": [
    "# 1. Resonator spectroscopy\n",
    "resonator_spec = ResonatorSweepTransmissionWithExtraInitialLPB(\n",
    "    dut_qubit=qubit,\n",
    "    start=9000.0,\n",
    "    stop=10000.0,\n",
    "    step=5.0,\n",
    "    num_avs=1000,\n",
    "    amp=0.02,\n",
    "    mp_width=8.0\n",
    ")"
   ]
  },
  {
   "cell_type": "code",
   "execution_count": 5,
   "metadata": {},
   "outputs": [
    {
     "data": {
      "application/vnd.plotly.v1+json": {
       "config": {
        "plotlyServerURL": "https://plot.ly"
       },
       "data": [
        {
         "mode": "lines",
         "name": "Magnitude",
         "type": "scatter",
         "x": {
          "bdata": "AAAAAAB0s0AAAAAAgHSzQAAAAAAAdbNAAAAAAIB1s0AAAAAAAHazQAAAAACAdrNAAAAAAAB3s0AAAAAAgHezQAAAAAAAeLNAAAAAAIB4s0AAAAAAAHmzQAAAAACAebNAAAAAAAB6s0AAAAAAgHqzQAAAAAAAe7NAAAAAAIB7s0AAAAAAAHyzQAAAAACAfLNAAAAAAAB9s0AAAAAAgH2zQAAAAAAAfrNAAAAAAIB+s0AAAAAAAH+zQAAAAACAf7NAAAAAAACAs0AAAAAAgICzQAAAAAAAgbNAAAAAAICBs0AAAAAAAIKzQAAAAACAgrNAAAAAAACDs0AAAAAAgIOzQAAAAAAAhLNAAAAAAICEs0AAAAAAAIWzQAAAAACAhbNAAAAAAACGs0AAAAAAgIazQAAAAAAAh7NAAAAAAICHs0AAAAAAAIizQAAAAACAiLNAAAAAAACJs0AAAAAAgImzQAAAAAAAirNAAAAAAICKs0AAAAAAAIuzQAAAAACAi7NAAAAAAACMs0AAAAAAgIyzQAAAAAAAjbNAAAAAAICNs0AAAAAAAI6zQAAAAACAjrNAAAAAAACPs0AAAAAAgI+zQAAAAAAAkLNAAAAAAICQs0AAAAAAAJGzQAAAAACAkbNAAAAAAACSs0AAAAAAgJKzQAAAAAAAk7NAAAAAAICTs0AAAAAAAJSzQAAAAACAlLNAAAAAAACVs0AAAAAAgJWzQAAAAAAAlrNAAAAAAICWs0AAAAAAAJezQAAAAACAl7NAAAAAAACYs0AAAAAAgJizQAAAAAAAmbNAAAAAAICZs0AAAAAAAJqzQAAAAACAmrNAAAAAAACbs0AAAAAAgJuzQA==",
          "dtype": "f8"
         },
         "y": {
          "bdata": "wkLudS9BJ0AIKQRSmhwnQE6Sfg2C9yZAR3LDgO/RJkBjkPu27KsmQLrpuv2EhSZA9cNj88ReJkArpN2TujcmQAGnMEN1ECZA1nSO1QXpJUBE4kyUfsElQDDaUz/zmSVA9S2BCnlyJUBMBIqWJkslQNZ/6+QTJCVA5FuLRlr9JEC2Cb5EFNckQE5ZgoRdsSRAmL/io1KMJEA3MpEREWgkQK5T+962RCRAJcc/jWIiJEAFE5nVMgEkQKg3/G1G4SNAlpHOyrvCI0DgP7XesKUjQJS/ldlCiiNAD9zp541wI0CLQYfzrFgjQFij7Ga5QiNAq0IM9MouI0Bnjmdf9xwjQL5oJFBSDSNAy/aVJe3/IkCzvITS1vQiQLYlWL4b7CJAkeQhrMXlIkAPTXSn2+EiQKcI4fZh4CJAYPn8E1rhIkDy6M6owuQiQBSsnZKX6iJADbwj6tHyIkCIsj0RaP0iQAqVMsZNCiNAwE21PHQZI0CpILQ8yiojQBrr9EY8PiNA+5Bcv7RTI0DMiZccHGsjQDtgrBxZhCNAzhbT/VCfI0BxusG657sjQC2TekkA2iNAVTWO23z5I0C6FbUePxokQI78oXwoPCRA/4j4WBpfJECQxWdM9oIkQCm4BlyepyRAcp01LPXMJEAsmG8u3vIkQNOfo8k9GSVAIx7WfPk/JUDXEfX792YlQJkw7UYhjiVA3F0uu161JUBQO+gfm9wlQH1fXK3CAyZAHPWyD8MqJkBKf8hli1EmQPy8cDwMeCZAKc2rhjeeJkDSbUiTAMQmQIgvaQBc6SZAtl9brT8OJ0AN3yWrojInQE6YLCx9VidAlFI7c8h5J0CfhEDCfpwnQA==",
          "dtype": "f8"
         }
        }
       ],
       "layout": {
        "plot_bgcolor": "white",
        "template": {
         "data": {
          "bar": [
           {
            "error_x": {
             "color": "#2a3f5f"
            },
            "error_y": {
             "color": "#2a3f5f"
            },
            "marker": {
             "line": {
              "color": "#E5ECF6",
              "width": 0.5
             },
             "pattern": {
              "fillmode": "overlay",
              "size": 10,
              "solidity": 0.2
             }
            },
            "type": "bar"
           }
          ],
          "barpolar": [
           {
            "marker": {
             "line": {
              "color": "#E5ECF6",
              "width": 0.5
             },
             "pattern": {
              "fillmode": "overlay",
              "size": 10,
              "solidity": 0.2
             }
            },
            "type": "barpolar"
           }
          ],
          "carpet": [
           {
            "aaxis": {
             "endlinecolor": "#2a3f5f",
             "gridcolor": "white",
             "linecolor": "white",
             "minorgridcolor": "white",
             "startlinecolor": "#2a3f5f"
            },
            "baxis": {
             "endlinecolor": "#2a3f5f",
             "gridcolor": "white",
             "linecolor": "white",
             "minorgridcolor": "white",
             "startlinecolor": "#2a3f5f"
            },
            "type": "carpet"
           }
          ],
          "choropleth": [
           {
            "colorbar": {
             "outlinewidth": 0,
             "ticks": ""
            },
            "type": "choropleth"
           }
          ],
          "contour": [
           {
            "colorbar": {
             "outlinewidth": 0,
             "ticks": ""
            },
            "colorscale": [
             [
              0,
              "#0d0887"
             ],
             [
              0.1111111111111111,
              "#46039f"
             ],
             [
              0.2222222222222222,
              "#7201a8"
             ],
             [
              0.3333333333333333,
              "#9c179e"
             ],
             [
              0.4444444444444444,
              "#bd3786"
             ],
             [
              0.5555555555555556,
              "#d8576b"
             ],
             [
              0.6666666666666666,
              "#ed7953"
             ],
             [
              0.7777777777777778,
              "#fb9f3a"
             ],
             [
              0.8888888888888888,
              "#fdca26"
             ],
             [
              1,
              "#f0f921"
             ]
            ],
            "type": "contour"
           }
          ],
          "contourcarpet": [
           {
            "colorbar": {
             "outlinewidth": 0,
             "ticks": ""
            },
            "type": "contourcarpet"
           }
          ],
          "heatmap": [
           {
            "colorbar": {
             "outlinewidth": 0,
             "ticks": ""
            },
            "colorscale": [
             [
              0,
              "#0d0887"
             ],
             [
              0.1111111111111111,
              "#46039f"
             ],
             [
              0.2222222222222222,
              "#7201a8"
             ],
             [
              0.3333333333333333,
              "#9c179e"
             ],
             [
              0.4444444444444444,
              "#bd3786"
             ],
             [
              0.5555555555555556,
              "#d8576b"
             ],
             [
              0.6666666666666666,
              "#ed7953"
             ],
             [
              0.7777777777777778,
              "#fb9f3a"
             ],
             [
              0.8888888888888888,
              "#fdca26"
             ],
             [
              1,
              "#f0f921"
             ]
            ],
            "type": "heatmap"
           }
          ],
          "histogram": [
           {
            "marker": {
             "pattern": {
              "fillmode": "overlay",
              "size": 10,
              "solidity": 0.2
             }
            },
            "type": "histogram"
           }
          ],
          "histogram2d": [
           {
            "colorbar": {
             "outlinewidth": 0,
             "ticks": ""
            },
            "colorscale": [
             [
              0,
              "#0d0887"
             ],
             [
              0.1111111111111111,
              "#46039f"
             ],
             [
              0.2222222222222222,
              "#7201a8"
             ],
             [
              0.3333333333333333,
              "#9c179e"
             ],
             [
              0.4444444444444444,
              "#bd3786"
             ],
             [
              0.5555555555555556,
              "#d8576b"
             ],
             [
              0.6666666666666666,
              "#ed7953"
             ],
             [
              0.7777777777777778,
              "#fb9f3a"
             ],
             [
              0.8888888888888888,
              "#fdca26"
             ],
             [
              1,
              "#f0f921"
             ]
            ],
            "type": "histogram2d"
           }
          ],
          "histogram2dcontour": [
           {
            "colorbar": {
             "outlinewidth": 0,
             "ticks": ""
            },
            "colorscale": [
             [
              0,
              "#0d0887"
             ],
             [
              0.1111111111111111,
              "#46039f"
             ],
             [
              0.2222222222222222,
              "#7201a8"
             ],
             [
              0.3333333333333333,
              "#9c179e"
             ],
             [
              0.4444444444444444,
              "#bd3786"
             ],
             [
              0.5555555555555556,
              "#d8576b"
             ],
             [
              0.6666666666666666,
              "#ed7953"
             ],
             [
              0.7777777777777778,
              "#fb9f3a"
             ],
             [
              0.8888888888888888,
              "#fdca26"
             ],
             [
              1,
              "#f0f921"
             ]
            ],
            "type": "histogram2dcontour"
           }
          ],
          "mesh3d": [
           {
            "colorbar": {
             "outlinewidth": 0,
             "ticks": ""
            },
            "type": "mesh3d"
           }
          ],
          "parcoords": [
           {
            "line": {
             "colorbar": {
              "outlinewidth": 0,
              "ticks": ""
             }
            },
            "type": "parcoords"
           }
          ],
          "pie": [
           {
            "automargin": true,
            "type": "pie"
           }
          ],
          "scatter": [
           {
            "fillpattern": {
             "fillmode": "overlay",
             "size": 10,
             "solidity": 0.2
            },
            "type": "scatter"
           }
          ],
          "scatter3d": [
           {
            "line": {
             "colorbar": {
              "outlinewidth": 0,
              "ticks": ""
             }
            },
            "marker": {
             "colorbar": {
              "outlinewidth": 0,
              "ticks": ""
             }
            },
            "type": "scatter3d"
           }
          ],
          "scattercarpet": [
           {
            "marker": {
             "colorbar": {
              "outlinewidth": 0,
              "ticks": ""
             }
            },
            "type": "scattercarpet"
           }
          ],
          "scattergeo": [
           {
            "marker": {
             "colorbar": {
              "outlinewidth": 0,
              "ticks": ""
             }
            },
            "type": "scattergeo"
           }
          ],
          "scattergl": [
           {
            "marker": {
             "colorbar": {
              "outlinewidth": 0,
              "ticks": ""
             }
            },
            "type": "scattergl"
           }
          ],
          "scattermap": [
           {
            "marker": {
             "colorbar": {
              "outlinewidth": 0,
              "ticks": ""
             }
            },
            "type": "scattermap"
           }
          ],
          "scattermapbox": [
           {
            "marker": {
             "colorbar": {
              "outlinewidth": 0,
              "ticks": ""
             }
            },
            "type": "scattermapbox"
           }
          ],
          "scatterpolar": [
           {
            "marker": {
             "colorbar": {
              "outlinewidth": 0,
              "ticks": ""
             }
            },
            "type": "scatterpolar"
           }
          ],
          "scatterpolargl": [
           {
            "marker": {
             "colorbar": {
              "outlinewidth": 0,
              "ticks": ""
             }
            },
            "type": "scatterpolargl"
           }
          ],
          "scatterternary": [
           {
            "marker": {
             "colorbar": {
              "outlinewidth": 0,
              "ticks": ""
             }
            },
            "type": "scatterternary"
           }
          ],
          "surface": [
           {
            "colorbar": {
             "outlinewidth": 0,
             "ticks": ""
            },
            "colorscale": [
             [
              0,
              "#0d0887"
             ],
             [
              0.1111111111111111,
              "#46039f"
             ],
             [
              0.2222222222222222,
              "#7201a8"
             ],
             [
              0.3333333333333333,
              "#9c179e"
             ],
             [
              0.4444444444444444,
              "#bd3786"
             ],
             [
              0.5555555555555556,
              "#d8576b"
             ],
             [
              0.6666666666666666,
              "#ed7953"
             ],
             [
              0.7777777777777778,
              "#fb9f3a"
             ],
             [
              0.8888888888888888,
              "#fdca26"
             ],
             [
              1,
              "#f0f921"
             ]
            ],
            "type": "surface"
           }
          ],
          "table": [
           {
            "cells": {
             "fill": {
              "color": "#EBF0F8"
             },
             "line": {
              "color": "white"
             }
            },
            "header": {
             "fill": {
              "color": "#C8D4E3"
             },
             "line": {
              "color": "white"
             }
            },
            "type": "table"
           }
          ]
         },
         "layout": {
          "annotationdefaults": {
           "arrowcolor": "#2a3f5f",
           "arrowhead": 0,
           "arrowwidth": 1
          },
          "autotypenumbers": "strict",
          "coloraxis": {
           "colorbar": {
            "outlinewidth": 0,
            "ticks": ""
           }
          },
          "colorscale": {
           "diverging": [
            [
             0,
             "#8e0152"
            ],
            [
             0.1,
             "#c51b7d"
            ],
            [
             0.2,
             "#de77ae"
            ],
            [
             0.3,
             "#f1b6da"
            ],
            [
             0.4,
             "#fde0ef"
            ],
            [
             0.5,
             "#f7f7f7"
            ],
            [
             0.6,
             "#e6f5d0"
            ],
            [
             0.7,
             "#b8e186"
            ],
            [
             0.8,
             "#7fbc41"
            ],
            [
             0.9,
             "#4d9221"
            ],
            [
             1,
             "#276419"
            ]
           ],
           "sequential": [
            [
             0,
             "#0d0887"
            ],
            [
             0.1111111111111111,
             "#46039f"
            ],
            [
             0.2222222222222222,
             "#7201a8"
            ],
            [
             0.3333333333333333,
             "#9c179e"
            ],
            [
             0.4444444444444444,
             "#bd3786"
            ],
            [
             0.5555555555555556,
             "#d8576b"
            ],
            [
             0.6666666666666666,
             "#ed7953"
            ],
            [
             0.7777777777777778,
             "#fb9f3a"
            ],
            [
             0.8888888888888888,
             "#fdca26"
            ],
            [
             1,
             "#f0f921"
            ]
           ],
           "sequentialminus": [
            [
             0,
             "#0d0887"
            ],
            [
             0.1111111111111111,
             "#46039f"
            ],
            [
             0.2222222222222222,
             "#7201a8"
            ],
            [
             0.3333333333333333,
             "#9c179e"
            ],
            [
             0.4444444444444444,
             "#bd3786"
            ],
            [
             0.5555555555555556,
             "#d8576b"
            ],
            [
             0.6666666666666666,
             "#ed7953"
            ],
            [
             0.7777777777777778,
             "#fb9f3a"
            ],
            [
             0.8888888888888888,
             "#fdca26"
            ],
            [
             1,
             "#f0f921"
            ]
           ]
          },
          "colorway": [
           "#636efa",
           "#EF553B",
           "#00cc96",
           "#ab63fa",
           "#FFA15A",
           "#19d3f3",
           "#FF6692",
           "#B6E880",
           "#FF97FF",
           "#FECB52"
          ],
          "font": {
           "color": "#2a3f5f"
          },
          "geo": {
           "bgcolor": "white",
           "lakecolor": "white",
           "landcolor": "#E5ECF6",
           "showlakes": true,
           "showland": true,
           "subunitcolor": "white"
          },
          "hoverlabel": {
           "align": "left"
          },
          "hovermode": "closest",
          "mapbox": {
           "style": "light"
          },
          "paper_bgcolor": "white",
          "plot_bgcolor": "#E5ECF6",
          "polar": {
           "angularaxis": {
            "gridcolor": "white",
            "linecolor": "white",
            "ticks": ""
           },
           "bgcolor": "#E5ECF6",
           "radialaxis": {
            "gridcolor": "white",
            "linecolor": "white",
            "ticks": ""
           }
          },
          "scene": {
           "xaxis": {
            "backgroundcolor": "#E5ECF6",
            "gridcolor": "white",
            "gridwidth": 2,
            "linecolor": "white",
            "showbackground": true,
            "ticks": "",
            "zerolinecolor": "white"
           },
           "yaxis": {
            "backgroundcolor": "#E5ECF6",
            "gridcolor": "white",
            "gridwidth": 2,
            "linecolor": "white",
            "showbackground": true,
            "ticks": "",
            "zerolinecolor": "white"
           },
           "zaxis": {
            "backgroundcolor": "#E5ECF6",
            "gridcolor": "white",
            "gridwidth": 2,
            "linecolor": "white",
            "showbackground": true,
            "ticks": "",
            "zerolinecolor": "white"
           }
          },
          "shapedefaults": {
           "line": {
            "color": "#2a3f5f"
           }
          },
          "ternary": {
           "aaxis": {
            "gridcolor": "white",
            "linecolor": "white",
            "ticks": ""
           },
           "baxis": {
            "gridcolor": "white",
            "linecolor": "white",
            "ticks": ""
           },
           "bgcolor": "#E5ECF6",
           "caxis": {
            "gridcolor": "white",
            "linecolor": "white",
            "ticks": ""
           }
          },
          "title": {
           "x": 0.05
          },
          "xaxis": {
           "automargin": true,
           "gridcolor": "white",
           "linecolor": "white",
           "ticks": "",
           "title": {
            "standoff": 15
           },
           "zerolinecolor": "white",
           "zerolinewidth": 2
          },
          "yaxis": {
           "automargin": true,
           "gridcolor": "white",
           "linecolor": "white",
           "ticks": "",
           "title": {
            "standoff": 15
           },
           "zerolinecolor": "white",
           "zerolinewidth": 2
          }
         }
        },
        "title": {
         "text": "Qubit spectroscopy resonator response magnitude"
        },
        "xaxis": {
         "title": {
          "text": "Frequency [MHz]"
         }
        },
        "yaxis": {
         "title": {
          "text": "Magnitude"
         }
        }
       }
      }
     },
     "metadata": {},
     "output_type": "display_data"
    },
    {
     "data": {
      "application/vnd.plotly.v1+json": {
       "config": {
        "plotlyServerURL": "https://plot.ly"
       },
       "data": [
        {
         "mode": "lines",
         "name": "Phase",
         "type": "scatter",
         "x": {
          "bdata": "AAAAAAB0s0AAAAAAgHSzQAAAAAAAdbNAAAAAAIB1s0AAAAAAAHazQAAAAACAdrNAAAAAAAB3s0AAAAAAgHezQAAAAAAAeLNAAAAAAIB4s0AAAAAAAHmzQAAAAACAebNAAAAAAAB6s0AAAAAAgHqzQAAAAAAAe7NAAAAAAIB7s0AAAAAAAHyzQAAAAACAfLNAAAAAAAB9s0AAAAAAgH2zQAAAAAAAfrNAAAAAAIB+s0AAAAAAAH+zQAAAAACAf7NAAAAAAACAs0AAAAAAgICzQAAAAAAAgbNAAAAAAICBs0AAAAAAAIKzQAAAAACAgrNAAAAAAACDs0AAAAAAgIOzQAAAAAAAhLNAAAAAAICEs0AAAAAAAIWzQAAAAACAhbNAAAAAAACGs0AAAAAAgIazQAAAAAAAh7NAAAAAAICHs0AAAAAAAIizQAAAAACAiLNAAAAAAACJs0AAAAAAgImzQAAAAAAAirNAAAAAAICKs0AAAAAAAIuzQAAAAACAi7NAAAAAAACMs0AAAAAAgIyzQAAAAAAAjbNAAAAAAICNs0AAAAAAAI6zQAAAAACAjrNAAAAAAACPs0AAAAAAgI+zQAAAAAAAkLNAAAAAAICQs0AAAAAAAJGzQAAAAACAkbNAAAAAAACSs0AAAAAAgJKzQAAAAAAAk7NAAAAAAICTs0AAAAAAAJSzQAAAAACAlLNAAAAAAACVs0AAAAAAgJWzQAAAAAAAlrNAAAAAAICWs0AAAAAAAJezQAAAAACAl7NAAAAAAACYs0AAAAAAgJizQAAAAAAAmbNAAAAAAICZs0AAAAAAAJqzQAAAAACAmrNAAAAAAACbs0AAAAAAgJuzQA==",
          "dtype": "f8"
         },
         "y": {
          "bdata": "aaktBV42w7/VdJJ5MMTDv1mJqSM+VsS/SbwDtorsxL8u5gPVFIfFv9F7CVjVJca/033ce77Ixr+77ykHu2/Hv1yJcGKtGsi/n7FppW7JyL+A0MOczXvJv69s6MuNMcq/xxeIb2bqyr+ImLuGAabLv0Hjren6Y8y/PAvrdd8jzb+5co9ZLOXNvwy3lodOp86/cdNdYKJpz79J1vvMuRXQv8AUDrr+ddC/ZaWSoTXV0L+s3lCu7DLRv/LUNTerjtG/Zh9vo/Ln0b+479eIPz7Sv5D/lAQLkdK/PbSES8zf0r+YsbRt+inTv+GjeEUOb9O/LDoqiISu07+VcTDs3+fTv51111WrGtS/2uTs+ntG1L9bRyRs82rUvxrjGnPBh9S/SE17tKWc1L9HlEQHcanUv/26i3QGrtS/Gj0W1luq1L/mUMENep7Uv3ZrmNN8itS/mtmLHJJu1L/yOakf+UrUvxbSUAMBINS/aavwPgfu07+ElyjAdbXTvxH+xePAdtO/Jzq4U2Uy078LRfra5ejSv6pvhj/JmtK/L3raMJhI0r9kLINX2/LRvyzcwI8ZmtG/ogfFVtY+0b+vonRvkOHQvxALJsHAgtC/L7SYcNki0L+x3vZiioTPv5IgkZrNws6/H48itjEBzr8PrAJGW0DNv84C1U/egMy/zcjyoT7Dy78OPo1b8AfLv3hndZ5YT8q/bJdFYM6Zyb8tP6pRm+fIv79tpNP8OMi/doXH8ySOx789G5dpO+fGvw02P5BeRMa/e/ngWKSlxb9RwpMyGwvFv3OQBObKdMS/WeZKY7Xiw783yxuB11TDv3Iy+6wpy8K/gO9rjKBFwr8JQGmPLcTBvw==",
          "dtype": "f8"
         }
        }
       ],
       "layout": {
        "plot_bgcolor": "white",
        "template": {
         "data": {
          "bar": [
           {
            "error_x": {
             "color": "#2a3f5f"
            },
            "error_y": {
             "color": "#2a3f5f"
            },
            "marker": {
             "line": {
              "color": "#E5ECF6",
              "width": 0.5
             },
             "pattern": {
              "fillmode": "overlay",
              "size": 10,
              "solidity": 0.2
             }
            },
            "type": "bar"
           }
          ],
          "barpolar": [
           {
            "marker": {
             "line": {
              "color": "#E5ECF6",
              "width": 0.5
             },
             "pattern": {
              "fillmode": "overlay",
              "size": 10,
              "solidity": 0.2
             }
            },
            "type": "barpolar"
           }
          ],
          "carpet": [
           {
            "aaxis": {
             "endlinecolor": "#2a3f5f",
             "gridcolor": "white",
             "linecolor": "white",
             "minorgridcolor": "white",
             "startlinecolor": "#2a3f5f"
            },
            "baxis": {
             "endlinecolor": "#2a3f5f",
             "gridcolor": "white",
             "linecolor": "white",
             "minorgridcolor": "white",
             "startlinecolor": "#2a3f5f"
            },
            "type": "carpet"
           }
          ],
          "choropleth": [
           {
            "colorbar": {
             "outlinewidth": 0,
             "ticks": ""
            },
            "type": "choropleth"
           }
          ],
          "contour": [
           {
            "colorbar": {
             "outlinewidth": 0,
             "ticks": ""
            },
            "colorscale": [
             [
              0,
              "#0d0887"
             ],
             [
              0.1111111111111111,
              "#46039f"
             ],
             [
              0.2222222222222222,
              "#7201a8"
             ],
             [
              0.3333333333333333,
              "#9c179e"
             ],
             [
              0.4444444444444444,
              "#bd3786"
             ],
             [
              0.5555555555555556,
              "#d8576b"
             ],
             [
              0.6666666666666666,
              "#ed7953"
             ],
             [
              0.7777777777777778,
              "#fb9f3a"
             ],
             [
              0.8888888888888888,
              "#fdca26"
             ],
             [
              1,
              "#f0f921"
             ]
            ],
            "type": "contour"
           }
          ],
          "contourcarpet": [
           {
            "colorbar": {
             "outlinewidth": 0,
             "ticks": ""
            },
            "type": "contourcarpet"
           }
          ],
          "heatmap": [
           {
            "colorbar": {
             "outlinewidth": 0,
             "ticks": ""
            },
            "colorscale": [
             [
              0,
              "#0d0887"
             ],
             [
              0.1111111111111111,
              "#46039f"
             ],
             [
              0.2222222222222222,
              "#7201a8"
             ],
             [
              0.3333333333333333,
              "#9c179e"
             ],
             [
              0.4444444444444444,
              "#bd3786"
             ],
             [
              0.5555555555555556,
              "#d8576b"
             ],
             [
              0.6666666666666666,
              "#ed7953"
             ],
             [
              0.7777777777777778,
              "#fb9f3a"
             ],
             [
              0.8888888888888888,
              "#fdca26"
             ],
             [
              1,
              "#f0f921"
             ]
            ],
            "type": "heatmap"
           }
          ],
          "histogram": [
           {
            "marker": {
             "pattern": {
              "fillmode": "overlay",
              "size": 10,
              "solidity": 0.2
             }
            },
            "type": "histogram"
           }
          ],
          "histogram2d": [
           {
            "colorbar": {
             "outlinewidth": 0,
             "ticks": ""
            },
            "colorscale": [
             [
              0,
              "#0d0887"
             ],
             [
              0.1111111111111111,
              "#46039f"
             ],
             [
              0.2222222222222222,
              "#7201a8"
             ],
             [
              0.3333333333333333,
              "#9c179e"
             ],
             [
              0.4444444444444444,
              "#bd3786"
             ],
             [
              0.5555555555555556,
              "#d8576b"
             ],
             [
              0.6666666666666666,
              "#ed7953"
             ],
             [
              0.7777777777777778,
              "#fb9f3a"
             ],
             [
              0.8888888888888888,
              "#fdca26"
             ],
             [
              1,
              "#f0f921"
             ]
            ],
            "type": "histogram2d"
           }
          ],
          "histogram2dcontour": [
           {
            "colorbar": {
             "outlinewidth": 0,
             "ticks": ""
            },
            "colorscale": [
             [
              0,
              "#0d0887"
             ],
             [
              0.1111111111111111,
              "#46039f"
             ],
             [
              0.2222222222222222,
              "#7201a8"
             ],
             [
              0.3333333333333333,
              "#9c179e"
             ],
             [
              0.4444444444444444,
              "#bd3786"
             ],
             [
              0.5555555555555556,
              "#d8576b"
             ],
             [
              0.6666666666666666,
              "#ed7953"
             ],
             [
              0.7777777777777778,
              "#fb9f3a"
             ],
             [
              0.8888888888888888,
              "#fdca26"
             ],
             [
              1,
              "#f0f921"
             ]
            ],
            "type": "histogram2dcontour"
           }
          ],
          "mesh3d": [
           {
            "colorbar": {
             "outlinewidth": 0,
             "ticks": ""
            },
            "type": "mesh3d"
           }
          ],
          "parcoords": [
           {
            "line": {
             "colorbar": {
              "outlinewidth": 0,
              "ticks": ""
             }
            },
            "type": "parcoords"
           }
          ],
          "pie": [
           {
            "automargin": true,
            "type": "pie"
           }
          ],
          "scatter": [
           {
            "fillpattern": {
             "fillmode": "overlay",
             "size": 10,
             "solidity": 0.2
            },
            "type": "scatter"
           }
          ],
          "scatter3d": [
           {
            "line": {
             "colorbar": {
              "outlinewidth": 0,
              "ticks": ""
             }
            },
            "marker": {
             "colorbar": {
              "outlinewidth": 0,
              "ticks": ""
             }
            },
            "type": "scatter3d"
           }
          ],
          "scattercarpet": [
           {
            "marker": {
             "colorbar": {
              "outlinewidth": 0,
              "ticks": ""
             }
            },
            "type": "scattercarpet"
           }
          ],
          "scattergeo": [
           {
            "marker": {
             "colorbar": {
              "outlinewidth": 0,
              "ticks": ""
             }
            },
            "type": "scattergeo"
           }
          ],
          "scattergl": [
           {
            "marker": {
             "colorbar": {
              "outlinewidth": 0,
              "ticks": ""
             }
            },
            "type": "scattergl"
           }
          ],
          "scattermap": [
           {
            "marker": {
             "colorbar": {
              "outlinewidth": 0,
              "ticks": ""
             }
            },
            "type": "scattermap"
           }
          ],
          "scattermapbox": [
           {
            "marker": {
             "colorbar": {
              "outlinewidth": 0,
              "ticks": ""
             }
            },
            "type": "scattermapbox"
           }
          ],
          "scatterpolar": [
           {
            "marker": {
             "colorbar": {
              "outlinewidth": 0,
              "ticks": ""
             }
            },
            "type": "scatterpolar"
           }
          ],
          "scatterpolargl": [
           {
            "marker": {
             "colorbar": {
              "outlinewidth": 0,
              "ticks": ""
             }
            },
            "type": "scatterpolargl"
           }
          ],
          "scatterternary": [
           {
            "marker": {
             "colorbar": {
              "outlinewidth": 0,
              "ticks": ""
             }
            },
            "type": "scatterternary"
           }
          ],
          "surface": [
           {
            "colorbar": {
             "outlinewidth": 0,
             "ticks": ""
            },
            "colorscale": [
             [
              0,
              "#0d0887"
             ],
             [
              0.1111111111111111,
              "#46039f"
             ],
             [
              0.2222222222222222,
              "#7201a8"
             ],
             [
              0.3333333333333333,
              "#9c179e"
             ],
             [
              0.4444444444444444,
              "#bd3786"
             ],
             [
              0.5555555555555556,
              "#d8576b"
             ],
             [
              0.6666666666666666,
              "#ed7953"
             ],
             [
              0.7777777777777778,
              "#fb9f3a"
             ],
             [
              0.8888888888888888,
              "#fdca26"
             ],
             [
              1,
              "#f0f921"
             ]
            ],
            "type": "surface"
           }
          ],
          "table": [
           {
            "cells": {
             "fill": {
              "color": "#EBF0F8"
             },
             "line": {
              "color": "white"
             }
            },
            "header": {
             "fill": {
              "color": "#C8D4E3"
             },
             "line": {
              "color": "white"
             }
            },
            "type": "table"
           }
          ]
         },
         "layout": {
          "annotationdefaults": {
           "arrowcolor": "#2a3f5f",
           "arrowhead": 0,
           "arrowwidth": 1
          },
          "autotypenumbers": "strict",
          "coloraxis": {
           "colorbar": {
            "outlinewidth": 0,
            "ticks": ""
           }
          },
          "colorscale": {
           "diverging": [
            [
             0,
             "#8e0152"
            ],
            [
             0.1,
             "#c51b7d"
            ],
            [
             0.2,
             "#de77ae"
            ],
            [
             0.3,
             "#f1b6da"
            ],
            [
             0.4,
             "#fde0ef"
            ],
            [
             0.5,
             "#f7f7f7"
            ],
            [
             0.6,
             "#e6f5d0"
            ],
            [
             0.7,
             "#b8e186"
            ],
            [
             0.8,
             "#7fbc41"
            ],
            [
             0.9,
             "#4d9221"
            ],
            [
             1,
             "#276419"
            ]
           ],
           "sequential": [
            [
             0,
             "#0d0887"
            ],
            [
             0.1111111111111111,
             "#46039f"
            ],
            [
             0.2222222222222222,
             "#7201a8"
            ],
            [
             0.3333333333333333,
             "#9c179e"
            ],
            [
             0.4444444444444444,
             "#bd3786"
            ],
            [
             0.5555555555555556,
             "#d8576b"
            ],
            [
             0.6666666666666666,
             "#ed7953"
            ],
            [
             0.7777777777777778,
             "#fb9f3a"
            ],
            [
             0.8888888888888888,
             "#fdca26"
            ],
            [
             1,
             "#f0f921"
            ]
           ],
           "sequentialminus": [
            [
             0,
             "#0d0887"
            ],
            [
             0.1111111111111111,
             "#46039f"
            ],
            [
             0.2222222222222222,
             "#7201a8"
            ],
            [
             0.3333333333333333,
             "#9c179e"
            ],
            [
             0.4444444444444444,
             "#bd3786"
            ],
            [
             0.5555555555555556,
             "#d8576b"
            ],
            [
             0.6666666666666666,
             "#ed7953"
            ],
            [
             0.7777777777777778,
             "#fb9f3a"
            ],
            [
             0.8888888888888888,
             "#fdca26"
            ],
            [
             1,
             "#f0f921"
            ]
           ]
          },
          "colorway": [
           "#636efa",
           "#EF553B",
           "#00cc96",
           "#ab63fa",
           "#FFA15A",
           "#19d3f3",
           "#FF6692",
           "#B6E880",
           "#FF97FF",
           "#FECB52"
          ],
          "font": {
           "color": "#2a3f5f"
          },
          "geo": {
           "bgcolor": "white",
           "lakecolor": "white",
           "landcolor": "#E5ECF6",
           "showlakes": true,
           "showland": true,
           "subunitcolor": "white"
          },
          "hoverlabel": {
           "align": "left"
          },
          "hovermode": "closest",
          "mapbox": {
           "style": "light"
          },
          "paper_bgcolor": "white",
          "plot_bgcolor": "#E5ECF6",
          "polar": {
           "angularaxis": {
            "gridcolor": "white",
            "linecolor": "white",
            "ticks": ""
           },
           "bgcolor": "#E5ECF6",
           "radialaxis": {
            "gridcolor": "white",
            "linecolor": "white",
            "ticks": ""
           }
          },
          "scene": {
           "xaxis": {
            "backgroundcolor": "#E5ECF6",
            "gridcolor": "white",
            "gridwidth": 2,
            "linecolor": "white",
            "showbackground": true,
            "ticks": "",
            "zerolinecolor": "white"
           },
           "yaxis": {
            "backgroundcolor": "#E5ECF6",
            "gridcolor": "white",
            "gridwidth": 2,
            "linecolor": "white",
            "showbackground": true,
            "ticks": "",
            "zerolinecolor": "white"
           },
           "zaxis": {
            "backgroundcolor": "#E5ECF6",
            "gridcolor": "white",
            "gridwidth": 2,
            "linecolor": "white",
            "showbackground": true,
            "ticks": "",
            "zerolinecolor": "white"
           }
          },
          "shapedefaults": {
           "line": {
            "color": "#2a3f5f"
           }
          },
          "ternary": {
           "aaxis": {
            "gridcolor": "white",
            "linecolor": "white",
            "ticks": ""
           },
           "baxis": {
            "gridcolor": "white",
            "linecolor": "white",
            "ticks": ""
           },
           "bgcolor": "#E5ECF6",
           "caxis": {
            "gridcolor": "white",
            "linecolor": "white",
            "ticks": ""
           }
          },
          "title": {
           "x": 0.05
          },
          "xaxis": {
           "automargin": true,
           "gridcolor": "white",
           "linecolor": "white",
           "ticks": "",
           "title": {
            "standoff": 15
           },
           "zerolinecolor": "white",
           "zerolinewidth": 2
          },
          "yaxis": {
           "automargin": true,
           "gridcolor": "white",
           "linecolor": "white",
           "ticks": "",
           "title": {
            "standoff": 15
           },
           "zerolinecolor": "white",
           "zerolinewidth": 2
          }
         }
        },
        "title": {
         "text": "Qubit spectroscopy resonator response phase"
        },
        "xaxis": {
         "title": {
          "text": "Frequency [MHz]"
         }
        },
        "yaxis": {
         "title": {
          "text": "Phase"
         }
        }
       }
      }
     },
     "metadata": {},
     "output_type": "display_data"
    },
    {
     "data": {
      "application/json": {
       "print_time": "2025-08-24 14:41:40",
       "record_book_path": "log/coxious/2025-08/2025-08-24/14.41.39",
       "record_entry_path": "/root/2-QubitSpectroscopyFrequency.run",
       "record_id": "7a45be6b-5388-429f-8c8e-5a2825ee4ea2",
       "record_time": 1756071699
      },
      "text/plain": [
       "<IPython.core.display.JSON object>"
      ]
     },
     "metadata": {
      "application/json": {
       "expanded": false,
       "root": "QubitSpectroscopyFrequency"
      }
     },
     "output_type": "display_data"
    }
   ],
   "source": [
    "# 2. Single-tone frequency spectroscopy\n",
    "freq_spec = QubitSpectroscopyFrequency(\n",
    "    dut_qubit=qubit,\n",
    "    start=4980.0,\n",
    "    stop=5020.0,\n",
    "    step=0.5,\n",
    "    num_avs=1000,\n",
    "    amp=0.1,\n",
    "    mp_width=1.0,\n",
    "    disable_noise=True\n",
    ")"
   ]
  },
  {
   "cell_type": "code",
   "execution_count": null,
   "metadata": {},
   "outputs": [],
   "source": [
    "# 3. Amplitude-frequency 2D spectroscopy\n",
    "exp_2d = QubitSpectroscopyAmplitudeFrequency(\n",
    "    dut_qubit=qubit,\n",
    "    start=4980-100.0,\n",
    "    stop=5020+100.0,\n",
    "    step=2.0,\n",
    "    qubit_amp_start=0.001,\n",
    "    qubit_amp_stop=0.1,\n",
    "    qubit_amp_step=0.001,\n",
    "    num_avs=1000,\n",
    "    disable_noise=True\n",
    ")"
   ]
  },
  {
   "cell_type": "code",
   "execution_count": 7,
   "metadata": {},
   "outputs": [
    {
     "data": {
      "application/vnd.plotly.v1+json": {
       "config": {
        "plotlyServerURL": "https://plot.ly"
       },
       "data": [
        {
         "colorbar": {
          "title": {
           "text": "Magnitude"
          }
         },
         "colorscale": [
          [
           0,
           "#440154"
          ],
          [
           0.1111111111111111,
           "#482878"
          ],
          [
           0.2222222222222222,
           "#3e4989"
          ],
          [
           0.3333333333333333,
           "#31688e"
          ],
          [
           0.4444444444444444,
           "#26828e"
          ],
          [
           0.5555555555555556,
           "#1f9e89"
          ],
          [
           0.6666666666666666,
           "#35b779"
          ],
          [
           0.7777777777777778,
           "#6ece58"
          ],
          [
           0.8888888888888888,
           "#b5de2b"
          ],
          [
           1,
           "#fde725"
          ]
         ],
         "type": "heatmap",
         "x": {
          "bdata": "AAAAAAB0s0AAAAAAAHazQAAAAAAAeLNAAAAAAAB6s0AAAAAAAHyzQAAAAAAAfrNAAAAAAACAs0AAAAAAAIKzQAAAAAAAhLNAAAAAAACGs0AAAAAAAIizQAAAAAAAirNAAAAAAACMs0AAAAAAAI6zQAAAAAAAkLNAAAAAAACSs0AAAAAAAJSzQAAAAAAAlrNAAAAAAACYs0AAAAAAAJqzQAAAAAAAnLNA",
          "dtype": "f8"
         },
         "y": {
          "bdata": "AAAAAAB0s0AAAAAAAHazQAAAAAAAeLNAAAAAAAB6s0AAAAAAAHyzQAAAAAAAfrNAAAAAAACAs0AAAAAAAIKzQAAAAAAAhLNAAAAAAACGs0AAAAAAAIizQAAAAAAAirNAAAAAAACMs0AAAAAAAI6zQAAAAAAAkLNAAAAAAACSs0AAAAAAAJSzQAAAAAAAlrNAAAAAAACYs0AAAAAAAJqzQAAAAAAAnLNA",
          "dtype": "f8"
         },
         "z": {
          "bdata": "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",
          "dtype": "f8",
          "shape": "21, 21"
         }
        }
       ],
       "layout": {
        "height": 600,
        "template": {
         "data": {
          "bar": [
           {
            "error_x": {
             "color": "#2a3f5f"
            },
            "error_y": {
             "color": "#2a3f5f"
            },
            "marker": {
             "line": {
              "color": "#E5ECF6",
              "width": 0.5
             },
             "pattern": {
              "fillmode": "overlay",
              "size": 10,
              "solidity": 0.2
             }
            },
            "type": "bar"
           }
          ],
          "barpolar": [
           {
            "marker": {
             "line": {
              "color": "#E5ECF6",
              "width": 0.5
             },
             "pattern": {
              "fillmode": "overlay",
              "size": 10,
              "solidity": 0.2
             }
            },
            "type": "barpolar"
           }
          ],
          "carpet": [
           {
            "aaxis": {
             "endlinecolor": "#2a3f5f",
             "gridcolor": "white",
             "linecolor": "white",
             "minorgridcolor": "white",
             "startlinecolor": "#2a3f5f"
            },
            "baxis": {
             "endlinecolor": "#2a3f5f",
             "gridcolor": "white",
             "linecolor": "white",
             "minorgridcolor": "white",
             "startlinecolor": "#2a3f5f"
            },
            "type": "carpet"
           }
          ],
          "choropleth": [
           {
            "colorbar": {
             "outlinewidth": 0,
             "ticks": ""
            },
            "type": "choropleth"
           }
          ],
          "contour": [
           {
            "colorbar": {
             "outlinewidth": 0,
             "ticks": ""
            },
            "colorscale": [
             [
              0,
              "#0d0887"
             ],
             [
              0.1111111111111111,
              "#46039f"
             ],
             [
              0.2222222222222222,
              "#7201a8"
             ],
             [
              0.3333333333333333,
              "#9c179e"
             ],
             [
              0.4444444444444444,
              "#bd3786"
             ],
             [
              0.5555555555555556,
              "#d8576b"
             ],
             [
              0.6666666666666666,
              "#ed7953"
             ],
             [
              0.7777777777777778,
              "#fb9f3a"
             ],
             [
              0.8888888888888888,
              "#fdca26"
             ],
             [
              1,
              "#f0f921"
             ]
            ],
            "type": "contour"
           }
          ],
          "contourcarpet": [
           {
            "colorbar": {
             "outlinewidth": 0,
             "ticks": ""
            },
            "type": "contourcarpet"
           }
          ],
          "heatmap": [
           {
            "colorbar": {
             "outlinewidth": 0,
             "ticks": ""
            },
            "colorscale": [
             [
              0,
              "#0d0887"
             ],
             [
              0.1111111111111111,
              "#46039f"
             ],
             [
              0.2222222222222222,
              "#7201a8"
             ],
             [
              0.3333333333333333,
              "#9c179e"
             ],
             [
              0.4444444444444444,
              "#bd3786"
             ],
             [
              0.5555555555555556,
              "#d8576b"
             ],
             [
              0.6666666666666666,
              "#ed7953"
             ],
             [
              0.7777777777777778,
              "#fb9f3a"
             ],
             [
              0.8888888888888888,
              "#fdca26"
             ],
             [
              1,
              "#f0f921"
             ]
            ],
            "type": "heatmap"
           }
          ],
          "histogram": [
           {
            "marker": {
             "pattern": {
              "fillmode": "overlay",
              "size": 10,
              "solidity": 0.2
             }
            },
            "type": "histogram"
           }
          ],
          "histogram2d": [
           {
            "colorbar": {
             "outlinewidth": 0,
             "ticks": ""
            },
            "colorscale": [
             [
              0,
              "#0d0887"
             ],
             [
              0.1111111111111111,
              "#46039f"
             ],
             [
              0.2222222222222222,
              "#7201a8"
             ],
             [
              0.3333333333333333,
              "#9c179e"
             ],
             [
              0.4444444444444444,
              "#bd3786"
             ],
             [
              0.5555555555555556,
              "#d8576b"
             ],
             [
              0.6666666666666666,
              "#ed7953"
             ],
             [
              0.7777777777777778,
              "#fb9f3a"
             ],
             [
              0.8888888888888888,
              "#fdca26"
             ],
             [
              1,
              "#f0f921"
             ]
            ],
            "type": "histogram2d"
           }
          ],
          "histogram2dcontour": [
           {
            "colorbar": {
             "outlinewidth": 0,
             "ticks": ""
            },
            "colorscale": [
             [
              0,
              "#0d0887"
             ],
             [
              0.1111111111111111,
              "#46039f"
             ],
             [
              0.2222222222222222,
              "#7201a8"
             ],
             [
              0.3333333333333333,
              "#9c179e"
             ],
             [
              0.4444444444444444,
              "#bd3786"
             ],
             [
              0.5555555555555556,
              "#d8576b"
             ],
             [
              0.6666666666666666,
              "#ed7953"
             ],
             [
              0.7777777777777778,
              "#fb9f3a"
             ],
             [
              0.8888888888888888,
              "#fdca26"
             ],
             [
              1,
              "#f0f921"
             ]
            ],
            "type": "histogram2dcontour"
           }
          ],
          "mesh3d": [
           {
            "colorbar": {
             "outlinewidth": 0,
             "ticks": ""
            },
            "type": "mesh3d"
           }
          ],
          "parcoords": [
           {
            "line": {
             "colorbar": {
              "outlinewidth": 0,
              "ticks": ""
             }
            },
            "type": "parcoords"
           }
          ],
          "pie": [
           {
            "automargin": true,
            "type": "pie"
           }
          ],
          "scatter": [
           {
            "fillpattern": {
             "fillmode": "overlay",
             "size": 10,
             "solidity": 0.2
            },
            "type": "scatter"
           }
          ],
          "scatter3d": [
           {
            "line": {
             "colorbar": {
              "outlinewidth": 0,
              "ticks": ""
             }
            },
            "marker": {
             "colorbar": {
              "outlinewidth": 0,
              "ticks": ""
             }
            },
            "type": "scatter3d"
           }
          ],
          "scattercarpet": [
           {
            "marker": {
             "colorbar": {
              "outlinewidth": 0,
              "ticks": ""
             }
            },
            "type": "scattercarpet"
           }
          ],
          "scattergeo": [
           {
            "marker": {
             "colorbar": {
              "outlinewidth": 0,
              "ticks": ""
             }
            },
            "type": "scattergeo"
           }
          ],
          "scattergl": [
           {
            "marker": {
             "colorbar": {
              "outlinewidth": 0,
              "ticks": ""
             }
            },
            "type": "scattergl"
           }
          ],
          "scattermap": [
           {
            "marker": {
             "colorbar": {
              "outlinewidth": 0,
              "ticks": ""
             }
            },
            "type": "scattermap"
           }
          ],
          "scattermapbox": [
           {
            "marker": {
             "colorbar": {
              "outlinewidth": 0,
              "ticks": ""
             }
            },
            "type": "scattermapbox"
           }
          ],
          "scatterpolar": [
           {
            "marker": {
             "colorbar": {
              "outlinewidth": 0,
              "ticks": ""
             }
            },
            "type": "scatterpolar"
           }
          ],
          "scatterpolargl": [
           {
            "marker": {
             "colorbar": {
              "outlinewidth": 0,
              "ticks": ""
             }
            },
            "type": "scatterpolargl"
           }
          ],
          "scatterternary": [
           {
            "marker": {
             "colorbar": {
              "outlinewidth": 0,
              "ticks": ""
             }
            },
            "type": "scatterternary"
           }
          ],
          "surface": [
           {
            "colorbar": {
             "outlinewidth": 0,
             "ticks": ""
            },
            "colorscale": [
             [
              0,
              "#0d0887"
             ],
             [
              0.1111111111111111,
              "#46039f"
             ],
             [
              0.2222222222222222,
              "#7201a8"
             ],
             [
              0.3333333333333333,
              "#9c179e"
             ],
             [
              0.4444444444444444,
              "#bd3786"
             ],
             [
              0.5555555555555556,
              "#d8576b"
             ],
             [
              0.6666666666666666,
              "#ed7953"
             ],
             [
              0.7777777777777778,
              "#fb9f3a"
             ],
             [
              0.8888888888888888,
              "#fdca26"
             ],
             [
              1,
              "#f0f921"
             ]
            ],
            "type": "surface"
           }
          ],
          "table": [
           {
            "cells": {
             "fill": {
              "color": "#EBF0F8"
             },
             "line": {
              "color": "white"
             }
            },
            "header": {
             "fill": {
              "color": "#C8D4E3"
             },
             "line": {
              "color": "white"
             }
            },
            "type": "table"
           }
          ]
         },
         "layout": {
          "annotationdefaults": {
           "arrowcolor": "#2a3f5f",
           "arrowhead": 0,
           "arrowwidth": 1
          },
          "autotypenumbers": "strict",
          "coloraxis": {
           "colorbar": {
            "outlinewidth": 0,
            "ticks": ""
           }
          },
          "colorscale": {
           "diverging": [
            [
             0,
             "#8e0152"
            ],
            [
             0.1,
             "#c51b7d"
            ],
            [
             0.2,
             "#de77ae"
            ],
            [
             0.3,
             "#f1b6da"
            ],
            [
             0.4,
             "#fde0ef"
            ],
            [
             0.5,
             "#f7f7f7"
            ],
            [
             0.6,
             "#e6f5d0"
            ],
            [
             0.7,
             "#b8e186"
            ],
            [
             0.8,
             "#7fbc41"
            ],
            [
             0.9,
             "#4d9221"
            ],
            [
             1,
             "#276419"
            ]
           ],
           "sequential": [
            [
             0,
             "#0d0887"
            ],
            [
             0.1111111111111111,
             "#46039f"
            ],
            [
             0.2222222222222222,
             "#7201a8"
            ],
            [
             0.3333333333333333,
             "#9c179e"
            ],
            [
             0.4444444444444444,
             "#bd3786"
            ],
            [
             0.5555555555555556,
             "#d8576b"
            ],
            [
             0.6666666666666666,
             "#ed7953"
            ],
            [
             0.7777777777777778,
             "#fb9f3a"
            ],
            [
             0.8888888888888888,
             "#fdca26"
            ],
            [
             1,
             "#f0f921"
            ]
           ],
           "sequentialminus": [
            [
             0,
             "#0d0887"
            ],
            [
             0.1111111111111111,
             "#46039f"
            ],
            [
             0.2222222222222222,
             "#7201a8"
            ],
            [
             0.3333333333333333,
             "#9c179e"
            ],
            [
             0.4444444444444444,
             "#bd3786"
            ],
            [
             0.5555555555555556,
             "#d8576b"
            ],
            [
             0.6666666666666666,
             "#ed7953"
            ],
            [
             0.7777777777777778,
             "#fb9f3a"
            ],
            [
             0.8888888888888888,
             "#fdca26"
            ],
            [
             1,
             "#f0f921"
            ]
           ]
          },
          "colorway": [
           "#636efa",
           "#EF553B",
           "#00cc96",
           "#ab63fa",
           "#FFA15A",
           "#19d3f3",
           "#FF6692",
           "#B6E880",
           "#FF97FF",
           "#FECB52"
          ],
          "font": {
           "color": "#2a3f5f"
          },
          "geo": {
           "bgcolor": "white",
           "lakecolor": "white",
           "landcolor": "#E5ECF6",
           "showlakes": true,
           "showland": true,
           "subunitcolor": "white"
          },
          "hoverlabel": {
           "align": "left"
          },
          "hovermode": "closest",
          "mapbox": {
           "style": "light"
          },
          "paper_bgcolor": "white",
          "plot_bgcolor": "#E5ECF6",
          "polar": {
           "angularaxis": {
            "gridcolor": "white",
            "linecolor": "white",
            "ticks": ""
           },
           "bgcolor": "#E5ECF6",
           "radialaxis": {
            "gridcolor": "white",
            "linecolor": "white",
            "ticks": ""
           }
          },
          "scene": {
           "xaxis": {
            "backgroundcolor": "#E5ECF6",
            "gridcolor": "white",
            "gridwidth": 2,
            "linecolor": "white",
            "showbackground": true,
            "ticks": "",
            "zerolinecolor": "white"
           },
           "yaxis": {
            "backgroundcolor": "#E5ECF6",
            "gridcolor": "white",
            "gridwidth": 2,
            "linecolor": "white",
            "showbackground": true,
            "ticks": "",
            "zerolinecolor": "white"
           },
           "zaxis": {
            "backgroundcolor": "#E5ECF6",
            "gridcolor": "white",
            "gridwidth": 2,
            "linecolor": "white",
            "showbackground": true,
            "ticks": "",
            "zerolinecolor": "white"
           }
          },
          "shapedefaults": {
           "line": {
            "color": "#2a3f5f"
           }
          },
          "ternary": {
           "aaxis": {
            "gridcolor": "white",
            "linecolor": "white",
            "ticks": ""
           },
           "baxis": {
            "gridcolor": "white",
            "linecolor": "white",
            "ticks": ""
           },
           "bgcolor": "#E5ECF6",
           "caxis": {
            "gridcolor": "white",
            "linecolor": "white",
            "ticks": ""
           }
          },
          "title": {
           "x": 0.05
          },
          "xaxis": {
           "automargin": true,
           "gridcolor": "white",
           "linecolor": "white",
           "ticks": "",
           "title": {
            "standoff": 15
           },
           "zerolinecolor": "white",
           "zerolinewidth": 2
          },
          "yaxis": {
           "automargin": true,
           "gridcolor": "white",
           "linecolor": "white",
           "ticks": "",
           "title": {
            "standoff": 15
           },
           "zerolinecolor": "white",
           "zerolinewidth": 2
          }
         }
        },
        "title": {
         "text": "Two-Tone Qubit Spectroscopy"
        },
        "width": 800,
        "xaxis": {
         "title": {
          "text": "Tone 2 Frequency (MHz)"
         }
        },
        "yaxis": {
         "title": {
          "text": "Tone 1 Frequency (MHz)"
         }
        }
       }
      }
     },
     "metadata": {},
     "output_type": "display_data"
    },
    {
     "data": {
      "application/vnd.plotly.v1+json": {
       "config": {
        "plotlyServerURL": "https://plot.ly"
       },
       "data": [
        {
         "colorbar": {
          "title": {
           "text": "Phase (rad)"
          }
         },
         "colorscale": [
          [
           0,
           "rgb(103,0,31)"
          ],
          [
           0.1,
           "rgb(178,24,43)"
          ],
          [
           0.2,
           "rgb(214,96,77)"
          ],
          [
           0.3,
           "rgb(244,165,130)"
          ],
          [
           0.4,
           "rgb(253,219,199)"
          ],
          [
           0.5,
           "rgb(247,247,247)"
          ],
          [
           0.6,
           "rgb(209,229,240)"
          ],
          [
           0.7,
           "rgb(146,197,222)"
          ],
          [
           0.8,
           "rgb(67,147,195)"
          ],
          [
           0.9,
           "rgb(33,102,172)"
          ],
          [
           1,
           "rgb(5,48,97)"
          ]
         ],
         "type": "heatmap",
         "x": {
          "bdata": "AAAAAAB0s0AAAAAAAHazQAAAAAAAeLNAAAAAAAB6s0AAAAAAAHyzQAAAAAAAfrNAAAAAAACAs0AAAAAAAIKzQAAAAAAAhLNAAAAAAACGs0AAAAAAAIizQAAAAAAAirNAAAAAAACMs0AAAAAAAI6zQAAAAAAAkLNAAAAAAACSs0AAAAAAAJSzQAAAAAAAlrNAAAAAAACYs0AAAAAAAJqzQAAAAAAAnLNA",
          "dtype": "f8"
         },
         "y": {
          "bdata": "AAAAAAB0s0AAAAAAAHazQAAAAAAAeLNAAAAAAAB6s0AAAAAAAHyzQAAAAAAAfrNAAAAAAACAs0AAAAAAAIKzQAAAAAAAhLNAAAAAAACGs0AAAAAAAIizQAAAAAAAirNAAAAAAACMs0AAAAAAAI6zQAAAAAAAkLNAAAAAAACSs0AAAAAAAJSzQAAAAAAAlrNAAAAAAACYs0AAAAAAAJqzQAAAAAAAnLNA",
          "dtype": "f8"
         },
         "z": {
          "bdata": "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",
          "dtype": "f8",
          "shape": "21, 21"
         }
        }
       ],
       "layout": {
        "height": 600,
        "template": {
         "data": {
          "bar": [
           {
            "error_x": {
             "color": "#2a3f5f"
            },
            "error_y": {
             "color": "#2a3f5f"
            },
            "marker": {
             "line": {
              "color": "#E5ECF6",
              "width": 0.5
             },
             "pattern": {
              "fillmode": "overlay",
              "size": 10,
              "solidity": 0.2
             }
            },
            "type": "bar"
           }
          ],
          "barpolar": [
           {
            "marker": {
             "line": {
              "color": "#E5ECF6",
              "width": 0.5
             },
             "pattern": {
              "fillmode": "overlay",
              "size": 10,
              "solidity": 0.2
             }
            },
            "type": "barpolar"
           }
          ],
          "carpet": [
           {
            "aaxis": {
             "endlinecolor": "#2a3f5f",
             "gridcolor": "white",
             "linecolor": "white",
             "minorgridcolor": "white",
             "startlinecolor": "#2a3f5f"
            },
            "baxis": {
             "endlinecolor": "#2a3f5f",
             "gridcolor": "white",
             "linecolor": "white",
             "minorgridcolor": "white",
             "startlinecolor": "#2a3f5f"
            },
            "type": "carpet"
           }
          ],
          "choropleth": [
           {
            "colorbar": {
             "outlinewidth": 0,
             "ticks": ""
            },
            "type": "choropleth"
           }
          ],
          "contour": [
           {
            "colorbar": {
             "outlinewidth": 0,
             "ticks": ""
            },
            "colorscale": [
             [
              0,
              "#0d0887"
             ],
             [
              0.1111111111111111,
              "#46039f"
             ],
             [
              0.2222222222222222,
              "#7201a8"
             ],
             [
              0.3333333333333333,
              "#9c179e"
             ],
             [
              0.4444444444444444,
              "#bd3786"
             ],
             [
              0.5555555555555556,
              "#d8576b"
             ],
             [
              0.6666666666666666,
              "#ed7953"
             ],
             [
              0.7777777777777778,
              "#fb9f3a"
             ],
             [
              0.8888888888888888,
              "#fdca26"
             ],
             [
              1,
              "#f0f921"
             ]
            ],
            "type": "contour"
           }
          ],
          "contourcarpet": [
           {
            "colorbar": {
             "outlinewidth": 0,
             "ticks": ""
            },
            "type": "contourcarpet"
           }
          ],
          "heatmap": [
           {
            "colorbar": {
             "outlinewidth": 0,
             "ticks": ""
            },
            "colorscale": [
             [
              0,
              "#0d0887"
             ],
             [
              0.1111111111111111,
              "#46039f"
             ],
             [
              0.2222222222222222,
              "#7201a8"
             ],
             [
              0.3333333333333333,
              "#9c179e"
             ],
             [
              0.4444444444444444,
              "#bd3786"
             ],
             [
              0.5555555555555556,
              "#d8576b"
             ],
             [
              0.6666666666666666,
              "#ed7953"
             ],
             [
              0.7777777777777778,
              "#fb9f3a"
             ],
             [
              0.8888888888888888,
              "#fdca26"
             ],
             [
              1,
              "#f0f921"
             ]
            ],
            "type": "heatmap"
           }
          ],
          "histogram": [
           {
            "marker": {
             "pattern": {
              "fillmode": "overlay",
              "size": 10,
              "solidity": 0.2
             }
            },
            "type": "histogram"
           }
          ],
          "histogram2d": [
           {
            "colorbar": {
             "outlinewidth": 0,
             "ticks": ""
            },
            "colorscale": [
             [
              0,
              "#0d0887"
             ],
             [
              0.1111111111111111,
              "#46039f"
             ],
             [
              0.2222222222222222,
              "#7201a8"
             ],
             [
              0.3333333333333333,
              "#9c179e"
             ],
             [
              0.4444444444444444,
              "#bd3786"
             ],
             [
              0.5555555555555556,
              "#d8576b"
             ],
             [
              0.6666666666666666,
              "#ed7953"
             ],
             [
              0.7777777777777778,
              "#fb9f3a"
             ],
             [
              0.8888888888888888,
              "#fdca26"
             ],
             [
              1,
              "#f0f921"
             ]
            ],
            "type": "histogram2d"
           }
          ],
          "histogram2dcontour": [
           {
            "colorbar": {
             "outlinewidth": 0,
             "ticks": ""
            },
            "colorscale": [
             [
              0,
              "#0d0887"
             ],
             [
              0.1111111111111111,
              "#46039f"
             ],
             [
              0.2222222222222222,
              "#7201a8"
             ],
             [
              0.3333333333333333,
              "#9c179e"
             ],
             [
              0.4444444444444444,
              "#bd3786"
             ],
             [
              0.5555555555555556,
              "#d8576b"
             ],
             [
              0.6666666666666666,
              "#ed7953"
             ],
             [
              0.7777777777777778,
              "#fb9f3a"
             ],
             [
              0.8888888888888888,
              "#fdca26"
             ],
             [
              1,
              "#f0f921"
             ]
            ],
            "type": "histogram2dcontour"
           }
          ],
          "mesh3d": [
           {
            "colorbar": {
             "outlinewidth": 0,
             "ticks": ""
            },
            "type": "mesh3d"
           }
          ],
          "parcoords": [
           {
            "line": {
             "colorbar": {
              "outlinewidth": 0,
              "ticks": ""
             }
            },
            "type": "parcoords"
           }
          ],
          "pie": [
           {
            "automargin": true,
            "type": "pie"
           }
          ],
          "scatter": [
           {
            "fillpattern": {
             "fillmode": "overlay",
             "size": 10,
             "solidity": 0.2
            },
            "type": "scatter"
           }
          ],
          "scatter3d": [
           {
            "line": {
             "colorbar": {
              "outlinewidth": 0,
              "ticks": ""
             }
            },
            "marker": {
             "colorbar": {
              "outlinewidth": 0,
              "ticks": ""
             }
            },
            "type": "scatter3d"
           }
          ],
          "scattercarpet": [
           {
            "marker": {
             "colorbar": {
              "outlinewidth": 0,
              "ticks": ""
             }
            },
            "type": "scattercarpet"
           }
          ],
          "scattergeo": [
           {
            "marker": {
             "colorbar": {
              "outlinewidth": 0,
              "ticks": ""
             }
            },
            "type": "scattergeo"
           }
          ],
          "scattergl": [
           {
            "marker": {
             "colorbar": {
              "outlinewidth": 0,
              "ticks": ""
             }
            },
            "type": "scattergl"
           }
          ],
          "scattermap": [
           {
            "marker": {
             "colorbar": {
              "outlinewidth": 0,
              "ticks": ""
             }
            },
            "type": "scattermap"
           }
          ],
          "scattermapbox": [
           {
            "marker": {
             "colorbar": {
              "outlinewidth": 0,
              "ticks": ""
             }
            },
            "type": "scattermapbox"
           }
          ],
          "scatterpolar": [
           {
            "marker": {
             "colorbar": {
              "outlinewidth": 0,
              "ticks": ""
             }
            },
            "type": "scatterpolar"
           }
          ],
          "scatterpolargl": [
           {
            "marker": {
             "colorbar": {
              "outlinewidth": 0,
              "ticks": ""
             }
            },
            "type": "scatterpolargl"
           }
          ],
          "scatterternary": [
           {
            "marker": {
             "colorbar": {
              "outlinewidth": 0,
              "ticks": ""
             }
            },
            "type": "scatterternary"
           }
          ],
          "surface": [
           {
            "colorbar": {
             "outlinewidth": 0,
             "ticks": ""
            },
            "colorscale": [
             [
              0,
              "#0d0887"
             ],
             [
              0.1111111111111111,
              "#46039f"
             ],
             [
              0.2222222222222222,
              "#7201a8"
             ],
             [
              0.3333333333333333,
              "#9c179e"
             ],
             [
              0.4444444444444444,
              "#bd3786"
             ],
             [
              0.5555555555555556,
              "#d8576b"
             ],
             [
              0.6666666666666666,
              "#ed7953"
             ],
             [
              0.7777777777777778,
              "#fb9f3a"
             ],
             [
              0.8888888888888888,
              "#fdca26"
             ],
             [
              1,
              "#f0f921"
             ]
            ],
            "type": "surface"
           }
          ],
          "table": [
           {
            "cells": {
             "fill": {
              "color": "#EBF0F8"
             },
             "line": {
              "color": "white"
             }
            },
            "header": {
             "fill": {
              "color": "#C8D4E3"
             },
             "line": {
              "color": "white"
             }
            },
            "type": "table"
           }
          ]
         },
         "layout": {
          "annotationdefaults": {
           "arrowcolor": "#2a3f5f",
           "arrowhead": 0,
           "arrowwidth": 1
          },
          "autotypenumbers": "strict",
          "coloraxis": {
           "colorbar": {
            "outlinewidth": 0,
            "ticks": ""
           }
          },
          "colorscale": {
           "diverging": [
            [
             0,
             "#8e0152"
            ],
            [
             0.1,
             "#c51b7d"
            ],
            [
             0.2,
             "#de77ae"
            ],
            [
             0.3,
             "#f1b6da"
            ],
            [
             0.4,
             "#fde0ef"
            ],
            [
             0.5,
             "#f7f7f7"
            ],
            [
             0.6,
             "#e6f5d0"
            ],
            [
             0.7,
             "#b8e186"
            ],
            [
             0.8,
             "#7fbc41"
            ],
            [
             0.9,
             "#4d9221"
            ],
            [
             1,
             "#276419"
            ]
           ],
           "sequential": [
            [
             0,
             "#0d0887"
            ],
            [
             0.1111111111111111,
             "#46039f"
            ],
            [
             0.2222222222222222,
             "#7201a8"
            ],
            [
             0.3333333333333333,
             "#9c179e"
            ],
            [
             0.4444444444444444,
             "#bd3786"
            ],
            [
             0.5555555555555556,
             "#d8576b"
            ],
            [
             0.6666666666666666,
             "#ed7953"
            ],
            [
             0.7777777777777778,
             "#fb9f3a"
            ],
            [
             0.8888888888888888,
             "#fdca26"
            ],
            [
             1,
             "#f0f921"
            ]
           ],
           "sequentialminus": [
            [
             0,
             "#0d0887"
            ],
            [
             0.1111111111111111,
             "#46039f"
            ],
            [
             0.2222222222222222,
             "#7201a8"
            ],
            [
             0.3333333333333333,
             "#9c179e"
            ],
            [
             0.4444444444444444,
             "#bd3786"
            ],
            [
             0.5555555555555556,
             "#d8576b"
            ],
            [
             0.6666666666666666,
             "#ed7953"
            ],
            [
             0.7777777777777778,
             "#fb9f3a"
            ],
            [
             0.8888888888888888,
             "#fdca26"
            ],
            [
             1,
             "#f0f921"
            ]
           ]
          },
          "colorway": [
           "#636efa",
           "#EF553B",
           "#00cc96",
           "#ab63fa",
           "#FFA15A",
           "#19d3f3",
           "#FF6692",
           "#B6E880",
           "#FF97FF",
           "#FECB52"
          ],
          "font": {
           "color": "#2a3f5f"
          },
          "geo": {
           "bgcolor": "white",
           "lakecolor": "white",
           "landcolor": "#E5ECF6",
           "showlakes": true,
           "showland": true,
           "subunitcolor": "white"
          },
          "hoverlabel": {
           "align": "left"
          },
          "hovermode": "closest",
          "mapbox": {
           "style": "light"
          },
          "paper_bgcolor": "white",
          "plot_bgcolor": "#E5ECF6",
          "polar": {
           "angularaxis": {
            "gridcolor": "white",
            "linecolor": "white",
            "ticks": ""
           },
           "bgcolor": "#E5ECF6",
           "radialaxis": {
            "gridcolor": "white",
            "linecolor": "white",
            "ticks": ""
           }
          },
          "scene": {
           "xaxis": {
            "backgroundcolor": "#E5ECF6",
            "gridcolor": "white",
            "gridwidth": 2,
            "linecolor": "white",
            "showbackground": true,
            "ticks": "",
            "zerolinecolor": "white"
           },
           "yaxis": {
            "backgroundcolor": "#E5ECF6",
            "gridcolor": "white",
            "gridwidth": 2,
            "linecolor": "white",
            "showbackground": true,
            "ticks": "",
            "zerolinecolor": "white"
           },
           "zaxis": {
            "backgroundcolor": "#E5ECF6",
            "gridcolor": "white",
            "gridwidth": 2,
            "linecolor": "white",
            "showbackground": true,
            "ticks": "",
            "zerolinecolor": "white"
           }
          },
          "shapedefaults": {
           "line": {
            "color": "#2a3f5f"
           }
          },
          "ternary": {
           "aaxis": {
            "gridcolor": "white",
            "linecolor": "white",
            "ticks": ""
           },
           "baxis": {
            "gridcolor": "white",
            "linecolor": "white",
            "ticks": ""
           },
           "bgcolor": "#E5ECF6",
           "caxis": {
            "gridcolor": "white",
            "linecolor": "white",
            "ticks": ""
           }
          },
          "title": {
           "x": 0.05
          },
          "xaxis": {
           "automargin": true,
           "gridcolor": "white",
           "linecolor": "white",
           "ticks": "",
           "title": {
            "standoff": 15
           },
           "zerolinecolor": "white",
           "zerolinewidth": 2
          },
          "yaxis": {
           "automargin": true,
           "gridcolor": "white",
           "linecolor": "white",
           "ticks": "",
           "title": {
            "standoff": 15
           },
           "zerolinecolor": "white",
           "zerolinewidth": 2
          }
         }
        },
        "title": {
         "text": "Two-Tone Spectroscopy - Phase"
        },
        "width": 800,
        "xaxis": {
         "title": {
          "text": "Tone 2 Frequency (MHz)"
         }
        },
        "yaxis": {
         "title": {
          "text": "Tone 1 Frequency (MHz)"
         }
        }
       }
      }
     },
     "metadata": {},
     "output_type": "display_data"
    },
    {
     "data": {
      "application/json": {
       "print_time": "2025-08-24 14:41:49",
       "record_book_path": "log/coxious/2025-08/2025-08-24/14.41.39",
       "record_entry_path": "/root/4-TwoToneQubitSpectroscopy.run",
       "record_id": "a1b50f61-91d3-4ff8-b59b-d3cf1fda10e6",
       "record_time": 1756071704
      },
      "text/plain": [
       "<IPython.core.display.JSON object>"
      ]
     },
     "metadata": {
      "application/json": {
       "expanded": false,
       "root": "TwoToneQubitSpectroscopy"
      }
     },
     "output_type": "display_data"
    }
   ],
   "source": [
    "# 4. Two-tone spectroscopy\n",
    "two_tone_spec = TwoToneQubitSpectroscopy(\n",
    "    dut_qubit=qubit,\n",
    "    tone1_start=4980.0,\n",
    "    tone1_stop=5020.0,\n",
    "    tone1_step=2.0,\n",
    "    tone1_amp=0.1,\n",
    "    tone2_start=4980.0,\n",
    "    tone2_stop=5020.0,\n",
    "    tone2_step=2.0,\n",
    "    tone2_amp=0.1,\n",
    "    same_channel=True,\n",
    "    num_avs=1000,\n",
    "    mp_width=1.0,\n",
    "    disable_noise=True\n",
    ")"
   ]
  }
 ],
 "metadata": {
  "kernelspec": {
   "display_name": "Python 3 (ipykernel)",
   "language": "python",
   "name": "python3"
  },
  "language_info": {
   "codemirror_mode": {
    "name": "ipython",
    "version": 3
   },
   "file_extension": ".py",
   "mimetype": "text/x-python",
   "name": "python",
   "nbconvert_exporter": "python",
   "pygments_lexer": "ipython3",
   "version": "3.10.18"
  }
 },
 "nbformat": 4,
 "nbformat_minor": 4
}
