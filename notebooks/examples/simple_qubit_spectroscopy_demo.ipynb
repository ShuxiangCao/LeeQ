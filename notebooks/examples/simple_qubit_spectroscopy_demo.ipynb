{
 "cells": [
  {
   "cell_type": "markdown",
   "metadata": {},
   "source": [
    "# Simple Qubit Spectroscopy Demo\n",
    "\n",
    "This notebook demonstrates four essential spectroscopy experiments:\n",
    "1. Resonator Spectroscopy\n",
    "2. Single-tone Frequency Spectroscopy\n",
    "3. Amplitude-Frequency 2D Spectroscopy\n",
    "4. Two-tone Spectroscopy"
   ]
  },
  {
   "cell_type": "code",
   "execution_count": 1,
   "metadata": {},
   "outputs": [
    {
     "name": "stderr",
     "output_type": "stream",
     "text": [
      "[2025-08-24 16:14:41] [INFO] [leeq.chronicle.chronicle] Log started at log/coxious/2025-08/2025-08-24/16.14.41\n"
     ]
    }
   ],
   "source": [
    "import numpy as np\n",
    "\n",
    "from leeq.experiments.experiments import ExperimentManager\n",
    "from leeq.experiments.builtin.basic.calibrations.qubit_spectroscopy import (\n",
    "    QubitSpectroscopyFrequency,\n",
    "    QubitSpectroscopyAmplitudeFrequency\n",
    ")\n",
    "from leeq.experiments.builtin.basic.calibrations.two_tone_spectroscopy import TwoToneQubitSpectroscopy\n",
    "from leeq.experiments.builtin.basic.calibrations.resonator_spectroscopy import (\n",
    "    ResonatorSweepTransmissionWithExtraInitialLPB\n",
    ")\n",
    "from leeq.core.elements.built_in.qudit_transmon import TransmonElement\n",
    "from leeq.setups.built_in.setup_simulation_high_level import HighLevelSimulationSetup\n",
    "from leeq.theory.simulation.numpy.rotated_frame_simulator import VirtualTransmon\n",
    "from leeq.chronicle import Chronicle\n",
    "\n",
    "Chronicle().start_log()"
   ]
  },
  {
   "cell_type": "code",
   "execution_count": 2,
   "metadata": {},
   "outputs": [],
   "source": [
    "# Setup\n",
    "manager = ExperimentManager()\n",
    "manager.clear_setups()\n",
    "\n",
    "virtual_transmon = VirtualTransmon(\n",
    "    name=\"VQubit1\",\n",
    "    qubit_frequency=5000.0,\n",
    "    anharmonicity=-200.0,\n",
    "    t1=50,\n",
    "    t2=25,\n",
    "    readout_frequency=9500.0,\n",
    "    quiescent_state_distribution=np.array([0.9, 0.08, 0.02, 0.0])\n",
    ")\n",
    "\n",
    "setup = HighLevelSimulationSetup(\n",
    "    name='SimpleSpectroscopyDemo',\n",
    "    virtual_qubits={1: virtual_transmon}\n",
    ")\n",
    "\n",
    "manager.register_setup(setup)"
   ]
  },
  {
   "cell_type": "code",
   "execution_count": 3,
   "metadata": {},
   "outputs": [],
   "source": [
    "# Qubit configuration\n",
    "qubit_config = {\n",
    "    'lpb_collections': {\n",
    "        'f01': {\n",
    "            'type': 'SimpleDriveCollection',\n",
    "            'freq': 5000.0,\n",
    "            'channel': 1,\n",
    "            'shape': 'blackman_drag',\n",
    "            'amp': 0.5,\n",
    "            'phase': 0.,\n",
    "            'width': 0.05,\n",
    "            'alpha': 500,\n",
    "            'trunc': 1.2\n",
    "        }\n",
    "    },\n",
    "    'measurement_primitives': {\n",
    "        '0': {\n",
    "            'type': 'SimpleDispersiveMeasurement',\n",
    "            'freq': 9500.0,\n",
    "            'channel': 1,\n",
    "            'shape': 'square',\n",
    "            'amp': 0.15,\n",
    "            'phase': 0.,\n",
    "            'width': 1,\n",
    "            'trunc': 1.2,\n",
    "            'distinguishable_states': [0, 1]\n",
    "        }\n",
    "    }\n",
    "}\n",
    "\n",
    "qubit = TransmonElement(name='Q1', parameters=qubit_config)"
   ]
  },
  {
   "cell_type": "code",
   "execution_count": 4,
   "metadata": {},
   "outputs": [
    {
     "data": {
      "application/vnd.plotly.v1+json": {
       "config": {
        "plotlyServerURL": "https://plot.ly"
       },
       "data": [
        {
         "mode": "lines",
         "name": "Magnitude",
         "type": "scatter",
         "x": {
          "bdata": "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",
          "dtype": "f8"
         },
         "y": {
          "bdata": "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",
          "dtype": "f8"
         }
        }
       ],
       "layout": {
        "plot_bgcolor": "white",
        "template": {
         "data": {
          "bar": [
           {
            "error_x": {
             "color": "#2a3f5f"
            },
            "error_y": {
             "color": "#2a3f5f"
            },
            "marker": {
             "line": {
              "color": "#E5ECF6",
              "width": 0.5
             },
             "pattern": {
              "fillmode": "overlay",
              "size": 10,
              "solidity": 0.2
             }
            },
            "type": "bar"
           }
          ],
          "barpolar": [
           {
            "marker": {
             "line": {
              "color": "#E5ECF6",
              "width": 0.5
             },
             "pattern": {
              "fillmode": "overlay",
              "size": 10,
              "solidity": 0.2
             }
            },
            "type": "barpolar"
           }
          ],
          "carpet": [
           {
            "aaxis": {
             "endlinecolor": "#2a3f5f",
             "gridcolor": "white",
             "linecolor": "white",
             "minorgridcolor": "white",
             "startlinecolor": "#2a3f5f"
            },
            "baxis": {
             "endlinecolor": "#2a3f5f",
             "gridcolor": "white",
             "linecolor": "white",
             "minorgridcolor": "white",
             "startlinecolor": "#2a3f5f"
            },
            "type": "carpet"
           }
          ],
          "choropleth": [
           {
            "colorbar": {
             "outlinewidth": 0,
             "ticks": ""
            },
            "type": "choropleth"
           }
          ],
          "contour": [
           {
            "colorbar": {
             "outlinewidth": 0,
             "ticks": ""
            },
            "colorscale": [
             [
              0,
              "#0d0887"
             ],
             [
              0.1111111111111111,
              "#46039f"
             ],
             [
              0.2222222222222222,
              "#7201a8"
             ],
             [
              0.3333333333333333,
              "#9c179e"
             ],
             [
              0.4444444444444444,
              "#bd3786"
             ],
             [
              0.5555555555555556,
              "#d8576b"
             ],
             [
              0.6666666666666666,
              "#ed7953"
             ],
             [
              0.7777777777777778,
              "#fb9f3a"
             ],
             [
              0.8888888888888888,
              "#fdca26"
             ],
             [
              1,
              "#f0f921"
             ]
            ],
            "type": "contour"
           }
          ],
          "contourcarpet": [
           {
            "colorbar": {
             "outlinewidth": 0,
             "ticks": ""
            },
            "type": "contourcarpet"
           }
          ],
          "heatmap": [
           {
            "colorbar": {
             "outlinewidth": 0,
             "ticks": ""
            },
            "colorscale": [
             [
              0,
              "#0d0887"
             ],
             [
              0.1111111111111111,
              "#46039f"
             ],
             [
              0.2222222222222222,
              "#7201a8"
             ],
             [
              0.3333333333333333,
              "#9c179e"
             ],
             [
              0.4444444444444444,
              "#bd3786"
             ],
             [
              0.5555555555555556,
              "#d8576b"
             ],
             [
              0.6666666666666666,
              "#ed7953"
             ],
             [
              0.7777777777777778,
              "#fb9f3a"
             ],
             [
              0.8888888888888888,
              "#fdca26"
             ],
             [
              1,
              "#f0f921"
             ]
            ],
            "type": "heatmap"
           }
          ],
          "histogram": [
           {
            "marker": {
             "pattern": {
              "fillmode": "overlay",
              "size": 10,
              "solidity": 0.2
             }
            },
            "type": "histogram"
           }
          ],
          "histogram2d": [
           {
            "colorbar": {
             "outlinewidth": 0,
             "ticks": ""
            },
            "colorscale": [
             [
              0,
              "#0d0887"
             ],
             [
              0.1111111111111111,
              "#46039f"
             ],
             [
              0.2222222222222222,
              "#7201a8"
             ],
             [
              0.3333333333333333,
              "#9c179e"
             ],
             [
              0.4444444444444444,
              "#bd3786"
             ],
             [
              0.5555555555555556,
              "#d8576b"
             ],
             [
              0.6666666666666666,
              "#ed7953"
             ],
             [
              0.7777777777777778,
              "#fb9f3a"
             ],
             [
              0.8888888888888888,
              "#fdca26"
             ],
             [
              1,
              "#f0f921"
             ]
            ],
            "type": "histogram2d"
           }
          ],
          "histogram2dcontour": [
           {
            "colorbar": {
             "outlinewidth": 0,
             "ticks": ""
            },
            "colorscale": [
             [
              0,
              "#0d0887"
             ],
             [
              0.1111111111111111,
              "#46039f"
             ],
             [
              0.2222222222222222,
              "#7201a8"
             ],
             [
              0.3333333333333333,
              "#9c179e"
             ],
             [
              0.4444444444444444,
              "#bd3786"
             ],
             [
              0.5555555555555556,
              "#d8576b"
             ],
             [
              0.6666666666666666,
              "#ed7953"
             ],
             [
              0.7777777777777778,
              "#fb9f3a"
             ],
             [
              0.8888888888888888,
              "#fdca26"
             ],
             [
              1,
              "#f0f921"
             ]
            ],
            "type": "histogram2dcontour"
           }
          ],
          "mesh3d": [
           {
            "colorbar": {
             "outlinewidth": 0,
             "ticks": ""
            },
            "type": "mesh3d"
           }
          ],
          "parcoords": [
           {
            "line": {
             "colorbar": {
              "outlinewidth": 0,
              "ticks": ""
             }
            },
            "type": "parcoords"
           }
          ],
          "pie": [
           {
            "automargin": true,
            "type": "pie"
           }
          ],
          "scatter": [
           {
            "fillpattern": {
             "fillmode": "overlay",
             "size": 10,
             "solidity": 0.2
            },
            "type": "scatter"
           }
          ],
          "scatter3d": [
           {
            "line": {
             "colorbar": {
              "outlinewidth": 0,
              "ticks": ""
             }
            },
            "marker": {
             "colorbar": {
              "outlinewidth": 0,
              "ticks": ""
             }
            },
            "type": "scatter3d"
           }
          ],
          "scattercarpet": [
           {
            "marker": {
             "colorbar": {
              "outlinewidth": 0,
              "ticks": ""
             }
            },
            "type": "scattercarpet"
           }
          ],
          "scattergeo": [
           {
            "marker": {
             "colorbar": {
              "outlinewidth": 0,
              "ticks": ""
             }
            },
            "type": "scattergeo"
           }
          ],
          "scattergl": [
           {
            "marker": {
             "colorbar": {
              "outlinewidth": 0,
              "ticks": ""
             }
            },
            "type": "scattergl"
           }
          ],
          "scattermap": [
           {
            "marker": {
             "colorbar": {
              "outlinewidth": 0,
              "ticks": ""
             }
            },
            "type": "scattermap"
           }
          ],
          "scattermapbox": [
           {
            "marker": {
             "colorbar": {
              "outlinewidth": 0,
              "ticks": ""
             }
            },
            "type": "scattermapbox"
           }
          ],
          "scatterpolar": [
           {
            "marker": {
             "colorbar": {
              "outlinewidth": 0,
              "ticks": ""
             }
            },
            "type": "scatterpolar"
           }
          ],
          "scatterpolargl": [
           {
            "marker": {
             "colorbar": {
              "outlinewidth": 0,
              "ticks": ""
             }
            },
            "type": "scatterpolargl"
           }
          ],
          "scatterternary": [
           {
            "marker": {
             "colorbar": {
              "outlinewidth": 0,
              "ticks": ""
             }
            },
            "type": "scatterternary"
           }
          ],
          "surface": [
           {
            "colorbar": {
             "outlinewidth": 0,
             "ticks": ""
            },
            "colorscale": [
             [
              0,
              "#0d0887"
             ],
             [
              0.1111111111111111,
              "#46039f"
             ],
             [
              0.2222222222222222,
              "#7201a8"
             ],
             [
              0.3333333333333333,
              "#9c179e"
             ],
             [
              0.4444444444444444,
              "#bd3786"
             ],
             [
              0.5555555555555556,
              "#d8576b"
             ],
             [
              0.6666666666666666,
              "#ed7953"
             ],
             [
              0.7777777777777778,
              "#fb9f3a"
             ],
             [
              0.8888888888888888,
              "#fdca26"
             ],
             [
              1,
              "#f0f921"
             ]
            ],
            "type": "surface"
           }
          ],
          "table": [
           {
            "cells": {
             "fill": {
              "color": "#EBF0F8"
             },
             "line": {
              "color": "white"
             }
            },
            "header": {
             "fill": {
              "color": "#C8D4E3"
             },
             "line": {
              "color": "white"
             }
            },
            "type": "table"
           }
          ]
         },
         "layout": {
          "annotationdefaults": {
           "arrowcolor": "#2a3f5f",
           "arrowhead": 0,
           "arrowwidth": 1
          },
          "autotypenumbers": "strict",
          "coloraxis": {
           "colorbar": {
            "outlinewidth": 0,
            "ticks": ""
           }
          },
          "colorscale": {
           "diverging": [
            [
             0,
             "#8e0152"
            ],
            [
             0.1,
             "#c51b7d"
            ],
            [
             0.2,
             "#de77ae"
            ],
            [
             0.3,
             "#f1b6da"
            ],
            [
             0.4,
             "#fde0ef"
            ],
            [
             0.5,
             "#f7f7f7"
            ],
            [
             0.6,
             "#e6f5d0"
            ],
            [
             0.7,
             "#b8e186"
            ],
            [
             0.8,
             "#7fbc41"
            ],
            [
             0.9,
             "#4d9221"
            ],
            [
             1,
             "#276419"
            ]
           ],
           "sequential": [
            [
             0,
             "#0d0887"
            ],
            [
             0.1111111111111111,
             "#46039f"
            ],
            [
             0.2222222222222222,
             "#7201a8"
            ],
            [
             0.3333333333333333,
             "#9c179e"
            ],
            [
             0.4444444444444444,
             "#bd3786"
            ],
            [
             0.5555555555555556,
             "#d8576b"
            ],
            [
             0.6666666666666666,
             "#ed7953"
            ],
            [
             0.7777777777777778,
             "#fb9f3a"
            ],
            [
             0.8888888888888888,
             "#fdca26"
            ],
            [
             1,
             "#f0f921"
            ]
           ],
           "sequentialminus": [
            [
             0,
             "#0d0887"
            ],
            [
             0.1111111111111111,
             "#46039f"
            ],
            [
             0.2222222222222222,
             "#7201a8"
            ],
            [
             0.3333333333333333,
             "#9c179e"
            ],
            [
             0.4444444444444444,
             "#bd3786"
            ],
            [
             0.5555555555555556,
             "#d8576b"
            ],
            [
             0.6666666666666666,
             "#ed7953"
            ],
            [
             0.7777777777777778,
             "#fb9f3a"
            ],
            [
             0.8888888888888888,
             "#fdca26"
            ],
            [
             1,
             "#f0f921"
            ]
           ]
          },
          "colorway": [
           "#636efa",
           "#EF553B",
           "#00cc96",
           "#ab63fa",
           "#FFA15A",
           "#19d3f3",
           "#FF6692",
           "#B6E880",
           "#FF97FF",
           "#FECB52"
          ],
          "font": {
           "color": "#2a3f5f"
          },
          "geo": {
           "bgcolor": "white",
           "lakecolor": "white",
           "landcolor": "#E5ECF6",
           "showlakes": true,
           "showland": true,
           "subunitcolor": "white"
          },
          "hoverlabel": {
           "align": "left"
          },
          "hovermode": "closest",
          "mapbox": {
           "style": "light"
          },
          "paper_bgcolor": "white",
          "plot_bgcolor": "#E5ECF6",
          "polar": {
           "angularaxis": {
            "gridcolor": "white",
            "linecolor": "white",
            "ticks": ""
           },
           "bgcolor": "#E5ECF6",
           "radialaxis": {
            "gridcolor": "white",
            "linecolor": "white",
            "ticks": ""
           }
          },
          "scene": {
           "xaxis": {
            "backgroundcolor": "#E5ECF6",
            "gridcolor": "white",
            "gridwidth": 2,
            "linecolor": "white",
            "showbackground": true,
            "ticks": "",
            "zerolinecolor": "white"
           },
           "yaxis": {
            "backgroundcolor": "#E5ECF6",
            "gridcolor": "white",
            "gridwidth": 2,
            "linecolor": "white",
            "showbackground": true,
            "ticks": "",
            "zerolinecolor": "white"
           },
           "zaxis": {
            "backgroundcolor": "#E5ECF6",
            "gridcolor": "white",
            "gridwidth": 2,
            "linecolor": "white",
            "showbackground": true,
            "ticks": "",
            "zerolinecolor": "white"
           }
          },
          "shapedefaults": {
           "line": {
            "color": "#2a3f5f"
           }
          },
          "ternary": {
           "aaxis": {
            "gridcolor": "white",
            "linecolor": "white",
            "ticks": ""
           },
           "baxis": {
            "gridcolor": "white",
            "linecolor": "white",
            "ticks": ""
           },
           "bgcolor": "#E5ECF6",
           "caxis": {
            "gridcolor": "white",
            "linecolor": "white",
            "ticks": ""
           }
          },
          "title": {
           "x": 0.05
          },
          "xaxis": {
           "automargin": true,
           "gridcolor": "white",
           "linecolor": "white",
           "ticks": "",
           "title": {
            "standoff": 15
           },
           "zerolinecolor": "white",
           "zerolinewidth": 2
          },
          "yaxis": {
           "automargin": true,
           "gridcolor": "white",
           "linecolor": "white",
           "ticks": "",
           "title": {
            "standoff": 15
           },
           "zerolinecolor": "white",
           "zerolinewidth": 2
          }
         }
        },
        "title": {
         "text": "Resonator spectroscopy magnitude"
        },
        "xaxis": {
         "title": {
          "text": "Frequency [MHz]"
         }
        },
        "yaxis": {
         "title": {
          "text": "Magnitude"
         }
        }
       }
      },
      "image/png": "[encoded data removed]"
     },
     "metadata": {},
     "output_type": "display_data"
    },
    {
     "data": {
      "application/vnd.plotly.v1+json": {
       "config": {
        "plotlyServerURL": "https://plot.ly"
       },
       "data": [
        {
         "line": {
          "width": 2
         },
         "mode": "lines",
         "name": "Magnitude",
         "type": "scatter",
         "x": {
          "bdata": "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",
          "dtype": "f8"
         },
         "y": {
          "bdata": "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",
          "dtype": "f8"
         }
        }
       ],
       "layout": {
        "plot_bgcolor": "white",
        "template": {
         "data": {
          "bar": [
           {
            "error_x": {
             "color": "#2a3f5f"
            },
            "error_y": {
             "color": "#2a3f5f"
            },
            "marker": {
             "line": {
              "color": "#E5ECF6",
              "width": 0.5
             },
             "pattern": {
              "fillmode": "overlay",
              "size": 10,
              "solidity": 0.2
             }
            },
            "type": "bar"
           }
          ],
          "barpolar": [
           {
            "marker": {
             "line": {
              "color": "#E5ECF6",
              "width": 0.5
             },
             "pattern": {
              "fillmode": "overlay",
              "size": 10,
              "solidity": 0.2
             }
            },
            "type": "barpolar"
           }
          ],
          "carpet": [
           {
            "aaxis": {
             "endlinecolor": "#2a3f5f",
             "gridcolor": "white",
             "linecolor": "white",
             "minorgridcolor": "white",
             "startlinecolor": "#2a3f5f"
            },
            "baxis": {
             "endlinecolor": "#2a3f5f",
             "gridcolor": "white",
             "linecolor": "white",
             "minorgridcolor": "white",
             "startlinecolor": "#2a3f5f"
            },
            "type": "carpet"
           }
          ],
          "choropleth": [
           {
            "colorbar": {
             "outlinewidth": 0,
             "ticks": ""
            },
            "type": "choropleth"
           }
          ],
          "contour": [
           {
            "colorbar": {
             "outlinewidth": 0,
             "ticks": ""
            },
            "colorscale": [
             [
              0,
              "#0d0887"
             ],
             [
              0.1111111111111111,
              "#46039f"
             ],
             [
              0.2222222222222222,
              "#7201a8"
             ],
             [
              0.3333333333333333,
              "#9c179e"
             ],
             [
              0.4444444444444444,
              "#bd3786"
             ],
             [
              0.5555555555555556,
              "#d8576b"
             ],
             [
              0.6666666666666666,
              "#ed7953"
             ],
             [
              0.7777777777777778,
              "#fb9f3a"
             ],
             [
              0.8888888888888888,
              "#fdca26"
             ],
             [
              1,
              "#f0f921"
             ]
            ],
            "type": "contour"
           }
          ],
          "contourcarpet": [
           {
            "colorbar": {
             "outlinewidth": 0,
             "ticks": ""
            },
            "type": "contourcarpet"
           }
          ],
          "heatmap": [
           {
            "colorbar": {
             "outlinewidth": 0,
             "ticks": ""
            },
            "colorscale": [
             [
              0,
              "#0d0887"
             ],
             [
              0.1111111111111111,
              "#46039f"
             ],
             [
              0.2222222222222222,
              "#7201a8"
             ],
             [
              0.3333333333333333,
              "#9c179e"
             ],
             [
              0.4444444444444444,
              "#bd3786"
             ],
             [
              0.5555555555555556,
              "#d8576b"
             ],
             [
              0.6666666666666666,
              "#ed7953"
             ],
             [
              0.7777777777777778,
              "#fb9f3a"
             ],
             [
              0.8888888888888888,
              "#fdca26"
             ],
             [
              1,
              "#f0f921"
             ]
            ],
            "type": "heatmap"
           }
          ],
          "histogram": [
           {
            "marker": {
             "pattern": {
              "fillmode": "overlay",
              "size": 10,
              "solidity": 0.2
             }
            },
            "type": "histogram"
           }
          ],
          "histogram2d": [
           {
            "colorbar": {
             "outlinewidth": 0,
             "ticks": ""
            },
            "colorscale": [
             [
              0,
              "#0d0887"
             ],
             [
              0.1111111111111111,
              "#46039f"
             ],
             [
              0.2222222222222222,
              "#7201a8"
             ],
             [
              0.3333333333333333,
              "#9c179e"
             ],
             [
              0.4444444444444444,
              "#bd3786"
             ],
             [
              0.5555555555555556,
              "#d8576b"
             ],
             [
              0.6666666666666666,
              "#ed7953"
             ],
             [
              0.7777777777777778,
              "#fb9f3a"
             ],
             [
              0.8888888888888888,
              "#fdca26"
             ],
             [
              1,
              "#f0f921"
             ]
            ],
            "type": "histogram2d"
           }
          ],
          "histogram2dcontour": [
           {
            "colorbar": {
             "outlinewidth": 0,
             "ticks": ""
            },
            "colorscale": [
             [
              0,
              "#0d0887"
             ],
             [
              0.1111111111111111,
              "#46039f"
             ],
             [
              0.2222222222222222,
              "#7201a8"
             ],
             [
              0.3333333333333333,
              "#9c179e"
             ],
             [
              0.4444444444444444,
              "#bd3786"
             ],
             [
              0.5555555555555556,
              "#d8576b"
             ],
             [
              0.6666666666666666,
              "#ed7953"
             ],
             [
              0.7777777777777778,
              "#fb9f3a"
             ],
             [
              0.8888888888888888,
              "#fdca26"
             ],
             [
              1,
              "#f0f921"
             ]
            ],
            "type": "histogram2dcontour"
           }
          ],
          "mesh3d": [
           {
            "colorbar": {
             "outlinewidth": 0,
             "ticks": ""
            },
            "type": "mesh3d"
           }
          ],
          "parcoords": [
           {
            "line": {
             "colorbar": {
              "outlinewidth": 0,
              "ticks": ""
             }
            },
            "type": "parcoords"
           }
          ],
          "pie": [
           {
            "automargin": true,
            "type": "pie"
           }
          ],
          "scatter": [
           {
            "fillpattern": {
             "fillmode": "overlay",
             "size": 10,
             "solidity": 0.2
            },
            "type": "scatter"
           }
          ],
          "scatter3d": [
           {
            "line": {
             "colorbar": {
              "outlinewidth": 0,
              "ticks": ""
             }
            },
            "marker": {
             "colorbar": {
              "outlinewidth": 0,
              "ticks": ""
             }
            },
            "type": "scatter3d"
           }
          ],
          "scattercarpet": [
           {
            "marker": {
             "colorbar": {
              "outlinewidth": 0,
              "ticks": ""
             }
            },
            "type": "scattercarpet"
           }
          ],
          "scattergeo": [
           {
            "marker": {
             "colorbar": {
              "outlinewidth": 0,
              "ticks": ""
             }
            },
            "type": "scattergeo"
           }
          ],
          "scattergl": [
           {
            "marker": {
             "colorbar": {
              "outlinewidth": 0,
              "ticks": ""
             }
            },
            "type": "scattergl"
           }
          ],
          "scattermap": [
           {
            "marker": {
             "colorbar": {
              "outlinewidth": 0,
              "ticks": ""
             }
            },
            "type": "scattermap"
           }
          ],
          "scattermapbox": [
           {
            "marker": {
             "colorbar": {
              "outlinewidth": 0,
              "ticks": ""
             }
            },
            "type": "scattermapbox"
           }
          ],
          "scatterpolar": [
           {
            "marker": {
             "colorbar": {
              "outlinewidth": 0,
              "ticks": ""
             }
            },
            "type": "scatterpolar"
           }
          ],
          "scatterpolargl": [
           {
            "marker": {
             "colorbar": {
              "outlinewidth": 0,
              "ticks": ""
             }
            },
            "type": "scatterpolargl"
           }
          ],
          "scatterternary": [
           {
            "marker": {
             "colorbar": {
              "outlinewidth": 0,
              "ticks": ""
             }
            },
            "type": "scatterternary"
           }
          ],
          "surface": [
           {
            "colorbar": {
             "outlinewidth": 0,
             "ticks": ""
            },
            "colorscale": [
             [
              0,
              "#0d0887"
             ],
             [
              0.1111111111111111,
              "#46039f"
             ],
             [
              0.2222222222222222,
              "#7201a8"
             ],
             [
              0.3333333333333333,
              "#9c179e"
             ],
             [
              0.4444444444444444,
              "#bd3786"
             ],
             [
              0.5555555555555556,
              "#d8576b"
             ],
             [
              0.6666666666666666,
              "#ed7953"
             ],
             [
              0.7777777777777778,
              "#fb9f3a"
             ],
             [
              0.8888888888888888,
              "#fdca26"
             ],
             [
              1,
              "#f0f921"
             ]
            ],
            "type": "surface"
           }
          ],
          "table": [
           {
            "cells": {
             "fill": {
              "color": "#EBF0F8"
             },
             "line": {
              "color": "white"
             }
            },
            "header": {
             "fill": {
              "color": "#C8D4E3"
             },
             "line": {
              "color": "white"
             }
            },
            "type": "table"
           }
          ]
         },
         "layout": {
          "annotationdefaults": {
           "arrowcolor": "#2a3f5f",
           "arrowhead": 0,
           "arrowwidth": 1
          },
          "autotypenumbers": "strict",
          "coloraxis": {
           "colorbar": {
            "outlinewidth": 0,
            "ticks": ""
           }
          },
          "colorscale": {
           "diverging": [
            [
             0,
             "#8e0152"
            ],
            [
             0.1,
             "#c51b7d"
            ],
            [
             0.2,
             "#de77ae"
            ],
            [
             0.3,
             "#f1b6da"
            ],
            [
             0.4,
             "#fde0ef"
            ],
            [
             0.5,
             "#f7f7f7"
            ],
            [
             0.6,
             "#e6f5d0"
            ],
            [
             0.7,
             "#b8e186"
            ],
            [
             0.8,
             "#7fbc41"
            ],
            [
             0.9,
             "#4d9221"
            ],
            [
             1,
             "#276419"
            ]
           ],
           "sequential": [
            [
             0,
             "#0d0887"
            ],
            [
             0.1111111111111111,
             "#46039f"
            ],
            [
             0.2222222222222222,
             "#7201a8"
            ],
            [
             0.3333333333333333,
             "#9c179e"
            ],
            [
             0.4444444444444444,
             "#bd3786"
            ],
            [
             0.5555555555555556,
             "#d8576b"
            ],
            [
             0.6666666666666666,
             "#ed7953"
            ],
            [
             0.7777777777777778,
             "#fb9f3a"
            ],
            [
             0.8888888888888888,
             "#fdca26"
            ],
            [
             1,
             "#f0f921"
            ]
           ],
           "sequentialminus": [
            [
             0,
             "#0d0887"
            ],
            [
             0.1111111111111111,
             "#46039f"
            ],
            [
             0.2222222222222222,
             "#7201a8"
            ],
            [
             0.3333333333333333,
             "#9c179e"
            ],
            [
             0.4444444444444444,
             "#bd3786"
            ],
            [
             0.5555555555555556,
             "#d8576b"
            ],
            [
             0.6666666666666666,
             "#ed7953"
            ],
            [
             0.7777777777777778,
             "#fb9f3a"
            ],
            [
             0.8888888888888888,
             "#fdca26"
            ],
            [
             1,
             "#f0f921"
            ]
           ]
          },
          "colorway": [
           "#636efa",
           "#EF553B",
           "#00cc96",
           "#ab63fa",
           "#FFA15A",
           "#19d3f3",
           "#FF6692",
           "#B6E880",
           "#FF97FF",
           "#FECB52"
          ],
          "font": {
           "color": "#2a3f5f"
          },
          "geo": {
           "bgcolor": "white",
           "lakecolor": "white",
           "landcolor": "#E5ECF6",
           "showlakes": true,
           "showland": true,
           "subunitcolor": "white"
          },
          "hoverlabel": {
           "align": "left"
          },
          "hovermode": "closest",
          "mapbox": {
           "style": "light"
          },
          "paper_bgcolor": "white",
          "plot_bgcolor": "#E5ECF6",
          "polar": {
           "angularaxis": {
            "gridcolor": "white",
            "linecolor": "white",
            "ticks": ""
           },
           "bgcolor": "#E5ECF6",
           "radialaxis": {
            "gridcolor": "white",
            "linecolor": "white",
            "ticks": ""
           }
          },
          "scene": {
           "xaxis": {
            "backgroundcolor": "#E5ECF6",
            "gridcolor": "white",
            "gridwidth": 2,
            "linecolor": "white",
            "showbackground": true,
            "ticks": "",
            "zerolinecolor": "white"
           },
           "yaxis": {
            "backgroundcolor": "#E5ECF6",
            "gridcolor": "white",
            "gridwidth": 2,
            "linecolor": "white",
            "showbackground": true,
            "ticks": "",
            "zerolinecolor": "white"
           },
           "zaxis": {
            "backgroundcolor": "#E5ECF6",
            "gridcolor": "white",
            "gridwidth": 2,
            "linecolor": "white",
            "showbackground": true,
            "ticks": "",
            "zerolinecolor": "white"
           }
          },
          "shapedefaults": {
           "line": {
            "color": "#2a3f5f"
           }
          },
          "ternary": {
           "aaxis": {
            "gridcolor": "white",
            "linecolor": "white",
            "ticks": ""
           },
           "baxis": {
            "gridcolor": "white",
            "linecolor": "white",
            "ticks": ""
           },
           "bgcolor": "#E5ECF6",
           "caxis": {
            "gridcolor": "white",
            "linecolor": "white",
            "ticks": ""
           }
          },
          "title": {
           "x": 0.05
          },
          "xaxis": {
           "automargin": true,
           "gridcolor": "white",
           "linecolor": "white",
           "ticks": "",
           "title": {
            "standoff": 15
           },
           "zerolinecolor": "white",
           "zerolinewidth": 2
          },
          "yaxis": {
           "automargin": true,
           "gridcolor": "white",
           "linecolor": "white",
           "ticks": "",
           "title": {
            "standoff": 15
           },
           "zerolinecolor": "white",
           "zerolinewidth": 2
          }
         }
        },
        "title": {
         "text": "Resonator spectroscopy magnitude"
        },
        "xaxis": {
         "title": {
          "text": "Frequency [MHz]"
         }
        },
        "yaxis": {
         "title": {
          "text": "Magnitude"
         }
        }
       }
      },
      "image/png": "[encoded data removed]"
     },
     "metadata": {},
     "output_type": "display_data"
    },
    {
     "data": {
      "application/vnd.plotly.v1+json": {
       "config": {
        "plotlyServerURL": "https://plot.ly"
       },
       "data": [
        {
         "mode": "lines",
         "name": "Phase",
         "type": "scatter",
         "x": {
          "bdata": "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",
          "dtype": "f8"
         },
         "y": {
          "bdata": "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",
          "dtype": "f8"
         }
        },
        {
         "mode": "lines",
         "name": "Phase Gradient",
         "type": "scatter",
         "x": {
          "bdata": "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",
          "dtype": "f8"
         },
         "y": {
          "bdata": "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",
          "dtype": "f8"
         }
        }
       ],
       "layout": {
        "plot_bgcolor": "white",
        "template": {
         "data": {
          "bar": [
           {
            "error_x": {
             "color": "#2a3f5f"
            },
            "error_y": {
             "color": "#2a3f5f"
            },
            "marker": {
             "line": {
              "color": "#E5ECF6",
              "width": 0.5
             },
             "pattern": {
              "fillmode": "overlay",
              "size": 10,
              "solidity": 0.2
             }
            },
            "type": "bar"
           }
          ],
          "barpolar": [
           {
            "marker": {
             "line": {
              "color": "#E5ECF6",
              "width": 0.5
             },
             "pattern": {
              "fillmode": "overlay",
              "size": 10,
              "solidity": 0.2
             }
            },
            "type": "barpolar"
           }
          ],
          "carpet": [
           {
            "aaxis": {
             "endlinecolor": "#2a3f5f",
             "gridcolor": "white",
             "linecolor": "white",
             "minorgridcolor": "white",
             "startlinecolor": "#2a3f5f"
            },
            "baxis": {
             "endlinecolor": "#2a3f5f",
             "gridcolor": "white",
             "linecolor": "white",
             "minorgridcolor": "white",
             "startlinecolor": "#2a3f5f"
            },
            "type": "carpet"
           }
          ],
          "choropleth": [
           {
            "colorbar": {
             "outlinewidth": 0,
             "ticks": ""
            },
            "type": "choropleth"
           }
          ],
          "contour": [
           {
            "colorbar": {
             "outlinewidth": 0,
             "ticks": ""
            },
            "colorscale": [
             [
              0,
              "#0d0887"
             ],
             [
              0.1111111111111111,
              "#46039f"
             ],
             [
              0.2222222222222222,
              "#7201a8"
             ],
             [
              0.3333333333333333,
              "#9c179e"
             ],
             [
              0.4444444444444444,
              "#bd3786"
             ],
             [
              0.5555555555555556,
              "#d8576b"
             ],
             [
              0.6666666666666666,
              "#ed7953"
             ],
             [
              0.7777777777777778,
              "#fb9f3a"
             ],
             [
              0.8888888888888888,
              "#fdca26"
             ],
             [
              1,
              "#f0f921"
             ]
            ],
            "type": "contour"
           }
          ],
          "contourcarpet": [
           {
            "colorbar": {
             "outlinewidth": 0,
             "ticks": ""
            },
            "type": "contourcarpet"
           }
          ],
          "heatmap": [
           {
            "colorbar": {
             "outlinewidth": 0,
             "ticks": ""
            },
            "colorscale": [
             [
              0,
              "#0d0887"
             ],
             [
              0.1111111111111111,
              "#46039f"
             ],
             [
              0.2222222222222222,
              "#7201a8"
             ],
             [
              0.3333333333333333,
              "#9c179e"
             ],
             [
              0.4444444444444444,
              "#bd3786"
             ],
             [
              0.5555555555555556,
              "#d8576b"
             ],
             [
              0.6666666666666666,
              "#ed7953"
             ],
             [
              0.7777777777777778,
              "#fb9f3a"
             ],
             [
              0.8888888888888888,
              "#fdca26"
             ],
             [
              1,
              "#f0f921"
             ]
            ],
            "type": "heatmap"
           }
          ],
          "histogram": [
           {
            "marker": {
             "pattern": {
              "fillmode": "overlay",
              "size": 10,
              "solidity": 0.2
             }
            },
            "type": "histogram"
           }
          ],
          "histogram2d": [
           {
            "colorbar": {
             "outlinewidth": 0,
             "ticks": ""
            },
            "colorscale": [
             [
              0,
              "#0d0887"
             ],
             [
              0.1111111111111111,
              "#46039f"
             ],
             [
              0.2222222222222222,
              "#7201a8"
             ],
             [
              0.3333333333333333,
              "#9c179e"
             ],
             [
              0.4444444444444444,
              "#bd3786"
             ],
             [
              0.5555555555555556,
              "#d8576b"
             ],
             [
              0.6666666666666666,
              "#ed7953"
             ],
             [
              0.7777777777777778,
              "#fb9f3a"
             ],
             [
              0.8888888888888888,
              "#fdca26"
             ],
             [
              1,
              "#f0f921"
             ]
            ],
            "type": "histogram2d"
           }
          ],
          "histogram2dcontour": [
           {
            "colorbar": {
             "outlinewidth": 0,
             "ticks": ""
            },
            "colorscale": [
             [
              0,
              "#0d0887"
             ],
             [
              0.1111111111111111,
              "#46039f"
             ],
             [
              0.2222222222222222,
              "#7201a8"
             ],
             [
              0.3333333333333333,
              "#9c179e"
             ],
             [
              0.4444444444444444,
              "#bd3786"
             ],
             [
              0.5555555555555556,
              "#d8576b"
             ],
             [
              0.6666666666666666,
              "#ed7953"
             ],
             [
              0.7777777777777778,
              "#fb9f3a"
             ],
             [
              0.8888888888888888,
              "#fdca26"
             ],
             [
              1,
              "#f0f921"
             ]
            ],
            "type": "histogram2dcontour"
           }
          ],
          "mesh3d": [
           {
            "colorbar": {
             "outlinewidth": 0,
             "ticks": ""
            },
            "type": "mesh3d"
           }
          ],
          "parcoords": [
           {
            "line": {
             "colorbar": {
              "outlinewidth": 0,
              "ticks": ""
             }
            },
            "type": "parcoords"
           }
          ],
          "pie": [
           {
            "automargin": true,
            "type": "pie"
           }
          ],
          "scatter": [
           {
            "fillpattern": {
             "fillmode": "overlay",
             "size": 10,
             "solidity": 0.2
            },
            "type": "scatter"
           }
          ],
          "scatter3d": [
           {
            "line": {
             "colorbar": {
              "outlinewidth": 0,
              "ticks": ""
             }
            },
            "marker": {
             "colorbar": {
              "outlinewidth": 0,
              "ticks": ""
             }
            },
            "type": "scatter3d"
           }
          ],
          "scattercarpet": [
           {
            "marker": {
             "colorbar": {
              "outlinewidth": 0,
              "ticks": ""
             }
            },
            "type": "scattercarpet"
           }
          ],
          "scattergeo": [
           {
            "marker": {
             "colorbar": {
              "outlinewidth": 0,
              "ticks": ""
             }
            },
            "type": "scattergeo"
           }
          ],
          "scattergl": [
           {
            "marker": {
             "colorbar": {
              "outlinewidth": 0,
              "ticks": ""
             }
            },
            "type": "scattergl"
           }
          ],
          "scattermap": [
           {
            "marker": {
             "colorbar": {
              "outlinewidth": 0,
              "ticks": ""
             }
            },
            "type": "scattermap"
           }
          ],
          "scattermapbox": [
           {
            "marker": {
             "colorbar": {
              "outlinewidth": 0,
              "ticks": ""
             }
            },
            "type": "scattermapbox"
           }
          ],
          "scatterpolar": [
           {
            "marker": {
             "colorbar": {
              "outlinewidth": 0,
              "ticks": ""
             }
            },
            "type": "scatterpolar"
           }
          ],
          "scatterpolargl": [
           {
            "marker": {
             "colorbar": {
              "outlinewidth": 0,
              "ticks": ""
             }
            },
            "type": "scatterpolargl"
           }
          ],
          "scatterternary": [
           {
            "marker": {
             "colorbar": {
              "outlinewidth": 0,
              "ticks": ""
             }
            },
            "type": "scatterternary"
           }
          ],
          "surface": [
           {
            "colorbar": {
             "outlinewidth": 0,
             "ticks": ""
            },
            "colorscale": [
             [
              0,
              "#0d0887"
             ],
             [
              0.1111111111111111,
              "#46039f"
             ],
             [
              0.2222222222222222,
              "#7201a8"
             ],
             [
              0.3333333333333333,
              "#9c179e"
             ],
             [
              0.4444444444444444,
              "#bd3786"
             ],
             [
              0.5555555555555556,
              "#d8576b"
             ],
             [
              0.6666666666666666,
              "#ed7953"
             ],
             [
              0.7777777777777778,
              "#fb9f3a"
             ],
             [
              0.8888888888888888,
              "#fdca26"
             ],
             [
              1,
              "#f0f921"
             ]
            ],
            "type": "surface"
           }
          ],
          "table": [
           {
            "cells": {
             "fill": {
              "color": "#EBF0F8"
             },
             "line": {
              "color": "white"
             }
            },
            "header": {
             "fill": {
              "color": "#C8D4E3"
             },
             "line": {
              "color": "white"
             }
            },
            "type": "table"
           }
          ]
         },
         "layout": {
          "annotationdefaults": {
           "arrowcolor": "#2a3f5f",
           "arrowhead": 0,
           "arrowwidth": 1
          },
          "autotypenumbers": "strict",
          "coloraxis": {
           "colorbar": {
            "outlinewidth": 0,
            "ticks": ""
           }
          },
          "colorscale": {
           "diverging": [
            [
             0,
             "#8e0152"
            ],
            [
             0.1,
             "#c51b7d"
            ],
            [
             0.2,
             "#de77ae"
            ],
            [
             0.3,
             "#f1b6da"
            ],
            [
             0.4,
             "#fde0ef"
            ],
            [
             0.5,
             "#f7f7f7"
            ],
            [
             0.6,
             "#e6f5d0"
            ],
            [
             0.7,
             "#b8e186"
            ],
            [
             0.8,
             "#7fbc41"
            ],
            [
             0.9,
             "#4d9221"
            ],
            [
             1,
             "#276419"
            ]
           ],
           "sequential": [
            [
             0,
             "#0d0887"
            ],
            [
             0.1111111111111111,
             "#46039f"
            ],
            [
             0.2222222222222222,
             "#7201a8"
            ],
            [
             0.3333333333333333,
             "#9c179e"
            ],
            [
             0.4444444444444444,
             "#bd3786"
            ],
            [
             0.5555555555555556,
             "#d8576b"
            ],
            [
             0.6666666666666666,
             "#ed7953"
            ],
            [
             0.7777777777777778,
             "#fb9f3a"
            ],
            [
             0.8888888888888888,
             "#fdca26"
            ],
            [
             1,
             "#f0f921"
            ]
           ],
           "sequentialminus": [
            [
             0,
             "#0d0887"
            ],
            [
             0.1111111111111111,
             "#46039f"
            ],
            [
             0.2222222222222222,
             "#7201a8"
            ],
            [
             0.3333333333333333,
             "#9c179e"
            ],
            [
             0.4444444444444444,
             "#bd3786"
            ],
            [
             0.5555555555555556,
             "#d8576b"
            ],
            [
             0.6666666666666666,
             "#ed7953"
            ],
            [
             0.7777777777777778,
             "#fb9f3a"
            ],
            [
             0.8888888888888888,
             "#fdca26"
            ],
            [
             1,
             "#f0f921"
            ]
           ]
          },
          "colorway": [
           "#636efa",
           "#EF553B",
           "#00cc96",
           "#ab63fa",
           "#FFA15A",
           "#19d3f3",
           "#FF6692",
           "#B6E880",
           "#FF97FF",
           "#FECB52"
          ],
          "font": {
           "color": "#2a3f5f"
          },
          "geo": {
           "bgcolor": "white",
           "lakecolor": "white",
           "landcolor": "#E5ECF6",
           "showlakes": true,
           "showland": true,
           "subunitcolor": "white"
          },
          "hoverlabel": {
           "align": "left"
          },
          "hovermode": "closest",
          "mapbox": {
           "style": "light"
          },
          "paper_bgcolor": "white",
          "plot_bgcolor": "#E5ECF6",
          "polar": {
           "angularaxis": {
            "gridcolor": "white",
            "linecolor": "white",
            "ticks": ""
           },
           "bgcolor": "#E5ECF6",
           "radialaxis": {
            "gridcolor": "white",
            "linecolor": "white",
            "ticks": ""
           }
          },
          "scene": {
           "xaxis": {
            "backgroundcolor": "#E5ECF6",
            "gridcolor": "white",
            "gridwidth": 2,
            "linecolor": "white",
            "showbackground": true,
            "ticks": "",
            "zerolinecolor": "white"
           },
           "yaxis": {
            "backgroundcolor": "#E5ECF6",
            "gridcolor": "white",
            "gridwidth": 2,
            "linecolor": "white",
            "showbackground": true,
            "ticks": "",
            "zerolinecolor": "white"
           },
           "zaxis": {
            "backgroundcolor": "#E5ECF6",
            "gridcolor": "white",
            "gridwidth": 2,
            "linecolor": "white",
            "showbackground": true,
            "ticks": "",
            "zerolinecolor": "white"
           }
          },
          "shapedefaults": {
           "line": {
            "color": "#2a3f5f"
           }
          },
          "ternary": {
           "aaxis": {
            "gridcolor": "white",
            "linecolor": "white",
            "ticks": ""
           },
           "baxis": {
            "gridcolor": "white",
            "linecolor": "white",
            "ticks": ""
           },
           "bgcolor": "#E5ECF6",
           "caxis": {
            "gridcolor": "white",
            "linecolor": "white",
            "ticks": ""
           }
          },
          "title": {
           "x": 0.05
          },
          "xaxis": {
           "automargin": true,
           "gridcolor": "white",
           "linecolor": "white",
           "ticks": "",
           "title": {
            "standoff": 15
           },
           "zerolinecolor": "white",
           "zerolinewidth": 2
          },
          "yaxis": {
           "automargin": true,
           "gridcolor": "white",
           "linecolor": "white",
           "ticks": "",
           "title": {
            "standoff": 15
           },
           "zerolinecolor": "white",
           "zerolinewidth": 2
          }
         }
        },
        "title": {
         "text": "Resonator spectroscopy phase plot"
        },
        "xaxis": {
         "title": {
          "text": "Frequency [MHz]"
         }
        },
        "yaxis": {
         "title": {
          "text": "Magnitude"
         }
        }
       }
      },
      "image/png": "[encoded data removed]"
     },
     "metadata": {},
     "output_type": "display_data"
    },
    {
     "data": {
      "application/vnd.plotly.v1+json": {
       "config": {
        "plotlyServerURL": "https://plot.ly"
       },
       "data": [
        {
         "mode": "lines",
         "name": "Lorentzian fit",
         "type": "scatter",
         "x": {
          "bdata": "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",
          "dtype": "f8"
         },
         "y": {
          "bdata": "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",
          "dtype": "f8"
         }
        },
        {
         "mode": "markers",
         "name": "Phase gradient",
         "type": "scatter",
         "x": {
          "bdata": "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",
          "dtype": "f8"
         },
         "y": {
          "bdata": "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",
          "dtype": "f8"
         }
        }
       ],
       "layout": {
        "plot_bgcolor": "white",
        "template": {
         "data": {
          "bar": [
           {
            "error_x": {
             "color": "#2a3f5f"
            },
            "error_y": {
             "color": "#2a3f5f"
            },
            "marker": {
             "line": {
              "color": "#E5ECF6",
              "width": 0.5
             },
             "pattern": {
              "fillmode": "overlay",
              "size": 10,
              "solidity": 0.2
             }
            },
            "type": "bar"
           }
          ],
          "barpolar": [
           {
            "marker": {
             "line": {
              "color": "#E5ECF6",
              "width": 0.5
             },
             "pattern": {
              "fillmode": "overlay",
              "size": 10,
              "solidity": 0.2
             }
            },
            "type": "barpolar"
           }
          ],
          "carpet": [
           {
            "aaxis": {
             "endlinecolor": "#2a3f5f",
             "gridcolor": "white",
             "linecolor": "white",
             "minorgridcolor": "white",
             "startlinecolor": "#2a3f5f"
            },
            "baxis": {
             "endlinecolor": "#2a3f5f",
             "gridcolor": "white",
             "linecolor": "white",
             "minorgridcolor": "white",
             "startlinecolor": "#2a3f5f"
            },
            "type": "carpet"
           }
          ],
          "choropleth": [
           {
            "colorbar": {
             "outlinewidth": 0,
             "ticks": ""
            },
            "type": "choropleth"
           }
          ],
          "contour": [
           {
            "colorbar": {
             "outlinewidth": 0,
             "ticks": ""
            },
            "colorscale": [
             [
              0,
              "#0d0887"
             ],
             [
              0.1111111111111111,
              "#46039f"
             ],
             [
              0.2222222222222222,
              "#7201a8"
             ],
             [
              0.3333333333333333,
              "#9c179e"
             ],
             [
              0.4444444444444444,
              "#bd3786"
             ],
             [
              0.5555555555555556,
              "#d8576b"
             ],
             [
              0.6666666666666666,
              "#ed7953"
             ],
             [
              0.7777777777777778,
              "#fb9f3a"
             ],
             [
              0.8888888888888888,
              "#fdca26"
             ],
             [
              1,
              "#f0f921"
             ]
            ],
            "type": "contour"
           }
          ],
          "contourcarpet": [
           {
            "colorbar": {
             "outlinewidth": 0,
             "ticks": ""
            },
            "type": "contourcarpet"
           }
          ],
          "heatmap": [
           {
            "colorbar": {
             "outlinewidth": 0,
             "ticks": ""
            },
            "colorscale": [
             [
              0,
              "#0d0887"
             ],
             [
              0.1111111111111111,
              "#46039f"
             ],
             [
              0.2222222222222222,
              "#7201a8"
             ],
             [
              0.3333333333333333,
              "#9c179e"
             ],
             [
              0.4444444444444444,
              "#bd3786"
             ],
             [
              0.5555555555555556,
              "#d8576b"
             ],
             [
              0.6666666666666666,
              "#ed7953"
             ],
             [
              0.7777777777777778,
              "#fb9f3a"
             ],
             [
              0.8888888888888888,
              "#fdca26"
             ],
             [
              1,
              "#f0f921"
             ]
            ],
            "type": "heatmap"
           }
          ],
          "histogram": [
           {
            "marker": {
             "pattern": {
              "fillmode": "overlay",
              "size": 10,
              "solidity": 0.2
             }
            },
            "type": "histogram"
           }
          ],
          "histogram2d": [
           {
            "colorbar": {
             "outlinewidth": 0,
             "ticks": ""
            },
            "colorscale": [
             [
              0,
              "#0d0887"
             ],
             [
              0.1111111111111111,
              "#46039f"
             ],
             [
              0.2222222222222222,
              "#7201a8"
             ],
             [
              0.3333333333333333,
              "#9c179e"
             ],
             [
              0.4444444444444444,
              "#bd3786"
             ],
             [
              0.5555555555555556,
              "#d8576b"
             ],
             [
              0.6666666666666666,
              "#ed7953"
             ],
             [
              0.7777777777777778,
              "#fb9f3a"
             ],
             [
              0.8888888888888888,
              "#fdca26"
             ],
             [
              1,
              "#f0f921"
             ]
            ],
            "type": "histogram2d"
           }
          ],
          "histogram2dcontour": [
           {
            "colorbar": {
             "outlinewidth": 0,
             "ticks": ""
            },
            "colorscale": [
             [
              0,
              "#0d0887"
             ],
             [
              0.1111111111111111,
              "#46039f"
             ],
             [
              0.2222222222222222,
              "#7201a8"
             ],
             [
              0.3333333333333333,
              "#9c179e"
             ],
             [
              0.4444444444444444,
              "#bd3786"
             ],
             [
              0.5555555555555556,
              "#d8576b"
             ],
             [
              0.6666666666666666,
              "#ed7953"
             ],
             [
              0.7777777777777778,
              "#fb9f3a"
             ],
             [
              0.8888888888888888,
              "#fdca26"
             ],
             [
              1,
              "#f0f921"
             ]
            ],
            "type": "histogram2dcontour"
           }
          ],
          "mesh3d": [
           {
            "colorbar": {
             "outlinewidth": 0,
             "ticks": ""
            },
            "type": "mesh3d"
           }
          ],
          "parcoords": [
           {
            "line": {
             "colorbar": {
              "outlinewidth": 0,
              "ticks": ""
             }
            },
            "type": "parcoords"
           }
          ],
          "pie": [
           {
            "automargin": true,
            "type": "pie"
           }
          ],
          "scatter": [
           {
            "fillpattern": {
             "fillmode": "overlay",
             "size": 10,
             "solidity": 0.2
            },
            "type": "scatter"
           }
          ],
          "scatter3d": [
           {
            "line": {
             "colorbar": {
              "outlinewidth": 0,
              "ticks": ""
             }
            },
            "marker": {
             "colorbar": {
              "outlinewidth": 0,
              "ticks": ""
             }
            },
            "type": "scatter3d"
           }
          ],
          "scattercarpet": [
           {
            "marker": {
             "colorbar": {
              "outlinewidth": 0,
              "ticks": ""
             }
            },
            "type": "scattercarpet"
           }
          ],
          "scattergeo": [
           {
            "marker": {
             "colorbar": {
              "outlinewidth": 0,
              "ticks": ""
             }
            },
            "type": "scattergeo"
           }
          ],
          "scattergl": [
           {
            "marker": {
             "colorbar": {
              "outlinewidth": 0,
              "ticks": ""
             }
            },
            "type": "scattergl"
           }
          ],
          "scattermap": [
           {
            "marker": {
             "colorbar": {
              "outlinewidth": 0,
              "ticks": ""
             }
            },
            "type": "scattermap"
           }
          ],
          "scattermapbox": [
           {
            "marker": {
             "colorbar": {
              "outlinewidth": 0,
              "ticks": ""
             }
            },
            "type": "scattermapbox"
           }
          ],
          "scatterpolar": [
           {
            "marker": {
             "colorbar": {
              "outlinewidth": 0,
              "ticks": ""
             }
            },
            "type": "scatterpolar"
           }
          ],
          "scatterpolargl": [
           {
            "marker": {
             "colorbar": {
              "outlinewidth": 0,
              "ticks": ""
             }
            },
            "type": "scatterpolargl"
           }
          ],
          "scatterternary": [
           {
            "marker": {
             "colorbar": {
              "outlinewidth": 0,
              "ticks": ""
             }
            },
            "type": "scatterternary"
           }
          ],
          "surface": [
           {
            "colorbar": {
             "outlinewidth": 0,
             "ticks": ""
            },
            "colorscale": [
             [
              0,
              "#0d0887"
             ],
             [
              0.1111111111111111,
              "#46039f"
             ],
             [
              0.2222222222222222,
              "#7201a8"
             ],
             [
              0.3333333333333333,
              "#9c179e"
             ],
             [
              0.4444444444444444,
              "#bd3786"
             ],
             [
              0.5555555555555556,
              "#d8576b"
             ],
             [
              0.6666666666666666,
              "#ed7953"
             ],
             [
              0.7777777777777778,
              "#fb9f3a"
             ],
             [
              0.8888888888888888,
              "#fdca26"
             ],
             [
              1,
              "#f0f921"
             ]
            ],
            "type": "surface"
           }
          ],
          "table": [
           {
            "cells": {
             "fill": {
              "color": "#EBF0F8"
             },
             "line": {
              "color": "white"
             }
            },
            "header": {
             "fill": {
              "color": "#C8D4E3"
             },
             "line": {
              "color": "white"
             }
            },
            "type": "table"
           }
          ]
         },
         "layout": {
          "annotationdefaults": {
           "arrowcolor": "#2a3f5f",
           "arrowhead": 0,
           "arrowwidth": 1
          },
          "autotypenumbers": "strict",
          "coloraxis": {
           "colorbar": {
            "outlinewidth": 0,
            "ticks": ""
           }
          },
          "colorscale": {
           "diverging": [
            [
             0,
             "#8e0152"
            ],
            [
             0.1,
             "#c51b7d"
            ],
            [
             0.2,
             "#de77ae"
            ],
            [
             0.3,
             "#f1b6da"
            ],
            [
             0.4,
             "#fde0ef"
            ],
            [
             0.5,
             "#f7f7f7"
            ],
            [
             0.6,
             "#e6f5d0"
            ],
            [
             0.7,
             "#b8e186"
            ],
            [
             0.8,
             "#7fbc41"
            ],
            [
             0.9,
             "#4d9221"
            ],
            [
             1,
             "#276419"
            ]
           ],
           "sequential": [
            [
             0,
             "#0d0887"
            ],
            [
             0.1111111111111111,
             "#46039f"
            ],
            [
             0.2222222222222222,
             "#7201a8"
            ],
            [
             0.3333333333333333,
             "#9c179e"
            ],
            [
             0.4444444444444444,
             "#bd3786"
            ],
            [
             0.5555555555555556,
             "#d8576b"
            ],
            [
             0.6666666666666666,
             "#ed7953"
            ],
            [
             0.7777777777777778,
             "#fb9f3a"
            ],
            [
             0.8888888888888888,
             "#fdca26"
            ],
            [
             1,
             "#f0f921"
            ]
           ],
           "sequentialminus": [
            [
             0,
             "#0d0887"
            ],
            [
             0.1111111111111111,
             "#46039f"
            ],
            [
             0.2222222222222222,
             "#7201a8"
            ],
            [
             0.3333333333333333,
             "#9c179e"
            ],
            [
             0.4444444444444444,
             "#bd3786"
            ],
            [
             0.5555555555555556,
             "#d8576b"
            ],
            [
             0.6666666666666666,
             "#ed7953"
            ],
            [
             0.7777777777777778,
             "#fb9f3a"
            ],
            [
             0.8888888888888888,
             "#fdca26"
            ],
            [
             1,
             "#f0f921"
            ]
           ]
          },
          "colorway": [
           "#636efa",
           "#EF553B",
           "#00cc96",
           "#ab63fa",
           "#FFA15A",
           "#19d3f3",
           "#FF6692",
           "#B6E880",
           "#FF97FF",
           "#FECB52"
          ],
          "font": {
           "color": "#2a3f5f"
          },
          "geo": {
           "bgcolor": "white",
           "lakecolor": "white",
           "landcolor": "#E5ECF6",
           "showlakes": true,
           "showland": true,
           "subunitcolor": "white"
          },
          "hoverlabel": {
           "align": "left"
          },
          "hovermode": "closest",
          "mapbox": {
           "style": "light"
          },
          "paper_bgcolor": "white",
          "plot_bgcolor": "#E5ECF6",
          "polar": {
           "angularaxis": {
            "gridcolor": "white",
            "linecolor": "white",
            "ticks": ""
           },
           "bgcolor": "#E5ECF6",
           "radialaxis": {
            "gridcolor": "white",
            "linecolor": "white",
            "ticks": ""
           }
          },
          "scene": {
           "xaxis": {
            "backgroundcolor": "#E5ECF6",
            "gridcolor": "white",
            "gridwidth": 2,
            "linecolor": "white",
            "showbackground": true,
            "ticks": "",
            "zerolinecolor": "white"
           },
           "yaxis": {
            "backgroundcolor": "#E5ECF6",
            "gridcolor": "white",
            "gridwidth": 2,
            "linecolor": "white",
            "showbackground": true,
            "ticks": "",
            "zerolinecolor": "white"
           },
           "zaxis": {
            "backgroundcolor": "#E5ECF6",
            "gridcolor": "white",
            "gridwidth": 2,
            "linecolor": "white",
            "showbackground": true,
            "ticks": "",
            "zerolinecolor": "white"
           }
          },
          "shapedefaults": {
           "line": {
            "color": "#2a3f5f"
           }
          },
          "ternary": {
           "aaxis": {
            "gridcolor": "white",
            "linecolor": "white",
            "ticks": ""
           },
           "baxis": {
            "gridcolor": "white",
            "linecolor": "white",
            "ticks": ""
           },
           "bgcolor": "#E5ECF6",
           "caxis": {
            "gridcolor": "white",
            "linecolor": "white",
            "ticks": ""
           }
          },
          "title": {
           "x": 0.05
          },
          "xaxis": {
           "automargin": true,
           "gridcolor": "white",
           "linecolor": "white",
           "ticks": "",
           "title": {
            "standoff": 15
           },
           "zerolinecolor": "white",
           "zerolinewidth": 2
          },
          "yaxis": {
           "automargin": true,
           "gridcolor": "white",
           "linecolor": "white",
           "ticks": "",
           "title": {
            "standoff": 15
           },
           "zerolinecolor": "white",
           "zerolinewidth": 2
          }
         }
        },
        "title": {
         "text": "Resonator spectroscopy phase gradient fitting"
        },
        "xaxis": {
         "title": {
          "text": "Frequency [MHz]"
         }
        },
        "yaxis": {
         "title": {
          "text": "Phase"
         }
        }
       }
      },
      "image/png": "[encoded data removed]"
     },
     "metadata": {},
     "output_type": "display_data"
    },
    {
     "data": {
      "application/json": {
       "print_time": "2025-08-24 16:14:41",
       "record_book_path": "log/coxious/2025-08/2025-08-24/16.14.41",
       "record_entry_path": "/root/1-ResonatorSweepTransmissionWithExtraInitialLPB.run",
       "record_id": "87485f45-47e2-40e2-a665-8d3a597b1a40",
       "record_time": 1756077281
      },
      "text/plain": [
       "<IPython.core.display.JSON object>"
      ]
     },
     "metadata": {
      "application/json": {
       "expanded": false,
       "root": "ResonatorSweepTransmissionWithExtraInitialLPB"
      }
     },
     "output_type": "display_data"
    }
   ],
   "source": [
    "# 1. Resonator spectroscopy\n",
    "resonator_spec = ResonatorSweepTransmissionWithExtraInitialLPB(\n",
    "    dut_qubit=qubit,\n",
    "    start=9000.0,\n",
    "    stop=10000.0,\n",
    "    step=5.0,\n",
    "    num_avs=1000,\n",
    "    amp=0.02,\n",
    "    mp_width=8.0\n",
    ")"
   ]
  },
  {
   "cell_type": "code",
   "execution_count": 5,
   "metadata": {},
   "outputs": [
    {
     "data": {
      "application/vnd.plotly.v1+json": {
       "config": {
        "plotlyServerURL": "https://plot.ly"
       },
       "data": [
        {
         "mode": "lines",
         "name": "Magnitude",
         "type": "scatter",
         "x": {
          "bdata": "AAAAAAB0s0AAAAAAgHSzQAAAAAAAdbNAAAAAAIB1s0AAAAAAAHazQAAAAACAdrNAAAAAAAB3s0AAAAAAgHezQAAAAAAAeLNAAAAAAIB4s0AAAAAAAHmzQAAAAACAebNAAAAAAAB6s0AAAAAAgHqzQAAAAAAAe7NAAAAAAIB7s0AAAAAAAHyzQAAAAACAfLNAAAAAAAB9s0AAAAAAgH2zQAAAAAAAfrNAAAAAAIB+s0AAAAAAAH+zQAAAAACAf7NAAAAAAACAs0AAAAAAgICzQAAAAAAAgbNAAAAAAICBs0AAAAAAAIKzQAAAAACAgrNAAAAAAACDs0AAAAAAgIOzQAAAAAAAhLNAAAAAAICEs0AAAAAAAIWzQAAAAACAhbNAAAAAAACGs0AAAAAAgIazQAAAAAAAh7NAAAAAAICHs0AAAAAAAIizQAAAAACAiLNAAAAAAACJs0AAAAAAgImzQAAAAAAAirNAAAAAAICKs0AAAAAAAIuzQAAAAACAi7NAAAAAAACMs0AAAAAAgIyzQAAAAAAAjbNAAAAAAICNs0AAAAAAAI6zQAAAAACAjrNAAAAAAACPs0AAAAAAgI+zQAAAAAAAkLNAAAAAAICQs0AAAAAAAJGzQAAAAACAkbNAAAAAAACSs0AAAAAAgJKzQAAAAAAAk7NAAAAAAICTs0AAAAAAAJSzQAAAAACAlLNAAAAAAACVs0AAAAAAgJWzQAAAAAAAlrNAAAAAAICWs0AAAAAAAJezQAAAAACAl7NAAAAAAACYs0AAAAAAgJizQAAAAAAAmbNAAAAAAICZs0AAAAAAAJqzQAAAAACAmrNAAAAAAACbs0AAAAAAgJuzQA==",
          "dtype": "f8"
         },
         "y": {
          "bdata": "wkLudS9BJ0AIKQRSmhwnQE6Sfg2C9yZAR3LDgO/RJkBjkPu27KsmQLrpuv2EhSZA9cNj88ReJkArpN2TujcmQAGnMEN1ECZA1nSO1QXpJUBE4kyUfsElQDDaUz/zmSVA9S2BCnlyJUBMBIqWJkslQNZ/6+QTJCVA5FuLRlr9JEC2Cb5EFNckQE5ZgoRdsSRAmL/io1KMJEA3MpEREWgkQK5T+962RCRAJcc/jWIiJEAFE5nVMgEkQKg3/G1G4SNAlpHOyrvCI0DgP7XesKUjQJS/ldlCiiNAD9zp541wI0CLQYfzrFgjQFij7Ga5QiNAq0IM9MouI0Bnjmdf9xwjQL5oJFBSDSNAy/aVJe3/IkCzvITS1vQiQLYlWL4b7CJAkeQhrMXlIkAPTXSn2+EiQKcI4fZh4CJAYPn8E1rhIkDy6M6owuQiQBSsnZKX6iJADbwj6tHyIkCIsj0RaP0iQAqVMsZNCiNAwE21PHQZI0CpILQ8yiojQBrr9EY8PiNA+5Bcv7RTI0DMiZccHGsjQDtgrBxZhCNAzhbT/VCfI0BxusG657sjQC2TekkA2iNAVTWO23z5I0C6FbUePxokQI78oXwoPCRA/4j4WBpfJECQxWdM9oIkQCm4BlyepyRAcp01LPXMJEAsmG8u3vIkQNOfo8k9GSVAIx7WfPk/JUDXEfX792YlQJkw7UYhjiVA3F0uu161JUBQO+gfm9wlQH1fXK3CAyZAHPWyD8MqJkBKf8hli1EmQPy8cDwMeCZAKc2rhjeeJkDSbUiTAMQmQIgvaQBc6SZAtl9brT8OJ0AN3yWrojInQE6YLCx9VidAlFI7c8h5J0CfhEDCfpwnQA==",
          "dtype": "f8"
         }
        }
       ],
       "layout": {
        "plot_bgcolor": "white",
        "template": {
         "data": {
          "bar": [
           {
            "error_x": {
             "color": "#2a3f5f"
            },
            "error_y": {
             "color": "#2a3f5f"
            },
            "marker": {
             "line": {
              "color": "#E5ECF6",
              "width": 0.5
             },
             "pattern": {
              "fillmode": "overlay",
              "size": 10,
              "solidity": 0.2
             }
            },
            "type": "bar"
           }
          ],
          "barpolar": [
           {
            "marker": {
             "line": {
              "color": "#E5ECF6",
              "width": 0.5
             },
             "pattern": {
              "fillmode": "overlay",
              "size": 10,
              "solidity": 0.2
             }
            },
            "type": "barpolar"
           }
          ],
          "carpet": [
           {
            "aaxis": {
             "endlinecolor": "#2a3f5f",
             "gridcolor": "white",
             "linecolor": "white",
             "minorgridcolor": "white",
             "startlinecolor": "#2a3f5f"
            },
            "baxis": {
             "endlinecolor": "#2a3f5f",
             "gridcolor": "white",
             "linecolor": "white",
             "minorgridcolor": "white",
             "startlinecolor": "#2a3f5f"
            },
            "type": "carpet"
           }
          ],
          "choropleth": [
           {
            "colorbar": {
             "outlinewidth": 0,
             "ticks": ""
            },
            "type": "choropleth"
           }
          ],
          "contour": [
           {
            "colorbar": {
             "outlinewidth": 0,
             "ticks": ""
            },
            "colorscale": [
             [
              0,
              "#0d0887"
             ],
             [
              0.1111111111111111,
              "#46039f"
             ],
             [
              0.2222222222222222,
              "#7201a8"
             ],
             [
              0.3333333333333333,
              "#9c179e"
             ],
             [
              0.4444444444444444,
              "#bd3786"
             ],
             [
              0.5555555555555556,
              "#d8576b"
             ],
             [
              0.6666666666666666,
              "#ed7953"
             ],
             [
              0.7777777777777778,
              "#fb9f3a"
             ],
             [
              0.8888888888888888,
              "#fdca26"
             ],
             [
              1,
              "#f0f921"
             ]
            ],
            "type": "contour"
           }
          ],
          "contourcarpet": [
           {
            "colorbar": {
             "outlinewidth": 0,
             "ticks": ""
            },
            "type": "contourcarpet"
           }
          ],
          "heatmap": [
           {
            "colorbar": {
             "outlinewidth": 0,
             "ticks": ""
            },
            "colorscale": [
             [
              0,
              "#0d0887"
             ],
             [
              0.1111111111111111,
              "#46039f"
             ],
             [
              0.2222222222222222,
              "#7201a8"
             ],
             [
              0.3333333333333333,
              "#9c179e"
             ],
             [
              0.4444444444444444,
              "#bd3786"
             ],
             [
              0.5555555555555556,
              "#d8576b"
             ],
             [
              0.6666666666666666,
              "#ed7953"
             ],
             [
              0.7777777777777778,
              "#fb9f3a"
             ],
             [
              0.8888888888888888,
              "#fdca26"
             ],
             [
              1,
              "#f0f921"
             ]
            ],
            "type": "heatmap"
           }
          ],
          "histogram": [
           {
            "marker": {
             "pattern": {
              "fillmode": "overlay",
              "size": 10,
              "solidity": 0.2
             }
            },
            "type": "histogram"
           }
          ],
          "histogram2d": [
           {
            "colorbar": {
             "outlinewidth": 0,
             "ticks": ""
            },
            "colorscale": [
             [
              0,
              "#0d0887"
             ],
             [
              0.1111111111111111,
              "#46039f"
             ],
             [
              0.2222222222222222,
              "#7201a8"
             ],
             [
              0.3333333333333333,
              "#9c179e"
             ],
             [
              0.4444444444444444,
              "#bd3786"
             ],
             [
              0.5555555555555556,
              "#d8576b"
             ],
             [
              0.6666666666666666,
              "#ed7953"
             ],
             [
              0.7777777777777778,
              "#fb9f3a"
             ],
             [
              0.8888888888888888,
              "#fdca26"
             ],
             [
              1,
              "#f0f921"
             ]
            ],
            "type": "histogram2d"
           }
          ],
          "histogram2dcontour": [
           {
            "colorbar": {
             "outlinewidth": 0,
             "ticks": ""
            },
            "colorscale": [
             [
              0,
              "#0d0887"
             ],
             [
              0.1111111111111111,
              "#46039f"
             ],
             [
              0.2222222222222222,
              "#7201a8"
             ],
             [
              0.3333333333333333,
              "#9c179e"
             ],
             [
              0.4444444444444444,
              "#bd3786"
             ],
             [
              0.5555555555555556,
              "#d8576b"
             ],
             [
              0.6666666666666666,
              "#ed7953"
             ],
             [
              0.7777777777777778,
              "#fb9f3a"
             ],
             [
              0.8888888888888888,
              "#fdca26"
             ],
             [
              1,
              "#f0f921"
             ]
            ],
            "type": "histogram2dcontour"
           }
          ],
          "mesh3d": [
           {
            "colorbar": {
             "outlinewidth": 0,
             "ticks": ""
            },
            "type": "mesh3d"
           }
          ],
          "parcoords": [
           {
            "line": {
             "colorbar": {
              "outlinewidth": 0,
              "ticks": ""
             }
            },
            "type": "parcoords"
           }
          ],
          "pie": [
           {
            "automargin": true,
            "type": "pie"
           }
          ],
          "scatter": [
           {
            "fillpattern": {
             "fillmode": "overlay",
             "size": 10,
             "solidity": 0.2
            },
            "type": "scatter"
           }
          ],
          "scatter3d": [
           {
            "line": {
             "colorbar": {
              "outlinewidth": 0,
              "ticks": ""
             }
            },
            "marker": {
             "colorbar": {
              "outlinewidth": 0,
              "ticks": ""
             }
            },
            "type": "scatter3d"
           }
          ],
          "scattercarpet": [
           {
            "marker": {
             "colorbar": {
              "outlinewidth": 0,
              "ticks": ""
             }
            },
            "type": "scattercarpet"
           }
          ],
          "scattergeo": [
           {
            "marker": {
             "colorbar": {
              "outlinewidth": 0,
              "ticks": ""
             }
            },
            "type": "scattergeo"
           }
          ],
          "scattergl": [
           {
            "marker": {
             "colorbar": {
              "outlinewidth": 0,
              "ticks": ""
             }
            },
            "type": "scattergl"
           }
          ],
          "scattermap": [
           {
            "marker": {
             "colorbar": {
              "outlinewidth": 0,
              "ticks": ""
             }
            },
            "type": "scattermap"
           }
          ],
          "scattermapbox": [
           {
            "marker": {
             "colorbar": {
              "outlinewidth": 0,
              "ticks": ""
             }
            },
            "type": "scattermapbox"
           }
          ],
          "scatterpolar": [
           {
            "marker": {
             "colorbar": {
              "outlinewidth": 0,
              "ticks": ""
             }
            },
            "type": "scatterpolar"
           }
          ],
          "scatterpolargl": [
           {
            "marker": {
             "colorbar": {
              "outlinewidth": 0,
              "ticks": ""
             }
            },
            "type": "scatterpolargl"
           }
          ],
          "scatterternary": [
           {
            "marker": {
             "colorbar": {
              "outlinewidth": 0,
              "ticks": ""
             }
            },
            "type": "scatterternary"
           }
          ],
          "surface": [
           {
            "colorbar": {
             "outlinewidth": 0,
             "ticks": ""
            },
            "colorscale": [
             [
              0,
              "#0d0887"
             ],
             [
              0.1111111111111111,
              "#46039f"
             ],
             [
              0.2222222222222222,
              "#7201a8"
             ],
             [
              0.3333333333333333,
              "#9c179e"
             ],
             [
              0.4444444444444444,
              "#bd3786"
             ],
             [
              0.5555555555555556,
              "#d8576b"
             ],
             [
              0.6666666666666666,
              "#ed7953"
             ],
             [
              0.7777777777777778,
              "#fb9f3a"
             ],
             [
              0.8888888888888888,
              "#fdca26"
             ],
             [
              1,
              "#f0f921"
             ]
            ],
            "type": "surface"
           }
          ],
          "table": [
           {
            "cells": {
             "fill": {
              "color": "#EBF0F8"
             },
             "line": {
              "color": "white"
             }
            },
            "header": {
             "fill": {
              "color": "#C8D4E3"
             },
             "line": {
              "color": "white"
             }
            },
            "type": "table"
           }
          ]
         },
         "layout": {
          "annotationdefaults": {
           "arrowcolor": "#2a3f5f",
           "arrowhead": 0,
           "arrowwidth": 1
          },
          "autotypenumbers": "strict",
          "coloraxis": {
           "colorbar": {
            "outlinewidth": 0,
            "ticks": ""
           }
          },
          "colorscale": {
           "diverging": [
            [
             0,
             "#8e0152"
            ],
            [
             0.1,
             "#c51b7d"
            ],
            [
             0.2,
             "#de77ae"
            ],
            [
             0.3,
             "#f1b6da"
            ],
            [
             0.4,
             "#fde0ef"
            ],
            [
             0.5,
             "#f7f7f7"
            ],
            [
             0.6,
             "#e6f5d0"
            ],
            [
             0.7,
             "#b8e186"
            ],
            [
             0.8,
             "#7fbc41"
            ],
            [
             0.9,
             "#4d9221"
            ],
            [
             1,
             "#276419"
            ]
           ],
           "sequential": [
            [
             0,
             "#0d0887"
            ],
            [
             0.1111111111111111,
             "#46039f"
            ],
            [
             0.2222222222222222,
             "#7201a8"
            ],
            [
             0.3333333333333333,
             "#9c179e"
            ],
            [
             0.4444444444444444,
             "#bd3786"
            ],
            [
             0.5555555555555556,
             "#d8576b"
            ],
            [
             0.6666666666666666,
             "#ed7953"
            ],
            [
             0.7777777777777778,
             "#fb9f3a"
            ],
            [
             0.8888888888888888,
             "#fdca26"
            ],
            [
             1,
             "#f0f921"
            ]
           ],
           "sequentialminus": [
            [
             0,
             "#0d0887"
            ],
            [
             0.1111111111111111,
             "#46039f"
            ],
            [
             0.2222222222222222,
             "#7201a8"
            ],
            [
             0.3333333333333333,
             "#9c179e"
            ],
            [
             0.4444444444444444,
             "#bd3786"
            ],
            [
             0.5555555555555556,
             "#d8576b"
            ],
            [
             0.6666666666666666,
             "#ed7953"
            ],
            [
             0.7777777777777778,
             "#fb9f3a"
            ],
            [
             0.8888888888888888,
             "#fdca26"
            ],
            [
             1,
             "#f0f921"
            ]
           ]
          },
          "colorway": [
           "#636efa",
           "#EF553B",
           "#00cc96",
           "#ab63fa",
           "#FFA15A",
           "#19d3f3",
           "#FF6692",
           "#B6E880",
           "#FF97FF",
           "#FECB52"
          ],
          "font": {
           "color": "#2a3f5f"
          },
          "geo": {
           "bgcolor": "white",
           "lakecolor": "white",
           "landcolor": "#E5ECF6",
           "showlakes": true,
           "showland": true,
           "subunitcolor": "white"
          },
          "hoverlabel": {
           "align": "left"
          },
          "hovermode": "closest",
          "mapbox": {
           "style": "light"
          },
          "paper_bgcolor": "white",
          "plot_bgcolor": "#E5ECF6",
          "polar": {
           "angularaxis": {
            "gridcolor": "white",
            "linecolor": "white",
            "ticks": ""
           },
           "bgcolor": "#E5ECF6",
           "radialaxis": {
            "gridcolor": "white",
            "linecolor": "white",
            "ticks": ""
           }
          },
          "scene": {
           "xaxis": {
            "backgroundcolor": "#E5ECF6",
            "gridcolor": "white",
            "gridwidth": 2,
            "linecolor": "white",
            "showbackground": true,
            "ticks": "",
            "zerolinecolor": "white"
           },
           "yaxis": {
            "backgroundcolor": "#E5ECF6",
            "gridcolor": "white",
            "gridwidth": 2,
            "linecolor": "white",
            "showbackground": true,
            "ticks": "",
            "zerolinecolor": "white"
           },
           "zaxis": {
            "backgroundcolor": "#E5ECF6",
            "gridcolor": "white",
            "gridwidth": 2,
            "linecolor": "white",
            "showbackground": true,
            "ticks": "",
            "zerolinecolor": "white"
           }
          },
          "shapedefaults": {
           "line": {
            "color": "#2a3f5f"
           }
          },
          "ternary": {
           "aaxis": {
            "gridcolor": "white",
            "linecolor": "white",
            "ticks": ""
           },
           "baxis": {
            "gridcolor": "white",
            "linecolor": "white",
            "ticks": ""
           },
           "bgcolor": "#E5ECF6",
           "caxis": {
            "gridcolor": "white",
            "linecolor": "white",
            "ticks": ""
           }
          },
          "title": {
           "x": 0.05
          },
          "xaxis": {
           "automargin": true,
           "gridcolor": "white",
           "linecolor": "white",
           "ticks": "",
           "title": {
            "standoff": 15
           },
           "zerolinecolor": "white",
           "zerolinewidth": 2
          },
          "yaxis": {
           "automargin": true,
           "gridcolor": "white",
           "linecolor": "white",
           "ticks": "",
           "title": {
            "standoff": 15
           },
           "zerolinecolor": "white",
           "zerolinewidth": 2
          }
         }
        },
        "title": {
         "text": "Qubit spectroscopy resonator response magnitude"
        },
        "xaxis": {
         "title": {
          "text": "Frequency [MHz]"
         }
        },
        "yaxis": {
         "title": {
          "text": "Magnitude"
         }
        }
       }
      }
     },
     "metadata": {},
     "output_type": "display_data"
    },
    {
     "data": {
      "application/vnd.plotly.v1+json": {
       "config": {
        "plotlyServerURL": "https://plot.ly"
       },
       "data": [
        {
         "mode": "lines",
         "name": "Phase",
         "type": "scatter",
         "x": {
          "bdata": "AAAAAAB0s0AAAAAAgHSzQAAAAAAAdbNAAAAAAIB1s0AAAAAAAHazQAAAAACAdrNAAAAAAAB3s0AAAAAAgHezQAAAAAAAeLNAAAAAAIB4s0AAAAAAAHmzQAAAAACAebNAAAAAAAB6s0AAAAAAgHqzQAAAAAAAe7NAAAAAAIB7s0AAAAAAAHyzQAAAAACAfLNAAAAAAAB9s0AAAAAAgH2zQAAAAAAAfrNAAAAAAIB+s0AAAAAAAH+zQAAAAACAf7NAAAAAAACAs0AAAAAAgICzQAAAAAAAgbNAAAAAAICBs0AAAAAAAIKzQAAAAACAgrNAAAAAAACDs0AAAAAAgIOzQAAAAAAAhLNAAAAAAICEs0AAAAAAAIWzQAAAAACAhbNAAAAAAACGs0AAAAAAgIazQAAAAAAAh7NAAAAAAICHs0AAAAAAAIizQAAAAACAiLNAAAAAAACJs0AAAAAAgImzQAAAAAAAirNAAAAAAICKs0AAAAAAAIuzQAAAAACAi7NAAAAAAACMs0AAAAAAgIyzQAAAAAAAjbNAAAAAAICNs0AAAAAAAI6zQAAAAACAjrNAAAAAAACPs0AAAAAAgI+zQAAAAAAAkLNAAAAAAICQs0AAAAAAAJGzQAAAAACAkbNAAAAAAACSs0AAAAAAgJKzQAAAAAAAk7NAAAAAAICTs0AAAAAAAJSzQAAAAACAlLNAAAAAAACVs0AAAAAAgJWzQAAAAAAAlrNAAAAAAICWs0AAAAAAAJezQAAAAACAl7NAAAAAAACYs0AAAAAAgJizQAAAAAAAmbNAAAAAAICZs0AAAAAAAJqzQAAAAACAmrNAAAAAAACbs0AAAAAAgJuzQA==",
          "dtype": "f8"
         },
         "y": {
          "bdata": "aaktBV42w7/VdJJ5MMTDv1mJqSM+VsS/SbwDtorsxL8u5gPVFIfFv9F7CVjVJca/033ce77Ixr+77ykHu2/Hv1yJcGKtGsi/n7FppW7JyL+A0MOczXvJv69s6MuNMcq/xxeIb2bqyr+ImLuGAabLv0Hjren6Y8y/PAvrdd8jzb+5co9ZLOXNvwy3lodOp86/cdNdYKJpz79J1vvMuRXQv8AUDrr+ddC/ZaWSoTXV0L+s3lCu7DLRv/LUNTerjtG/Zh9vo/Ln0b+479eIPz7Sv5D/lAQLkdK/PbSES8zf0r+YsbRt+inTv+GjeEUOb9O/LDoqiISu07+VcTDs3+fTv51111WrGtS/2uTs+ntG1L9bRyRs82rUvxrjGnPBh9S/SE17tKWc1L9HlEQHcanUv/26i3QGrtS/Gj0W1luq1L/mUMENep7Uv3ZrmNN8itS/mtmLHJJu1L/yOakf+UrUvxbSUAMBINS/aavwPgfu07+ElyjAdbXTvxH+xePAdtO/Jzq4U2Uy078LRfra5ejSv6pvhj/JmtK/L3raMJhI0r9kLINX2/LRvyzcwI8ZmtG/ogfFVtY+0b+vonRvkOHQvxALJsHAgtC/L7SYcNki0L+x3vZiioTPv5IgkZrNws6/H48itjEBzr8PrAJGW0DNv84C1U/egMy/zcjyoT7Dy78OPo1b8AfLv3hndZ5YT8q/bJdFYM6Zyb8tP6pRm+fIv79tpNP8OMi/doXH8ySOx789G5dpO+fGvw02P5BeRMa/e/ngWKSlxb9RwpMyGwvFv3OQBObKdMS/WeZKY7Xiw783yxuB11TDv3Iy+6wpy8K/gO9rjKBFwr8JQGmPLcTBvw==",
          "dtype": "f8"
         }
        }
       ],
       "layout": {
        "plot_bgcolor": "white",
        "template": {
         "data": {
          "bar": [
           {
            "error_x": {
             "color": "#2a3f5f"
            },
            "error_y": {
             "color": "#2a3f5f"
            },
            "marker": {
             "line": {
              "color": "#E5ECF6",
              "width": 0.5
             },
             "pattern": {
              "fillmode": "overlay",
              "size": 10,
              "solidity": 0.2
             }
            },
            "type": "bar"
           }
          ],
          "barpolar": [
           {
            "marker": {
             "line": {
              "color": "#E5ECF6",
              "width": 0.5
             },
             "pattern": {
              "fillmode": "overlay",
              "size": 10,
              "solidity": 0.2
             }
            },
            "type": "barpolar"
           }
          ],
          "carpet": [
           {
            "aaxis": {
             "endlinecolor": "#2a3f5f",
             "gridcolor": "white",
             "linecolor": "white",
             "minorgridcolor": "white",
             "startlinecolor": "#2a3f5f"
            },
            "baxis": {
             "endlinecolor": "#2a3f5f",
             "gridcolor": "white",
             "linecolor": "white",
             "minorgridcolor": "white",
             "startlinecolor": "#2a3f5f"
            },
            "type": "carpet"
           }
          ],
          "choropleth": [
           {
            "colorbar": {
             "outlinewidth": 0,
             "ticks": ""
            },
            "type": "choropleth"
           }
          ],
          "contour": [
           {
            "colorbar": {
             "outlinewidth": 0,
             "ticks": ""
            },
            "colorscale": [
             [
              0,
              "#0d0887"
             ],
             [
              0.1111111111111111,
              "#46039f"
             ],
             [
              0.2222222222222222,
              "#7201a8"
             ],
             [
              0.3333333333333333,
              "#9c179e"
             ],
             [
              0.4444444444444444,
              "#bd3786"
             ],
             [
              0.5555555555555556,
              "#d8576b"
             ],
             [
              0.6666666666666666,
              "#ed7953"
             ],
             [
              0.7777777777777778,
              "#fb9f3a"
             ],
             [
              0.8888888888888888,
              "#fdca26"
             ],
             [
              1,
              "#f0f921"
             ]
            ],
            "type": "contour"
           }
          ],
          "contourcarpet": [
           {
            "colorbar": {
             "outlinewidth": 0,
             "ticks": ""
            },
            "type": "contourcarpet"
           }
          ],
          "heatmap": [
           {
            "colorbar": {
             "outlinewidth": 0,
             "ticks": ""
            },
            "colorscale": [
             [
              0,
              "#0d0887"
             ],
             [
              0.1111111111111111,
              "#46039f"
             ],
             [
              0.2222222222222222,
              "#7201a8"
             ],
             [
              0.3333333333333333,
              "#9c179e"
             ],
             [
              0.4444444444444444,
              "#bd3786"
             ],
             [
              0.5555555555555556,
              "#d8576b"
             ],
             [
              0.6666666666666666,
              "#ed7953"
             ],
             [
              0.7777777777777778,
              "#fb9f3a"
             ],
             [
              0.8888888888888888,
              "#fdca26"
             ],
             [
              1,
              "#f0f921"
             ]
            ],
            "type": "heatmap"
           }
          ],
          "histogram": [
           {
            "marker": {
             "pattern": {
              "fillmode": "overlay",
              "size": 10,
              "solidity": 0.2
             }
            },
            "type": "histogram"
           }
          ],
          "histogram2d": [
           {
            "colorbar": {
             "outlinewidth": 0,
             "ticks": ""
            },
            "colorscale": [
             [
              0,
              "#0d0887"
             ],
             [
              0.1111111111111111,
              "#46039f"
             ],
             [
              0.2222222222222222,
              "#7201a8"
             ],
             [
              0.3333333333333333,
              "#9c179e"
             ],
             [
              0.4444444444444444,
              "#bd3786"
             ],
             [
              0.5555555555555556,
              "#d8576b"
             ],
             [
              0.6666666666666666,
              "#ed7953"
             ],
             [
              0.7777777777777778,
              "#fb9f3a"
             ],
             [
              0.8888888888888888,
              "#fdca26"
             ],
             [
              1,
              "#f0f921"
             ]
            ],
            "type": "histogram2d"
           }
          ],
          "histogram2dcontour": [
           {
            "colorbar": {
             "outlinewidth": 0,
             "ticks": ""
            },
            "colorscale": [
             [
              0,
              "#0d0887"
             ],
             [
              0.1111111111111111,
              "#46039f"
             ],
             [
              0.2222222222222222,
              "#7201a8"
             ],
             [
              0.3333333333333333,
              "#9c179e"
             ],
             [
              0.4444444444444444,
              "#bd3786"
             ],
             [
              0.5555555555555556,
              "#d8576b"
             ],
             [
              0.6666666666666666,
              "#ed7953"
             ],
             [
              0.7777777777777778,
              "#fb9f3a"
             ],
             [
              0.8888888888888888,
              "#fdca26"
             ],
             [
              1,
              "#f0f921"
             ]
            ],
            "type": "histogram2dcontour"
           }
          ],
          "mesh3d": [
           {
            "colorbar": {
             "outlinewidth": 0,
             "ticks": ""
            },
            "type": "mesh3d"
           }
          ],
          "parcoords": [
           {
            "line": {
             "colorbar": {
              "outlinewidth": 0,
              "ticks": ""
             }
            },
            "type": "parcoords"
           }
          ],
          "pie": [
           {
            "automargin": true,
            "type": "pie"
           }
          ],
          "scatter": [
           {
            "fillpattern": {
             "fillmode": "overlay",
             "size": 10,
             "solidity": 0.2
            },
            "type": "scatter"
           }
          ],
          "scatter3d": [
           {
            "line": {
             "colorbar": {
              "outlinewidth": 0,
              "ticks": ""
             }
            },
            "marker": {
             "colorbar": {
              "outlinewidth": 0,
              "ticks": ""
             }
            },
            "type": "scatter3d"
           }
          ],
          "scattercarpet": [
           {
            "marker": {
             "colorbar": {
              "outlinewidth": 0,
              "ticks": ""
             }
            },
            "type": "scattercarpet"
           }
          ],
          "scattergeo": [
           {
            "marker": {
             "colorbar": {
              "outlinewidth": 0,
              "ticks": ""
             }
            },
            "type": "scattergeo"
           }
          ],
          "scattergl": [
           {
            "marker": {
             "colorbar": {
              "outlinewidth": 0,
              "ticks": ""
             }
            },
            "type": "scattergl"
           }
          ],
          "scattermap": [
           {
            "marker": {
             "colorbar": {
              "outlinewidth": 0,
              "ticks": ""
             }
            },
            "type": "scattermap"
           }
          ],
          "scattermapbox": [
           {
            "marker": {
             "colorbar": {
              "outlinewidth": 0,
              "ticks": ""
             }
            },
            "type": "scattermapbox"
           }
          ],
          "scatterpolar": [
           {
            "marker": {
             "colorbar": {
              "outlinewidth": 0,
              "ticks": ""
             }
            },
            "type": "scatterpolar"
           }
          ],
          "scatterpolargl": [
           {
            "marker": {
             "colorbar": {
              "outlinewidth": 0,
              "ticks": ""
             }
            },
            "type": "scatterpolargl"
           }
          ],
          "scatterternary": [
           {
            "marker": {
             "colorbar": {
              "outlinewidth": 0,
              "ticks": ""
             }
            },
            "type": "scatterternary"
           }
          ],
          "surface": [
           {
            "colorbar": {
             "outlinewidth": 0,
             "ticks": ""
            },
            "colorscale": [
             [
              0,
              "#0d0887"
             ],
             [
              0.1111111111111111,
              "#46039f"
             ],
             [
              0.2222222222222222,
              "#7201a8"
             ],
             [
              0.3333333333333333,
              "#9c179e"
             ],
             [
              0.4444444444444444,
              "#bd3786"
             ],
             [
              0.5555555555555556,
              "#d8576b"
             ],
             [
              0.6666666666666666,
              "#ed7953"
             ],
             [
              0.7777777777777778,
              "#fb9f3a"
             ],
             [
              0.8888888888888888,
              "#fdca26"
             ],
             [
              1,
              "#f0f921"
             ]
            ],
            "type": "surface"
           }
          ],
          "table": [
           {
            "cells": {
             "fill": {
              "color": "#EBF0F8"
             },
             "line": {
              "color": "white"
             }
            },
            "header": {
             "fill": {
              "color": "#C8D4E3"
             },
             "line": {
              "color": "white"
             }
            },
            "type": "table"
           }
          ]
         },
         "layout": {
          "annotationdefaults": {
           "arrowcolor": "#2a3f5f",
           "arrowhead": 0,
           "arrowwidth": 1
          },
          "autotypenumbers": "strict",
          "coloraxis": {
           "colorbar": {
            "outlinewidth": 0,
            "ticks": ""
           }
          },
          "colorscale": {
           "diverging": [
            [
             0,
             "#8e0152"
            ],
            [
             0.1,
             "#c51b7d"
            ],
            [
             0.2,
             "#de77ae"
            ],
            [
             0.3,
             "#f1b6da"
            ],
            [
             0.4,
             "#fde0ef"
            ],
            [
             0.5,
             "#f7f7f7"
            ],
            [
             0.6,
             "#e6f5d0"
            ],
            [
             0.7,
             "#b8e186"
            ],
            [
             0.8,
             "#7fbc41"
            ],
            [
             0.9,
             "#4d9221"
            ],
            [
             1,
             "#276419"
            ]
           ],
           "sequential": [
            [
             0,
             "#0d0887"
            ],
            [
             0.1111111111111111,
             "#46039f"
            ],
            [
             0.2222222222222222,
             "#7201a8"
            ],
            [
             0.3333333333333333,
             "#9c179e"
            ],
            [
             0.4444444444444444,
             "#bd3786"
            ],
            [
             0.5555555555555556,
             "#d8576b"
            ],
            [
             0.6666666666666666,
             "#ed7953"
            ],
            [
             0.7777777777777778,
             "#fb9f3a"
            ],
            [
             0.8888888888888888,
             "#fdca26"
            ],
            [
             1,
             "#f0f921"
            ]
           ],
           "sequentialminus": [
            [
             0,
             "#0d0887"
            ],
            [
             0.1111111111111111,
             "#46039f"
            ],
            [
             0.2222222222222222,
             "#7201a8"
            ],
            [
             0.3333333333333333,
             "#9c179e"
            ],
            [
             0.4444444444444444,
             "#bd3786"
            ],
            [
             0.5555555555555556,
             "#d8576b"
            ],
            [
             0.6666666666666666,
             "#ed7953"
            ],
            [
             0.7777777777777778,
             "#fb9f3a"
            ],
            [
             0.8888888888888888,
             "#fdca26"
            ],
            [
             1,
             "#f0f921"
            ]
           ]
          },
          "colorway": [
           "#636efa",
           "#EF553B",
           "#00cc96",
           "#ab63fa",
           "#FFA15A",
           "#19d3f3",
           "#FF6692",
           "#B6E880",
           "#FF97FF",
           "#FECB52"
          ],
          "font": {
           "color": "#2a3f5f"
          },
          "geo": {
           "bgcolor": "white",
           "lakecolor": "white",
           "landcolor": "#E5ECF6",
           "showlakes": true,
           "showland": true,
           "subunitcolor": "white"
          },
          "hoverlabel": {
           "align": "left"
          },
          "hovermode": "closest",
          "mapbox": {
           "style": "light"
          },
          "paper_bgcolor": "white",
          "plot_bgcolor": "#E5ECF6",
          "polar": {
           "angularaxis": {
            "gridcolor": "white",
            "linecolor": "white",
            "ticks": ""
           },
           "bgcolor": "#E5ECF6",
           "radialaxis": {
            "gridcolor": "white",
            "linecolor": "white",
            "ticks": ""
           }
          },
          "scene": {
           "xaxis": {
            "backgroundcolor": "#E5ECF6",
            "gridcolor": "white",
            "gridwidth": 2,
            "linecolor": "white",
            "showbackground": true,
            "ticks": "",
            "zerolinecolor": "white"
           },
           "yaxis": {
            "backgroundcolor": "#E5ECF6",
            "gridcolor": "white",
            "gridwidth": 2,
            "linecolor": "white",
            "showbackground": true,
            "ticks": "",
            "zerolinecolor": "white"
           },
           "zaxis": {
            "backgroundcolor": "#E5ECF6",
            "gridcolor": "white",
            "gridwidth": 2,
            "linecolor": "white",
            "showbackground": true,
            "ticks": "",
            "zerolinecolor": "white"
           }
          },
          "shapedefaults": {
           "line": {
            "color": "#2a3f5f"
           }
          },
          "ternary": {
           "aaxis": {
            "gridcolor": "white",
            "linecolor": "white",
            "ticks": ""
           },
           "baxis": {
            "gridcolor": "white",
            "linecolor": "white",
            "ticks": ""
           },
           "bgcolor": "#E5ECF6",
           "caxis": {
            "gridcolor": "white",
            "linecolor": "white",
            "ticks": ""
           }
          },
          "title": {
           "x": 0.05
          },
          "xaxis": {
           "automargin": true,
           "gridcolor": "white",
           "linecolor": "white",
           "ticks": "",
           "title": {
            "standoff": 15
           },
           "zerolinecolor": "white",
           "zerolinewidth": 2
          },
          "yaxis": {
           "automargin": true,
           "gridcolor": "white",
           "linecolor": "white",
           "ticks": "",
           "title": {
            "standoff": 15
           },
           "zerolinecolor": "white",
           "zerolinewidth": 2
          }
         }
        },
        "title": {
         "text": "Qubit spectroscopy resonator response phase"
        },
        "xaxis": {
         "title": {
          "text": "Frequency [MHz]"
         }
        },
        "yaxis": {
         "title": {
          "text": "Phase"
         }
        }
       }
      }
     },
     "metadata": {},
     "output_type": "display_data"
    },
    {
     "data": {
      "application/json": {
       "print_time": "2025-08-24 16:14:42",
       "record_book_path": "log/coxious/2025-08/2025-08-24/16.14.41",
       "record_entry_path": "/root/2-QubitSpectroscopyFrequency.run",
       "record_id": "4645146f-5d1b-4fa8-baf9-722cfaf50c5a",
       "record_time": 1756077281
      },
      "text/plain": [
       "<IPython.core.display.JSON object>"
      ]
     },
     "metadata": {
      "application/json": {
       "expanded": false,
       "root": "QubitSpectroscopyFrequency"
      }
     },
     "output_type": "display_data"
    }
   ],
   "source": [
    "# 2. Single-tone frequency spectroscopy\n",
    "freq_spec = QubitSpectroscopyFrequency(\n",
    "    dut_qubit=qubit,\n",
    "    start=4980.0,\n",
    "    stop=5020.0,\n",
    "    step=0.5,\n",
    "    num_avs=1000,\n",
    "    amp=0.1,\n",
    "    mp_width=1.0,\n",
    "    disable_noise=True\n",
    ")"
   ]
  },
  {
   "cell_type": "code",
   "execution_count": null,
   "metadata": {},
   "outputs": [
    {
     "name": "stdout",
     "output_type": "stream",
     "text": [
      "Using parallel processing with 16 workers...\n"
     ]
    }
   ],
   "source": [
    "# 3. Amplitude-frequency 2D spectroscopy (parallelized by default for 4-8x speedup)\n",
    "exp_2d = QubitSpectroscopyAmplitudeFrequency(\n",
    "    dut_qubit=qubit,\n",
    "    start=4980.0,\n",
    "    stop=5020.0,\n",
    "    step=0.2,\n",
    "    qubit_amp_start=0.001,\n",
    "    qubit_amp_stop=0.01,\n",
    "    qubit_amp_step=0.0001,\n",
    "    num_avs=1000,\n",
    "    disable_noise=True\n",
    "    # Note: use_parallel=True by default for automatic CPU parallelization\n",
    ")"
   ]
  },
  {
   "cell_type": "code",
   "execution_count": 7,
   "metadata": {},
   "outputs": [
    {
     "name": "stdout",
     "output_type": "stream",
     "text": [
      "Two-tone parallel processing completed in 0.79s using 16 workers\n"
     ]
    },
    {
     "data": {
      "application/vnd.plotly.v1+json": {
       "config": {
        "plotlyServerURL": "https://plot.ly"
       },
       "data": [
        {
         "colorbar": {
          "title": {
           "text": "Magnitude"
          }
         },
         "colorscale": [
          [
           0,
           "#440154"
          ],
          [
           0.1111111111111111,
           "#482878"
          ],
          [
           0.2222222222222222,
           "#3e4989"
          ],
          [
           0.3333333333333333,
           "#31688e"
          ],
          [
           0.4444444444444444,
           "#26828e"
          ],
          [
           0.5555555555555556,
           "#1f9e89"
          ],
          [
           0.6666666666666666,
           "#35b779"
          ],
          [
           0.7777777777777778,
           "#6ece58"
          ],
          [
           0.8888888888888888,
           "#b5de2b"
          ],
          [
           1,
           "#fde725"
          ]
         ],
         "type": "heatmap",
         "x": {
          "bdata": "AAAAAAB0s0AAAAAAAHazQAAAAAAAeLNAAAAAAAB6s0AAAAAAAHyzQAAAAAAAfrNAAAAAAACAs0AAAAAAAIKzQAAAAAAAhLNAAAAAAACGs0AAAAAAAIizQAAAAAAAirNAAAAAAACMs0AAAAAAAI6zQAAAAAAAkLNAAAAAAACSs0AAAAAAAJSzQAAAAAAAlrNAAAAAAACYs0AAAAAAAJqzQAAAAAAAnLNA",
          "dtype": "f8"
         },
         "y": {
          "bdata": "AAAAAAB0s0AAAAAAAHazQAAAAAAAeLNAAAAAAAB6s0AAAAAAAHyzQAAAAAAAfrNAAAAAAACAs0AAAAAAAIKzQAAAAAAAhLNAAAAAAACGs0AAAAAAAIizQAAAAAAAirNAAAAAAACMs0AAAAAAAI6zQAAAAAAAkLNAAAAAAACSs0AAAAAAAJSzQAAAAAAAlrNAAAAAAACYs0AAAAAAAJqzQAAAAAAAnLNA",
          "dtype": "f8"
         },
         "z": {
          "bdata": "iL3iqTcywz8atR6K5TLDP0udROrQMsM/CCb41bIywz/coq5/hDLDP2v+kKs3MsM//+jOTKoxwz+9+dgneTDDP7IKSXYTLcM/fPBDnPEawz/UmQnKyG+4P7Bl1tXyGsM/o0E0nhMtwz83XbAzeTDDP4vVylGqMcM/mZcbrjcywz/fDiWBhDLDPzpP4tayMsM/UC7g6tAywz8t5YqK5TLDP2axWEv0MsM/9bkKS/Qywz9AZ7uy/DHDP0udROrQMsM/CCb41bIywz/coq5/hDLDP2v+kKs3MsM//+jOTKoxwz+9+dgneTDDP7IKSXYTLcM/fPBDnPEawz/UmQnKyG+4P7Bl1tXyGsM/o0E0nhMtwz83XbAzeTDDP4vVylGqMcM/mZcbrjcywz/fDiWBhDLDPzpP4tayMsM/UC7g6tAywz8t5YqK5TLDP2axWEv0MsM/9bkKS/Qywz8atR6K5TLDPz1EZUmqMcM/CCb41bIywz/coq5/hDLDP2v+kKs3MsM//+jOTKoxwz+9+dgneTDDP7IKSXYTLcM/fPBDnPEawz/UmQnKyG+4P7Bl1tXyGsM/o0E0nhMtwz83XbAzeTDDP4vVylGqMcM/mZcbrjcywz/fDiWBhDLDPzpP4tayMsM/UC7g6tAywz8t5YqK5TLDP2axWEv0MsM/9bkKS/Qywz8atR6K5TLDP0udROrQMsM/C8bsITIxwz/coq5/hDLDP2v+kKs3MsM//+jOTKoxwz+9+dgneTDDP7IKSXYTLcM/fPBDnPEawz/UmQnKyG+4P7Bl1tXyGsM/o0E0nhMtwz83XbAzeTDDP4vVylGqMcM/mZcbrjcywz/fDiWBhDLDPzpP4tayMsM/UC7g6tAywz8t5YqK5TLDP2axWEv0MsM/9bkKS/Qywz8atR6K5TLDP0udROrQMsM/CCb41bIywz8VVz4feTDDP2v+kKs3MsM//+jOTKoxwz+9+dgneTDDP7IKSXYTLcM/fPBDnPEawz/UmQnKyG+4P7Bl1tXyGsM/o0E0nhMtwz83XbAzeTDDP4vVylGqMcM/mZcbrjcywz/fDiWBhDLDPzpP4tayMsM/UC7g6tAywz8t5YqK5TLDP2axWEv0MsM/9bkKS/Qywz8atR6K5TLDP0udROrQMsM/CCb41bIywz/coq5/hDLDP2FYk5lGL8M//+jOTKoxwz+9+dgneTDDP7IKSXYTLcM/fPBDnPEawz/UmQnKyG+4P7Bl1tXyGsM/o0E0nhMtwz83XbAzeTDDP4vVylGqMcM/mZcbrjcywz/fDiWBhDLDPzpP4tayMsM/UC7g6tAywz8t5YqK5TLDP2axWEv0MsM/9bkKS/Qywz8atR6K5TLDP0udROrQMsM/CCb41bIywz/coq5/hDLDP2v+kKs3MsM/qm22VRMtwz+9+dgneTDDP7IKSXYTLcM/fPBDnPEawz/UmQnKyG+4P7Bl1tXyGsM/o0E0nhMtwz83XbAzeTDDP4vVylGqMcM/mZcbrjcywz/fDiWBhDLDPzpP4tayMsM/UC7g6tAywz8t5YqK5TLDP2axWEv0MsM/9bkKS/Qywz8atR6K5TLDP0udROrQMsM/CCb41bIywz/coq5/hDLDP2v+kKs3MsM//+jOTKoxwz9GcPziVijDP7IKSXYTLcM/fPBDnPEawz/UmQnKyG+4P7Bl1tXyGsM/o0E0nhMtwz83XbAzeTDDP4vVylGqMcM/mZcbrjcywz/fDiWBhDLDPzpP4tayMsM/UC7g6tAywz8t5YqK5TLDP2axWEv0MsM/9bkKS/Qywz8atR6K5TLDP0udROrQMsM/CCb41bIywz/coq5/hDLDP2v+kKs3MsM//+jOTKoxwz+9+dgneTDDP/wWnkPwGsM/fPBDnPEawz/UmQnKyG+4P7Bl1tXyGsM/o0E0nhMtwz83XbAzeTDDP4vVylGqMcM/mZcbrjcywz/fDiWBhDLDPzpP4tayMsM/UC7g6tAywz8t5YqK5TLDP2axWEv0MsM/9bkKS/Qywz8atR6K5TLDP0udROrQMsM/CCb41bIywz/coq5/hDLDP2v+kKs3MsM//+jOTKoxwz+9+dgneTDDP7IKSXYTLcM/8VITTcjVwj/UmQnKyG+4P7Bl1tXyGsM/o0E0nhMtwz83XbAzeTDDP4vVylGqMcM/mZcbrjcywz/fDiWBhDLDPzpP4tayMsM/UC7g6tAywz8t5YqK5TLDP2axWEv0MsM/9bkKS/Qywz8atR6K5TLDP0udROrQMsM/CCb41bIywz/coq5/hDLDP2v+kKs3MsM//+jOTKoxwz+9+dgneTDDP7IKSXYTLcM/fPBDnPEawz9BqTHj+FK4P7Bl1tXyGsM/o0E0nhMtwz83XbAzeTDDP4vVylGqMcM/mZcbrjcywz/fDiWBhDLDPzpP4tayMsM/UC7g6tAywz8t5YqK5TLDP2axWEv0MsM/9bkKS/Qywz8atR6K5TLDP0udROrQMsM/CCb41bIywz/coq5/hDLDP2v+kKs3MsM//+jOTKoxwz+9+dgneTDDP7IKSXYTLcM/fPBDnPEawz/UmQnKyG+4Pwo4LHXa1cI/o0E0nhMtwz83XbAzeTDDP4vVylGqMcM/mZcbrjcywz/fDiWBhDLDPzpP4tayMsM/UC7g6tAywz8t5YqK5TLDP2axWEv0MsM/9bkKS/Qywz8atR6K5TLDP0udROrQMsM/CCb41bIywz/coq5/hDLDP2v+kKs3MsM//+jOTKoxwz+9+dgneTDDP7IKSXYTLcM/fPBDnPEawz/UmQnKyG+4P7Bl1tXyGsM/ty/0tfIawz83XbAzeTDDP4vVylGqMcM/mZcbrjcywz/fDiWBhDLDPzpP4tayMsM/UC7g6tAywz8t5YqK5TLDP2axWEv0MsM/9bkKS/Qywz8atR6K5TLDP0udROrQMsM/CCb41bIywz/coq5/hDLDP2v+kKs3MsM//+jOTKoxwz+9+dgneTDDP7IKSXYTLcM/fPBDnPEawz/UmQnKyG+4P7Bl1tXyGsM/o0E0nhMtwz9Y9MyeVyjDP4vVylGqMcM/mZcbrjcywz/fDiWBhDLDPzpP4tayMsM/UC7g6tAywz8t5YqK5TLDP2axWEv0MsM/9bkKS/Qywz8atR6K5TLDP0udROrQMsM/CCb41bIywz/coq5/hDLDP2v+kKs3MsM//+jOTKoxwz+9+dgneTDDP7IKSXYTLcM/fPBDnPEawz/UmQnKyG+4P7Bl1tXyGsM/o0E0nhMtwz83XbAzeTDDP+LqEKUTLcM/mZcbrjcywz/fDiWBhDLDPzpP4tayMsM/UC7g6tAywz8t5YqK5TLDP2axWEv0MsM/9bkKS/Qywz8atR6K5TLDP0udROrQMsM/CCb41bIywz/coq5/hDLDP2v+kKs3MsM//+jOTKoxwz+9+dgneTDDP7IKSXYTLcM/fPBDnPEawz/UmQnKyG+4P7Bl1tXyGsM/o0E0nhMtwz83XbAzeTDDP4vVylGqMcM/yBYcwkYvwz/fDiWBhDLDPzpP4tayMsM/UC7g6tAywz8t5YqK5TLDP2axWEv0MsM/9bkKS/Qywz8atR6K5TLDP0udROrQMsM/CCb41bIywz/coq5/hDLDP2v+kKs3MsM//+jOTKoxwz+9+dgneTDDP7IKSXYTLcM/fPBDnPEawz/UmQnKyG+4P7Bl1tXyGsM/o0E0nhMtwz83XbAzeTDDP4vVylGqMcM/mZcbrjcywz9l75c2eTDDPzpP4tayMsM/UC7g6tAywz8t5YqK5TLDP2axWEv0MsM/9bkKS/Qywz8atR6K5TLDP0udROrQMsM/CCb41bIywz/coq5/hDLDP2v+kKs3MsM//+jOTKoxwz+9+dgneTDDP7IKSXYTLcM/fPBDnPEawz/UmQnKyG+4P7Bl1tXyGsM/o0E0nhMtwz83XbAzeTDDP4vVylGqMcM/mZcbrjcywz/fDiWBhDLDP4ZJiTAyMcM/UC7g6tAywz8t5YqK5TLDP2axWEv0MsM/9bkKS/Qywz8atR6K5TLDP0udROrQMsM/CCb41bIywz/coq5/hDLDP2v+kKs3MsM//+jOTKoxwz+9+dgneTDDP7IKSXYTLcM/fPBDnPEawz/UmQnKyG+4P7Bl1tXyGsM/o0E0nhMtwz83XbAzeTDDP4vVylGqMcM/mZcbrjcywz/fDiWBhDLDPzpP4tayMsM/5DwbU6oxwz8t5YqK5TLDP2axWEv0MsM/9bkKS/Qywz8atR6K5TLDP0udROrQMsM/CCb41bIywz/coq5/hDLDP2v+kKs3MsM//+jOTKoxwz+9+dgneTDDP7IKSXYTLcM/fPBDnPEawz/UmQnKyG+4P7Bl1tXyGsM/o0E0nhMtwz83XbAzeTDDP4vVylGqMcM/mZcbrjcywz/fDiWBhDLDPzpP4tayMsM/UC7g6tAywz/9s3y5/DHDP2axWEv0MsM/9bkKS/Qywz8atR6K5TLDP0udROrQMsM/CCb41bIywz/coq5/hDLDP2v+kKs3MsM//+jOTKoxwz+9+dgneTDDP7IKSXYTLcM/fPBDnPEawz/UmQnKyG+4P7Bl1tXyGsM/o0E0nhMtwz83XbAzeTDDP4vVylGqMcM/mZcbrjcywz/fDiWBhDLDPzpP4tayMsM/UC7g6tAywz8t5YqK5TLDP9w0wa43MsM/",
          "dtype": "f8",
          "shape": "21, 21"
         }
        }
       ],
       "layout": {
        "height": 600,
        "template": {
         "data": {
          "bar": [
           {
            "error_x": {
             "color": "#2a3f5f"
            },
            "error_y": {
             "color": "#2a3f5f"
            },
            "marker": {
             "line": {
              "color": "#E5ECF6",
              "width": 0.5
             },
             "pattern": {
              "fillmode": "overlay",
              "size": 10,
              "solidity": 0.2
             }
            },
            "type": "bar"
           }
          ],
          "barpolar": [
           {
            "marker": {
             "line": {
              "color": "#E5ECF6",
              "width": 0.5
             },
             "pattern": {
              "fillmode": "overlay",
              "size": 10,
              "solidity": 0.2
             }
            },
            "type": "barpolar"
           }
          ],
          "carpet": [
           {
            "aaxis": {
             "endlinecolor": "#2a3f5f",
             "gridcolor": "white",
             "linecolor": "white",
             "minorgridcolor": "white",
             "startlinecolor": "#2a3f5f"
            },
            "baxis": {
             "endlinecolor": "#2a3f5f",
             "gridcolor": "white",
             "linecolor": "white",
             "minorgridcolor": "white",
             "startlinecolor": "#2a3f5f"
            },
            "type": "carpet"
           }
          ],
          "choropleth": [
           {
            "colorbar": {
             "outlinewidth": 0,
             "ticks": ""
            },
            "type": "choropleth"
           }
          ],
          "contour": [
           {
            "colorbar": {
             "outlinewidth": 0,
             "ticks": ""
            },
            "colorscale": [
             [
              0,
              "#0d0887"
             ],
             [
              0.1111111111111111,
              "#46039f"
             ],
             [
              0.2222222222222222,
              "#7201a8"
             ],
             [
              0.3333333333333333,
              "#9c179e"
             ],
             [
              0.4444444444444444,
              "#bd3786"
             ],
             [
              0.5555555555555556,
              "#d8576b"
             ],
             [
              0.6666666666666666,
              "#ed7953"
             ],
             [
              0.7777777777777778,
              "#fb9f3a"
             ],
             [
              0.8888888888888888,
              "#fdca26"
             ],
             [
              1,
              "#f0f921"
             ]
            ],
            "type": "contour"
           }
          ],
          "contourcarpet": [
           {
            "colorbar": {
             "outlinewidth": 0,
             "ticks": ""
            },
            "type": "contourcarpet"
           }
          ],
          "heatmap": [
           {
            "colorbar": {
             "outlinewidth": 0,
             "ticks": ""
            },
            "colorscale": [
             [
              0,
              "#0d0887"
             ],
             [
              0.1111111111111111,
              "#46039f"
             ],
             [
              0.2222222222222222,
              "#7201a8"
             ],
             [
              0.3333333333333333,
              "#9c179e"
             ],
             [
              0.4444444444444444,
              "#bd3786"
             ],
             [
              0.5555555555555556,
              "#d8576b"
             ],
             [
              0.6666666666666666,
              "#ed7953"
             ],
             [
              0.7777777777777778,
              "#fb9f3a"
             ],
             [
              0.8888888888888888,
              "#fdca26"
             ],
             [
              1,
              "#f0f921"
             ]
            ],
            "type": "heatmap"
           }
          ],
          "histogram": [
           {
            "marker": {
             "pattern": {
              "fillmode": "overlay",
              "size": 10,
              "solidity": 0.2
             }
            },
            "type": "histogram"
           }
          ],
          "histogram2d": [
           {
            "colorbar": {
             "outlinewidth": 0,
             "ticks": ""
            },
            "colorscale": [
             [
              0,
              "#0d0887"
             ],
             [
              0.1111111111111111,
              "#46039f"
             ],
             [
              0.2222222222222222,
              "#7201a8"
             ],
             [
              0.3333333333333333,
              "#9c179e"
             ],
             [
              0.4444444444444444,
              "#bd3786"
             ],
             [
              0.5555555555555556,
              "#d8576b"
             ],
             [
              0.6666666666666666,
              "#ed7953"
             ],
             [
              0.7777777777777778,
              "#fb9f3a"
             ],
             [
              0.8888888888888888,
              "#fdca26"
             ],
             [
              1,
              "#f0f921"
             ]
            ],
            "type": "histogram2d"
           }
          ],
          "histogram2dcontour": [
           {
            "colorbar": {
             "outlinewidth": 0,
             "ticks": ""
            },
            "colorscale": [
             [
              0,
              "#0d0887"
             ],
             [
              0.1111111111111111,
              "#46039f"
             ],
             [
              0.2222222222222222,
              "#7201a8"
             ],
             [
              0.3333333333333333,
              "#9c179e"
             ],
             [
              0.4444444444444444,
              "#bd3786"
             ],
             [
              0.5555555555555556,
              "#d8576b"
             ],
             [
              0.6666666666666666,
              "#ed7953"
             ],
             [
              0.7777777777777778,
              "#fb9f3a"
             ],
             [
              0.8888888888888888,
              "#fdca26"
             ],
             [
              1,
              "#f0f921"
             ]
            ],
            "type": "histogram2dcontour"
           }
          ],
          "mesh3d": [
           {
            "colorbar": {
             "outlinewidth": 0,
             "ticks": ""
            },
            "type": "mesh3d"
           }
          ],
          "parcoords": [
           {
            "line": {
             "colorbar": {
              "outlinewidth": 0,
              "ticks": ""
             }
            },
            "type": "parcoords"
           }
          ],
          "pie": [
           {
            "automargin": true,
            "type": "pie"
           }
          ],
          "scatter": [
           {
            "fillpattern": {
             "fillmode": "overlay",
             "size": 10,
             "solidity": 0.2
            },
            "type": "scatter"
           }
          ],
          "scatter3d": [
           {
            "line": {
             "colorbar": {
              "outlinewidth": 0,
              "ticks": ""
             }
            },
            "marker": {
             "colorbar": {
              "outlinewidth": 0,
              "ticks": ""
             }
            },
            "type": "scatter3d"
           }
          ],
          "scattercarpet": [
           {
            "marker": {
             "colorbar": {
              "outlinewidth": 0,
              "ticks": ""
             }
            },
            "type": "scattercarpet"
           }
          ],
          "scattergeo": [
           {
            "marker": {
             "colorbar": {
              "outlinewidth": 0,
              "ticks": ""
             }
            },
            "type": "scattergeo"
           }
          ],
          "scattergl": [
           {
            "marker": {
             "colorbar": {
              "outlinewidth": 0,
              "ticks": ""
             }
            },
            "type": "scattergl"
           }
          ],
          "scattermap": [
           {
            "marker": {
             "colorbar": {
              "outlinewidth": 0,
              "ticks": ""
             }
            },
            "type": "scattermap"
           }
          ],
          "scattermapbox": [
           {
            "marker": {
             "colorbar": {
              "outlinewidth": 0,
              "ticks": ""
             }
            },
            "type": "scattermapbox"
           }
          ],
          "scatterpolar": [
           {
            "marker": {
             "colorbar": {
              "outlinewidth": 0,
              "ticks": ""
             }
            },
            "type": "scatterpolar"
           }
          ],
          "scatterpolargl": [
           {
            "marker": {
             "colorbar": {
              "outlinewidth": 0,
              "ticks": ""
             }
            },
            "type": "scatterpolargl"
           }
          ],
          "scatterternary": [
           {
            "marker": {
             "colorbar": {
              "outlinewidth": 0,
              "ticks": ""
             }
            },
            "type": "scatterternary"
           }
          ],
          "surface": [
           {
            "colorbar": {
             "outlinewidth": 0,
             "ticks": ""
            },
            "colorscale": [
             [
              0,
              "#0d0887"
             ],
             [
              0.1111111111111111,
              "#46039f"
             ],
             [
              0.2222222222222222,
              "#7201a8"
             ],
             [
              0.3333333333333333,
              "#9c179e"
             ],
             [
              0.4444444444444444,
              "#bd3786"
             ],
             [
              0.5555555555555556,
              "#d8576b"
             ],
             [
              0.6666666666666666,
              "#ed7953"
             ],
             [
              0.7777777777777778,
              "#fb9f3a"
             ],
             [
              0.8888888888888888,
              "#fdca26"
             ],
             [
              1,
              "#f0f921"
             ]
            ],
            "type": "surface"
           }
          ],
          "table": [
           {
            "cells": {
             "fill": {
              "color": "#EBF0F8"
             },
             "line": {
              "color": "white"
             }
            },
            "header": {
             "fill": {
              "color": "#C8D4E3"
             },
             "line": {
              "color": "white"
             }
            },
            "type": "table"
           }
          ]
         },
         "layout": {
          "annotationdefaults": {
           "arrowcolor": "#2a3f5f",
           "arrowhead": 0,
           "arrowwidth": 1
          },
          "autotypenumbers": "strict",
          "coloraxis": {
           "colorbar": {
            "outlinewidth": 0,
            "ticks": ""
           }
          },
          "colorscale": {
           "diverging": [
            [
             0,
             "#8e0152"
            ],
            [
             0.1,
             "#c51b7d"
            ],
            [
             0.2,
             "#de77ae"
            ],
            [
             0.3,
             "#f1b6da"
            ],
            [
             0.4,
             "#fde0ef"
            ],
            [
             0.5,
             "#f7f7f7"
            ],
            [
             0.6,
             "#e6f5d0"
            ],
            [
             0.7,
             "#b8e186"
            ],
            [
             0.8,
             "#7fbc41"
            ],
            [
             0.9,
             "#4d9221"
            ],
            [
             1,
             "#276419"
            ]
           ],
           "sequential": [
            [
             0,
             "#0d0887"
            ],
            [
             0.1111111111111111,
             "#46039f"
            ],
            [
             0.2222222222222222,
             "#7201a8"
            ],
            [
             0.3333333333333333,
             "#9c179e"
            ],
            [
             0.4444444444444444,
             "#bd3786"
            ],
            [
             0.5555555555555556,
             "#d8576b"
            ],
            [
             0.6666666666666666,
             "#ed7953"
            ],
            [
             0.7777777777777778,
             "#fb9f3a"
            ],
            [
             0.8888888888888888,
             "#fdca26"
            ],
            [
             1,
             "#f0f921"
            ]
           ],
           "sequentialminus": [
            [
             0,
             "#0d0887"
            ],
            [
             0.1111111111111111,
             "#46039f"
            ],
            [
             0.2222222222222222,
             "#7201a8"
            ],
            [
             0.3333333333333333,
             "#9c179e"
            ],
            [
             0.4444444444444444,
             "#bd3786"
            ],
            [
             0.5555555555555556,
             "#d8576b"
            ],
            [
             0.6666666666666666,
             "#ed7953"
            ],
            [
             0.7777777777777778,
             "#fb9f3a"
            ],
            [
             0.8888888888888888,
             "#fdca26"
            ],
            [
             1,
             "#f0f921"
            ]
           ]
          },
          "colorway": [
           "#636efa",
           "#EF553B",
           "#00cc96",
           "#ab63fa",
           "#FFA15A",
           "#19d3f3",
           "#FF6692",
           "#B6E880",
           "#FF97FF",
           "#FECB52"
          ],
          "font": {
           "color": "#2a3f5f"
          },
          "geo": {
           "bgcolor": "white",
           "lakecolor": "white",
           "landcolor": "#E5ECF6",
           "showlakes": true,
           "showland": true,
           "subunitcolor": "white"
          },
          "hoverlabel": {
           "align": "left"
          },
          "hovermode": "closest",
          "mapbox": {
           "style": "light"
          },
          "paper_bgcolor": "white",
          "plot_bgcolor": "#E5ECF6",
          "polar": {
           "angularaxis": {
            "gridcolor": "white",
            "linecolor": "white",
            "ticks": ""
           },
           "bgcolor": "#E5ECF6",
           "radialaxis": {
            "gridcolor": "white",
            "linecolor": "white",
            "ticks": ""
           }
          },
          "scene": {
           "xaxis": {
            "backgroundcolor": "#E5ECF6",
            "gridcolor": "white",
            "gridwidth": 2,
            "linecolor": "white",
            "showbackground": true,
            "ticks": "",
            "zerolinecolor": "white"
           },
           "yaxis": {
            "backgroundcolor": "#E5ECF6",
            "gridcolor": "white",
            "gridwidth": 2,
            "linecolor": "white",
            "showbackground": true,
            "ticks": "",
            "zerolinecolor": "white"
           },
           "zaxis": {
            "backgroundcolor": "#E5ECF6",
            "gridcolor": "white",
            "gridwidth": 2,
            "linecolor": "white",
            "showbackground": true,
            "ticks": "",
            "zerolinecolor": "white"
           }
          },
          "shapedefaults": {
           "line": {
            "color": "#2a3f5f"
           }
          },
          "ternary": {
           "aaxis": {
            "gridcolor": "white",
            "linecolor": "white",
            "ticks": ""
           },
           "baxis": {
            "gridcolor": "white",
            "linecolor": "white",
            "ticks": ""
           },
           "bgcolor": "#E5ECF6",
           "caxis": {
            "gridcolor": "white",
            "linecolor": "white",
            "ticks": ""
           }
          },
          "title": {
           "x": 0.05
          },
          "xaxis": {
           "automargin": true,
           "gridcolor": "white",
           "linecolor": "white",
           "ticks": "",
           "title": {
            "standoff": 15
           },
           "zerolinecolor": "white",
           "zerolinewidth": 2
          },
          "yaxis": {
           "automargin": true,
           "gridcolor": "white",
           "linecolor": "white",
           "ticks": "",
           "title": {
            "standoff": 15
           },
           "zerolinecolor": "white",
           "zerolinewidth": 2
          }
         }
        },
        "title": {
         "text": "Two-Tone Qubit Spectroscopy"
        },
        "width": 800,
        "xaxis": {
         "title": {
          "text": "Tone 2 Frequency (MHz)"
         }
        },
        "yaxis": {
         "title": {
          "text": "Tone 1 Frequency (MHz)"
         }
        }
       }
      }
     },
     "metadata": {},
     "output_type": "display_data"
    },
    {
     "data": {
      "application/vnd.plotly.v1+json": {
       "config": {
        "plotlyServerURL": "https://plot.ly"
       },
       "data": [
        {
         "colorbar": {
          "title": {
           "text": "Phase (rad)"
          }
         },
         "colorscale": [
          [
           0,
           "rgb(103,0,31)"
          ],
          [
           0.1,
           "rgb(178,24,43)"
          ],
          [
           0.2,
           "rgb(214,96,77)"
          ],
          [
           0.3,
           "rgb(244,165,130)"
          ],
          [
           0.4,
           "rgb(253,219,199)"
          ],
          [
           0.5,
           "rgb(247,247,247)"
          ],
          [
           0.6,
           "rgb(209,229,240)"
          ],
          [
           0.7,
           "rgb(146,197,222)"
          ],
          [
           0.8,
           "rgb(67,147,195)"
          ],
          [
           0.9,
           "rgb(33,102,172)"
          ],
          [
           1,
           "rgb(5,48,97)"
          ]
         ],
         "type": "heatmap",
         "x": {
          "bdata": "AAAAAAB0s0AAAAAAAHazQAAAAAAAeLNAAAAAAAB6s0AAAAAAAHyzQAAAAAAAfrNAAAAAAACAs0AAAAAAAIKzQAAAAAAAhLNAAAAAAACGs0AAAAAAAIizQAAAAAAAirNAAAAAAACMs0AAAAAAAI6zQAAAAAAAkLNAAAAAAACSs0AAAAAAAJSzQAAAAAAAlrNAAAAAAACYs0AAAAAAAJqzQAAAAAAAnLNA",
          "dtype": "f8"
         },
         "y": {
          "bdata": "AAAAAAB0s0AAAAAAAHazQAAAAAAAeLNAAAAAAAB6s0AAAAAAAHyzQAAAAAAAfrNAAAAAAACAs0AAAAAAAIKzQAAAAAAAhLNAAAAAAACGs0AAAAAAAIizQAAAAAAAirNAAAAAAACMs0AAAAAAAI6zQAAAAAAAkLNAAAAAAACSs0AAAAAAAJSzQAAAAAAAlrNAAAAAAACYs0AAAAAAAJqzQAAAAAAAnLNA",
          "dtype": "f8"
         },
         "z": {
          "bdata": "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",
          "dtype": "f8",
          "shape": "21, 21"
         }
        }
       ],
       "layout": {
        "height": 600,
        "template": {
         "data": {
          "bar": [
           {
            "error_x": {
             "color": "#2a3f5f"
            },
            "error_y": {
             "color": "#2a3f5f"
            },
            "marker": {
             "line": {
              "color": "#E5ECF6",
              "width": 0.5
             },
             "pattern": {
              "fillmode": "overlay",
              "size": 10,
              "solidity": 0.2
             }
            },
            "type": "bar"
           }
          ],
          "barpolar": [
           {
            "marker": {
             "line": {
              "color": "#E5ECF6",
              "width": 0.5
             },
             "pattern": {
              "fillmode": "overlay",
              "size": 10,
              "solidity": 0.2
             }
            },
            "type": "barpolar"
           }
          ],
          "carpet": [
           {
            "aaxis": {
             "endlinecolor": "#2a3f5f",
             "gridcolor": "white",
             "linecolor": "white",
             "minorgridcolor": "white",
             "startlinecolor": "#2a3f5f"
            },
            "baxis": {
             "endlinecolor": "#2a3f5f",
             "gridcolor": "white",
             "linecolor": "white",
             "minorgridcolor": "white",
             "startlinecolor": "#2a3f5f"
            },
            "type": "carpet"
           }
          ],
          "choropleth": [
           {
            "colorbar": {
             "outlinewidth": 0,
             "ticks": ""
            },
            "type": "choropleth"
           }
          ],
          "contour": [
           {
            "colorbar": {
             "outlinewidth": 0,
             "ticks": ""
            },
            "colorscale": [
             [
              0,
              "#0d0887"
             ],
             [
              0.1111111111111111,
              "#46039f"
             ],
             [
              0.2222222222222222,
              "#7201a8"
             ],
             [
              0.3333333333333333,
              "#9c179e"
             ],
             [
              0.4444444444444444,
              "#bd3786"
             ],
             [
              0.5555555555555556,
              "#d8576b"
             ],
             [
              0.6666666666666666,
              "#ed7953"
             ],
             [
              0.7777777777777778,
              "#fb9f3a"
             ],
             [
              0.8888888888888888,
              "#fdca26"
             ],
             [
              1,
              "#f0f921"
             ]
            ],
            "type": "contour"
           }
          ],
          "contourcarpet": [
           {
            "colorbar": {
             "outlinewidth": 0,
             "ticks": ""
            },
            "type": "contourcarpet"
           }
          ],
          "heatmap": [
           {
            "colorbar": {
             "outlinewidth": 0,
             "ticks": ""
            },
            "colorscale": [
             [
              0,
              "#0d0887"
             ],
             [
              0.1111111111111111,
              "#46039f"
             ],
             [
              0.2222222222222222,
              "#7201a8"
             ],
             [
              0.3333333333333333,
              "#9c179e"
             ],
             [
              0.4444444444444444,
              "#bd3786"
             ],
             [
              0.5555555555555556,
              "#d8576b"
             ],
             [
              0.6666666666666666,
              "#ed7953"
             ],
             [
              0.7777777777777778,
              "#fb9f3a"
             ],
             [
              0.8888888888888888,
              "#fdca26"
             ],
             [
              1,
              "#f0f921"
             ]
            ],
            "type": "heatmap"
           }
          ],
          "histogram": [
           {
            "marker": {
             "pattern": {
              "fillmode": "overlay",
              "size": 10,
              "solidity": 0.2
             }
            },
            "type": "histogram"
           }
          ],
          "histogram2d": [
           {
            "colorbar": {
             "outlinewidth": 0,
             "ticks": ""
            },
            "colorscale": [
             [
              0,
              "#0d0887"
             ],
             [
              0.1111111111111111,
              "#46039f"
             ],
             [
              0.2222222222222222,
              "#7201a8"
             ],
             [
              0.3333333333333333,
              "#9c179e"
             ],
             [
              0.4444444444444444,
              "#bd3786"
             ],
             [
              0.5555555555555556,
              "#d8576b"
             ],
             [
              0.6666666666666666,
              "#ed7953"
             ],
             [
              0.7777777777777778,
              "#fb9f3a"
             ],
             [
              0.8888888888888888,
              "#fdca26"
             ],
             [
              1,
              "#f0f921"
             ]
            ],
            "type": "histogram2d"
           }
          ],
          "histogram2dcontour": [
           {
            "colorbar": {
             "outlinewidth": 0,
             "ticks": ""
            },
            "colorscale": [
             [
              0,
              "#0d0887"
             ],
             [
              0.1111111111111111,
              "#46039f"
             ],
             [
              0.2222222222222222,
              "#7201a8"
             ],
             [
              0.3333333333333333,
              "#9c179e"
             ],
             [
              0.4444444444444444,
              "#bd3786"
             ],
             [
              0.5555555555555556,
              "#d8576b"
             ],
             [
              0.6666666666666666,
              "#ed7953"
             ],
             [
              0.7777777777777778,
              "#fb9f3a"
             ],
             [
              0.8888888888888888,
              "#fdca26"
             ],
             [
              1,
              "#f0f921"
             ]
            ],
            "type": "histogram2dcontour"
           }
          ],
          "mesh3d": [
           {
            "colorbar": {
             "outlinewidth": 0,
             "ticks": ""
            },
            "type": "mesh3d"
           }
          ],
          "parcoords": [
           {
            "line": {
             "colorbar": {
              "outlinewidth": 0,
              "ticks": ""
             }
            },
            "type": "parcoords"
           }
          ],
          "pie": [
           {
            "automargin": true,
            "type": "pie"
           }
          ],
          "scatter": [
           {
            "fillpattern": {
             "fillmode": "overlay",
             "size": 10,
             "solidity": 0.2
            },
            "type": "scatter"
           }
          ],
          "scatter3d": [
           {
            "line": {
             "colorbar": {
              "outlinewidth": 0,
              "ticks": ""
             }
            },
            "marker": {
             "colorbar": {
              "outlinewidth": 0,
              "ticks": ""
             }
            },
            "type": "scatter3d"
           }
          ],
          "scattercarpet": [
           {
            "marker": {
             "colorbar": {
              "outlinewidth": 0,
              "ticks": ""
             }
            },
            "type": "scattercarpet"
           }
          ],
          "scattergeo": [
           {
            "marker": {
             "colorbar": {
              "outlinewidth": 0,
              "ticks": ""
             }
            },
            "type": "scattergeo"
           }
          ],
          "scattergl": [
           {
            "marker": {
             "colorbar": {
              "outlinewidth": 0,
              "ticks": ""
             }
            },
            "type": "scattergl"
           }
          ],
          "scattermap": [
           {
            "marker": {
             "colorbar": {
              "outlinewidth": 0,
              "ticks": ""
             }
            },
            "type": "scattermap"
           }
          ],
          "scattermapbox": [
           {
            "marker": {
             "colorbar": {
              "outlinewidth": 0,
              "ticks": ""
             }
            },
            "type": "scattermapbox"
           }
          ],
          "scatterpolar": [
           {
            "marker": {
             "colorbar": {
              "outlinewidth": 0,
              "ticks": ""
             }
            },
            "type": "scatterpolar"
           }
          ],
          "scatterpolargl": [
           {
            "marker": {
             "colorbar": {
              "outlinewidth": 0,
              "ticks": ""
             }
            },
            "type": "scatterpolargl"
           }
          ],
          "scatterternary": [
           {
            "marker": {
             "colorbar": {
              "outlinewidth": 0,
              "ticks": ""
             }
            },
            "type": "scatterternary"
           }
          ],
          "surface": [
           {
            "colorbar": {
             "outlinewidth": 0,
             "ticks": ""
            },
            "colorscale": [
             [
              0,
              "#0d0887"
             ],
             [
              0.1111111111111111,
              "#46039f"
             ],
             [
              0.2222222222222222,
              "#7201a8"
             ],
             [
              0.3333333333333333,
              "#9c179e"
             ],
             [
              0.4444444444444444,
              "#bd3786"
             ],
             [
              0.5555555555555556,
              "#d8576b"
             ],
             [
              0.6666666666666666,
              "#ed7953"
             ],
             [
              0.7777777777777778,
              "#fb9f3a"
             ],
             [
              0.8888888888888888,
              "#fdca26"
             ],
             [
              1,
              "#f0f921"
             ]
            ],
            "type": "surface"
           }
          ],
          "table": [
           {
            "cells": {
             "fill": {
              "color": "#EBF0F8"
             },
             "line": {
              "color": "white"
             }
            },
            "header": {
             "fill": {
              "color": "#C8D4E3"
             },
             "line": {
              "color": "white"
             }
            },
            "type": "table"
           }
          ]
         },
         "layout": {
          "annotationdefaults": {
           "arrowcolor": "#2a3f5f",
           "arrowhead": 0,
           "arrowwidth": 1
          },
          "autotypenumbers": "strict",
          "coloraxis": {
           "colorbar": {
            "outlinewidth": 0,
            "ticks": ""
           }
          },
          "colorscale": {
           "diverging": [
            [
             0,
             "#8e0152"
            ],
            [
             0.1,
             "#c51b7d"
            ],
            [
             0.2,
             "#de77ae"
            ],
            [
             0.3,
             "#f1b6da"
            ],
            [
             0.4,
             "#fde0ef"
            ],
            [
             0.5,
             "#f7f7f7"
            ],
            [
             0.6,
             "#e6f5d0"
            ],
            [
             0.7,
             "#b8e186"
            ],
            [
             0.8,
             "#7fbc41"
            ],
            [
             0.9,
             "#4d9221"
            ],
            [
             1,
             "#276419"
            ]
           ],
           "sequential": [
            [
             0,
             "#0d0887"
            ],
            [
             0.1111111111111111,
             "#46039f"
            ],
            [
             0.2222222222222222,
             "#7201a8"
            ],
            [
             0.3333333333333333,
             "#9c179e"
            ],
            [
             0.4444444444444444,
             "#bd3786"
            ],
            [
             0.5555555555555556,
             "#d8576b"
            ],
            [
             0.6666666666666666,
             "#ed7953"
            ],
            [
             0.7777777777777778,
             "#fb9f3a"
            ],
            [
             0.8888888888888888,
             "#fdca26"
            ],
            [
             1,
             "#f0f921"
            ]
           ],
           "sequentialminus": [
            [
             0,
             "#0d0887"
            ],
            [
             0.1111111111111111,
             "#46039f"
            ],
            [
             0.2222222222222222,
             "#7201a8"
            ],
            [
             0.3333333333333333,
             "#9c179e"
            ],
            [
             0.4444444444444444,
             "#bd3786"
            ],
            [
             0.5555555555555556,
             "#d8576b"
            ],
            [
             0.6666666666666666,
             "#ed7953"
            ],
            [
             0.7777777777777778,
             "#fb9f3a"
            ],
            [
             0.8888888888888888,
             "#fdca26"
            ],
            [
             1,
             "#f0f921"
            ]
           ]
          },
          "colorway": [
           "#636efa",
           "#EF553B",
           "#00cc96",
           "#ab63fa",
           "#FFA15A",
           "#19d3f3",
           "#FF6692",
           "#B6E880",
           "#FF97FF",
           "#FECB52"
          ],
          "font": {
           "color": "#2a3f5f"
          },
          "geo": {
           "bgcolor": "white",
           "lakecolor": "white",
           "landcolor": "#E5ECF6",
           "showlakes": true,
           "showland": true,
           "subunitcolor": "white"
          },
          "hoverlabel": {
           "align": "left"
          },
          "hovermode": "closest",
          "mapbox": {
           "style": "light"
          },
          "paper_bgcolor": "white",
          "plot_bgcolor": "#E5ECF6",
          "polar": {
           "angularaxis": {
            "gridcolor": "white",
            "linecolor": "white",
            "ticks": ""
           },
           "bgcolor": "#E5ECF6",
           "radialaxis": {
            "gridcolor": "white",
            "linecolor": "white",
            "ticks": ""
           }
          },
          "scene": {
           "xaxis": {
            "backgroundcolor": "#E5ECF6",
            "gridcolor": "white",
            "gridwidth": 2,
            "linecolor": "white",
            "showbackground": true,
            "ticks": "",
            "zerolinecolor": "white"
           },
           "yaxis": {
            "backgroundcolor": "#E5ECF6",
            "gridcolor": "white",
            "gridwidth": 2,
            "linecolor": "white",
            "showbackground": true,
            "ticks": "",
            "zerolinecolor": "white"
           },
           "zaxis": {
            "backgroundcolor": "#E5ECF6",
            "gridcolor": "white",
            "gridwidth": 2,
            "linecolor": "white",
            "showbackground": true,
            "ticks": "",
            "zerolinecolor": "white"
           }
          },
          "shapedefaults": {
           "line": {
            "color": "#2a3f5f"
           }
          },
          "ternary": {
           "aaxis": {
            "gridcolor": "white",
            "linecolor": "white",
            "ticks": ""
           },
           "baxis": {
            "gridcolor": "white",
            "linecolor": "white",
            "ticks": ""
           },
           "bgcolor": "#E5ECF6",
           "caxis": {
            "gridcolor": "white",
            "linecolor": "white",
            "ticks": ""
           }
          },
          "title": {
           "x": 0.05
          },
          "xaxis": {
           "automargin": true,
           "gridcolor": "white",
           "linecolor": "white",
           "ticks": "",
           "title": {
            "standoff": 15
           },
           "zerolinecolor": "white",
           "zerolinewidth": 2
          },
          "yaxis": {
           "automargin": true,
           "gridcolor": "white",
           "linecolor": "white",
           "ticks": "",
           "title": {
            "standoff": 15
           },
           "zerolinecolor": "white",
           "zerolinewidth": 2
          }
         }
        },
        "title": {
         "text": "Two-Tone Spectroscopy - Phase"
        },
        "width": 800,
        "xaxis": {
         "title": {
          "text": "Tone 2 Frequency (MHz)"
         }
        },
        "yaxis": {
         "title": {
          "text": "Tone 1 Frequency (MHz)"
         }
        }
       }
      }
     },
     "metadata": {},
     "output_type": "display_data"
    },
    {
     "data": {
      "application/json": {
       "print_time": "2025-08-24 16:14:44",
       "record_book_path": "log/coxious/2025-08/2025-08-24/16.14.41",
       "record_entry_path": "/root/4-TwoToneQubitSpectroscopy.run",
       "record_id": "32fc850d-7cd4-4d55-9e10-fde89b3b8945",
       "record_time": 1756077283
      },
      "text/plain": [
       "<IPython.core.display.JSON object>"
      ]
     },
     "metadata": {
      "application/json": {
       "expanded": false,
       "root": "TwoToneQubitSpectroscopy"
      }
     },
     "output_type": "display_data"
    }
   ],
   "source": [
    "# 4. Two-tone spectroscopy (parallelized by default for 4-8x speedup)\n",
    "two_tone_spec = TwoToneQubitSpectroscopy(\n",
    "    dut_qubit=qubit,\n",
    "    tone1_start=4980.0,\n",
    "    tone1_stop=5020.0,\n",
    "    tone1_step=2.0,\n",
    "    tone1_amp=0.1,\n",
    "    tone2_start=4980.0,\n",
    "    tone2_stop=5020.0,\n",
    "    tone2_step=2.0,\n",
    "    tone2_amp=0.1,\n",
    "    same_channel=True,\n",
    "    num_avs=1000,\n",
    "    mp_width=1.0,\n",
    "    disable_noise=True\n",
    "    # Note: use_parallel=True by default for automatic CPU parallelization\n",
    ")"
   ]
  }
 ],
 "metadata": {
  "kernelspec": {
   "display_name": "Python 3 (ipykernel)",
   "language": "python",
   "name": "python3"
  },
  "language_info": {
   "codemirror_mode": {
    "name": "ipython",
    "version": 3
   },
   "file_extension": ".py",
   "mimetype": "text/x-python",
   "name": "python",
   "nbconvert_exporter": "python",
   "pygments_lexer": "ipython3",
   "version": "3.10.18"
  }
 },
 "nbformat": 4,
 "nbformat_minor": 4
}
