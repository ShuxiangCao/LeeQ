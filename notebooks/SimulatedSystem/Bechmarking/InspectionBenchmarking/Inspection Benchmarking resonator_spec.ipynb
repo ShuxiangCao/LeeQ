{
 "cells": [
  {
   "cell_type": "markdown",
   "id": "6d304004-a4e6-45ee-8cbf-ee2aa5f10935",
   "metadata": {},
   "source": [
    "# Inspection Benchmarking\n",
    "\n",
    "In this study we wish to check the AI's ability to check the validity of the data and determine if the experiment has succeeded or not.\n",
    "\n",
    "We generate 100 figures with synthetic data for each experiment. 100 success and different types of failure.\n",
    "\n",
    "We report the correctness with 1: only fitting 2: only vision model 3: vision model + fitting"
   ]
  },
  {
   "cell_type": "code",
   "execution_count": 1,
   "id": "f1c6810e-6093-443e-930c-5d5e6865d315",
   "metadata": {},
   "outputs": [],
   "source": [
    "import leeq\n",
    "import json\n",
    "from simulated_setup import * # Change to your customized setup file\n",
    "import numpy as np\n",
    "from scipy import optimize as so\n",
    "from leeq.experiments.builtin import *\n",
    "import plotly.graph_objects as go\n",
    "from labchronicle import log_and_record, register_browser_function\n",
    "\n",
    "from leeq.utils.compatibility import *\n",
    "from leeq.core.elements.built_in.qudit_transmon import TransmonElement\n",
    "from leeq.experiments.builtin import *\n",
    "from pprint import pprint"
   ]
  },
  {
   "cell_type": "code",
   "execution_count": 2,
   "id": "d284ea37-b893-4868-ac2d-591ec157dc9c",
   "metadata": {},
   "outputs": [],
   "source": [
    "\n",
    "dut_dict = {\n",
    "    'Q1': {'Active': True, 'Tuneup': False,'FromLog':False, 'Params': configuration_a},\n",
    "    'Q2': {'Active': True, 'Tuneup': False,'FromLog':False, 'Params': configuration_b}\n",
    "} \n"
   ]
  },
  {
   "cell_type": "code",
   "execution_count": 3,
   "id": "e43ac3aa-e3b4-406d-a981-c48fa9880b83",
   "metadata": {},
   "outputs": [
    {
     "data": {
      "application/json": {
       "lpb_collections": {
        "f01": {
         "alpha": 500,
         "amp": 0.1,
         "channel": 2,
         "freq": 5040.4,
         "phase": 0,
         "shape": "blackman_drag",
         "transition_name": "f01",
         "trunc": 1.2,
         "type": "SimpleDriveCollection",
         "width": 0.05
        },
        "f12": {
         "alpha": 425.1365229849309,
         "amp": 0.07071067811865475,
         "channel": 2,
         "freq": 4842.4,
         "phase": 0,
         "shape": "blackman_drag",
         "transition_name": "f12",
         "trunc": 1.2,
         "type": "SimpleDriveCollection",
         "width": 0.025
        }
       },
       "measurement_primitives": {
        "0": {
         "amp": 0.15,
         "channel": 1,
         "distinguishable_states": [
          0,
          1
         ],
         "freq": 9645.5,
         "phase": 0,
         "shape": "square",
         "trunc": 1.2,
         "type": "SimpleDispersiveMeasurement",
         "width": 1
        }
       }
      },
      "text/plain": [
       "<IPython.core.display.JSON object>"
      ]
     },
     "metadata": {
      "application/json": {
       "expanded": false,
       "root": "Element QA parameters"
      }
     },
     "output_type": "display_data"
    },
    {
     "data": {
      "application/json": {
       "lpb_collections": {
        "f01": {
         "alpha": 500,
         "amp": 0.1,
         "channel": 4,
         "freq": 4855.3,
         "phase": 0,
         "shape": "blackman_drag",
         "transition_name": "f01",
         "trunc": 1.2,
         "type": "SimpleDriveCollection",
         "width": 0.05
        },
        "f12": {
         "alpha": 425.1365229849309,
         "amp": 0.07071067811865475,
         "channel": 4,
         "freq": 4843.4,
         "phase": 0,
         "shape": "blackman_drag",
         "transition_name": "f12",
         "trunc": 1.2,
         "type": "SimpleDriveCollection",
         "width": 0.025
        }
       },
       "measurement_primitives": {
        "0": {
         "amp": 0.15,
         "channel": 3,
         "distinguishable_states": [
          0,
          1
         ],
         "freq": 9025.5,
         "phase": 0,
         "shape": "square",
         "trunc": 1.2,
         "type": "SimpleDispersiveMeasurement",
         "width": 1
        }
       }
      },
      "text/plain": [
       "<IPython.core.display.JSON object>"
      ]
     },
     "metadata": {
      "application/json": {
       "expanded": false,
       "root": "Element QB parameters"
      }
     },
     "output_type": "display_data"
    }
   ],
   "source": [
    "duts_dict = {}\n",
    "for hrid, dd in dut_dict.items():\n",
    "    if (dd['Active']):\n",
    "        if (dd['FromLog']):\n",
    "            dut = TransmonElement.load_from_calibration_log(dd['Params']['hrid'])\n",
    "        else:\n",
    "            dut = TransmonElement(name=dd['Params']['hrid'],parameters=dd['Params'])\n",
    "            \n",
    "        dut.print_config_info()\n",
    "        duts_dict[hrid] = dut\n",
    "\n",
    "dut = None"
   ]
  },
  {
   "cell_type": "code",
   "execution_count": 4,
   "id": "b31e02e3-b653-485c-9a01-92f6409b99bc",
   "metadata": {},
   "outputs": [],
   "source": [
    "num_samples = 2 "
   ]
  },
  {
   "cell_type": "markdown",
   "id": "0af187d4-4824-491f-ba0f-a8d063c038b3",
   "metadata": {},
   "source": [
    "## Resonator spectroscopy"
   ]
  },
  {
   "cell_type": "code",
   "execution_count": 5,
   "id": "d544a993-19e7-49cd-9722-21f3d54ffd19",
   "metadata": {},
   "outputs": [],
   "source": [
    "def run_benchmark(scan_params):\n",
    "    dut = duts_dict['Q1']  \n",
    "    res = ResonatorSweepTransmissionWithExtraInitialLPB(dut,**scan_params)\n",
    "    return extract_results_from_experiment(res)"
   ]
  },
  {
   "cell_type": "code",
   "execution_count": 6,
   "id": "f921a55e-37cb-411c-9ab3-bb40e3790f75",
   "metadata": {},
   "outputs": [
    {
     "name": "stderr",
     "output_type": "stream",
     "text": [
      "[2024-07-19 15:45:57] [INFO] [labchronicle.chronicle] Log started at log/coxious/2024-07/2024-07-19/15.45.57\n",
      "[2024-07-19 15:45:57] [INFO] [labchronicle.chronicle] Log started at log/coxious/2024-07/2024-07-19/15.45.57\n",
      "INFO:labchronicle.chronicle:Log started at log/coxious/2024-07/2024-07-19/15.45.57\n"
     ]
    },
    {
     "name": "stdout",
     "output_type": "stream",
     "text": [
      "ResonatorSweepTransmissionWithExtraInitialLPB.run\n"
     ]
    },
    {
     "data": {
      "application/json": {
       "print_time": "2024-07-19 15:45:57",
       "record_book_path": "log/coxious/2024-07/2024-07-19/15.45.57",
       "record_entry_path": "/root/3-ResonatorSweepTransmissionWithExtraInitialLPB.run",
       "record_id": "100f6432-fca9-4d13-9383-588408ebc403",
       "record_time": 1721400357
      },
      "text/plain": [
       "<IPython.core.display.JSON object>"
      ]
     },
     "metadata": {
      "application/json": {
       "expanded": false,
       "root": "ResonatorSweepTransmissionWithExtraInitialLPB"
      }
     },
     "output_type": "display_data"
    },
    {
     "data": {
      "text/html": [
       "\n",
       "    <div id=\"755b75de-afe9-4675-ba6c-92396d1f722b\" style=\"font-size:16px;\">\n",
       "        <i class=\"fa fa-spinner fa-spin\"></i> Vision AI is inspecting the plots...\n",
       "    </div>\n",
       "    "
      ],
      "text/plain": [
       "<IPython.core.display.HTML object>"
      ]
     },
     "metadata": {},
     "output_type": "display_data"
    },
    {
     "data": {
      "application/javascript": [
       "\n",
       "    var spinnerElement = document.getElementById('755b75de-afe9-4675-ba6c-92396d1f722b');\n",
       "    if (spinnerElement) {\n",
       "        spinnerElement.remove();  // Remove the spinner element from the DOM\n",
       "    } else {\n",
       "        // Retry removing the spinner after a short delay if not immediately found\n",
       "        window.setTimeout(() => {\n",
       "            var spinnerElement = document.getElementById('755b75de-afe9-4675-ba6c-92396d1f722b');\n",
       "            if (spinnerElement) {\n",
       "                spinnerElement.remove();\n",
       "            }\n",
       "        }, 100);\n",
       "    }\n",
       "    "
      ],
      "text/plain": [
       "<IPython.core.display.Javascript object>"
      ]
     },
     "metadata": {},
     "output_type": "display_data"
    },
    {
     "data": {
      "text/html": [
       "\n",
       "    <p style=\"background-color: #F0FFF0; padding: 20px; border-radius: 8px; color: #333;\">\n",
       "        <strong>Inspection AI:</strong> <br><strong>analysis</strong>: 'The resonator spectroscopy magnitude plot shows a significant sharp dip in magnitude at around 9.3 MHz, which is a strong indicator of a resonator. The magnitude drops from approximately 0.2 to below 0.08 at this frequency, suggesting a resonant behavior. The signal appears relatively stable with some noise present, but the sharp dip is distinct and stands out from the surrounding data. The rest of the frequency range from 9.1 MHz to 9.7 MHz shows minor fluctuations in magnitude, but no other sharp dips or peaks are observed. This behavior around 9.3 MHz is typical of a resonator, where the energy is absorbed at the resonant frequency, causing a significant drop in the magnitude.'<br><strong>success</strong>: True<br>\n",
       "    </p>\n",
       "    "
      ],
      "text/plain": [
       "<IPython.core.display.HTML object>"
      ]
     },
     "metadata": {},
     "output_type": "display_data"
    },
    {
     "data": {
      "text/html": [
       "\n",
       "    <div id=\"015ea0b8-2b7e-4720-8ae5-67bb9411754b\" style=\"font-size:16px;\">\n",
       "        <i class=\"fa fa-spinner fa-spin\"></i> AI is analyzing the experiment results...\n",
       "    </div>\n",
       "    "
      ],
      "text/plain": [
       "<IPython.core.display.HTML object>"
      ]
     },
     "metadata": {},
     "output_type": "display_data"
    },
    {
     "data": {
      "application/javascript": [
       "\n",
       "    var spinnerElement = document.getElementById('015ea0b8-2b7e-4720-8ae5-67bb9411754b');\n",
       "    if (spinnerElement) {\n",
       "        spinnerElement.remove();  // Remove the spinner element from the DOM\n",
       "    } else {\n",
       "        // Retry removing the spinner after a short delay if not immediately found\n",
       "        window.setTimeout(() => {\n",
       "            var spinnerElement = document.getElementById('015ea0b8-2b7e-4720-8ae5-67bb9411754b');\n",
       "            if (spinnerElement) {\n",
       "                spinnerElement.remove();\n",
       "            }\n",
       "        }, 100);\n",
       "    }\n",
       "    "
      ],
      "text/plain": [
       "<IPython.core.display.Javascript object>"
      ]
     },
     "metadata": {},
     "output_type": "display_data"
    },
    {
     "data": {
      "text/html": [
       "\n",
       "    <div id=\"f9ca1d08-0d0b-4b4d-94c1-5ffc2e651f50\" style=\"font-size:16px;\">\n",
       "        <i class=\"fa fa-spinner fa-spin\"></i> AI is analyzing the experiment results...\n",
       "    </div>\n",
       "    "
      ],
      "text/plain": [
       "<IPython.core.display.HTML object>"
      ]
     },
     "metadata": {},
     "output_type": "display_data"
    },
    {
     "data": {
      "application/javascript": [
       "\n",
       "    var spinnerElement = document.getElementById('f9ca1d08-0d0b-4b4d-94c1-5ffc2e651f50');\n",
       "    if (spinnerElement) {\n",
       "        spinnerElement.remove();  // Remove the spinner element from the DOM\n",
       "    } else {\n",
       "        // Retry removing the spinner after a short delay if not immediately found\n",
       "        window.setTimeout(() => {\n",
       "            var spinnerElement = document.getElementById('f9ca1d08-0d0b-4b4d-94c1-5ffc2e651f50');\n",
       "            if (spinnerElement) {\n",
       "                spinnerElement.remove();\n",
       "            }\n",
       "        }, 100);\n",
       "    }\n",
       "    "
      ],
      "text/plain": [
       "<IPython.core.display.Javascript object>"
      ]
     },
     "metadata": {},
     "output_type": "display_data"
    },
    {
     "data": {
      "text/html": [
       "\n",
       "    <div id=\"26f8d020-55af-463c-b563-597f19a0be5f\" style=\"font-size:16px;\">\n",
       "        <i class=\"fa fa-spinner fa-spin\"></i> AI is analyzing the experiment results...\n",
       "    </div>\n",
       "    "
      ],
      "text/plain": [
       "<IPython.core.display.HTML object>"
      ]
     },
     "metadata": {},
     "output_type": "display_data"
    },
    {
     "data": {
      "application/javascript": [
       "\n",
       "    var spinnerElement = document.getElementById('26f8d020-55af-463c-b563-597f19a0be5f');\n",
       "    if (spinnerElement) {\n",
       "        spinnerElement.remove();  // Remove the spinner element from the DOM\n",
       "    } else {\n",
       "        // Retry removing the spinner after a short delay if not immediately found\n",
       "        window.setTimeout(() => {\n",
       "            var spinnerElement = document.getElementById('26f8d020-55af-463c-b563-597f19a0be5f');\n",
       "            if (spinnerElement) {\n",
       "                spinnerElement.remove();\n",
       "            }\n",
       "        }, 100);\n",
       "    }\n",
       "    "
      ],
      "text/plain": [
       "<IPython.core.display.Javascript object>"
      ]
     },
     "metadata": {},
     "output_type": "display_data"
    },
    {
     "name": "stderr",
     "output_type": "stream",
     "text": [
      "[2024-07-19 15:46:16] [INFO] [labchronicle.chronicle] Log started at log/coxious/2024-07/2024-07-19/15.46.16\n",
      "[2024-07-19 15:46:16] [INFO] [labchronicle.chronicle] Log started at log/coxious/2024-07/2024-07-19/15.46.16\n",
      "INFO:labchronicle.chronicle:Log started at log/coxious/2024-07/2024-07-19/15.46.16\n"
     ]
    },
    {
     "name": "stdout",
     "output_type": "stream",
     "text": [
      "ResonatorSweepTransmissionWithExtraInitialLPB.run\n"
     ]
    },
    {
     "data": {
      "application/json": {
       "print_time": "2024-07-19 15:46:16",
       "record_book_path": "log/coxious/2024-07/2024-07-19/15.46.16",
       "record_entry_path": "/root/3-ResonatorSweepTransmissionWithExtraInitialLPB.run",
       "record_id": "1bfd08d1-afdf-41c5-851c-2f7c1b226d9e",
       "record_time": 1721400376
      },
      "text/plain": [
       "<IPython.core.display.JSON object>"
      ]
     },
     "metadata": {
      "application/json": {
       "expanded": false,
       "root": "ResonatorSweepTransmissionWithExtraInitialLPB"
      }
     },
     "output_type": "display_data"
    },
    {
     "data": {
      "text/html": [
       "\n",
       "    <div id=\"34ff8a9d-e4d5-4b1e-a39e-8af53203a33f\" style=\"font-size:16px;\">\n",
       "        <i class=\"fa fa-spinner fa-spin\"></i> Vision AI is inspecting the plots...\n",
       "    </div>\n",
       "    "
      ],
      "text/plain": [
       "<IPython.core.display.HTML object>"
      ]
     },
     "metadata": {},
     "output_type": "display_data"
    },
    {
     "data": {
      "application/javascript": [
       "\n",
       "    var spinnerElement = document.getElementById('34ff8a9d-e4d5-4b1e-a39e-8af53203a33f');\n",
       "    if (spinnerElement) {\n",
       "        spinnerElement.remove();  // Remove the spinner element from the DOM\n",
       "    } else {\n",
       "        // Retry removing the spinner after a short delay if not immediately found\n",
       "        window.setTimeout(() => {\n",
       "            var spinnerElement = document.getElementById('34ff8a9d-e4d5-4b1e-a39e-8af53203a33f');\n",
       "            if (spinnerElement) {\n",
       "                spinnerElement.remove();\n",
       "            }\n",
       "        }, 100);\n",
       "    }\n",
       "    "
      ],
      "text/plain": [
       "<IPython.core.display.Javascript object>"
      ]
     },
     "metadata": {},
     "output_type": "display_data"
    },
    {
     "data": {
      "text/html": [
       "\n",
       "    <p style=\"background-color: #F0FFF0; padding: 20px; border-radius: 8px; color: #333;\">\n",
       "        <strong>Inspection AI:</strong> <br><strong>analysis</strong>: \"The plot shows the magnitude of the resonator spectroscopy as a function of frequency. There is a prominent sharp dip in the magnitude at around 9200 MHz, which is a strong indication of a resonant frequency. The signal appears relatively stable across the frequency range, with some minor fluctuations that could be attributed to noise. The sharp dip at 9200 MHz stands out significantly from the rest of the data, suggesting the presence of a resonator at this frequency. The magnitude drops to nearly zero at this point, which is characteristic of a resonator's behavior. Overall, the plot provides clear evidence of a resonator at approximately 9200 MHz.\"<br><strong>success</strong>: True<br>\n",
       "    </p>\n",
       "    "
      ],
      "text/plain": [
       "<IPython.core.display.HTML object>"
      ]
     },
     "metadata": {},
     "output_type": "display_data"
    },
    {
     "data": {
      "text/html": [
       "\n",
       "    <div id=\"494c017e-1d34-4413-8ca8-2e5637bc7e41\" style=\"font-size:16px;\">\n",
       "        <i class=\"fa fa-spinner fa-spin\"></i> AI is analyzing the experiment results...\n",
       "    </div>\n",
       "    "
      ],
      "text/plain": [
       "<IPython.core.display.HTML object>"
      ]
     },
     "metadata": {},
     "output_type": "display_data"
    },
    {
     "data": {
      "application/javascript": [
       "\n",
       "    var spinnerElement = document.getElementById('494c017e-1d34-4413-8ca8-2e5637bc7e41');\n",
       "    if (spinnerElement) {\n",
       "        spinnerElement.remove();  // Remove the spinner element from the DOM\n",
       "    } else {\n",
       "        // Retry removing the spinner after a short delay if not immediately found\n",
       "        window.setTimeout(() => {\n",
       "            var spinnerElement = document.getElementById('494c017e-1d34-4413-8ca8-2e5637bc7e41');\n",
       "            if (spinnerElement) {\n",
       "                spinnerElement.remove();\n",
       "            }\n",
       "        }, 100);\n",
       "    }\n",
       "    "
      ],
      "text/plain": [
       "<IPython.core.display.Javascript object>"
      ]
     },
     "metadata": {},
     "output_type": "display_data"
    },
    {
     "data": {
      "text/html": [
       "\n",
       "    <div id=\"442f186e-b650-4c2b-aeb3-f49b4a9829cc\" style=\"font-size:16px;\">\n",
       "        <i class=\"fa fa-spinner fa-spin\"></i> AI is analyzing the experiment results...\n",
       "    </div>\n",
       "    "
      ],
      "text/plain": [
       "<IPython.core.display.HTML object>"
      ]
     },
     "metadata": {},
     "output_type": "display_data"
    },
    {
     "data": {
      "application/javascript": [
       "\n",
       "    var spinnerElement = document.getElementById('442f186e-b650-4c2b-aeb3-f49b4a9829cc');\n",
       "    if (spinnerElement) {\n",
       "        spinnerElement.remove();  // Remove the spinner element from the DOM\n",
       "    } else {\n",
       "        // Retry removing the spinner after a short delay if not immediately found\n",
       "        window.setTimeout(() => {\n",
       "            var spinnerElement = document.getElementById('442f186e-b650-4c2b-aeb3-f49b4a9829cc');\n",
       "            if (spinnerElement) {\n",
       "                spinnerElement.remove();\n",
       "            }\n",
       "        }, 100);\n",
       "    }\n",
       "    "
      ],
      "text/plain": [
       "<IPython.core.display.Javascript object>"
      ]
     },
     "metadata": {},
     "output_type": "display_data"
    },
    {
     "data": {
      "text/html": [
       "\n",
       "    <div id=\"b7ba4a2f-b377-4e97-b840-0bb2f04f0d87\" style=\"font-size:16px;\">\n",
       "        <i class=\"fa fa-spinner fa-spin\"></i> AI is analyzing the experiment results...\n",
       "    </div>\n",
       "    "
      ],
      "text/plain": [
       "<IPython.core.display.HTML object>"
      ]
     },
     "metadata": {},
     "output_type": "display_data"
    },
    {
     "data": {
      "application/javascript": [
       "\n",
       "    var spinnerElement = document.getElementById('b7ba4a2f-b377-4e97-b840-0bb2f04f0d87');\n",
       "    if (spinnerElement) {\n",
       "        spinnerElement.remove();  // Remove the spinner element from the DOM\n",
       "    } else {\n",
       "        // Retry removing the spinner after a short delay if not immediately found\n",
       "        window.setTimeout(() => {\n",
       "            var spinnerElement = document.getElementById('b7ba4a2f-b377-4e97-b840-0bb2f04f0d87');\n",
       "            if (spinnerElement) {\n",
       "                spinnerElement.remove();\n",
       "            }\n",
       "        }, 100);\n",
       "    }\n",
       "    "
      ],
      "text/plain": [
       "<IPython.core.display.Javascript object>"
      ]
     },
     "metadata": {},
     "output_type": "display_data"
    }
   ],
   "source": [
    "success_inspections = {}\n",
    "\n",
    "for i in range(num_samples):\n",
    "    np.random.seed(i)\n",
    "\n",
    "    readout_frequency = 500 * np.random.random(1) + 9000\n",
    "    readout_sweep_width = 10 + 1000*np.random.random(1)\n",
    "    readout_scan_offset = readout_sweep_width / 3 * np.random.random(1)\n",
    "\n",
    "    center_frequency = readout_frequency + readout_scan_offset\n",
    "\n",
    "    simulation_setup(readout_frequency=readout_frequency)\n",
    "    setup().status().set_param(\"AIAutoInspectPlots\", True)  \n",
    "    ExperimentManager().status().set_parameter(\"Plot_Result_In_Jupyter\",False)\n",
    "    \n",
    "    scan_params = {\n",
    "        'start' : center_frequency-readout_sweep_width/2,\n",
    "        'stop'  : center_frequency+readout_sweep_width/2,\n",
    "        'step' : readout_sweep_width / 200,\n",
    "        'num_avs' : 100,\n",
    "        'rep_rate' : 0.0,\n",
    "        'mp_width' : 1,\n",
    "        'amp':0.001\n",
    "    }\n",
    "    \n",
    "    result = run_benchmark(scan_params)\n",
    "\n",
    "    success_inspections[i] = result\n",
    "    with open('resonator_spec_success_cases.json', 'w') as f:\n",
    "        json.dump(success_inspections, f)"
   ]
  },
  {
   "cell_type": "code",
   "execution_count": 7,
   "id": "80613851-0a2b-44f4-aed2-3284609ac5e1",
   "metadata": {},
   "outputs": [
    {
     "name": "stderr",
     "output_type": "stream",
     "text": [
      "[2024-07-19 15:46:36] [INFO] [labchronicle.chronicle] Log started at log/coxious/2024-07/2024-07-19/15.46.36\n",
      "[2024-07-19 15:46:36] [INFO] [labchronicle.chronicle] Log started at log/coxious/2024-07/2024-07-19/15.46.36\n",
      "INFO:labchronicle.chronicle:Log started at log/coxious/2024-07/2024-07-19/15.46.36\n"
     ]
    },
    {
     "name": "stdout",
     "output_type": "stream",
     "text": [
      "ResonatorSweepTransmissionWithExtraInitialLPB.run\n"
     ]
    },
    {
     "data": {
      "application/json": {
       "print_time": "2024-07-19 15:46:36",
       "record_book_path": "log/coxious/2024-07/2024-07-19/15.46.36",
       "record_entry_path": "/root/3-ResonatorSweepTransmissionWithExtraInitialLPB.run",
       "record_id": "12f3929a-4329-48f0-bc4c-ccbfa930453a",
       "record_time": 1721400396
      },
      "text/plain": [
       "<IPython.core.display.JSON object>"
      ]
     },
     "metadata": {
      "application/json": {
       "expanded": false,
       "root": "ResonatorSweepTransmissionWithExtraInitialLPB"
      }
     },
     "output_type": "display_data"
    },
    {
     "data": {
      "text/html": [
       "\n",
       "    <div id=\"919fc0cb-cc17-4879-b200-7dcb168d7f0d\" style=\"font-size:16px;\">\n",
       "        <i class=\"fa fa-spinner fa-spin\"></i> Vision AI is inspecting the plots...\n",
       "    </div>\n",
       "    "
      ],
      "text/plain": [
       "<IPython.core.display.HTML object>"
      ]
     },
     "metadata": {},
     "output_type": "display_data"
    },
    {
     "data": {
      "application/javascript": [
       "\n",
       "    var spinnerElement = document.getElementById('919fc0cb-cc17-4879-b200-7dcb168d7f0d');\n",
       "    if (spinnerElement) {\n",
       "        spinnerElement.remove();  // Remove the spinner element from the DOM\n",
       "    } else {\n",
       "        // Retry removing the spinner after a short delay if not immediately found\n",
       "        window.setTimeout(() => {\n",
       "            var spinnerElement = document.getElementById('919fc0cb-cc17-4879-b200-7dcb168d7f0d');\n",
       "            if (spinnerElement) {\n",
       "                spinnerElement.remove();\n",
       "            }\n",
       "        }, 100);\n",
       "    }\n",
       "    "
      ],
      "text/plain": [
       "<IPython.core.display.Javascript object>"
      ]
     },
     "metadata": {},
     "output_type": "display_data"
    },
    {
     "data": {
      "text/html": [
       "\n",
       "    <p style=\"background-color: #F0FFF0; padding: 20px; border-radius: 8px; color: #333;\">\n",
       "        <strong>Inspection AI:</strong> <br><strong>analysis</strong>: 'The resonator spectroscopy magnitude plot shows a significant sharp dip in magnitude around 9.3 MHz, which is a strong indication of a resonator. The magnitude drops from approximately 0.2 to around 0.06 at this frequency, suggesting a resonant behavior. The signal appears relatively stable with some noise present, but the sharp dip is distinct and stands out from the rest of the data. The noise level is consistent across the frequency range, except for the pronounced dip at 9.3 MHz. This behavior is typical for a resonator, where the energy is absorbed at the resonant frequency, causing a sharp decrease in the magnitude.'<br><strong>success</strong>: True<br>\n",
       "    </p>\n",
       "    "
      ],
      "text/plain": [
       "<IPython.core.display.HTML object>"
      ]
     },
     "metadata": {},
     "output_type": "display_data"
    },
    {
     "data": {
      "text/html": [
       "\n",
       "    <div id=\"e1407789-5640-46ce-bd85-f5878cd0707c\" style=\"font-size:16px;\">\n",
       "        <i class=\"fa fa-spinner fa-spin\"></i> AI is analyzing the experiment results...\n",
       "    </div>\n",
       "    "
      ],
      "text/plain": [
       "<IPython.core.display.HTML object>"
      ]
     },
     "metadata": {},
     "output_type": "display_data"
    },
    {
     "data": {
      "application/javascript": [
       "\n",
       "    var spinnerElement = document.getElementById('e1407789-5640-46ce-bd85-f5878cd0707c');\n",
       "    if (spinnerElement) {\n",
       "        spinnerElement.remove();  // Remove the spinner element from the DOM\n",
       "    } else {\n",
       "        // Retry removing the spinner after a short delay if not immediately found\n",
       "        window.setTimeout(() => {\n",
       "            var spinnerElement = document.getElementById('e1407789-5640-46ce-bd85-f5878cd0707c');\n",
       "            if (spinnerElement) {\n",
       "                spinnerElement.remove();\n",
       "            }\n",
       "        }, 100);\n",
       "    }\n",
       "    "
      ],
      "text/plain": [
       "<IPython.core.display.Javascript object>"
      ]
     },
     "metadata": {},
     "output_type": "display_data"
    },
    {
     "data": {
      "text/html": [
       "\n",
       "    <div id=\"31ac457d-4083-433f-ad63-e10bbc7d2551\" style=\"font-size:16px;\">\n",
       "        <i class=\"fa fa-spinner fa-spin\"></i> AI is analyzing the experiment results...\n",
       "    </div>\n",
       "    "
      ],
      "text/plain": [
       "<IPython.core.display.HTML object>"
      ]
     },
     "metadata": {},
     "output_type": "display_data"
    },
    {
     "data": {
      "application/javascript": [
       "\n",
       "    var spinnerElement = document.getElementById('31ac457d-4083-433f-ad63-e10bbc7d2551');\n",
       "    if (spinnerElement) {\n",
       "        spinnerElement.remove();  // Remove the spinner element from the DOM\n",
       "    } else {\n",
       "        // Retry removing the spinner after a short delay if not immediately found\n",
       "        window.setTimeout(() => {\n",
       "            var spinnerElement = document.getElementById('31ac457d-4083-433f-ad63-e10bbc7d2551');\n",
       "            if (spinnerElement) {\n",
       "                spinnerElement.remove();\n",
       "            }\n",
       "        }, 100);\n",
       "    }\n",
       "    "
      ],
      "text/plain": [
       "<IPython.core.display.Javascript object>"
      ]
     },
     "metadata": {},
     "output_type": "display_data"
    },
    {
     "data": {
      "text/html": [
       "\n",
       "    <div id=\"61a2f09f-723a-4394-8157-b1ffb0dbf50c\" style=\"font-size:16px;\">\n",
       "        <i class=\"fa fa-spinner fa-spin\"></i> AI is analyzing the experiment results...\n",
       "    </div>\n",
       "    "
      ],
      "text/plain": [
       "<IPython.core.display.HTML object>"
      ]
     },
     "metadata": {},
     "output_type": "display_data"
    },
    {
     "data": {
      "application/javascript": [
       "\n",
       "    var spinnerElement = document.getElementById('61a2f09f-723a-4394-8157-b1ffb0dbf50c');\n",
       "    if (spinnerElement) {\n",
       "        spinnerElement.remove();  // Remove the spinner element from the DOM\n",
       "    } else {\n",
       "        // Retry removing the spinner after a short delay if not immediately found\n",
       "        window.setTimeout(() => {\n",
       "            var spinnerElement = document.getElementById('61a2f09f-723a-4394-8157-b1ffb0dbf50c');\n",
       "            if (spinnerElement) {\n",
       "                spinnerElement.remove();\n",
       "            }\n",
       "        }, 100);\n",
       "    }\n",
       "    "
      ],
      "text/plain": [
       "<IPython.core.display.Javascript object>"
      ]
     },
     "metadata": {},
     "output_type": "display_data"
    },
    {
     "name": "stderr",
     "output_type": "stream",
     "text": [
      "[2024-07-19 15:46:52] [INFO] [labchronicle.chronicle] Log started at log/coxious/2024-07/2024-07-19/15.46.52\n",
      "[2024-07-19 15:46:52] [INFO] [labchronicle.chronicle] Log started at log/coxious/2024-07/2024-07-19/15.46.52\n",
      "INFO:labchronicle.chronicle:Log started at log/coxious/2024-07/2024-07-19/15.46.52\n"
     ]
    },
    {
     "name": "stdout",
     "output_type": "stream",
     "text": [
      "ResonatorSweepTransmissionWithExtraInitialLPB.run\n"
     ]
    },
    {
     "data": {
      "application/json": {
       "print_time": "2024-07-19 15:46:52",
       "record_book_path": "log/coxious/2024-07/2024-07-19/15.46.52",
       "record_entry_path": "/root/3-ResonatorSweepTransmissionWithExtraInitialLPB.run",
       "record_id": "07f178a4-0044-4e97-ab34-9ca644e858db",
       "record_time": 1721400412
      },
      "text/plain": [
       "<IPython.core.display.JSON object>"
      ]
     },
     "metadata": {
      "application/json": {
       "expanded": false,
       "root": "ResonatorSweepTransmissionWithExtraInitialLPB"
      }
     },
     "output_type": "display_data"
    },
    {
     "data": {
      "text/html": [
       "\n",
       "    <div id=\"79215ca2-e949-4102-8f51-f1f6fab6afa4\" style=\"font-size:16px;\">\n",
       "        <i class=\"fa fa-spinner fa-spin\"></i> Vision AI is inspecting the plots...\n",
       "    </div>\n",
       "    "
      ],
      "text/plain": [
       "<IPython.core.display.HTML object>"
      ]
     },
     "metadata": {},
     "output_type": "display_data"
    },
    {
     "data": {
      "application/javascript": [
       "\n",
       "    var spinnerElement = document.getElementById('79215ca2-e949-4102-8f51-f1f6fab6afa4');\n",
       "    if (spinnerElement) {\n",
       "        spinnerElement.remove();  // Remove the spinner element from the DOM\n",
       "    } else {\n",
       "        // Retry removing the spinner after a short delay if not immediately found\n",
       "        window.setTimeout(() => {\n",
       "            var spinnerElement = document.getElementById('79215ca2-e949-4102-8f51-f1f6fab6afa4');\n",
       "            if (spinnerElement) {\n",
       "                spinnerElement.remove();\n",
       "            }\n",
       "        }, 100);\n",
       "    }\n",
       "    "
      ],
      "text/plain": [
       "<IPython.core.display.Javascript object>"
      ]
     },
     "metadata": {},
     "output_type": "display_data"
    },
    {
     "data": {
      "text/html": [
       "\n",
       "    <p style=\"background-color: #F0FFF0; padding: 20px; border-radius: 8px; color: #333;\">\n",
       "        <strong>Inspection AI:</strong> <br><strong>analysis</strong>: 'The resonator spectroscopy magnitude plot shows a significant sharp dip around 9200 MHz, which is a strong indication of a resonator. The magnitude drops sharply from around 0.2 to nearly 0 at this frequency, suggesting a resonant frequency where the resonator absorbs energy efficiently. The signal appears relatively stable across other frequencies, with minor fluctuations that could be attributed to noise. The presence of this sharp dip amidst a generally stable signal with low noise levels around the resonant frequency further supports the identification of a resonator at approximately 9200 MHz.'<br><strong>success</strong>: True<br>\n",
       "    </p>\n",
       "    "
      ],
      "text/plain": [
       "<IPython.core.display.HTML object>"
      ]
     },
     "metadata": {},
     "output_type": "display_data"
    },
    {
     "data": {
      "text/html": [
       "\n",
       "    <div id=\"46fb8550-81f4-4a87-adb5-8339a11987ba\" style=\"font-size:16px;\">\n",
       "        <i class=\"fa fa-spinner fa-spin\"></i> AI is analyzing the experiment results...\n",
       "    </div>\n",
       "    "
      ],
      "text/plain": [
       "<IPython.core.display.HTML object>"
      ]
     },
     "metadata": {},
     "output_type": "display_data"
    },
    {
     "data": {
      "application/javascript": [
       "\n",
       "    var spinnerElement = document.getElementById('46fb8550-81f4-4a87-adb5-8339a11987ba');\n",
       "    if (spinnerElement) {\n",
       "        spinnerElement.remove();  // Remove the spinner element from the DOM\n",
       "    } else {\n",
       "        // Retry removing the spinner after a short delay if not immediately found\n",
       "        window.setTimeout(() => {\n",
       "            var spinnerElement = document.getElementById('46fb8550-81f4-4a87-adb5-8339a11987ba');\n",
       "            if (spinnerElement) {\n",
       "                spinnerElement.remove();\n",
       "            }\n",
       "        }, 100);\n",
       "    }\n",
       "    "
      ],
      "text/plain": [
       "<IPython.core.display.Javascript object>"
      ]
     },
     "metadata": {},
     "output_type": "display_data"
    },
    {
     "data": {
      "text/html": [
       "\n",
       "    <div id=\"095aee9e-8e5e-4c39-a22a-8be0d4d44a94\" style=\"font-size:16px;\">\n",
       "        <i class=\"fa fa-spinner fa-spin\"></i> AI is analyzing the experiment results...\n",
       "    </div>\n",
       "    "
      ],
      "text/plain": [
       "<IPython.core.display.HTML object>"
      ]
     },
     "metadata": {},
     "output_type": "display_data"
    },
    {
     "data": {
      "application/javascript": [
       "\n",
       "    var spinnerElement = document.getElementById('095aee9e-8e5e-4c39-a22a-8be0d4d44a94');\n",
       "    if (spinnerElement) {\n",
       "        spinnerElement.remove();  // Remove the spinner element from the DOM\n",
       "    } else {\n",
       "        // Retry removing the spinner after a short delay if not immediately found\n",
       "        window.setTimeout(() => {\n",
       "            var spinnerElement = document.getElementById('095aee9e-8e5e-4c39-a22a-8be0d4d44a94');\n",
       "            if (spinnerElement) {\n",
       "                spinnerElement.remove();\n",
       "            }\n",
       "        }, 100);\n",
       "    }\n",
       "    "
      ],
      "text/plain": [
       "<IPython.core.display.Javascript object>"
      ]
     },
     "metadata": {},
     "output_type": "display_data"
    },
    {
     "data": {
      "text/html": [
       "\n",
       "    <div id=\"858063ec-f9ac-43e1-ba01-97fd19923b79\" style=\"font-size:16px;\">\n",
       "        <i class=\"fa fa-spinner fa-spin\"></i> AI is analyzing the experiment results...\n",
       "    </div>\n",
       "    "
      ],
      "text/plain": [
       "<IPython.core.display.HTML object>"
      ]
     },
     "metadata": {},
     "output_type": "display_data"
    },
    {
     "data": {
      "application/javascript": [
       "\n",
       "    var spinnerElement = document.getElementById('858063ec-f9ac-43e1-ba01-97fd19923b79');\n",
       "    if (spinnerElement) {\n",
       "        spinnerElement.remove();  // Remove the spinner element from the DOM\n",
       "    } else {\n",
       "        // Retry removing the spinner after a short delay if not immediately found\n",
       "        window.setTimeout(() => {\n",
       "            var spinnerElement = document.getElementById('858063ec-f9ac-43e1-ba01-97fd19923b79');\n",
       "            if (spinnerElement) {\n",
       "                spinnerElement.remove();\n",
       "            }\n",
       "        }, 100);\n",
       "    }\n",
       "    "
      ],
      "text/plain": [
       "<IPython.core.display.Javascript object>"
      ]
     },
     "metadata": {},
     "output_type": "display_data"
    }
   ],
   "source": [
    "failed_inspections = {}\n",
    "\n",
    "\n",
    "for i in range(num_samples):\n",
    "    np.random.seed(i)\n",
    "\n",
    "    readout_frequency = 500 * np.random.random(1) + 9000\n",
    "    readout_sweep_width = 10 + 1000*np.random.random(1)\n",
    "    readout_scan_offset = readout_sweep_width / 3 * np.random.random(1)\n",
    "\n",
    "    center_frequency = readout_frequency + readout_scan_offset\n",
    "\n",
    "    simulation_setup(readout_frequency=readout_frequency)\n",
    "    setup().status().set_param(\"AIAutoInspectPlots\", True)  \n",
    "    ExperimentManager().status().set_parameter(\"Plot_Result_In_Jupyter\",False)\n",
    "    \n",
    "    scan_params = {\n",
    "        'start' : center_frequency-readout_sweep_width/2,\n",
    "        'stop'  : center_frequency+readout_sweep_width/2,\n",
    "        'step' : readout_sweep_width / 200,\n",
    "        'num_avs' : 100,\n",
    "        'rep_rate' : 0.0,\n",
    "        'mp_width' : 1,\n",
    "        'amp':0.001\n",
    "    }\n",
    "    \n",
    "    result = run_benchmark(scan_params)\n",
    "    \n",
    "    failed_inspections[i] = result\n",
    "    with open('resonator_spec_failed_cases.json', 'w') as f:\n",
    "        json.dump(failed_inspections, f)"
   ]
  }
 ],
 "metadata": {
  "kernelspec": {
   "display_name": "Python 3 (ipykernel)",
   "language": "python",
   "name": "python3"
  },
  "language_info": {
   "codemirror_mode": {
    "name": "ipython",
    "version": 3
   },
   "file_extension": ".py",
   "mimetype": "text/x-python",
   "name": "python",
   "nbconvert_exporter": "python",
   "pygments_lexer": "ipython3",
   "version": "3.11.7"
  }
 },
 "nbformat": 4,
 "nbformat_minor": 5
}
