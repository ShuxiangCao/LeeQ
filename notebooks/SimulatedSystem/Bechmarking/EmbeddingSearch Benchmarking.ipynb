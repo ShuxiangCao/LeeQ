{
 "cells": [
  {
   "cell_type": "markdown",
   "id": "e4ddbac9-5705-48d9-a00e-4663dc6346ff",
   "metadata": {},
   "source": [
    "# Embedding Search Benchmarking\n",
    "\n",
    "In this study we wish to check the AI's ability to understand the natural language description of the experiment and select the correct experiment from the code base.\n",
    "\n",
    "We generate 10 different prompts for each experiment and check if the AI can find the correct related experiment.\n",
    "\n",
    "We report the accuracy of top hit, top 3 hit, top 5 hit and hit after filtering and revision."
   ]
  },
  {
   "cell_type": "code",
   "id": "3c7fb004-5eca-418b-a462-b149a43619f2",
   "metadata": {
    "ExecuteTime": {
     "end_time": "2024-07-20T20:30:31.491892Z",
     "start_time": "2024-07-20T20:30:28.483023Z"
    }
   },
   "source": [
    "import leeq\n",
    "from leeq.experiments.builtin import *"
   ],
   "outputs": [],
   "execution_count": 1
  },
  {
   "cell_type": "code",
   "id": "91bd2a74-18e9-4444-a70b-996626d93a06",
   "metadata": {
    "ExecuteTime": {
     "end_time": "2024-07-20T20:30:31.541640Z",
     "start_time": "2024-07-20T20:30:31.500571Z"
    }
   },
   "source": [
    "experiment_prompt = {\n",
    "    'GMM': (MeasurementCalibrationMultilevelGMM,[\n",
    "        'Run GMM measurement calibration',\n",
    "        'Implement GMM model calibration for measurement',\n",
    "        'Calibrate the measurement GMM model',\n",
    "        'Calibrate the measurement GMM model with amplitude=0.2 and drive frequency = 9876 MHz',\n",
    "        'Run measurement calibration with amp=0.1 and frequency = 8790 MHz',\n",
    "        'Implement calibration for measurement',\n",
    "        'Calibrate measurement parameters',\n",
    "        'Run measurement calibration',\n",
    "        'Implement measurement calibration for state discrimination',\n",
    "        'Do measurement calibration'\n",
    "    ]),\n",
    "    'Ramsey': (SimpleRamseyMultilevel,[\n",
    "        'Run ramsey experiment with default parameters',\n",
    "        'Run ramsey experiment to calibrate qubit frequency with default parameters',\n",
    "        'Implement ramsey expeirment for qubit frequency calibration',\n",
    "        'Calibrate qubit frequency with ramsey experiment',\n",
    "        'Qubit frequency calibration with ramsey experiment',\n",
    "        'Implement ramsey experiments to estimate qubit frequency.',\n",
    "        'Qubit frequency estimation with ramsey experiment',\n",
    "        'Do ramsey experiment to calibrate qubit frequency',\n",
    "        'Do Ramsey interferometry experiment',\n",
    "        'Calibrate qubit frequency using the ramsey experiment'\n",
    "    ]),\n",
    "    'Rabi': (NormalisedRabi,[\n",
    "        'Run rabi experiment to calibrate single qubit gate driving amplitudes',\n",
    "        'Measure Rabi oscillations to determine single qubit gate driving amplitudes',\n",
    "        'Implement Rabi experiment to find pi pulse duration',\n",
    "        'Calibrate Rabi rate for single qubit gate',\n",
    "        'Determine single qubit gate prameter using Rabi experiment',\n",
    "        'Run Rabi experiment with default parameters',\n",
    "        'Single qubit gate amptiludes estimation using Rabi experiments',\n",
    "        'Do Rabi experiment to measure qubit drive amplitudes',\n",
    "        'Run Rabi experiment',\n",
    "        'Calibrate qubit drive amplitudes using Rabi experiment'\n",
    "    ]),\n",
    "    'Pingpong': (AmpPingpongCalibrationSingleQubitMultilevel,[\n",
    "        'Fine-tune single qubit gate driving amplitude settings using pingpong method',\n",
    "        'Adjust single qubit gate driving amplitude for optimal fidelity',\n",
    "        'Calibrate signal amplitude with pingpong feedback loop',\n",
    "        'Run single qubit gate amplitude tuning using pingpong experiment',\n",
    "        'Implement pingpong feedback calibration for fine tuning single qubit gate amplitude',\n",
    "        'Optimize driving parameters with the pingpong method',\n",
    "        'Pingpong tuning of amplitudes settings',\n",
    "        'Amplitude fine-tuning with pingpong approach',\n",
    "        'Iterative tuning of amplitude using piongpong experiment',\n",
    "        'Calibrate amplitude settings using iterative pingpong method'\n",
    "    ]),\n",
    "    'Resonator spectroscopy': (ResonatorSweepTransmissionWithExtraInitialLPB,[\n",
    "        'Run resonator spectroscopy to determine resonant frequencies',\n",
    "        'Implement spectroscopy on resonator',\n",
    "        'Calibrate resonator using spectroscopic techniques',\n",
    "        'Measure quality factor of resonators with spectroscopy',\n",
    "        'Determine resonator location via resonator spectroscopy',\n",
    "        'Spectroscopic analysis of resonator bandwidth using resonator spectroscopy',\n",
    "        'Run full spectroscopic scan on resonator',\n",
    "        'Discover resonators with spectroscopy',\n",
    "        'Resonator frequency mapping using spectroscopy',\n",
    "        'Measure resonator frequency response using spectroscopy'\n",
    "    ]),\n",
    "    'T1': (SimpleT1,[\n",
    "        'Run T1 experiment to measure relaxation time',\n",
    "        'Implement T1 relaxation time measurement',\n",
    "        'Determine qubit T1 relaxation times',\n",
    "        'Measure T1 relaxation time of qubit',\n",
    "        'Do T1 experiment',\n",
    "        'Measure T1 Relaxation time',\n",
    "        'Do T1 experiment for qubit decay',\n",
    "        'T1 relaxation profiling of qubits',\n",
    "        'Experimentally determine qubit T1 times',\n",
    "        'Measure decay characteristics with T1 experiment'\n",
    "    ]),\n",
    "    'T2': (SpinEchoMultiLevel,[\n",
    "        'Run T2 experiment to measure dephasing time',\n",
    "        'Implement T2 echo experiment',\n",
    "        'Determine qubit T2 dephasing times',\n",
    "        'Measure coherence time using Hahn echo',\n",
    "        'Calibrate for T2 dephasing time measurements',\n",
    "        'Quantify qubit coherence with echo experiments',\n",
    "        'Do T2 echo to observe qubit dephasing',\n",
    "        'T2 coherence profiling of qubits',\n",
    "        'Experimentally determine qubit T2 times',\n",
    "        'Measure qubit coherence decay using T2 experiment'\n",
    "    ]),\n",
    "    'RB1Q': (SingleQubitRandomizedBenchmarking,[\n",
    "        'Run randomized benchmarking to measure single-qubit gate fidelity',\n",
    "        'Implement 1Q randomized benchmarking',\n",
    "        'Measure qubit gate errors using randomized benchmarking',\n",
    "        'Characterize single qubit gates performance using randomized benchmarking',\n",
    "        'Determine fidelity of qubit operations with randomized benchmarking',\n",
    "        'Randomized benchmarking for error characterization on single qubit gate',\n",
    "        'Perform single-qubit benchmarking for error rates',\n",
    "        'Implement randomized benchmarking for single qubits',\n",
    "        'Calibrate and measure single-qubit errors with randomized benchmarking',\n",
    "        'Quantify qubit performance with randomized benchmarking'\n",
    "    ]),\n",
    "    'Drag': (DragCalibrationSingleQubitMultilevel,[\n",
    "        'Implement DRAG calibration to reduce gate errors',\n",
    "        'Calibrate DRAG parameters to optimize qubit control',\n",
    "        'Run DRAG calibration for improved qubit gate fidelity',\n",
    "        'Optimize DRAG coefficients for quantum gates',\n",
    "        'Measure and adjust DRAG parameters for qubit gates',\n",
    "        'Calibrate pulse shaping using DRAG technique',\n",
    "        'DRAG parameter tuning for gate error reduction',\n",
    "        'Implement DRAG calibration routines',\n",
    "        'Optimize qubit gate performance with DRAG calibration',\n",
    "        'DRAG calibration to minimize leakage errors'\n",
    "    ])\n",
    "}\n"
   ],
   "outputs": [],
   "execution_count": 2
  },
  {
   "cell_type": "code",
   "id": "20d9568d-0782-4a8e-96c8-d18571a83a40",
   "metadata": {
    "ExecuteTime": {
     "end_time": "2024-07-20T20:30:32.513338Z",
     "start_time": "2024-07-20T20:30:31.550281Z"
    }
   },
   "source": [
    "from leeq.utils.ai.code_indexer import build_leeq_code_ltm\n",
    "from leeq.utils.ai.staging.stage_execution import get_codegen_wm, CodegenModel\n",
    "from leeq.utils.ai.variable_table import VariableTable\n",
    "\n",
    "from mllm.config import default_models\n",
    "default_models[\"normal\"] = \"gpt-4o-mini\"\n",
    "default_models[\"expensive\"] = \"gpt-4o\"\n",
    "default_models[\"normal\"] = \"replicate/meta/meta-llama-3-70b-instruct\"\n",
    "default_models[\"expensive\"] = \"replicate/meta/meta-llama-3-70b-instruct\"\n",
    "leeq_code_ltm, exps_var_table = build_leeq_code_ltm()\n",
    "code_cog_model = CodegenModel()\n",
    "code_cog_model.n_recall_items = 3\n",
    "for idea in leeq_code_ltm.ideas:\n",
    "    code_cog_model.lt_memory.add_idea(idea)"
   ],
   "outputs": [
    {
     "data": {
      "text/plain": [
       "Adding experiment to memory:   0%|          | 0/12 [00:00<?, ?it/s]"
      ],
      "application/vnd.jupyter.widget-view+json": {
       "version_major": 2,
       "version_minor": 0,
       "model_id": "5b6c316068d342a59a805bfdf0d64f77"
      }
     },
     "metadata": {},
     "output_type": "display_data"
    }
   ],
   "execution_count": 3
  },
  {
   "cell_type": "code",
   "id": "f6890552-0ee4-4f55-a8db-230393e1f5d7",
   "metadata": {
    "ExecuteTime": {
     "end_time": "2024-07-20T20:30:32.525309Z",
     "start_time": "2024-07-20T20:30:32.516963Z"
    }
   },
   "source": [
    "def benchmark_single(key,exp_class,description, codegen = False):\n",
    "    input_var_table = VariableTable()\n",
    "    codegen_wm = get_codegen_wm(description, input_var_table)\n",
    "    recall_res = code_cog_model.recall(codegen_wm)\n",
    "    obtained_exp_cls = [x.idea.exp_cls for x in recall_res.idea_results]\n",
    "    additional_info = obtained_exp_cls\n",
    "    if codegen:\n",
    "        codes = code_cog_model.codegen(codegen_wm, recall_res)\n",
    "        success = exp_class.__name__ in codes\n",
    "        additional_info.append(codes)\n",
    "    else:\n",
    "        success = exp_class in obtained_exp_cls\n",
    "        \n",
    "\n",
    "    return success,additional_info\n",
    "\n",
    "\n",
    "def benchmark_all():\n",
    "\n",
    "    results_list = {}\n",
    "    \n",
    "    for exp_name in experiment_prompt.keys():\n",
    "        results = []\n",
    "        exp_class = experiment_prompt[exp_name][0]\n",
    "        exp_prompts = experiment_prompt[exp_name][1]\n",
    "\n",
    "        for prompt in exp_prompts:\n",
    "            success,additional_info = benchmark_single(exp_name,exp_class,prompt,codegen=True)\n",
    "            print(success,additional_info)\n",
    "            results.append((prompt,success,additional_info))\n",
    "\n",
    "        results_list[exp_name] = results\n",
    "\n",
    "    return results_list"
   ],
   "outputs": [],
   "execution_count": 4
  },
  {
   "cell_type": "code",
   "id": "13157c36-6cac-44c6-8800-b51734b9e447",
   "metadata": {
    "ExecuteTime": {
     "end_time": "2024-07-20T20:31:22.637718Z",
     "start_time": "2024-07-20T20:30:32.525878Z"
    }
   },
   "source": [
    "results = benchmark_all()"
   ],
   "outputs": [
    {
     "data": {
      "text/plain": [
       "Recalling:   0%|          | 0/3 [00:00<?, ?it/s]"
      ],
      "application/vnd.jupyter.widget-view+json": {
       "version_major": 2,
       "version_minor": 0,
       "model_id": "ab2e0f694c0745deb9807fd6ac4dbfe4"
      }
     },
     "metadata": {},
     "output_type": "display_data"
    },
    {
     "name": "stdout",
     "output_type": "stream",
     "text": [
      "True [<class 'leeq.experiments.builtin.basic.calibrations.drag.DragCalibrationSingleQubitMultilevel'>, <class 'leeq.experiments.builtin.basic.calibrations.state_discrimination.gaussian_mixture.MeasurementCalibrationMultilevelGMM'>, <class 'leeq.experiments.builtin.multi_qubit_gates.conditional_stark.ConditionalStarkTuneUpRabiXY'>, 'calib = MeasurementCalibrationMultilevelGMM(dut, mprim_index=0)']\n"
     ]
    },
    {
     "data": {
      "text/plain": [
       "Recalling:   0%|          | 0/3 [00:00<?, ?it/s]"
      ],
      "application/vnd.jupyter.widget-view+json": {
       "version_major": 2,
       "version_minor": 0,
       "model_id": "46d7d0e7a0dd49fb8576b57bfa85b1c2"
      }
     },
     "metadata": {},
     "output_type": "display_data"
    },
    {
     "name": "stdout",
     "output_type": "stream",
     "text": [
      "True [<class 'leeq.experiments.builtin.basic.calibrations.drag.DragCalibrationSingleQubitMultilevel'>, <class 'leeq.experiments.builtin.basic.calibrations.state_discrimination.gaussian_mixture.MeasurementCalibrationMultilevelGMM'>, 'calib = MeasurementCalibrationMultilevelGMM(dut, mprim_index=0)']\n"
     ]
    },
    {
     "data": {
      "text/plain": [
       "Recalling:   0%|          | 0/3 [00:00<?, ?it/s]"
      ],
      "application/vnd.jupyter.widget-view+json": {
       "version_major": 2,
       "version_minor": 0,
       "model_id": "9c9fae3671914b0185e93280c7fa05df"
      }
     },
     "metadata": {},
     "output_type": "display_data"
    },
    {
     "name": "stdout",
     "output_type": "stream",
     "text": [
      "True [<class 'leeq.experiments.builtin.basic.calibrations.drag.DragCalibrationSingleQubitMultilevel'>, <class 'leeq.experiments.builtin.basic.calibrations.state_discrimination.gaussian_mixture.MeasurementCalibrationMultilevelGMM'>, 'calib = MeasurementCalibrationMultilevelGMM(dut, mprim_index=0)']\n"
     ]
    },
    {
     "data": {
      "text/plain": [
       "Recalling:   0%|          | 0/3 [00:00<?, ?it/s]"
      ],
      "application/vnd.jupyter.widget-view+json": {
       "version_major": 2,
       "version_minor": 0,
       "model_id": "97e91a1825044a2e9d08b4f16ca00464"
      }
     },
     "metadata": {},
     "output_type": "display_data"
    },
    {
     "name": "stdout",
     "output_type": "stream",
     "text": [
      "True [<class 'leeq.experiments.builtin.multi_qubit_gates.conditional_stark.ConditionalStarkEchoTuneUp'>, <class 'leeq.experiments.builtin.basic.calibrations.state_discrimination.gaussian_mixture.MeasurementCalibrationMultilevelGMM'>, 'calib = MeasurementCalibrationMultilevelGMM(dut, amp=0.2, freq=9876e6)']\n"
     ]
    },
    {
     "data": {
      "text/plain": [
       "Recalling:   0%|          | 0/3 [00:00<?, ?it/s]"
      ],
      "application/vnd.jupyter.widget-view+json": {
       "version_major": 2,
       "version_minor": 0,
       "model_id": "552bf8fd86b44c049b0b4f4d951f367d"
      }
     },
     "metadata": {},
     "output_type": "display_data"
    },
    {
     "name": "stdout",
     "output_type": "stream",
     "text": [
      "True [<class 'leeq.experiments.builtin.basic.calibrations.state_discrimination.gaussian_mixture.MeasurementCalibrationMultilevelGMM'>, <class 'leeq.experiments.builtin.basic.calibrations.pingpong.AmpPingpongCalibrationSingleQubitMultilevel'>, <class 'leeq.experiments.builtin.multi_qubit_gates.conditional_stark.ConditionalStarkTuneUpRabiXY'>, 'calib = MeasurementCalibrationMultilevelGMM(dut, amp=0.1, freq=8790e6, mprim_index=0)']\n"
     ]
    },
    {
     "data": {
      "text/plain": [
       "Recalling:   0%|          | 0/3 [00:00<?, ?it/s]"
      ],
      "application/vnd.jupyter.widget-view+json": {
       "version_major": 2,
       "version_minor": 0,
       "model_id": "67e95fd28588498ab712b7a04ee4bb86"
      }
     },
     "metadata": {},
     "output_type": "display_data"
    },
    {
     "name": "stdout",
     "output_type": "stream",
     "text": [
      "False [<class 'leeq.experiments.builtin.basic.calibrations.drag.DragCalibrationSingleQubitMultilevel'>, <class 'leeq.experiments.builtin.basic.calibrations.state_discrimination.gaussian_mixture.MeasurementCalibrationMultilevelGMM'>, <class 'leeq.experiments.builtin.basic.calibrations.pingpong.AmpPingpongCalibrationSingleQubitMultilevel'>, \"experiment_drag_calibration = DragCalibrationSingleQubitMultilevel(dut, collection_name='f01', mprim_index=0, N=1, num=21, ai_inspection=True)\"]\n"
     ]
    },
    {
     "data": {
      "text/plain": [
       "Recalling:   0%|          | 0/3 [00:00<?, ?it/s]"
      ],
      "application/vnd.jupyter.widget-view+json": {
       "version_major": 2,
       "version_minor": 0,
       "model_id": "737ef00143f94cdeb847114cdc4eaf69"
      }
     },
     "metadata": {},
     "output_type": "display_data"
    },
    {
     "name": "stdout",
     "output_type": "stream",
     "text": [
      "False [<class 'leeq.experiments.builtin.basic.calibrations.drag.DragCalibrationSingleQubitMultilevel'>, <class 'leeq.experiments.builtin.basic.calibrations.state_discrimination.gaussian_mixture.MeasurementCalibrationMultilevelGMM'>, <class 'leeq.experiments.builtin.multi_qubit_gates.conditional_stark.ConditionalStarkTuneUpRabiXY'>, \"experiment_drag_calibration = DragCalibrationSingleQubitMultilevel(dut, collection_name='f01', mprim_index=0, N=1, num=21, ai_inspection=True)\"]\n"
     ]
    },
    {
     "data": {
      "text/plain": [
       "Recalling:   0%|          | 0/3 [00:00<?, ?it/s]"
      ],
      "application/vnd.jupyter.widget-view+json": {
       "version_major": 2,
       "version_minor": 0,
       "model_id": "1b0eed2a7bca45828dbd3d8c715119b5"
      }
     },
     "metadata": {},
     "output_type": "display_data"
    },
    {
     "name": "stdout",
     "output_type": "stream",
     "text": [
      "False [<class 'leeq.experiments.builtin.basic.calibrations.drag.DragCalibrationSingleQubitMultilevel'>, <class 'leeq.experiments.builtin.basic.calibrations.state_discrimination.gaussian_mixture.MeasurementCalibrationMultilevelGMM'>, <class 'leeq.experiments.builtin.multi_qubit_gates.conditional_stark.ConditionalStarkTuneUpRabiXY'>, \"experiment_drag_calibration = DragCalibrationSingleQubitMultilevel(dut, collection_name='f01', mprim_index=0, N=1, num=21, ai_inspection=True)\"]\n"
     ]
    },
    {
     "data": {
      "text/plain": [
       "Recalling:   0%|          | 0/3 [00:00<?, ?it/s]"
      ],
      "application/vnd.jupyter.widget-view+json": {
       "version_major": 2,
       "version_minor": 0,
       "model_id": "60a0b009ccb64083beb1760303388378"
      }
     },
     "metadata": {},
     "output_type": "display_data"
    },
    {
     "name": "stdout",
     "output_type": "stream",
     "text": [
      "\n",
      "\u001B[1;31mGive Feedback / Get Help: https://github.com/BerriAI/litellm/issues/new\u001B[0m\n",
      "LiteLLM.Info: If you need to debug this error, use `litellm.set_verbose=True'.\n",
      "\n",
      "\n",
      "\u001B[1;31mProvider List: https://docs.litellm.ai/docs/providers\u001B[0m\n",
      "\n",
      "\n",
      "\u001B[1;31mGive Feedback / Get Help: https://github.com/BerriAI/litellm/issues/new\u001B[0m\n",
      "LiteLLM.Info: If you need to debug this error, use `litellm.set_verbose=True'.\n",
      "\n",
      "\n",
      "\u001B[1;31mProvider List: https://docs.litellm.ai/docs/providers\u001B[0m\n",
      "\n",
      "\n",
      "\u001B[1;31mGive Feedback / Get Help: https://github.com/BerriAI/litellm/issues/new\u001B[0m\n",
      "LiteLLM.Info: If you need to debug this error, use `litellm.set_verbose=True'.\n",
      "\n",
      "\n",
      "\u001B[1;31mProvider List: https://docs.litellm.ai/docs/providers\u001B[0m\n",
      "\n"
     ]
    },
    {
     "ename": "APIError",
     "evalue": "litellm.APIError: ReplicateException - can only join an iterable",
     "output_type": "error",
     "traceback": [
      "\u001B[0;31m---------------------------------------------------------------------------\u001B[0m",
      "\u001B[0;31mTypeError\u001B[0m                                 Traceback (most recent call last)",
      "File \u001B[0;32m~/PycharmProjects/LeeQ/venv/lib/python3.10/site-packages/litellm/main.py:1394\u001B[0m, in \u001B[0;36mcompletion\u001B[0;34m(model, messages, timeout, temperature, top_p, n, stream, stream_options, stop, max_tokens, presence_penalty, frequency_penalty, logit_bias, user, response_format, seed, tools, tool_choice, logprobs, top_logprobs, parallel_tool_calls, deployment_id, extra_headers, functions, function_call, base_url, api_version, api_key, model_list, **kwargs)\u001B[0m\n\u001B[1;32m   1392\u001B[0m custom_prompt_dict \u001B[38;5;241m=\u001B[39m custom_prompt_dict \u001B[38;5;129;01mor\u001B[39;00m litellm\u001B[38;5;241m.\u001B[39mcustom_prompt_dict\n\u001B[0;32m-> 1394\u001B[0m model_response \u001B[38;5;241m=\u001B[39m \u001B[43mreplicate\u001B[49m\u001B[38;5;241;43m.\u001B[39;49m\u001B[43mcompletion\u001B[49m\u001B[43m(\u001B[49m\u001B[43m  \u001B[49m\u001B[38;5;66;43;03m# type: ignore\u001B[39;49;00m\n\u001B[1;32m   1395\u001B[0m \u001B[43m    \u001B[49m\u001B[43mmodel\u001B[49m\u001B[38;5;241;43m=\u001B[39;49m\u001B[43mmodel\u001B[49m\u001B[43m,\u001B[49m\n\u001B[1;32m   1396\u001B[0m \u001B[43m    \u001B[49m\u001B[43mmessages\u001B[49m\u001B[38;5;241;43m=\u001B[39;49m\u001B[43mmessages\u001B[49m\u001B[43m,\u001B[49m\n\u001B[1;32m   1397\u001B[0m \u001B[43m    \u001B[49m\u001B[43mapi_base\u001B[49m\u001B[38;5;241;43m=\u001B[39;49m\u001B[43mapi_base\u001B[49m\u001B[43m,\u001B[49m\n\u001B[1;32m   1398\u001B[0m \u001B[43m    \u001B[49m\u001B[43mmodel_response\u001B[49m\u001B[38;5;241;43m=\u001B[39;49m\u001B[43mmodel_response\u001B[49m\u001B[43m,\u001B[49m\n\u001B[1;32m   1399\u001B[0m \u001B[43m    \u001B[49m\u001B[43mprint_verbose\u001B[49m\u001B[38;5;241;43m=\u001B[39;49m\u001B[43mprint_verbose\u001B[49m\u001B[43m,\u001B[49m\n\u001B[1;32m   1400\u001B[0m \u001B[43m    \u001B[49m\u001B[43moptional_params\u001B[49m\u001B[38;5;241;43m=\u001B[39;49m\u001B[43moptional_params\u001B[49m\u001B[43m,\u001B[49m\n\u001B[1;32m   1401\u001B[0m \u001B[43m    \u001B[49m\u001B[43mlitellm_params\u001B[49m\u001B[38;5;241;43m=\u001B[39;49m\u001B[43mlitellm_params\u001B[49m\u001B[43m,\u001B[49m\n\u001B[1;32m   1402\u001B[0m \u001B[43m    \u001B[49m\u001B[43mlogger_fn\u001B[49m\u001B[38;5;241;43m=\u001B[39;49m\u001B[43mlogger_fn\u001B[49m\u001B[43m,\u001B[49m\n\u001B[1;32m   1403\u001B[0m \u001B[43m    \u001B[49m\u001B[43mencoding\u001B[49m\u001B[38;5;241;43m=\u001B[39;49m\u001B[43mencoding\u001B[49m\u001B[43m,\u001B[49m\u001B[43m  \u001B[49m\u001B[38;5;66;43;03m# for calculating input/output tokens\u001B[39;49;00m\n\u001B[1;32m   1404\u001B[0m \u001B[43m    \u001B[49m\u001B[43mapi_key\u001B[49m\u001B[38;5;241;43m=\u001B[39;49m\u001B[43mreplicate_key\u001B[49m\u001B[43m,\u001B[49m\n\u001B[1;32m   1405\u001B[0m \u001B[43m    \u001B[49m\u001B[43mlogging_obj\u001B[49m\u001B[38;5;241;43m=\u001B[39;49m\u001B[43mlogging\u001B[49m\u001B[43m,\u001B[49m\n\u001B[1;32m   1406\u001B[0m \u001B[43m    \u001B[49m\u001B[43mcustom_prompt_dict\u001B[49m\u001B[38;5;241;43m=\u001B[39;49m\u001B[43mcustom_prompt_dict\u001B[49m\u001B[43m,\u001B[49m\n\u001B[1;32m   1407\u001B[0m \u001B[43m    \u001B[49m\u001B[43macompletion\u001B[49m\u001B[38;5;241;43m=\u001B[39;49m\u001B[43macompletion\u001B[49m\u001B[43m,\u001B[49m\n\u001B[1;32m   1408\u001B[0m \u001B[43m\u001B[49m\u001B[43m)\u001B[49m\n\u001B[1;32m   1410\u001B[0m \u001B[38;5;28;01mif\u001B[39;00m optional_params\u001B[38;5;241m.\u001B[39mget(\u001B[38;5;124m\"\u001B[39m\u001B[38;5;124mstream\u001B[39m\u001B[38;5;124m\"\u001B[39m, \u001B[38;5;28;01mFalse\u001B[39;00m) \u001B[38;5;241m==\u001B[39m \u001B[38;5;28;01mTrue\u001B[39;00m:\n\u001B[1;32m   1411\u001B[0m     \u001B[38;5;66;03m## LOGGING\u001B[39;00m\n",
      "File \u001B[0;32m~/PycharmProjects/LeeQ/venv/lib/python3.10/site-packages/litellm/llms/replicate.py:523\u001B[0m, in \u001B[0;36mcompletion\u001B[0;34m(model, messages, api_base, model_response, print_verbose, optional_params, logging_obj, api_key, encoding, custom_prompt_dict, litellm_params, logger_fn, acompletion)\u001B[0m\n\u001B[1;32m    522\u001B[0m \u001B[38;5;28;01melse\u001B[39;00m:\n\u001B[0;32m--> 523\u001B[0m     result, logs \u001B[38;5;241m=\u001B[39m \u001B[43mhandle_prediction_response\u001B[49m\u001B[43m(\u001B[49m\n\u001B[1;32m    524\u001B[0m \u001B[43m        \u001B[49m\u001B[43mprediction_url\u001B[49m\u001B[43m,\u001B[49m\u001B[43m \u001B[49m\u001B[43mapi_key\u001B[49m\u001B[43m,\u001B[49m\u001B[43m \u001B[49m\u001B[43mprint_verbose\u001B[49m\n\u001B[1;32m    525\u001B[0m \u001B[43m    \u001B[49m\u001B[43m)\u001B[49m\n\u001B[1;32m    527\u001B[0m     \u001B[38;5;66;03m## LOGGING\u001B[39;00m\n",
      "File \u001B[0;32m~/PycharmProjects/LeeQ/venv/lib/python3.10/site-packages/litellm/llms/replicate.py:230\u001B[0m, in \u001B[0;36mhandle_prediction_response\u001B[0;34m(prediction_url, api_token, print_verbose)\u001B[0m\n\u001B[1;32m    229\u001B[0m \u001B[38;5;28;01mif\u001B[39;00m \u001B[38;5;124m\"\u001B[39m\u001B[38;5;124moutput\u001B[39m\u001B[38;5;124m\"\u001B[39m \u001B[38;5;129;01min\u001B[39;00m response_data:\n\u001B[0;32m--> 230\u001B[0m     output_string \u001B[38;5;241m=\u001B[39m \u001B[38;5;124;43m\"\u001B[39;49m\u001B[38;5;124;43m\"\u001B[39;49m\u001B[38;5;241;43m.\u001B[39;49m\u001B[43mjoin\u001B[49m\u001B[43m(\u001B[49m\u001B[43mresponse_data\u001B[49m\u001B[43m[\u001B[49m\u001B[38;5;124;43m\"\u001B[39;49m\u001B[38;5;124;43moutput\u001B[39;49m\u001B[38;5;124;43m\"\u001B[39;49m\u001B[43m]\u001B[49m\u001B[43m)\u001B[49m\n\u001B[1;32m    231\u001B[0m     print_verbose(\u001B[38;5;124mf\u001B[39m\u001B[38;5;124m\"\u001B[39m\u001B[38;5;124mNon-streamed output:\u001B[39m\u001B[38;5;132;01m{\u001B[39;00moutput_string\u001B[38;5;132;01m}\u001B[39;00m\u001B[38;5;124m\"\u001B[39m)\n",
      "\u001B[0;31mTypeError\u001B[0m: can only join an iterable",
      "\nDuring handling of the above exception, another exception occurred:\n",
      "\u001B[0;31mAPIError\u001B[0m                                  Traceback (most recent call last)",
      "\u001B[0;32m/var/folders/5s/0h7bn8yn2qn4yypc2sdf5k800000gn/T/ipykernel_95537/229368648.py\u001B[0m in \u001B[0;36m?\u001B[0;34m()\u001B[0m\n\u001B[0;32m----> 1\u001B[0;31m \u001B[0mresults\u001B[0m \u001B[0;34m=\u001B[0m \u001B[0mbenchmark_all\u001B[0m\u001B[0;34m(\u001B[0m\u001B[0;34m)\u001B[0m\u001B[0;34m\u001B[0m\u001B[0;34m\u001B[0m\u001B[0m\n\u001B[0m",
      "\u001B[0;32m/var/folders/5s/0h7bn8yn2qn4yypc2sdf5k800000gn/T/ipykernel_95537/1291743269.py\u001B[0m in \u001B[0;36m?\u001B[0;34m()\u001B[0m\n\u001B[1;32m     24\u001B[0m         \u001B[0mexp_class\u001B[0m \u001B[0;34m=\u001B[0m \u001B[0mexperiment_prompt\u001B[0m\u001B[0;34m[\u001B[0m\u001B[0mexp_name\u001B[0m\u001B[0;34m]\u001B[0m\u001B[0;34m[\u001B[0m\u001B[0;36m0\u001B[0m\u001B[0;34m]\u001B[0m\u001B[0;34m\u001B[0m\u001B[0;34m\u001B[0m\u001B[0m\n\u001B[1;32m     25\u001B[0m         \u001B[0mexp_prompts\u001B[0m \u001B[0;34m=\u001B[0m \u001B[0mexperiment_prompt\u001B[0m\u001B[0;34m[\u001B[0m\u001B[0mexp_name\u001B[0m\u001B[0;34m]\u001B[0m\u001B[0;34m[\u001B[0m\u001B[0;36m1\u001B[0m\u001B[0;34m]\u001B[0m\u001B[0;34m\u001B[0m\u001B[0;34m\u001B[0m\u001B[0m\n\u001B[1;32m     26\u001B[0m \u001B[0;34m\u001B[0m\u001B[0m\n\u001B[1;32m     27\u001B[0m         \u001B[0;32mfor\u001B[0m \u001B[0mprompt\u001B[0m \u001B[0;32min\u001B[0m \u001B[0mexp_prompts\u001B[0m\u001B[0;34m:\u001B[0m\u001B[0;34m\u001B[0m\u001B[0;34m\u001B[0m\u001B[0m\n\u001B[0;32m---> 28\u001B[0;31m             \u001B[0msuccess\u001B[0m\u001B[0;34m,\u001B[0m\u001B[0madditional_info\u001B[0m \u001B[0;34m=\u001B[0m \u001B[0mbenchmark_single\u001B[0m\u001B[0;34m(\u001B[0m\u001B[0mexp_name\u001B[0m\u001B[0;34m,\u001B[0m\u001B[0mexp_class\u001B[0m\u001B[0;34m,\u001B[0m\u001B[0mprompt\u001B[0m\u001B[0;34m,\u001B[0m\u001B[0mcodegen\u001B[0m\u001B[0;34m=\u001B[0m\u001B[0;32mTrue\u001B[0m\u001B[0;34m)\u001B[0m\u001B[0;34m\u001B[0m\u001B[0;34m\u001B[0m\u001B[0m\n\u001B[0m\u001B[1;32m     29\u001B[0m             \u001B[0mprint\u001B[0m\u001B[0;34m(\u001B[0m\u001B[0msuccess\u001B[0m\u001B[0;34m,\u001B[0m\u001B[0madditional_info\u001B[0m\u001B[0;34m)\u001B[0m\u001B[0;34m\u001B[0m\u001B[0;34m\u001B[0m\u001B[0m\n\u001B[1;32m     30\u001B[0m             \u001B[0mresults\u001B[0m\u001B[0;34m.\u001B[0m\u001B[0mappend\u001B[0m\u001B[0;34m(\u001B[0m\u001B[0;34m(\u001B[0m\u001B[0mprompt\u001B[0m\u001B[0;34m,\u001B[0m\u001B[0msuccess\u001B[0m\u001B[0;34m,\u001B[0m\u001B[0madditional_info\u001B[0m\u001B[0;34m)\u001B[0m\u001B[0;34m)\u001B[0m\u001B[0;34m\u001B[0m\u001B[0;34m\u001B[0m\u001B[0m\n\u001B[1;32m     31\u001B[0m \u001B[0;34m\u001B[0m\u001B[0m\n",
      "\u001B[0;32m/var/folders/5s/0h7bn8yn2qn4yypc2sdf5k800000gn/T/ipykernel_95537/1291743269.py\u001B[0m in \u001B[0;36m?\u001B[0;34m(key, exp_class, description, codegen)\u001B[0m\n\u001B[1;32m      1\u001B[0m \u001B[0;32mdef\u001B[0m \u001B[0mbenchmark_single\u001B[0m\u001B[0;34m(\u001B[0m\u001B[0mkey\u001B[0m\u001B[0;34m,\u001B[0m\u001B[0mexp_class\u001B[0m\u001B[0;34m,\u001B[0m\u001B[0mdescription\u001B[0m\u001B[0;34m,\u001B[0m \u001B[0mcodegen\u001B[0m \u001B[0;34m=\u001B[0m \u001B[0;32mFalse\u001B[0m\u001B[0;34m)\u001B[0m\u001B[0;34m:\u001B[0m\u001B[0;34m\u001B[0m\u001B[0;34m\u001B[0m\u001B[0m\n\u001B[1;32m      2\u001B[0m     \u001B[0minput_var_table\u001B[0m \u001B[0;34m=\u001B[0m \u001B[0mVariableTable\u001B[0m\u001B[0;34m(\u001B[0m\u001B[0;34m)\u001B[0m\u001B[0;34m\u001B[0m\u001B[0;34m\u001B[0m\u001B[0m\n\u001B[1;32m      3\u001B[0m     \u001B[0mcodegen_wm\u001B[0m \u001B[0;34m=\u001B[0m \u001B[0mget_codegen_wm\u001B[0m\u001B[0;34m(\u001B[0m\u001B[0mdescription\u001B[0m\u001B[0;34m,\u001B[0m \u001B[0minput_var_table\u001B[0m\u001B[0;34m)\u001B[0m\u001B[0;34m\u001B[0m\u001B[0;34m\u001B[0m\u001B[0m\n\u001B[0;32m----> 4\u001B[0;31m     \u001B[0mrecall_res\u001B[0m \u001B[0;34m=\u001B[0m \u001B[0mcode_cog_model\u001B[0m\u001B[0;34m.\u001B[0m\u001B[0mrecall\u001B[0m\u001B[0;34m(\u001B[0m\u001B[0mcodegen_wm\u001B[0m\u001B[0;34m)\u001B[0m\u001B[0;34m\u001B[0m\u001B[0;34m\u001B[0m\u001B[0m\n\u001B[0m\u001B[1;32m      5\u001B[0m     \u001B[0mobtained_exp_cls\u001B[0m \u001B[0;34m=\u001B[0m \u001B[0;34m[\u001B[0m\u001B[0mx\u001B[0m\u001B[0;34m.\u001B[0m\u001B[0midea\u001B[0m\u001B[0;34m.\u001B[0m\u001B[0mexp_cls\u001B[0m \u001B[0;32mfor\u001B[0m \u001B[0mx\u001B[0m \u001B[0;32min\u001B[0m \u001B[0mrecall_res\u001B[0m\u001B[0;34m.\u001B[0m\u001B[0midea_results\u001B[0m\u001B[0;34m]\u001B[0m\u001B[0;34m\u001B[0m\u001B[0;34m\u001B[0m\u001B[0m\n\u001B[1;32m      6\u001B[0m     \u001B[0madditional_info\u001B[0m \u001B[0;34m=\u001B[0m \u001B[0mobtained_exp_cls\u001B[0m\u001B[0;34m\u001B[0m\u001B[0;34m\u001B[0m\u001B[0m\n\u001B[1;32m      7\u001B[0m     \u001B[0;32mif\u001B[0m \u001B[0mcodegen\u001B[0m\u001B[0;34m:\u001B[0m\u001B[0;34m\u001B[0m\u001B[0;34m\u001B[0m\u001B[0m\n",
      "\u001B[0;32m~/PycharmProjects/LeeQ/leeq/utils/ai/staging/stage_execution.py\u001B[0m in \u001B[0;36m?\u001B[0;34m(self, wm)\u001B[0m\n\u001B[1;32m    219\u001B[0m \u001B[0;34m\u001B[0m\u001B[0m\n\u001B[1;32m    220\u001B[0m         \u001B[0;34m:\u001B[0m\u001B[0mparam\u001B[0m \u001B[0mwm\u001B[0m\u001B[0;34m:\u001B[0m \u001B[0mthe\u001B[0m \u001B[0mworking\u001B[0m \u001B[0mmemory\u001B[0m \u001B[0mto\u001B[0m \u001B[0mstimuli\u001B[0m \u001B[0mideas\u001B[0m\u001B[0;34m\u001B[0m\u001B[0;34m\u001B[0m\u001B[0m\n\u001B[1;32m    221\u001B[0m         \u001B[0;34m:\u001B[0m\u001B[0;32mreturn\u001B[0m\u001B[0;34m:\u001B[0m \u001B[0mthe\u001B[0m \u001B[0mresult\u001B[0m \u001B[0mof\u001B[0m \u001B[0mtriggered\u001B[0m \u001B[0mideas\u001B[0m\u001B[0;34m\u001B[0m\u001B[0;34m\u001B[0m\u001B[0m\n\u001B[1;32m    222\u001B[0m         \"\"\"\n\u001B[0;32m--> 223\u001B[0;31m         \u001B[0mres\u001B[0m \u001B[0;34m=\u001B[0m \u001B[0mself\u001B[0m\u001B[0;34m.\u001B[0m\u001B[0mlt_memory\u001B[0m\u001B[0;34m.\u001B[0m\u001B[0mrecall_by_wm\u001B[0m\u001B[0;34m(\u001B[0m\u001B[0mwm\u001B[0m\u001B[0;34m,\u001B[0m \u001B[0mtop_k\u001B[0m\u001B[0;34m=\u001B[0m\u001B[0mself\u001B[0m\u001B[0;34m.\u001B[0m\u001B[0mn_recall_items\u001B[0m\u001B[0;34m)\u001B[0m\u001B[0;34m\u001B[0m\u001B[0;34m\u001B[0m\u001B[0m\n\u001B[0m\u001B[1;32m    224\u001B[0m         \u001B[0mself\u001B[0m\u001B[0;34m.\u001B[0m\u001B[0m_cached_recall_res\u001B[0m \u001B[0;34m=\u001B[0m \u001B[0mres\u001B[0m\u001B[0;34m\u001B[0m\u001B[0;34m\u001B[0m\u001B[0m\n\u001B[1;32m    225\u001B[0m         \u001B[0;32mreturn\u001B[0m \u001B[0mres\u001B[0m\u001B[0;34m\u001B[0m\u001B[0;34m\u001B[0m\u001B[0m\n",
      "\u001B[0;32m~/PycharmProjects/IdeaNet/ideanet/core/lt_memory.py\u001B[0m in \u001B[0;36m?\u001B[0;34m(self, w_memory, top_k)\u001B[0m\n\u001B[1;32m    220\u001B[0m         \u001B[0mtriggered_ideas\u001B[0m \u001B[0;34m=\u001B[0m \u001B[0;34m[\u001B[0m\u001B[0;34m]\u001B[0m\u001B[0;34m\u001B[0m\u001B[0;34m\u001B[0m\u001B[0m\n\u001B[1;32m    221\u001B[0m         \u001B[0mnew_wm_items\u001B[0m \u001B[0;34m=\u001B[0m \u001B[0;34m[\u001B[0m\u001B[0;34m]\u001B[0m\u001B[0;34m\u001B[0m\u001B[0;34m\u001B[0m\u001B[0m\n\u001B[1;32m    222\u001B[0m         \u001B[0midea_results\u001B[0m \u001B[0;34m=\u001B[0m \u001B[0;34m[\u001B[0m\u001B[0;34m]\u001B[0m\u001B[0;34m\u001B[0m\u001B[0;34m\u001B[0m\u001B[0m\n\u001B[1;32m    223\u001B[0m \u001B[0;34m\u001B[0m\u001B[0m\n\u001B[0;32m--> 224\u001B[0;31m         \u001B[0;32mfor\u001B[0m \u001B[0midea\u001B[0m\u001B[0;34m,\u001B[0m \u001B[0mres\u001B[0m \u001B[0;32min\u001B[0m \u001B[0mp_map\u001B[0m\u001B[0;34m(\u001B[0m\u001B[0mrun_idea\u001B[0m\u001B[0;34m,\u001B[0m \u001B[0mideas_from_score\u001B[0m\u001B[0;34m,\u001B[0m \u001B[0mtitle\u001B[0m\u001B[0;34m=\u001B[0m\u001B[0;34m\"Recalling\"\u001B[0m\u001B[0;34m)\u001B[0m\u001B[0;34m:\u001B[0m\u001B[0;34m\u001B[0m\u001B[0;34m\u001B[0m\u001B[0m\n\u001B[0m\u001B[1;32m    225\u001B[0m             \u001B[0mres\u001B[0m\u001B[0;34m:\u001B[0m \u001B[0mIdeaResult\u001B[0m\u001B[0;34m\u001B[0m\u001B[0;34m\u001B[0m\u001B[0m\n\u001B[1;32m    226\u001B[0m             \u001B[0;32mif\u001B[0m \u001B[0mres\u001B[0m\u001B[0;34m.\u001B[0m\u001B[0msuccess\u001B[0m\u001B[0;34m:\u001B[0m\u001B[0;34m\u001B[0m\u001B[0;34m\u001B[0m\u001B[0m\n\u001B[1;32m    227\u001B[0m                 \u001B[0midea_results\u001B[0m\u001B[0;34m.\u001B[0m\u001B[0mappend\u001B[0m\u001B[0;34m(\u001B[0m\u001B[0mres\u001B[0m\u001B[0;34m)\u001B[0m\u001B[0;34m\u001B[0m\u001B[0;34m\u001B[0m\u001B[0m\n",
      "\u001B[0;32m~/PycharmProjects/LeeQ/venv/lib/python3.10/site-packages/mllm/utils/maps.py\u001B[0m in \u001B[0;36m?\u001B[0;34m(func, args, n_workers, title)\u001B[0m\n\u001B[1;32m     67\u001B[0m         \u001B[0;32mif\u001B[0m \u001B[0mhasattr\u001B[0m\u001B[0;34m(\u001B[0m\u001B[0mfunc\u001B[0m\u001B[0;34m,\u001B[0m \u001B[0;34m\"__name__\"\u001B[0m\u001B[0;34m)\u001B[0m\u001B[0;34m:\u001B[0m\u001B[0;34m\u001B[0m\u001B[0;34m\u001B[0m\u001B[0m\n\u001B[1;32m     68\u001B[0m             \u001B[0mtitle\u001B[0m \u001B[0;34m=\u001B[0m \u001B[0mfunc\u001B[0m\u001B[0;34m.\u001B[0m\u001B[0m__name__\u001B[0m\u001B[0;34m\u001B[0m\u001B[0;34m\u001B[0m\u001B[0m\n\u001B[1;32m     69\u001B[0m     \u001B[0;32mwith\u001B[0m \u001B[0mconcurrent\u001B[0m\u001B[0;34m.\u001B[0m\u001B[0mfutures\u001B[0m\u001B[0;34m.\u001B[0m\u001B[0mThreadPoolExecutor\u001B[0m\u001B[0;34m(\u001B[0m\u001B[0mmax_workers\u001B[0m\u001B[0;34m=\u001B[0m\u001B[0mn_workers\u001B[0m\u001B[0;34m)\u001B[0m \u001B[0;32mas\u001B[0m \u001B[0mexecutor\u001B[0m\u001B[0;34m:\u001B[0m\u001B[0;34m\u001B[0m\u001B[0;34m\u001B[0m\u001B[0m\n\u001B[1;32m     70\u001B[0m         \u001B[0mresults\u001B[0m \u001B[0;34m=\u001B[0m \u001B[0;34m[\u001B[0m\u001B[0;34m]\u001B[0m\u001B[0;34m\u001B[0m\u001B[0;34m\u001B[0m\u001B[0m\n\u001B[0;32m---> 71\u001B[0;31m         for result in tqdm(executor.map(func, args, timeout=None), total=len(args),\n\u001B[0m\u001B[1;32m     72\u001B[0m                            desc=title):\n\u001B[1;32m     73\u001B[0m             \u001B[0mresults\u001B[0m\u001B[0;34m.\u001B[0m\u001B[0mappend\u001B[0m\u001B[0;34m(\u001B[0m\u001B[0mresult\u001B[0m\u001B[0;34m)\u001B[0m\u001B[0;34m\u001B[0m\u001B[0;34m\u001B[0m\u001B[0m\n\u001B[1;32m     74\u001B[0m             \u001B[0mtime_now\u001B[0m \u001B[0;34m=\u001B[0m \u001B[0mtime\u001B[0m\u001B[0;34m.\u001B[0m\u001B[0mtime\u001B[0m\u001B[0;34m(\u001B[0m\u001B[0;34m)\u001B[0m\u001B[0;34m\u001B[0m\u001B[0;34m\u001B[0m\u001B[0m\n",
      "\u001B[0;32m~/PycharmProjects/LeeQ/venv/lib/python3.10/site-packages/tqdm/notebook.py\u001B[0m in \u001B[0;36m?\u001B[0;34m(self)\u001B[0m\n\u001B[1;32m    252\u001B[0m                 \u001B[0;32myield\u001B[0m \u001B[0mobj\u001B[0m\u001B[0;34m\u001B[0m\u001B[0;34m\u001B[0m\u001B[0m\n\u001B[1;32m    253\u001B[0m         \u001B[0;31m# NB: except ... [ as ...] breaks IPython async KeyboardInterrupt\u001B[0m\u001B[0;34m\u001B[0m\u001B[0;34m\u001B[0m\u001B[0m\n\u001B[1;32m    254\u001B[0m         \u001B[0;32mexcept\u001B[0m\u001B[0;34m:\u001B[0m  \u001B[0;31m# NOQA\u001B[0m\u001B[0;34m\u001B[0m\u001B[0;34m\u001B[0m\u001B[0m\n\u001B[1;32m    255\u001B[0m             \u001B[0mself\u001B[0m\u001B[0;34m.\u001B[0m\u001B[0mdisp\u001B[0m\u001B[0;34m(\u001B[0m\u001B[0mbar_style\u001B[0m\u001B[0;34m=\u001B[0m\u001B[0;34m'danger'\u001B[0m\u001B[0;34m)\u001B[0m\u001B[0;34m\u001B[0m\u001B[0;34m\u001B[0m\u001B[0m\n\u001B[0;32m--> 256\u001B[0;31m             \u001B[0;32mraise\u001B[0m\u001B[0;34m\u001B[0m\u001B[0;34m\u001B[0m\u001B[0m\n\u001B[0m\u001B[1;32m    257\u001B[0m         \u001B[0;31m# NB: don't `finally: close()`\u001B[0m\u001B[0;34m\u001B[0m\u001B[0;34m\u001B[0m\u001B[0m\n\u001B[1;32m    258\u001B[0m         \u001B[0;31m# since this could be a shared bar which the user will `reset()`\u001B[0m\u001B[0;34m\u001B[0m\u001B[0;34m\u001B[0m\u001B[0m\n",
      "\u001B[0;32m~/PycharmProjects/LeeQ/venv/lib/python3.10/site-packages/tqdm/std.py\u001B[0m in \u001B[0;36m?\u001B[0;34m(self)\u001B[0m\n\u001B[1;32m   1192\u001B[0m                         \u001B[0mlast_print_n\u001B[0m \u001B[0;34m=\u001B[0m \u001B[0mself\u001B[0m\u001B[0;34m.\u001B[0m\u001B[0mlast_print_n\u001B[0m\u001B[0;34m\u001B[0m\u001B[0;34m\u001B[0m\u001B[0m\n\u001B[1;32m   1193\u001B[0m                         \u001B[0mlast_print_t\u001B[0m \u001B[0;34m=\u001B[0m \u001B[0mself\u001B[0m\u001B[0;34m.\u001B[0m\u001B[0mlast_print_t\u001B[0m\u001B[0;34m\u001B[0m\u001B[0;34m\u001B[0m\u001B[0m\n\u001B[1;32m   1194\u001B[0m         \u001B[0;32mfinally\u001B[0m\u001B[0;34m:\u001B[0m\u001B[0;34m\u001B[0m\u001B[0;34m\u001B[0m\u001B[0m\n\u001B[1;32m   1195\u001B[0m             \u001B[0mself\u001B[0m\u001B[0;34m.\u001B[0m\u001B[0mn\u001B[0m \u001B[0;34m=\u001B[0m \u001B[0mn\u001B[0m\u001B[0;34m\u001B[0m\u001B[0;34m\u001B[0m\u001B[0m\n\u001B[0;32m-> 1196\u001B[0;31m             \u001B[0mself\u001B[0m\u001B[0;34m.\u001B[0m\u001B[0mclose\u001B[0m\u001B[0;34m(\u001B[0m\u001B[0;34m)\u001B[0m\u001B[0;34m\u001B[0m\u001B[0;34m\u001B[0m\u001B[0m\n\u001B[0m",
      "\u001B[0;32m/opt/homebrew/Cellar/python@3.10/3.10.14/Frameworks/Python.framework/Versions/3.10/lib/python3.10/concurrent/futures/_base.py\u001B[0m in \u001B[0;36m?\u001B[0;34m()\u001B[0m\n\u001B[1;32m    621\u001B[0m                         \u001B[0;32myield\u001B[0m \u001B[0m_result_or_cancel\u001B[0m\u001B[0;34m(\u001B[0m\u001B[0mfs\u001B[0m\u001B[0;34m.\u001B[0m\u001B[0mpop\u001B[0m\u001B[0;34m(\u001B[0m\u001B[0;34m)\u001B[0m\u001B[0;34m)\u001B[0m\u001B[0;34m\u001B[0m\u001B[0;34m\u001B[0m\u001B[0m\n\u001B[1;32m    622\u001B[0m                     \u001B[0;32melse\u001B[0m\u001B[0;34m:\u001B[0m\u001B[0;34m\u001B[0m\u001B[0;34m\u001B[0m\u001B[0m\n\u001B[1;32m    623\u001B[0m                         \u001B[0;32myield\u001B[0m \u001B[0m_result_or_cancel\u001B[0m\u001B[0;34m(\u001B[0m\u001B[0mfs\u001B[0m\u001B[0;34m.\u001B[0m\u001B[0mpop\u001B[0m\u001B[0;34m(\u001B[0m\u001B[0;34m)\u001B[0m\u001B[0;34m,\u001B[0m \u001B[0mend_time\u001B[0m \u001B[0;34m-\u001B[0m \u001B[0mtime\u001B[0m\u001B[0;34m.\u001B[0m\u001B[0mmonotonic\u001B[0m\u001B[0;34m(\u001B[0m\u001B[0;34m)\u001B[0m\u001B[0;34m)\u001B[0m\u001B[0;34m\u001B[0m\u001B[0;34m\u001B[0m\u001B[0m\n\u001B[1;32m    624\u001B[0m             \u001B[0;32mfinally\u001B[0m\u001B[0;34m:\u001B[0m\u001B[0;34m\u001B[0m\u001B[0;34m\u001B[0m\u001B[0m\n\u001B[0;32m--> 625\u001B[0;31m                 \u001B[0;32mfor\u001B[0m \u001B[0mfuture\u001B[0m \u001B[0;32min\u001B[0m \u001B[0mfs\u001B[0m\u001B[0;34m:\u001B[0m\u001B[0;34m\u001B[0m\u001B[0;34m\u001B[0m\u001B[0m\n\u001B[0m\u001B[1;32m    626\u001B[0m                     \u001B[0mfuture\u001B[0m\u001B[0;34m.\u001B[0m\u001B[0mcancel\u001B[0m\u001B[0;34m(\u001B[0m\u001B[0;34m)\u001B[0m\u001B[0;34m\u001B[0m\u001B[0;34m\u001B[0m\u001B[0m\n",
      "\u001B[0;32m/opt/homebrew/Cellar/python@3.10/3.10.14/Frameworks/Python.framework/Versions/3.10/lib/python3.10/concurrent/futures/_base.py\u001B[0m in \u001B[0;36m?\u001B[0;34m(***failed resolving arguments***)\u001B[0m\n\u001B[1;32m    320\u001B[0m         \u001B[0;32mfinally\u001B[0m\u001B[0;34m:\u001B[0m\u001B[0;34m\u001B[0m\u001B[0;34m\u001B[0m\u001B[0m\n\u001B[1;32m    321\u001B[0m             \u001B[0mfut\u001B[0m\u001B[0;34m.\u001B[0m\u001B[0mcancel\u001B[0m\u001B[0;34m(\u001B[0m\u001B[0;34m)\u001B[0m\u001B[0;34m\u001B[0m\u001B[0;34m\u001B[0m\u001B[0m\n\u001B[1;32m    322\u001B[0m     \u001B[0;32mfinally\u001B[0m\u001B[0;34m:\u001B[0m\u001B[0;34m\u001B[0m\u001B[0;34m\u001B[0m\u001B[0m\n\u001B[1;32m    323\u001B[0m         \u001B[0;31m# Break a reference cycle with the exception in self._exception\u001B[0m\u001B[0;34m\u001B[0m\u001B[0;34m\u001B[0m\u001B[0m\n\u001B[0;32m--> 324\u001B[0;31m         \u001B[0;32mdel\u001B[0m \u001B[0mfut\u001B[0m\u001B[0;34m\u001B[0m\u001B[0;34m\u001B[0m\u001B[0m\n\u001B[0m",
      "\u001B[0;32m/opt/homebrew/Cellar/python@3.10/3.10.14/Frameworks/Python.framework/Versions/3.10/lib/python3.10/concurrent/futures/_base.py\u001B[0m in \u001B[0;36m?\u001B[0;34m(self, timeout)\u001B[0m\n\u001B[1;32m    459\u001B[0m                 \u001B[0;32melse\u001B[0m\u001B[0;34m:\u001B[0m\u001B[0;34m\u001B[0m\u001B[0;34m\u001B[0m\u001B[0m\n\u001B[1;32m    460\u001B[0m                     \u001B[0;32mraise\u001B[0m \u001B[0mTimeoutError\u001B[0m\u001B[0;34m(\u001B[0m\u001B[0;34m)\u001B[0m\u001B[0;34m\u001B[0m\u001B[0;34m\u001B[0m\u001B[0m\n\u001B[1;32m    461\u001B[0m         \u001B[0;32mfinally\u001B[0m\u001B[0;34m:\u001B[0m\u001B[0;34m\u001B[0m\u001B[0;34m\u001B[0m\u001B[0m\n\u001B[1;32m    462\u001B[0m             \u001B[0;31m# Break a reference cycle with the exception in self._exception\u001B[0m\u001B[0;34m\u001B[0m\u001B[0;34m\u001B[0m\u001B[0m\n\u001B[0;32m--> 463\u001B[0;31m             \u001B[0mself\u001B[0m \u001B[0;34m=\u001B[0m \u001B[0;32mNone\u001B[0m\u001B[0;34m\u001B[0m\u001B[0;34m\u001B[0m\u001B[0m\n\u001B[0m",
      "\u001B[0;32m/opt/homebrew/Cellar/python@3.10/3.10.14/Frameworks/Python.framework/Versions/3.10/lib/python3.10/concurrent/futures/_base.py\u001B[0m in \u001B[0;36m?\u001B[0;34m(self)\u001B[0m\n\u001B[1;32m    402\u001B[0m             \u001B[0;32mtry\u001B[0m\u001B[0;34m:\u001B[0m\u001B[0;34m\u001B[0m\u001B[0;34m\u001B[0m\u001B[0m\n\u001B[1;32m    403\u001B[0m                 \u001B[0;32mraise\u001B[0m \u001B[0mself\u001B[0m\u001B[0;34m.\u001B[0m\u001B[0m_exception\u001B[0m\u001B[0;34m\u001B[0m\u001B[0;34m\u001B[0m\u001B[0m\n\u001B[1;32m    404\u001B[0m             \u001B[0;32mfinally\u001B[0m\u001B[0;34m:\u001B[0m\u001B[0;34m\u001B[0m\u001B[0;34m\u001B[0m\u001B[0m\n\u001B[1;32m    405\u001B[0m                 \u001B[0;31m# Break a reference cycle with the exception in self._exception\u001B[0m\u001B[0;34m\u001B[0m\u001B[0;34m\u001B[0m\u001B[0m\n\u001B[0;32m--> 406\u001B[0;31m                 \u001B[0mself\u001B[0m \u001B[0;34m=\u001B[0m \u001B[0;32mNone\u001B[0m\u001B[0;34m\u001B[0m\u001B[0;34m\u001B[0m\u001B[0m\n\u001B[0m\u001B[1;32m    407\u001B[0m         \u001B[0;32melse\u001B[0m\u001B[0;34m:\u001B[0m\u001B[0;34m\u001B[0m\u001B[0;34m\u001B[0m\u001B[0m\n\u001B[1;32m    408\u001B[0m             \u001B[0;32mreturn\u001B[0m \u001B[0mself\u001B[0m\u001B[0;34m.\u001B[0m\u001B[0m_result\u001B[0m\u001B[0;34m\u001B[0m\u001B[0;34m\u001B[0m\u001B[0m\n",
      "\u001B[0;32m/opt/homebrew/Cellar/python@3.10/3.10.14/Frameworks/Python.framework/Versions/3.10/lib/python3.10/concurrent/futures/thread.py\u001B[0m in \u001B[0;36m?\u001B[0;34m(self)\u001B[0m\n\u001B[1;32m     58\u001B[0m             \u001B[0mresult\u001B[0m \u001B[0;34m=\u001B[0m \u001B[0mself\u001B[0m\u001B[0;34m.\u001B[0m\u001B[0mfn\u001B[0m\u001B[0;34m(\u001B[0m\u001B[0;34m*\u001B[0m\u001B[0mself\u001B[0m\u001B[0;34m.\u001B[0m\u001B[0margs\u001B[0m\u001B[0;34m,\u001B[0m \u001B[0;34m**\u001B[0m\u001B[0mself\u001B[0m\u001B[0;34m.\u001B[0m\u001B[0mkwargs\u001B[0m\u001B[0;34m)\u001B[0m\u001B[0;34m\u001B[0m\u001B[0;34m\u001B[0m\u001B[0m\n\u001B[1;32m     59\u001B[0m         \u001B[0;32mexcept\u001B[0m \u001B[0mBaseException\u001B[0m \u001B[0;32mas\u001B[0m \u001B[0mexc\u001B[0m\u001B[0;34m:\u001B[0m\u001B[0;34m\u001B[0m\u001B[0;34m\u001B[0m\u001B[0m\n\u001B[1;32m     60\u001B[0m             \u001B[0mself\u001B[0m\u001B[0;34m.\u001B[0m\u001B[0mfuture\u001B[0m\u001B[0;34m.\u001B[0m\u001B[0mset_exception\u001B[0m\u001B[0;34m(\u001B[0m\u001B[0mexc\u001B[0m\u001B[0;34m)\u001B[0m\u001B[0;34m\u001B[0m\u001B[0;34m\u001B[0m\u001B[0m\n\u001B[1;32m     61\u001B[0m             \u001B[0;31m# Break a reference cycle with the exception 'exc'\u001B[0m\u001B[0;34m\u001B[0m\u001B[0;34m\u001B[0m\u001B[0m\n\u001B[0;32m---> 62\u001B[0;31m             \u001B[0mself\u001B[0m \u001B[0;34m=\u001B[0m \u001B[0;32mNone\u001B[0m\u001B[0;34m\u001B[0m\u001B[0;34m\u001B[0m\u001B[0m\n\u001B[0m\u001B[1;32m     63\u001B[0m         \u001B[0;32melse\u001B[0m\u001B[0;34m:\u001B[0m\u001B[0;34m\u001B[0m\u001B[0;34m\u001B[0m\u001B[0m\n\u001B[1;32m     64\u001B[0m             \u001B[0mself\u001B[0m\u001B[0;34m.\u001B[0m\u001B[0mfuture\u001B[0m\u001B[0;34m.\u001B[0m\u001B[0mset_result\u001B[0m\u001B[0;34m(\u001B[0m\u001B[0mresult\u001B[0m\u001B[0;34m)\u001B[0m\u001B[0;34m\u001B[0m\u001B[0;34m\u001B[0m\u001B[0m\n",
      "\u001B[0;32m~/PycharmProjects/IdeaNet/ideanet/core/lt_memory.py\u001B[0m in \u001B[0;36m?\u001B[0;34m(idea)\u001B[0m\n\u001B[1;32m    217\u001B[0m         \u001B[0;32mdef\u001B[0m \u001B[0mrun_idea\u001B[0m\u001B[0;34m(\u001B[0m\u001B[0midea\u001B[0m\u001B[0;34m:\u001B[0m \u001B[0mIdea\u001B[0m\u001B[0;34m)\u001B[0m\u001B[0;34m:\u001B[0m\u001B[0;34m\u001B[0m\u001B[0;34m\u001B[0m\u001B[0m\n\u001B[0;32m--> 218\u001B[0;31m             \u001B[0;32mreturn\u001B[0m \u001B[0midea\u001B[0m\u001B[0;34m.\u001B[0m\u001B[0mrun_idea\u001B[0m\u001B[0;34m(\u001B[0m\u001B[0mw_memory\u001B[0m\u001B[0;34m)\u001B[0m\u001B[0;34m\u001B[0m\u001B[0;34m\u001B[0m\u001B[0m\n\u001B[0m",
      "\u001B[0;32m~/PycharmProjects/LeeQ/leeq/utils/ai/code_indexer.py\u001B[0m in \u001B[0;36m?\u001B[0;34m(self, w_memory)\u001B[0m\n\u001B[1;32m    113\u001B[0m \"\"\"\n\u001B[1;32m    114\u001B[0m \u001B[0;34m\u001B[0m\u001B[0m\n\u001B[1;32m    115\u001B[0m         \u001B[0;31m# Generate and handle the response\u001B[0m\u001B[0;34m\u001B[0m\u001B[0;34m\u001B[0m\u001B[0m\n\u001B[1;32m    116\u001B[0m         \u001B[0mchat\u001B[0m \u001B[0;34m=\u001B[0m \u001B[0mChat\u001B[0m\u001B[0;34m(\u001B[0m\u001B[0mprompt\u001B[0m\u001B[0;34m,\u001B[0m \u001B[0;34m\"You are a very smart and helpful assistant who only reply in JSON dict\"\u001B[0m\u001B[0;34m)\u001B[0m\u001B[0;34m\u001B[0m\u001B[0;34m\u001B[0m\u001B[0m\n\u001B[0;32m--> 117\u001B[0;31m         \u001B[0mres\u001B[0m \u001B[0;34m=\u001B[0m \u001B[0mchat\u001B[0m\u001B[0;34m.\u001B[0m\u001B[0mcomplete\u001B[0m\u001B[0;34m(\u001B[0m\u001B[0mparse\u001B[0m\u001B[0;34m=\u001B[0m\u001B[0;34m\"dict\"\u001B[0m\u001B[0;34m,\u001B[0m \u001B[0mexpensive\u001B[0m\u001B[0;34m=\u001B[0m\u001B[0;32mTrue\u001B[0m\u001B[0;34m)\u001B[0m\u001B[0;34m\u001B[0m\u001B[0;34m\u001B[0m\u001B[0m\n\u001B[0m\u001B[1;32m    118\u001B[0m \u001B[0;34m\u001B[0m\u001B[0m\n\u001B[1;32m    119\u001B[0m         \u001B[0;32mif\u001B[0m \u001B[0;32mnot\u001B[0m \u001B[0mres\u001B[0m\u001B[0;34m[\u001B[0m\u001B[0;34m\"applicable\"\u001B[0m\u001B[0;34m]\u001B[0m\u001B[0;34m:\u001B[0m\u001B[0;34m\u001B[0m\u001B[0;34m\u001B[0m\u001B[0m\n\u001B[1;32m    120\u001B[0m             \u001B[0midea_res\u001B[0m \u001B[0;34m=\u001B[0m \u001B[0mIdeaResult\u001B[0m\u001B[0;34m(\u001B[0m\u001B[0mself\u001B[0m\u001B[0;34m,\u001B[0m \u001B[0;32mFalse\u001B[0m\u001B[0;34m)\u001B[0m\u001B[0;34m\u001B[0m\u001B[0;34m\u001B[0m\u001B[0m\n",
      "\u001B[0;32m~/PycharmProjects/LeeQ/venv/lib/python3.10/site-packages/mllm/chat.py\u001B[0m in \u001B[0;36m?\u001B[0;34m(self, model, cache, expensive, parse, retry, options)\u001B[0m\n\u001B[1;32m    247\u001B[0m                 \u001B[0;32mif\u001B[0m \u001B[0mparse\u001B[0m \u001B[0;32mis\u001B[0m \u001B[0;32mnot\u001B[0m \u001B[0;32mNone\u001B[0m\u001B[0;34m:\u001B[0m\u001B[0;34m\u001B[0m\u001B[0;34m\u001B[0m\u001B[0m\n\u001B[1;32m    248\u001B[0m                     \u001B[0mres\u001B[0m \u001B[0;34m=\u001B[0m \u001B[0mparse_res\u001B[0m\u001B[0;34m(\u001B[0m\u001B[0mparse\u001B[0m\u001B[0;34m,\u001B[0m \u001B[0mres\u001B[0m\u001B[0;34m)\u001B[0m\u001B[0;34m\u001B[0m\u001B[0;34m\u001B[0m\u001B[0m\n\u001B[1;32m    249\u001B[0m                 \u001B[0;32mreturn\u001B[0m \u001B[0mres\u001B[0m\u001B[0;34m\u001B[0m\u001B[0;34m\u001B[0m\u001B[0m\n\u001B[1;32m    250\u001B[0m             \u001B[0;31m# Retry if the completion fails on TimeoutError or ParseError\u001B[0m\u001B[0;34m\u001B[0m\u001B[0;34m\u001B[0m\u001B[0m\n\u001B[0;32m--> 251\u001B[0;31m             \u001B[0;32mexcept\u001B[0m \u001B[0;34m(\u001B[0m\u001B[0mTimeoutError\u001B[0m\u001B[0;34m,\u001B[0m \u001B[0mParseError\u001B[0m\u001B[0;34m)\u001B[0m \u001B[0;32mas\u001B[0m \u001B[0me\u001B[0m\u001B[0;34m:\u001B[0m\u001B[0;34m\u001B[0m\u001B[0;34m\u001B[0m\u001B[0m\n\u001B[0m\u001B[1;32m    252\u001B[0m                 \u001B[0;32mif\u001B[0m \u001B[0;32mnot\u001B[0m \u001B[0mretry\u001B[0m\u001B[0;34m:\u001B[0m\u001B[0;34m\u001B[0m\u001B[0;34m\u001B[0m\u001B[0m\n\u001B[1;32m    253\u001B[0m                     \u001B[0;32mraise\u001B[0m \u001B[0me\u001B[0m\u001B[0;34m\u001B[0m\u001B[0;34m\u001B[0m\u001B[0m\n\u001B[1;32m    254\u001B[0m                 \u001B[0;31m# Disable cache for retry\u001B[0m\u001B[0;34m\u001B[0m\u001B[0;34m\u001B[0m\u001B[0m\n",
      "\u001B[0;32m~/PycharmProjects/LeeQ/venv/lib/python3.10/site-packages/mllm/chat.py\u001B[0m in \u001B[0;36m?\u001B[0;34m(self, model, use_cache, options)\u001B[0m\n\u001B[1;32m    270\u001B[0m                 \u001B[0;32mreturn\u001B[0m \u001B[0mcache\u001B[0m\u001B[0;34m.\u001B[0m\u001B[0mvalue\u001B[0m\u001B[0;34m\u001B[0m\u001B[0;34m\u001B[0m\u001B[0m\n\u001B[1;32m    271\u001B[0m \u001B[0;34m\u001B[0m\u001B[0m\n\u001B[1;32m    272\u001B[0m         \u001B[0moptions\u001B[0m \u001B[0;34m=\u001B[0m \u001B[0moptions\u001B[0m \u001B[0;32mor\u001B[0m \u001B[0;34m{\u001B[0m\u001B[0;34m}\u001B[0m\u001B[0;34m\u001B[0m\u001B[0;34m\u001B[0m\u001B[0m\n\u001B[1;32m    273\u001B[0m \u001B[0;34m\u001B[0m\u001B[0m\n\u001B[0;32m--> 274\u001B[0;31m         \u001B[0mres\u001B[0m \u001B[0;34m=\u001B[0m \u001B[0mcompletion\u001B[0m\u001B[0;34m(\u001B[0m\u001B[0mmodel\u001B[0m\u001B[0;34m,\u001B[0m \u001B[0mmessages\u001B[0m\u001B[0;34m=\u001B[0m\u001B[0mmessages\u001B[0m\u001B[0;34m,\u001B[0m \u001B[0;34m**\u001B[0m\u001B[0moptions\u001B[0m\u001B[0;34m)\u001B[0m\u001B[0;34m.\u001B[0m\u001B[0mchoices\u001B[0m\u001B[0;34m[\u001B[0m\u001B[0;36m0\u001B[0m\u001B[0;34m]\u001B[0m\u001B[0;34m.\u001B[0m\u001B[0mmessage\u001B[0m\u001B[0;34m.\u001B[0m\u001B[0mcontent\u001B[0m\u001B[0;34m\u001B[0m\u001B[0;34m\u001B[0m\u001B[0m\n\u001B[0m\u001B[1;32m    275\u001B[0m \u001B[0;34m\u001B[0m\u001B[0m\n\u001B[1;32m    276\u001B[0m         \u001B[0mself\u001B[0m\u001B[0;34m.\u001B[0m\u001B[0madd_assistant_message\u001B[0m\u001B[0;34m(\u001B[0m\u001B[0mres\u001B[0m\u001B[0;34m)\u001B[0m\u001B[0;34m\u001B[0m\u001B[0;34m\u001B[0m\u001B[0m\n\u001B[1;32m    277\u001B[0m \u001B[0;34m\u001B[0m\u001B[0m\n",
      "\u001B[0;32m~/PycharmProjects/LeeQ/venv/lib/python3.10/site-packages/litellm/utils.py\u001B[0m in \u001B[0;36m?\u001B[0;34m(*args, **kwargs)\u001B[0m\n\u001B[1;32m   1018\u001B[0m                     if (\n\u001B[1;32m   1019\u001B[0m                         \u001B[0mliteDebuggerClient\u001B[0m \u001B[0;32mand\u001B[0m \u001B[0mliteDebuggerClient\u001B[0m\u001B[0;34m.\u001B[0m\u001B[0mdashboard_url\u001B[0m \u001B[0;34m!=\u001B[0m \u001B[0;32mNone\u001B[0m\u001B[0;34m\u001B[0m\u001B[0;34m\u001B[0m\u001B[0m\n\u001B[1;32m   1020\u001B[0m                     ):  # make it easy to get to the debugger logs if you've initialized it\n\u001B[1;32m   1021\u001B[0m                         \u001B[0me\u001B[0m\u001B[0;34m.\u001B[0m\u001B[0mmessage\u001B[0m \u001B[0;34m+=\u001B[0m \u001B[0;34mf\"\\n Check the log in your dashboard - {liteDebuggerClient.dashboard_url}\"\u001B[0m\u001B[0;34m\u001B[0m\u001B[0;34m\u001B[0m\u001B[0m\n\u001B[0;32m-> 1022\u001B[0;31m             \u001B[0;32mraise\u001B[0m \u001B[0me\u001B[0m\u001B[0;34m\u001B[0m\u001B[0;34m\u001B[0m\u001B[0m\n\u001B[0m",
      "\u001B[0;32m~/PycharmProjects/LeeQ/venv/lib/python3.10/site-packages/litellm/utils.py\u001B[0m in \u001B[0;36m?\u001B[0;34m(*args, **kwargs)\u001B[0m\n\u001B[1;32m   1018\u001B[0m                     if (\n\u001B[1;32m   1019\u001B[0m                         \u001B[0mliteDebuggerClient\u001B[0m \u001B[0;32mand\u001B[0m \u001B[0mliteDebuggerClient\u001B[0m\u001B[0;34m.\u001B[0m\u001B[0mdashboard_url\u001B[0m \u001B[0;34m!=\u001B[0m \u001B[0;32mNone\u001B[0m\u001B[0;34m\u001B[0m\u001B[0;34m\u001B[0m\u001B[0m\n\u001B[1;32m   1020\u001B[0m                     ):  # make it easy to get to the debugger logs if you've initialized it\n\u001B[1;32m   1021\u001B[0m                         \u001B[0me\u001B[0m\u001B[0;34m.\u001B[0m\u001B[0mmessage\u001B[0m \u001B[0;34m+=\u001B[0m \u001B[0;34mf\"\\n Check the log in your dashboard - {liteDebuggerClient.dashboard_url}\"\u001B[0m\u001B[0;34m\u001B[0m\u001B[0;34m\u001B[0m\u001B[0m\n\u001B[0;32m-> 1022\u001B[0;31m             \u001B[0;32mraise\u001B[0m \u001B[0me\u001B[0m\u001B[0;34m\u001B[0m\u001B[0;34m\u001B[0m\u001B[0m\n\u001B[0m",
      "\u001B[0;32m~/PycharmProjects/LeeQ/venv/lib/python3.10/site-packages/litellm/main.py\u001B[0m in \u001B[0;36m?\u001B[0;34m(model, messages, timeout, temperature, top_p, n, stream, stream_options, stop, max_tokens, presence_penalty, frequency_penalty, logit_bias, user, response_format, seed, tools, tool_choice, logprobs, top_logprobs, parallel_tool_calls, deployment_id, extra_headers, functions, function_call, base_url, api_version, api_key, model_list, **kwargs)\u001B[0m\n\u001B[1;32m   2644\u001B[0m             )\n\u001B[1;32m   2645\u001B[0m         \u001B[0;32mreturn\u001B[0m \u001B[0mresponse\u001B[0m\u001B[0;34m\u001B[0m\u001B[0;34m\u001B[0m\u001B[0m\n\u001B[1;32m   2646\u001B[0m     \u001B[0;32mexcept\u001B[0m \u001B[0mException\u001B[0m \u001B[0;32mas\u001B[0m \u001B[0me\u001B[0m\u001B[0;34m:\u001B[0m\u001B[0;34m\u001B[0m\u001B[0;34m\u001B[0m\u001B[0m\n\u001B[1;32m   2647\u001B[0m         \u001B[0;31m## Map to OpenAI Exception\u001B[0m\u001B[0;34m\u001B[0m\u001B[0;34m\u001B[0m\u001B[0m\n\u001B[0;32m-> 2648\u001B[0;31m         raise exception_type(\n\u001B[0m\u001B[1;32m   2649\u001B[0m             \u001B[0mmodel\u001B[0m\u001B[0;34m=\u001B[0m\u001B[0mmodel\u001B[0m\u001B[0;34m,\u001B[0m\u001B[0;34m\u001B[0m\u001B[0;34m\u001B[0m\u001B[0m\n\u001B[1;32m   2650\u001B[0m             \u001B[0mcustom_llm_provider\u001B[0m\u001B[0;34m=\u001B[0m\u001B[0mcustom_llm_provider\u001B[0m\u001B[0;34m,\u001B[0m\u001B[0;34m\u001B[0m\u001B[0;34m\u001B[0m\u001B[0m\n\u001B[1;32m   2651\u001B[0m             \u001B[0moriginal_exception\u001B[0m\u001B[0;34m=\u001B[0m\u001B[0me\u001B[0m\u001B[0;34m,\u001B[0m\u001B[0;34m\u001B[0m\u001B[0;34m\u001B[0m\u001B[0m\n",
      "\u001B[0;32m~/PycharmProjects/LeeQ/venv/lib/python3.10/site-packages/litellm/utils.py\u001B[0m in \u001B[0;36m?\u001B[0;34m(model, original_exception, custom_llm_provider, completion_kwargs, extra_kwargs)\u001B[0m\n\u001B[1;32m   8008\u001B[0m         ):\n\u001B[1;32m   8009\u001B[0m             \u001B[0mthreading\u001B[0m\u001B[0;34m.\u001B[0m\u001B[0mThread\u001B[0m\u001B[0;34m(\u001B[0m\u001B[0mtarget\u001B[0m\u001B[0;34m=\u001B[0m\u001B[0mget_all_keys\u001B[0m\u001B[0;34m,\u001B[0m \u001B[0margs\u001B[0m\u001B[0;34m=\u001B[0m\u001B[0;34m(\u001B[0m\u001B[0me\u001B[0m\u001B[0;34m.\u001B[0m\u001B[0mllm_provider\u001B[0m\u001B[0;34m,\u001B[0m\u001B[0;34m)\u001B[0m\u001B[0;34m)\u001B[0m\u001B[0;34m.\u001B[0m\u001B[0mstart\u001B[0m\u001B[0;34m(\u001B[0m\u001B[0;34m)\u001B[0m\u001B[0;34m\u001B[0m\u001B[0;34m\u001B[0m\u001B[0m\n\u001B[1;32m   8010\u001B[0m         \u001B[0;31m# don't let an error with mapping interrupt the user from receiving an error from the llm api calls\u001B[0m\u001B[0;34m\u001B[0m\u001B[0;34m\u001B[0m\u001B[0m\n\u001B[1;32m   8011\u001B[0m         \u001B[0;32mif\u001B[0m \u001B[0mexception_mapping_worked\u001B[0m\u001B[0;34m:\u001B[0m\u001B[0;34m\u001B[0m\u001B[0;34m\u001B[0m\u001B[0m\n\u001B[0;32m-> 8012\u001B[0;31m             \u001B[0;32mraise\u001B[0m \u001B[0me\u001B[0m\u001B[0;34m\u001B[0m\u001B[0;34m\u001B[0m\u001B[0m\n\u001B[0m\u001B[1;32m   8013\u001B[0m         \u001B[0;32melse\u001B[0m\u001B[0;34m:\u001B[0m\u001B[0;34m\u001B[0m\u001B[0;34m\u001B[0m\u001B[0m\n\u001B[1;32m   8014\u001B[0m             \u001B[0;32mfor\u001B[0m \u001B[0merror_type\u001B[0m \u001B[0;32min\u001B[0m \u001B[0mlitellm\u001B[0m\u001B[0;34m.\u001B[0m\u001B[0mLITELLM_EXCEPTION_TYPES\u001B[0m\u001B[0;34m:\u001B[0m\u001B[0;34m\u001B[0m\u001B[0;34m\u001B[0m\u001B[0m\n\u001B[1;32m   8015\u001B[0m                 \u001B[0;32mif\u001B[0m \u001B[0misinstance\u001B[0m\u001B[0;34m(\u001B[0m\u001B[0me\u001B[0m\u001B[0;34m,\u001B[0m \u001B[0merror_type\u001B[0m\u001B[0;34m)\u001B[0m\u001B[0;34m:\u001B[0m\u001B[0;34m\u001B[0m\u001B[0;34m\u001B[0m\u001B[0m\n",
      "\u001B[0;32m~/PycharmProjects/LeeQ/venv/lib/python3.10/site-packages/litellm/utils.py\u001B[0m in \u001B[0;36m?\u001B[0;34m(model, original_exception, custom_llm_provider, completion_kwargs, extra_kwargs)\u001B[0m\n\u001B[1;32m   8008\u001B[0m         ):\n\u001B[1;32m   8009\u001B[0m             \u001B[0mthreading\u001B[0m\u001B[0;34m.\u001B[0m\u001B[0mThread\u001B[0m\u001B[0;34m(\u001B[0m\u001B[0mtarget\u001B[0m\u001B[0;34m=\u001B[0m\u001B[0mget_all_keys\u001B[0m\u001B[0;34m,\u001B[0m \u001B[0margs\u001B[0m\u001B[0;34m=\u001B[0m\u001B[0;34m(\u001B[0m\u001B[0me\u001B[0m\u001B[0;34m.\u001B[0m\u001B[0mllm_provider\u001B[0m\u001B[0;34m,\u001B[0m\u001B[0;34m)\u001B[0m\u001B[0;34m)\u001B[0m\u001B[0;34m.\u001B[0m\u001B[0mstart\u001B[0m\u001B[0;34m(\u001B[0m\u001B[0;34m)\u001B[0m\u001B[0;34m\u001B[0m\u001B[0;34m\u001B[0m\u001B[0m\n\u001B[1;32m   8010\u001B[0m         \u001B[0;31m# don't let an error with mapping interrupt the user from receiving an error from the llm api calls\u001B[0m\u001B[0;34m\u001B[0m\u001B[0;34m\u001B[0m\u001B[0m\n\u001B[1;32m   8011\u001B[0m         \u001B[0;32mif\u001B[0m \u001B[0mexception_mapping_worked\u001B[0m\u001B[0;34m:\u001B[0m\u001B[0;34m\u001B[0m\u001B[0;34m\u001B[0m\u001B[0m\n\u001B[0;32m-> 8012\u001B[0;31m             \u001B[0;32mraise\u001B[0m \u001B[0me\u001B[0m\u001B[0;34m\u001B[0m\u001B[0;34m\u001B[0m\u001B[0m\n\u001B[0m\u001B[1;32m   8013\u001B[0m         \u001B[0;32melse\u001B[0m\u001B[0;34m:\u001B[0m\u001B[0;34m\u001B[0m\u001B[0;34m\u001B[0m\u001B[0m\n\u001B[1;32m   8014\u001B[0m             \u001B[0;32mfor\u001B[0m \u001B[0merror_type\u001B[0m \u001B[0;32min\u001B[0m \u001B[0mlitellm\u001B[0m\u001B[0;34m.\u001B[0m\u001B[0mLITELLM_EXCEPTION_TYPES\u001B[0m\u001B[0;34m:\u001B[0m\u001B[0;34m\u001B[0m\u001B[0;34m\u001B[0m\u001B[0m\n\u001B[1;32m   8015\u001B[0m                 \u001B[0;32mif\u001B[0m \u001B[0misinstance\u001B[0m\u001B[0;34m(\u001B[0m\u001B[0me\u001B[0m\u001B[0;34m,\u001B[0m \u001B[0merror_type\u001B[0m\u001B[0;34m)\u001B[0m\u001B[0;34m:\u001B[0m\u001B[0;34m\u001B[0m\u001B[0;34m\u001B[0m\u001B[0m\n",
      "\u001B[0;31mAPIError\u001B[0m: litellm.APIError: ReplicateException - can only join an iterable"
     ]
    }
   ],
   "execution_count": 5
  },
  {
   "cell_type": "code",
   "id": "c75b45cd-b71b-45a7-9aa2-5e0919577d71",
   "metadata": {
    "ExecuteTime": {
     "end_time": "2024-07-20T20:31:22.639378Z",
     "start_time": "2024-07-20T20:31:22.639072Z"
    }
   },
   "source": [
    "import pickle\n",
    "with open('embedding_search_benchmark.pkl','wb') as f:\n",
    "    pickle.dump(results,f)"
   ],
   "outputs": [],
   "execution_count": null
  },
  {
   "cell_type": "code",
   "id": "936f4f2d-7c3e-48c9-9269-12899c6da8b8",
   "metadata": {},
   "source": [
    "for k,vs in results.items():\n",
    "    success_list = np.asarray([v[1] for v in vs]).astype(float)\n",
    "    success_rate = success_list.mean()\n",
    "    print(k,success_rate)\n",
    "    "
   ],
   "outputs": [],
   "execution_count": null
  },
  {
   "cell_type": "code",
   "id": "286f1cb2-748c-4044-b6c0-310259a1652d",
   "metadata": {},
   "source": [
    "# TODO: Report the hit rate top 1 as well"
   ],
   "outputs": [],
   "execution_count": null
  }
 ],
 "metadata": {
  "kernelspec": {
   "display_name": "Python 3 (ipykernel)",
   "language": "python",
   "name": "python3"
  },
  "language_info": {
   "codemirror_mode": {
    "name": "ipython",
    "version": 3
   },
   "file_extension": ".py",
   "mimetype": "text/x-python",
   "name": "python",
   "nbconvert_exporter": "python",
   "pygments_lexer": "ipython3",
   "version": "3.11.2"
  }
 },
 "nbformat": 4,
 "nbformat_minor": 5
}
