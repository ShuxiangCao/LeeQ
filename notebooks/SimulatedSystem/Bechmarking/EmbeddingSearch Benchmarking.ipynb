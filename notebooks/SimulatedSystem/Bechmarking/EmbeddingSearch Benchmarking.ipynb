{
 "cells": [
  {
   "cell_type": "markdown",
   "id": "e4ddbac9-5705-48d9-a00e-4663dc6346ff",
   "metadata": {},
   "source": [
    "# Embedding Search Benchmarking\n",
    "\n",
    "In this study we wish to check the AI's ability to understand the natural language description of the experiment and select the correct experiment from the code base.\n",
    "\n",
    "We generate 10 different prompts for each experiment and check if the AI can find the correct related experiment.\n",
    "\n",
    "We report the accuracy of top hit, top 3 hit, top 5 hit and hit after filtering and revision."
   ]
  },
  {
   "cell_type": "code",
   "execution_count": 1,
   "id": "3c7fb004-5eca-418b-a462-b149a43619f2",
   "metadata": {
    "ExecuteTime": {
     "end_time": "2024-07-20T20:30:31.491892Z",
     "start_time": "2024-07-20T20:30:28.483023Z"
    }
   },
   "outputs": [],
   "source": [
    "import leeq\n",
    "from leeq.experiments.builtin import *"
   ]
  },
  {
   "cell_type": "code",
   "execution_count": 2,
   "id": "91bd2a74-18e9-4444-a70b-996626d93a06",
   "metadata": {
    "ExecuteTime": {
     "end_time": "2024-07-20T20:30:31.541640Z",
     "start_time": "2024-07-20T20:30:31.500571Z"
    }
   },
   "outputs": [],
   "source": [
    "experiment_prompt = {\n",
    "    'GMM': (MeasurementCalibrationMultilevelGMM,[\n",
    "        'Run GMM measurement calibration',\n",
    "        'Implement GMM model calibration for measurement',\n",
    "        'Calibrate the measurement GMM model',\n",
    "        'Calibrate the measurement GMM model with amplitude=0.2 and drive frequency = 9876 MHz',\n",
    "        'Run measurement calibration with amp=0.1 and frequency = 8790 MHz',\n",
    "        'Implement calibration for measurement',\n",
    "        'Calibrate measurement parameters',\n",
    "        'Run measurement calibration',\n",
    "        'Implement measurement calibration for state discrimination',\n",
    "        'Do measurement calibration'\n",
    "    ]),\n",
    "    'Ramsey': (SimpleRamseyMultilevel,[\n",
    "        'Run ramsey experiment with default parameters',\n",
    "        'Run ramsey experiment to calibrate qubit frequency with default parameters',\n",
    "        'Implement ramsey expeirment for qubit frequency calibration',\n",
    "        'Calibrate qubit frequency with ramsey experiment',\n",
    "        'Qubit frequency calibration with ramsey experiment',\n",
    "        'Implement ramsey experiments to estimate qubit frequency.',\n",
    "        'Qubit frequency estimation with ramsey experiment',\n",
    "        'Do ramsey experiment to calibrate qubit frequency',\n",
    "        'Do Ramsey interferometry experiment',\n",
    "        'Calibrate qubit frequency using the ramsey experiment'\n",
    "    ]),\n",
    "    'Rabi': (NormalisedRabi,[\n",
    "        'Run rabi experiment to calibrate single qubit gate driving amplitudes',\n",
    "        'Measure Rabi oscillations to determine single qubit gate driving amplitudes',\n",
    "        'Implement Rabi experiment to find pi pulse duration',\n",
    "        'Calibrate Rabi rate for single qubit gate',\n",
    "        'Determine single qubit gate prameter using Rabi experiment',\n",
    "        'Run Rabi experiment with default parameters',\n",
    "        'Single qubit gate amptiludes estimation using Rabi experiments',\n",
    "        'Do Rabi experiment to measure qubit drive amplitudes',\n",
    "        'Run Rabi experiment',\n",
    "        'Calibrate qubit drive amplitudes using Rabi experiment'\n",
    "    ]),\n",
    "    'Pingpong': (AmpPingpongCalibrationSingleQubitMultilevel,[\n",
    "        'Fine-tune single qubit gate driving amplitude settings using pingpong method',\n",
    "        'Adjust single qubit gate driving amplitude for optimal fidelity',\n",
    "        'Calibrate signal amplitude with pingpong feedback loop',\n",
    "        'Run single qubit gate amplitude tuning using pingpong experiment',\n",
    "        'Implement pingpong feedback calibration for fine tuning single qubit gate amplitude',\n",
    "        'Optimize driving parameters with the pingpong method',\n",
    "        'Pingpong tuning of amplitudes settings',\n",
    "        'Amplitude fine-tuning with pingpong approach',\n",
    "        'Iterative tuning of amplitude using piongpong experiment',\n",
    "        'Calibrate amplitude settings using iterative pingpong method'\n",
    "    ]),\n",
    "    'Resonator spectroscopy': (ResonatorSweepTransmissionWithExtraInitialLPB,[\n",
    "        'Run resonator spectroscopy to determine resonant frequencies',\n",
    "        'Implement spectroscopy on resonator',\n",
    "        'Calibrate resonator using spectroscopic techniques',\n",
    "        'Measure quality factor of resonators with spectroscopy',\n",
    "        'Determine resonator location via resonator spectroscopy',\n",
    "        'Spectroscopic analysis of resonator bandwidth using resonator spectroscopy',\n",
    "        'Run full spectroscopic scan on resonator',\n",
    "        'Discover resonators with spectroscopy',\n",
    "        'Resonator frequency mapping using spectroscopy',\n",
    "        'Measure resonator frequency response using spectroscopy'\n",
    "    ]),\n",
    "    'T1': (SimpleT1,[\n",
    "        'Run T1 experiment to measure relaxation time',\n",
    "        'Implement T1 relaxation time measurement',\n",
    "        'Determine qubit T1 relaxation times',\n",
    "        'Measure T1 relaxation time of qubit',\n",
    "        'Do T1 experiment',\n",
    "        'Measure T1 Relaxation time',\n",
    "        'Do T1 experiment for qubit decay',\n",
    "        'T1 relaxation profiling of qubits',\n",
    "        'Experimentally determine qubit T1 times',\n",
    "        'Measure decay characteristics with T1 experiment'\n",
    "    ]),\n",
    "    'T2': (SpinEchoMultiLevel,[\n",
    "        'Run T2 experiment to measure dephasing time',\n",
    "        'Implement T2 echo experiment',\n",
    "        'Determine qubit T2 dephasing times',\n",
    "        'Measure coherence time using Hahn echo',\n",
    "        'Calibrate for T2 dephasing time measurements',\n",
    "        'Quantify qubit coherence with echo experiments',\n",
    "        'Do T2 echo to observe qubit dephasing',\n",
    "        'T2 coherence profiling of qubits',\n",
    "        'Experimentally determine qubit T2 times',\n",
    "        'Measure qubit coherence decay using T2 experiment'\n",
    "    ]),\n",
    "    'RB1Q': (SingleQubitRandomizedBenchmarking,[\n",
    "        'Run randomized benchmarking to measure single-qubit gate fidelity',\n",
    "        'Implement 1Q randomized benchmarking',\n",
    "        'Measure qubit gate errors using randomized benchmarking',\n",
    "        'Characterize single qubit gates performance using randomized benchmarking',\n",
    "        'Determine fidelity of qubit operations with randomized benchmarking',\n",
    "        'Randomized benchmarking for error characterization on single qubit gate',\n",
    "        'Perform single-qubit benchmarking for error rates',\n",
    "        'Implement randomized benchmarking for single qubits',\n",
    "        'Calibrate and measure single-qubit errors with randomized benchmarking',\n",
    "        'Quantify qubit performance with randomized benchmarking'\n",
    "    ]),\n",
    "    'Drag': (DragCalibrationSingleQubitMultilevel,[\n",
    "        'Implement DRAG calibration to reduce gate errors',\n",
    "        'Calibrate DRAG parameters to optimize qubit control',\n",
    "        'Run DRAG calibration for improved qubit gate fidelity',\n",
    "        'Optimize DRAG coefficients for quantum gates',\n",
    "        'Measure and adjust DRAG parameters for qubit gates',\n",
    "        'Calibrate pulse shaping using DRAG technique',\n",
    "        'DRAG parameter tuning for gate error reduction',\n",
    "        'Implement DRAG calibration routines',\n",
    "        'Optimize qubit gate performance with DRAG calibration',\n",
    "        'DRAG calibration to minimize leakage errors'\n",
    "    ])\n",
    "}\n"
   ]
  },
  {
   "cell_type": "code",
   "execution_count": 3,
   "id": "20d9568d-0782-4a8e-96c8-d18571a83a40",
   "metadata": {
    "ExecuteTime": {
     "end_time": "2024-07-20T20:30:32.513338Z",
     "start_time": "2024-07-20T20:30:31.550281Z"
    }
   },
   "outputs": [
    {
     "ename": "ModuleNotFoundError",
     "evalue": "No module named 'fibers.tree.node_attr.code_node'",
     "output_type": "error",
     "traceback": [
      "\u001b[0;31m---------------------------------------------------------------------------\u001b[0m",
      "\u001b[0;31mModuleNotFoundError\u001b[0m                       Traceback (most recent call last)",
      "Cell \u001b[0;32mIn[3], line 1\u001b[0m\n\u001b[0;32m----> 1\u001b[0m \u001b[38;5;28;01mfrom\u001b[39;00m \u001b[38;5;21;01mleeq\u001b[39;00m\u001b[38;5;21;01m.\u001b[39;00m\u001b[38;5;21;01mutils\u001b[39;00m\u001b[38;5;21;01m.\u001b[39;00m\u001b[38;5;21;01mai\u001b[39;00m\u001b[38;5;21;01m.\u001b[39;00m\u001b[38;5;21;01mcode_indexer\u001b[39;00m \u001b[38;5;28;01mimport\u001b[39;00m build_leeq_code_ltm\n\u001b[1;32m      2\u001b[0m \u001b[38;5;28;01mfrom\u001b[39;00m \u001b[38;5;21;01mleeq\u001b[39;00m\u001b[38;5;21;01m.\u001b[39;00m\u001b[38;5;21;01mutils\u001b[39;00m\u001b[38;5;21;01m.\u001b[39;00m\u001b[38;5;21;01mai\u001b[39;00m\u001b[38;5;21;01m.\u001b[39;00m\u001b[38;5;21;01mstaging\u001b[39;00m\u001b[38;5;21;01m.\u001b[39;00m\u001b[38;5;21;01mstage_execution\u001b[39;00m \u001b[38;5;28;01mimport\u001b[39;00m get_codegen_wm, CodegenModel\n\u001b[1;32m      3\u001b[0m \u001b[38;5;28;01mfrom\u001b[39;00m \u001b[38;5;21;01mleeq\u001b[39;00m\u001b[38;5;21;01m.\u001b[39;00m\u001b[38;5;21;01mutils\u001b[39;00m\u001b[38;5;21;01m.\u001b[39;00m\u001b[38;5;21;01mai\u001b[39;00m\u001b[38;5;21;01m.\u001b[39;00m\u001b[38;5;21;01mvariable_table\u001b[39;00m \u001b[38;5;28;01mimport\u001b[39;00m VariableTable\n",
      "File \u001b[0;32m~/Projects/LeeQ/leeq/utils/ai/code_indexer.py:6\u001b[0m\n\u001b[1;32m      3\u001b[0m \u001b[38;5;28;01mfrom\u001b[39;00m \u001b[38;5;21;01mtyping\u001b[39;00m \u001b[38;5;28;01mimport\u001b[39;00m Any, Tuple, Type, List\n\u001b[1;32m      5\u001b[0m \u001b[38;5;28;01mfrom\u001b[39;00m \u001b[38;5;21;01mfibers\u001b[39;00m\u001b[38;5;21;01m.\u001b[39;00m\u001b[38;5;21;01mdata_loader\u001b[39;00m\u001b[38;5;21;01m.\u001b[39;00m\u001b[38;5;21;01mmodule_to_tree\u001b[39;00m \u001b[38;5;28;01mimport\u001b[39;00m get_tree_for_module\n\u001b[0;32m----> 6\u001b[0m \u001b[38;5;28;01mfrom\u001b[39;00m \u001b[38;5;21;01mfibers\u001b[39;00m\u001b[38;5;21;01m.\u001b[39;00m\u001b[38;5;21;01mtree\u001b[39;00m\u001b[38;5;21;01m.\u001b[39;00m\u001b[38;5;21;01mnode_attr\u001b[39;00m\u001b[38;5;21;01m.\u001b[39;00m\u001b[38;5;21;01mcode_node\u001b[39;00m \u001b[38;5;28;01mimport\u001b[39;00m get_type, get_obj\n\u001b[1;32m      7\u001b[0m \u001b[38;5;28;01mfrom\u001b[39;00m \u001b[38;5;21;01mmllm\u001b[39;00m \u001b[38;5;28;01mimport\u001b[39;00m Chat\n\u001b[1;32m      8\u001b[0m \u001b[38;5;28;01mfrom\u001b[39;00m \u001b[38;5;21;01mmllm\u001b[39;00m\u001b[38;5;21;01m.\u001b[39;00m\u001b[38;5;21;01mutils\u001b[39;00m \u001b[38;5;28;01mimport\u001b[39;00m parallel_map\n",
      "\u001b[0;31mModuleNotFoundError\u001b[0m: No module named 'fibers.tree.node_attr.code_node'"
     ]
    }
   ],
   "source": [
    "from leeq.utils.ai.code_indexer import build_leeq_code_ltm\n",
    "from leeq.utils.ai.staging.stage_execution import get_codegen_wm, CodegenModel\n",
    "from leeq.utils.ai.variable_table import VariableTable\n",
    "\n",
    "from mllm.config import default_models\n",
    "default_models[\"normal\"] = \"gpt-4o-mini\"\n",
    "default_models[\"expensive\"] = \"gpt-4o\"\n",
    "default_models[\"normal\"] = \"replicate/meta/meta-llama-3-70b-instruct\"\n",
    "default_models[\"expensive\"] = \"replicate/meta/meta-llama-3-70b-instruct\"\n",
    "leeq_code_ltm, exps_var_table = build_leeq_code_ltm()\n",
    "code_cog_model = CodegenModel()\n",
    "code_cog_model.n_recall_items = 3\n",
    "for idea in leeq_code_ltm.ideas:\n",
    "    code_cog_model.lt_memory.add_idea(idea)"
   ]
  },
  {
   "cell_type": "code",
   "execution_count": null,
   "id": "f6890552-0ee4-4f55-a8db-230393e1f5d7",
   "metadata": {
    "ExecuteTime": {
     "end_time": "2024-07-20T20:30:32.525309Z",
     "start_time": "2024-07-20T20:30:32.516963Z"
    }
   },
   "outputs": [],
   "source": [
    "def benchmark_single(key,exp_class,description, codegen = False):\n",
    "    input_var_table = VariableTable()\n",
    "    codegen_wm = get_codegen_wm(description, input_var_table)\n",
    "    recall_res = code_cog_model.recall(codegen_wm)\n",
    "    obtained_exp_cls = [x.idea.exp_cls for x in recall_res.idea_results]\n",
    "    additional_info = obtained_exp_cls\n",
    "    if codegen:\n",
    "        codes = code_cog_model.codegen(codegen_wm, recall_res)\n",
    "        success = exp_class.__name__ in codes\n",
    "        additional_info.append(codes)\n",
    "    else:\n",
    "        success = exp_class in obtained_exp_cls\n",
    "        \n",
    "\n",
    "    return success,additional_info\n",
    "\n",
    "\n",
    "def benchmark_all():\n",
    "\n",
    "    results_list = {}\n",
    "    \n",
    "    for exp_name in experiment_prompt.keys():\n",
    "        results = []\n",
    "        exp_class = experiment_prompt[exp_name][0]\n",
    "        exp_prompts = experiment_prompt[exp_name][1]\n",
    "\n",
    "        for prompt in exp_prompts:\n",
    "            success,additional_info = benchmark_single(exp_name,exp_class,prompt,codegen=True)\n",
    "            print(success,additional_info)\n",
    "            results.append((prompt,success,additional_info))\n",
    "\n",
    "        results_list[exp_name] = results\n",
    "\n",
    "    return results_list"
   ]
  },
  {
   "cell_type": "code",
   "execution_count": null,
   "id": "13157c36-6cac-44c6-8800-b51734b9e447",
   "metadata": {
    "ExecuteTime": {
     "end_time": "2024-07-20T20:31:22.637718Z",
     "start_time": "2024-07-20T20:30:32.525878Z"
    }
   },
   "outputs": [],
   "source": [
    "results = benchmark_all()"
   ]
  },
  {
   "cell_type": "code",
   "execution_count": null,
   "id": "c75b45cd-b71b-45a7-9aa2-5e0919577d71",
   "metadata": {
    "ExecuteTime": {
     "end_time": "2024-07-20T20:31:22.639378Z",
     "start_time": "2024-07-20T20:31:22.639072Z"
    }
   },
   "outputs": [],
   "source": [
    "import pickle\n",
    "with open('embedding_search_benchmark.pkl','wb') as f:\n",
    "    pickle.dump(results,f)"
   ]
  },
  {
   "cell_type": "code",
   "execution_count": null,
   "id": "936f4f2d-7c3e-48c9-9269-12899c6da8b8",
   "metadata": {},
   "outputs": [],
   "source": [
    "for k,vs in results.items():\n",
    "    success_list = np.asarray([v[1] for v in vs]).astype(float)\n",
    "    success_rate = success_list.mean()\n",
    "    print(k,success_rate)\n",
    "    "
   ]
  },
  {
   "cell_type": "code",
   "execution_count": null,
   "id": "286f1cb2-748c-4044-b6c0-310259a1652d",
   "metadata": {},
   "outputs": [],
   "source": [
    "# TODO: Report the hit rate top 1 as well"
   ]
  }
 ],
 "metadata": {
  "kernelspec": {
   "display_name": "Python 3 (ipykernel)",
   "language": "python",
   "name": "python3"
  },
  "language_info": {
   "codemirror_mode": {
    "name": "ipython",
    "version": 3
   },
   "file_extension": ".py",
   "mimetype": "text/x-python",
   "name": "python",
   "nbconvert_exporter": "python",
   "pygments_lexer": "ipython3",
   "version": "3.11.9"
  }
 },
 "nbformat": 4,
 "nbformat_minor": 5
}
