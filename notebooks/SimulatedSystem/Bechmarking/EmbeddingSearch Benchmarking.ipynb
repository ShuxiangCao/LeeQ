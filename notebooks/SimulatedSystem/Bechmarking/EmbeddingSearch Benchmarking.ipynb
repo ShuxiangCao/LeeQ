{
 "cells": [
  {
   "cell_type": "markdown",
   "id": "e4ddbac9-5705-48d9-a00e-4663dc6346ff",
   "metadata": {},
   "source": [
    "# Embedding Search Benchmarking\n",
    "\n",
    "In this study we wish to check the AI's ability to understand the natural language description of the experiment and select the correct experiment from the code base.\n",
    "\n",
    "We generate 10 different prompts for each experiment and check if the AI can find the correct related experiment.\n",
    "\n",
    "We report the accuracy of top hit, top 3 hit, top 5 hit and hit after filtering and revision."
   ]
  },
  {
   "cell_type": "code",
   "execution_count": 3,
   "id": "3c7fb004-5eca-418b-a462-b149a43619f2",
   "metadata": {
    "ExecuteTime": {
     "end_time": "2024-07-20T20:30:31.491892Z",
     "start_time": "2024-07-20T20:30:28.483023Z"
    }
   },
   "outputs": [],
   "source": [
    "from embedding_search_benchmarking import *"
   ]
  },
  {
   "cell_type": "code",
   "execution_count": 4,
   "id": "20d9568d-0782-4a8e-96c8-d18571a83a40",
   "metadata": {
    "ExecuteTime": {
     "end_time": "2024-07-20T20:30:32.513338Z",
     "start_time": "2024-07-20T20:30:31.550281Z"
    }
   },
   "outputs": [],
   "source": [
    "from leeq.utils.ai.code_indexer import build_leeq_code_ltm\n",
    "from leeq.utils.ai.staging.stage_execution import get_codegen_wm, CodegenModel\n",
    "from leeq.utils.ai.variable_table import VariableTable\n",
    "\n",
    "from mllm.config import default_models\n",
    "default_models[\"normal\"] = \"gpt-4o-mini\"\n",
    "default_models[\"expensive\"] = \"gpt-4o\"\n",
    "\n",
    "# default_models[\"normal\"] = \"replicate/meta/meta-llama-3-70b-instruct\"\n",
    "# default_models[\"expensive\"] = \"replicate/meta/meta-llama-3-70b-instruct\"\n",
    "\n"
   ]
  },
  {
   "cell_type": "code",
   "execution_count": 5,
   "id": "13157c36-6cac-44c6-8800-b51734b9e447",
   "metadata": {
    "ExecuteTime": {
     "end_time": "2024-07-20T20:31:22.637718Z",
     "start_time": "2024-07-20T20:30:32.525878Z"
    }
   },
   "outputs": [
    {
     "data": {
      "application/vnd.jupyter.widget-view+json": {
       "model_id": "1891643d5ed54d90812d3cba23c60758",
       "version_major": 2,
       "version_minor": 0
      },
      "text/plain": [
       "Adding experiment to memory:   0%|          | 0/12 [00:00<?, ?it/s]"
      ]
     },
     "metadata": {},
     "output_type": "display_data"
    },
    {
     "data": {
      "application/vnd.jupyter.widget-view+json": {
       "model_id": "4f6463cf2dea4cf3a4a094922f300bb1",
       "version_major": 2,
       "version_minor": 0
      },
      "text/plain": [
       "Recalling:   0%|          | 0/3 [00:00<?, ?it/s]"
      ]
     },
     "metadata": {},
     "output_type": "display_data"
    },
    {
     "name": "stdout",
     "output_type": "stream",
     "text": [
      "True [<class 'leeq.experiments.builtin.basic.calibrations.state_discrimination.gaussian_mixture.MeasurementCalibrationMultilevelGMM'>, 'experiment_gmm_calibration = MeasurementCalibrationMultilevelGMM(dut=dut_instance, mprim_index=0)']\n"
     ]
    },
    {
     "data": {
      "application/vnd.jupyter.widget-view+json": {
       "model_id": "3d0cae3909c94542b4886e196732df42",
       "version_major": 2,
       "version_minor": 0
      },
      "text/plain": [
       "Recalling:   0%|          | 0/3 [00:00<?, ?it/s]"
      ]
     },
     "metadata": {},
     "output_type": "display_data"
    },
    {
     "name": "stdout",
     "output_type": "stream",
     "text": [
      "True [<class 'leeq.experiments.builtin.basic.calibrations.state_discrimination.gaussian_mixture.MeasurementCalibrationMultilevelGMM'>, 'experiment_gmm_calibration = MeasurementCalibrationMultilevelGMM(dut=dut, mprim_index=0)']\n"
     ]
    },
    {
     "data": {
      "application/vnd.jupyter.widget-view+json": {
       "model_id": "b5dcdcdc83d04ff79307a84db06b1f49",
       "version_major": 2,
       "version_minor": 0
      },
      "text/plain": [
       "Recalling:   0%|          | 0/3 [00:00<?, ?it/s]"
      ]
     },
     "metadata": {},
     "output_type": "display_data"
    },
    {
     "name": "stdout",
     "output_type": "stream",
     "text": [
      "True [<class 'leeq.experiments.builtin.basic.calibrations.state_discrimination.gaussian_mixture.MeasurementCalibrationMultilevelGMM'>, 'experiment_calib = MeasurementCalibrationMultilevelGMM(dut=dut, mprim_index=0)']\n"
     ]
    },
    {
     "data": {
      "application/vnd.jupyter.widget-view+json": {
       "model_id": "46bf4df4cbf746a2959f43dc9cb57cc9",
       "version_major": 2,
       "version_minor": 0
      },
      "text/plain": [
       "Recalling:   0%|          | 0/3 [00:00<?, ?it/s]"
      ]
     },
     "metadata": {},
     "output_type": "display_data"
    },
    {
     "name": "stdout",
     "output_type": "stream",
     "text": [
      "True [<class 'leeq.experiments.builtin.basic.calibrations.state_discrimination.gaussian_mixture.MeasurementCalibrationMultilevelGMM'>, <class 'leeq.experiments.builtin.multi_qubit_gates.conditional_stark.ConditionalStarkEchoTuneUp'>, 'experiment_calib = MeasurementCalibrationMultilevelGMM(dut=dut, amp=0.2, freq=9876)']\n"
     ]
    },
    {
     "data": {
      "application/vnd.jupyter.widget-view+json": {
       "model_id": "c982e6e98d1745aa98a2bfaeca9caafe",
       "version_major": 2,
       "version_minor": 0
      },
      "text/plain": [
       "Recalling:   0%|          | 0/3 [00:00<?, ?it/s]"
      ]
     },
     "metadata": {},
     "output_type": "display_data"
    },
    {
     "name": "stdout",
     "output_type": "stream",
     "text": [
      "True [<class 'leeq.experiments.builtin.basic.calibrations.state_discrimination.gaussian_mixture.MeasurementCalibrationMultilevelGMM'>, <class 'leeq.experiments.builtin.basic.calibrations.resonator_spectroscopy.ResonatorSweepTransmissionWithExtraInitialLPB'>, <class 'leeq.experiments.builtin.multi_qubit_gates.conditional_stark.ConditionalStarkEchoTuneUp'>, 'experiment_calib = MeasurementCalibrationMultilevelGMM(dut=dut, amp=0.1, freq=8790)']\n"
     ]
    },
    {
     "data": {
      "application/vnd.jupyter.widget-view+json": {
       "model_id": "b0f90f3974ad4c7998c25cccfd336bdb",
       "version_major": 2,
       "version_minor": 0
      },
      "text/plain": [
       "Recalling:   0%|          | 0/3 [00:00<?, ?it/s]"
      ]
     },
     "metadata": {},
     "output_type": "display_data"
    },
    {
     "name": "stdout",
     "output_type": "stream",
     "text": [
      "True [<class 'leeq.experiments.builtin.basic.calibrations.drag.DragCalibrationSingleQubitMultilevel'>, <class 'leeq.experiments.builtin.basic.calibrations.state_discrimination.gaussian_mixture.MeasurementCalibrationMultilevelGMM'>, <class 'leeq.experiments.builtin.basic.calibrations.pingpong.AmpPingpongCalibrationSingleQubitMultilevel'>, 'experiment_calibration = MeasurementCalibrationMultilevelGMM(dut=dut, mprim_index=0)']\n"
     ]
    },
    {
     "data": {
      "application/vnd.jupyter.widget-view+json": {
       "model_id": "a98ad91f0a774708801828e128a1250b",
       "version_major": 2,
       "version_minor": 0
      },
      "text/plain": [
       "Recalling:   0%|          | 0/3 [00:00<?, ?it/s]"
      ]
     },
     "metadata": {},
     "output_type": "display_data"
    },
    {
     "name": "stdout",
     "output_type": "stream",
     "text": [
      "True [<class 'leeq.experiments.builtin.basic.calibrations.drag.DragCalibrationSingleQubitMultilevel'>, <class 'leeq.experiments.builtin.basic.calibrations.state_discrimination.gaussian_mixture.MeasurementCalibrationMultilevelGMM'>, <class 'leeq.experiments.builtin.basic.calibrations.pingpong.AmpPingpongCalibrationSingleQubitMultilevel'>, 'experiment_calib = MeasurementCalibrationMultilevelGMM(dut=dut, mprim_index=0)']\n"
     ]
    },
    {
     "data": {
      "application/vnd.jupyter.widget-view+json": {
       "model_id": "047428c30769449283945abc007b87b0",
       "version_major": 2,
       "version_minor": 0
      },
      "text/plain": [
       "Recalling:   0%|          | 0/3 [00:00<?, ?it/s]"
      ]
     },
     "metadata": {},
     "output_type": "display_data"
    },
    {
     "name": "stdout",
     "output_type": "stream",
     "text": [
      "True [<class 'leeq.experiments.builtin.basic.calibrations.drag.DragCalibrationSingleQubitMultilevel'>, <class 'leeq.experiments.builtin.basic.calibrations.state_discrimination.gaussian_mixture.MeasurementCalibrationMultilevelGMM'>, <class 'leeq.experiments.builtin.basic.calibrations.pingpong.AmpPingpongCalibrationSingleQubitMultilevel'>, 'experiment_measurement_calibration = MeasurementCalibrationMultilevelGMM(dut=dut, mprim_index=0)']\n"
     ]
    },
    {
     "data": {
      "application/vnd.jupyter.widget-view+json": {
       "model_id": "02f644b616084f748f12de29cf7de7e2",
       "version_major": 2,
       "version_minor": 0
      },
      "text/plain": [
       "Recalling:   0%|          | 0/3 [00:00<?, ?it/s]"
      ]
     },
     "metadata": {},
     "output_type": "display_data"
    },
    {
     "name": "stdout",
     "output_type": "stream",
     "text": [
      "True [<class 'leeq.experiments.builtin.basic.calibrations.state_discrimination.gaussian_mixture.MeasurementCalibrationMultilevelGMM'>, 'experiment_measurement_calibration = MeasurementCalibrationMultilevelGMM(dut=dut_instance, mprim_index=0)']\n"
     ]
    },
    {
     "data": {
      "application/vnd.jupyter.widget-view+json": {
       "model_id": "109a2302af934499b18510a85219b6f2",
       "version_major": 2,
       "version_minor": 0
      },
      "text/plain": [
       "Recalling:   0%|          | 0/3 [00:00<?, ?it/s]"
      ]
     },
     "metadata": {},
     "output_type": "display_data"
    },
    {
     "name": "stdout",
     "output_type": "stream",
     "text": [
      "True [<class 'leeq.experiments.builtin.basic.calibrations.drag.DragCalibrationSingleQubitMultilevel'>, <class 'leeq.experiments.builtin.basic.calibrations.state_discrimination.gaussian_mixture.MeasurementCalibrationMultilevelGMM'>, <class 'leeq.experiments.builtin.basic.calibrations.pingpong.AmpPingpongCalibrationSingleQubitMultilevel'>, 'experiment_calib = MeasurementCalibrationMultilevelGMM(dut=dut, mprim_index=0)']\n"
     ]
    },
    {
     "data": {
      "application/vnd.jupyter.widget-view+json": {
       "model_id": "8865768ac41948b28245e33bed5db8ad",
       "version_major": 2,
       "version_minor": 0
      },
      "text/plain": [
       "Recalling:   0%|          | 0/3 [00:00<?, ?it/s]"
      ]
     },
     "metadata": {},
     "output_type": "display_data"
    },
    {
     "name": "stdout",
     "output_type": "stream",
     "text": [
      "True [<class 'leeq.experiments.builtin.basic.calibrations.ramsey.SimpleRamseyMultilevel'>, \"experiment_ramsey = SimpleRamseyMultilevel(qubit=qubit, collection_name='f01', mprim_index=0, start=0.0, stop=1.0, step=0.005, set_offset=10.0, update=True)\"]\n"
     ]
    },
    {
     "data": {
      "application/vnd.jupyter.widget-view+json": {
       "model_id": "87deaf1930714b5595a9c431db7ecaf0",
       "version_major": 2,
       "version_minor": 0
      },
      "text/plain": [
       "Recalling:   0%|          | 0/3 [00:00<?, ?it/s]"
      ]
     },
     "metadata": {},
     "output_type": "display_data"
    },
    {
     "name": "stdout",
     "output_type": "stream",
     "text": [
      "True [<class 'leeq.experiments.builtin.basic.calibrations.ramsey.SimpleRamseyMultilevel'>, \"experiment_ramsey = SimpleRamseyMultilevel(qubit=qubit, collection_name='f01', mprim_index=0, start=0.0, stop=1.0, step=0.005, set_offset=10.0, update=True)\"]\n"
     ]
    },
    {
     "data": {
      "application/vnd.jupyter.widget-view+json": {
       "model_id": "8d483a657b154038ae7366bbcc96dd78",
       "version_major": 2,
       "version_minor": 0
      },
      "text/plain": [
       "Recalling:   0%|          | 0/3 [00:00<?, ?it/s]"
      ]
     },
     "metadata": {},
     "output_type": "display_data"
    },
    {
     "name": "stdout",
     "output_type": "stream",
     "text": [
      "True [<class 'leeq.experiments.builtin.basic.calibrations.ramsey.SimpleRamseyMultilevel'>, \"experiment_ramsey = SimpleRamseyMultilevel(qubit=qubit, collection_name='f01', mprim_index=0, start=0.0, stop=1.0, step=0.005, set_offset=10.0, update=True)\"]\n"
     ]
    },
    {
     "data": {
      "application/vnd.jupyter.widget-view+json": {
       "model_id": "cb9584c1f3624008a3766c14b5154d60",
       "version_major": 2,
       "version_minor": 0
      },
      "text/plain": [
       "Recalling:   0%|          | 0/3 [00:00<?, ?it/s]"
      ]
     },
     "metadata": {},
     "output_type": "display_data"
    },
    {
     "name": "stdout",
     "output_type": "stream",
     "text": [
      "True [<class 'leeq.experiments.builtin.basic.calibrations.ramsey.SimpleRamseyMultilevel'>, \"experiment_ramsey = SimpleRamseyMultilevel(qubit=qubit, collection_name='f01', mprim_index=0, start=0.0, stop=1.0, step=0.005, set_offset=10.0, update=True)\"]\n"
     ]
    },
    {
     "data": {
      "application/vnd.jupyter.widget-view+json": {
       "model_id": "948954219e1c4e7197f04464559bc5b3",
       "version_major": 2,
       "version_minor": 0
      },
      "text/plain": [
       "Recalling:   0%|          | 0/3 [00:00<?, ?it/s]"
      ]
     },
     "metadata": {},
     "output_type": "display_data"
    },
    {
     "name": "stdout",
     "output_type": "stream",
     "text": [
      "False [<class 'leeq.experiments.builtin.basic.calibrations.state_discrimination.gaussian_mixture.MeasurementCalibrationMultilevelGMM'>, 'experiment_qubit_freq_calibration = MeasurementCalibrationMultilevelGMM(dut=dut_instance, mprim_index=0)']\n"
     ]
    },
    {
     "data": {
      "application/vnd.jupyter.widget-view+json": {
       "model_id": "d19cf95a321c4e64b787d98eb1bc8957",
       "version_major": 2,
       "version_minor": 0
      },
      "text/plain": [
       "Recalling:   0%|          | 0/3 [00:00<?, ?it/s]"
      ]
     },
     "metadata": {},
     "output_type": "display_data"
    },
    {
     "name": "stdout",
     "output_type": "stream",
     "text": [
      "True [<class 'leeq.experiments.builtin.basic.calibrations.ramsey.SimpleRamseyMultilevel'>, \"experiment_ramsey = SimpleRamseyMultilevel(qubit=qubit, collection_name='f01', mprim_index=0, start=0.0, stop=1.0, step=0.005, set_offset=10.0, update=True)\"]\n"
     ]
    },
    {
     "data": {
      "application/vnd.jupyter.widget-view+json": {
       "model_id": "9eb150780d554da48618199e04b0d144",
       "version_major": 2,
       "version_minor": 0
      },
      "text/plain": [
       "Recalling:   0%|          | 0/3 [00:00<?, ?it/s]"
      ]
     },
     "metadata": {},
     "output_type": "display_data"
    },
    {
     "name": "stdout",
     "output_type": "stream",
     "text": [
      "True [<class 'leeq.experiments.builtin.basic.calibrations.ramsey.SimpleRamseyMultilevel'>, \"experiment_qubit_frequency = SimpleRamseyMultilevel(qubit=qubit, collection_name='f01', mprim_index=0, start=0.0, stop=1.0, step=0.005, set_offset=10.0, update=True)\"]\n"
     ]
    },
    {
     "data": {
      "application/vnd.jupyter.widget-view+json": {
       "model_id": "5a1cfe6907a54e8f9ac3e559dabe7f29",
       "version_major": 2,
       "version_minor": 0
      },
      "text/plain": [
       "Recalling:   0%|          | 0/3 [00:00<?, ?it/s]"
      ]
     },
     "metadata": {},
     "output_type": "display_data"
    },
    {
     "name": "stdout",
     "output_type": "stream",
     "text": [
      "True [<class 'leeq.experiments.builtin.basic.calibrations.ramsey.SimpleRamseyMultilevel'>, \"experiment_ramsey = SimpleRamseyMultilevel(qubit=qubit, collection_name='f01', mprim_index=0, start=0.0, stop=1.0, step=0.005, set_offset=10.0, update=True)\"]\n"
     ]
    },
    {
     "data": {
      "application/vnd.jupyter.widget-view+json": {
       "model_id": "da8cb44de64a4812936d1ccb006c6587",
       "version_major": 2,
       "version_minor": 0
      },
      "text/plain": [
       "Recalling:   0%|          | 0/3 [00:00<?, ?it/s]"
      ]
     },
     "metadata": {},
     "output_type": "display_data"
    },
    {
     "name": "stdout",
     "output_type": "stream",
     "text": [
      "True [<class 'leeq.experiments.builtin.basic.calibrations.ramsey.SimpleRamseyMultilevel'>, \"experiment_ramsey = SimpleRamseyMultilevel(qubit=qubit, collection_name='f01', mprim_index=0, start=0.0, stop=1.0, step=0.005, set_offset=10.0, update=True)\"]\n"
     ]
    },
    {
     "data": {
      "application/vnd.jupyter.widget-view+json": {
       "model_id": "d8b80c1c5ee647ac9f85cb8e57114a87",
       "version_major": 2,
       "version_minor": 0
      },
      "text/plain": [
       "Recalling:   0%|          | 0/3 [00:00<?, ?it/s]"
      ]
     },
     "metadata": {},
     "output_type": "display_data"
    },
    {
     "name": "stdout",
     "output_type": "stream",
     "text": [
      "True [<class 'leeq.experiments.builtin.basic.calibrations.ramsey.SimpleRamseyMultilevel'>, \"experiment_ramsey = SimpleRamseyMultilevel(qubit=qubit, collection_name='f01', mprim_index=0, start=0.0, stop=1.0, step=0.005, set_offset=10.0, update=True)\"]\n"
     ]
    },
    {
     "data": {
      "application/vnd.jupyter.widget-view+json": {
       "model_id": "3d3e421dc7d54ef88ec7b428da16ffe0",
       "version_major": 2,
       "version_minor": 0
      },
      "text/plain": [
       "Recalling:   0%|          | 0/3 [00:00<?, ?it/s]"
      ]
     },
     "metadata": {},
     "output_type": "display_data"
    },
    {
     "name": "stdout",
     "output_type": "stream",
     "text": [
      "True [<class 'leeq.experiments.builtin.multi_qubit_gates.conditional_stark.ConditionalStarkTuneUpRabiXY'>, <class 'leeq.experiments.builtin.basic.calibrations.pingpong.AmpPingpongCalibrationSingleQubitMultilevel'>, <class 'leeq.experiments.builtin.basic.calibrations.rabi.NormalisedRabi'>, \"experiment_rabi = NormalisedRabi(dut_qubit=dut, amp=0.05, start=0.01, stop=0.3, step=0.002, fit=True, collection_name='f01', mprim_index=0, pulse_discretization=True, update=True)\"]\n"
     ]
    },
    {
     "data": {
      "application/vnd.jupyter.widget-view+json": {
       "model_id": "ed29305973ce49bc9aa9bca6d2223ee0",
       "version_major": 2,
       "version_minor": 0
      },
      "text/plain": [
       "Recalling:   0%|          | 0/3 [00:00<?, ?it/s]"
      ]
     },
     "metadata": {},
     "output_type": "display_data"
    },
    {
     "name": "stdout",
     "output_type": "stream",
     "text": [
      "True [<class 'leeq.experiments.builtin.basic.calibrations.pingpong.AmpPingpongCalibrationSingleQubitMultilevel'>, <class 'leeq.experiments.builtin.basic.calibrations.rabi.NormalisedRabi'>, \"experiment_rabi = NormalisedRabi(dut_qubit=dut, amp=0.05, start=0.01, stop=0.3, step=0.002, fit=True, collection_name='f01', mprim_index=0, pulse_discretization=True, update=True)\"]\n"
     ]
    },
    {
     "data": {
      "application/vnd.jupyter.widget-view+json": {
       "model_id": "10dce7627c5c4ae0839571338f82db7a",
       "version_major": 2,
       "version_minor": 0
      },
      "text/plain": [
       "Recalling:   0%|          | 0/3 [00:00<?, ?it/s]"
      ]
     },
     "metadata": {},
     "output_type": "display_data"
    },
    {
     "name": "stdout",
     "output_type": "stream",
     "text": [
      "True [<class 'leeq.experiments.builtin.multi_qubit_gates.conditional_stark.ConditionalStarkTuneUpRabiXY'>, <class 'leeq.experiments.builtin.basic.calibrations.rabi.NormalisedRabi'>, \"experiment_rabi = NormalisedRabi(dut_qubit=dut, amp=0.05, start=0.01, stop=0.3, step=0.002, fit=True, collection_name='f01', mprim_index=0, pulse_discretization=True, update=True)\"]\n"
     ]
    },
    {
     "data": {
      "application/vnd.jupyter.widget-view+json": {
       "model_id": "a4d769516a904e4b82d10995c48d8929",
       "version_major": 2,
       "version_minor": 0
      },
      "text/plain": [
       "Recalling:   0%|          | 0/3 [00:00<?, ?it/s]"
      ]
     },
     "metadata": {},
     "output_type": "display_data"
    },
    {
     "name": "stdout",
     "output_type": "stream",
     "text": [
      "True [<class 'leeq.experiments.builtin.basic.calibrations.pingpong.AmpPingpongCalibrationSingleQubitMultilevel'>, <class 'leeq.experiments.builtin.basic.calibrations.rabi.NormalisedRabi'>, \"experiment_rabi = NormalisedRabi(dut_qubit=dut, amp=0.05, start=0.01, stop=0.3, step=0.002, fit=True, collection_name='f01', mprim_index=0, pulse_discretization=True, update=True)\"]\n"
     ]
    },
    {
     "data": {
      "application/vnd.jupyter.widget-view+json": {
       "model_id": "7809efb3b4b84ebf84537dd37819f4a3",
       "version_major": 2,
       "version_minor": 0
      },
      "text/plain": [
       "Recalling:   0%|          | 0/3 [00:00<?, ?it/s]"
      ]
     },
     "metadata": {},
     "output_type": "display_data"
    },
    {
     "name": "stdout",
     "output_type": "stream",
     "text": [
      "True [<class 'leeq.experiments.builtin.basic.calibrations.rabi.NormalisedRabi'>, \"rabi_experiment = NormalisedRabi(dut_qubit=dut, amp=0.05, start=0.01, stop=0.3, step=0.002, fit=True, collection_name='f01', mprim_index=0, pulse_discretization=True, update=True)\"]\n"
     ]
    },
    {
     "data": {
      "application/vnd.jupyter.widget-view+json": {
       "model_id": "d49318b1eb8942b2bc3c3bd570202b57",
       "version_major": 2,
       "version_minor": 0
      },
      "text/plain": [
       "Recalling:   0%|          | 0/3 [00:00<?, ?it/s]"
      ]
     },
     "metadata": {},
     "output_type": "display_data"
    },
    {
     "name": "stdout",
     "output_type": "stream",
     "text": [
      "True [<class 'leeq.experiments.builtin.multi_qubit_gates.conditional_stark.ConditionalStarkTuneUpRabiXY'>, <class 'leeq.experiments.builtin.basic.calibrations.rabi.NormalisedRabi'>, \"experiment_rabi = NormalisedRabi(dut_qubit=dut_qubit, amp=0.05, start=0.01, stop=0.3, step=0.002, fit=True, collection_name='f01', mprim_index=0, pulse_discretization=True, update=True)\"]\n"
     ]
    },
    {
     "data": {
      "application/vnd.jupyter.widget-view+json": {
       "model_id": "f990cdfd20d949fe8554739f9876e148",
       "version_major": 2,
       "version_minor": 0
      },
      "text/plain": [
       "Recalling:   0%|          | 0/3 [00:00<?, ?it/s]"
      ]
     },
     "metadata": {},
     "output_type": "display_data"
    },
    {
     "name": "stdout",
     "output_type": "stream",
     "text": [
      "True [<class 'leeq.experiments.builtin.basic.calibrations.pingpong.AmpPingpongCalibrationSingleQubitMultilevel'>, <class 'leeq.experiments.builtin.basic.calibrations.rabi.NormalisedRabi'>, \"rabi_experiment = NormalisedRabi(dut_qubit=dut, amp=0.05, start=0.01, stop=0.3, step=0.002, fit=True, collection_name='f01', mprim_index=0, pulse_discretization=True, update=True)\"]\n"
     ]
    },
    {
     "data": {
      "application/vnd.jupyter.widget-view+json": {
       "model_id": "dc8f433be6ae45cfa700395999fcc5e8",
       "version_major": 2,
       "version_minor": 0
      },
      "text/plain": [
       "Recalling:   0%|          | 0/3 [00:00<?, ?it/s]"
      ]
     },
     "metadata": {},
     "output_type": "display_data"
    },
    {
     "name": "stdout",
     "output_type": "stream",
     "text": [
      "True [<class 'leeq.experiments.builtin.multi_qubit_gates.conditional_stark.ConditionalStarkTuneUpRabiXY'>, <class 'leeq.experiments.builtin.basic.calibrations.pingpong.AmpPingpongCalibrationSingleQubitMultilevel'>, <class 'leeq.experiments.builtin.basic.calibrations.rabi.NormalisedRabi'>, \"rabi_experiment = NormalisedRabi(dut_qubit=dut, amp=0.05, start=0.01, stop=0.3, step=0.002, fit=True, collection_name='f01', mprim_index=0, pulse_discretization=True, update=True)\"]\n"
     ]
    },
    {
     "data": {
      "application/vnd.jupyter.widget-view+json": {
       "model_id": "516a2fdb4d8a4282a8cc20324656140d",
       "version_major": 2,
       "version_minor": 0
      },
      "text/plain": [
       "Recalling:   0%|          | 0/3 [00:00<?, ?it/s]"
      ]
     },
     "metadata": {},
     "output_type": "display_data"
    },
    {
     "name": "stdout",
     "output_type": "stream",
     "text": [
      "False [<class 'leeq.experiments.builtin.multi_qubit_gates.conditional_stark.ConditionalStarkTuneUpRabiXY'>, <class 'leeq.experiments.builtin.basic.calibrations.rabi.NormalisedRabi'>, \"experiment_rabi = ConditionalStarkTuneUpRabiXY(qubits=qubits_list, amp_control=0.5, amp_target=0.7, frequency=5.0, rise=0.01, start=0, stop=20, sweep_points=40, axis='Y', echo=True, iz_rate_cancel=0.0, phase_diff=0.0, iz_rise_drop=0.0)\"]\n"
     ]
    },
    {
     "data": {
      "application/vnd.jupyter.widget-view+json": {
       "model_id": "92a20afd7ab647c89fb06c72b2462de2",
       "version_major": 2,
       "version_minor": 0
      },
      "text/plain": [
       "Recalling:   0%|          | 0/3 [00:00<?, ?it/s]"
      ]
     },
     "metadata": {},
     "output_type": "display_data"
    },
    {
     "name": "stdout",
     "output_type": "stream",
     "text": [
      "False [<class 'leeq.experiments.builtin.multi_qubit_gates.conditional_stark.ConditionalStarkTuneUpRabiXY'>, <class 'leeq.experiments.builtin.basic.calibrations.pingpong.AmpPingpongCalibrationSingleQubitMultilevel'>, <class 'leeq.experiments.builtin.basic.calibrations.rabi.NormalisedRabi'>, 'experiment_rabi = ConditionalStarkTuneUpRabiXY(qubits=qubits, amp_control=amp_control, amp_target=amp_target, frequency=frequency, rise=rise, start=start, stop=stop, sweep_points=sweep_points, axis=axis, echo=echo, iz_rate_cancel=iz_rate_cancel, phase_diff=phase_diff, iz_rise_drop=iz_rise_drop)']\n"
     ]
    },
    {
     "data": {
      "application/vnd.jupyter.widget-view+json": {
       "model_id": "2e660da8524544eda33d354dc29c78e8",
       "version_major": 2,
       "version_minor": 0
      },
      "text/plain": [
       "Recalling:   0%|          | 0/3 [00:00<?, ?it/s]"
      ]
     },
     "metadata": {},
     "output_type": "display_data"
    },
    {
     "name": "stdout",
     "output_type": "stream",
     "text": [
      "True [<class 'leeq.experiments.builtin.basic.calibrations.pingpong.AmpPingpongCalibrationSingleQubitMultilevel'>, \"experiment_fine_tune = AmpPingpongCalibrationSingleQubitMultilevel(\\n    dut=dut,\\n    iteration=9,\\n    points=10,\\n    mprim_index=0,\\n    collection_name='f01',\\n    repeated_gate='X',\\n    initial_lpb=None,\\n    flip_other=False\\n)\"]\n"
     ]
    },
    {
     "data": {
      "application/vnd.jupyter.widget-view+json": {
       "model_id": "5d8da42fbfa547699bd93c69d4921b9e",
       "version_major": 2,
       "version_minor": 0
      },
      "text/plain": [
       "Recalling:   0%|          | 0/3 [00:00<?, ?it/s]"
      ]
     },
     "metadata": {},
     "output_type": "display_data"
    },
    {
     "name": "stdout",
     "output_type": "stream",
     "text": [
      "False [<class 'leeq.experiments.builtin.basic.calibrations.drag.DragCalibrationSingleQubitMultilevel'>, <class 'leeq.experiments.builtin.basic.calibrations.state_discrimination.gaussian_mixture.MeasurementCalibrationMultilevelGMM'>, <class 'leeq.experiments.builtin.basic.calibrations.pingpong.AmpPingpongCalibrationSingleQubitMultilevel'>, 'experiment_adjust_amplitude = MeasurementCalibrationMultilevelGMM(dut=dut_instance, mprim_index=0, amp=new_amplitude, update=True)']\n"
     ]
    },
    {
     "data": {
      "application/vnd.jupyter.widget-view+json": {
       "model_id": "2541b949ec29478da1c9f89762440ad0",
       "version_major": 2,
       "version_minor": 0
      },
      "text/plain": [
       "Recalling:   0%|          | 0/3 [00:00<?, ?it/s]"
      ]
     },
     "metadata": {},
     "output_type": "display_data"
    },
    {
     "name": "stdout",
     "output_type": "stream",
     "text": [
      "True [<class 'leeq.experiments.builtin.basic.calibrations.pingpong.AmpPingpongCalibrationSingleQubitMultilevel'>, \"experiment_amp_pingpong = AmpPingpongCalibrationSingleQubitMultilevel(dut=dut, iteration=9, points=10, mprim_index=0, collection_name='f01', repeated_gate='X', initial_lpb=None, flip_other=False)\"]\n"
     ]
    },
    {
     "data": {
      "application/vnd.jupyter.widget-view+json": {
       "model_id": "6978662ee6b940d9b55760eb0d1df0d6",
       "version_major": 2,
       "version_minor": 0
      },
      "text/plain": [
       "Recalling:   0%|          | 0/3 [00:00<?, ?it/s]"
      ]
     },
     "metadata": {},
     "output_type": "display_data"
    },
    {
     "name": "stdout",
     "output_type": "stream",
     "text": [
      "True [<class 'leeq.experiments.builtin.basic.calibrations.pingpong.AmpPingpongCalibrationSingleQubitMultilevel'>, <class 'leeq.experiments.builtin.basic.calibrations.rabi.NormalisedRabi'>, \"experiment_amp_pingpong_calibration = AmpPingpongCalibrationSingleQubitMultilevel(dut=dut, iteration=9, points=10, mprim_index=0, collection_name='f01', repeated_gate='X', initial_lpb=None, flip_other=False)\"]\n"
     ]
    },
    {
     "data": {
      "application/vnd.jupyter.widget-view+json": {
       "model_id": "63d57fcadf8241309d543888919c9731",
       "version_major": 2,
       "version_minor": 0
      },
      "text/plain": [
       "Recalling:   0%|          | 0/3 [00:00<?, ?it/s]"
      ]
     },
     "metadata": {},
     "output_type": "display_data"
    },
    {
     "name": "stdout",
     "output_type": "stream",
     "text": [
      "True [<class 'leeq.experiments.builtin.basic.calibrations.drag.DragCalibrationSingleQubitMultilevel'>, <class 'leeq.experiments.builtin.basic.calibrations.pingpong.AmpPingpongCalibrationSingleQubitMultilevel'>, \"experiment_pingpong = AmpPingpongCalibrationSingleQubitMultilevel(dut=dut, iteration=9, points=10, mprim_index=0, collection_name='f01', repeated_gate='X', initial_lpb=None, flip_other=False)\"]\n"
     ]
    },
    {
     "data": {
      "application/vnd.jupyter.widget-view+json": {
       "model_id": "d978fe9c4453405e9d50b72f19db0288",
       "version_major": 2,
       "version_minor": 0
      },
      "text/plain": [
       "Recalling:   0%|          | 0/3 [00:00<?, ?it/s]"
      ]
     },
     "metadata": {},
     "output_type": "display_data"
    },
    {
     "name": "stdout",
     "output_type": "stream",
     "text": [
      "True [<class 'leeq.experiments.builtin.basic.calibrations.pingpong.AmpPingpongCalibrationSingleQubitMultilevel'>, <class 'leeq.experiments.builtin.multi_qubit_gates.conditional_stark.ConditionalStarkEchoTuneUp'>, \"experiment_OptimizeDrivingParameters = AmpPingpongCalibrationSingleQubitMultilevel(dut=dut, iteration=9, points=10, mprim_index=0, collection_name='f01', repeated_gate='X', initial_lpb=None, flip_other=False)\"]\n"
     ]
    },
    {
     "data": {
      "application/vnd.jupyter.widget-view+json": {
       "model_id": "bb161065f876407eb0b08be9884285c6",
       "version_major": 2,
       "version_minor": 0
      },
      "text/plain": [
       "Recalling:   0%|          | 0/3 [00:00<?, ?it/s]"
      ]
     },
     "metadata": {},
     "output_type": "display_data"
    },
    {
     "name": "stdout",
     "output_type": "stream",
     "text": [
      "True [<class 'leeq.experiments.builtin.basic.calibrations.pingpong.AmpPingpongCalibrationSingleQubitMultilevel'>, <class 'leeq.experiments.builtin.multi_qubit_gates.conditional_stark.ConditionalStarkTuneUpRabiXY'>, <class 'leeq.experiments.builtin.multi_qubit_gates.conditional_stark.ConditionalStarkEchoTuneUp'>, \"experiment_pingpong = AmpPingpongCalibrationSingleQubitMultilevel(dut=dut, iteration=9, points=10, mprim_index=0, collection_name='f01', repeated_gate='X', initial_lpb=None, flip_other=False)\"]\n"
     ]
    },
    {
     "data": {
      "application/vnd.jupyter.widget-view+json": {
       "model_id": "0f91ed20007c4974a3c9c45590cbcfae",
       "version_major": 2,
       "version_minor": 0
      },
      "text/plain": [
       "Recalling:   0%|          | 0/3 [00:00<?, ?it/s]"
      ]
     },
     "metadata": {},
     "output_type": "display_data"
    },
    {
     "name": "stdout",
     "output_type": "stream",
     "text": [
      "True [<class 'leeq.experiments.builtin.basic.calibrations.pingpong.AmpPingpongCalibrationSingleQubitMultilevel'>, <class 'leeq.experiments.builtin.basic.calibrations.resonator_spectroscopy.ResonatorSweepTransmissionWithExtraInitialLPB'>, <class 'leeq.experiments.builtin.multi_qubit_gates.conditional_stark.ConditionalStarkEchoTuneUp'>, \"experiment_amplitude_finetuning = AmpPingpongCalibrationSingleQubitMultilevel(dut=dut, iteration=9, points=10, mprim_index=0, collection_name='f01', repeated_gate='X', initial_lpb=None, flip_other=False)\"]\n"
     ]
    },
    {
     "data": {
      "application/vnd.jupyter.widget-view+json": {
       "model_id": "bf52ee215eba4815a8ae95059577a1f8",
       "version_major": 2,
       "version_minor": 0
      },
      "text/plain": [
       "Recalling:   0%|          | 0/3 [00:00<?, ?it/s]"
      ]
     },
     "metadata": {},
     "output_type": "display_data"
    },
    {
     "name": "stdout",
     "output_type": "stream",
     "text": [
      "True [<class 'leeq.experiments.builtin.basic.calibrations.pingpong.AmpPingpongCalibrationSingleQubitMultilevel'>, <class 'leeq.experiments.builtin.multi_qubit_gates.conditional_stark.ConditionalStarkEchoTuneUp'>, \"experiment_amp_pingpong = AmpPingpongCalibrationSingleQubitMultilevel(dut=dut, iteration=9, points=10, mprim_index=0, collection_name='f01', repeated_gate='X', initial_lpb=None, flip_other=False)\"]\n"
     ]
    },
    {
     "data": {
      "application/vnd.jupyter.widget-view+json": {
       "model_id": "80610135016d4a10a2857f074edecbb0",
       "version_major": 2,
       "version_minor": 0
      },
      "text/plain": [
       "Recalling:   0%|          | 0/3 [00:00<?, ?it/s]"
      ]
     },
     "metadata": {},
     "output_type": "display_data"
    },
    {
     "name": "stdout",
     "output_type": "stream",
     "text": [
      "True [<class 'leeq.experiments.builtin.basic.calibrations.pingpong.AmpPingpongCalibrationSingleQubitMultilevel'>, <class 'leeq.experiments.builtin.multi_qubit_gates.conditional_stark.ConditionalStarkEchoTuneUp'>, \"experiment_amp_pingpong_calibration = AmpPingpongCalibrationSingleQubitMultilevel(dut=dut, iteration=9, points=10, mprim_index=0, collection_name='f01', repeated_gate='X', initial_lpb=None, flip_other=False)\"]\n"
     ]
    },
    {
     "data": {
      "application/vnd.jupyter.widget-view+json": {
       "model_id": "bd2024a4b32f428cb80c40dafb9d158e",
       "version_major": 2,
       "version_minor": 0
      },
      "text/plain": [
       "Recalling:   0%|          | 0/3 [00:00<?, ?it/s]"
      ]
     },
     "metadata": {},
     "output_type": "display_data"
    },
    {
     "name": "stdout",
     "output_type": "stream",
     "text": [
      "True [<class 'leeq.experiments.builtin.basic.calibrations.resonator_spectroscopy.ResonatorSweepTransmissionWithExtraInitialLPB'>, 'experiment_resonator_sweep = ResonatorSweepTransmissionWithExtraInitialLPB(dut_qubit=dut_qubit, start=8000, stop=9000, step=5.0, num_avs=5000, rep_rate=0.0, mp_width=8, amp=0.02)']\n"
     ]
    },
    {
     "data": {
      "application/vnd.jupyter.widget-view+json": {
       "model_id": "c774331749574df7a2559fa84aa01f64",
       "version_major": 2,
       "version_minor": 0
      },
      "text/plain": [
       "Recalling:   0%|          | 0/3 [00:00<?, ?it/s]"
      ]
     },
     "metadata": {},
     "output_type": "display_data"
    },
    {
     "name": "stdout",
     "output_type": "stream",
     "text": [
      "True [<class 'leeq.experiments.builtin.basic.calibrations.resonator_spectroscopy.ResonatorSweepTransmissionWithExtraInitialLPB'>, 'experiment_resonator_sweep = ResonatorSweepTransmissionWithExtraInitialLPB(dut_qubit=dut_qubit, start=8000, stop=9000, step=5.0, num_avs=5000, rep_rate=0.0, mp_width=8, amp=0.02)']\n"
     ]
    },
    {
     "data": {
      "application/vnd.jupyter.widget-view+json": {
       "model_id": "327a555c3306429e92c172277ea454a9",
       "version_major": 2,
       "version_minor": 0
      },
      "text/plain": [
       "Recalling:   0%|          | 0/3 [00:00<?, ?it/s]"
      ]
     },
     "metadata": {},
     "output_type": "display_data"
    },
    {
     "name": "stdout",
     "output_type": "stream",
     "text": [
      "True [<class 'leeq.experiments.builtin.basic.calibrations.state_discrimination.gaussian_mixture.MeasurementCalibrationMultilevelGMM'>, <class 'leeq.experiments.builtin.basic.calibrations.resonator_spectroscopy.ResonatorSweepTransmissionWithExtraInitialLPB'>, 'experiment_resonator_sweep = ResonatorSweepTransmissionWithExtraInitialLPB(dut_qubit=dut_qubit, start=8000, stop=9000, step=5.0, num_avs=5000, rep_rate=0.0, mp_width=8, amp=0.02)']\n"
     ]
    },
    {
     "data": {
      "application/vnd.jupyter.widget-view+json": {
       "model_id": "08a26658c5fc4f5896cdd40165a9fb0d",
       "version_major": 2,
       "version_minor": 0
      },
      "text/plain": [
       "Recalling:   0%|          | 0/3 [00:00<?, ?it/s]"
      ]
     },
     "metadata": {},
     "output_type": "display_data"
    },
    {
     "name": "stdout",
     "output_type": "stream",
     "text": [
      "True [<class 'leeq.experiments.builtin.basic.calibrations.resonator_spectroscopy.ResonatorSweepTransmissionWithExtraInitialLPB'>, 'experiment_resonator_sweep = ResonatorSweepTransmissionWithExtraInitialLPB(dut_qubit=dut_qubit, start=8000, stop=9000, step=5.0, num_avs=5000, rep_rate=0.0, mp_width=8, amp=0.02)']\n"
     ]
    },
    {
     "data": {
      "application/vnd.jupyter.widget-view+json": {
       "model_id": "8488cc09ea884dd4877662df39a5a15a",
       "version_major": 2,
       "version_minor": 0
      },
      "text/plain": [
       "Recalling:   0%|          | 0/3 [00:00<?, ?it/s]"
      ]
     },
     "metadata": {},
     "output_type": "display_data"
    },
    {
     "name": "stdout",
     "output_type": "stream",
     "text": [
      "True [<class 'leeq.experiments.builtin.basic.calibrations.resonator_spectroscopy.ResonatorSweepTransmissionWithExtraInitialLPB'>, 'experiment_resonator_sweep = ResonatorSweepTransmissionWithExtraInitialLPB(dut_qubit=dut_qubit, start=8000, stop=9000, step=5.0, num_avs=5000, rep_rate=0.0, mp_width=8, amp=0.02)']\n"
     ]
    },
    {
     "data": {
      "application/vnd.jupyter.widget-view+json": {
       "model_id": "be020996954549c4abe596e21ee34c5f",
       "version_major": 2,
       "version_minor": 0
      },
      "text/plain": [
       "Recalling:   0%|          | 0/3 [00:00<?, ?it/s]"
      ]
     },
     "metadata": {},
     "output_type": "display_data"
    },
    {
     "name": "stdout",
     "output_type": "stream",
     "text": [
      "True [<class 'leeq.experiments.builtin.basic.calibrations.resonator_spectroscopy.ResonatorSweepTransmissionWithExtraInitialLPB'>, 'experiment_resonator_sweep = ResonatorSweepTransmissionWithExtraInitialLPB(dut_qubit=dut_qubit, start=8000, stop=9000, step=5.0, num_avs=5000, rep_rate=0.0, mp_width=8, amp=0.02)']\n"
     ]
    },
    {
     "data": {
      "application/vnd.jupyter.widget-view+json": {
       "model_id": "7aa40859f551438f8bd9ce8ca626246c",
       "version_major": 2,
       "version_minor": 0
      },
      "text/plain": [
       "Recalling:   0%|          | 0/3 [00:00<?, ?it/s]"
      ]
     },
     "metadata": {},
     "output_type": "display_data"
    },
    {
     "name": "stdout",
     "output_type": "stream",
     "text": [
      "True [<class 'leeq.experiments.builtin.basic.calibrations.resonator_spectroscopy.ResonatorSweepTransmissionWithExtraInitialLPB'>, 'experiment_resonator_sweep = ResonatorSweepTransmissionWithExtraInitialLPB(dut_qubit=dut_qubit, start=8000, stop=9000, step=5.0, num_avs=5000, rep_rate=0.0, mp_width=8, amp=0.02)']\n"
     ]
    },
    {
     "data": {
      "application/vnd.jupyter.widget-view+json": {
       "model_id": "6b357436ec1b4ffc93bbb348ebc03466",
       "version_major": 2,
       "version_minor": 0
      },
      "text/plain": [
       "Recalling:   0%|          | 0/3 [00:00<?, ?it/s]"
      ]
     },
     "metadata": {},
     "output_type": "display_data"
    },
    {
     "name": "stdout",
     "output_type": "stream",
     "text": [
      "True [<class 'leeq.experiments.builtin.basic.calibrations.resonator_spectroscopy.ResonatorSweepTransmissionWithExtraInitialLPB'>, 'experiment_resonator_sweep = ResonatorSweepTransmissionWithExtraInitialLPB(dut_qubit=dut_qubit, start=8000, stop=9000, step=5.0, num_avs=5000, rep_rate=0.0, mp_width=8, amp=0.02)']\n"
     ]
    },
    {
     "data": {
      "application/vnd.jupyter.widget-view+json": {
       "model_id": "0b8ce174fe784b11beabb6e2a5d754f2",
       "version_major": 2,
       "version_minor": 0
      },
      "text/plain": [
       "Recalling:   0%|          | 0/3 [00:00<?, ?it/s]"
      ]
     },
     "metadata": {},
     "output_type": "display_data"
    },
    {
     "name": "stdout",
     "output_type": "stream",
     "text": [
      "True [<class 'leeq.experiments.builtin.basic.calibrations.resonator_spectroscopy.ResonatorSweepTransmissionWithExtraInitialLPB'>, 'experiment_resonator_sweep = ResonatorSweepTransmissionWithExtraInitialLPB(dut_qubit=dut_qubit, start=8000, stop=9000, step=5.0, num_avs=5000, rep_rate=0.0, mp_width=8, amp=0.02)']\n"
     ]
    },
    {
     "data": {
      "application/vnd.jupyter.widget-view+json": {
       "model_id": "ec5bd4cf8cc349cfa5d745c7285c60b2",
       "version_major": 2,
       "version_minor": 0
      },
      "text/plain": [
       "Recalling:   0%|          | 0/3 [00:00<?, ?it/s]"
      ]
     },
     "metadata": {},
     "output_type": "display_data"
    },
    {
     "name": "stdout",
     "output_type": "stream",
     "text": [
      "True [<class 'leeq.experiments.builtin.basic.calibrations.resonator_spectroscopy.ResonatorSweepTransmissionWithExtraInitialLPB'>, 'experiment_resonator_sweep = ResonatorSweepTransmissionWithExtraInitialLPB(dut_qubit=dut_qubit, start=8000, stop=9000, step=5.0, num_avs=5000, rep_rate=0.0, mp_width=8, amp=0.02)']\n"
     ]
    },
    {
     "data": {
      "application/vnd.jupyter.widget-view+json": {
       "model_id": "cd7de004f5664ce7ae8b153437e43cfd",
       "version_major": 2,
       "version_minor": 0
      },
      "text/plain": [
       "Recalling:   0%|          | 0/3 [00:00<?, ?it/s]"
      ]
     },
     "metadata": {},
     "output_type": "display_data"
    },
    {
     "name": "stdout",
     "output_type": "stream",
     "text": [
      "True [<class 'leeq.experiments.builtin.basic.characterizations.t1.SimpleT1'>, \"experiment_t1 = SimpleT1(qubit=qubit, collection_name='f01', time_length=100.0, time_resolution=1.0)\"]\n"
     ]
    },
    {
     "data": {
      "application/vnd.jupyter.widget-view+json": {
       "model_id": "a558c999de024fb281687b61d877a2e2",
       "version_major": 2,
       "version_minor": 0
      },
      "text/plain": [
       "Recalling:   0%|          | 0/3 [00:00<?, ?it/s]"
      ]
     },
     "metadata": {},
     "output_type": "display_data"
    },
    {
     "name": "stdout",
     "output_type": "stream",
     "text": [
      "True [<class 'leeq.experiments.builtin.basic.characterizations.t1.SimpleT1'>, \"experiment_T1 = SimpleT1(qubit=qubit, collection_name='f01', time_length=100.0, time_resolution=1.0)\"]\n"
     ]
    },
    {
     "data": {
      "application/vnd.jupyter.widget-view+json": {
       "model_id": "c6c5e2a3b474477bb267a086604f61b7",
       "version_major": 2,
       "version_minor": 0
      },
      "text/plain": [
       "Recalling:   0%|          | 0/3 [00:00<?, ?it/s]"
      ]
     },
     "metadata": {},
     "output_type": "display_data"
    },
    {
     "name": "stdout",
     "output_type": "stream",
     "text": [
      "True [<class 'leeq.experiments.builtin.basic.characterizations.t1.SimpleT1'>, \"experiment_t1 = SimpleT1(qubit=qubit_object, collection_name='f01', time_length=100.0, time_resolution=1.0)\"]\n"
     ]
    },
    {
     "data": {
      "application/vnd.jupyter.widget-view+json": {
       "model_id": "b0fdb5bd7c59467b84904410c825377a",
       "version_major": 2,
       "version_minor": 0
      },
      "text/plain": [
       "Recalling:   0%|          | 0/3 [00:00<?, ?it/s]"
      ]
     },
     "metadata": {},
     "output_type": "display_data"
    },
    {
     "name": "stdout",
     "output_type": "stream",
     "text": [
      "True [<class 'leeq.experiments.builtin.basic.characterizations.t1.SimpleT1'>, \"experiment_t1 = SimpleT1(qubit=qubit, collection_name='f01', time_length=100.0, time_resolution=1.0)\"]\n"
     ]
    },
    {
     "data": {
      "application/vnd.jupyter.widget-view+json": {
       "model_id": "e35f6df5e4934068bcfc5bfa62133ad0",
       "version_major": 2,
       "version_minor": 0
      },
      "text/plain": [
       "Recalling:   0%|          | 0/3 [00:00<?, ?it/s]"
      ]
     },
     "metadata": {},
     "output_type": "display_data"
    },
    {
     "name": "stdout",
     "output_type": "stream",
     "text": [
      "True [<class 'leeq.experiments.builtin.basic.characterizations.t1.SimpleT1'>, \"experiment_t1 = SimpleT1(qubit=qubit_object, collection_name='f01', time_length=100.0, time_resolution=1.0)\"]\n"
     ]
    },
    {
     "data": {
      "application/vnd.jupyter.widget-view+json": {
       "model_id": "2e4a0b43276d4b119e5c2dc8ea080dbe",
       "version_major": 2,
       "version_minor": 0
      },
      "text/plain": [
       "Recalling:   0%|          | 0/3 [00:00<?, ?it/s]"
      ]
     },
     "metadata": {},
     "output_type": "display_data"
    },
    {
     "name": "stdout",
     "output_type": "stream",
     "text": [
      "True [<class 'leeq.experiments.builtin.basic.characterizations.t1.SimpleT1'>, \"experiment_t1 = SimpleT1(qubit=qubit_object, collection_name='f01', initial_lpb=None, mprim_index=0, time_length=100.0, time_resolution=1.0)\"]\n"
     ]
    },
    {
     "data": {
      "application/vnd.jupyter.widget-view+json": {
       "model_id": "8cdfe29aaf024a67b0baac31201e1ca3",
       "version_major": 2,
       "version_minor": 0
      },
      "text/plain": [
       "Recalling:   0%|          | 0/3 [00:00<?, ?it/s]"
      ]
     },
     "metadata": {},
     "output_type": "display_data"
    },
    {
     "name": "stdout",
     "output_type": "stream",
     "text": [
      "True [<class 'leeq.experiments.builtin.basic.characterizations.t1.SimpleT1'>, \"experiment_T1 = SimpleT1(qubit=qubit, collection_name='f01', time_length=100.0, time_resolution=1.0)\"]\n"
     ]
    },
    {
     "data": {
      "application/vnd.jupyter.widget-view+json": {
       "model_id": "97a14ec20acc4c1884d25a7464e06ecb",
       "version_major": 2,
       "version_minor": 0
      },
      "text/plain": [
       "Recalling:   0%|          | 0/3 [00:00<?, ?it/s]"
      ]
     },
     "metadata": {},
     "output_type": "display_data"
    },
    {
     "name": "stdout",
     "output_type": "stream",
     "text": [
      "True [<class 'leeq.experiments.builtin.basic.characterizations.t1.SimpleT1'>, \"experiment_T1 = SimpleT1(qubit=qubit_object, collection_name='f01', time_length=100.0, time_resolution=1.0)\"]\n"
     ]
    },
    {
     "data": {
      "application/vnd.jupyter.widget-view+json": {
       "model_id": "4df0c9f6b7a949b8828736e6ee712376",
       "version_major": 2,
       "version_minor": 0
      },
      "text/plain": [
       "Recalling:   0%|          | 0/3 [00:00<?, ?it/s]"
      ]
     },
     "metadata": {},
     "output_type": "display_data"
    },
    {
     "name": "stdout",
     "output_type": "stream",
     "text": [
      "True [<class 'leeq.experiments.builtin.basic.characterizations.t1.SimpleT1'>, \"experiment_t1 = SimpleT1(qubit=qubit, collection_name='f01', time_length=100.0, time_resolution=1.0)\"]\n"
     ]
    },
    {
     "data": {
      "application/vnd.jupyter.widget-view+json": {
       "model_id": "2dbad7160af54025ba38c61fbcf65051",
       "version_major": 2,
       "version_minor": 0
      },
      "text/plain": [
       "Recalling:   0%|          | 0/3 [00:00<?, ?it/s]"
      ]
     },
     "metadata": {},
     "output_type": "display_data"
    },
    {
     "name": "stdout",
     "output_type": "stream",
     "text": [
      "True [<class 'leeq.experiments.builtin.basic.characterizations.t1.SimpleT1'>, \"experiment_t1 = SimpleT1(qubit=qubit_object, collection_name='f01', time_length=100.0, time_resolution=1.0)\"]\n"
     ]
    },
    {
     "data": {
      "application/vnd.jupyter.widget-view+json": {
       "model_id": "35501236075a4a29bed82230c44f6d61",
       "version_major": 2,
       "version_minor": 0
      },
      "text/plain": [
       "Recalling:   0%|          | 0/3 [00:00<?, ?it/s]"
      ]
     },
     "metadata": {},
     "output_type": "display_data"
    },
    {
     "name": "stdout",
     "output_type": "stream",
     "text": [
      "True [<class 'leeq.experiments.builtin.basic.characterizations.t2.SpinEchoMultiLevel'>, \"experiment_SpinEchoMultiLevel = SpinEchoMultiLevel(qubit=qubit, collection_name='f01', mprim_index=0, free_evolution_time=100.0, time_resolution=2.0, start=0.0, initial_lpb=None)\"]\n"
     ]
    },
    {
     "data": {
      "application/vnd.jupyter.widget-view+json": {
       "model_id": "255313611ffd420bac4a90c364c79402",
       "version_major": 2,
       "version_minor": 0
      },
      "text/plain": [
       "Recalling:   0%|          | 0/3 [00:00<?, ?it/s]"
      ]
     },
     "metadata": {},
     "output_type": "display_data"
    },
    {
     "name": "stdout",
     "output_type": "stream",
     "text": [
      "True [<class 'leeq.experiments.builtin.basic.characterizations.t2.SpinEchoMultiLevel'>, \"experiment_T2_echo = SpinEchoMultiLevel(qubit=qubit, collection_name='f01', mprim_index=0, free_evolution_time=100.0, time_resolution=2.0, start=0.0, initial_lpb=None)\"]\n"
     ]
    },
    {
     "data": {
      "application/vnd.jupyter.widget-view+json": {
       "model_id": "9a646db414614e21b21b8fec7ba6a493",
       "version_major": 2,
       "version_minor": 0
      },
      "text/plain": [
       "Recalling:   0%|          | 0/3 [00:00<?, ?it/s]"
      ]
     },
     "metadata": {},
     "output_type": "display_data"
    },
    {
     "name": "stdout",
     "output_type": "stream",
     "text": [
      "True [<class 'leeq.experiments.builtin.basic.characterizations.t2.SpinEchoMultiLevel'>, \"experiment_SpinEchoMultiLevel = SpinEchoMultiLevel(qubit=qubit, collection_name='f01', mprim_index=0, free_evolution_time=100.0, time_resolution=2.0, start=0.0, initial_lpb=None)\"]\n"
     ]
    },
    {
     "data": {
      "application/vnd.jupyter.widget-view+json": {
       "model_id": "585ad487a6354f54b6a66f06b3c082f2",
       "version_major": 2,
       "version_minor": 0
      },
      "text/plain": [
       "Recalling:   0%|          | 0/3 [00:00<?, ?it/s]"
      ]
     },
     "metadata": {},
     "output_type": "display_data"
    },
    {
     "name": "stdout",
     "output_type": "stream",
     "text": [
      "True [<class 'leeq.experiments.builtin.basic.characterizations.t2.SpinEchoMultiLevel'>, \"experiment_SpinEchoMultiLevel = SpinEchoMultiLevel(qubit=qubit, collection_name='f01', mprim_index=0, free_evolution_time=100.0, time_resolution=2.0, start=0.0, initial_lpb=None)\"]\n"
     ]
    },
    {
     "data": {
      "application/vnd.jupyter.widget-view+json": {
       "model_id": "312b4437c3b64049ba02df317b1f2652",
       "version_major": 2,
       "version_minor": 0
      },
      "text/plain": [
       "Recalling:   0%|          | 0/3 [00:00<?, ?it/s]"
      ]
     },
     "metadata": {},
     "output_type": "display_data"
    },
    {
     "name": "stdout",
     "output_type": "stream",
     "text": [
      "False [<class 'leeq.experiments.builtin.basic.characterizations.t2.SpinEchoMultiLevel'>, <class 'leeq.experiments.builtin.multi_qubit_gates.conditional_stark.ConditionalStarkEchoTuneUp'>, 'experiment_t2_dephasing = ConditionalStarkEchoTuneUp(duts=duts, ai_inspection=True)']\n"
     ]
    },
    {
     "data": {
      "application/vnd.jupyter.widget-view+json": {
       "model_id": "1fda974e87ec4134a07bf347479f3513",
       "version_major": 2,
       "version_minor": 0
      },
      "text/plain": [
       "Recalling:   0%|          | 0/3 [00:00<?, ?it/s]"
      ]
     },
     "metadata": {},
     "output_type": "display_data"
    },
    {
     "name": "stdout",
     "output_type": "stream",
     "text": [
      "True [<class 'leeq.experiments.builtin.basic.characterizations.t2.SpinEchoMultiLevel'>, \"experiment_SpinEchoMultiLevel = SpinEchoMultiLevel(qubit=qubit, collection_name='f01', mprim_index=0, free_evolution_time=100.0, time_resolution=2.0, start=0.0, initial_lpb=None)\"]\n"
     ]
    },
    {
     "data": {
      "application/vnd.jupyter.widget-view+json": {
       "model_id": "b7f11e3702e1462fba59e66ce6825d2d",
       "version_major": 2,
       "version_minor": 0
      },
      "text/plain": [
       "Recalling:   0%|          | 0/3 [00:00<?, ?it/s]"
      ]
     },
     "metadata": {},
     "output_type": "display_data"
    },
    {
     "name": "stdout",
     "output_type": "stream",
     "text": [
      "True [<class 'leeq.experiments.builtin.basic.characterizations.t2.SpinEchoMultiLevel'>, \"experiment_SpinEchoMultiLevel = SpinEchoMultiLevel(qubit=qubit, collection_name='f01', mprim_index=0, free_evolution_time=100.0, time_resolution=2.0, start=0.0, initial_lpb=None)\"]\n"
     ]
    },
    {
     "data": {
      "application/vnd.jupyter.widget-view+json": {
       "model_id": "0ec8852bc4de410d81c6d9143817c948",
       "version_major": 2,
       "version_minor": 0
      },
      "text/plain": [
       "Recalling:   0%|          | 0/3 [00:00<?, ?it/s]"
      ]
     },
     "metadata": {},
     "output_type": "display_data"
    },
    {
     "name": "stdout",
     "output_type": "stream",
     "text": [
      "False [\"experiment(type='T2_coherence_profiling', qubits=[0, 1, 2], duration=100, repetitions=1000)\"]\n"
     ]
    },
    {
     "data": {
      "application/vnd.jupyter.widget-view+json": {
       "model_id": "8d3c6f94a95c483f93f12b7e062f4bfb",
       "version_major": 2,
       "version_minor": 0
      },
      "text/plain": [
       "Recalling:   0%|          | 0/3 [00:00<?, ?it/s]"
      ]
     },
     "metadata": {},
     "output_type": "display_data"
    },
    {
     "name": "stdout",
     "output_type": "stream",
     "text": [
      "False [<class 'leeq.experiments.builtin.basic.calibrations.ramsey.SimpleRamseyMultilevel'>, \"experiment_ramsey = SimpleRamseyMultilevel(qubit=qubit, collection_name='f01', mprim_index=0, start=0.0, stop=1.0, step=0.005, set_offset=10.0, update=True)\"]\n"
     ]
    },
    {
     "data": {
      "application/vnd.jupyter.widget-view+json": {
       "model_id": "d5b467c07c7e4f71a5cd8e17a1fa5a96",
       "version_major": 2,
       "version_minor": 0
      },
      "text/plain": [
       "Recalling:   0%|          | 0/3 [00:00<?, ?it/s]"
      ]
     },
     "metadata": {},
     "output_type": "display_data"
    },
    {
     "name": "stdout",
     "output_type": "stream",
     "text": [
      "True [<class 'leeq.experiments.builtin.basic.characterizations.t2.SpinEchoMultiLevel'>, \"experiment_SpinEchoMultiLevel = SpinEchoMultiLevel(qubit=qubit, collection_name='f01', mprim_index=0, free_evolution_time=100.0, time_resolution=2.0, start=0.0, initial_lpb=None)\"]\n"
     ]
    },
    {
     "data": {
      "application/vnd.jupyter.widget-view+json": {
       "model_id": "74ba70508b9546799011729e67c2db47",
       "version_major": 2,
       "version_minor": 0
      },
      "text/plain": [
       "Recalling:   0%|          | 0/3 [00:00<?, ?it/s]"
      ]
     },
     "metadata": {},
     "output_type": "display_data"
    },
    {
     "name": "stdout",
     "output_type": "stream",
     "text": [
      "True [<class 'leeq.experiments.builtin.basic.characterizations.randomized_benchmarking.SingleQubitRandomizedBenchmarking'>, \"experiment_single_qubit_rb = SingleQubitRandomizedBenchmarking(dut=dut_instance, collection_name='f01', seq_length=1024, kinds=10, cliff_set='XY', pi_half_only=False, mprim_index=0, seed=42)\"]\n"
     ]
    },
    {
     "data": {
      "application/vnd.jupyter.widget-view+json": {
       "model_id": "dc41f8b6aecf411e9fa54045ab52e7df",
       "version_major": 2,
       "version_minor": 0
      },
      "text/plain": [
       "Recalling:   0%|          | 0/3 [00:00<?, ?it/s]"
      ]
     },
     "metadata": {},
     "output_type": "display_data"
    },
    {
     "name": "stdout",
     "output_type": "stream",
     "text": [
      "True [<class 'leeq.experiments.builtin.basic.characterizations.randomized_benchmarking.SingleQubitRandomizedBenchmarking'>, \"experiment_single_qubit_rb = SingleQubitRandomizedBenchmarking(dut=dut_instance, collection_name='f01', seq_length=1024, kinds=10, cliff_set='XY', pi_half_only=False, mprim_index=0, seed=42)\"]\n"
     ]
    },
    {
     "data": {
      "application/vnd.jupyter.widget-view+json": {
       "model_id": "53c4a0f4209846248360db1b5283ea0f",
       "version_major": 2,
       "version_minor": 0
      },
      "text/plain": [
       "Recalling:   0%|          | 0/3 [00:00<?, ?it/s]"
      ]
     },
     "metadata": {},
     "output_type": "display_data"
    },
    {
     "name": "stdout",
     "output_type": "stream",
     "text": [
      "False [<class 'leeq.experiments.builtin.multi_qubit_gates.randomized_benchmarking.RandomizedBenchmarking2QubitsInterleavedComparison'>, <class 'leeq.experiments.builtin.basic.characterizations.randomized_benchmarking.SingleQubitRandomizedBenchmarking'>, 'experiment_rb = RandomizedBenchmarking2QubitsInterleavedComparison(duts=[dut1, dut2], c2=c2, seq_length=[0, 2, 4, 6, 8, 10, 12, 16, 20, 24], kinds=10, interleaved=10299)']\n"
     ]
    },
    {
     "data": {
      "application/vnd.jupyter.widget-view+json": {
       "model_id": "e65f85aa0dc74989bf9bce45db0a1705",
       "version_major": 2,
       "version_minor": 0
      },
      "text/plain": [
       "Recalling:   0%|          | 0/3 [00:00<?, ?it/s]"
      ]
     },
     "metadata": {},
     "output_type": "display_data"
    },
    {
     "name": "stdout",
     "output_type": "stream",
     "text": [
      "True [<class 'leeq.experiments.builtin.basic.characterizations.randomized_benchmarking.SingleQubitRandomizedBenchmarking'>, \"experiment_single_qubit_rb = SingleQubitRandomizedBenchmarking(dut=dut_instance, collection_name='f01', seq_length=1024, kinds=10, cliff_set='XY', pi_half_only=False, mprim_index=0, seed=42)\"]\n"
     ]
    },
    {
     "data": {
      "application/vnd.jupyter.widget-view+json": {
       "model_id": "59caf1e5f58443c891d9f7adc54423f1",
       "version_major": 2,
       "version_minor": 0
      },
      "text/plain": [
       "Recalling:   0%|          | 0/3 [00:00<?, ?it/s]"
      ]
     },
     "metadata": {},
     "output_type": "display_data"
    },
    {
     "name": "stdout",
     "output_type": "stream",
     "text": [
      "False [<class 'leeq.experiments.builtin.multi_qubit_gates.randomized_benchmarking.RandomizedBenchmarking2QubitsInterleavedComparison'>, <class 'leeq.experiments.builtin.basic.characterizations.randomized_benchmarking.SingleQubitRandomizedBenchmarking'>, 'rb_interleaved = RandomizedBenchmarking2QubitsInterleavedComparison(duts=[dut1, dut2], kinds=10, seq_length=[0, 2, 4, 6, 8, 10, 12, 16, 20, 24], c2=c2, interleaved=cz_index)']\n"
     ]
    },
    {
     "data": {
      "application/vnd.jupyter.widget-view+json": {
       "model_id": "15308d05398b4eed8f4d3b8cc843275c",
       "version_major": 2,
       "version_minor": 0
      },
      "text/plain": [
       "Recalling:   0%|          | 0/3 [00:00<?, ?it/s]"
      ]
     },
     "metadata": {},
     "output_type": "display_data"
    },
    {
     "name": "stdout",
     "output_type": "stream",
     "text": [
      "True [<class 'leeq.experiments.builtin.basic.characterizations.randomized_benchmarking.SingleQubitRandomizedBenchmarking'>, \"experiment_single_qubit_rb = SingleQubitRandomizedBenchmarking(dut=dut_instance, collection_name='f01', seq_length=1024, kinds=10, cliff_set='XY', pi_half_only=False, mprim_index=0, seed=42)\"]\n"
     ]
    },
    {
     "data": {
      "application/vnd.jupyter.widget-view+json": {
       "model_id": "a817428be54a4760840bd3296a4dd979",
       "version_major": 2,
       "version_minor": 0
      },
      "text/plain": [
       "Recalling:   0%|          | 0/3 [00:00<?, ?it/s]"
      ]
     },
     "metadata": {},
     "output_type": "display_data"
    },
    {
     "name": "stdout",
     "output_type": "stream",
     "text": [
      "True [<class 'leeq.experiments.builtin.basic.calibrations.pingpong.AmpPingpongCalibrationSingleQubitMultilevel'>, <class 'leeq.experiments.builtin.basic.characterizations.randomized_benchmarking.SingleQubitRandomizedBenchmarking'>, \"experiment_single_qubit_rb = SingleQubitRandomizedBenchmarking(dut=dut_instance, collection_name='f01', seq_length=1024, kinds=10, cliff_set='XY', pi_half_only=False, mprim_index=0, seed=42)\"]\n"
     ]
    },
    {
     "data": {
      "application/vnd.jupyter.widget-view+json": {
       "model_id": "3f9c0ffa76b546daa81d984b5b62ff09",
       "version_major": 2,
       "version_minor": 0
      },
      "text/plain": [
       "Recalling:   0%|          | 0/3 [00:00<?, ?it/s]"
      ]
     },
     "metadata": {},
     "output_type": "display_data"
    },
    {
     "name": "stdout",
     "output_type": "stream",
     "text": [
      "True [<class 'leeq.experiments.builtin.basic.characterizations.randomized_benchmarking.SingleQubitRandomizedBenchmarking'>, \"experiment_single_qubit_rb = SingleQubitRandomizedBenchmarking(dut=dut_instance, collection_name='f01', seq_length=1024, kinds=10, cliff_set='XY', pi_half_only=False, mprim_index=0, seed=42)\"]\n"
     ]
    },
    {
     "data": {
      "application/vnd.jupyter.widget-view+json": {
       "model_id": "88f972396ad1441cb26efc3987773a1d",
       "version_major": 2,
       "version_minor": 0
      },
      "text/plain": [
       "Recalling:   0%|          | 0/3 [00:00<?, ?it/s]"
      ]
     },
     "metadata": {},
     "output_type": "display_data"
    },
    {
     "name": "stdout",
     "output_type": "stream",
     "text": [
      "True [<class 'leeq.experiments.builtin.basic.characterizations.randomized_benchmarking.SingleQubitRandomizedBenchmarking'>, \"experiment_single_qubit_rb = SingleQubitRandomizedBenchmarking(dut=dut_instance, collection_name='f01', seq_length=1024, kinds=10, cliff_set='XY', pi_half_only=False, mprim_index=0, seed=42)\"]\n"
     ]
    },
    {
     "data": {
      "application/vnd.jupyter.widget-view+json": {
       "model_id": "6e8711620de94c4d97bb8d6e95ca917c",
       "version_major": 2,
       "version_minor": 0
      },
      "text/plain": [
       "Recalling:   0%|          | 0/3 [00:00<?, ?it/s]"
      ]
     },
     "metadata": {},
     "output_type": "display_data"
    },
    {
     "name": "stdout",
     "output_type": "stream",
     "text": [
      "False [<class 'leeq.experiments.builtin.multi_qubit_gates.randomized_benchmarking.RandomizedBenchmarking2QubitsInterleavedComparison'>, <class 'leeq.experiments.builtin.basic.characterizations.randomized_benchmarking.SingleQubitRandomizedBenchmarking'>, 'experiment_rb = RandomizedBenchmarking2QubitsInterleavedComparison(duts=[dut1, dut2], c2=c2, seq_length=[0, 2, 4, 6, 8, 10, 12, 16, 20, 24], kinds=10, interleaved=10299)']\n"
     ]
    },
    {
     "data": {
      "application/vnd.jupyter.widget-view+json": {
       "model_id": "2459933690734e20866030ef58d66894",
       "version_major": 2,
       "version_minor": 0
      },
      "text/plain": [
       "Recalling:   0%|          | 0/3 [00:00<?, ?it/s]"
      ]
     },
     "metadata": {},
     "output_type": "display_data"
    },
    {
     "name": "stdout",
     "output_type": "stream",
     "text": [
      "True [<class 'leeq.experiments.builtin.basic.calibrations.drag.DragCalibrationSingleQubitMultilevel'>, \"experiment_drag_calibration = DragCalibrationSingleQubitMultilevel(dut=dut, collection_name='f01', mprim_index=0, initial_lpb=initial_lpb, N=1, inv_alpha_start=inv_alpha_start, inv_alpha_stop=inv_alpha_stop, num=21)\"]\n"
     ]
    },
    {
     "data": {
      "application/vnd.jupyter.widget-view+json": {
       "model_id": "5fe9cdee392c472ba40118e81f92541c",
       "version_major": 2,
       "version_minor": 0
      },
      "text/plain": [
       "Recalling:   0%|          | 0/3 [00:00<?, ?it/s]"
      ]
     },
     "metadata": {},
     "output_type": "display_data"
    },
    {
     "name": "stdout",
     "output_type": "stream",
     "text": [
      "True [<class 'leeq.experiments.builtin.basic.calibrations.drag.DragCalibrationSingleQubitMultilevel'>, \"experiment_drag_calibration = DragCalibrationSingleQubitMultilevel(dut=dut, collection_name='f01', mprim_index=0, initial_lpb=initial_lpb, N=1, num=21)\"]\n"
     ]
    },
    {
     "data": {
      "application/vnd.jupyter.widget-view+json": {
       "model_id": "1216e3ce00284d76bb52f35bbef5597c",
       "version_major": 2,
       "version_minor": 0
      },
      "text/plain": [
       "Recalling:   0%|          | 0/3 [00:00<?, ?it/s]"
      ]
     },
     "metadata": {},
     "output_type": "display_data"
    },
    {
     "name": "stdout",
     "output_type": "stream",
     "text": [
      "True [<class 'leeq.experiments.builtin.basic.calibrations.drag.DragCalibrationSingleQubitMultilevel'>, \"experiment_drag_calibration = DragCalibrationSingleQubitMultilevel(dut=dut, collection_name='f01', mprim_index=0, initial_lpb=initial_lpb, N=1, inv_alpha_start=None, inv_alpha_stop=None, num=21)\"]\n"
     ]
    },
    {
     "data": {
      "application/vnd.jupyter.widget-view+json": {
       "model_id": "2beb3e2d0e9c49f09c53e28987854aca",
       "version_major": 2,
       "version_minor": 0
      },
      "text/plain": [
       "Recalling:   0%|          | 0/3 [00:00<?, ?it/s]"
      ]
     },
     "metadata": {},
     "output_type": "display_data"
    },
    {
     "name": "stdout",
     "output_type": "stream",
     "text": [
      "True [<class 'leeq.experiments.builtin.basic.calibrations.drag.DragCalibrationSingleQubitMultilevel'>, \"experiment_drag_calibration = DragCalibrationSingleQubitMultilevel(dut=dut, collection_name='f01', mprim_index=0, initial_lpb=initial_lpb, N=1, num=21)\"]\n"
     ]
    },
    {
     "data": {
      "application/vnd.jupyter.widget-view+json": {
       "model_id": "c7918d8aebaf4b5ab89aaa99aad8d9af",
       "version_major": 2,
       "version_minor": 0
      },
      "text/plain": [
       "Recalling:   0%|          | 0/3 [00:00<?, ?it/s]"
      ]
     },
     "metadata": {},
     "output_type": "display_data"
    },
    {
     "name": "stdout",
     "output_type": "stream",
     "text": [
      "True [<class 'leeq.experiments.builtin.basic.calibrations.drag.DragCalibrationSingleQubitMultilevel'>, <class 'leeq.experiments.builtin.basic.calibrations.pingpong.AmpPingpongCalibrationSingleQubitMultilevel'>, \"experiment_drag_calibration = DragCalibrationSingleQubitMultilevel(dut=dut_device, collection_name='f01', mprim_index=0, initial_lpb=initial_pulse_sequence, N=1, num=21)\"]\n"
     ]
    },
    {
     "data": {
      "application/vnd.jupyter.widget-view+json": {
       "model_id": "e7f519eff93b4563ae6ba0964f7bcccb",
       "version_major": 2,
       "version_minor": 0
      },
      "text/plain": [
       "Recalling:   0%|          | 0/3 [00:00<?, ?it/s]"
      ]
     },
     "metadata": {},
     "output_type": "display_data"
    },
    {
     "name": "stdout",
     "output_type": "stream",
     "text": [
      "True [<class 'leeq.experiments.builtin.basic.calibrations.drag.DragCalibrationSingleQubitMultilevel'>, <class 'leeq.experiments.builtin.basic.calibrations.pingpong.AmpPingpongCalibrationSingleQubitMultilevel'>, \"experiment_drag_calibration = DragCalibrationSingleQubitMultilevel(dut=device_under_test, collection_name='f01', mprim_index=0, initial_lpb=initial_pulse_sequence, N=1, num=21)\"]\n"
     ]
    },
    {
     "data": {
      "application/vnd.jupyter.widget-view+json": {
       "model_id": "c08d6e849de74c7ba8197d6d27d55bb4",
       "version_major": 2,
       "version_minor": 0
      },
      "text/plain": [
       "Recalling:   0%|          | 0/3 [00:00<?, ?it/s]"
      ]
     },
     "metadata": {},
     "output_type": "display_data"
    },
    {
     "name": "stdout",
     "output_type": "stream",
     "text": [
      "True [<class 'leeq.experiments.builtin.basic.calibrations.drag.DragCalibrationSingleQubitMultilevel'>, <class 'leeq.experiments.builtin.multi_qubit_gates.conditional_stark.ConditionalStarkEchoTuneUp'>, \"experiment_drag_calibration = DragCalibrationSingleQubitMultilevel(dut=dut, collection_name='f01', mprim_index=0, initial_lpb=initial_lpb, N=1, num=21)\"]\n"
     ]
    },
    {
     "data": {
      "application/vnd.jupyter.widget-view+json": {
       "model_id": "72821397286d4900941dcbe4fa2e1b4a",
       "version_major": 2,
       "version_minor": 0
      },
      "text/plain": [
       "Recalling:   0%|          | 0/3 [00:00<?, ?it/s]"
      ]
     },
     "metadata": {},
     "output_type": "display_data"
    },
    {
     "name": "stdout",
     "output_type": "stream",
     "text": [
      "True [<class 'leeq.experiments.builtin.basic.calibrations.drag.DragCalibrationSingleQubitMultilevel'>, <class 'leeq.experiments.builtin.basic.calibrations.pingpong.AmpPingpongCalibrationSingleQubitMultilevel'>, \"experiment_drag_calibration = DragCalibrationSingleQubitMultilevel(dut=dut, collection_name='f01', mprim_index=0, initial_lpb=initial_lpb, N=1, inv_alpha_start=None, inv_alpha_stop=None, num=21)\"]\n"
     ]
    },
    {
     "data": {
      "application/vnd.jupyter.widget-view+json": {
       "model_id": "7d7bc70400ef4b198e3cd093bcf8f34d",
       "version_major": 2,
       "version_minor": 0
      },
      "text/plain": [
       "Recalling:   0%|          | 0/3 [00:00<?, ?it/s]"
      ]
     },
     "metadata": {},
     "output_type": "display_data"
    },
    {
     "name": "stdout",
     "output_type": "stream",
     "text": [
      "True [<class 'leeq.experiments.builtin.basic.calibrations.drag.DragCalibrationSingleQubitMultilevel'>, <class 'leeq.experiments.builtin.basic.calibrations.pingpong.AmpPingpongCalibrationSingleQubitMultilevel'>, <class 'leeq.experiments.builtin.multi_qubit_gates.conditional_stark.ConditionalStarkEchoTuneUp'>, \"experiment_drag_calibration = DragCalibrationSingleQubitMultilevel(dut=my_device, collection_name='f01', mprim_index=0, initial_lpb=initial_pulse_sequence, N=1, num=21)\"]\n"
     ]
    },
    {
     "data": {
      "application/vnd.jupyter.widget-view+json": {
       "model_id": "c5dcdba3d8a24d00ae907348354d8d06",
       "version_major": 2,
       "version_minor": 0
      },
      "text/plain": [
       "Recalling:   0%|          | 0/3 [00:00<?, ?it/s]"
      ]
     },
     "metadata": {},
     "output_type": "display_data"
    },
    {
     "name": "stdout",
     "output_type": "stream",
     "text": [
      "True [<class 'leeq.experiments.builtin.basic.calibrations.drag.DragCalibrationSingleQubitMultilevel'>, <class 'leeq.experiments.builtin.basic.calibrations.pingpong.AmpPingpongCalibrationSingleQubitMultilevel'>, \"experiment_drag_calibration = DragCalibrationSingleQubitMultilevel(dut=dut, collection_name='f01', mprim_index=0, initial_lpb=initial_lpb, N=1, num=21)\"]\n"
     ]
    }
   ],
   "source": [
    "results = benchmark_all()"
   ]
  },
  {
   "cell_type": "code",
   "execution_count": null,
   "id": "c75b45cd-b71b-45a7-9aa2-5e0919577d71",
   "metadata": {
    "ExecuteTime": {
     "end_time": "2024-07-20T20:31:22.639378Z",
     "start_time": "2024-07-20T20:31:22.639072Z"
    }
   },
   "outputs": [],
   "source": [
    "import pickle\n",
    "with open('embedding_search_benchmark.pkl','wb') as f:\n",
    "    pickle.dump(results,f)"
   ]
  },
  {
   "cell_type": "code",
   "execution_count": 6,
   "id": "936f4f2d-7c3e-48c9-9269-12899c6da8b8",
   "metadata": {},
   "outputs": [
    {
     "name": "stdout",
     "output_type": "stream",
     "text": [
      "GMM 1.0\n",
      "Ramsey 0.9\n",
      "Rabi 0.8\n",
      "Pingpong 0.9\n",
      "Resonator spectroscopy 1.0\n",
      "T1 1.0\n",
      "T2 0.7\n",
      "RB1Q 0.7\n",
      "Drag 1.0\n"
     ]
    }
   ],
   "source": [
    "for k,vs in results.items():\n",
    "    success_list = np.asarray([v[1] for v in vs]).astype(float)\n",
    "    success_rate = success_list.mean()\n",
    "    print(k,success_rate)\n",
    "    "
   ]
  },
  {
   "cell_type": "code",
   "execution_count": null,
   "id": "1000b915-249a-4245-8d44-7e74725a6d09",
   "metadata": {},
   "outputs": [],
   "source": []
  }
 ],
 "metadata": {
  "kernelspec": {
   "display_name": "Python 3 (ipykernel)",
   "language": "python",
   "name": "python3"
  },
  "language_info": {
   "codemirror_mode": {
    "name": "ipython",
    "version": 3
   },
   "file_extension": ".py",
   "mimetype": "text/x-python",
   "name": "python",
   "nbconvert_exporter": "python",
   "pygments_lexer": "ipython3",
   "version": "3.11.9"
  }
 },
 "nbformat": 4,
 "nbformat_minor": 5
}
