{
 "cells": [
  {
   "cell_type": "markdown",
   "id": "e4ddbac9-5705-48d9-a00e-4663dc6346ff",
   "metadata": {},
   "source": [
    "# Embedding Search Benchmarking\n",
    "\n",
    "In this study we wish to check the AI's ability to understand the natural language description of the experiment and select the correct experiment from the code base.\n",
    "\n",
    "We generate 10 different prompts for each experiment and check if the AI can find the correct related experiment.\n",
    "\n",
    "We report the accuracy of top hit, top 3 hit, top 5 hit and hit after filtering and revision."
   ]
  },
  {
   "cell_type": "code",
   "execution_count": 1,
   "id": "3c7fb004-5eca-418b-a462-b149a43619f2",
   "metadata": {},
   "outputs": [],
   "source": [
    "import leeq\n",
    "from leeq.experiments.builtin import *"
   ]
  },
  {
   "cell_type": "code",
   "execution_count": 2,
   "id": "91bd2a74-18e9-4444-a70b-996626d93a06",
   "metadata": {},
   "outputs": [],
   "source": [
    "experiment_prompt = {\n",
    "    'GMM': (MeasurementCalibrationMultilevelGMM,[\n",
    "        'Run GMM measurement calibration',\n",
    "        'Implement GMM model calibration for measurement',\n",
    "        'Calibrate the measurement GMM model',\n",
    "        'Calibrate the measurement GMM model with amplitude=0.2 and drive frequency = 9876 MHz',\n",
    "        'Run measurement calibration with amp=0.1 and frequency = 8790 MHz',\n",
    "        'Implement calibration for measurement',\n",
    "        'Calibrate measurement parameters',\n",
    "        'Run measurement calibration',\n",
    "        'Implement measurement calibration for state discrimination',\n",
    "        'Do measurement calibration'\n",
    "    ]),\n",
    "    'Ramsey': (SimpleRamseyMultilevel,[\n",
    "        'Run ramsey experiment with default parameters',\n",
    "        'Run ramsey experiment to calibrate qubit frequency with default parameters',\n",
    "        'Implement ramsey expeirment for qubit frequency calibration',\n",
    "        'Calibrate qubit frequency with ramsey experiment',\n",
    "        'Qubit frequency calibration with ramsey experiment',\n",
    "        'Implement ramsey experiments to estimate qubit frequency.',\n",
    "        'Qubit frequency estimation with ramsey experiment',\n",
    "        'Do ramsey experiment to calibrate qubit frequency',\n",
    "        'Do Ramsey interferometry experiment',\n",
    "        'Calibrate qubit frequency using the ramsey experiment'\n",
    "    ]),\n",
    "    'Rabi': (NormalisedRabi,[\n",
    "        'Run rabi experiment to calibrate single qubit gate driving amplitudes',\n",
    "        'Measure Rabi oscillations to determine single qubit gate driving amplitudes',\n",
    "        'Implement Rabi experiment to find pi pulse duration',\n",
    "        'Calibrate Rabi rate for single qubit gate',\n",
    "        'Determine single qubit gate prameter using Rabi experiment',\n",
    "        'Run Rabi experiment with default parameters',\n",
    "        'Single qubit gate amptiludes estimation using Rabi experiments',\n",
    "        'Do Rabi experiment to measure qubit drive amplitudes',\n",
    "        'Run Rabi experiment',\n",
    "        'Calibrate qubit drive amplitudes using Rabi experiment'\n",
    "    ]),\n",
    "    'Pingpong': (AmpPingpongCalibrationSingleQubitMultilevel,[\n",
    "        'Fine-tune single qubit gate driving amplitude settings using pingpong method',\n",
    "        'Adjust single qubit gate driving amplitude for optimal fidelity',\n",
    "        'Calibrate signal amplitude with pingpong feedback loop',\n",
    "        'Run single qubit gate amplitude tuning using pingpong experiment',\n",
    "        'Implement pingpong feedback calibration for fine tuning single qubit gate amplitude',\n",
    "        'Optimize driving parameters with the pingpong method',\n",
    "        'Pingpong tuning of amplitudes settings',\n",
    "        'Amplitude fine-tuning with pingpong approach',\n",
    "        'Iterative tuning of amplitude using piongpong experiment',\n",
    "        'Calibrate amplitude settings using iterative pingpong method'\n",
    "    ]),\n",
    "    'Resonator spectroscopy': (ResonatorSweepTransmissionWithExtraInitialLPB,[\n",
    "        'Run resonator spectroscopy to determine resonant frequencies',\n",
    "        'Implement spectroscopy on resonator',\n",
    "        'Calibrate resonator using spectroscopic techniques',\n",
    "        'Measure quality factor of resonators with spectroscopy',\n",
    "        'Determine resonator location via resonator spectroscopy',\n",
    "        'Spectroscopic analysis of resonator bandwidth using resonator spectroscopy',\n",
    "        'Run full spectroscopic scan on resonator',\n",
    "        'Discover resonators with spectroscopy',\n",
    "        'Resonator frequency mapping using spectroscopy',\n",
    "        'Measure resonator frequency response using spectroscopy'\n",
    "    ]),\n",
    "    'T1': (SimpleT1,[\n",
    "        'Run T1 experiment to measure relaxation time',\n",
    "        'Implement T1 relaxation time measurement',\n",
    "        'Determine qubit T1 relaxation times',\n",
    "        'Measure T1 relaxation time of qubit',\n",
    "        'Do T1 experiment',\n",
    "        'Measure T1 Relaxation time',\n",
    "        'Do T1 experiment for qubit decay',\n",
    "        'T1 relaxation profiling of qubits',\n",
    "        'Experimentally determine qubit T1 times',\n",
    "        'Measure decay characteristics with T1 experiment'\n",
    "    ]),\n",
    "    'T2': (SpinEchoMultiLevel,[\n",
    "        'Run T2 experiment to measure dephasing time',\n",
    "        'Implement T2 echo experiment',\n",
    "        'Determine qubit T2 dephasing times',\n",
    "        'Measure coherence time using Hahn echo',\n",
    "        'Calibrate for T2 dephasing time measurements',\n",
    "        'Quantify qubit coherence with echo experiments',\n",
    "        'Do T2 echo to observe qubit dephasing',\n",
    "        'T2 coherence profiling of qubits',\n",
    "        'Experimentally determine qubit T2 times',\n",
    "        'Measure qubit coherence decay using T2 experiment'\n",
    "    ]),\n",
    "    'RB1Q': (SingleQubitRandomizedBenchmarking,[\n",
    "        'Run randomized benchmarking to measure single-qubit gate fidelity',\n",
    "        'Implement 1Q randomized benchmarking',\n",
    "        'Measure qubit gate errors using randomized benchmarking',\n",
    "        'Characterize single qubit gates performance using randomized benchmarking',\n",
    "        'Determine fidelity of qubit operations with randomized benchmarking',\n",
    "        'Randomized benchmarking for error characterization on single qubit gate',\n",
    "        'Perform single-qubit benchmarking for error rates',\n",
    "        'Implement randomized benchmarking for single qubits',\n",
    "        'Calibrate and measure single-qubit errors with randomized benchmarking',\n",
    "        'Quantify qubit performance with randomized benchmarking'\n",
    "    ]),\n",
    "    'Drag': (DragCalibrationSingleQubitMultilevel,[\n",
    "        'Implement DRAG calibration to reduce gate errors',\n",
    "        'Calibrate DRAG parameters to optimize qubit control',\n",
    "        'Run DRAG calibration for improved qubit gate fidelity',\n",
    "        'Optimize DRAG coefficients for quantum gates',\n",
    "        'Measure and adjust DRAG parameters for qubit gates',\n",
    "        'Calibrate pulse shaping using DRAG technique',\n",
    "        'DRAG parameter tuning for gate error reduction',\n",
    "        'Implement DRAG calibration routines',\n",
    "        'Optimize qubit gate performance with DRAG calibration',\n",
    "        'DRAG calibration to minimize leakage errors'\n",
    "    ])\n",
    "}\n"
   ]
  },
  {
   "cell_type": "code",
   "execution_count": 3,
   "id": "20d9568d-0782-4a8e-96c8-d18571a83a40",
   "metadata": {},
   "outputs": [
    {
     "data": {
      "application/vnd.jupyter.widget-view+json": {
       "model_id": "b9e2309c1f714dc480c7a9ad18be8241",
       "version_major": 2,
       "version_minor": 0
      },
      "text/plain": [
       "Adding experiment to memory:   0%|          | 0/12 [00:00<?, ?it/s]"
      ]
     },
     "metadata": {},
     "output_type": "display_data"
    }
   ],
   "source": [
    "from leeq.utils.ai.code_indexer import build_leeq_code_ltm\n",
    "from leeq.utils.ai.staging.stage_execution import get_codegen_wm\n",
    "from leeq.utils.ai.variable_table import VariableTable\n",
    "\n",
    "lt_memory,var_table = build_leeq_code_ltm()"
   ]
  },
  {
   "cell_type": "code",
   "execution_count": 4,
   "id": "f6890552-0ee4-4f55-a8db-230393e1f5d7",
   "metadata": {},
   "outputs": [],
   "source": [
    "def benchmark_single(key,experiment,description):\n",
    "    input_var_table = VariableTable()\n",
    "    codegen_wm = get_codegen_wm(description, input_var_table)\n",
    "    res = lt_memory.recall_by_wm(codegen_wm, top_k=5)\n",
    "    success = len(res.idea_results) == 1 and res.idea_results[0].idea.exp_cls == experiment\n",
    "\n",
    "    additional_info = [x.idea.exp_name for x in res.idea_results]\n",
    "\n",
    "    return success,additional_info\n",
    "\n",
    "\n",
    "def benchmark_all():\n",
    "\n",
    "    results_list = {}\n",
    "    \n",
    "    for exp_name in experiment_prompt.keys():\n",
    "        results = []\n",
    "        exp_class = experiment_prompt[exp_name][0]\n",
    "        exp_prompts = experiment_prompt[exp_name][1]\n",
    "\n",
    "        for prompt in exp_prompts:\n",
    "            success,additional_info = benchmark_single(exp_name,exp_class,prompt)\n",
    "            print(success,additional_info)\n",
    "            results.append((prompt,success,additional_info))\n",
    "\n",
    "        results_list[exp_name] = results\n",
    "\n",
    "    return results_list"
   ]
  },
  {
   "cell_type": "code",
   "execution_count": 5,
   "id": "13157c36-6cac-44c6-8800-b51734b9e447",
   "metadata": {},
   "outputs": [
    {
     "data": {
      "application/vnd.jupyter.widget-view+json": {
       "model_id": "525d7a78320e4ddf8ac6063ab7f84a6e",
       "version_major": 2,
       "version_minor": 0
      },
      "text/plain": [
       "Recalling:   0%|          | 0/5 [00:00<?, ?it/s]"
      ]
     },
     "metadata": {},
     "output_type": "display_data"
    },
    {
     "name": "stdout",
     "output_type": "stream",
     "text": [
      "True ['MeasurementCalibrationMultilevelGMM']\n"
     ]
    },
    {
     "data": {
      "application/vnd.jupyter.widget-view+json": {
       "model_id": "393bb1a9d11449ca85044baa9d14b11e",
       "version_major": 2,
       "version_minor": 0
      },
      "text/plain": [
       "Recalling:   0%|          | 0/5 [00:00<?, ?it/s]"
      ]
     },
     "metadata": {},
     "output_type": "display_data"
    },
    {
     "name": "stdout",
     "output_type": "stream",
     "text": [
      "True ['MeasurementCalibrationMultilevelGMM']\n"
     ]
    },
    {
     "data": {
      "application/vnd.jupyter.widget-view+json": {
       "model_id": "154de6201b644e628d8cfb9f736a3254",
       "version_major": 2,
       "version_minor": 0
      },
      "text/plain": [
       "Recalling:   0%|          | 0/5 [00:00<?, ?it/s]"
      ]
     },
     "metadata": {},
     "output_type": "display_data"
    },
    {
     "name": "stdout",
     "output_type": "stream",
     "text": [
      "True ['MeasurementCalibrationMultilevelGMM']\n"
     ]
    },
    {
     "data": {
      "application/vnd.jupyter.widget-view+json": {
       "model_id": "435990a6d392481ba5fdb0b4a46f4db8",
       "version_major": 2,
       "version_minor": 0
      },
      "text/plain": [
       "Recalling:   0%|          | 0/5 [00:00<?, ?it/s]"
      ]
     },
     "metadata": {},
     "output_type": "display_data"
    },
    {
     "name": "stdout",
     "output_type": "stream",
     "text": [
      "True ['MeasurementCalibrationMultilevelGMM']\n"
     ]
    },
    {
     "data": {
      "application/vnd.jupyter.widget-view+json": {
       "model_id": "c982a0dfb52b4f8a960216b63fc8a298",
       "version_major": 2,
       "version_minor": 0
      },
      "text/plain": [
       "Recalling:   0%|          | 0/5 [00:00<?, ?it/s]"
      ]
     },
     "metadata": {},
     "output_type": "display_data"
    },
    {
     "name": "stdout",
     "output_type": "stream",
     "text": [
      "False ['ResonatorSweepTransmissionWithExtraInitialLPB', 'MeasurementCalibrationMultilevelGMM', 'ConditionalStarkEchoTuneUp']\n"
     ]
    },
    {
     "data": {
      "application/vnd.jupyter.widget-view+json": {
       "model_id": "53cd769df01c46b5a339141ca9af6816",
       "version_major": 2,
       "version_minor": 0
      },
      "text/plain": [
       "Recalling:   0%|          | 0/5 [00:00<?, ?it/s]"
      ]
     },
     "metadata": {},
     "output_type": "display_data"
    },
    {
     "name": "stdout",
     "output_type": "stream",
     "text": [
      "False ['MeasurementCalibrationMultilevelGMM', 'ConditionalStarkEchoTuneUp', 'DragCalibrationSingleQubitMultilevel']\n"
     ]
    },
    {
     "data": {
      "application/vnd.jupyter.widget-view+json": {
       "model_id": "0ed58831564144b092c6f5ccabc97bc1",
       "version_major": 2,
       "version_minor": 0
      },
      "text/plain": [
       "Recalling:   0%|          | 0/5 [00:00<?, ?it/s]"
      ]
     },
     "metadata": {},
     "output_type": "display_data"
    },
    {
     "name": "stdout",
     "output_type": "stream",
     "text": [
      "False ['AmpPingpongCalibrationSingleQubitMultilevel', 'MeasurementCalibrationMultilevelGMM', 'SimpleRamseyMultilevel', 'DragCalibrationSingleQubitMultilevel']\n"
     ]
    },
    {
     "data": {
      "application/vnd.jupyter.widget-view+json": {
       "model_id": "423eb49f239a4deea2717f19698cb94e",
       "version_major": 2,
       "version_minor": 0
      },
      "text/plain": [
       "Recalling:   0%|          | 0/5 [00:00<?, ?it/s]"
      ]
     },
     "metadata": {},
     "output_type": "display_data"
    },
    {
     "name": "stdout",
     "output_type": "stream",
     "text": [
      "False ['MeasurementCalibrationMultilevelGMM', 'ConditionalStarkEchoTuneUp', 'ConditionalStarkTuneUpRabiXY', 'AmpPingpongCalibrationSingleQubitMultilevel', 'DragCalibrationSingleQubitMultilevel']\n"
     ]
    },
    {
     "data": {
      "application/vnd.jupyter.widget-view+json": {
       "model_id": "019bc022e3b3486d87488d7e520b8a2c",
       "version_major": 2,
       "version_minor": 0
      },
      "text/plain": [
       "Recalling:   0%|          | 0/5 [00:00<?, ?it/s]"
      ]
     },
     "metadata": {},
     "output_type": "display_data"
    },
    {
     "name": "stdout",
     "output_type": "stream",
     "text": [
      "True ['MeasurementCalibrationMultilevelGMM']\n"
     ]
    },
    {
     "data": {
      "application/vnd.jupyter.widget-view+json": {
       "model_id": "d92285a2fa79409ca4af1f99380d5bc7",
       "version_major": 2,
       "version_minor": 0
      },
      "text/plain": [
       "Recalling:   0%|          | 0/5 [00:00<?, ?it/s]"
      ]
     },
     "metadata": {},
     "output_type": "display_data"
    },
    {
     "name": "stdout",
     "output_type": "stream",
     "text": [
      "False ['MeasurementCalibrationMultilevelGMM', 'ConditionalStarkEchoTuneUp', 'AmpPingpongCalibrationSingleQubitMultilevel', 'DragCalibrationSingleQubitMultilevel']\n"
     ]
    },
    {
     "data": {
      "application/vnd.jupyter.widget-view+json": {
       "model_id": "7e3479691b144a44ad05f6195048805c",
       "version_major": 2,
       "version_minor": 0
      },
      "text/plain": [
       "Recalling:   0%|          | 0/5 [00:00<?, ?it/s]"
      ]
     },
     "metadata": {},
     "output_type": "display_data"
    },
    {
     "name": "stdout",
     "output_type": "stream",
     "text": [
      "True ['SimpleRamseyMultilevel']\n"
     ]
    },
    {
     "data": {
      "application/vnd.jupyter.widget-view+json": {
       "model_id": "4eb1c4fbee4c43df9a62356914eb7565",
       "version_major": 2,
       "version_minor": 0
      },
      "text/plain": [
       "Recalling:   0%|          | 0/5 [00:00<?, ?it/s]"
      ]
     },
     "metadata": {},
     "output_type": "display_data"
    },
    {
     "name": "stdout",
     "output_type": "stream",
     "text": [
      "True ['SimpleRamseyMultilevel']\n"
     ]
    },
    {
     "data": {
      "application/vnd.jupyter.widget-view+json": {
       "model_id": "714494535029424b81cfd51c953a8e57",
       "version_major": 2,
       "version_minor": 0
      },
      "text/plain": [
       "Recalling:   0%|          | 0/5 [00:00<?, ?it/s]"
      ]
     },
     "metadata": {},
     "output_type": "display_data"
    },
    {
     "name": "stdout",
     "output_type": "stream",
     "text": [
      "True ['SimpleRamseyMultilevel']\n"
     ]
    },
    {
     "data": {
      "application/vnd.jupyter.widget-view+json": {
       "model_id": "0f3ed1dda41048c987e6030b8ceb11b4",
       "version_major": 2,
       "version_minor": 0
      },
      "text/plain": [
       "Recalling:   0%|          | 0/5 [00:00<?, ?it/s]"
      ]
     },
     "metadata": {},
     "output_type": "display_data"
    },
    {
     "name": "stdout",
     "output_type": "stream",
     "text": [
      "True ['SimpleRamseyMultilevel']\n"
     ]
    },
    {
     "data": {
      "application/vnd.jupyter.widget-view+json": {
       "model_id": "64f031806fca4b8d81e7e2b21fdc4a8e",
       "version_major": 2,
       "version_minor": 0
      },
      "text/plain": [
       "Recalling:   0%|          | 0/5 [00:00<?, ?it/s]"
      ]
     },
     "metadata": {},
     "output_type": "display_data"
    },
    {
     "name": "stdout",
     "output_type": "stream",
     "text": [
      "True ['SimpleRamseyMultilevel']\n"
     ]
    },
    {
     "data": {
      "application/vnd.jupyter.widget-view+json": {
       "model_id": "ff9e805b9da748b58440bb8c204589da",
       "version_major": 2,
       "version_minor": 0
      },
      "text/plain": [
       "Recalling:   0%|          | 0/5 [00:00<?, ?it/s]"
      ]
     },
     "metadata": {},
     "output_type": "display_data"
    },
    {
     "name": "stdout",
     "output_type": "stream",
     "text": [
      "True ['SimpleRamseyMultilevel']\n"
     ]
    },
    {
     "data": {
      "application/vnd.jupyter.widget-view+json": {
       "model_id": "6f40b07d32e54d0fbfa62a23a7194e20",
       "version_major": 2,
       "version_minor": 0
      },
      "text/plain": [
       "Recalling:   0%|          | 0/5 [00:00<?, ?it/s]"
      ]
     },
     "metadata": {},
     "output_type": "display_data"
    },
    {
     "name": "stdout",
     "output_type": "stream",
     "text": [
      "True ['SimpleRamseyMultilevel']\n"
     ]
    },
    {
     "data": {
      "application/vnd.jupyter.widget-view+json": {
       "model_id": "eb59aba84ee44561b9a7934b36484ddb",
       "version_major": 2,
       "version_minor": 0
      },
      "text/plain": [
       "Recalling:   0%|          | 0/5 [00:00<?, ?it/s]"
      ]
     },
     "metadata": {},
     "output_type": "display_data"
    },
    {
     "name": "stdout",
     "output_type": "stream",
     "text": [
      "True ['SimpleRamseyMultilevel']\n"
     ]
    },
    {
     "data": {
      "application/vnd.jupyter.widget-view+json": {
       "model_id": "e2b5d1b6745e42ed94ab4f3aa7ffd841",
       "version_major": 2,
       "version_minor": 0
      },
      "text/plain": [
       "Recalling:   0%|          | 0/5 [00:00<?, ?it/s]"
      ]
     },
     "metadata": {},
     "output_type": "display_data"
    },
    {
     "name": "stdout",
     "output_type": "stream",
     "text": [
      "True ['SimpleRamseyMultilevel']\n"
     ]
    },
    {
     "data": {
      "application/vnd.jupyter.widget-view+json": {
       "model_id": "5440d8e87c304cc7ace355e50ca4c547",
       "version_major": 2,
       "version_minor": 0
      },
      "text/plain": [
       "Recalling:   0%|          | 0/5 [00:00<?, ?it/s]"
      ]
     },
     "metadata": {},
     "output_type": "display_data"
    },
    {
     "name": "stdout",
     "output_type": "stream",
     "text": [
      "True ['SimpleRamseyMultilevel']\n"
     ]
    },
    {
     "data": {
      "application/vnd.jupyter.widget-view+json": {
       "model_id": "6267638ef75a439bb685af8abf53c2d7",
       "version_major": 2,
       "version_minor": 0
      },
      "text/plain": [
       "Recalling:   0%|          | 0/5 [00:00<?, ?it/s]"
      ]
     },
     "metadata": {},
     "output_type": "display_data"
    },
    {
     "name": "stdout",
     "output_type": "stream",
     "text": [
      "False ['ConditionalStarkTuneUpRabiXY', 'NormalisedRabi', 'AmpPingpongCalibrationSingleQubitMultilevel']\n"
     ]
    },
    {
     "data": {
      "application/vnd.jupyter.widget-view+json": {
       "model_id": "ce63ffdf4ad8473bbfb109c1c56f504a",
       "version_major": 2,
       "version_minor": 0
      },
      "text/plain": [
       "Recalling:   0%|          | 0/5 [00:00<?, ?it/s]"
      ]
     },
     "metadata": {},
     "output_type": "display_data"
    },
    {
     "name": "stdout",
     "output_type": "stream",
     "text": [
      "False ['ConditionalStarkTuneUpRabiXY', 'NormalisedRabi']\n"
     ]
    },
    {
     "data": {
      "application/vnd.jupyter.widget-view+json": {
       "model_id": "0a31fdf33679493e815fff736a13416c",
       "version_major": 2,
       "version_minor": 0
      },
      "text/plain": [
       "Recalling:   0%|          | 0/5 [00:00<?, ?it/s]"
      ]
     },
     "metadata": {},
     "output_type": "display_data"
    },
    {
     "name": "stdout",
     "output_type": "stream",
     "text": [
      "False ['ConditionalStarkTuneUpRabiXY', 'NormalisedRabi']\n"
     ]
    },
    {
     "data": {
      "application/vnd.jupyter.widget-view+json": {
       "model_id": "0a12985ceae74dc5a3b4e3e61357de9d",
       "version_major": 2,
       "version_minor": 0
      },
      "text/plain": [
       "Recalling:   0%|          | 0/5 [00:00<?, ?it/s]"
      ]
     },
     "metadata": {},
     "output_type": "display_data"
    },
    {
     "name": "stdout",
     "output_type": "stream",
     "text": [
      "False ['ConditionalStarkTuneUpRabiXY', 'NormalisedRabi']\n"
     ]
    },
    {
     "data": {
      "application/vnd.jupyter.widget-view+json": {
       "model_id": "c23fcd0bf20947928b50f31bb37a7063",
       "version_major": 2,
       "version_minor": 0
      },
      "text/plain": [
       "Recalling:   0%|          | 0/5 [00:00<?, ?it/s]"
      ]
     },
     "metadata": {},
     "output_type": "display_data"
    },
    {
     "name": "stdout",
     "output_type": "stream",
     "text": [
      "True ['NormalisedRabi']\n"
     ]
    },
    {
     "data": {
      "application/vnd.jupyter.widget-view+json": {
       "model_id": "8fca263513fe4c67a5dde06f7fa2b038",
       "version_major": 2,
       "version_minor": 0
      },
      "text/plain": [
       "Recalling:   0%|          | 0/5 [00:00<?, ?it/s]"
      ]
     },
     "metadata": {},
     "output_type": "display_data"
    },
    {
     "name": "stdout",
     "output_type": "stream",
     "text": [
      "False ['ConditionalStarkTuneUpRabiXY', 'NormalisedRabi']\n"
     ]
    },
    {
     "data": {
      "application/vnd.jupyter.widget-view+json": {
       "model_id": "cfeadea549024686b728042e04b6e575",
       "version_major": 2,
       "version_minor": 0
      },
      "text/plain": [
       "Recalling:   0%|          | 0/5 [00:00<?, ?it/s]"
      ]
     },
     "metadata": {},
     "output_type": "display_data"
    },
    {
     "name": "stdout",
     "output_type": "stream",
     "text": [
      "True ['NormalisedRabi']\n"
     ]
    },
    {
     "data": {
      "application/vnd.jupyter.widget-view+json": {
       "model_id": "4c9c30e4e57b4ec79f6464cf4ca793c0",
       "version_major": 2,
       "version_minor": 0
      },
      "text/plain": [
       "Recalling:   0%|          | 0/5 [00:00<?, ?it/s]"
      ]
     },
     "metadata": {},
     "output_type": "display_data"
    },
    {
     "name": "stdout",
     "output_type": "stream",
     "text": [
      "False ['ConditionalStarkTuneUpRabiXY', 'NormalisedRabi']\n"
     ]
    },
    {
     "data": {
      "application/vnd.jupyter.widget-view+json": {
       "model_id": "854642faeb1f4aa9856dea8f30928a24",
       "version_major": 2,
       "version_minor": 0
      },
      "text/plain": [
       "Recalling:   0%|          | 0/5 [00:00<?, ?it/s]"
      ]
     },
     "metadata": {},
     "output_type": "display_data"
    },
    {
     "name": "stdout",
     "output_type": "stream",
     "text": [
      "False ['ConditionalStarkTuneUpRabiXY', 'NormalisedRabi']\n"
     ]
    },
    {
     "data": {
      "application/vnd.jupyter.widget-view+json": {
       "model_id": "935b3b565a0f4a2b9f818051d9daaadd",
       "version_major": 2,
       "version_minor": 0
      },
      "text/plain": [
       "Recalling:   0%|          | 0/5 [00:00<?, ?it/s]"
      ]
     },
     "metadata": {},
     "output_type": "display_data"
    },
    {
     "name": "stdout",
     "output_type": "stream",
     "text": [
      "False ['ConditionalStarkTuneUpRabiXY', 'NormalisedRabi']\n"
     ]
    },
    {
     "data": {
      "application/vnd.jupyter.widget-view+json": {
       "model_id": "7e5175c36ea14594a30888f52cd2de26",
       "version_major": 2,
       "version_minor": 0
      },
      "text/plain": [
       "Recalling:   0%|          | 0/5 [00:00<?, ?it/s]"
      ]
     },
     "metadata": {},
     "output_type": "display_data"
    },
    {
     "name": "stdout",
     "output_type": "stream",
     "text": [
      "True ['AmpPingpongCalibrationSingleQubitMultilevel']\n"
     ]
    },
    {
     "data": {
      "application/vnd.jupyter.widget-view+json": {
       "model_id": "bcce7944172b4fc49d9512232c5850c2",
       "version_major": 2,
       "version_minor": 0
      },
      "text/plain": [
       "Recalling:   0%|          | 0/5 [00:00<?, ?it/s]"
      ]
     },
     "metadata": {},
     "output_type": "display_data"
    },
    {
     "name": "stdout",
     "output_type": "stream",
     "text": [
      "False ['MeasurementCalibrationMultilevelGMM', 'ConditionalStarkTuneUpRabiXY', 'AmpPingpongCalibrationSingleQubitMultilevel', 'DragCalibrationSingleQubitMultilevel']\n"
     ]
    },
    {
     "data": {
      "application/vnd.jupyter.widget-view+json": {
       "model_id": "727ec38298174528a034d0e37c54511e",
       "version_major": 2,
       "version_minor": 0
      },
      "text/plain": [
       "Recalling:   0%|          | 0/5 [00:00<?, ?it/s]"
      ]
     },
     "metadata": {},
     "output_type": "display_data"
    },
    {
     "name": "stdout",
     "output_type": "stream",
     "text": [
      "False ['NormalisedRabi', 'AmpPingpongCalibrationSingleQubitMultilevel']\n"
     ]
    },
    {
     "data": {
      "application/vnd.jupyter.widget-view+json": {
       "model_id": "48b6fa19611b41af9867717078b1f2a6",
       "version_major": 2,
       "version_minor": 0
      },
      "text/plain": [
       "Recalling:   0%|          | 0/5 [00:00<?, ?it/s]"
      ]
     },
     "metadata": {},
     "output_type": "display_data"
    },
    {
     "name": "stdout",
     "output_type": "stream",
     "text": [
      "True ['AmpPingpongCalibrationSingleQubitMultilevel']\n"
     ]
    },
    {
     "data": {
      "application/vnd.jupyter.widget-view+json": {
       "model_id": "3980de01af4d428fba870d355120a0ff",
       "version_major": 2,
       "version_minor": 0
      },
      "text/plain": [
       "Recalling:   0%|          | 0/5 [00:00<?, ?it/s]"
      ]
     },
     "metadata": {},
     "output_type": "display_data"
    },
    {
     "name": "stdout",
     "output_type": "stream",
     "text": [
      "True ['AmpPingpongCalibrationSingleQubitMultilevel']\n"
     ]
    },
    {
     "data": {
      "application/vnd.jupyter.widget-view+json": {
       "model_id": "910f5a71c19c44699ccd9d08f01952f9",
       "version_major": 2,
       "version_minor": 0
      },
      "text/plain": [
       "Recalling:   0%|          | 0/5 [00:00<?, ?it/s]"
      ]
     },
     "metadata": {},
     "output_type": "display_data"
    },
    {
     "name": "stdout",
     "output_type": "stream",
     "text": [
      "True ['AmpPingpongCalibrationSingleQubitMultilevel']\n"
     ]
    },
    {
     "data": {
      "application/vnd.jupyter.widget-view+json": {
       "model_id": "69fd38ce43ad43ecb2efa0702251e1eb",
       "version_major": 2,
       "version_minor": 0
      },
      "text/plain": [
       "Recalling:   0%|          | 0/5 [00:00<?, ?it/s]"
      ]
     },
     "metadata": {},
     "output_type": "display_data"
    },
    {
     "name": "stdout",
     "output_type": "stream",
     "text": [
      "False ['NormalisedRabi', 'AmpPingpongCalibrationSingleQubitMultilevel']\n"
     ]
    },
    {
     "data": {
      "application/vnd.jupyter.widget-view+json": {
       "model_id": "70d6d8e7996840588b577ba6333f6e0a",
       "version_major": 2,
       "version_minor": 0
      },
      "text/plain": [
       "Recalling:   0%|          | 0/5 [00:00<?, ?it/s]"
      ]
     },
     "metadata": {},
     "output_type": "display_data"
    },
    {
     "name": "stdout",
     "output_type": "stream",
     "text": [
      "True ['AmpPingpongCalibrationSingleQubitMultilevel']\n"
     ]
    },
    {
     "data": {
      "application/vnd.jupyter.widget-view+json": {
       "model_id": "c7f86d881e5c40eeaca2b935941c8657",
       "version_major": 2,
       "version_minor": 0
      },
      "text/plain": [
       "Recalling:   0%|          | 0/5 [00:00<?, ?it/s]"
      ]
     },
     "metadata": {},
     "output_type": "display_data"
    },
    {
     "name": "stdout",
     "output_type": "stream",
     "text": [
      "True ['AmpPingpongCalibrationSingleQubitMultilevel']\n"
     ]
    },
    {
     "data": {
      "application/vnd.jupyter.widget-view+json": {
       "model_id": "ecb4b6b89b5244ca85da81c74585a6cb",
       "version_major": 2,
       "version_minor": 0
      },
      "text/plain": [
       "Recalling:   0%|          | 0/5 [00:00<?, ?it/s]"
      ]
     },
     "metadata": {},
     "output_type": "display_data"
    },
    {
     "name": "stdout",
     "output_type": "stream",
     "text": [
      "False ['NormalisedRabi', 'AmpPingpongCalibrationSingleQubitMultilevel']\n"
     ]
    },
    {
     "data": {
      "application/vnd.jupyter.widget-view+json": {
       "model_id": "510af836e1624fc4a359ce73904f5bfb",
       "version_major": 2,
       "version_minor": 0
      },
      "text/plain": [
       "Recalling:   0%|          | 0/5 [00:00<?, ?it/s]"
      ]
     },
     "metadata": {},
     "output_type": "display_data"
    },
    {
     "name": "stdout",
     "output_type": "stream",
     "text": [
      "True ['ResonatorSweepTransmissionWithExtraInitialLPB']\n"
     ]
    },
    {
     "data": {
      "application/vnd.jupyter.widget-view+json": {
       "model_id": "023d4db1633e4a8a9d095465a1c06bc4",
       "version_major": 2,
       "version_minor": 0
      },
      "text/plain": [
       "Recalling:   0%|          | 0/5 [00:00<?, ?it/s]"
      ]
     },
     "metadata": {},
     "output_type": "display_data"
    },
    {
     "name": "stdout",
     "output_type": "stream",
     "text": [
      "True ['ResonatorSweepTransmissionWithExtraInitialLPB']\n"
     ]
    },
    {
     "data": {
      "application/vnd.jupyter.widget-view+json": {
       "model_id": "5c8fc05c971c442197fd3846694bdb8e",
       "version_major": 2,
       "version_minor": 0
      },
      "text/plain": [
       "Recalling:   0%|          | 0/5 [00:00<?, ?it/s]"
      ]
     },
     "metadata": {},
     "output_type": "display_data"
    },
    {
     "name": "stdout",
     "output_type": "stream",
     "text": [
      "True ['ResonatorSweepTransmissionWithExtraInitialLPB']\n"
     ]
    },
    {
     "data": {
      "application/vnd.jupyter.widget-view+json": {
       "model_id": "cdd87b23059247d79385ec0c415e8122",
       "version_major": 2,
       "version_minor": 0
      },
      "text/plain": [
       "Recalling:   0%|          | 0/5 [00:00<?, ?it/s]"
      ]
     },
     "metadata": {},
     "output_type": "display_data"
    },
    {
     "name": "stdout",
     "output_type": "stream",
     "text": [
      "True ['ResonatorSweepTransmissionWithExtraInitialLPB']\n"
     ]
    },
    {
     "data": {
      "application/vnd.jupyter.widget-view+json": {
       "model_id": "ea63718053314c7296f5f2ffe849066a",
       "version_major": 2,
       "version_minor": 0
      },
      "text/plain": [
       "Recalling:   0%|          | 0/5 [00:00<?, ?it/s]"
      ]
     },
     "metadata": {},
     "output_type": "display_data"
    },
    {
     "name": "stdout",
     "output_type": "stream",
     "text": [
      "True ['ResonatorSweepTransmissionWithExtraInitialLPB']\n"
     ]
    },
    {
     "data": {
      "application/vnd.jupyter.widget-view+json": {
       "model_id": "c4c0788ebf8f4c8b9044043930cda2ad",
       "version_major": 2,
       "version_minor": 0
      },
      "text/plain": [
       "Recalling:   0%|          | 0/5 [00:00<?, ?it/s]"
      ]
     },
     "metadata": {},
     "output_type": "display_data"
    },
    {
     "name": "stdout",
     "output_type": "stream",
     "text": [
      "False []\n"
     ]
    },
    {
     "data": {
      "application/vnd.jupyter.widget-view+json": {
       "model_id": "6edb241a3745402c93f60a15ef591e20",
       "version_major": 2,
       "version_minor": 0
      },
      "text/plain": [
       "Recalling:   0%|          | 0/5 [00:00<?, ?it/s]"
      ]
     },
     "metadata": {},
     "output_type": "display_data"
    },
    {
     "name": "stdout",
     "output_type": "stream",
     "text": [
      "True ['ResonatorSweepTransmissionWithExtraInitialLPB']\n"
     ]
    },
    {
     "data": {
      "application/vnd.jupyter.widget-view+json": {
       "model_id": "b0cc07d7bf414c3b9f8f6f2ebe8ba813",
       "version_major": 2,
       "version_minor": 0
      },
      "text/plain": [
       "Recalling:   0%|          | 0/5 [00:00<?, ?it/s]"
      ]
     },
     "metadata": {},
     "output_type": "display_data"
    },
    {
     "name": "stdout",
     "output_type": "stream",
     "text": [
      "True ['ResonatorSweepTransmissionWithExtraInitialLPB']\n"
     ]
    },
    {
     "data": {
      "application/vnd.jupyter.widget-view+json": {
       "model_id": "f9cfd629facb47859137c980bcb3f469",
       "version_major": 2,
       "version_minor": 0
      },
      "text/plain": [
       "Recalling:   0%|          | 0/5 [00:00<?, ?it/s]"
      ]
     },
     "metadata": {},
     "output_type": "display_data"
    },
    {
     "name": "stdout",
     "output_type": "stream",
     "text": [
      "True ['ResonatorSweepTransmissionWithExtraInitialLPB']\n"
     ]
    },
    {
     "data": {
      "application/vnd.jupyter.widget-view+json": {
       "model_id": "79ba2dea440f47ea934b3d8e3dcc2e32",
       "version_major": 2,
       "version_minor": 0
      },
      "text/plain": [
       "Recalling:   0%|          | 0/5 [00:00<?, ?it/s]"
      ]
     },
     "metadata": {},
     "output_type": "display_data"
    },
    {
     "name": "stdout",
     "output_type": "stream",
     "text": [
      "True ['ResonatorSweepTransmissionWithExtraInitialLPB']\n"
     ]
    },
    {
     "data": {
      "application/vnd.jupyter.widget-view+json": {
       "model_id": "5e4a68db93f54e359b9fc25011e7582b",
       "version_major": 2,
       "version_minor": 0
      },
      "text/plain": [
       "Recalling:   0%|          | 0/5 [00:00<?, ?it/s]"
      ]
     },
     "metadata": {},
     "output_type": "display_data"
    },
    {
     "name": "stdout",
     "output_type": "stream",
     "text": [
      "True ['SimpleT1']\n"
     ]
    },
    {
     "data": {
      "application/vnd.jupyter.widget-view+json": {
       "model_id": "c693961424ab4e6cb2acff25c266c2e1",
       "version_major": 2,
       "version_minor": 0
      },
      "text/plain": [
       "Recalling:   0%|          | 0/5 [00:00<?, ?it/s]"
      ]
     },
     "metadata": {},
     "output_type": "display_data"
    },
    {
     "name": "stdout",
     "output_type": "stream",
     "text": [
      "True ['SimpleT1']\n"
     ]
    },
    {
     "data": {
      "application/vnd.jupyter.widget-view+json": {
       "model_id": "5e17fda5006a452b910cb9d345adeb48",
       "version_major": 2,
       "version_minor": 0
      },
      "text/plain": [
       "Recalling:   0%|          | 0/5 [00:00<?, ?it/s]"
      ]
     },
     "metadata": {},
     "output_type": "display_data"
    },
    {
     "name": "stdout",
     "output_type": "stream",
     "text": [
      "True ['SimpleT1']\n"
     ]
    },
    {
     "data": {
      "application/vnd.jupyter.widget-view+json": {
       "model_id": "b3ae469541c14409a93b19daed727f67",
       "version_major": 2,
       "version_minor": 0
      },
      "text/plain": [
       "Recalling:   0%|          | 0/5 [00:00<?, ?it/s]"
      ]
     },
     "metadata": {},
     "output_type": "display_data"
    },
    {
     "name": "stdout",
     "output_type": "stream",
     "text": [
      "True ['SimpleT1']\n"
     ]
    },
    {
     "data": {
      "application/vnd.jupyter.widget-view+json": {
       "model_id": "39bb38c65b9a4ccc867253fda69b33d1",
       "version_major": 2,
       "version_minor": 0
      },
      "text/plain": [
       "Recalling:   0%|          | 0/5 [00:00<?, ?it/s]"
      ]
     },
     "metadata": {},
     "output_type": "display_data"
    },
    {
     "name": "stdout",
     "output_type": "stream",
     "text": [
      "True ['SimpleT1']\n"
     ]
    },
    {
     "data": {
      "application/vnd.jupyter.widget-view+json": {
       "model_id": "5d5d978cbe0f4f3f98252ca842134041",
       "version_major": 2,
       "version_minor": 0
      },
      "text/plain": [
       "Recalling:   0%|          | 0/5 [00:00<?, ?it/s]"
      ]
     },
     "metadata": {},
     "output_type": "display_data"
    },
    {
     "name": "stdout",
     "output_type": "stream",
     "text": [
      "True ['SimpleT1']\n"
     ]
    },
    {
     "data": {
      "application/vnd.jupyter.widget-view+json": {
       "model_id": "214ab507ce814473a662aa6a2a3a2628",
       "version_major": 2,
       "version_minor": 0
      },
      "text/plain": [
       "Recalling:   0%|          | 0/5 [00:00<?, ?it/s]"
      ]
     },
     "metadata": {},
     "output_type": "display_data"
    },
    {
     "name": "stdout",
     "output_type": "stream",
     "text": [
      "True ['SimpleT1']\n"
     ]
    },
    {
     "data": {
      "application/vnd.jupyter.widget-view+json": {
       "model_id": "4469b3ac5dbb405ba876b2ea74623651",
       "version_major": 2,
       "version_minor": 0
      },
      "text/plain": [
       "Recalling:   0%|          | 0/5 [00:00<?, ?it/s]"
      ]
     },
     "metadata": {},
     "output_type": "display_data"
    },
    {
     "name": "stdout",
     "output_type": "stream",
     "text": [
      "True ['SimpleT1']\n"
     ]
    },
    {
     "data": {
      "application/vnd.jupyter.widget-view+json": {
       "model_id": "0c35a7d9a9e24c17aa43bab35e934f20",
       "version_major": 2,
       "version_minor": 0
      },
      "text/plain": [
       "Recalling:   0%|          | 0/5 [00:00<?, ?it/s]"
      ]
     },
     "metadata": {},
     "output_type": "display_data"
    },
    {
     "name": "stdout",
     "output_type": "stream",
     "text": [
      "True ['SimpleT1']\n"
     ]
    },
    {
     "data": {
      "application/vnd.jupyter.widget-view+json": {
       "model_id": "0b5404c126434d039823204d30018254",
       "version_major": 2,
       "version_minor": 0
      },
      "text/plain": [
       "Recalling:   0%|          | 0/5 [00:00<?, ?it/s]"
      ]
     },
     "metadata": {},
     "output_type": "display_data"
    },
    {
     "name": "stdout",
     "output_type": "stream",
     "text": [
      "True ['SimpleT1']\n"
     ]
    },
    {
     "data": {
      "application/vnd.jupyter.widget-view+json": {
       "model_id": "5b8d9e32ddcd4d17ac2dc2483a786cac",
       "version_major": 2,
       "version_minor": 0
      },
      "text/plain": [
       "Recalling:   0%|          | 0/5 [00:00<?, ?it/s]"
      ]
     },
     "metadata": {},
     "output_type": "display_data"
    },
    {
     "name": "stdout",
     "output_type": "stream",
     "text": [
      "False ['SpinEchoMultiLevel', 'SimpleRamseyMultilevel']\n"
     ]
    },
    {
     "data": {
      "application/vnd.jupyter.widget-view+json": {
       "model_id": "6fef7abb4d044b3d8bef4a6f930bdc5c",
       "version_major": 2,
       "version_minor": 0
      },
      "text/plain": [
       "Recalling:   0%|          | 0/5 [00:00<?, ?it/s]"
      ]
     },
     "metadata": {},
     "output_type": "display_data"
    },
    {
     "name": "stdout",
     "output_type": "stream",
     "text": [
      "True ['SpinEchoMultiLevel']\n"
     ]
    },
    {
     "data": {
      "application/vnd.jupyter.widget-view+json": {
       "model_id": "58867ece71c64d12bc5ad3e18c1ae469",
       "version_major": 2,
       "version_minor": 0
      },
      "text/plain": [
       "Recalling:   0%|          | 0/5 [00:00<?, ?it/s]"
      ]
     },
     "metadata": {},
     "output_type": "display_data"
    },
    {
     "name": "stdout",
     "output_type": "stream",
     "text": [
      "False ['SimpleRamseyMultilevel']\n"
     ]
    },
    {
     "data": {
      "application/vnd.jupyter.widget-view+json": {
       "model_id": "f65880f86bce430395406ad70cb94801",
       "version_major": 2,
       "version_minor": 0
      },
      "text/plain": [
       "Recalling:   0%|          | 0/5 [00:00<?, ?it/s]"
      ]
     },
     "metadata": {},
     "output_type": "display_data"
    },
    {
     "name": "stdout",
     "output_type": "stream",
     "text": [
      "True ['SpinEchoMultiLevel']\n"
     ]
    },
    {
     "data": {
      "application/vnd.jupyter.widget-view+json": {
       "model_id": "d80cc1fe8f784e648126403524c28a7c",
       "version_major": 2,
       "version_minor": 0
      },
      "text/plain": [
       "Recalling:   0%|          | 0/5 [00:00<?, ?it/s]"
      ]
     },
     "metadata": {},
     "output_type": "display_data"
    },
    {
     "name": "stdout",
     "output_type": "stream",
     "text": [
      "True ['SpinEchoMultiLevel']\n"
     ]
    },
    {
     "data": {
      "application/vnd.jupyter.widget-view+json": {
       "model_id": "4af5919b677e4c8693c64f1a777543f8",
       "version_major": 2,
       "version_minor": 0
      },
      "text/plain": [
       "Recalling:   0%|          | 0/5 [00:00<?, ?it/s]"
      ]
     },
     "metadata": {},
     "output_type": "display_data"
    },
    {
     "name": "stdout",
     "output_type": "stream",
     "text": [
      "True ['SpinEchoMultiLevel']\n"
     ]
    },
    {
     "data": {
      "application/vnd.jupyter.widget-view+json": {
       "model_id": "7b492051620249b2a3c179b70f72fb00",
       "version_major": 2,
       "version_minor": 0
      },
      "text/plain": [
       "Recalling:   0%|          | 0/5 [00:00<?, ?it/s]"
      ]
     },
     "metadata": {},
     "output_type": "display_data"
    },
    {
     "name": "stdout",
     "output_type": "stream",
     "text": [
      "True ['SpinEchoMultiLevel']\n"
     ]
    },
    {
     "data": {
      "application/vnd.jupyter.widget-view+json": {
       "model_id": "c7c6e7d7fa5140999ab0bf06a63f6edc",
       "version_major": 2,
       "version_minor": 0
      },
      "text/plain": [
       "Recalling:   0%|          | 0/5 [00:00<?, ?it/s]"
      ]
     },
     "metadata": {},
     "output_type": "display_data"
    },
    {
     "name": "stdout",
     "output_type": "stream",
     "text": [
      "False ['SimpleRamseyMultilevel']\n"
     ]
    },
    {
     "data": {
      "application/vnd.jupyter.widget-view+json": {
       "model_id": "45f19dc4dfbe4e1db8b134fc64fe8627",
       "version_major": 2,
       "version_minor": 0
      },
      "text/plain": [
       "Recalling:   0%|          | 0/5 [00:00<?, ?it/s]"
      ]
     },
     "metadata": {},
     "output_type": "display_data"
    },
    {
     "name": "stdout",
     "output_type": "stream",
     "text": [
      "False ['SimpleRamseyMultilevel']\n"
     ]
    },
    {
     "data": {
      "application/vnd.jupyter.widget-view+json": {
       "model_id": "9d6776768b134151b1ec2248767a8560",
       "version_major": 2,
       "version_minor": 0
      },
      "text/plain": [
       "Recalling:   0%|          | 0/5 [00:00<?, ?it/s]"
      ]
     },
     "metadata": {},
     "output_type": "display_data"
    },
    {
     "name": "stdout",
     "output_type": "stream",
     "text": [
      "False ['SpinEchoMultiLevel', 'SimpleRamseyMultilevel']\n"
     ]
    },
    {
     "data": {
      "application/vnd.jupyter.widget-view+json": {
       "model_id": "ba30f68f0f20427cbc9aba3b30ea5df8",
       "version_major": 2,
       "version_minor": 0
      },
      "text/plain": [
       "Recalling:   0%|          | 0/5 [00:00<?, ?it/s]"
      ]
     },
     "metadata": {},
     "output_type": "display_data"
    },
    {
     "name": "stdout",
     "output_type": "stream",
     "text": [
      "True ['SingleQubitRandomizedBenchmarking']\n"
     ]
    },
    {
     "data": {
      "application/vnd.jupyter.widget-view+json": {
       "model_id": "710e94ec01af40ec88f96fe5e1ce546a",
       "version_major": 2,
       "version_minor": 0
      },
      "text/plain": [
       "Recalling:   0%|          | 0/5 [00:00<?, ?it/s]"
      ]
     },
     "metadata": {},
     "output_type": "display_data"
    },
    {
     "name": "stdout",
     "output_type": "stream",
     "text": [
      "True ['SingleQubitRandomizedBenchmarking']\n"
     ]
    },
    {
     "data": {
      "application/vnd.jupyter.widget-view+json": {
       "model_id": "0969612e3d164dc28afcc7d5988828d4",
       "version_major": 2,
       "version_minor": 0
      },
      "text/plain": [
       "Recalling:   0%|          | 0/5 [00:00<?, ?it/s]"
      ]
     },
     "metadata": {},
     "output_type": "display_data"
    },
    {
     "name": "stdout",
     "output_type": "stream",
     "text": [
      "False ['RandomizedBenchmarking2QubitsInterleavedComparison', 'SingleQubitRandomizedBenchmarking']\n"
     ]
    },
    {
     "data": {
      "application/vnd.jupyter.widget-view+json": {
       "model_id": "8bbdf98301b148f081b5c70c0354aa65",
       "version_major": 2,
       "version_minor": 0
      },
      "text/plain": [
       "Recalling:   0%|          | 0/5 [00:00<?, ?it/s]"
      ]
     },
     "metadata": {},
     "output_type": "display_data"
    },
    {
     "name": "stdout",
     "output_type": "stream",
     "text": [
      "True ['SingleQubitRandomizedBenchmarking']\n"
     ]
    },
    {
     "data": {
      "application/vnd.jupyter.widget-view+json": {
       "model_id": "2a7069fd77434565ab7bc20df1ae3369",
       "version_major": 2,
       "version_minor": 0
      },
      "text/plain": [
       "Recalling:   0%|          | 0/5 [00:00<?, ?it/s]"
      ]
     },
     "metadata": {},
     "output_type": "display_data"
    },
    {
     "name": "stdout",
     "output_type": "stream",
     "text": [
      "False ['RandomizedBenchmarking2QubitsInterleavedComparison', 'SingleQubitRandomizedBenchmarking']\n"
     ]
    },
    {
     "data": {
      "application/vnd.jupyter.widget-view+json": {
       "model_id": "b3f0779a0ae24cd4852a6e4835fc63e8",
       "version_major": 2,
       "version_minor": 0
      },
      "text/plain": [
       "Recalling:   0%|          | 0/5 [00:00<?, ?it/s]"
      ]
     },
     "metadata": {},
     "output_type": "display_data"
    },
    {
     "name": "stdout",
     "output_type": "stream",
     "text": [
      "True ['SingleQubitRandomizedBenchmarking']\n"
     ]
    },
    {
     "data": {
      "application/vnd.jupyter.widget-view+json": {
       "model_id": "995713cc649d489d80b96cfff01dcf9d",
       "version_major": 2,
       "version_minor": 0
      },
      "text/plain": [
       "Recalling:   0%|          | 0/5 [00:00<?, ?it/s]"
      ]
     },
     "metadata": {},
     "output_type": "display_data"
    },
    {
     "name": "stdout",
     "output_type": "stream",
     "text": [
      "True ['SingleQubitRandomizedBenchmarking']\n"
     ]
    },
    {
     "data": {
      "application/vnd.jupyter.widget-view+json": {
       "model_id": "07f4f947160b461ebc6a5a4f2f0497de",
       "version_major": 2,
       "version_minor": 0
      },
      "text/plain": [
       "Recalling:   0%|          | 0/5 [00:00<?, ?it/s]"
      ]
     },
     "metadata": {},
     "output_type": "display_data"
    },
    {
     "name": "stdout",
     "output_type": "stream",
     "text": [
      "True ['SingleQubitRandomizedBenchmarking']\n"
     ]
    },
    {
     "data": {
      "application/vnd.jupyter.widget-view+json": {
       "model_id": "a15bd8c865c741968de86efac539b428",
       "version_major": 2,
       "version_minor": 0
      },
      "text/plain": [
       "Recalling:   0%|          | 0/5 [00:00<?, ?it/s]"
      ]
     },
     "metadata": {},
     "output_type": "display_data"
    },
    {
     "name": "stdout",
     "output_type": "stream",
     "text": [
      "True ['SingleQubitRandomizedBenchmarking']\n"
     ]
    },
    {
     "data": {
      "application/vnd.jupyter.widget-view+json": {
       "model_id": "470e745eea1940fdbf5212cfd42d9cca",
       "version_major": 2,
       "version_minor": 0
      },
      "text/plain": [
       "Recalling:   0%|          | 0/5 [00:00<?, ?it/s]"
      ]
     },
     "metadata": {},
     "output_type": "display_data"
    },
    {
     "name": "stdout",
     "output_type": "stream",
     "text": [
      "False ['RandomizedBenchmarking2QubitsInterleavedComparison', 'SingleQubitRandomizedBenchmarking']\n"
     ]
    },
    {
     "data": {
      "application/vnd.jupyter.widget-view+json": {
       "model_id": "c2da8eb8ebf44ac2998dbcb7327cb077",
       "version_major": 2,
       "version_minor": 0
      },
      "text/plain": [
       "Recalling:   0%|          | 0/5 [00:00<?, ?it/s]"
      ]
     },
     "metadata": {},
     "output_type": "display_data"
    },
    {
     "name": "stdout",
     "output_type": "stream",
     "text": [
      "False ['DragCalibrationSingleQubitMultilevel']\n"
     ]
    },
    {
     "data": {
      "application/vnd.jupyter.widget-view+json": {
       "model_id": "f48f87edd7344896b68c956b19cf71b4",
       "version_major": 2,
       "version_minor": 0
      },
      "text/plain": [
       "Recalling:   0%|          | 0/5 [00:00<?, ?it/s]"
      ]
     },
     "metadata": {},
     "output_type": "display_data"
    },
    {
     "name": "stdout",
     "output_type": "stream",
     "text": [
      "False ['DragCalibrationSingleQubitMultilevel']\n"
     ]
    },
    {
     "data": {
      "application/vnd.jupyter.widget-view+json": {
       "model_id": "f63d241c999a4a2495904e3af1f7840a",
       "version_major": 2,
       "version_minor": 0
      },
      "text/plain": [
       "Recalling:   0%|          | 0/5 [00:00<?, ?it/s]"
      ]
     },
     "metadata": {},
     "output_type": "display_data"
    },
    {
     "name": "stdout",
     "output_type": "stream",
     "text": [
      "False ['DragCalibrationSingleQubitMultilevel']\n"
     ]
    },
    {
     "data": {
      "application/vnd.jupyter.widget-view+json": {
       "model_id": "115ce1adb5c64613b3f876647310c867",
       "version_major": 2,
       "version_minor": 0
      },
      "text/plain": [
       "Recalling:   0%|          | 0/5 [00:00<?, ?it/s]"
      ]
     },
     "metadata": {},
     "output_type": "display_data"
    },
    {
     "name": "stdout",
     "output_type": "stream",
     "text": [
      "False ['DragCalibrationSingleQubitMultilevel']\n"
     ]
    },
    {
     "data": {
      "application/vnd.jupyter.widget-view+json": {
       "model_id": "5fdc8ab2f6ae4f9390a094d69cd5ca8d",
       "version_major": 2,
       "version_minor": 0
      },
      "text/plain": [
       "Recalling:   0%|          | 0/5 [00:00<?, ?it/s]"
      ]
     },
     "metadata": {},
     "output_type": "display_data"
    },
    {
     "name": "stdout",
     "output_type": "stream",
     "text": [
      "False ['DragCalibrationSingleQubitMultilevel']\n"
     ]
    },
    {
     "data": {
      "application/vnd.jupyter.widget-view+json": {
       "model_id": "bc7b3184b1784189b33b410c60c96b5b",
       "version_major": 2,
       "version_minor": 0
      },
      "text/plain": [
       "Recalling:   0%|          | 0/5 [00:00<?, ?it/s]"
      ]
     },
     "metadata": {},
     "output_type": "display_data"
    },
    {
     "name": "stdout",
     "output_type": "stream",
     "text": [
      "False ['DragCalibrationSingleQubitMultilevel']\n"
     ]
    },
    {
     "data": {
      "application/vnd.jupyter.widget-view+json": {
       "model_id": "8b904857edff48ccb3b8c9d908ff808c",
       "version_major": 2,
       "version_minor": 0
      },
      "text/plain": [
       "Recalling:   0%|          | 0/5 [00:00<?, ?it/s]"
      ]
     },
     "metadata": {},
     "output_type": "display_data"
    },
    {
     "name": "stdout",
     "output_type": "stream",
     "text": [
      "False ['DragCalibrationSingleQubitMultilevel']\n"
     ]
    },
    {
     "data": {
      "application/vnd.jupyter.widget-view+json": {
       "model_id": "ec7bbe22e40b4751a7685589538d41aa",
       "version_major": 2,
       "version_minor": 0
      },
      "text/plain": [
       "Recalling:   0%|          | 0/5 [00:00<?, ?it/s]"
      ]
     },
     "metadata": {},
     "output_type": "display_data"
    },
    {
     "name": "stdout",
     "output_type": "stream",
     "text": [
      "False ['DragCalibrationSingleQubitMultilevel']\n"
     ]
    },
    {
     "data": {
      "application/vnd.jupyter.widget-view+json": {
       "model_id": "4e23104a2b444df787359f9370c678ba",
       "version_major": 2,
       "version_minor": 0
      },
      "text/plain": [
       "Recalling:   0%|          | 0/5 [00:00<?, ?it/s]"
      ]
     },
     "metadata": {},
     "output_type": "display_data"
    },
    {
     "name": "stdout",
     "output_type": "stream",
     "text": [
      "False ['DragCalibrationSingleQubitMultilevel']\n"
     ]
    },
    {
     "data": {
      "application/vnd.jupyter.widget-view+json": {
       "model_id": "22fccc7bad0c4b089d2e42b1129f95cc",
       "version_major": 2,
       "version_minor": 0
      },
      "text/plain": [
       "Recalling:   0%|          | 0/5 [00:00<?, ?it/s]"
      ]
     },
     "metadata": {},
     "output_type": "display_data"
    },
    {
     "name": "stdout",
     "output_type": "stream",
     "text": [
      "False ['DragCalibrationSingleQubitMultilevel']\n"
     ]
    }
   ],
   "source": [
    "results = benchmark_all()"
   ]
  },
  {
   "cell_type": "code",
   "execution_count": 6,
   "id": "c75b45cd-b71b-45a7-9aa2-5e0919577d71",
   "metadata": {},
   "outputs": [],
   "source": [
    "import pickle\n",
    "with open('embedding_search_benchmark.pkl','wb') as f:\n",
    "    pickle.dump(results,f)"
   ]
  },
  {
   "cell_type": "code",
   "execution_count": 10,
   "id": "936f4f2d-7c3e-48c9-9269-12899c6da8b8",
   "metadata": {},
   "outputs": [
    {
     "name": "stdout",
     "output_type": "stream",
     "text": [
      "GMM 0.5\n",
      "Ramsey 1.0\n",
      "Rabi 0.2\n",
      "Pingpong 0.6\n",
      "Resonator spectroscopy 0.9\n",
      "T1 1.0\n",
      "T2 0.5\n",
      "RB1Q 0.7\n",
      "Drag 0.0\n"
     ]
    }
   ],
   "source": [
    "for k,vs in results.items():\n",
    "    success_list = np.asarray([v[1] for v in vs]).astype(float)\n",
    "    success_rate = success_list.mean()\n",
    "    print(k,success_rate)\n",
    "    "
   ]
  },
  {
   "cell_type": "code",
   "execution_count": 8,
   "id": "286f1cb2-748c-4044-b6c0-310259a1652d",
   "metadata": {},
   "outputs": [],
   "source": [
    "# TODO: Report the hit rate top 1 as well"
   ]
  }
 ],
 "metadata": {
  "kernelspec": {
   "display_name": "Python 3 (ipykernel)",
   "language": "python",
   "name": "python3"
  },
  "language_info": {
   "codemirror_mode": {
    "name": "ipython",
    "version": 3
   },
   "file_extension": ".py",
   "mimetype": "text/x-python",
   "name": "python",
   "nbconvert_exporter": "python",
   "pygments_lexer": "ipython3",
   "version": "3.11.2"
  }
 },
 "nbformat": 4,
 "nbformat_minor": 5
}
