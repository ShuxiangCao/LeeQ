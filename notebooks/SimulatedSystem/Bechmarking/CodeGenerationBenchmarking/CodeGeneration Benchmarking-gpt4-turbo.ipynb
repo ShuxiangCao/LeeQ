{
 "cells": [
  {
   "cell_type": "markdown",
   "id": "7e5d6194-b652-4a5a-b7c6-cf83563247a5",
   "metadata": {},
   "source": [
    "# Code generation Benchmarking\n",
    "\n",
    "In this study, we wish to check the AI's ability to generate code sequences to operate quantum experiments based on the model."
   ]
  },
  {
   "cell_type": "code",
   "execution_count": 1,
   "id": "d00b35dd-531b-4f90-80ce-61cf3f0ef311",
   "metadata": {},
   "outputs": [],
   "source": [
    "from code_generation_benchmarking import *"
   ]
  },
  {
   "cell_type": "code",
   "execution_count": 2,
   "id": "bcb94537-37b3-4ba8-a911-524abb0b5123",
   "metadata": {},
   "outputs": [],
   "source": [
    "from mllm.config import default_models\n",
    "from mllm.provider_switch import *"
   ]
  },
  {
   "cell_type": "markdown",
   "id": "a1761e6e-e773-4ab4-8527-de3c6f516b34",
   "metadata": {},
   "source": [
    "## Pulse correctness:\n",
    "1. If input arguments are correct\n",
    "2. If pulses are correctly constructed\n",
    "3. if gate sequences are correctly constructed\n",
    "4. If data is correctly collected and saved\n",
    "   \n",
    "## Data analysis:\n",
    "1. If it does the fitting\n",
    "2. If it uses the right code for fitting\n",
    "3. correctly saved the result for further use\n",
    "## Data visualization:\n",
    "1. If it correctly load the results\n",
    "2. If it correctly plots the figure\n",
    "## Decorations and imports:\n",
    "1. If all the decorators are correct\n",
    "2. If all the imports are correct"
   ]
  },
  {
   "cell_type": "markdown",
   "id": "109e51a8-c157-4d66-9b30-6d0da4d53df0",
   "metadata": {},
   "source": [
    "# T1"
   ]
  },
  {
   "cell_type": "code",
   "execution_count": 3,
   "id": "493dceed-d29f-4db4-bf0f-472651770e97",
   "metadata": {
    "scrolled": true
   },
   "outputs": [
    {
     "data": {
      "application/vnd.jupyter.widget-view+json": {
       "model_id": "a56fd49c5b684eb18e15f62764cc8007",
       "version_major": 2,
       "version_minor": 0
      },
      "text/plain": [
       "Experiment Generation Progress:   0%|          | 0/5 [00:00<?, ?it/s]"
      ]
     },
     "metadata": {},
     "output_type": "display_data"
    },
    {
     "data": {
      "text/html": [
       "\n",
       "    <p style=\"background-color: #F8F8FF; padding: 20px; border-radius: 8px; color: #333;\">\n",
       "        <strong>Experiment generation agent:</strong> \n",
       "        <div style=\"background: #f8f8f8; padding: 10px; border-radius: 5px; overflow: auto; margin-top: 8px;\">\n",
       "            <div class=\"highlight\"><pre><span></span><span class=\"kn\">from</span> <span class=\"nn\">typing</span> <span class=\"kn\">import</span> <span class=\"n\">Any</span><span class=\"p\">,</span> <span class=\"n\">Optional</span><span class=\"p\">,</span> <span class=\"n\">Dict</span>\n",
       "<span class=\"kn\">import</span> <span class=\"nn\">numpy</span> <span class=\"k\">as</span> <span class=\"nn\">np</span>\n",
       "<span class=\"kn\">from</span> <span class=\"nn\">leeq</span> <span class=\"kn\">import</span> <span class=\"n\">Experiment</span><span class=\"p\">,</span> <span class=\"n\">log_and_record</span>\n",
       "<span class=\"kn\">from</span> <span class=\"nn\">leeq.theory.fits</span> <span class=\"kn\">import</span> <span class=\"n\">fit_1d_freq</span><span class=\"p\">,</span> <span class=\"n\">fit_exp_decay_with_cov</span>\n",
       "<span class=\"kn\">import</span> <span class=\"nn\">matplotlib.pyplot</span> <span class=\"k\">as</span> <span class=\"nn\">plt</span>\n",
       "\n",
       "<span class=\"k\">class</span> <span class=\"nc\">T1Experiment</span><span class=\"p\">(</span><span class=\"n\">Experiment</span><span class=\"p\">):</span>\n",
       "    <span class=\"nd\">@log_and_record</span>\n",
       "    <span class=\"k\">def</span> <span class=\"nf\">run</span><span class=\"p\">(</span><span class=\"bp\">self</span><span class=\"p\">,</span>\n",
       "            <span class=\"n\">dut_qubit</span><span class=\"p\">:</span> <span class=\"n\">Any</span><span class=\"p\">,</span>\n",
       "            <span class=\"n\">amp</span><span class=\"p\">:</span> <span class=\"nb\">float</span> <span class=\"o\">=</span> <span class=\"mf\">0.05</span><span class=\"p\">,</span>\n",
       "            <span class=\"n\">start</span><span class=\"p\">:</span> <span class=\"nb\">float</span> <span class=\"o\">=</span> <span class=\"mf\">0.01</span><span class=\"p\">,</span>\n",
       "            <span class=\"n\">stop</span><span class=\"p\">:</span> <span class=\"nb\">float</span> <span class=\"o\">=</span> <span class=\"mf\">0.3</span><span class=\"p\">,</span>\n",
       "            <span class=\"n\">step</span><span class=\"p\">:</span> <span class=\"nb\">float</span> <span class=\"o\">=</span> <span class=\"mf\">0.002</span><span class=\"p\">,</span>\n",
       "            <span class=\"n\">fit</span><span class=\"p\">:</span> <span class=\"nb\">bool</span> <span class=\"o\">=</span> <span class=\"kc\">True</span><span class=\"p\">,</span>\n",
       "            <span class=\"n\">collection_name</span><span class=\"p\">:</span> <span class=\"nb\">str</span> <span class=\"o\">=</span> <span class=\"s1\">&#39;f01&#39;</span><span class=\"p\">,</span>\n",
       "            <span class=\"n\">mprim_index</span><span class=\"p\">:</span> <span class=\"nb\">int</span> <span class=\"o\">=</span> <span class=\"mi\">0</span><span class=\"p\">,</span>\n",
       "            <span class=\"n\">pulse_discretization</span><span class=\"p\">:</span> <span class=\"nb\">bool</span> <span class=\"o\">=</span> <span class=\"kc\">True</span><span class=\"p\">,</span>\n",
       "            <span class=\"n\">update</span><span class=\"p\">:</span> <span class=\"nb\">bool</span> <span class=\"o\">=</span> <span class=\"kc\">True</span><span class=\"p\">,</span>\n",
       "            <span class=\"n\">initial_lpb</span><span class=\"p\">:</span> <span class=\"n\">Optional</span><span class=\"p\">[</span><span class=\"n\">Any</span><span class=\"p\">]</span> <span class=\"o\">=</span> <span class=\"kc\">None</span><span class=\"p\">)</span> <span class=\"o\">-&gt;</span> <span class=\"n\">Optional</span><span class=\"p\">[</span><span class=\"n\">Dict</span><span class=\"p\">[</span><span class=\"nb\">str</span><span class=\"p\">,</span> <span class=\"n\">Any</span><span class=\"p\">]]:</span>\n",
       "<span class=\"w\">        </span><span class=\"sd\">&quot;&quot;&quot;</span>\n",
       "<span class=\"sd\">        Run a T1 experiment on a given qubit and analyze the results.</span>\n",
       "\n",
       "<span class=\"sd\">        Parameters:</span>\n",
       "<span class=\"sd\">        dut_qubit (Any): Device under test (DUT) qubit object.</span>\n",
       "<span class=\"sd\">        amp (float): Amplitude of the π pulse. Default is 0.05.</span>\n",
       "<span class=\"sd\">        start (float): Start time for the delay sweep. Default is 0.01.</span>\n",
       "<span class=\"sd\">        stop (float): Stop time for the delay sweep. Default is 0.3.</span>\n",
       "<span class=\"sd\">        step (float): Step time for the delay sweep. Default is 0.002.</span>\n",
       "<span class=\"sd\">        fit (bool): Whether to fit the resulting data. Default is True.</span>\n",
       "<span class=\"sd\">        collection_name (str): Collection name for retrieving c1. Default is &#39;f01&#39;.</span>\n",
       "<span class=\"sd\">        mprim_index (int): Index for retrieving measurement primitive. Default is 0.</span>\n",
       "<span class=\"sd\">        pulse_discretization (bool): Whether to discretize the pulse. Default is True.</span>\n",
       "<span class=\"sd\">        update (bool): Whether to update the qubit parameters. Default is True.</span>\n",
       "<span class=\"sd\">        initial_lpb (Any): Initial lpb to add to the created lpb. Default is None.</span>\n",
       "\n",
       "<span class=\"sd\">        Returns:</span>\n",
       "<span class=\"sd\">        Dict[str, Any]: Fitted parameters if fit is True, None otherwise.</span>\n",
       "<span class=\"sd\">        &quot;&quot;&quot;</span>\n",
       "        <span class=\"c1\"># Existing code here...</span>\n",
       "\n",
       "    <span class=\"k\">def</span> <span class=\"nf\">fit_decay</span><span class=\"p\">(</span><span class=\"bp\">self</span><span class=\"p\">,</span> <span class=\"n\">data</span><span class=\"p\">:</span> <span class=\"n\">np</span><span class=\"o\">.</span><span class=\"n\">ndarray</span><span class=\"p\">,</span> <span class=\"n\">time_step</span><span class=\"p\">:</span> <span class=\"nb\">float</span><span class=\"p\">)</span> <span class=\"o\">-&gt;</span> <span class=\"n\">Dict</span><span class=\"p\">[</span><span class=\"nb\">str</span><span class=\"p\">,</span> <span class=\"nb\">float</span><span class=\"p\">]:</span>\n",
       "<span class=\"w\">        </span><span class=\"sd\">&quot;&quot;&quot;</span>\n",
       "<span class=\"sd\">        Fit the decay data to a decay function.</span>\n",
       "\n",
       "<span class=\"sd\">        Parameters:</span>\n",
       "<span class=\"sd\">        data (np.array): Array of decay data.</span>\n",
       "<span class=\"sd\">        time_step (float): Time step between data points.</span>\n",
       "\n",
       "<span class=\"sd\">        Returns:</span>\n",
       "<span class=\"sd\">        Dict[str, Any]: Fitted parameters of the decay function.</span>\n",
       "<span class=\"sd\">        &quot;&quot;&quot;</span>\n",
       "        <span class=\"c1\"># Existing code here...</span>\n",
       "\n",
       "    <span class=\"k\">def</span> <span class=\"nf\">data_analysis</span><span class=\"p\">(</span><span class=\"bp\">self</span><span class=\"p\">):</span>\n",
       "<span class=\"w\">        </span><span class=\"sd\">&quot;&quot;&quot;</span>\n",
       "<span class=\"sd\">        Perform data analysis on the experimental data.</span>\n",
       "<span class=\"sd\">        &quot;&quot;&quot;</span>\n",
       "        <span class=\"c1\"># Existing code here...</span>\n",
       "\n",
       "    <span class=\"k\">def</span> <span class=\"nf\">data_visualization</span><span class=\"p\">(</span><span class=\"bp\">self</span><span class=\"p\">)</span> <span class=\"o\">-&gt;</span> <span class=\"n\">plt</span><span class=\"o\">.</span><span class=\"n\">Figure</span><span class=\"p\">:</span>\n",
       "<span class=\"w\">        </span><span class=\"sd\">&quot;&quot;&quot;</span>\n",
       "<span class=\"sd\">        Visualize the experimental data and fitted curves.</span>\n",
       "\n",
       "<span class=\"sd\">        Returns:</span>\n",
       "<span class=\"sd\">        plt.Figure: Matplotlib figure.</span>\n",
       "<span class=\"sd\">        &quot;&quot;&quot;</span>\n",
       "        <span class=\"c1\"># Existing code here...</span>\n",
       "</pre></div>\n",
       "\n",
       "        </div>\n",
       "\n",
       "    </p>\n",
       "    "
      ],
      "text/plain": [
       "<IPython.core.display.HTML object>"
      ]
     },
     "metadata": {},
     "output_type": "display_data"
    }
   ],
   "source": [
    "code = generate_experiment(description_t1)"
   ]
  },
  {
   "cell_type": "raw",
   "id": "a6c03f57-495c-4757-9ccc-d7f5a8205abc",
   "metadata": {},
   "source": [
    "1. Pulse correctness:\n",
    "2. Data analysis:\n",
    "3. Data visualization:\n",
    "4. Decorations and imports:"
   ]
  },
  {
   "cell_type": "markdown",
   "id": "01e87e49-1de1-4d5a-a720-aeb3161a2809",
   "metadata": {},
   "source": [
    "# T2"
   ]
  },
  {
   "cell_type": "code",
   "execution_count": 4,
   "id": "ff4e0932-b243-49f7-9ce4-1b7869df4cba",
   "metadata": {},
   "outputs": [
    {
     "data": {
      "application/vnd.jupyter.widget-view+json": {
       "model_id": "6744a99e05054dc4878c6cdfcf9f99ba",
       "version_major": 2,
       "version_minor": 0
      },
      "text/plain": [
       "Experiment Generation Progress:   0%|          | 0/5 [00:00<?, ?it/s]"
      ]
     },
     "metadata": {},
     "output_type": "display_data"
    },
    {
     "data": {
      "text/html": [
       "\n",
       "    <p style=\"background-color: #F8F8FF; padding: 20px; border-radius: 8px; color: #333;\">\n",
       "        <strong>Experiment generation agent:</strong> \n",
       "        <div style=\"background: #f8f8f8; padding: 10px; border-radius: 5px; overflow: auto; margin-top: 8px;\">\n",
       "            <div class=\"highlight\"><pre><span></span><span class=\"kn\">from</span> <span class=\"nn\">labchronicle</span> <span class=\"kn\">import</span> <span class=\"n\">log_and_record</span>\n",
       "<span class=\"kn\">from</span> <span class=\"nn\">leeq</span> <span class=\"kn\">import</span> <span class=\"n\">Experiment</span><span class=\"p\">,</span> <span class=\"n\">basic_run</span>\n",
       "<span class=\"kn\">from</span> <span class=\"nn\">leeq.theory.primitives</span> <span class=\"kn\">import</span> <span class=\"n\">DelayPrimitive</span>\n",
       "\n",
       "<span class=\"k\">class</span> <span class=\"nc\">T2EchoExperiment</span><span class=\"p\">(</span><span class=\"n\">Experiment</span><span class=\"p\">):</span>\n",
       "    <span class=\"nd\">@log_and_record</span>\n",
       "    <span class=\"k\">def</span> <span class=\"nf\">run</span><span class=\"p\">(</span><span class=\"bp\">self</span><span class=\"p\">,</span>\n",
       "            <span class=\"n\">dut_qubit</span><span class=\"p\">:</span> <span class=\"n\">Any</span><span class=\"p\">,</span>\n",
       "            <span class=\"n\">delay</span><span class=\"p\">:</span> <span class=\"nb\">float</span><span class=\"p\">,</span>\n",
       "            <span class=\"n\">collection_name</span><span class=\"p\">:</span> <span class=\"nb\">str</span> <span class=\"o\">=</span> <span class=\"s1\">&#39;f01&#39;</span><span class=\"p\">,</span>\n",
       "            <span class=\"n\">mprim_index</span><span class=\"p\">:</span> <span class=\"nb\">int</span> <span class=\"o\">=</span> <span class=\"mi\">0</span><span class=\"p\">)</span> <span class=\"o\">-&gt;</span> <span class=\"kc\">None</span><span class=\"p\">:</span>\n",
       "<span class=\"w\">        </span><span class=\"sd\">&quot;&quot;&quot;</span>\n",
       "<span class=\"sd\">        Run an experiment to measure the T2 echo time of a qubit.</span>\n",
       "\n",
       "<span class=\"sd\">        Parameters:</span>\n",
       "<span class=\"sd\">        dut_qubit (Any): Device under test (DUT) qubit object.</span>\n",
       "<span class=\"sd\">        delay (float): Delay time &#39;t&#39; between gates. </span>\n",
       "<span class=\"sd\">        collection_name (str): Collection name for retrieving c1. Default is &#39;f01&#39;.</span>\n",
       "<span class=\"sd\">        mprim_index (int): Index for retrieving measurement primitive. Default is 0.</span>\n",
       "\n",
       "<span class=\"sd\">        Returns:</span>\n",
       "<span class=\"sd\">        None</span>\n",
       "\n",
       "<span class=\"sd\">        Example:</span>\n",
       "<span class=\"sd\">            &gt;&gt;&gt; # Run an experiment to measure the T2 echo time of a qubit</span>\n",
       "<span class=\"sd\">            &gt;&gt;&gt; t2_echo_experiment = T2EchoExperiment()</span>\n",
       "<span class=\"sd\">            &gt;&gt;&gt; t2_echo_experiment.run(dut_qubit=dut, delay=0.1, collection_name=&#39;f01&#39;, mprim_index=0)</span>\n",
       "<span class=\"sd\">        &quot;&quot;&quot;</span>\n",
       "        <span class=\"n\">c1</span> <span class=\"o\">=</span> <span class=\"n\">dut_qubit</span><span class=\"o\">.</span><span class=\"n\">get_c1</span><span class=\"p\">(</span><span class=\"n\">collection_name</span><span class=\"p\">)</span>\n",
       "        <span class=\"n\">pi_over_2_pulse</span> <span class=\"o\">=</span> <span class=\"n\">c1</span><span class=\"p\">[</span><span class=\"s1\">&#39;Yp&#39;</span><span class=\"p\">]</span><span class=\"o\">.</span><span class=\"n\">clone</span><span class=\"p\">()</span>\n",
       "        <span class=\"n\">lpb</span> <span class=\"o\">=</span> <span class=\"n\">pi_over_2_pulse</span>\n",
       "        <span class=\"n\">delay_1</span> <span class=\"o\">=</span> <span class=\"n\">DelayPrimitive</span><span class=\"p\">({</span><span class=\"s1\">&#39;delay_time&#39;</span><span class=\"p\">:</span> <span class=\"n\">delay</span><span class=\"p\">})</span>\n",
       "        <span class=\"n\">lpb</span> <span class=\"o\">=</span> <span class=\"n\">lpb</span> <span class=\"o\">+</span> <span class=\"n\">delay_1</span>\n",
       "        <span class=\"n\">x_gate</span> <span class=\"o\">=</span> <span class=\"n\">c1</span><span class=\"p\">[</span><span class=\"s1\">&#39;X&#39;</span><span class=\"p\">]</span><span class=\"o\">.</span><span class=\"n\">clone</span><span class=\"p\">()</span>\n",
       "        <span class=\"n\">lpb</span> <span class=\"o\">=</span> <span class=\"n\">lpb</span> <span class=\"o\">+</span> <span class=\"n\">x_gate</span>\n",
       "        <span class=\"n\">delay_2</span> <span class=\"o\">=</span> <span class=\"n\">DelayPrimitive</span><span class=\"p\">({</span><span class=\"s1\">&#39;delay_time&#39;</span><span class=\"p\">:</span> <span class=\"n\">delay</span><span class=\"p\">})</span>\n",
       "        <span class=\"n\">lpb</span> <span class=\"o\">=</span> <span class=\"n\">lpb</span> <span class=\"o\">+</span> <span class=\"n\">delay_2</span>\n",
       "        <span class=\"n\">lpb</span> <span class=\"o\">=</span> <span class=\"n\">lpb</span> <span class=\"o\">+</span> <span class=\"n\">pi_over_2_pulse</span>\n",
       "        <span class=\"n\">mprim</span> <span class=\"o\">=</span> <span class=\"n\">dut_qubit</span><span class=\"o\">.</span><span class=\"n\">get_measurement_prim_intlist</span><span class=\"p\">(</span><span class=\"n\">mprim_index</span><span class=\"p\">)</span>\n",
       "        <span class=\"bp\">self</span><span class=\"o\">.</span><span class=\"n\">mp</span> <span class=\"o\">=</span> <span class=\"n\">mprim</span>\n",
       "        <span class=\"n\">basic</span><span class=\"p\">(</span><span class=\"n\">lpb</span> <span class=\"o\">+</span> <span class=\"n\">mprim</span><span class=\"p\">,</span> <span class=\"kc\">None</span><span class=\"p\">,</span> <span class=\"s1\">&#39;&lt;z&gt;&#39;</span><span class=\"p\">)</span>\n",
       "        <span class=\"bp\">self</span><span class=\"o\">.</span><span class=\"n\">data</span> <span class=\"o\">=</span> <span class=\"n\">np</span><span class=\"o\">.</span><span class=\"n\">squeeze</span><span class=\"p\">(</span><span class=\"n\">mprim</span><span class=\"o\">.</span><span class=\"n\">result</span><span class=\"p\">())</span>\n",
       "\n",
       "    <span class=\"k\">def</span> <span class=\"nf\">data_analysis</span><span class=\"p\">(</span><span class=\"bp\">self</span><span class=\"p\">):</span>\n",
       "        <span class=\"n\">t</span> <span class=\"o\">=</span> <span class=\"n\">np</span><span class=\"o\">.</span><span class=\"n\">linspace</span><span class=\"p\">(</span><span class=\"mi\">0</span><span class=\"p\">,</span> <span class=\"bp\">self</span><span class=\"o\">.</span><span class=\"n\">data</span><span class=\"o\">.</span><span class=\"n\">size</span><span class=\"p\">,</span> <span class=\"bp\">self</span><span class=\"o\">.</span><span class=\"n\">data</span><span class=\"o\">.</span><span class=\"n\">size</span><span class=\"p\">)</span>\n",
       "        <span class=\"n\">sine_fit</span> <span class=\"o\">=</span> <span class=\"n\">fit_1d_freq</span><span class=\"p\">(</span><span class=\"bp\">self</span><span class=\"o\">.</span><span class=\"n\">data</span><span class=\"p\">,</span> <span class=\"n\">t</span><span class=\"p\">[</span><span class=\"mi\">1</span><span class=\"p\">]</span> <span class=\"o\">-</span> <span class=\"n\">t</span><span class=\"p\">[</span><span class=\"mi\">0</span><span class=\"p\">])</span>\n",
       "        <span class=\"n\">exp_fit</span> <span class=\"o\">=</span> <span class=\"n\">fit_exp_decay_with_cov</span><span class=\"p\">(</span><span class=\"bp\">self</span><span class=\"o\">.</span><span class=\"n\">data</span><span class=\"p\">,</span> <span class=\"n\">t</span><span class=\"p\">[</span><span class=\"mi\">1</span><span class=\"p\">]</span> <span class=\"o\">-</span> <span class=\"n\">t</span><span class=\"p\">[</span><span class=\"mi\">0</span><span class=\"p\">])</span>\n",
       "        <span class=\"bp\">self</span><span class=\"o\">.</span><span class=\"n\">fit_params</span> <span class=\"o\">=</span> <span class=\"p\">{</span>\n",
       "            <span class=\"s1\">&#39;sine_fit&#39;</span><span class=\"p\">:</span> <span class=\"p\">{</span>\n",
       "                <span class=\"s1\">&#39;Frequency&#39;</span><span class=\"p\">:</span> <span class=\"n\">sine_fit</span><span class=\"p\">[</span><span class=\"s1\">&#39;Frequency&#39;</span><span class=\"p\">]</span><span class=\"o\">.</span><span class=\"n\">nominal_value</span><span class=\"p\">,</span>\n",
       "                <span class=\"s1\">&#39;Amplitude&#39;</span><span class=\"p\">:</span> <span class=\"n\">sine_fit</span><span class=\"p\">[</span><span class=\"s1\">&#39;Amplitude&#39;</span><span class=\"p\">]</span><span class=\"o\">.</span><span class=\"n\">nominal_value</span><span class=\"p\">,</span>\n",
       "                <span class=\"s1\">&#39;Phase&#39;</span><span class=\"p\">:</span> <span class=\"n\">sine_fit</span><span class=\"p\">[</span><span class=\"s1\">&#39;Phase&#39;</span><span class=\"p\">]</span><span class=\"o\">.</span><span class=\"n\">nominal_value</span><span class=\"p\">,</span>\n",
       "                <span class=\"s1\">&#39;Offset&#39;</span><span class=\"p\">:</span> <span class=\"n\">sine_fit</span><span class=\"p\">[</span><span class=\"s1\">&#39;Offset&#39;</span><span class=\"p\">]</span><span class=\"o\">.</span><span class=\"n\">nominal_value</span><span class=\"p\">,</span>\n",
       "                <span class=\"s1\">&#39;Residual&#39;</span><span class=\"p\">:</span> <span class=\"n\">sine_fit</span><span class=\"p\">[</span><span class=\"s1\">&#39;Residual&#39;</span><span class=\"p\">]</span><span class=\"o\">.</span><span class=\"n\">nominal_value</span>\n",
       "            <span class=\"p\">},</span>\n",
       "            <span class=\"s1\">&#39;exp_fit&#39;</span><span class=\"p\">:</span> <span class=\"p\">{</span>\n",
       "                <span class=\"s1\">&#39;Amplitude&#39;</span><span class=\"p\">:</span> <span class=\"n\">exp_fit</span><span class=\"p\">[</span><span class=\"s1\">&#39;Amplitude&#39;</span><span class=\"p\">]</span><span class=\"o\">.</span><span class=\"n\">nominal_value</span><span class=\"p\">,</span>\n",
       "                <span class=\"s1\">&#39;Offset&#39;</span><span class=\"p\">:</span> <span class=\"n\">exp_fit</span><span class=\"p\">[</span><span class=\"s1\">&#39;Offset&#39;</span><span class=\"p\">]</span><span class=\"o\">.</span><span class=\"n\">nominal_value</span><span class=\"p\">,</span>\n",
       "                <span class=\"s1\">&#39;Decay&#39;</span><span class=\"p\">:</span> <span class=\"n\">exp_fit</span><span class=\"p\">[</span><span class=\"s1\">&#39;Decay&#39;</span><span class=\"p\">]</span><span class=\"o\">.</span><span class=\"n\">nominal_value</span><span class=\"p\">,</span>\n",
       "                <span class=\"s1\">&#39;Cov&#39;</span><span class=\"p\">:</span> <span class=\"n\">exp_fit</span><span class=\"p\">[</span><span class=\"s1\">&#39;Cov&#39;</span><span class=\"p\">]</span>\n",
       "            <span class=\"p\">}</span>\n",
       "        <span class=\"p\">}</span>\n",
       "\n",
       "    <span class=\"k\">def</span> <span class=\"nf\">data_visualization</span><span class=\"p\">(</span><span class=\"bp\">self</span><span class=\"p\">):</span>\n",
       "        <span class=\"bp\">self</span><span class=\"o\">.</span><span class=\"n\">data_analysis</span><span class=\"p\">()</span>\n",
       "        <span class=\"n\">t</span> <span class=\"o\">=</span> <span class=\"n\">np</span><span class=\"o\">.</span><span class=\"n\">linspace</span><span class=\"p\">(</span><span class=\"mi\">0</span><span class=\"p\">,</span> <span class=\"bp\">self</span><span class=\"o\">.</span><span class=\"n\">data</span><span class=\"o\">.</span><span class=\"n\">size</span><span class=\"p\">,</span> <span class=\"bp\">self</span><span class=\"o\">.</span><span class=\"n\">data</span><span class=\"o\">.</span><span class=\"n\">size</span><span class=\"p\">)</span>\n",
       "        <span class=\"n\">plt</span><span class=\"o\">.</span><span class=\"n\">scatter</span><span class=\"p\">(</span><span class=\"n\">t</span><span class=\"p\">,</span> <span class=\"bp\">self</span><span class=\"o\">.</span><span class=\"n\">data</span><span class=\"p\">,</span> <span class=\"n\">label</span><span class=\"o\">=</span><span class=\"s1\">&#39;Experimental Data&#39;</span><span class=\"p\">,</span> <span class=\"n\">color</span><span class=\"o\">=</span><span class=\"s1\">&#39;blue&#39;</span><span class=\"p\">)</span>\n",
       "        <span class=\"n\">sine_fit_t</span> <span class=\"o\">=</span> <span class=\"bp\">self</span><span class=\"o\">.</span><span class=\"n\">fit_params</span><span class=\"p\">[</span><span class=\"s1\">&#39;sine_fit&#39;</span><span class=\"p\">][</span><span class=\"s1\">&#39;Amplitude&#39;</span><span class=\"p\">]</span> <span class=\"o\">*</span> <span class=\"n\">np</span><span class=\"o\">.</span><span class=\"n\">sin</span><span class=\"p\">(</span><span class=\"mi\">2</span> <span class=\"o\">*</span> <span class=\"n\">np</span><span class=\"o\">.</span><span class=\"n\">pi</span> <span class=\"o\">*</span> <span class=\"bp\">self</span><span class=\"o\">.</span><span class=\"n\">fit_params</span><span class=\"p\">[</span><span class=\"s1\">&#39;sine_fit&#39;</span><span class=\"p\">][</span><span class=\"s1\">&#39;Frequency&#39;</span><span class=\"p\">]</span> <span class=\"o\">*</span> <span class=\"n\">t</span> <span class=\"o\">+</span> <span class=\"bp\">self</span><span class=\"o\">.</span><span class=\"n\">fit_params</span><span class=\"p\">[</span><span class=\"s1\">&#39;sine_fit&#39;</span><span class=\"p\">][</span><span class=\"s1\">&#39;Phase&#39;</span><span class=\"p\">])</span> <span class=\"o\">+</span> <span class=\"bp\">self</span><span class=\"o\">.</span><span class=\"n\">fit_params</span><span class=\"p\">[</span><span class=\"s1\">&#39;sine_fit&#39;</span><span class=\"p\">][</span><span class=\"s1\">&#39;Offset&#39;</span><span class=\"p\">]</span>\n",
       "        <span class=\"n\">plt</span><span class=\"o\">.</span><span class=\"n\">plot</span><span class=\"p\">(</span><span class=\"n\">t</span><span class=\"p\">,</span> <span class=\"n\">sine_fit_t</span><span class=\"p\">,</span> <span class=\"n\">label</span><span class=\"o\">=</span><span class=\"s1\">&#39;Sine Fit&#39;</span><span class=\"p\">,</span> <span class=\"n\">color</span><span class=\"o\">=</span><span class=\"s1\">&#39;red&#39;</span><span class=\"p\">)</span>\n",
       "        <span class=\"n\">exp_fit_t</span> <span class=\"o\">=</span> <span class=\"bp\">self</span><span class=\"o\">.</span><span class=\"n\">fit_params</span><span class=\"p\">[</span><span class=\"s1\">&#39;exp_fit&#39;</span><span class=\"p\">][</span><span class=\"s1\">&#39;Amplitude&#39;</span><span class=\"p\">]</span> <span class=\"o\">*</span> <span class=\"n\">np</span><span class=\"o\">.</span><span class=\"n\">exp</span><span class=\"p\">(</span><span class=\"o\">-</span><span class=\"bp\">self</span><span class=\"o\">.</span><span class=\"n\">fit_params</span><span class=\"p\">[</span><span class=\"s1\">&#39;exp_fit&#39;</span><span class=\"p\">][</span><span class=\"s1\">&#39;Decay&#39;</span><span class=\"p\">]</span> <span class=\"o\">*</span> <span class=\"n\">t</span><span class=\"p\">)</span> <span class=\"o\">+</span> <span class=\"bp\">self</span><span class=\"o\">.</span><span class=\"n\">fit_params</span><span class=\"p\">[</span><span class=\"s1\">&#39;exp_fit&#39;</span><span class=\"p\">][</span><span class=\"s1\">&#39;Offset&#39;</span><span class=\"p\">]</span>\n",
       "        <span class=\"n\">plt</span><span class=\"o\">.</span><span class=\"n\">plot</span><span class=\"p\">(</span><span class=\"n\">t</span><span class=\"p\">,</span> <span class=\"n\">exp_fit_t</span><span class=\"p\">,</span> <span class=\"n\">label</span><span class=\"o\">=</span><span class=\"s1\">&#39;Exponential Fit&#39;</span><span class=\"p\">,</span> <span class=\"n\">color</span><span class=\"o\">=</span><span class=\"s1\">&#39;green&#39;</span><span class=\"p\">)</span>\n",
       "        <span class=\"n\">plt</span><span class=\"o\">.</span><span class=\"n\">xlabel</span><span class=\"p\">(</span><span class=\"s1\">&#39;Time&#39;</span><span class=\"p\">)</span>\n",
       "        <span class=\"n\">plt</span><span class=\"o\">.</span><span class=\"n\">ylabel</span><span class=\"p\">(</span><span class=\"s1\">&#39;Excited State Population&#39;</span><span class=\"p\">)</span>\n",
       "        <span class=\"n\">plt</span><span class=\"o\">.</span><span class=\"n\">legend</span><span class=\"p\">()</span>\n",
       "        <span class=\"k\">return</span> <span class=\"n\">plt</span><span class=\"o\">.</span><span class=\"n\">figure</span><span class=\"p\">()</span>\n",
       "</pre></div>\n",
       "\n",
       "        </div>\n",
       "\n",
       "    </p>\n",
       "    "
      ],
      "text/plain": [
       "<IPython.core.display.HTML object>"
      ]
     },
     "metadata": {},
     "output_type": "display_data"
    }
   ],
   "source": [
    "code = generate_experiment(description_t2)"
   ]
  },
  {
   "cell_type": "raw",
   "id": "3c2e9326-3fb8-4d37-8723-b4dae3421bc9",
   "metadata": {},
   "source": [
    "1. Pulse correctness:\n",
    "2. Data analysis:\n",
    "3. Data visualization:\n",
    "4. Decorations and imports:"
   ]
  },
  {
   "cell_type": "markdown",
   "id": "e1f4dc12-3093-4e7a-8f43-e6e583271a08",
   "metadata": {},
   "source": [
    "# RABI"
   ]
  },
  {
   "cell_type": "code",
   "execution_count": 5,
   "id": "170c84b7-8453-498e-9387-78ba54e898e5",
   "metadata": {},
   "outputs": [
    {
     "data": {
      "application/vnd.jupyter.widget-view+json": {
       "model_id": "937af181cfd742e09081d281eb7d24ba",
       "version_major": 2,
       "version_minor": 0
      },
      "text/plain": [
       "Experiment Generation Progress:   0%|          | 0/5 [00:00<?, ?it/s]"
      ]
     },
     "metadata": {},
     "output_type": "display_data"
    },
    {
     "data": {
      "text/html": [
       "\n",
       "    <p style=\"background-color: #F8F8FF; padding: 20px; border-radius: 8px; color: #333;\">\n",
       "        <strong>Experiment generation agent:</strong> \n",
       "        <div style=\"background: #f8f8f8; padding: 10px; border-radius: 5px; overflow: auto; margin-top: 8px;\">\n",
       "            <div class=\"highlight\"><pre><span></span><span class=\"kn\">from</span> <span class=\"nn\">typing</span> <span class=\"kn\">import</span> <span class=\"n\">Any</span><span class=\"p\">,</span> <span class=\"n\">Optional</span><span class=\"p\">,</span> <span class=\"n\">Dict</span>\n",
       "<span class=\"kn\">import</span> <span class=\"nn\">numpy</span> <span class=\"k\">as</span> <span class=\"nn\">np</span>\n",
       "<span class=\"kn\">import</span> <span class=\"nn\">matplotlib.pyplot</span> <span class=\"k\">as</span> <span class=\"nn\">plt</span>\n",
       "<span class=\"kn\">from</span> <span class=\"nn\">leeq</span> <span class=\"kn\">import</span> <span class=\"n\">Experiment</span><span class=\"p\">,</span> <span class=\"n\">log_and_record</span><span class=\"p\">,</span> <span class=\"n\">SweepParametersSideEffectFactory</span><span class=\"p\">,</span> <span class=\"n\">Sweeper</span><span class=\"p\">,</span> <span class=\"n\">basic_run</span>\n",
       "<span class=\"kn\">from</span> <span class=\"nn\">leeq.core.primitives.logical_primitives</span> <span class=\"kn\">import</span> <span class=\"n\">LogicalPrimitiveBlockSweep</span>\n",
       "<span class=\"kn\">from</span> <span class=\"nn\">leeq.utils.compatibility</span> <span class=\"kn\">import</span> <span class=\"n\">prims</span>\n",
       "<span class=\"kn\">from</span> <span class=\"nn\">leeq.theory.fits</span> <span class=\"kn\">import</span> <span class=\"n\">fit_1d_freq</span>\n",
       "\n",
       "<span class=\"k\">class</span> <span class=\"nc\">NormalisedRabi</span><span class=\"p\">(</span><span class=\"n\">Experiment</span><span class=\"p\">):</span>\n",
       "    <span class=\"nd\">@log_and_record</span>\n",
       "    <span class=\"k\">def</span> <span class=\"nf\">run</span><span class=\"p\">(</span><span class=\"bp\">self</span><span class=\"p\">,</span>\n",
       "            <span class=\"n\">dut_qubit</span><span class=\"p\">:</span> <span class=\"n\">Any</span><span class=\"p\">,</span>\n",
       "            <span class=\"n\">amp</span><span class=\"p\">:</span> <span class=\"nb\">float</span> <span class=\"o\">=</span> <span class=\"mf\">0.05</span><span class=\"p\">,</span>\n",
       "            <span class=\"n\">start</span><span class=\"p\">:</span> <span class=\"nb\">float</span> <span class=\"o\">=</span> <span class=\"mf\">0.01</span><span class=\"p\">,</span>\n",
       "            <span class=\"n\">stop</span><span class=\"p\">:</span> <span class=\"nb\">float</span> <span class=\"o\">=</span> <span class=\"mf\">0.3</span><span class=\"p\">,</span>\n",
       "            <span class=\"n\">step</span><span class=\"p\">:</span> <span class=\"nb\">float</span> <span class=\"o\">=</span> <span class=\"mf\">0.002</span><span class=\"p\">,</span>\n",
       "            <span class=\"n\">fit</span><span class=\"p\">:</span> <span class=\"nb\">bool</span> <span class=\"o\">=</span> <span class=\"kc\">True</span><span class=\"p\">,</span>\n",
       "            <span class=\"n\">collection_name</span><span class=\"p\">:</span> <span class=\"nb\">str</span> <span class=\"o\">=</span> <span class=\"s1\">&#39;f01&#39;</span><span class=\"p\">,</span>\n",
       "            <span class=\"n\">mprim_index</span><span class=\"p\">:</span> <span class=\"nb\">int</span> <span class=\"o\">=</span> <span class=\"mi\">0</span><span class=\"p\">,</span>\n",
       "            <span class=\"n\">pulse_discretization</span><span class=\"p\">:</span> <span class=\"nb\">bool</span> <span class=\"o\">=</span> <span class=\"kc\">True</span><span class=\"p\">,</span>\n",
       "            <span class=\"n\">update</span><span class=\"p\">:</span> <span class=\"nb\">bool</span> <span class=\"o\">=</span> <span class=\"kc\">True</span><span class=\"p\">,</span>\n",
       "            <span class=\"n\">initial_lpb</span><span class=\"p\">:</span> <span class=\"n\">Optional</span><span class=\"p\">[</span><span class=\"n\">Any</span><span class=\"p\">]</span> <span class=\"o\">=</span> <span class=\"kc\">None</span><span class=\"p\">)</span> <span class=\"o\">-&gt;</span> <span class=\"n\">Optional</span><span class=\"p\">[</span><span class=\"n\">Dict</span><span class=\"p\">[</span><span class=\"nb\">str</span><span class=\"p\">,</span> <span class=\"n\">Any</span><span class=\"p\">]]:</span>\n",
       "<span class=\"w\">        </span><span class=\"sd\">&quot;&quot;&quot;</span>\n",
       "<span class=\"sd\">        Run a Rabi experiment on a given qubit and analyze the results.</span>\n",
       "\n",
       "<span class=\"sd\">        Parameters:</span>\n",
       "<span class=\"sd\">        dut_qubit (Any): Device under test (DUT) qubit object.</span>\n",
       "<span class=\"sd\">        amp (float): Amplitude of the Rabi pulse. Default is 0.05.</span>\n",
       "<span class=\"sd\">        start (float): Start width for the pulse width sweep. Default is 0.01.</span>\n",
       "<span class=\"sd\">        stop (float): Stop width for the pulse width sweep. Default is 0.15.</span>\n",
       "<span class=\"sd\">        step (float): Step width for the pulse width sweep. Default is 0.001.</span>\n",
       "<span class=\"sd\">        fit (bool): Whether to fit the resulting data to a sinusoidal function. Default is True.</span>\n",
       "<span class=\"sd\">        collection_name (str): Collection name for retrieving c1. Default is &#39;f01&#39;.</span>\n",
       "<span class=\"sd\">        mprim_index (int): Index for retrieving measurement primitive. Default is 0.</span>\n",
       "<span class=\"sd\">        pulse_discretization (bool): Whether to discretize the pulse. Default is False.</span>\n",
       "<span class=\"sd\">        update (bool): Whether to update the qubit parameters If you are tuning up the qubit set it to True. Default is False.</span>\n",
       "<span class=\"sd\">        initial_lpb (Any): Initial lpb to add to the created lpb. Default is None.</span>\n",
       "\n",
       "<span class=\"sd\">        Returns:</span>\n",
       "<span class=\"sd\">        Dict[str, Any]: Fitted parameters if fit is True, None otherwise.</span>\n",
       "<span class=\"sd\">        &quot;&quot;&quot;</span>\n",
       "        <span class=\"n\">c1</span> <span class=\"o\">=</span> <span class=\"n\">dut_qubit</span><span class=\"o\">.</span><span class=\"n\">get_c1</span><span class=\"p\">(</span><span class=\"n\">collection_name</span><span class=\"p\">)</span>\n",
       "        <span class=\"n\">rabi_pulse</span> <span class=\"o\">=</span> <span class=\"n\">c1</span><span class=\"p\">[</span><span class=\"s1\">&#39;X&#39;</span><span class=\"p\">]</span><span class=\"o\">.</span><span class=\"n\">clone</span><span class=\"p\">()</span>\n",
       "\n",
       "        <span class=\"k\">if</span> <span class=\"n\">amp</span> <span class=\"ow\">is</span> <span class=\"ow\">not</span> <span class=\"kc\">None</span><span class=\"p\">:</span>\n",
       "            <span class=\"n\">rabi_pulse</span><span class=\"o\">.</span><span class=\"n\">update_pulse_args</span><span class=\"p\">(</span>\n",
       "                <span class=\"n\">amp</span><span class=\"o\">=</span><span class=\"n\">amp</span><span class=\"p\">,</span> <span class=\"n\">phase</span><span class=\"o\">=</span><span class=\"mf\">0.</span><span class=\"p\">,</span> <span class=\"n\">shape</span><span class=\"o\">=</span><span class=\"s1\">&#39;square&#39;</span><span class=\"p\">,</span> <span class=\"n\">width</span><span class=\"o\">=</span><span class=\"n\">step</span><span class=\"p\">)</span>\n",
       "        <span class=\"k\">else</span><span class=\"p\">:</span>\n",
       "            <span class=\"n\">amp</span> <span class=\"o\">=</span> <span class=\"n\">rabi_pulse</span><span class=\"o\">.</span><span class=\"n\">amp</span>\n",
       "\n",
       "        <span class=\"k\">if</span> <span class=\"ow\">not</span> <span class=\"n\">pulse_discretization</span><span class=\"p\">:</span>\n",
       "            <span class=\"n\">swpparams</span> <span class=\"o\">=</span> <span class=\"p\">[</span><span class=\"n\">SweepParametersSideEffectFactory</span><span class=\"o\">.</span><span class=\"n\">func</span><span class=\"p\">(</span>\n",
       "                <span class=\"n\">rabi_pulse</span><span class=\"o\">.</span><span class=\"n\">update_pulse_args</span><span class=\"p\">,</span> <span class=\"p\">{},</span> <span class=\"s1\">&#39;width&#39;</span>\n",
       "            <span class=\"p\">)]</span>\n",
       "            <span class=\"n\">swp</span> <span class=\"o\">=</span> <span class=\"n\">Sweeper</span><span class=\"p\">(</span>\n",
       "                <span class=\"n\">np</span><span class=\"o\">.</span><span class=\"n\">arange</span><span class=\"p\">,</span>\n",
       "                <span class=\"n\">n_kwargs</span><span class=\"o\">=</span><span class=\"p\">{</span><span class=\"s1\">&#39;start&#39;</span><span class=\"p\">:</span> <span class=\"n\">start</span><span class=\"p\">,</span> <span class=\"s1\">&#39;stop&#39;</span><span class=\"p\">:</span> <span class=\"n\">stop</span><span class=\"p\">,</span> <span class=\"s1\">&#39;step&#39;</span><span class=\"p\">:</span> <span class=\"n\">step</span><span class=\"p\">},</span>\n",
       "                <span class=\"n\">params</span><span class=\"o\">=</span><span class=\"n\">swpparams</span>\n",
       "            <span class=\"p\">)</span>\n",
       "            <span class=\"n\">pulse</span> <span class=\"o\">=</span> <span class=\"n\">rabi_pulse</span>\n",
       "        <span class=\"k\">else</span><span class=\"p\">:</span>\n",
       "            <span class=\"n\">pulse</span> <span class=\"o\">=</span> <span class=\"n\">LogicalPrimitiveBlockSweep</span><span class=\"p\">([</span><span class=\"n\">prims</span><span class=\"o\">.</span><span class=\"n\">SerialLPB</span><span class=\"p\">(</span>\n",
       "                <span class=\"p\">[</span><span class=\"n\">rabi_pulse</span><span class=\"p\">]</span> <span class=\"o\">*</span> <span class=\"n\">k</span><span class=\"p\">,</span> <span class=\"n\">name</span><span class=\"o\">=</span><span class=\"s1\">&#39;rabi_pulse&#39;</span><span class=\"p\">)</span> <span class=\"k\">for</span> <span class=\"n\">k</span> <span class=\"ow\">in</span> <span class=\"nb\">range</span><span class=\"p\">(</span><span class=\"nb\">int</span><span class=\"p\">((</span><span class=\"n\">stop</span> <span class=\"o\">-</span> <span class=\"n\">start</span><span class=\"p\">)</span> <span class=\"o\">/</span> <span class=\"n\">step</span> <span class=\"o\">+</span> <span class=\"mf\">0.5</span><span class=\"p\">)])</span>\n",
       "            <span class=\"n\">swp</span> <span class=\"o\">=</span> <span class=\"n\">Sweeper</span><span class=\"o\">.</span><span class=\"n\">from_sweep_lpb</span><span class=\"p\">(</span><span class=\"n\">pulse</span><span class=\"p\">)</span>\n",
       "\n",
       "        <span class=\"n\">mprim</span> <span class=\"o\">=</span> <span class=\"n\">dut_qubit</span><span class=\"o\">.</span><span class=\"n\">get_measurement_prim_intlist</span><span class=\"p\">(</span><span class=\"n\">mprim_index</span><span class=\"p\">)</span>\n",
       "        <span class=\"bp\">self</span><span class=\"o\">.</span><span class=\"n\">mp</span> <span class=\"o\">=</span> <span class=\"n\">mprim</span>\n",
       "\n",
       "        <span class=\"n\">lpb</span> <span class=\"o\">=</span> <span class=\"n\">pulse</span> <span class=\"o\">+</span> <span class=\"n\">mprim</span>\n",
       "\n",
       "        <span class=\"k\">if</span> <span class=\"n\">initial_lpb</span> <span class=\"ow\">is</span> <span class=\"ow\">not</span> <span class=\"kc\">None</span><span class=\"p\">:</span>\n",
       "            <span class=\"n\">lpb</span> <span class=\"o\">=</span> <span class=\"n\">initial_lpb</span> <span class=\"o\">+</span> <span class=\"n\">lpb</span>\n",
       "\n",
       "        <span class=\"n\">basic_run</span><span class=\"p\">(</span><span class=\"n\">lpb</span><span class=\"p\">,</span> <span class=\"n\">swp</span><span class=\"p\">,</span> <span class=\"s1\">&#39;&lt;z&gt;&#39;</span><span class=\"p\">)</span>\n",
       "\n",
       "        <span class=\"bp\">self</span><span class=\"o\">.</span><span class=\"n\">data</span> <span class=\"o\">=</span> <span class=\"n\">np</span><span class=\"o\">.</span><span class=\"n\">squeeze</span><span class=\"p\">(</span><span class=\"n\">mprim</span><span class=\"o\">.</span><span class=\"n\">result</span><span class=\"p\">())</span>\n",
       "\n",
       "        <span class=\"k\">if</span> <span class=\"ow\">not</span> <span class=\"n\">fit</span><span class=\"p\">:</span>\n",
       "            <span class=\"k\">return</span> <span class=\"kc\">None</span>\n",
       "\n",
       "        <span class=\"bp\">self</span><span class=\"o\">.</span><span class=\"n\">fit_params</span> <span class=\"o\">=</span> <span class=\"bp\">self</span><span class=\"o\">.</span><span class=\"n\">fit_sinusoidal</span><span class=\"p\">(</span><span class=\"bp\">self</span><span class=\"o\">.</span><span class=\"n\">data</span><span class=\"p\">,</span> <span class=\"n\">time_step</span><span class=\"o\">=</span><span class=\"n\">step</span><span class=\"p\">)</span>\n",
       "\n",
       "        <span class=\"n\">normalised_pulse_area</span> <span class=\"o\">=</span> <span class=\"n\">c1</span><span class=\"p\">[</span><span class=\"s1\">&#39;X&#39;</span><span class=\"p\">]</span><span class=\"o\">.</span><span class=\"n\">calculate_envelope_area</span><span class=\"p\">()</span> <span class=\"o\">/</span> <span class=\"n\">c1</span><span class=\"p\">[</span><span class=\"s1\">&#39;X&#39;</span><span class=\"p\">]</span><span class=\"o\">.</span><span class=\"n\">amp</span>\n",
       "        <span class=\"n\">two_pi_area</span> <span class=\"o\">=</span> <span class=\"n\">amp</span> <span class=\"o\">*</span> <span class=\"p\">(</span><span class=\"mi\">1</span> <span class=\"o\">/</span> <span class=\"bp\">self</span><span class=\"o\">.</span><span class=\"n\">fit_params</span><span class=\"p\">[</span><span class=\"s1\">&#39;Frequency&#39;</span><span class=\"p\">])</span>\n",
       "        <span class=\"n\">new_amp</span> <span class=\"o\">=</span> <span class=\"n\">two_pi_area</span> <span class=\"o\">/</span> <span class=\"mi\">2</span> <span class=\"o\">/</span> <span class=\"n\">normalised_pulse_area</span>\n",
       "        <span class=\"bp\">self</span><span class=\"o\">.</span><span class=\"n\">guess_amp</span> <span class=\"o\">=</span> <span class=\"n\">new_amp</span>\n",
       "\n",
       "        <span class=\"k\">if</span> <span class=\"n\">update</span><span class=\"p\">:</span>\n",
       "            <span class=\"n\">c1</span><span class=\"o\">.</span><span class=\"n\">update_parameters</span><span class=\"p\">(</span><span class=\"n\">amp</span><span class=\"o\">=</span><span class=\"n\">new_amp</span><span class=\"p\">)</span>\n",
       "            <span class=\"nb\">print</span><span class=\"p\">(</span><span class=\"sa\">f</span><span class=\"s2\">&quot;Amplitude updated: </span><span class=\"si\">{</span><span class=\"n\">new_amp</span><span class=\"si\">}</span><span class=\"s2\">&quot;</span><span class=\"p\">)</span>\n",
       "\n",
       "    <span class=\"nd\">@staticmethod</span>\n",
       "    <span class=\"k\">def</span> <span class=\"nf\">fit_sinusoidal</span><span class=\"p\">(</span>\n",
       "            <span class=\"n\">data</span><span class=\"p\">:</span> <span class=\"n\">np</span><span class=\"o\">.</span><span class=\"n\">ndarray</span><span class=\"p\">,</span>\n",
       "            <span class=\"n\">time_step</span><span class=\"p\">:</span> <span class=\"nb\">float</span><span class=\"p\">,</span>\n",
       "            <span class=\"n\">use_freq_bound</span><span class=\"p\">:</span> <span class=\"nb\">bool</span> <span class=\"o\">=</span> <span class=\"kc\">True</span><span class=\"p\">,</span>\n",
       "            <span class=\"n\">fix_frequency</span><span class=\"p\">:</span> <span class=\"nb\">bool</span> <span class=\"o\">=</span> <span class=\"kc\">False</span><span class=\"p\">,</span>\n",
       "            <span class=\"n\">start_time</span><span class=\"p\">:</span> <span class=\"nb\">float</span> <span class=\"o\">=</span> <span class=\"mi\">0</span><span class=\"p\">,</span>\n",
       "            <span class=\"n\">freq_guess</span><span class=\"p\">:</span> <span class=\"n\">Optional</span><span class=\"p\">[</span><span class=\"nb\">float</span><span class=\"p\">]</span> <span class=\"o\">=</span> <span class=\"kc\">None</span><span class=\"p\">,</span>\n",
       "            <span class=\"o\">**</span><span class=\"n\">kwargs</span><span class=\"p\">:</span> <span class=\"n\">Any</span>\n",
       "    <span class=\"p\">)</span> <span class=\"o\">-&gt;</span> <span class=\"n\">Dict</span><span class=\"p\">[</span><span class=\"nb\">str</span><span class=\"p\">,</span> <span class=\"nb\">float</span><span class=\"p\">]:</span>\n",
       "<span class=\"w\">        </span><span class=\"sd\">&quot;&quot;&quot;</span>\n",
       "<span class=\"sd\">        Fit a sinusoidal model to 1D data.</span>\n",
       "\n",
       "<span class=\"sd\">        Parameters:</span>\n",
       "<span class=\"sd\">        data (np.ndarray): The 1D data array to fit.</span>\n",
       "<span class=\"sd\">        time_step (float): The time interval between data points.</span>\n",
       "<span class=\"sd\">        use_freq_bound (bool): Whether to bound the frequency during optimization.</span>\n",
       "<span class=\"sd\">        fix_frequency (bool): Whether to keep the frequency fixed during optimization.</span>\n",
       "<span class=\"sd\">        start_time (float): The start time of the data.</span>\n",
       "<span class=\"sd\">        freq_guess (Optional[float]): An initial guess for the frequency.</span>\n",
       "<span class=\"sd\">        **kwargs (Any): Additional keyword arguments for the optimizer.</span>\n",
       "\n",
       "<span class=\"sd\">        Returns:</span>\n",
       "<span class=\"sd\">        dict: A dictionary containing the optimized parameters and the residual of the fit.</span>\n",
       "<span class=\"sd\">        &quot;&quot;&quot;</span>\n",
       "        <span class=\"c1\"># Function implementation remains the same</span>\n",
       "\n",
       "    <span class=\"k\">def</span> <span class=\"nf\">data_analysis</span><span class=\"p\">(</span><span class=\"bp\">self</span><span class=\"p\">):</span>\n",
       "<span class=\"w\">        </span><span class=\"sd\">&quot;&quot;&quot;</span>\n",
       "<span class=\"sd\">        Perform data analysis on the collected data.</span>\n",
       "<span class=\"sd\">        &quot;&quot;&quot;</span>\n",
       "        <span class=\"c1\"># Function implementation remains the same</span>\n",
       "\n",
       "    <span class=\"k\">def</span> <span class=\"nf\">data_visualization</span><span class=\"p\">(</span><span class=\"bp\">self</span><span class=\"p\">):</span>\n",
       "<span class=\"w\">        </span><span class=\"sd\">&quot;&quot;&quot;</span>\n",
       "<span class=\"sd\">        Visualize the data analysis results.</span>\n",
       "<span class=\"sd\">        &quot;&quot;&quot;</span>\n",
       "        <span class=\"c1\"># Function implementation remains the same</span>\n",
       "\n",
       "        <span class=\"k\">return</span> <span class=\"n\">plt</span><span class=\"o\">.</span><span class=\"n\">gcf</span><span class=\"p\">()</span>\n",
       "</pre></div>\n",
       "\n",
       "        </div>\n",
       "\n",
       "    </p>\n",
       "    "
      ],
      "text/plain": [
       "<IPython.core.display.HTML object>"
      ]
     },
     "metadata": {},
     "output_type": "display_data"
    }
   ],
   "source": [
    "code = generate_experiment(description_amp_rabi)"
   ]
  },
  {
   "cell_type": "raw",
   "id": "22b243bc-8c87-42d7-9e23-306b10c3cad8",
   "metadata": {},
   "source": [
    "1. Pulse correctness:\n",
    "2. Data analysis:\n",
    "3. Data visualization:\n",
    "4. Decorations and imports:"
   ]
  },
  {
   "cell_type": "markdown",
   "id": "e0aaf6ce-cd01-416f-9e55-d4f80ce10584",
   "metadata": {},
   "source": [
    "# DRAG"
   ]
  },
  {
   "cell_type": "code",
   "execution_count": 6,
   "id": "50583ed9-24b1-4447-bc4f-055930ef3ca8",
   "metadata": {},
   "outputs": [
    {
     "data": {
      "application/vnd.jupyter.widget-view+json": {
       "model_id": "2b01d71c9c0d48d1a6b154c81df95bba",
       "version_major": 2,
       "version_minor": 0
      },
      "text/plain": [
       "Experiment Generation Progress:   0%|          | 0/5 [00:00<?, ?it/s]"
      ]
     },
     "metadata": {},
     "output_type": "display_data"
    },
    {
     "data": {
      "text/html": [
       "\n",
       "    <p style=\"background-color: #F8F8FF; padding: 20px; border-radius: 8px; color: #333;\">\n",
       "        <strong>Experiment generation agent:</strong> \n",
       "        <div style=\"background: #f8f8f8; padding: 10px; border-radius: 5px; overflow: auto; margin-top: 8px;\">\n",
       "            <div class=\"highlight\"><pre><span></span><span class=\"kn\">from</span> <span class=\"nn\">labchronicle</span> <span class=\"kn\">import</span> <span class=\"n\">log_and_record</span>\n",
       "<span class=\"kn\">from</span> <span class=\"nn\">leeq</span> <span class=\"kn\">import</span> <span class=\"n\">Experiment</span><span class=\"p\">,</span> <span class=\"n\">Sweeper</span><span class=\"p\">,</span> <span class=\"n\">SweepParametersSideEffectFactory</span><span class=\"p\">,</span> <span class=\"n\">basic_run</span>\n",
       "\n",
       "<span class=\"k\">class</span> <span class=\"nc\">DRAGCalibrationExperiment</span><span class=\"p\">(</span><span class=\"n\">Experiment</span><span class=\"p\">):</span>\n",
       "<span class=\"w\">    </span><span class=\"sd\">&quot;&quot;&quot;</span>\n",
       "<span class=\"sd\">    DRAG Calibration Experiment class for calibrating DRAG parameters.</span>\n",
       "<span class=\"sd\">    &quot;&quot;&quot;</span>\n",
       "\n",
       "    <span class=\"nd\">@log_and_record</span>\n",
       "    <span class=\"k\">def</span> <span class=\"nf\">run</span><span class=\"p\">(</span><span class=\"bp\">self</span><span class=\"p\">,</span>\n",
       "            <span class=\"n\">dut_qubit</span><span class=\"p\">:</span> <span class=\"n\">Any</span><span class=\"p\">,</span>\n",
       "            <span class=\"n\">alpha_values</span><span class=\"p\">:</span> <span class=\"n\">List</span><span class=\"p\">[</span><span class=\"nb\">float</span><span class=\"p\">])</span> <span class=\"o\">-&gt;</span> <span class=\"kc\">None</span><span class=\"p\">:</span>\n",
       "<span class=\"w\">        </span><span class=\"sd\">&quot;&quot;&quot;</span>\n",
       "<span class=\"sd\">        Run the DRAG calibration experiment.</span>\n",
       "\n",
       "<span class=\"sd\">        Parameters:</span>\n",
       "<span class=\"sd\">        dut_qubit (Any): Device under test (DUT) qubit object.</span>\n",
       "<span class=\"sd\">        alpha_values (List[float]): List of alpha values to sweep.</span>\n",
       "\n",
       "<span class=\"sd\">        Returns:</span>\n",
       "<span class=\"sd\">        None</span>\n",
       "<span class=\"sd\">        &quot;&quot;&quot;</span>\n",
       "        <span class=\"k\">def</span> <span class=\"nf\">update_alpha</span><span class=\"p\">(</span><span class=\"n\">alpha</span><span class=\"p\">):</span>\n",
       "            <span class=\"n\">dut_qubit</span><span class=\"o\">.</span><span class=\"n\">get_c1</span><span class=\"p\">(</span><span class=\"s1\">&#39;f01&#39;</span><span class=\"p\">)[</span><span class=\"s1\">&#39;X&#39;</span><span class=\"p\">]</span><span class=\"o\">.</span><span class=\"n\">update_pulse_args</span><span class=\"p\">(</span><span class=\"n\">alpha</span><span class=\"o\">=</span><span class=\"n\">alpha</span><span class=\"p\">)</span>\n",
       "\n",
       "        <span class=\"n\">alpha_sweep</span> <span class=\"o\">=</span> <span class=\"p\">[</span><span class=\"n\">SweepParametersSideEffectFactory</span><span class=\"o\">.</span><span class=\"n\">func</span><span class=\"p\">(</span><span class=\"n\">update_alpha</span><span class=\"p\">,</span> <span class=\"p\">{</span><span class=\"s1\">&#39;alpha&#39;</span><span class=\"p\">:</span> <span class=\"n\">alpha</span><span class=\"p\">},</span> <span class=\"s1\">&#39;alpha&#39;</span><span class=\"p\">)</span> <span class=\"k\">for</span> <span class=\"n\">alpha</span> <span class=\"ow\">in</span> <span class=\"n\">alpha_values</span><span class=\"p\">]</span>\n",
       "        <span class=\"n\">alpha_sweeper</span> <span class=\"o\">=</span> <span class=\"n\">Sweeper</span><span class=\"p\">(</span><span class=\"n\">alpha_sweep</span><span class=\"p\">)</span>\n",
       "\n",
       "        <span class=\"n\">x_gate</span> <span class=\"o\">=</span> <span class=\"n\">dut_qubit</span><span class=\"o\">.</span><span class=\"n\">get_c1</span><span class=\"p\">(</span><span class=\"s1\">&#39;f01&#39;</span><span class=\"p\">)[</span><span class=\"s1\">&#39;X&#39;</span><span class=\"p\">]</span>\n",
       "        <span class=\"n\">z_gate</span> <span class=\"o\">=</span> <span class=\"n\">dut_qubit</span><span class=\"o\">.</span><span class=\"n\">get_gate</span><span class=\"p\">(</span><span class=\"s1\">&#39;virtual_Z_pi&#39;</span><span class=\"p\">)</span>\n",
       "\n",
       "        <span class=\"n\">lpb</span> <span class=\"o\">=</span> <span class=\"n\">x_gate</span> <span class=\"o\">+</span> <span class=\"n\">z_gate</span> <span class=\"o\">+</span> <span class=\"n\">x_gate</span> <span class=\"o\">+</span> <span class=\"n\">z_gate</span> <span class=\"o\">+</span> <span class=\"n\">x_gate</span> <span class=\"o\">+</span> <span class=\"n\">dut_qubit</span><span class=\"o\">.</span><span class=\"n\">get_c1</span><span class=\"p\">(</span><span class=\"s1\">&#39;f01&#39;</span><span class=\"p\">)[</span><span class=\"s1\">&#39;Y&#39;</span><span class=\"p\">]</span>\n",
       "\n",
       "        <span class=\"n\">mprim_minus</span> <span class=\"o\">=</span> <span class=\"n\">dut_qubit</span><span class=\"o\">.</span><span class=\"n\">get_measurement_prim_intlist</span><span class=\"p\">(</span><span class=\"n\">name</span><span class=\"o\">=</span><span class=\"s1\">&#39;-pi/2_X&#39;</span><span class=\"p\">)</span>\n",
       "        <span class=\"n\">mprim_plus</span> <span class=\"o\">=</span> <span class=\"n\">dut_qubit</span><span class=\"o\">.</span><span class=\"n\">get_measurement_prim_intlist</span><span class=\"p\">(</span><span class=\"n\">name</span><span class=\"o\">=</span><span class=\"s1\">&#39;+pi/2_X&#39;</span><span class=\"p\">)</span>\n",
       "\n",
       "        <span class=\"n\">lpb_minus</span> <span class=\"o\">=</span> <span class=\"n\">lpb</span> <span class=\"o\">+</span> <span class=\"n\">mprim_minus</span>\n",
       "        <span class=\"n\">lpb_plus</span> <span class=\"o\">=</span> <span class=\"n\">lpb</span> <span class=\"o\">+</span> <span class=\"n\">mprim_plus</span>\n",
       "\n",
       "        <span class=\"n\">basic</span><span class=\"p\">(</span><span class=\"n\">lpb_minus</span><span class=\"p\">,</span> <span class=\"n\">alpha_sweeper</span><span class=\"p\">,</span> <span class=\"s1\">&#39;&lt;z&gt;&#39;</span><span class=\"p\">)</span>\n",
       "        <span class=\"n\">basic</span><span class=\"p\">(</span><span class=\"n\">lpb_plus</span><span class=\"p\">,</span> <span class=\"n\">alpha_sweeper</span><span class=\"p\">,</span> <span class=\"s1\">&#39;&lt;z&gt;&#39;</span><span class=\"p\">)</span>\n",
       "\n",
       "        <span class=\"bp\">self</span><span class=\"o\">.</span><span class=\"n\">data_minus</span> <span class=\"o\">=</span> <span class=\"n\">np</span><span class=\"o\">.</span><span class=\"n\">squeeze</span><span class=\"p\">(</span><span class=\"n\">mprim_minus</span><span class=\"o\">.</span><span class=\"n\">result</span><span class=\"p\">())</span>\n",
       "        <span class=\"bp\">self</span><span class=\"o\">.</span><span class=\"n\">data_plus</span> <span class=\"o\">=</span> <span class=\"n\">np</span><span class=\"o\">.</span><span class=\"n\">squeeze</span><span class=\"p\">(</span><span class=\"n\">mprim_plus</span><span class=\"o\">.</span><span class=\"n\">result</span><span class=\"p\">())</span>\n",
       "\n",
       "        <span class=\"bp\">self</span><span class=\"o\">.</span><span class=\"n\">fit_params_minus</span> <span class=\"o\">=</span> <span class=\"bp\">self</span><span class=\"o\">.</span><span class=\"n\">fit_linear_model</span><span class=\"p\">(</span><span class=\"bp\">self</span><span class=\"o\">.</span><span class=\"n\">data_minus</span><span class=\"p\">,</span> <span class=\"n\">alpha_values</span><span class=\"p\">)</span>\n",
       "        <span class=\"bp\">self</span><span class=\"o\">.</span><span class=\"n\">fit_params_plus</span> <span class=\"o\">=</span> <span class=\"bp\">self</span><span class=\"o\">.</span><span class=\"n\">fit_linear_model</span><span class=\"p\">(</span><span class=\"bp\">self</span><span class=\"o\">.</span><span class=\"n\">data_plus</span><span class=\"p\">,</span> <span class=\"n\">alpha_values</span><span class=\"p\">)</span>\n",
       "\n",
       "    <span class=\"k\">def</span> <span class=\"nf\">fit_linear_model</span><span class=\"p\">(</span><span class=\"bp\">self</span><span class=\"p\">,</span> <span class=\"n\">data</span><span class=\"p\">:</span> <span class=\"n\">np</span><span class=\"o\">.</span><span class=\"n\">ndarray</span><span class=\"p\">,</span> <span class=\"n\">alpha_values</span><span class=\"p\">:</span> <span class=\"n\">List</span><span class=\"p\">[</span><span class=\"nb\">float</span><span class=\"p\">])</span> <span class=\"o\">-&gt;</span> <span class=\"n\">Dict</span><span class=\"p\">[</span><span class=\"nb\">str</span><span class=\"p\">,</span> <span class=\"nb\">float</span><span class=\"p\">]:</span>\n",
       "<span class=\"w\">        </span><span class=\"sd\">&quot;&quot;&quot;</span>\n",
       "<span class=\"sd\">        Fit a linear model to the data.</span>\n",
       "\n",
       "<span class=\"sd\">        Parameters:</span>\n",
       "<span class=\"sd\">        data (np.ndarray): The data to fit.</span>\n",
       "<span class=\"sd\">        alpha_values (List[float]): List of alpha values.</span>\n",
       "\n",
       "<span class=\"sd\">        Returns:</span>\n",
       "<span class=\"sd\">        Dict[str, float]: Dictionary containing the slope and intercept of the fitted line.</span>\n",
       "<span class=\"sd\">        &quot;&quot;&quot;</span>\n",
       "        <span class=\"n\">slope</span><span class=\"p\">,</span> <span class=\"n\">intercept</span> <span class=\"o\">=</span> <span class=\"n\">np</span><span class=\"o\">.</span><span class=\"n\">polyfit</span><span class=\"p\">(</span><span class=\"n\">alpha_values</span><span class=\"p\">,</span> <span class=\"n\">data</span><span class=\"p\">,</span> <span class=\"mi\">1</span><span class=\"p\">)</span>\n",
       "        <span class=\"k\">return</span> <span class=\"p\">{</span><span class=\"s1\">&#39;Slope&#39;</span><span class=\"p\">:</span> <span class=\"n\">slope</span><span class=\"p\">,</span> <span class=\"s1\">&#39;Intercept&#39;</span><span class=\"p\">:</span> <span class=\"n\">intercept</span><span class=\"p\">}</span>\n",
       "\n",
       "    <span class=\"k\">def</span> <span class=\"nf\">data_analysis</span><span class=\"p\">(</span><span class=\"bp\">self</span><span class=\"p\">)</span> <span class=\"o\">-&gt;</span> <span class=\"kc\">None</span><span class=\"p\">:</span>\n",
       "<span class=\"w\">        </span><span class=\"sd\">&quot;&quot;&quot;</span>\n",
       "<span class=\"sd\">        Perform data analysis on the collected data.</span>\n",
       "<span class=\"sd\">        &quot;&quot;&quot;</span>\n",
       "        <span class=\"bp\">self</span><span class=\"o\">.</span><span class=\"n\">analysis_results_minus</span> <span class=\"o\">=</span> <span class=\"p\">{}</span>\n",
       "        <span class=\"bp\">self</span><span class=\"o\">.</span><span class=\"n\">analysis_results_plus</span> <span class=\"o\">=</span> <span class=\"p\">{}</span>\n",
       "\n",
       "        <span class=\"k\">for</span> <span class=\"n\">key</span> <span class=\"ow\">in</span> <span class=\"p\">[</span><span class=\"s1\">&#39;minus&#39;</span><span class=\"p\">,</span> <span class=\"s1\">&#39;plus&#39;</span><span class=\"p\">]:</span>\n",
       "            <span class=\"n\">data</span> <span class=\"o\">=</span> <span class=\"nb\">getattr</span><span class=\"p\">(</span><span class=\"bp\">self</span><span class=\"p\">,</span> <span class=\"sa\">f</span><span class=\"s1\">&#39;data_</span><span class=\"si\">{</span><span class=\"n\">key</span><span class=\"si\">}</span><span class=\"s1\">&#39;</span><span class=\"p\">)</span>\n",
       "            <span class=\"n\">alpha_values</span> <span class=\"o\">=</span> <span class=\"nb\">getattr</span><span class=\"p\">(</span><span class=\"bp\">self</span><span class=\"p\">,</span> <span class=\"s1\">&#39;alpha_values&#39;</span><span class=\"p\">)</span>\n",
       "\n",
       "            <span class=\"n\">result</span> <span class=\"o\">=</span> <span class=\"n\">fit_1d_freq</span><span class=\"p\">(</span><span class=\"n\">data</span><span class=\"p\">,</span> <span class=\"n\">alpha_values</span><span class=\"p\">)</span>\n",
       "            <span class=\"bp\">self</span><span class=\"o\">.</span><span class=\"n\">analysis_results_minus</span><span class=\"p\">[</span><span class=\"sa\">f</span><span class=\"s1\">&#39;Frequency_</span><span class=\"si\">{</span><span class=\"n\">key</span><span class=\"si\">}</span><span class=\"s1\">&#39;</span><span class=\"p\">]</span> <span class=\"o\">=</span> <span class=\"n\">result</span><span class=\"p\">[</span><span class=\"s1\">&#39;Frequency&#39;</span><span class=\"p\">]</span>\n",
       "            <span class=\"bp\">self</span><span class=\"o\">.</span><span class=\"n\">analysis_results_minus</span><span class=\"p\">[</span><span class=\"sa\">f</span><span class=\"s1\">&#39;Amplitude_</span><span class=\"si\">{</span><span class=\"n\">key</span><span class=\"si\">}</span><span class=\"s1\">&#39;</span><span class=\"p\">]</span> <span class=\"o\">=</span> <span class=\"n\">result</span><span class=\"p\">[</span><span class=\"s1\">&#39;Amplitude&#39;</span><span class=\"p\">]</span>\n",
       "            <span class=\"bp\">self</span><span class=\"o\">.</span><span class=\"n\">analysis_results_minus</span><span class=\"p\">[</span><span class=\"sa\">f</span><span class=\"s1\">&#39;Phase_</span><span class=\"si\">{</span><span class=\"n\">key</span><span class=\"si\">}</span><span class=\"s1\">&#39;</span><span class=\"p\">]</span> <span class=\"o\">=</span> <span class=\"n\">result</span><span class=\"p\">[</span><span class=\"s1\">&#39;Phase&#39;</span><span class=\"p\">]</span>\n",
       "            <span class=\"bp\">self</span><span class=\"o\">.</span><span class=\"n\">analysis_results_minus</span><span class=\"p\">[</span><span class=\"sa\">f</span><span class=\"s1\">&#39;Offset_</span><span class=\"si\">{</span><span class=\"n\">key</span><span class=\"si\">}</span><span class=\"s1\">&#39;</span><span class=\"p\">]</span> <span class=\"o\">=</span> <span class=\"n\">result</span><span class=\"p\">[</span><span class=\"s1\">&#39;Offset&#39;</span><span class=\"p\">]</span>\n",
       "            <span class=\"bp\">self</span><span class=\"o\">.</span><span class=\"n\">analysis_results_minus</span><span class=\"p\">[</span><span class=\"sa\">f</span><span class=\"s1\">&#39;Residual_</span><span class=\"si\">{</span><span class=\"n\">key</span><span class=\"si\">}</span><span class=\"s1\">&#39;</span><span class=\"p\">]</span> <span class=\"o\">=</span> <span class=\"n\">result</span><span class=\"p\">[</span><span class=\"s1\">&#39;Residual&#39;</span><span class=\"p\">]</span>\n",
       "\n",
       "    <span class=\"k\">def</span> <span class=\"nf\">data_visualization</span><span class=\"p\">(</span><span class=\"bp\">self</span><span class=\"p\">)</span> <span class=\"o\">-&gt;</span> <span class=\"n\">plt</span><span class=\"o\">.</span><span class=\"n\">Figure</span><span class=\"p\">:</span>\n",
       "<span class=\"w\">        </span><span class=\"sd\">&quot;&quot;&quot;</span>\n",
       "<span class=\"sd\">        Visualize the data from the experiment.</span>\n",
       "\n",
       "<span class=\"sd\">        Returns:</span>\n",
       "<span class=\"sd\">        plt.Figure: Matplotlib figure.</span>\n",
       "<span class=\"sd\">        &quot;&quot;&quot;</span>\n",
       "        <span class=\"bp\">self</span><span class=\"o\">.</span><span class=\"n\">data_analysis</span><span class=\"p\">()</span>\n",
       "\n",
       "        <span class=\"n\">plt</span><span class=\"o\">.</span><span class=\"n\">figure</span><span class=\"p\">(</span><span class=\"n\">figsize</span><span class=\"o\">=</span><span class=\"p\">(</span><span class=\"mi\">10</span><span class=\"p\">,</span> <span class=\"mi\">6</span><span class=\"p\">))</span>\n",
       "\n",
       "        <span class=\"n\">plt</span><span class=\"o\">.</span><span class=\"n\">scatter</span><span class=\"p\">(</span><span class=\"bp\">self</span><span class=\"o\">.</span><span class=\"n\">alpha_values</span><span class=\"p\">,</span> <span class=\"bp\">self</span><span class=\"o\">.</span><span class=\"n\">data_minus</span><span class=\"p\">,</span> <span class=\"n\">label</span><span class=\"o\">=</span><span class=\"s1\">&#39;Data Minus&#39;</span><span class=\"p\">,</span> <span class=\"n\">color</span><span class=\"o\">=</span><span class=\"s1\">&#39;b&#39;</span><span class=\"p\">)</span>\n",
       "        <span class=\"n\">plt</span><span class=\"o\">.</span><span class=\"n\">plot</span><span class=\"p\">(</span><span class=\"bp\">self</span><span class=\"o\">.</span><span class=\"n\">alpha_values</span><span class=\"p\">,</span> <span class=\"bp\">self</span><span class=\"o\">.</span><span class=\"n\">analysis_results_minus</span><span class=\"p\">[</span><span class=\"s1\">&#39;Frequency_minus&#39;</span><span class=\"p\">],</span> <span class=\"n\">label</span><span class=\"o\">=</span><span class=\"s1\">&#39;Fitted Line Minus&#39;</span><span class=\"p\">,</span> <span class=\"n\">color</span><span class=\"o\">=</span><span class=\"s1\">&#39;r&#39;</span><span class=\"p\">)</span>\n",
       "\n",
       "        <span class=\"n\">plt</span><span class=\"o\">.</span><span class=\"n\">scatter</span><span class=\"p\">(</span><span class=\"bp\">self</span><span class=\"o\">.</span><span class=\"n\">alpha_values</span><span class=\"p\">,</span> <span class=\"bp\">self</span><span class=\"o\">.</span><span class=\"n\">data_plus</span><span class=\"p\">,</span> <span class=\"n\">label</span><span class=\"o\">=</span><span class=\"s1\">&#39;Data Plus&#39;</span><span class=\"p\">,</span> <span class=\"n\">color</span><span class=\"o\">=</span><span class=\"s1\">&#39;g&#39;</span><span class=\"p\">)</span>\n",
       "        <span class=\"n\">plt</span><span class=\"o\">.</span><span class=\"n\">plot</span><span class=\"p\">(</span><span class=\"bp\">self</span><span class=\"o\">.</span><span class=\"n\">alpha_values</span><span class=\"p\">,</span> <span class=\"bp\">self</span><span class=\"o\">.</span><span class=\"n\">analysis_results_plus</span><span class=\"p\">[</span><span class=\"s1\">&#39;Frequency_plus&#39;</span><span class=\"p\">],</span> <span class=\"n\">label</span><span class=\"o\">=</span><span class=\"s1\">&#39;Fitted Line Plus&#39;</span><span class=\"p\">,</span> <span class=\"n\">color</span><span class=\"o\">=</span><span class=\"s1\">&#39;m&#39;</span><span class=\"p\">)</span>\n",
       "\n",
       "        <span class=\"n\">plt</span><span class=\"o\">.</span><span class=\"n\">xlabel</span><span class=\"p\">(</span><span class=\"s1\">&#39;Alpha Values&#39;</span><span class=\"p\">)</span>\n",
       "        <span class=\"n\">plt</span><span class=\"o\">.</span><span class=\"n\">ylabel</span><span class=\"p\">(</span><span class=\"s1\">&#39;Data / Fitted Frequency&#39;</span><span class=\"p\">)</span>\n",
       "        <span class=\"n\">plt</span><span class=\"o\">.</span><span class=\"n\">title</span><span class=\"p\">(</span><span class=\"s1\">&#39;DRAG Calibration Experiment Data Visualization&#39;</span><span class=\"p\">)</span>\n",
       "        <span class=\"n\">plt</span><span class=\"o\">.</span><span class=\"n\">legend</span><span class=\"p\">()</span>\n",
       "\n",
       "        <span class=\"k\">return</span> <span class=\"n\">plt</span>\n",
       "</pre></div>\n",
       "\n",
       "        </div>\n",
       "\n",
       "    </p>\n",
       "    "
      ],
      "text/plain": [
       "<IPython.core.display.HTML object>"
      ]
     },
     "metadata": {},
     "output_type": "display_data"
    }
   ],
   "source": [
    "code = generate_experiment(description_drag)"
   ]
  },
  {
   "cell_type": "raw",
   "id": "49b21458-d5e9-4d55-a7ee-3123e449613c",
   "metadata": {},
   "source": [
    "1. Pulse correctness:\n",
    "2. Data analysis:\n",
    "3. Data visualization:\n",
    "4. Decorations and imports:"
   ]
  },
  {
   "cell_type": "markdown",
   "id": "45543d9b-a062-4657-ad7e-061d50f7b013",
   "metadata": {},
   "source": [
    "# PingPong"
   ]
  },
  {
   "cell_type": "code",
   "execution_count": 7,
   "id": "922b0301-e104-46cb-b7d0-b1da1bcfd40f",
   "metadata": {},
   "outputs": [
    {
     "data": {
      "application/vnd.jupyter.widget-view+json": {
       "model_id": "cbb020c095064797a09c35c9dc3ae9b2",
       "version_major": 2,
       "version_minor": 0
      },
      "text/plain": [
       "Experiment Generation Progress:   0%|          | 0/5 [00:00<?, ?it/s]"
      ]
     },
     "metadata": {},
     "output_type": "display_data"
    },
    {
     "data": {
      "text/html": [
       "\n",
       "    <p style=\"background-color: #F8F8FF; padding: 20px; border-radius: 8px; color: #333;\">\n",
       "        <strong>Experiment generation agent:</strong> \n",
       "        <div style=\"background: #f8f8f8; padding: 10px; border-radius: 5px; overflow: auto; margin-top: 8px;\">\n",
       "            <div class=\"highlight\"><pre><span></span><span class=\"kn\">from</span> <span class=\"nn\">typing</span> <span class=\"kn\">import</span> <span class=\"n\">Any</span><span class=\"p\">,</span> <span class=\"n\">Optional</span><span class=\"p\">,</span> <span class=\"n\">Dict</span>\n",
       "<span class=\"kn\">import</span> <span class=\"nn\">numpy</span> <span class=\"k\">as</span> <span class=\"nn\">np</span>\n",
       "<span class=\"kn\">import</span> <span class=\"nn\">matplotlib.pyplot</span> <span class=\"k\">as</span> <span class=\"nn\">plt</span>\n",
       "<span class=\"kn\">from</span> <span class=\"nn\">leeq</span> <span class=\"kn\">import</span> <span class=\"n\">Experiment</span><span class=\"p\">,</span> <span class=\"n\">log_and_record</span><span class=\"p\">,</span> <span class=\"n\">register_browser_function</span><span class=\"p\">,</span> <span class=\"n\">SweepParametersSideEffectFactory</span><span class=\"p\">,</span> <span class=\"n\">Sweeper</span><span class=\"p\">,</span> <span class=\"n\">basic_run</span>\n",
       "<span class=\"kn\">from</span> <span class=\"nn\">leeq.core.primitives.logical_primitives</span> <span class=\"kn\">import</span> <span class=\"n\">LogicalPrimitiveBlock</span>\n",
       "<span class=\"kn\">from</span> <span class=\"nn\">leeq.utils.compatibility</span> <span class=\"kn\">import</span> <span class=\"n\">prims</span>\n",
       "<span class=\"kn\">from</span> <span class=\"nn\">leeq.theory.fits</span> <span class=\"kn\">import</span> <span class=\"n\">fit_1d_freq</span>\n",
       "\n",
       "<span class=\"k\">class</span> <span class=\"nc\">SuperpositionPulseExperiment</span><span class=\"p\">(</span><span class=\"n\">Experiment</span><span class=\"p\">):</span>\n",
       "    <span class=\"nd\">@log_and_record</span>\n",
       "    <span class=\"k\">def</span> <span class=\"nf\">run</span><span class=\"p\">(</span><span class=\"bp\">self</span><span class=\"p\">,</span>\n",
       "            <span class=\"n\">dut_qubit</span><span class=\"p\">:</span> <span class=\"n\">Any</span><span class=\"p\">,</span>\n",
       "            <span class=\"n\">amp</span><span class=\"p\">:</span> <span class=\"nb\">float</span> <span class=\"o\">=</span> <span class=\"mf\">0.05</span><span class=\"p\">,</span>\n",
       "            <span class=\"n\">start</span><span class=\"p\">:</span> <span class=\"nb\">float</span> <span class=\"o\">=</span> <span class=\"mf\">0.01</span><span class=\"p\">,</span>\n",
       "            <span class=\"n\">stop</span><span class=\"p\">:</span> <span class=\"nb\">float</span> <span class=\"o\">=</span> <span class=\"mf\">0.3</span><span class=\"p\">,</span>\n",
       "            <span class=\"n\">step</span><span class=\"p\">:</span> <span class=\"nb\">float</span> <span class=\"o\">=</span> <span class=\"mf\">0.002</span><span class=\"p\">,</span>\n",
       "            <span class=\"n\">fit</span><span class=\"p\">:</span> <span class=\"nb\">bool</span> <span class=\"o\">=</span> <span class=\"kc\">True</span><span class=\"p\">,</span>\n",
       "            <span class=\"n\">collection_name</span><span class=\"p\">:</span> <span class=\"nb\">str</span> <span class=\"o\">=</span> <span class=\"s1\">&#39;f01&#39;</span><span class=\"p\">,</span>\n",
       "            <span class=\"n\">mprim_index</span><span class=\"p\">:</span> <span class=\"nb\">int</span> <span class=\"o\">=</span> <span class=\"mi\">0</span><span class=\"p\">,</span>\n",
       "            <span class=\"n\">pulse_discretization</span><span class=\"p\">:</span> <span class=\"nb\">bool</span> <span class=\"o\">=</span> <span class=\"kc\">True</span><span class=\"p\">,</span>\n",
       "            <span class=\"n\">update</span><span class=\"p\">:</span> <span class=\"nb\">bool</span> <span class=\"o\">=</span> <span class=\"kc\">True</span><span class=\"p\">,</span>\n",
       "            <span class=\"n\">initial_lpb</span><span class=\"p\">:</span> <span class=\"n\">Optional</span><span class=\"p\">[</span><span class=\"n\">Any</span><span class=\"p\">]</span> <span class=\"o\">=</span> <span class=\"kc\">None</span><span class=\"p\">)</span> <span class=\"o\">-&gt;</span> <span class=\"n\">Optional</span><span class=\"p\">[</span><span class=\"n\">Dict</span><span class=\"p\">[</span><span class=\"nb\">str</span><span class=\"p\">,</span> <span class=\"n\">Any</span><span class=\"p\">]]:</span>\n",
       "<span class=\"w\">        </span><span class=\"sd\">&quot;&quot;&quot;</span>\n",
       "<span class=\"sd\">        Run a superposition pulse experiment on a given qubit and analyze the results.</span>\n",
       "\n",
       "<span class=\"sd\">        Parameters:</span>\n",
       "<span class=\"sd\">        dut_qubit (Any): Device under test (DUT) qubit object.</span>\n",
       "<span class=\"sd\">        amp (float): Amplitude of the Rabi pulse. Default is 0.05.</span>\n",
       "<span class=\"sd\">        start (float): Start width for the pulse width sweep. Default is 0.01.</span>\n",
       "<span class=\"sd\">        stop (float): Stop width for the pulse width sweep. Default is 0.15.</span>\n",
       "<span class=\"sd\">        step (float): Step width for the pulse width sweep. Default is 0.001.</span>\n",
       "<span class=\"sd\">        fit (bool): Whether to fit the resulting data to a sinusoidal function. Default is True.</span>\n",
       "<span class=\"sd\">        collection_name (str): Collection name for retrieving c1. Default is &#39;f01&#39;.</span>\n",
       "<span class=\"sd\">        mprim_index (int): Index for retrieving measurement primitive. Default is 0.</span>\n",
       "<span class=\"sd\">        pulse_discretization (bool): Whether to discretize the pulse. Default is False.</span>\n",
       "<span class=\"sd\">        update (bool): Whether to update the qubit parameters If you are tuning up the qubit set it to True. Default is False.</span>\n",
       "<span class=\"sd\">        initial_lpb (Any): Initial lpb to add to the created lpb. Default is None.</span>\n",
       "\n",
       "<span class=\"sd\">        Returns:</span>\n",
       "<span class=\"sd\">        Dict[str, Any]: Fitted parameters if fit is True, None otherwise.</span>\n",
       "<span class=\"sd\">        &quot;&quot;&quot;</span>\n",
       "        <span class=\"c1\"># Code for running the experiment</span>\n",
       "\n",
       "    <span class=\"k\">def</span> <span class=\"nf\">fit_linear_regression</span><span class=\"p\">(</span><span class=\"bp\">self</span><span class=\"p\">,</span> <span class=\"n\">data</span><span class=\"p\">:</span> <span class=\"n\">np</span><span class=\"o\">.</span><span class=\"n\">ndarray</span><span class=\"p\">,</span> <span class=\"n\">step</span><span class=\"p\">:</span> <span class=\"nb\">float</span><span class=\"p\">)</span> <span class=\"o\">-&gt;</span> <span class=\"n\">Dict</span><span class=\"p\">[</span><span class=\"nb\">str</span><span class=\"p\">,</span> <span class=\"nb\">float</span><span class=\"p\">]:</span>\n",
       "<span class=\"w\">        </span><span class=\"sd\">&quot;&quot;&quot;</span>\n",
       "<span class=\"sd\">        Perform linear regression fitting on the data.</span>\n",
       "\n",
       "<span class=\"sd\">        Parameters:</span>\n",
       "<span class=\"sd\">        data (np.ndarray): The 1D data array to fit.</span>\n",
       "<span class=\"sd\">        step (float): The time interval between data points.</span>\n",
       "\n",
       "<span class=\"sd\">        Returns:</span>\n",
       "<span class=\"sd\">        Dict[str, float]: A dictionary containing the optimized parameters and the residual of the fit.</span>\n",
       "<span class=\"sd\">        &quot;&quot;&quot;</span>\n",
       "        <span class=\"n\">fit_params</span> <span class=\"o\">=</span> <span class=\"n\">fit_1d_freq</span><span class=\"p\">(</span><span class=\"n\">data</span><span class=\"p\">,</span> <span class=\"n\">step</span><span class=\"o\">=</span><span class=\"n\">step</span><span class=\"p\">)</span>\n",
       "        <span class=\"k\">return</span> <span class=\"n\">fit_params</span>\n",
       "\n",
       "    <span class=\"k\">def</span> <span class=\"nf\">data_analysis</span><span class=\"p\">(</span><span class=\"bp\">self</span><span class=\"p\">):</span>\n",
       "<span class=\"w\">        </span><span class=\"sd\">&quot;&quot;&quot;</span>\n",
       "<span class=\"sd\">        Perform data analysis on the experiment results.</span>\n",
       "<span class=\"sd\">        &quot;&quot;&quot;</span>\n",
       "        <span class=\"k\">if</span> <span class=\"bp\">self</span><span class=\"o\">.</span><span class=\"n\">data</span> <span class=\"ow\">is</span> <span class=\"kc\">None</span><span class=\"p\">:</span>\n",
       "            <span class=\"nb\">print</span><span class=\"p\">(</span><span class=\"s2\">&quot;No data available for analysis.&quot;</span><span class=\"p\">)</span>\n",
       "            <span class=\"k\">return</span>\n",
       "\n",
       "        <span class=\"n\">num_pulses</span> <span class=\"o\">=</span> <span class=\"n\">np</span><span class=\"o\">.</span><span class=\"n\">arange</span><span class=\"p\">(</span><span class=\"nb\">len</span><span class=\"p\">(</span><span class=\"bp\">self</span><span class=\"o\">.</span><span class=\"n\">data</span><span class=\"p\">))</span>\n",
       "\n",
       "        <span class=\"n\">fit_params</span> <span class=\"o\">=</span> <span class=\"bp\">self</span><span class=\"o\">.</span><span class=\"n\">fit_linear_regression</span><span class=\"p\">(</span><span class=\"bp\">self</span><span class=\"o\">.</span><span class=\"n\">data</span><span class=\"p\">,</span> <span class=\"n\">step</span><span class=\"o\">=</span><span class=\"mi\">1</span><span class=\"p\">)</span>\n",
       "\n",
       "        <span class=\"bp\">self</span><span class=\"o\">.</span><span class=\"n\">fit_params</span> <span class=\"o\">=</span> <span class=\"n\">fit_params</span>\n",
       "\n",
       "        <span class=\"nb\">print</span><span class=\"p\">(</span><span class=\"s2\">&quot;Data analysis completed.&quot;</span><span class=\"p\">)</span>\n",
       "\n",
       "    <span class=\"k\">def</span> <span class=\"nf\">data_visualization</span><span class=\"p\">(</span><span class=\"bp\">self</span><span class=\"p\">):</span>\n",
       "<span class=\"w\">        </span><span class=\"sd\">&quot;&quot;&quot;</span>\n",
       "<span class=\"sd\">        Visualize the experiment results.</span>\n",
       "<span class=\"sd\">        &quot;&quot;&quot;</span>\n",
       "        <span class=\"k\">if</span> <span class=\"ow\">not</span> <span class=\"nb\">hasattr</span><span class=\"p\">(</span><span class=\"bp\">self</span><span class=\"p\">,</span> <span class=\"s1\">&#39;fit_params&#39;</span><span class=\"p\">):</span>\n",
       "            <span class=\"bp\">self</span><span class=\"o\">.</span><span class=\"n\">data_analysis</span><span class=\"p\">()</span>\n",
       "\n",
       "        <span class=\"n\">plt</span><span class=\"o\">.</span><span class=\"n\">figure</span><span class=\"p\">(</span><span class=\"n\">figsize</span><span class=\"o\">=</span><span class=\"p\">(</span><span class=\"mi\">8</span><span class=\"p\">,</span> <span class=\"mi\">6</span><span class=\"p\">))</span>\n",
       "        <span class=\"n\">plt</span><span class=\"o\">.</span><span class=\"n\">scatter</span><span class=\"p\">(</span><span class=\"n\">np</span><span class=\"o\">.</span><span class=\"n\">arange</span><span class=\"p\">(</span><span class=\"nb\">len</span><span class=\"p\">(</span><span class=\"bp\">self</span><span class=\"o\">.</span><span class=\"n\">data</span><span class=\"p\">)),</span> <span class=\"bp\">self</span><span class=\"o\">.</span><span class=\"n\">data</span><span class=\"p\">,</span> <span class=\"n\">label</span><span class=\"o\">=</span><span class=\"s1\">&#39;Measured Data&#39;</span><span class=\"p\">)</span>\n",
       "        <span class=\"n\">plt</span><span class=\"o\">.</span><span class=\"n\">plot</span><span class=\"p\">(</span><span class=\"n\">np</span><span class=\"o\">.</span><span class=\"n\">arange</span><span class=\"p\">(</span><span class=\"nb\">len</span><span class=\"p\">(</span><span class=\"bp\">self</span><span class=\"o\">.</span><span class=\"n\">data</span><span class=\"p\">)),</span> <span class=\"bp\">self</span><span class=\"o\">.</span><span class=\"n\">fit_params</span><span class=\"p\">[</span><span class=\"mi\">0</span><span class=\"p\">]</span> <span class=\"o\">*</span> <span class=\"n\">np</span><span class=\"o\">.</span><span class=\"n\">arange</span><span class=\"p\">(</span><span class=\"nb\">len</span><span class=\"p\">(</span><span class=\"bp\">self</span><span class=\"o\">.</span><span class=\"n\">data</span><span class=\"p\">))</span> <span class=\"o\">+</span> <span class=\"bp\">self</span><span class=\"o\">.</span><span class=\"n\">fit_params</span><span class=\"p\">[</span><span class=\"mi\">1</span><span class=\"p\">],</span> <span class=\"n\">color</span><span class=\"o\">=</span><span class=\"s1\">&#39;red&#39;</span><span class=\"p\">,</span> <span class=\"n\">label</span><span class=\"o\">=</span><span class=\"s1\">&#39;Fitted Line&#39;</span><span class=\"p\">)</span>\n",
       "        <span class=\"n\">plt</span><span class=\"o\">.</span><span class=\"n\">xlabel</span><span class=\"p\">(</span><span class=\"s1\">&#39;Number of π Pulses&#39;</span><span class=\"p\">)</span>\n",
       "        <span class=\"n\">plt</span><span class=\"o\">.</span><span class=\"n\">ylabel</span><span class=\"p\">(</span><span class=\"s1\">&#39;Qubit State&#39;</span><span class=\"p\">)</span>\n",
       "        <span class=\"n\">plt</span><span class=\"o\">.</span><span class=\"n\">title</span><span class=\"p\">(</span><span class=\"s1\">&#39;Superposition Pulse Experiment Results&#39;</span><span class=\"p\">)</span>\n",
       "        <span class=\"n\">plt</span><span class=\"o\">.</span><span class=\"n\">legend</span><span class=\"p\">()</span>\n",
       "\n",
       "        <span class=\"k\">return</span> <span class=\"n\">plt</span><span class=\"o\">.</span><span class=\"n\">figure</span><span class=\"p\">()</span>\n",
       "</pre></div>\n",
       "\n",
       "        </div>\n",
       "\n",
       "    </p>\n",
       "    "
      ],
      "text/plain": [
       "<IPython.core.display.HTML object>"
      ]
     },
     "metadata": {},
     "output_type": "display_data"
    }
   ],
   "source": [
    "code = generate_experiment(description_pingpong)"
   ]
  },
  {
   "cell_type": "raw",
   "id": "55a775bf-033b-4b30-ac2e-863b14fdd6d1",
   "metadata": {},
   "source": [
    "1. Pulse correctness:\n",
    "2. Data analysis:\n",
    "3. Data visualization:\n",
    "4. Decorations and imports:"
   ]
  }
 ],
 "metadata": {
  "kernelspec": {
   "display_name": "Python 3 (ipykernel)",
   "language": "python",
   "name": "python3"
  },
  "language_info": {
   "codemirror_mode": {
    "name": "ipython",
    "version": 3
   },
   "file_extension": ".py",
   "mimetype": "text/x-python",
   "name": "python",
   "nbconvert_exporter": "python",
   "pygments_lexer": "ipython3",
   "version": "3.11.2"
  }
 },
 "nbformat": 4,
 "nbformat_minor": 5
}
