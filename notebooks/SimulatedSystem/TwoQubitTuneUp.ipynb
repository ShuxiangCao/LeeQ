{
 "cells": [
  {
   "cell_type": "code",
   "id": "initial_id",
   "metadata": {
    "collapsed": true,
    "ExecuteTime": {
     "end_time": "2024-09-25T05:55:50.404413Z",
     "start_time": "2024-09-25T05:55:48.659548Z"
    }
   },
   "source": [
    "from leeq.core.elements.built_in.qudit_transmon import TransmonElement\n",
    "from leeq.setups.built_in.setup_simulation_high_level import HighLevelSimulationSetup\n",
    "import numpy as np\n",
    "from leeq.theory.simulation.numpy.rotated_frame_simulator import VirtualTransmon\n",
    "from leeq import ExperimentManager\n",
    "from labchronicle import Chronicle\n",
    "Chronicle().start_log()\n",
    "manager = ExperimentManager()\n",
    "manager.clear_setups()\n",
    "\n",
    "virtual_transmon_1 = VirtualTransmon(\n",
    "    name=\"VQubit_1\",\n",
    "    qubit_frequency=5040.4,\n",
    "    anharmonicity=-198,\n",
    "    t1=70,\n",
    "    t2=35,\n",
    "    readout_frequency=9645.5,\n",
    "    quiescent_state_distribution=np.asarray(\n",
    "        [\n",
    "            0.8,\n",
    "            0.15,\n",
    "            0.04,\n",
    "            0.01]))\n",
    "\n",
    "virtual_transmon_2 = VirtualTransmon(\n",
    "    name=\"VQubit_2\",\n",
    "    qubit_frequency=5040. - 123,\n",
    "    anharmonicity=-197,\n",
    "    t1=70,\n",
    "    t2=35,\n",
    "    readout_frequency=9645.5 + 100,\n",
    "    quiescent_state_distribution=np.asarray(\n",
    "        [\n",
    "            0.8,\n",
    "            0.15,\n",
    "            0.04,\n",
    "            0.01]))\n",
    "\n",
    "setup = HighLevelSimulationSetup(\n",
    "    name='HighLevelSimulationSetup',\n",
    "    virtual_qubits={2: virtual_transmon_1,\n",
    "                    4: virtual_transmon_2\n",
    "                    }\n",
    ")\n",
    "setup.set_coupling_strength_by_qubit(\n",
    "    virtual_transmon_1, virtual_transmon_2, coupling_strength=1.5)\n",
    "\n",
    "manager.register_setup(setup)\n",
    "\n",
    "configuration_q1 = {\n",
    "    'lpb_collections': {\n",
    "        'f01': {\n",
    "            'type': 'SimpleDriveCollection',\n",
    "            'freq': 5040.4,\n",
    "            'channel': 2,\n",
    "            'shape': 'blackman_drag',\n",
    "            'amp': 0.21323904814245054 / 5 * 4,\n",
    "            'phase': 0.,\n",
    "            'width': 0.025,\n",
    "            'alpha': 425.1365229849309,\n",
    "            'trunc': 1.2\n",
    "        },\n",
    "        'f12': {\n",
    "            'type': 'SimpleDriveCollection',\n",
    "            'freq': 5040.4 - 198,\n",
    "            'channel': 2,\n",
    "            'shape': 'blackman_drag',\n",
    "            'amp': 0.21323904814245054 / 5 * 4,\n",
    "            'phase': 0.,\n",
    "            'width': 0.025,\n",
    "            'alpha': 425.1365229849309,\n",
    "            'trunc': 1.2\n",
    "        }\n",
    "    },\n",
    "    'measurement_primitives': {\n",
    "        '0': {\n",
    "            'type': 'SimpleDispersiveMeasurement',\n",
    "            'freq': 9645.5,\n",
    "            'channel': 1,\n",
    "            'shape': 'square',\n",
    "            'amp': 0.21323904814245054 / 5 * 4,\n",
    "            'phase': 0.,\n",
    "            'width': 1,\n",
    "            'trunc': 1.2,\n",
    "            'distinguishable_states': [0, 1]\n",
    "        },\n",
    "        '1': {\n",
    "            'type': 'SimpleDispersiveMeasurement',\n",
    "            'freq': 9144.41,\n",
    "            'channel': 1,\n",
    "            'shape': 'square',\n",
    "            'amp': 0.21323904814245054 / 5 * 4,\n",
    "            'phase': 0.,\n",
    "            'width': 1,\n",
    "            'trunc': 1.2,\n",
    "            'distinguishable_states': [0, 1, 2]\n",
    "        }\n",
    "    }\n",
    "}\n",
    "\n",
    "configuration_q2 = {\n",
    "    'lpb_collections': {\n",
    "        'f01': {\n",
    "            'type': 'SimpleDriveCollection',\n",
    "            'freq': 5040. - 123,\n",
    "            'channel': 4,\n",
    "            'shape': 'blackman_drag',\n",
    "            'amp': 0.21323904814245054 / 5 * 4,\n",
    "            'phase': 0.,\n",
    "            'width': 0.025,\n",
    "            'alpha': 425.1365229849309,\n",
    "            'trunc': 1.2\n",
    "        },\n",
    "        'f12': {\n",
    "            'type': 'SimpleDriveCollection',\n",
    "            'freq': 5040.4 - 198 - 123,\n",
    "            'channel': 4,\n",
    "            'shape': 'blackman_drag',\n",
    "            'amp': 0.21323904814245054 / 5 * 4,\n",
    "            'phase': 0.,\n",
    "            'width': 0.025,\n",
    "            'alpha': 425.1365229849309,\n",
    "            'trunc': 1.2\n",
    "        }\n",
    "    },\n",
    "    'measurement_primitives': {\n",
    "        '0': {\n",
    "            'type': 'SimpleDispersiveMeasurement',\n",
    "            'freq': 9645.5 + 100,\n",
    "            'channel': 3,\n",
    "            'shape': 'square',\n",
    "            'amp': 0.21323904814245054 / 5 * 4,\n",
    "            'phase': 0.,\n",
    "            'width': 1,\n",
    "            'trunc': 1.2,\n",
    "            'distinguishable_states': [0, 1]\n",
    "        },\n",
    "        '1': {\n",
    "            'type': 'SimpleDispersiveMeasurement',\n",
    "            'freq': 9645.5 + 100,\n",
    "            'channel': 3,\n",
    "            'shape': 'square',\n",
    "            'amp': 0.21323904814245054 / 5 * 4,\n",
    "            'phase': 0.,\n",
    "            'width': 1,\n",
    "            'trunc': 1.2,\n",
    "            'distinguishable_states': [0, 1, 2]\n",
    "        }\n",
    "    }\n",
    "}\n",
    "\n",
    "qubit_1 = TransmonElement(\n",
    "        name='test_qubit_1',\n",
    "        parameters=configuration_q1\n",
    "    )\n",
    "\n",
    "qubit_2 = TransmonElement(\n",
    "        name='test_qubit_2',\n",
    "        parameters=configuration_q2\n",
    "    )"
   ],
   "outputs": [
    {
     "name": "stderr",
     "output_type": "stream",
     "text": [
      "[2024-09-25 01:55:50] [INFO] [labchronicle.chronicle] Log started at log/zijian/2024-09/2024-09-25/01.55.50\n",
      "[2024-09-25 01:55:50] [INFO] [labchronicle.chronicle] Log started at log/zijian/2024-09/2024-09-25/01.55.50\n"
     ]
    }
   ],
   "execution_count": 1
  },
  {
   "metadata": {
    "jupyter": {
     "is_executing": true
    },
    "ExecuteTime": {
     "start_time": "2024-09-25T05:55:50.405357Z"
    }
   },
   "cell_type": "code",
   "source": [
    "import os\n",
    "from k_agents.execution.agent import AutoRun\n",
    "from k_agents.translation.env import TranslationAgentEnv\n",
    "from leeq.utils.ai.translation_agent import init_leeq_translation_agent\n",
    "from leeq.experiments import experiments as exp\n",
    "root = os.path.dirname(exp.__file__)\n",
    "init_leeq_translation_agent(root + \"/procedures_test\")\n",
    "env = TranslationAgentEnv()\n",
    "ExperimentManager().status().set_param(\"Plot_Result_In_Jupyter\", False)\n",
    "duts = [qubit_1, qubit_2]\n",
    "frequency1 = duts[0].get_c1('f01').get_parameters()[\"freq\"]\n",
    "\n",
    "#AutoRun(\"\"\"\n",
    "#- Run a Two-qubit calibration on `duts`\n",
    "#\"\"\", frequency=frequency1, duts=duts)\n",
    "AutoRun(\n",
    "    \"Iterative Two-qubit Amplitude test at `frequency` on `duts`\",\n",
    "    frequency=frequency1, duts=duts\n",
    ")"
   ],
   "id": "fed6c78a29e55398",
   "outputs": [
    {
     "data": {
      "text/plain": [
       "Adding experiment to memory:   0%|          | 0/15 [00:00<?, ?it/s]"
      ],
      "application/vnd.jupyter.widget-view+json": {
       "version_major": 2,
       "version_minor": 0,
       "model_id": "94302f7580254ef5ae9a19e1efd7b8da"
      }
     },
     "metadata": {},
     "output_type": "display_data"
    },
    {
     "data": {
      "text/plain": [
       "generate_idea_from_procedure:   0%|          | 0/2 [00:00<?, ?it/s]"
      ],
      "application/vnd.jupyter.widget-view+json": {
       "version_major": 2,
       "version_minor": 0,
       "model_id": "f86d96d16e0e4b9f99f94cd47eca60df"
      }
     },
     "metadata": {},
     "output_type": "display_data"
    },
    {
     "data": {
      "text/plain": [
       "<IPython.core.display.HTML object>"
      ],
      "text/html": [
       "\n",
       "    <div id=\"58d42236-dde6-4917-ad4e-7f5247a6f375\" style=\"font-size:16px;\">\n",
       "        <i class=\"fa fa-spinner fa-spin\"></i> AI is designing the experiment...\n",
       "    </div>\n",
       "    "
      ]
     },
     "metadata": {},
     "output_type": "display_data"
    },
    {
     "name": "stderr",
     "output_type": "stream",
     "text": [
      "/Users/zijian/PycharmProjects/LeeQ/venv/lib/python3.10/site-packages/pydantic/main.py:390: UserWarning:\n",
      "\n",
      "Pydantic serializer warnings:\n",
      "  Expected `CompletionTokensDetails` but got `dict` with value `{'reasoning_tokens': 0}` - serialized value may not be as expected\n",
      "\n"
     ]
    },
    {
     "data": {
      "text/plain": [
       "_get_stage_from_agent_response:   0%|          | 0/2 [00:00<?, ?it/s]"
      ],
      "application/vnd.jupyter.widget-view+json": {
       "version_major": 2,
       "version_minor": 0,
       "model_id": "90c21beb1f2c471cadedd32862473df4"
      }
     },
     "metadata": {},
     "output_type": "display_data"
    },
    {
     "data": {
      "text/plain": [
       "<IPython.core.display.Javascript object>"
      ],
      "application/javascript": "\n    var spinnerElement = document.getElementById('58d42236-dde6-4917-ad4e-7f5247a6f375');\n    if (spinnerElement) {\n        spinnerElement.remove();  // Remove the spinner element from the DOM\n    } else {\n        // Retry removing the spinner after a short delay if not immediately found\n        window.setTimeout(() => {\n            var spinnerElement = document.getElementById('58d42236-dde6-4917-ad4e-7f5247a6f375');\n            if (spinnerElement) {\n                spinnerElement.remove();\n            }\n        }, 100);\n    }\n    "
     },
     "metadata": {},
     "output_type": "display_data"
    },
    {
     "data": {
      "text/plain": [
       "<IPython.core.display.HTML object>"
      ],
      "text/html": [
       "\n",
       "    <p style=\"background-color: #F0F8FF; padding: 20px; border-radius: 8px; color: #333;\">\n",
       "        <strong>Execution Agent:</strong> The planned experiments are:<br><div style=\"font-family: Arial, sans-serif;\">\n",
       "            <div style=\"margin-bottom: 20px; padding: 10px; border: 1px solid #ccc; border-radius: 8px;\">\n",
       "                <h3>Iterative Two-qubit Amplitude Test</h3>\n",
       "                <p><strong>Description:</strong> Conduct the Iterative Two-qubit Amplitude test with parameters frequency on duts.</p>\n",
       "                <p><strong>Next Steps:</strong> Proceed to Complete if successful. If the test results suggest parameter adjustments, refine the parameters and retry Stage1.</p>\n",
       "            </div>\n",
       "        </div>\n",
       "    </p>\n",
       "    "
      ]
     },
     "metadata": {},
     "output_type": "display_data"
    },
    {
     "data": {
      "text/plain": [
       "<IPython.core.display.HTML object>"
      ],
      "text/html": [
       "\n",
       "    <div id=\"91d4f57d-27fd-4592-a8a7-a4dc28ce7fb4\" style=\"font-size:16px;\">\n",
       "        <i class=\"fa fa-spinner fa-spin\"></i> Executing Stage1: Iterative Two-qubit Amplitude Test...\n",
       "    </div>\n",
       "    "
      ]
     },
     "metadata": {},
     "output_type": "display_data"
    },
    {
     "data": {
      "text/plain": [
       "<IPython.core.display.HTML object>"
      ],
      "text/html": [
       "<div style=\"font-family: Arial, sans-serif;\">\n",
       "            <div style=\"margin-bottom: 20px; padding: 10px; border: 1px solid #ccc; border-radius: 8px;\">\n",
       "                <h3>Iterative Two-qubit Amplitude Test</h3>\n",
       "                <p><strong>Description:</strong> Conduct the Iterative Two-qubit Amplitude test with parameters frequency on duts.</p>\n",
       "                <p><strong>Next Steps:</strong> Proceed to Complete if successful. If the test results suggest parameter adjustments, refine the parameters and retry Stage1.</p>\n",
       "            </div>\n",
       "        </div>"
      ]
     },
     "metadata": {},
     "output_type": "display_data"
    },
    {
     "data": {
      "text/plain": [
       "Recalling:   0%|          | 0/5 [00:00<?, ?it/s]"
      ],
      "application/vnd.jupyter.widget-view+json": {
       "version_major": 2,
       "version_minor": 0,
       "model_id": "6c7d17708fdb4d459da879a340d20138"
      }
     },
     "metadata": {},
     "output_type": "display_data"
    },
    {
     "data": {
      "text/plain": [
       "<IPython.core.display.Javascript object>"
      ],
      "application/javascript": "\n    var spinnerElement = document.getElementById('91d4f57d-27fd-4592-a8a7-a4dc28ce7fb4');\n    if (spinnerElement) {\n        spinnerElement.remove();  // Remove the spinner element from the DOM\n    } else {\n        // Retry removing the spinner after a short delay if not immediately found\n        window.setTimeout(() => {\n            var spinnerElement = document.getElementById('91d4f57d-27fd-4592-a8a7-a4dc28ce7fb4');\n            if (spinnerElement) {\n                spinnerElement.remove();\n            }\n        }, 100);\n    }\n    "
     },
     "metadata": {},
     "output_type": "display_data"
    },
    {
     "data": {
      "text/plain": [
       "<IPython.core.display.HTML object>"
      ],
      "text/html": [
       "\n",
       "    <p style=\"background-color: #F8F8FF; padding: 20px; border-radius: 8px; color: #333;\">\n",
       "        <strong>Execution agent (generating code):</strong> Here is the generated code:<br>\n",
       "        <div style=\"background: #f8f8f8; padding: 10px; border-radius: 5px; overflow: auto; margin-top: 8px;\">\n",
       "            <div class=\"highlight\"><pre><span></span><span class=\"n\">experiment_instance</span> <span class=\"o\">=</span> <span class=\"n\">AutoExperiment_2</span><span class=\"p\">(</span><span class=\"n\">instruction</span><span class=\"o\">=</span><span class=\"s2\">&quot;&quot;&quot;Iterative Two-qubit Amplitude test at frequency on duts&quot;&quot;&quot;</span> <span class=\"p\">,</span> <span class=\"n\">frequency</span><span class=\"o\">=</span><span class=\"n\">frequency</span><span class=\"p\">,</span> <span class=\"n\">duts</span><span class=\"o\">=</span><span class=\"n\">duts</span><span class=\"p\">)</span>  \n",
       "</pre></div>\n",
       "\n",
       "        </div>\n",
       "\n",
       "    </p>\n",
       "    "
      ]
     },
     "metadata": {},
     "output_type": "display_data"
    },
    {
     "data": {
      "text/plain": [
       "<IPython.core.display.HTML object>"
      ],
      "text/html": [
       "\n",
       "    <div id=\"a2b85b25-e392-4f01-84ff-1a7cdea69d10\" style=\"font-size:16px;\">\n",
       "        <i class=\"fa fa-spinner fa-spin\"></i> Decomposing instructions...\n",
       "    </div>\n",
       "    "
      ]
     },
     "metadata": {},
     "output_type": "display_data"
    },
    {
     "data": {
      "text/plain": [
       "<IPython.core.display.Javascript object>"
      ],
      "application/javascript": "\n    var spinnerElement = document.getElementById('a2b85b25-e392-4f01-84ff-1a7cdea69d10');\n    if (spinnerElement) {\n        spinnerElement.remove();  // Remove the spinner element from the DOM\n    } else {\n        // Retry removing the spinner after a short delay if not immediately found\n        window.setTimeout(() => {\n            var spinnerElement = document.getElementById('a2b85b25-e392-4f01-84ff-1a7cdea69d10');\n            if (spinnerElement) {\n                spinnerElement.remove();\n            }\n        }, 100);\n    }\n    "
     },
     "metadata": {},
     "output_type": "display_data"
    },
    {
     "data": {
      "text/plain": [
       "<IPython.core.display.HTML object>"
      ],
      "text/html": [
       "\n",
       "    <div id=\"3e9bbbb3-bd1a-453b-8bea-24e9785bf308\" style=\"font-size:16px;\">\n",
       "        <i class=\"fa fa-spinner fa-spin\"></i> AI is designing the experiment...\n",
       "    </div>\n",
       "    "
      ]
     },
     "metadata": {},
     "output_type": "display_data"
    },
    {
     "data": {
      "text/plain": [
       "_get_stage_from_agent_response:   0%|          | 0/4 [00:00<?, ?it/s]"
      ],
      "application/vnd.jupyter.widget-view+json": {
       "version_major": 2,
       "version_minor": 0,
       "model_id": "0420af804f9348dbb638ffbe15875d71"
      }
     },
     "metadata": {},
     "output_type": "display_data"
    },
    {
     "data": {
      "text/plain": [
       "<IPython.core.display.Javascript object>"
      ],
      "application/javascript": "\n    var spinnerElement = document.getElementById('3e9bbbb3-bd1a-453b-8bea-24e9785bf308');\n    if (spinnerElement) {\n        spinnerElement.remove();  // Remove the spinner element from the DOM\n    } else {\n        // Retry removing the spinner after a short delay if not immediately found\n        window.setTimeout(() => {\n            var spinnerElement = document.getElementById('3e9bbbb3-bd1a-453b-8bea-24e9785bf308');\n            if (spinnerElement) {\n                spinnerElement.remove();\n            }\n        }, 100);\n    }\n    "
     },
     "metadata": {},
     "output_type": "display_data"
    },
    {
     "data": {
      "text/plain": [
       "<IPython.core.display.HTML object>"
      ],
      "text/html": [
       "\n",
       "    <p style=\"background-color: #F0F8FF; padding: 20px; border-radius: 8px; color: #333;\">\n",
       "        <strong>Execution Agent:</strong> The planned experiments are:<br><div style=\"font-family: Arial, sans-serif;\">\n",
       "            <div style=\"margin-bottom: 20px; padding: 10px; border: 1px solid #ccc; border-radius: 8px;\">\n",
       "                <h3>Initial Conditional Stark Experiment</h3>\n",
       "                <p><strong>Description:</strong> Conduct the ConditionalStarkTwoQubitGateAIParameterSearchAmplitude experiment with parameters duts and frequency.</p>\n",
       "                <p><strong>Next Steps:</strong> Proceed to Stage2 regardless of the outcome.</p>\n",
       "            </div>\n",
       "        \n",
       "            <div style=\"margin-bottom: 20px; padding: 10px; border: 1px solid #ccc; border-radius: 8px;\">\n",
       "                <h3>Adjusted Amplitude Conditional Stark Experiment</h3>\n",
       "                <p><strong>Description:</strong> Conduct the ConditionalStarkTwoQubitGateAIParameterSearchAmplitude experiment with parameters duts, frequency, and the new_amplitude.</p>\n",
       "                <p><strong>Next Steps:</strong> If the experiment fails 5 times, conclude the experiment has failed. Otherwise, conclude the experiment has succeeded upon the first success.</p>\n",
       "            </div>\n",
       "        </div>\n",
       "    </p>\n",
       "    "
      ]
     },
     "metadata": {},
     "output_type": "display_data"
    },
    {
     "data": {
      "text/plain": [
       "<IPython.core.display.HTML object>"
      ],
      "text/html": [
       "\n",
       "    <div id=\"ab70d28c-f0a9-4086-9b04-ed8e8392aec5\" style=\"font-size:16px;\">\n",
       "        <i class=\"fa fa-spinner fa-spin\"></i> Executing Stage1: Initial Conditional Stark Experiment...\n",
       "    </div>\n",
       "    "
      ]
     },
     "metadata": {},
     "output_type": "display_data"
    },
    {
     "data": {
      "text/plain": [
       "<IPython.core.display.HTML object>"
      ],
      "text/html": [
       "<div style=\"font-family: Arial, sans-serif;\">\n",
       "            <div style=\"margin-bottom: 20px; padding: 10px; border: 1px solid #ccc; border-radius: 8px;\">\n",
       "                <h3>Initial Conditional Stark Experiment</h3>\n",
       "                <p><strong>Description:</strong> Conduct the ConditionalStarkTwoQubitGateAIParameterSearchAmplitude experiment with parameters duts and frequency.</p>\n",
       "                <p><strong>Next Steps:</strong> Proceed to Stage2 regardless of the outcome.</p>\n",
       "            </div>\n",
       "        </div>"
      ]
     },
     "metadata": {},
     "output_type": "display_data"
    },
    {
     "data": {
      "text/plain": [
       "Recalling:   0%|          | 0/5 [00:00<?, ?it/s]"
      ],
      "application/vnd.jupyter.widget-view+json": {
       "version_major": 2,
       "version_minor": 0,
       "model_id": "1c92ea8872904176b4779d10c37b4096"
      }
     },
     "metadata": {},
     "output_type": "display_data"
    },
    {
     "data": {
      "text/plain": [
       "<IPython.core.display.Javascript object>"
      ],
      "application/javascript": "\n    var spinnerElement = document.getElementById('ab70d28c-f0a9-4086-9b04-ed8e8392aec5');\n    if (spinnerElement) {\n        spinnerElement.remove();  // Remove the spinner element from the DOM\n    } else {\n        // Retry removing the spinner after a short delay if not immediately found\n        window.setTimeout(() => {\n            var spinnerElement = document.getElementById('ab70d28c-f0a9-4086-9b04-ed8e8392aec5');\n            if (spinnerElement) {\n                spinnerElement.remove();\n            }\n        }, 100);\n    }\n    "
     },
     "metadata": {},
     "output_type": "display_data"
    },
    {
     "data": {
      "text/plain": [
       "<IPython.core.display.HTML object>"
      ],
      "text/html": [
       "\n",
       "    <p style=\"background-color: #F8F8FF; padding: 20px; border-radius: 8px; color: #333;\">\n",
       "        <strong>Execution agent (generating code):</strong> Here is the generated code:<br>\n",
       "        <div style=\"background: #f8f8f8; padding: 10px; border-radius: 5px; overflow: auto; margin-top: 8px;\">\n",
       "            <div class=\"highlight\"><pre><span></span><span class=\"n\">experiment_instance</span> <span class=\"o\">=</span> <span class=\"n\">ConditionalStarkTwoQubitGateAIParameterSearchAmplitude</span><span class=\"p\">(</span><span class=\"n\">duts</span><span class=\"o\">=</span><span class=\"n\">duts</span><span class=\"p\">,</span> <span class=\"n\">frequency</span><span class=\"o\">=</span><span class=\"n\">frequency</span><span class=\"p\">)</span>\n",
       "</pre></div>\n",
       "\n",
       "        </div>\n",
       "\n",
       "    </p>\n",
       "    "
      ]
     },
     "metadata": {},
     "output_type": "display_data"
    },
    {
     "data": {
      "text/plain": [
       "<IPython.core.display.JSON object>"
      ],
      "application/json": {
       "record_id": "c2dc511d-e7f7-4128-a951-5c343d8a7d45",
       "record_entry_path": "/root/2-ConditionalStarkTwoQubitGateAIParameterSearchAmplitude.run/0-ConditionalStarkEchoTuneUpAI.run/2-ConditionalStarkShiftContinuous.run",
       "record_book_path": "log/zijian/2024-09/2024-09-25/01.55.50",
       "record_time": 1727243839,
       "print_time": "2024-09-25 01:57:19"
      }
     },
     "metadata": {
      "application/json": {
       "expanded": false,
       "root": "ConditionalStarkShiftContinuous"
      }
     },
     "output_type": "display_data"
    },
    {
     "name": "stdout",
     "output_type": "stream",
     "text": [
      "IZ: -0.00055+/-0.00227 MHz:  0.51727+/-0.00227 MHz\n",
      "Phase IZ Contributions from Pulse Rise Drop:  0.05882+/-0.12039 rad\n"
     ]
    },
    {
     "name": "stderr",
     "output_type": "stream",
     "text": [
      "/Users/zijian/PycharmProjects/LeeQ/venv/lib/python3.10/site-packages/pydantic/main.py:390: UserWarning:\n",
      "\n",
      "Pydantic serializer warnings:\n",
      "  Expected `CompletionTokensDetails` but got `dict` with value `{'reasoning_tokens': 0}` - serialized value may not be as expected\n",
      "\n"
     ]
    },
    {
     "data": {
      "text/plain": [
       "<IPython.core.display.HTML object>"
      ],
      "text/html": [
       "\n",
       "    <p style=\"background-color: #F0F8FF; padding: 20px; border-radius: 8px; color: #333;\">\n",
       "        <strong>Inspection Agent:</strong> <br><strong>fitting_analysis</strong>: 'The experiment is considered successful. The absolute values of oscillation frequencies for the ground (0.5167 MHz) and excited (-0.5178 MHz) states are not significantly different, indicating no fitting error. The minimum difference between the ground and excited state of the control qubit (0.003327434326015427) is not greater than 50% of the maximum difference (1.7305017846425734), but this criterion is relevant only if the experiment fails due to the population of the control qubit not meeting the criteria, which is not the case here. Therefore, this condition does not apply to the overall success of the experiment.'<br><strong>succeeded</strong>: True<br>\n",
       "    </p>\n",
       "    "
      ]
     },
     "metadata": {},
     "output_type": "display_data"
    },
    {
     "data": {
      "text/plain": [
       "<IPython.core.display.HTML object>"
      ],
      "text/html": [
       "\n",
       "    <div id=\"857fa499-0478-4b01-ae7c-c324a3198575\" style=\"font-size:16px;\">\n",
       "        <i class=\"fa fa-spinner fa-spin\"></i> Vision AI is inspecting the plots...\n",
       "    </div>\n",
       "    "
      ]
     },
     "metadata": {},
     "output_type": "display_data"
    },
    {
     "name": "stderr",
     "output_type": "stream",
     "text": [
      "/Users/zijian/PycharmProjects/LeeQ/venv/lib/python3.10/site-packages/pydantic/main.py:390: UserWarning:\n",
      "\n",
      "Pydantic serializer warnings:\n",
      "  Expected `CompletionTokensDetails` but got `dict` with value `{'reasoning_tokens': 0}` - serialized value may not be as expected\n",
      "\n"
     ]
    },
    {
     "data": {
      "text/plain": [
       "<IPython.core.display.Javascript object>"
      ],
      "application/javascript": "\n    var spinnerElement = document.getElementById('857fa499-0478-4b01-ae7c-c324a3198575');\n    if (spinnerElement) {\n        spinnerElement.remove();  // Remove the spinner element from the DOM\n    } else {\n        // Retry removing the spinner after a short delay if not immediately found\n        window.setTimeout(() => {\n            var spinnerElement = document.getElementById('857fa499-0478-4b01-ae7c-c324a3198575');\n            if (spinnerElement) {\n                spinnerElement.remove();\n            }\n        }, 100);\n    }\n    "
     },
     "metadata": {},
     "output_type": "display_data"
    },
    {
     "data": {
      "text/plain": [
       "<IPython.core.display.HTML object>"
      ],
      "text/html": [
       "\n",
       "    <p style=\"background-color: #FFF0F5; padding: 20px; border-radius: 8px; color: #333;\">\n",
       "        <strong>Inspection Agent:</strong> <br><strong>analysis</strong>: \"The plot shows significant oscillations in the Y axis for both the 'Ground' and 'Excited' states, with multiple peaks and crossings between the two lines. This indicates instability in the qubit states throughout the experiment. Therefore, the experiment is considered a failure.\"<br><strong>success</strong>: False<br>\n",
       "    </p>\n",
       "    "
      ]
     },
     "metadata": {},
     "output_type": "display_data"
    },
    {
     "data": {
      "text/plain": [
       "<IPython.core.display.HTML object>"
      ],
      "text/html": [
       "\n",
       "    <div id=\"4d4e0705-98ad-43e0-8bf5-7e55248cb57e\" style=\"font-size:16px;\">\n",
       "        <i class=\"fa fa-spinner fa-spin\"></i> Vision AI is inspecting the plots...\n",
       "    </div>\n",
       "    "
      ]
     },
     "metadata": {},
     "output_type": "display_data"
    },
    {
     "data": {
      "text/plain": [
       "<IPython.core.display.Javascript object>"
      ],
      "application/javascript": "\n    var spinnerElement = document.getElementById('4d4e0705-98ad-43e0-8bf5-7e55248cb57e');\n    if (spinnerElement) {\n        spinnerElement.remove();  // Remove the spinner element from the DOM\n    } else {\n        // Retry removing the spinner after a short delay if not immediately found\n        window.setTimeout(() => {\n            var spinnerElement = document.getElementById('4d4e0705-98ad-43e0-8bf5-7e55248cb57e');\n            if (spinnerElement) {\n                spinnerElement.remove();\n            }\n        }, 100);\n    }\n    "
     },
     "metadata": {},
     "output_type": "display_data"
    },
    {
     "data": {
      "text/plain": [
       "<IPython.core.display.HTML object>"
      ],
      "text/html": [
       "\n",
       "    <p style=\"background-color: #F0FFF0; padding: 20px; border-radius: 8px; color: #333;\">\n",
       "        <strong>Inspection Agent:</strong> <br><strong>analysis</strong>: 'The provided plot shows two clear peaks, one for the ground state and one for the excited state, which are symmetric around the center of the plot. There are no additional significant peaks observed. Therefore, the experiment is considered successful.'<br><strong>success</strong>: True<br>\n",
       "    </p>\n",
       "    "
      ]
     },
     "metadata": {},
     "output_type": "display_data"
    },
    {
     "data": {
      "text/plain": [
       "<IPython.core.display.HTML object>"
      ],
      "text/html": [
       "\n",
       "    <div id=\"26c203be-e806-402c-a15f-632f3876fecc\" style=\"font-size:16px;\">\n",
       "        <i class=\"fa fa-spinner fa-spin\"></i> Analyzing experiment results...\n",
       "    </div>\n",
       "    "
      ]
     },
     "metadata": {},
     "output_type": "display_data"
    },
    {
     "data": {
      "text/plain": [
       "<IPython.core.display.Javascript object>"
      ],
      "application/javascript": "\n    var spinnerElement = document.getElementById('26c203be-e806-402c-a15f-632f3876fecc');\n    if (spinnerElement) {\n        spinnerElement.remove();  // Remove the spinner element from the DOM\n    } else {\n        // Retry removing the spinner after a short delay if not immediately found\n        window.setTimeout(() => {\n            var spinnerElement = document.getElementById('26c203be-e806-402c-a15f-632f3876fecc');\n            if (spinnerElement) {\n                spinnerElement.remove();\n            }\n        }, 100);\n    }\n    "
     },
     "metadata": {},
     "output_type": "display_data"
    },
    {
     "name": "stdout",
     "output_type": "stream",
     "text": [
      "Estimated IZ = -0.0005+/-0.0023 MHz, ZZ = 0.5173+/-0.0023 MHz, width = 0.12082682761758234 us\n"
     ]
    },
    {
     "data": {
      "text/plain": [
       "<IPython.core.display.JSON object>"
      ],
      "application/json": {
       "record_id": "18f699e1-a582-4a3c-ba32-9a5639166532",
       "record_entry_path": "/root/2-ConditionalStarkTwoQubitGateAIParameterSearchAmplitude.run/0-ConditionalStarkEchoTuneUpAI.run",
       "record_book_path": "log/zijian/2024-09/2024-09-25/01.55.50",
       "record_time": 1727243839,
       "print_time": "2024-09-25 01:57:38"
      }
     },
     "metadata": {
      "application/json": {
       "expanded": false,
       "root": "ConditionalStarkEchoTuneUpAI"
      }
     },
     "output_type": "display_data"
    },
    {
     "data": {
      "text/plain": [
       "<IPython.core.display.HTML object>"
      ],
      "text/html": [
       "\n",
       "    <p style=\"background-color: #F0F8FF; padding: 20px; border-radius: 8px; color: #333;\">\n",
       "        <strong>Inspection Agent:</strong> <br><strong>fitting</strong>: '\\n        Inspection results of Hamiltonian tomography:{\\'analysis\\': \"The experiment aimed to calibrate the IZ and ZZ interactions between two qubits under microwave drives. The fitting analysis indicates that the experiment was successful, showing no significant difference in oscillation frequencies between the ground and excited states, which suggests accurate calibration. However, the control population plot analysis shows significant oscillations and instability in the qubit states, leading to the experiment\\'s failure in this aspect. The Fourier plot analysis was successful, showing two clear and symmetric peaks for the ground and excited states without any additional significant peaks, indicating precise frequency calibration. Given that the experiment\\'s success was contingent upon all checks passing and one of the critical visual inspections failed, the experiment is considered failed.\", \\'success\\': False, \\'parameter_updates\\': {\\'amp_control\\': \\'Increase by 10% to improve stability in the qubit states.\\', \\'amp_target\\': \\'Increase by 10% to match the adjustment in amp_control and maintain symmetry.\\', \\'iz_rate_cancel\\': \\'Adjust by a small increment, suggest 0.01, to test for improvements in qubit state stability.\\'}} \\n        \\n        Inspection results of repeated gate Hamiltonian tomography:{\\'success\\': False, \\'analysis\\': \\'Skipped due to the failure of Hamiltonian tomography experiment.\\'}\\n        \\n        The fitted parameters are as follows:\\n        {\\'iz_control\\': 0, \\'iz_target\\': 0, \\'frequency\\': 5040.4, \\'amp_control\\': 0.17059123851396044, \\'amp_target\\': 0.17059123851396044, \\'rise\\': 0.015, \\'width\\': 0.12082682761758234, \\'phase_diff\\': 0, \\'zz_interaction_positive\\': True, \\'echo\\': True}\\n        '<br>\n",
       "    </p>\n",
       "    "
      ]
     },
     "metadata": {},
     "output_type": "display_data"
    },
    {
     "data": {
      "text/plain": [
       "<IPython.core.display.HTML object>"
      ],
      "text/html": [
       "\n",
       "    <div id=\"cccaa82b-255c-42e4-aba5-3131648172a7\" style=\"font-size:16px;\">\n",
       "        <i class=\"fa fa-spinner fa-spin\"></i> Analyzing experiment results...\n",
       "    </div>\n",
       "    "
      ]
     },
     "metadata": {},
     "output_type": "display_data"
    },
    {
     "data": {
      "text/plain": [
       "<IPython.core.display.Javascript object>"
      ],
      "application/javascript": "\n    var spinnerElement = document.getElementById('cccaa82b-255c-42e4-aba5-3131648172a7');\n    if (spinnerElement) {\n        spinnerElement.remove();  // Remove the spinner element from the DOM\n    } else {\n        // Retry removing the spinner after a short delay if not immediately found\n        window.setTimeout(() => {\n            var spinnerElement = document.getElementById('cccaa82b-255c-42e4-aba5-3131648172a7');\n            if (spinnerElement) {\n                spinnerElement.remove();\n            }\n        }, 100);\n    }\n    "
     },
     "metadata": {},
     "output_type": "display_data"
    },
    {
     "data": {
      "text/plain": [
       "<IPython.core.display.JSON object>"
      ],
      "application/json": {
       "record_id": "469e02b8-c98a-487a-818d-e4852741d04d",
       "record_entry_path": "/root/2-ConditionalStarkTwoQubitGateAIParameterSearchAmplitude.run",
       "record_book_path": "log/zijian/2024-09/2024-09-25/01.55.50",
       "record_time": 1727243839,
       "print_time": "2024-09-25 01:57:39"
      }
     },
     "metadata": {
      "application/json": {
       "expanded": false,
       "root": "ConditionalStarkTwoQubitGateAIParameterSearchAmplitude"
      }
     },
     "output_type": "display_data"
    },
    {
     "data": {
      "text/plain": [
       "<IPython.core.display.HTML object>"
      ],
      "text/html": [
       "\n",
       "    <p style=\"background-color: #F0F8FF; padding: 20px; border-radius: 8px; color: #333;\">\n",
       "        <strong>Inspection Agent:</strong> <br><strong>best_amp</strong>: 'There is no successful experiment yet.'<br>\n",
       "    </p>\n",
       "    "
      ]
     },
     "metadata": {},
     "output_type": "display_data"
    },
    {
     "data": {
      "text/plain": [
       "<IPython.core.display.HTML object>"
      ],
      "text/html": [
       "\n",
       "    <p style=\"background-color: #F0F8FF; padding: 20px; border-radius: 8px; color: #333;\">\n",
       "        <strong>Inspection Agent:</strong> <br><strong>finished</strong>: False<br><strong>analysis</strong>: 'Since the initial experiment with an amplitude of 0.17059123851396044 failed due to significant oscillations, and considering the guidance to start from a gentle value and increase cautiously, the next step is to reduce the amplitude to find a stable starting point. No successful experiments have been recorded yet, so we will decrease the amplitude to explore a more stable region.'<br><strong>current_best</strong>: None<br><strong>new_amplitude_to_try</strong>: 0.08529561925698022<br>\n",
       "    </p>\n",
       "    "
      ]
     },
     "metadata": {},
     "output_type": "display_data"
    },
    {
     "data": {
      "text/plain": [
       "<IPython.core.display.HTML object>"
      ],
      "text/html": [
       "\n",
       "    <div id=\"12dbdb7c-fbb8-4d67-8586-6fb50fda7df7\" style=\"font-size:16px;\">\n",
       "        <i class=\"fa fa-spinner fa-spin\"></i> Analyzing experiment results...\n",
       "    </div>\n",
       "    "
      ]
     },
     "metadata": {},
     "output_type": "display_data"
    },
    {
     "data": {
      "text/plain": [
       "<IPython.core.display.Javascript object>"
      ],
      "application/javascript": "\n    var spinnerElement = document.getElementById('12dbdb7c-fbb8-4d67-8586-6fb50fda7df7');\n    if (spinnerElement) {\n        spinnerElement.remove();  // Remove the spinner element from the DOM\n    } else {\n        // Retry removing the spinner after a short delay if not immediately found\n        window.setTimeout(() => {\n            var spinnerElement = document.getElementById('12dbdb7c-fbb8-4d67-8586-6fb50fda7df7');\n            if (spinnerElement) {\n                spinnerElement.remove();\n            }\n        }, 100);\n    }\n    "
     },
     "metadata": {},
     "output_type": "display_data"
    },
    {
     "data": {
      "text/plain": [
       "<IPython.core.display.HTML object>"
      ],
      "text/html": [
       "\n",
       "    <p style=\"background-color: #FFF0F5; padding: 20px; border-radius: 8px; color: #333;\">\n",
       "        <strong>Execution Agent:</strong> Experiment analysis results are as follows:<br><strong>analysis</strong>: 'The experiment failed due to significant oscillations at the initial amplitude, with no successful experiments recorded yet.'<br><strong>success</strong>: False<br><strong>best_amplitude</strong>: None<br><strong>new_amplitude_to_try</strong>: 0.08529561925698022<br>\n",
       "    </p>\n",
       "    "
      ]
     },
     "metadata": {},
     "output_type": "display_data"
    },
    {
     "data": {
      "text/plain": [
       "<IPython.core.display.HTML object>"
      ],
      "text/html": [
       "\n",
       "    <div id=\"459b0a38-c603-4b3d-9f81-76d2761306c8\" style=\"font-size:16px;\">\n",
       "        <i class=\"fa fa-spinner fa-spin\"></i> Considering the next stage...\n",
       "    </div>\n",
       "    "
      ]
     },
     "metadata": {},
     "output_type": "display_data"
    },
    {
     "data": {
      "text/plain": [
       "<IPython.core.display.Javascript object>"
      ],
      "application/javascript": "\n    var spinnerElement = document.getElementById('459b0a38-c603-4b3d-9f81-76d2761306c8');\n    if (spinnerElement) {\n        spinnerElement.remove();  // Remove the spinner element from the DOM\n    } else {\n        // Retry removing the spinner after a short delay if not immediately found\n        window.setTimeout(() => {\n            var spinnerElement = document.getElementById('459b0a38-c603-4b3d-9f81-76d2761306c8');\n            if (spinnerElement) {\n                spinnerElement.remove();\n            }\n        }, 100);\n    }\n    "
     },
     "metadata": {},
     "output_type": "display_data"
    },
    {
     "data": {
      "text/plain": [
       "<IPython.core.display.HTML object>"
      ],
      "text/html": [
       "\n",
       "    <p style=\"background-color: #F0F8FF; padding: 20px; border-radius: 8px; color: #333;\">\n",
       "        <strong>Execution Agent:</strong> Transitioning to the next stage Stage2 with the following description:<br>Conduct the ConditionalStarkTwoQubitGateAIParameterSearchAmplitude experiment with parameters duts, frequency, and the new_amplitude.<br>Despite the failure of the experiment due to significant oscillations at the initial amplitude and no successful experiments recorded, the rule of transition dictates moving to the next stage.\n",
       "    </p>\n",
       "    "
      ]
     },
     "metadata": {},
     "output_type": "display_data"
    },
    {
     "data": {
      "text/plain": [
       "<IPython.core.display.HTML object>"
      ],
      "text/html": [
       "\n",
       "    <div id=\"dd62bcde-c380-4070-841e-b14b2fa2af64\" style=\"font-size:16px;\">\n",
       "        <i class=\"fa fa-spinner fa-spin\"></i> Executing Stage2: Adjusted Amplitude Conditional Stark Experiment...\n",
       "    </div>\n",
       "    "
      ]
     },
     "metadata": {},
     "output_type": "display_data"
    },
    {
     "data": {
      "text/plain": [
       "<IPython.core.display.HTML object>"
      ],
      "text/html": [
       "<div style=\"font-family: Arial, sans-serif;\">\n",
       "            <div style=\"margin-bottom: 20px; padding: 10px; border: 1px solid #ccc; border-radius: 8px;\">\n",
       "                <h3>Adjusted Amplitude Conditional Stark Experiment</h3>\n",
       "                <p><strong>Description:</strong> Conduct the ConditionalStarkTwoQubitGateAIParameterSearchAmplitude experiment with parameters duts, frequency, and the new_amplitude.</p>\n",
       "                <p><strong>Next Steps:</strong> If the experiment fails 5 times, conclude the experiment has failed. Otherwise, conclude the experiment has succeeded upon the first success.</p>\n",
       "            </div>\n",
       "        </div>"
      ]
     },
     "metadata": {},
     "output_type": "display_data"
    },
    {
     "data": {
      "text/plain": [
       "Recalling:   0%|          | 0/5 [00:00<?, ?it/s]"
      ],
      "application/vnd.jupyter.widget-view+json": {
       "version_major": 2,
       "version_minor": 0,
       "model_id": "a92cece94cb24f11afa401941931543e"
      }
     },
     "metadata": {},
     "output_type": "display_data"
    },
    {
     "data": {
      "text/plain": [
       "<IPython.core.display.Javascript object>"
      ],
      "application/javascript": "\n    var spinnerElement = document.getElementById('dd62bcde-c380-4070-841e-b14b2fa2af64');\n    if (spinnerElement) {\n        spinnerElement.remove();  // Remove the spinner element from the DOM\n    } else {\n        // Retry removing the spinner after a short delay if not immediately found\n        window.setTimeout(() => {\n            var spinnerElement = document.getElementById('dd62bcde-c380-4070-841e-b14b2fa2af64');\n            if (spinnerElement) {\n                spinnerElement.remove();\n            }\n        }, 100);\n    }\n    "
     },
     "metadata": {},
     "output_type": "display_data"
    },
    {
     "data": {
      "text/plain": [
       "<IPython.core.display.HTML object>"
      ],
      "text/html": [
       "\n",
       "    <p style=\"background-color: #F8F8FF; padding: 20px; border-radius: 8px; color: #333;\">\n",
       "        <strong>Execution agent (generating code):</strong> Here is the generated code:<br>\n",
       "        <div style=\"background: #f8f8f8; padding: 10px; border-radius: 5px; overflow: auto; margin-top: 8px;\">\n",
       "            <div class=\"highlight\"><pre><span></span><span class=\"n\">experiment_instance</span> <span class=\"o\">=</span> <span class=\"n\">ConditionalStarkTwoQubitGateAIParameterSearchAmplitude</span><span class=\"p\">(</span><span class=\"n\">duts</span><span class=\"o\">=</span><span class=\"n\">duts</span><span class=\"p\">,</span> <span class=\"n\">amplitude</span><span class=\"o\">=</span><span class=\"n\">_new_amplitude_to_try</span><span class=\"p\">,</span> <span class=\"n\">frequency</span><span class=\"o\">=</span><span class=\"n\">frequency</span><span class=\"p\">)</span>\n",
       "</pre></div>\n",
       "\n",
       "        </div>\n",
       "\n",
       "    </p>\n",
       "    "
      ]
     },
     "metadata": {},
     "output_type": "display_data"
    },
    {
     "data": {
      "text/plain": [
       "<IPython.core.display.JSON object>"
      ],
      "application/json": {
       "record_id": "0c850178-5681-403f-9f3a-bab30ba79028",
       "record_entry_path": "/root/3-ConditionalStarkTwoQubitGateAIParameterSearchAmplitude.run/0-ConditionalStarkEchoTuneUpAI.run/2-ConditionalStarkShiftContinuous.run",
       "record_book_path": "log/zijian/2024-09/2024-09-25/01.55.50",
       "record_time": 1727243887,
       "print_time": "2024-09-25 01:58:08"
      }
     },
     "metadata": {
      "application/json": {
       "expanded": false,
       "root": "ConditionalStarkShiftContinuous"
      }
     },
     "output_type": "display_data"
    },
    {
     "name": "stdout",
     "output_type": "stream",
     "text": [
      "IZ:  0.00113+/-0.00193 MHz:  0.26786+/-0.00193 MHz\n",
      "Phase IZ Contributions from Pulse Rise Drop: -0.01653+/-0.10216 rad\n"
     ]
    },
    {
     "name": "stderr",
     "output_type": "stream",
     "text": [
      "/Users/zijian/PycharmProjects/LeeQ/venv/lib/python3.10/site-packages/pydantic/main.py:390: UserWarning:\n",
      "\n",
      "Pydantic serializer warnings:\n",
      "  Expected `CompletionTokensDetails` but got `dict` with value `{'reasoning_tokens': 0}` - serialized value may not be as expected\n",
      "\n"
     ]
    },
    {
     "data": {
      "text/plain": [
       "<IPython.core.display.HTML object>"
      ],
      "text/html": [
       "\n",
       "    <p style=\"background-color: #F0F8FF; padding: 20px; border-radius: 8px; color: #333;\">\n",
       "        <strong>Inspection Agent:</strong> <br><strong>fitting_analysis</strong>: 'The experiment failed due to the population of the control qubit not meeting the criteria.'<br><strong>succeeded</strong>: False<br>\n",
       "    </p>\n",
       "    "
      ]
     },
     "metadata": {},
     "output_type": "display_data"
    },
    {
     "data": {
      "text/plain": [
       "<IPython.core.display.HTML object>"
      ],
      "text/html": [
       "\n",
       "    <div id=\"0fd84b26-730b-491e-b55c-4ed6d1321062\" style=\"font-size:16px;\">\n",
       "        <i class=\"fa fa-spinner fa-spin\"></i> Vision AI is inspecting the plots...\n",
       "    </div>\n",
       "    "
      ]
     },
     "metadata": {},
     "output_type": "display_data"
    },
    {
     "data": {
      "text/plain": [
       "<IPython.core.display.Javascript object>"
      ],
      "application/javascript": "\n    var spinnerElement = document.getElementById('0fd84b26-730b-491e-b55c-4ed6d1321062');\n    if (spinnerElement) {\n        spinnerElement.remove();  // Remove the spinner element from the DOM\n    } else {\n        // Retry removing the spinner after a short delay if not immediately found\n        window.setTimeout(() => {\n            var spinnerElement = document.getElementById('0fd84b26-730b-491e-b55c-4ed6d1321062');\n            if (spinnerElement) {\n                spinnerElement.remove();\n            }\n        }, 100);\n    }\n    "
     },
     "metadata": {},
     "output_type": "display_data"
    },
    {
     "data": {
      "text/plain": [
       "<IPython.core.display.HTML object>"
      ],
      "text/html": [
       "\n",
       "    <p style=\"background-color: #FFF0F5; padding: 20px; border-radius: 8px; color: #333;\">\n",
       "        <strong>Inspection Agent:</strong> <br><strong>analysis</strong>: \"The provided plot shows significant oscillations in the Y axis for both the 'Ground' and 'Excited' states, and the lines cross each other multiple times. According to the criteria for determining the success of the experiment, this indicates that the experiment has failed.\"<br><strong>success</strong>: False<br>\n",
       "    </p>\n",
       "    "
      ]
     },
     "metadata": {},
     "output_type": "display_data"
    },
    {
     "data": {
      "text/plain": [
       "<IPython.core.display.HTML object>"
      ],
      "text/html": [
       "\n",
       "    <div id=\"f3ced424-e36f-45a3-8785-f3adfd0badb3\" style=\"font-size:16px;\">\n",
       "        <i class=\"fa fa-spinner fa-spin\"></i> Vision AI is inspecting the plots...\n",
       "    </div>\n",
       "    "
      ]
     },
     "metadata": {},
     "output_type": "display_data"
    },
    {
     "data": {
      "text/plain": [
       "<IPython.core.display.Javascript object>"
      ],
      "application/javascript": "\n    var spinnerElement = document.getElementById('f3ced424-e36f-45a3-8785-f3adfd0badb3');\n    if (spinnerElement) {\n        spinnerElement.remove();  // Remove the spinner element from the DOM\n    } else {\n        // Retry removing the spinner after a short delay if not immediately found\n        window.setTimeout(() => {\n            var spinnerElement = document.getElementById('f3ced424-e36f-45a3-8785-f3adfd0badb3');\n            if (spinnerElement) {\n                spinnerElement.remove();\n            }\n        }, 100);\n    }\n    "
     },
     "metadata": {},
     "output_type": "display_data"
    },
    {
     "data": {
      "text/plain": [
       "<IPython.core.display.HTML object>"
      ],
      "text/html": [
       "\n",
       "    <p style=\"background-color: #F0FFF0; padding: 20px; border-radius: 8px; color: #333;\">\n",
       "        <strong>Inspection Agent:</strong> <br><strong>analysis</strong>: 'The input plot shows two clear peaks in the Fourier space, one for the ground state and one for the excited state, which are symmetric around the center of the plot. There are no additional clear peaks observed. Therefore, the experiment is considered successful.'<br><strong>success</strong>: True<br>\n",
       "    </p>\n",
       "    "
      ]
     },
     "metadata": {},
     "output_type": "display_data"
    },
    {
     "data": {
      "text/plain": [
       "<IPython.core.display.HTML object>"
      ],
      "text/html": [
       "\n",
       "    <div id=\"dbf52c77-db24-4af7-8dff-4cbf0a7d751a\" style=\"font-size:16px;\">\n",
       "        <i class=\"fa fa-spinner fa-spin\"></i> Analyzing experiment results...\n",
       "    </div>\n",
       "    "
      ]
     },
     "metadata": {},
     "output_type": "display_data"
    },
    {
     "data": {
      "text/plain": [
       "<IPython.core.display.Javascript object>"
      ],
      "application/javascript": "\n    var spinnerElement = document.getElementById('dbf52c77-db24-4af7-8dff-4cbf0a7d751a');\n    if (spinnerElement) {\n        spinnerElement.remove();  // Remove the spinner element from the DOM\n    } else {\n        // Retry removing the spinner after a short delay if not immediately found\n        window.setTimeout(() => {\n            var spinnerElement = document.getElementById('dbf52c77-db24-4af7-8dff-4cbf0a7d751a');\n            if (spinnerElement) {\n                spinnerElement.remove();\n            }\n        }, 100);\n    }\n    "
     },
     "metadata": {},
     "output_type": "display_data"
    },
    {
     "name": "stdout",
     "output_type": "stream",
     "text": [
      "Estimated IZ = 0.0011+/-0.0019 MHz, ZZ = 0.2679+/-0.0019 MHz, width = 0.23333132648521612 us\n"
     ]
    },
    {
     "data": {
      "text/plain": [
       "<IPython.core.display.JSON object>"
      ],
      "application/json": {
       "record_id": "f30bd88b-3394-419f-add4-4021b9789af7",
       "record_entry_path": "/root/3-ConditionalStarkTwoQubitGateAIParameterSearchAmplitude.run/0-ConditionalStarkEchoTuneUpAI.run",
       "record_book_path": "log/zijian/2024-09/2024-09-25/01.55.50",
       "record_time": 1727243887,
       "print_time": "2024-09-25 01:58:20"
      }
     },
     "metadata": {
      "application/json": {
       "expanded": false,
       "root": "ConditionalStarkEchoTuneUpAI"
      }
     },
     "output_type": "display_data"
    },
    {
     "data": {
      "text/plain": [
       "<IPython.core.display.HTML object>"
      ],
      "text/html": [
       "\n",
       "    <p style=\"background-color: #F0F8FF; padding: 20px; border-radius: 8px; color: #333;\">\n",
       "        <strong>Inspection Agent:</strong> <br><strong>fitting</strong>: '\\n        Inspection results of Hamiltonian tomography:{\\'analysis\\': \"The experiment aimed to calibrate the IZ and ZZ interactions between two qubits under microwave drives but was unsuccessful. While the Fourier analysis showed promising results with two clear peaks indicating successful separation of ground and excited states, the control population did not meet the criteria, and the significant oscillations observed in the Y axis for both \\'Ground\\' and \\'Excited\\' states indicate a failure in achieving the desired control over the qubit states. This inconsistency suggests that while part of the experiment worked as intended, the overall goal of calibrating the interactions accurately was not met.\", \\'success\\': False} \\n        \\n        Inspection results of repeated gate Hamiltonian tomography:{\\'success\\': False, \\'analysis\\': \\'Skipped due to the failure of Hamiltonian tomography experiment.\\'}\\n        \\n        The fitted parameters are as follows:\\n        {\\'iz_control\\': 0, \\'iz_target\\': 0, \\'frequency\\': 5040.4, \\'amp_control\\': 0.08529561925698022, \\'amp_target\\': 0.08529561925698022, \\'rise\\': 0.015, \\'width\\': 0.23333132648521612, \\'phase_diff\\': 0, \\'zz_interaction_positive\\': True, \\'echo\\': True}\\n        '<br>\n",
       "    </p>\n",
       "    "
      ]
     },
     "metadata": {},
     "output_type": "display_data"
    },
    {
     "data": {
      "text/plain": [
       "<IPython.core.display.HTML object>"
      ],
      "text/html": [
       "\n",
       "    <div id=\"743f361c-4a96-4986-86ab-78bf2d9ade8c\" style=\"font-size:16px;\">\n",
       "        <i class=\"fa fa-spinner fa-spin\"></i> Analyzing experiment results...\n",
       "    </div>\n",
       "    "
      ]
     },
     "metadata": {},
     "output_type": "display_data"
    },
    {
     "data": {
      "text/plain": [
       "<IPython.core.display.Javascript object>"
      ],
      "application/javascript": "\n    var spinnerElement = document.getElementById('743f361c-4a96-4986-86ab-78bf2d9ade8c');\n    if (spinnerElement) {\n        spinnerElement.remove();  // Remove the spinner element from the DOM\n    } else {\n        // Retry removing the spinner after a short delay if not immediately found\n        window.setTimeout(() => {\n            var spinnerElement = document.getElementById('743f361c-4a96-4986-86ab-78bf2d9ade8c');\n            if (spinnerElement) {\n                spinnerElement.remove();\n            }\n        }, 100);\n    }\n    "
     },
     "metadata": {},
     "output_type": "display_data"
    },
    {
     "data": {
      "text/plain": [
       "<IPython.core.display.JSON object>"
      ],
      "application/json": {
       "record_id": "b4794e6a-e3e8-493a-8cd3-731aea836611",
       "record_entry_path": "/root/3-ConditionalStarkTwoQubitGateAIParameterSearchAmplitude.run",
       "record_book_path": "log/zijian/2024-09/2024-09-25/01.55.50",
       "record_time": 1727243887,
       "print_time": "2024-09-25 01:58:22"
      }
     },
     "metadata": {
      "application/json": {
       "expanded": false,
       "root": "ConditionalStarkTwoQubitGateAIParameterSearchAmplitude"
      }
     },
     "output_type": "display_data"
    },
    {
     "data": {
      "text/plain": [
       "<IPython.core.display.HTML object>"
      ],
      "text/html": [
       "\n",
       "    <p style=\"background-color: #F0F8FF; padding: 20px; border-radius: 8px; color: #333;\">\n",
       "        <strong>Inspection Agent:</strong> <br><strong>best_amp</strong>: 'There is no successful experiment yet.'<br>\n",
       "    </p>\n",
       "    "
      ]
     },
     "metadata": {},
     "output_type": "display_data"
    },
    {
     "data": {
      "text/plain": [
       "<IPython.core.display.HTML object>"
      ],
      "text/html": [
       "\n",
       "    <p style=\"background-color: #F0F8FF; padding: 20px; border-radius: 8px; color: #333;\">\n",
       "        <strong>Inspection Agent:</strong> <br><strong>finished</strong>: False<br><strong>analysis</strong>: 'Given both experiments with amplitudes 0.17059123851396044 and 0.08529561925698022 failed, and considering the binary search methodology for parameter optimization, the next step is to try an amplitude value between the initial amplitude and the minimum amplitude value (0). Since the experiments failed at both attempted amplitudes due to significant oscillations and instability, a lower amplitude might reduce these issues. Therefore, the midpoint between 0.08529561925698022 and 0 is selected.'<br><strong>current_best</strong>: None<br><strong>new_amplitude_to_try</strong>: 0.04264780962849011<br>\n",
       "    </p>\n",
       "    "
      ]
     },
     "metadata": {},
     "output_type": "display_data"
    },
    {
     "data": {
      "text/plain": [
       "<IPython.core.display.HTML object>"
      ],
      "text/html": [
       "\n",
       "    <div id=\"514e8c77-998f-43c8-8bde-124c51dec91f\" style=\"font-size:16px;\">\n",
       "        <i class=\"fa fa-spinner fa-spin\"></i> Analyzing experiment results...\n",
       "    </div>\n",
       "    "
      ]
     },
     "metadata": {},
     "output_type": "display_data"
    },
    {
     "data": {
      "text/plain": [
       "<IPython.core.display.Javascript object>"
      ],
      "application/javascript": "\n    var spinnerElement = document.getElementById('514e8c77-998f-43c8-8bde-124c51dec91f');\n    if (spinnerElement) {\n        spinnerElement.remove();  // Remove the spinner element from the DOM\n    } else {\n        // Retry removing the spinner after a short delay if not immediately found\n        window.setTimeout(() => {\n            var spinnerElement = document.getElementById('514e8c77-998f-43c8-8bde-124c51dec91f');\n            if (spinnerElement) {\n                spinnerElement.remove();\n            }\n        }, 100);\n    }\n    "
     },
     "metadata": {},
     "output_type": "display_data"
    },
    {
     "data": {
      "text/plain": [
       "<IPython.core.display.HTML object>"
      ],
      "text/html": [
       "\n",
       "    <p style=\"background-color: #FFF0F5; padding: 20px; border-radius: 8px; color: #333;\">\n",
       "        <strong>Execution Agent:</strong> Experiment analysis results are as follows:<br><strong>analysis</strong>: 'The experiment failed due to significant oscillations and instability at both attempted amplitudes, with no successful experiments observed.'<br><strong>success</strong>: False<br><strong>best_amplitude</strong>: None<br><strong>new_amplitude_to_try</strong>: 0.04264780962849011<br>\n",
       "    </p>\n",
       "    "
      ]
     },
     "metadata": {},
     "output_type": "display_data"
    },
    {
     "data": {
      "text/plain": [
       "<IPython.core.display.HTML object>"
      ],
      "text/html": [
       "\n",
       "    <div id=\"5aca86a0-dc3c-4836-8f9f-49336fdbc727\" style=\"font-size:16px;\">\n",
       "        <i class=\"fa fa-spinner fa-spin\"></i> Considering the next stage...\n",
       "    </div>\n",
       "    "
      ]
     },
     "metadata": {},
     "output_type": "display_data"
    },
    {
     "data": {
      "text/plain": [
       "<IPython.core.display.Javascript object>"
      ],
      "application/javascript": "\n    var spinnerElement = document.getElementById('5aca86a0-dc3c-4836-8f9f-49336fdbc727');\n    if (spinnerElement) {\n        spinnerElement.remove();  // Remove the spinner element from the DOM\n    } else {\n        // Retry removing the spinner after a short delay if not immediately found\n        window.setTimeout(() => {\n            var spinnerElement = document.getElementById('5aca86a0-dc3c-4836-8f9f-49336fdbc727');\n            if (spinnerElement) {\n                spinnerElement.remove();\n            }\n        }, 100);\n    }\n    "
     },
     "metadata": {},
     "output_type": "display_data"
    },
    {
     "data": {
      "text/plain": [
       "<IPython.core.display.HTML object>"
      ],
      "text/html": [
       "\n",
       "    <p style=\"background-color: #F0F8FF; padding: 20px; border-radius: 8px; color: #333;\">\n",
       "        <strong>Execution Agent:</strong> Transitioning to the next stage Stage2 with the following description:<br>Conduct the ConditionalStarkTwoQubitGateAIParameterSearchAmplitude experiment with parameters duts, frequency, and new_amplitude.<br>Given the experiment has failed this time due to significant oscillations and instability, and considering it has already failed 2 times previously, the total count of failures is now 3. According to the rule of transition, if the experiment fails 5 times, it is concluded as a failure. Since it has not reached 5 failures yet, we will attempt the experiment again with the new amplitude provided.\n",
       "    </p>\n",
       "    "
      ]
     },
     "metadata": {},
     "output_type": "display_data"
    },
    {
     "data": {
      "text/plain": [
       "<IPython.core.display.HTML object>"
      ],
      "text/html": [
       "\n",
       "    <div id=\"72d22b16-5cad-41c8-9570-d735b1d1f9b4\" style=\"font-size:16px;\">\n",
       "        <i class=\"fa fa-spinner fa-spin\"></i> Executing Stage2: Adjusted Amplitude Conditional Stark Experiment...\n",
       "    </div>\n",
       "    "
      ]
     },
     "metadata": {},
     "output_type": "display_data"
    },
    {
     "data": {
      "text/plain": [
       "<IPython.core.display.HTML object>"
      ],
      "text/html": [
       "<div style=\"font-family: Arial, sans-serif;\">\n",
       "            <div style=\"margin-bottom: 20px; padding: 10px; border: 1px solid #ccc; border-radius: 8px;\">\n",
       "                <h3>Adjusted Amplitude Conditional Stark Experiment</h3>\n",
       "                <p><strong>Description:</strong> Conduct the ConditionalStarkTwoQubitGateAIParameterSearchAmplitude experiment with parameters duts, frequency, and new_amplitude.</p>\n",
       "                <p><strong>Next Steps:</strong> If the experiment fails 5 times, conclude the experiment has failed. Otherwise, conclude the experiment has succeeded upon the first success.</p>\n",
       "            </div>\n",
       "        </div>"
      ]
     },
     "metadata": {},
     "output_type": "display_data"
    },
    {
     "data": {
      "text/plain": [
       "<IPython.core.display.Javascript object>"
      ],
      "application/javascript": "\n    var spinnerElement = document.getElementById('72d22b16-5cad-41c8-9570-d735b1d1f9b4');\n    if (spinnerElement) {\n        spinnerElement.remove();  // Remove the spinner element from the DOM\n    } else {\n        // Retry removing the spinner after a short delay if not immediately found\n        window.setTimeout(() => {\n            var spinnerElement = document.getElementById('72d22b16-5cad-41c8-9570-d735b1d1f9b4');\n            if (spinnerElement) {\n                spinnerElement.remove();\n            }\n        }, 100);\n    }\n    "
     },
     "metadata": {},
     "output_type": "display_data"
    },
    {
     "data": {
      "text/plain": [
       "<IPython.core.display.HTML object>"
      ],
      "text/html": [
       "\n",
       "    <p style=\"background-color: #F8F8FF; padding: 20px; border-radius: 8px; color: #333;\">\n",
       "        <strong>Execution agent (generating code):</strong> Here is the generated code:<br>\n",
       "        <div style=\"background: #f8f8f8; padding: 10px; border-radius: 5px; overflow: auto; margin-top: 8px;\">\n",
       "            <div class=\"highlight\"><pre><span></span><span class=\"n\">experiment_instance</span> <span class=\"o\">=</span> <span class=\"n\">ConditionalStarkTwoQubitGateAIParameterSearchAmplitude</span><span class=\"p\">(</span><span class=\"n\">duts</span><span class=\"o\">=</span><span class=\"n\">duts</span><span class=\"p\">,</span> <span class=\"n\">amplitude</span><span class=\"o\">=</span><span class=\"n\">_new_amplitude_to_try</span><span class=\"p\">,</span> <span class=\"n\">frequency</span><span class=\"o\">=</span><span class=\"n\">frequency</span><span class=\"p\">)</span>\n",
       "</pre></div>\n",
       "\n",
       "        </div>\n",
       "\n",
       "    </p>\n",
       "    "
      ]
     },
     "metadata": {},
     "output_type": "display_data"
    },
    {
     "data": {
      "text/plain": [
       "<IPython.core.display.JSON object>"
      ],
      "application/json": {
       "record_id": "ab10ce8b-f1c3-43c4-99f9-44e4ed00e77f",
       "record_entry_path": "/root/4-ConditionalStarkTwoQubitGateAIParameterSearchAmplitude.run/0-ConditionalStarkEchoTuneUpAI.run/2-ConditionalStarkShiftContinuous.run",
       "record_book_path": "log/zijian/2024-09/2024-09-25/01.55.50",
       "record_time": 1727243924,
       "print_time": "2024-09-25 01:58:44"
      }
     },
     "metadata": {
      "application/json": {
       "expanded": false,
       "root": "ConditionalStarkShiftContinuous"
      }
     },
     "output_type": "display_data"
    },
    {
     "name": "stdout",
     "output_type": "stream",
     "text": [
      "IZ: -0.00012+/-0.00225 MHz:  0.13244+/-0.00225 MHz\n",
      "Phase IZ Contributions from Pulse Rise Drop: -0.05881+/-0.11814 rad\n"
     ]
    },
    {
     "name": "stderr",
     "output_type": "stream",
     "text": [
      "/Users/zijian/PycharmProjects/LeeQ/venv/lib/python3.10/site-packages/pydantic/main.py:390: UserWarning:\n",
      "\n",
      "Pydantic serializer warnings:\n",
      "  Expected `CompletionTokensDetails` but got `dict` with value `{'reasoning_tokens': 0}` - serialized value may not be as expected\n",
      "\n"
     ]
    },
    {
     "data": {
      "text/plain": [
       "<IPython.core.display.HTML object>"
      ],
      "text/html": [
       "\n",
       "    <p style=\"background-color: #F0F8FF; padding: 20px; border-radius: 8px; color: #333;\">\n",
       "        <strong>Inspection Agent:</strong> <br><strong>fitting_analysis</strong>: 'The experiment is considered successful. The oscillation frequencies for the ground and excited states are 0.1323 MHz and -0.1326 MHz, respectively, which are not significantly different (less than 50% difference). The minimum difference between the ground and excited state of the control qubit is greater than 50% of the maximum difference, indicating the population of the control qubit meets the criteria. Therefore, the experiment does not fail due to fitting error, noise data, or population criteria.'<br><strong>succeeded</strong>: True<br>\n",
       "    </p>\n",
       "    "
      ]
     },
     "metadata": {},
     "output_type": "display_data"
    },
    {
     "data": {
      "text/plain": [
       "<IPython.core.display.HTML object>"
      ],
      "text/html": [
       "\n",
       "    <div id=\"b7773093-5bb4-4c39-a47b-817247be268e\" style=\"font-size:16px;\">\n",
       "        <i class=\"fa fa-spinner fa-spin\"></i> Vision AI is inspecting the plots...\n",
       "    </div>\n",
       "    "
      ]
     },
     "metadata": {},
     "output_type": "display_data"
    },
    {
     "data": {
      "text/plain": [
       "<IPython.core.display.Javascript object>"
      ],
      "application/javascript": "\n    var spinnerElement = document.getElementById('b7773093-5bb4-4c39-a47b-817247be268e');\n    if (spinnerElement) {\n        spinnerElement.remove();  // Remove the spinner element from the DOM\n    } else {\n        // Retry removing the spinner after a short delay if not immediately found\n        window.setTimeout(() => {\n            var spinnerElement = document.getElementById('b7773093-5bb4-4c39-a47b-817247be268e');\n            if (spinnerElement) {\n                spinnerElement.remove();\n            }\n        }, 100);\n    }\n    "
     },
     "metadata": {},
     "output_type": "display_data"
    },
    {
     "data": {
      "text/plain": [
       "<IPython.core.display.HTML object>"
      ],
      "text/html": [
       "\n",
       "    <p style=\"background-color: #FFF0F5; padding: 20px; border-radius: 8px; color: #333;\">\n",
       "        <strong>Inspection Agent:</strong> <br><strong>analysis</strong>: 'The input plot shows significant oscillations in the Y axis for both the Ground and Excited states, and the lines cross each other multiple times throughout the experiment. This indicates instability in the qubit states.'<br><strong>success</strong>: False<br>\n",
       "    </p>\n",
       "    "
      ]
     },
     "metadata": {},
     "output_type": "display_data"
    },
    {
     "data": {
      "text/plain": [
       "<IPython.core.display.HTML object>"
      ],
      "text/html": [
       "\n",
       "    <div id=\"aea6199c-76e6-4294-98c0-5b02fda296f6\" style=\"font-size:16px;\">\n",
       "        <i class=\"fa fa-spinner fa-spin\"></i> Vision AI is inspecting the plots...\n",
       "    </div>\n",
       "    "
      ]
     },
     "metadata": {},
     "output_type": "display_data"
    },
    {
     "data": {
      "text/plain": [
       "<IPython.core.display.Javascript object>"
      ],
      "application/javascript": "\n    var spinnerElement = document.getElementById('aea6199c-76e6-4294-98c0-5b02fda296f6');\n    if (spinnerElement) {\n        spinnerElement.remove();  // Remove the spinner element from the DOM\n    } else {\n        // Retry removing the spinner after a short delay if not immediately found\n        window.setTimeout(() => {\n            var spinnerElement = document.getElementById('aea6199c-76e6-4294-98c0-5b02fda296f6');\n            if (spinnerElement) {\n                spinnerElement.remove();\n            }\n        }, 100);\n    }\n    "
     },
     "metadata": {},
     "output_type": "display_data"
    },
    {
     "data": {
      "text/plain": [
       "<IPython.core.display.HTML object>"
      ],
      "text/html": [
       "\n",
       "    <p style=\"background-color: #F0FFF0; padding: 20px; border-radius: 8px; color: #333;\">\n",
       "        <strong>Inspection Agent:</strong> <br><strong>analysis</strong>: 'The plot shows two clear peaks, one for the ground state and one for the excited state, which are symmetric around the center of the plot. There are no additional significant peaks observed. Therefore, the experiment is considered successful.'<br><strong>success</strong>: True<br>\n",
       "    </p>\n",
       "    "
      ]
     },
     "metadata": {},
     "output_type": "display_data"
    },
    {
     "data": {
      "text/plain": [
       "<IPython.core.display.HTML object>"
      ],
      "text/html": [
       "\n",
       "    <div id=\"f90260a7-91d8-4e02-960e-e0e2b3a7482b\" style=\"font-size:16px;\">\n",
       "        <i class=\"fa fa-spinner fa-spin\"></i> Analyzing experiment results...\n",
       "    </div>\n",
       "    "
      ]
     },
     "metadata": {},
     "output_type": "display_data"
    },
    {
     "data": {
      "text/plain": [
       "<IPython.core.display.Javascript object>"
      ],
      "application/javascript": "\n    var spinnerElement = document.getElementById('f90260a7-91d8-4e02-960e-e0e2b3a7482b');\n    if (spinnerElement) {\n        spinnerElement.remove();  // Remove the spinner element from the DOM\n    } else {\n        // Retry removing the spinner after a short delay if not immediately found\n        window.setTimeout(() => {\n            var spinnerElement = document.getElementById('f90260a7-91d8-4e02-960e-e0e2b3a7482b');\n            if (spinnerElement) {\n                spinnerElement.remove();\n            }\n        }, 100);\n    }\n    "
     },
     "metadata": {},
     "output_type": "display_data"
    },
    {
     "name": "stdout",
     "output_type": "stream",
     "text": [
      "Estimated IZ = -0.0001+/-0.0023 MHz, ZZ = 0.1324+/-0.0023 MHz, width = 0.4719249037266946 us\n"
     ]
    },
    {
     "data": {
      "text/plain": [
       "<IPython.core.display.JSON object>"
      ],
      "application/json": {
       "record_id": "1c524e97-daef-4ec9-955c-141b6f01a87c",
       "record_entry_path": "/root/4-ConditionalStarkTwoQubitGateAIParameterSearchAmplitude.run/0-ConditionalStarkEchoTuneUpAI.run",
       "record_book_path": "log/zijian/2024-09/2024-09-25/01.55.50",
       "record_time": 1727243924,
       "print_time": "2024-09-25 01:59:03"
      }
     },
     "metadata": {
      "application/json": {
       "expanded": false,
       "root": "ConditionalStarkEchoTuneUpAI"
      }
     },
     "output_type": "display_data"
    },
    {
     "data": {
      "text/plain": [
       "<IPython.core.display.HTML object>"
      ],
      "text/html": [
       "\n",
       "    <p style=\"background-color: #F0F8FF; padding: 20px; border-radius: 8px; color: #333;\">\n",
       "        <strong>Inspection Agent:</strong> <br><strong>fitting</strong>: '\\n        Inspection results of Hamiltonian tomography:{\\'analysis\\': \"The experiment showed mixed results. The fitting analysis and the Fourier transform analysis were successful, indicating that the oscillation frequencies for the ground and excited states are within acceptable ranges and that there are two clear peaks corresponding to these states without any significant unwanted peaks. However, the control population analysis failed due to significant oscillations and instability in the qubit states, as indicated by the crossing of the Ground and Excited state lines multiple times. This instability suggests that while the experiment can detect the desired states, the control over these states is not stable enough for the experiment\\'s criteria.\", \\'success\\': False, \\'parameter_updates\\': {\\'amp_control\\': \\'Increase by 10-20% to improve stability in the control qubit states.\\', \\'amp_target\\': \\'Increase by 10-20% to improve stability in the target qubit states.\\'}} \\n        \\n        Inspection results of repeated gate Hamiltonian tomography:{\\'success\\': False, \\'analysis\\': \\'Skipped due to the failure of Hamiltonian tomography experiment.\\'}\\n        \\n        The fitted parameters are as follows:\\n        {\\'iz_control\\': 0, \\'iz_target\\': 0, \\'frequency\\': 5040.4, \\'amp_control\\': 0.04264780962849011, \\'amp_target\\': 0.04264780962849011, \\'rise\\': 0.015, \\'width\\': 0.4719249037266946, \\'phase_diff\\': 0, \\'zz_interaction_positive\\': True, \\'echo\\': True}\\n        '<br>\n",
       "    </p>\n",
       "    "
      ]
     },
     "metadata": {},
     "output_type": "display_data"
    },
    {
     "data": {
      "text/plain": [
       "<IPython.core.display.HTML object>"
      ],
      "text/html": [
       "\n",
       "    <div id=\"2b16dea7-8755-4ad8-a886-b2c0b05aad25\" style=\"font-size:16px;\">\n",
       "        <i class=\"fa fa-spinner fa-spin\"></i> Analyzing experiment results...\n",
       "    </div>\n",
       "    "
      ]
     },
     "metadata": {},
     "output_type": "display_data"
    },
    {
     "data": {
      "text/plain": [
       "<IPython.core.display.Javascript object>"
      ],
      "application/javascript": "\n    var spinnerElement = document.getElementById('2b16dea7-8755-4ad8-a886-b2c0b05aad25');\n    if (spinnerElement) {\n        spinnerElement.remove();  // Remove the spinner element from the DOM\n    } else {\n        // Retry removing the spinner after a short delay if not immediately found\n        window.setTimeout(() => {\n            var spinnerElement = document.getElementById('2b16dea7-8755-4ad8-a886-b2c0b05aad25');\n            if (spinnerElement) {\n                spinnerElement.remove();\n            }\n        }, 100);\n    }\n    "
     },
     "metadata": {},
     "output_type": "display_data"
    },
    {
     "data": {
      "text/plain": [
       "<IPython.core.display.JSON object>"
      ],
      "application/json": {
       "record_id": "ec9bde91-1060-4ed7-ba31-b55056642bfc",
       "record_entry_path": "/root/4-ConditionalStarkTwoQubitGateAIParameterSearchAmplitude.run",
       "record_book_path": "log/zijian/2024-09/2024-09-25/01.55.50",
       "record_time": 1727243924,
       "print_time": "2024-09-25 01:59:05"
      }
     },
     "metadata": {
      "application/json": {
       "expanded": false,
       "root": "ConditionalStarkTwoQubitGateAIParameterSearchAmplitude"
      }
     },
     "output_type": "display_data"
    },
    {
     "data": {
      "text/plain": [
       "<IPython.core.display.HTML object>"
      ],
      "text/html": [
       "\n",
       "    <p style=\"background-color: #F0F8FF; padding: 20px; border-radius: 8px; color: #333;\">\n",
       "        <strong>Inspection Agent:</strong> <br><strong>best_amp</strong>: 'There is no successful experiment yet.'<br>\n",
       "    </p>\n",
       "    "
      ]
     },
     "metadata": {},
     "output_type": "display_data"
    },
    {
     "data": {
      "text/plain": [
       "<IPython.core.display.HTML object>"
      ],
      "text/html": [
       "\n",
       "    <p style=\"background-color: #F0F8FF; padding: 20px; border-radius: 8px; color: #333;\">\n",
       "        <strong>Inspection Agent:</strong> <br><strong>finished</strong>: False<br><strong>analysis</strong>: 'Given all previous experiments failed with the amplitude decreasing each time, it indicates that the initial amplitude was too high and even halving it did not lead to success. Since the last amplitude tried was significantly lower and still resulted in failure, it suggests that we might need to adjust the amplitude in smaller steps to find a stable point. Implementing a binary search between the last tried amplitude (0.04264780962849011) and the minimum possible amplitude (0), to find a gentle value that might succeed.'<br><strong>current_best</strong>: None<br><strong>new_amplitude_to_try</strong>: 0.021323904814245054<br>\n",
       "    </p>\n",
       "    "
      ]
     },
     "metadata": {},
     "output_type": "display_data"
    },
    {
     "data": {
      "text/plain": [
       "<IPython.core.display.HTML object>"
      ],
      "text/html": [
       "\n",
       "    <div id=\"bfca7902-6448-4417-8aaf-9777cda2a84a\" style=\"font-size:16px;\">\n",
       "        <i class=\"fa fa-spinner fa-spin\"></i> Analyzing experiment results...\n",
       "    </div>\n",
       "    "
      ]
     },
     "metadata": {},
     "output_type": "display_data"
    },
    {
     "data": {
      "text/plain": [
       "<IPython.core.display.Javascript object>"
      ],
      "application/javascript": "\n    var spinnerElement = document.getElementById('bfca7902-6448-4417-8aaf-9777cda2a84a');\n    if (spinnerElement) {\n        spinnerElement.remove();  // Remove the spinner element from the DOM\n    } else {\n        // Retry removing the spinner after a short delay if not immediately found\n        window.setTimeout(() => {\n            var spinnerElement = document.getElementById('bfca7902-6448-4417-8aaf-9777cda2a84a');\n            if (spinnerElement) {\n                spinnerElement.remove();\n            }\n        }, 100);\n    }\n    "
     },
     "metadata": {},
     "output_type": "display_data"
    },
    {
     "data": {
      "text/plain": [
       "<IPython.core.display.HTML object>"
      ],
      "text/html": [
       "\n",
       "    <p style=\"background-color: #FFF0F5; padding: 20px; border-radius: 8px; color: #333;\">\n",
       "        <strong>Execution Agent:</strong> Experiment analysis results are as follows:<br><strong>analysis</strong>: 'The experiment failed because all previous attempts with decreasing amplitude did not lead to success, indicating the initial amplitude was too high.'<br><strong>success</strong>: False<br><strong>best_amplitude</strong>: None<br><strong>new_amplitude_to_try</strong>: 0.021323904814245054<br>\n",
       "    </p>\n",
       "    "
      ]
     },
     "metadata": {},
     "output_type": "display_data"
    },
    {
     "data": {
      "text/plain": [
       "<IPython.core.display.HTML object>"
      ],
      "text/html": [
       "\n",
       "    <div id=\"55a33af8-4a5b-4692-b17a-5dcd9e6b0a50\" style=\"font-size:16px;\">\n",
       "        <i class=\"fa fa-spinner fa-spin\"></i> Considering the next stage...\n",
       "    </div>\n",
       "    "
      ]
     },
     "metadata": {},
     "output_type": "display_data"
    },
    {
     "data": {
      "text/plain": [
       "<IPython.core.display.Javascript object>"
      ],
      "application/javascript": "\n    var spinnerElement = document.getElementById('55a33af8-4a5b-4692-b17a-5dcd9e6b0a50');\n    if (spinnerElement) {\n        spinnerElement.remove();  // Remove the spinner element from the DOM\n    } else {\n        // Retry removing the spinner after a short delay if not immediately found\n        window.setTimeout(() => {\n            var spinnerElement = document.getElementById('55a33af8-4a5b-4692-b17a-5dcd9e6b0a50');\n            if (spinnerElement) {\n                spinnerElement.remove();\n            }\n        }, 100);\n    }\n    "
     },
     "metadata": {},
     "output_type": "display_data"
    },
    {
     "data": {
      "text/plain": [
       "<IPython.core.display.HTML object>"
      ],
      "text/html": [
       "\n",
       "    <p style=\"background-color: #F0F8FF; padding: 20px; border-radius: 8px; color: #333;\">\n",
       "        <strong>Execution Agent:</strong> Transitioning to the next stage Stage2 with the following description:<br>Conduct the ConditionalStarkTwoQubitGateAIParameterSearchAmplitude experiment with parameters duts, frequency, and new_amplitude.<br>Given the experiment has failed 4 times and the rule of transition states that if the experiment fails 5 times, it is concluded as a failure, and considering the latest results indicate a failure without achieving success, the experiment should proceed to one more attempt before concluding failure. The results indicate the initial amplitude was too high, and a new amplitude to try has been suggested.\n",
       "    </p>\n",
       "    "
      ]
     },
     "metadata": {},
     "output_type": "display_data"
    },
    {
     "data": {
      "text/plain": [
       "<IPython.core.display.HTML object>"
      ],
      "text/html": [
       "\n",
       "    <div id=\"b583c0c3-9c96-4573-8fa2-b98c2738e6a3\" style=\"font-size:16px;\">\n",
       "        <i class=\"fa fa-spinner fa-spin\"></i> Executing Stage2: Adjusted Amplitude Conditional Stark Experiment...\n",
       "    </div>\n",
       "    "
      ]
     },
     "metadata": {},
     "output_type": "display_data"
    },
    {
     "data": {
      "text/plain": [
       "<IPython.core.display.HTML object>"
      ],
      "text/html": [
       "<div style=\"font-family: Arial, sans-serif;\">\n",
       "            <div style=\"margin-bottom: 20px; padding: 10px; border: 1px solid #ccc; border-radius: 8px;\">\n",
       "                <h3>Adjusted Amplitude Conditional Stark Experiment</h3>\n",
       "                <p><strong>Description:</strong> Conduct the ConditionalStarkTwoQubitGateAIParameterSearchAmplitude experiment with parameters duts, frequency, and new_amplitude.</p>\n",
       "                <p><strong>Next Steps:</strong> If the experiment fails 5 times, conclude the experiment has failed. Otherwise, conclude the experiment has succeeded upon the first success.</p>\n",
       "            </div>\n",
       "        </div>"
      ]
     },
     "metadata": {},
     "output_type": "display_data"
    },
    {
     "data": {
      "text/plain": [
       "<IPython.core.display.Javascript object>"
      ],
      "application/javascript": "\n    var spinnerElement = document.getElementById('b583c0c3-9c96-4573-8fa2-b98c2738e6a3');\n    if (spinnerElement) {\n        spinnerElement.remove();  // Remove the spinner element from the DOM\n    } else {\n        // Retry removing the spinner after a short delay if not immediately found\n        window.setTimeout(() => {\n            var spinnerElement = document.getElementById('b583c0c3-9c96-4573-8fa2-b98c2738e6a3');\n            if (spinnerElement) {\n                spinnerElement.remove();\n            }\n        }, 100);\n    }\n    "
     },
     "metadata": {},
     "output_type": "display_data"
    },
    {
     "data": {
      "text/plain": [
       "<IPython.core.display.HTML object>"
      ],
      "text/html": [
       "\n",
       "    <p style=\"background-color: #F8F8FF; padding: 20px; border-radius: 8px; color: #333;\">\n",
       "        <strong>Execution agent (generating code):</strong> Here is the generated code:<br>\n",
       "        <div style=\"background: #f8f8f8; padding: 10px; border-radius: 5px; overflow: auto; margin-top: 8px;\">\n",
       "            <div class=\"highlight\"><pre><span></span><span class=\"n\">experiment_instance</span> <span class=\"o\">=</span> <span class=\"n\">ConditionalStarkTwoQubitGateAIParameterSearchAmplitude</span><span class=\"p\">(</span><span class=\"n\">duts</span><span class=\"o\">=</span><span class=\"n\">duts</span><span class=\"p\">,</span> <span class=\"n\">amplitude</span><span class=\"o\">=</span><span class=\"n\">_new_amplitude_to_try</span><span class=\"p\">,</span> <span class=\"n\">frequency</span><span class=\"o\">=</span><span class=\"n\">frequency</span><span class=\"p\">)</span>\n",
       "</pre></div>\n",
       "\n",
       "        </div>\n",
       "\n",
       "    </p>\n",
       "    "
      ]
     },
     "metadata": {},
     "output_type": "display_data"
    },
    {
     "data": {
      "text/plain": [
       "<IPython.core.display.JSON object>"
      ],
      "application/json": {
       "record_id": "abb357f6-4993-4326-843f-c4a28f3d0920",
       "record_entry_path": "/root/5-ConditionalStarkTwoQubitGateAIParameterSearchAmplitude.run/0-ConditionalStarkEchoTuneUpAI.run/2-ConditionalStarkShiftContinuous.run",
       "record_book_path": "log/zijian/2024-09/2024-09-25/01.55.50",
       "record_time": 1727243963,
       "print_time": "2024-09-25 01:59:23"
      }
     },
     "metadata": {
      "application/json": {
       "expanded": false,
       "root": "ConditionalStarkShiftContinuous"
      }
     },
     "output_type": "display_data"
    },
    {
     "name": "stdout",
     "output_type": "stream",
     "text": [
      "IZ:  0.00155+/-0.00253 MHz:  0.06639+/-0.00253 MHz\n",
      "Phase IZ Contributions from Pulse Rise Drop: -0.09914+/-0.12850 rad\n"
     ]
    },
    {
     "name": "stderr",
     "output_type": "stream",
     "text": [
      "/Users/zijian/PycharmProjects/LeeQ/venv/lib/python3.10/site-packages/pydantic/main.py:390: UserWarning:\n",
      "\n",
      "Pydantic serializer warnings:\n",
      "  Expected `CompletionTokensDetails` but got `dict` with value `{'reasoning_tokens': 0}` - serialized value may not be as expected\n",
      "\n"
     ]
    },
    {
     "data": {
      "text/plain": [
       "<IPython.core.display.HTML object>"
      ],
      "text/html": [
       "\n",
       "    <p style=\"background-color: #F0F8FF; padding: 20px; border-radius: 8px; color: #333;\">\n",
       "        <strong>Inspection Agent:</strong> <br><strong>fitting_analysis</strong>: 'The experiment failed due to the population of the control qubit not meeting the criteria.'<br><strong>succeeded</strong>: False<br>\n",
       "    </p>\n",
       "    "
      ]
     },
     "metadata": {},
     "output_type": "display_data"
    },
    {
     "data": {
      "text/plain": [
       "<IPython.core.display.HTML object>"
      ],
      "text/html": [
       "\n",
       "    <div id=\"aa79d865-282c-4407-b1bf-683937f82e0b\" style=\"font-size:16px;\">\n",
       "        <i class=\"fa fa-spinner fa-spin\"></i> Vision AI is inspecting the plots...\n",
       "    </div>\n",
       "    "
      ]
     },
     "metadata": {},
     "output_type": "display_data"
    },
    {
     "data": {
      "text/plain": [
       "<IPython.core.display.Javascript object>"
      ],
      "application/javascript": "\n    var spinnerElement = document.getElementById('aa79d865-282c-4407-b1bf-683937f82e0b');\n    if (spinnerElement) {\n        spinnerElement.remove();  // Remove the spinner element from the DOM\n    } else {\n        // Retry removing the spinner after a short delay if not immediately found\n        window.setTimeout(() => {\n            var spinnerElement = document.getElementById('aa79d865-282c-4407-b1bf-683937f82e0b');\n            if (spinnerElement) {\n                spinnerElement.remove();\n            }\n        }, 100);\n    }\n    "
     },
     "metadata": {},
     "output_type": "display_data"
    },
    {
     "data": {
      "text/plain": [
       "<IPython.core.display.HTML object>"
      ],
      "text/html": [
       "\n",
       "    <p style=\"background-color: #FFF0F5; padding: 20px; border-radius: 8px; color: #333;\">\n",
       "        <strong>Inspection Agent:</strong> <br><strong>analysis</strong>: 'The input plot shows significant oscillations in the Y axis and multiple instances where the lines cross each other. This indicates instability in the qubit states throughout the experiment. Therefore, the experiment is considered a failure.'<br><strong>success</strong>: False<br>\n",
       "    </p>\n",
       "    "
      ]
     },
     "metadata": {},
     "output_type": "display_data"
    },
    {
     "data": {
      "text/plain": [
       "<IPython.core.display.HTML object>"
      ],
      "text/html": [
       "\n",
       "    <div id=\"7b9f265b-f5fa-4849-8579-789121f99084\" style=\"font-size:16px;\">\n",
       "        <i class=\"fa fa-spinner fa-spin\"></i> Vision AI is inspecting the plots...\n",
       "    </div>\n",
       "    "
      ]
     },
     "metadata": {},
     "output_type": "display_data"
    },
    {
     "data": {
      "text/plain": [
       "<IPython.core.display.Javascript object>"
      ],
      "application/javascript": "\n    var spinnerElement = document.getElementById('7b9f265b-f5fa-4849-8579-789121f99084');\n    if (spinnerElement) {\n        spinnerElement.remove();  // Remove the spinner element from the DOM\n    } else {\n        // Retry removing the spinner after a short delay if not immediately found\n        window.setTimeout(() => {\n            var spinnerElement = document.getElementById('7b9f265b-f5fa-4849-8579-789121f99084');\n            if (spinnerElement) {\n                spinnerElement.remove();\n            }\n        }, 100);\n    }\n    "
     },
     "metadata": {},
     "output_type": "display_data"
    },
    {
     "data": {
      "text/plain": [
       "<IPython.core.display.HTML object>"
      ],
      "text/html": [
       "\n",
       "    <p style=\"background-color: #FFF0F5; padding: 20px; border-radius: 8px; color: #333;\">\n",
       "        <strong>Inspection Agent:</strong> <br><strong>analysis</strong>: 'The input plot shows multiple peaks in the Fourier space. There are more than two clear peaks, which indicates that the experiment is a failure according to the given criteria.'<br><strong>success</strong>: False<br>\n",
       "    </p>\n",
       "    "
      ]
     },
     "metadata": {},
     "output_type": "display_data"
    },
    {
     "data": {
      "text/plain": [
       "<IPython.core.display.HTML object>"
      ],
      "text/html": [
       "\n",
       "    <div id=\"9cb12c04-e3f4-4bd6-babf-f96139bb2f6b\" style=\"font-size:16px;\">\n",
       "        <i class=\"fa fa-spinner fa-spin\"></i> Analyzing experiment results...\n",
       "    </div>\n",
       "    "
      ]
     },
     "metadata": {},
     "output_type": "display_data"
    },
    {
     "data": {
      "text/plain": [
       "<IPython.core.display.Javascript object>"
      ],
      "application/javascript": "\n    var spinnerElement = document.getElementById('9cb12c04-e3f4-4bd6-babf-f96139bb2f6b');\n    if (spinnerElement) {\n        spinnerElement.remove();  // Remove the spinner element from the DOM\n    } else {\n        // Retry removing the spinner after a short delay if not immediately found\n        window.setTimeout(() => {\n            var spinnerElement = document.getElementById('9cb12c04-e3f4-4bd6-babf-f96139bb2f6b');\n            if (spinnerElement) {\n                spinnerElement.remove();\n            }\n        }, 100);\n    }\n    "
     },
     "metadata": {},
     "output_type": "display_data"
    },
    {
     "name": "stdout",
     "output_type": "stream",
     "text": [
      "Estimated IZ = 0.0016+/-0.0025 MHz, ZZ = 0.0664+/-0.0025 MHz, width = 0.9414007165526134 us\n"
     ]
    },
    {
     "data": {
      "text/plain": [
       "<IPython.core.display.JSON object>"
      ],
      "application/json": {
       "record_id": "b2348781-862c-48b4-a4be-712fddca1152",
       "record_entry_path": "/root/5-ConditionalStarkTwoQubitGateAIParameterSearchAmplitude.run/0-ConditionalStarkEchoTuneUpAI.run",
       "record_book_path": "log/zijian/2024-09/2024-09-25/01.55.50",
       "record_time": 1727243963,
       "print_time": "2024-09-25 01:59:38"
      }
     },
     "metadata": {
      "application/json": {
       "expanded": false,
       "root": "ConditionalStarkEchoTuneUpAI"
      }
     },
     "output_type": "display_data"
    },
    {
     "data": {
      "text/plain": [
       "<IPython.core.display.HTML object>"
      ],
      "text/html": [
       "\n",
       "    <p style=\"background-color: #F0F8FF; padding: 20px; border-radius: 8px; color: #333;\">\n",
       "        <strong>Inspection Agent:</strong> <br><strong>fitting</strong>: '\\n        Inspection results of Hamiltonian tomography:{\\'analysis\\': \"The experiment failed due to multiple issues: the control qubit population did not meet the criteria, indicating a failure in achieving the desired state control. Significant oscillations and instances of line crossings in the Y axis plot suggest instability in the qubit states, further evidencing the experiment\\'s failure. Additionally, the presence of multiple peaks in the Fourier space indicates a failure in maintaining a consistent frequency response, which is crucial for the success of a Conditional Stark Tune-Up Rabi XY experiment. These results collectively indicate that the experiment did not achieve its goal of calibrating the IZ and ZZ interactions between the two qubits under microwave drives.\", \\'success\\': False, \\'parameter_updates\\': {\\'amp_control\\': \\'Increase by 10-20%\\', \\'amp_target\\': \\'Increase by 10-20%\\', \\'frequency\\': \\'Adjust by ±100 MHz to find a more stable frequency response\\', \\'rise\\': \\'Increase by 0.005 to 0.01 to reduce oscillations\\', \\'iz_rate_cancel\\': \\'Consider introducing a non-zero value to improve stability\\', \\'phase_diff\\': \\'Adjust by 5-10 degrees to minimize line crossings\\', \\'iz_rise_drop\\': \\'Introduce a small non-zero value to help manage state transitions\\'}} \\n        \\n        Inspection results of repeated gate Hamiltonian tomography:{\\'success\\': False, \\'analysis\\': \\'Skipped due to the failure of Hamiltonian tomography experiment.\\'}\\n        \\n        The fitted parameters are as follows:\\n        {\\'iz_control\\': 0, \\'iz_target\\': 0, \\'frequency\\': 5040.4, \\'amp_control\\': 0.021323904814245054, \\'amp_target\\': 0.021323904814245054, \\'rise\\': 0.015, \\'width\\': 0.9414007165526134, \\'phase_diff\\': 0, \\'zz_interaction_positive\\': True, \\'echo\\': True}\\n        '<br>\n",
       "    </p>\n",
       "    "
      ]
     },
     "metadata": {},
     "output_type": "display_data"
    },
    {
     "data": {
      "text/plain": [
       "<IPython.core.display.HTML object>"
      ],
      "text/html": [
       "\n",
       "    <div id=\"1347675d-6a91-4530-bf59-515328325695\" style=\"font-size:16px;\">\n",
       "        <i class=\"fa fa-spinner fa-spin\"></i> Analyzing experiment results...\n",
       "    </div>\n",
       "    "
      ]
     },
     "metadata": {},
     "output_type": "display_data"
    },
    {
     "data": {
      "text/plain": [
       "<IPython.core.display.Javascript object>"
      ],
      "application/javascript": "\n    var spinnerElement = document.getElementById('1347675d-6a91-4530-bf59-515328325695');\n    if (spinnerElement) {\n        spinnerElement.remove();  // Remove the spinner element from the DOM\n    } else {\n        // Retry removing the spinner after a short delay if not immediately found\n        window.setTimeout(() => {\n            var spinnerElement = document.getElementById('1347675d-6a91-4530-bf59-515328325695');\n            if (spinnerElement) {\n                spinnerElement.remove();\n            }\n        }, 100);\n    }\n    "
     },
     "metadata": {},
     "output_type": "display_data"
    },
    {
     "data": {
      "text/plain": [
       "<IPython.core.display.JSON object>"
      ],
      "application/json": {
       "record_id": "c83a8252-d2d1-408e-881b-f99502ef03c7",
       "record_entry_path": "/root/5-ConditionalStarkTwoQubitGateAIParameterSearchAmplitude.run",
       "record_book_path": "log/zijian/2024-09/2024-09-25/01.55.50",
       "record_time": 1727243963,
       "print_time": "2024-09-25 01:59:40"
      }
     },
     "metadata": {
      "application/json": {
       "expanded": false,
       "root": "ConditionalStarkTwoQubitGateAIParameterSearchAmplitude"
      }
     },
     "output_type": "display_data"
    },
    {
     "data": {
      "text/plain": [
       "<IPython.core.display.HTML object>"
      ],
      "text/html": [
       "\n",
       "    <p style=\"background-color: #F0F8FF; padding: 20px; border-radius: 8px; color: #333;\">\n",
       "        <strong>Inspection Agent:</strong> <br><strong>best_amp</strong>: 'There is no successful experiment yet.'<br>\n",
       "    </p>\n",
       "    "
      ]
     },
     "metadata": {},
     "output_type": "display_data"
    },
    {
     "data": {
      "text/plain": [
       "<IPython.core.display.HTML object>"
      ],
      "text/html": [
       "\n",
       "    <p style=\"background-color: #F0F8FF; padding: 20px; border-radius: 8px; color: #333;\">\n",
       "        <strong>Inspection Agent:</strong> <br><strong>finished</strong>: False<br><strong>analysis</strong>: \"Given all experiments have failed, starting from the initial amplitude and halving it each time without success, it's clear that the amplitude was too low to achieve control. Following a binary search approach, we should now try an amplitude halfway between the last tried amplitude (0.021323904814245054) and the maximum possible amplitude (1) to ensure we do not exceed the threshold that leads to failure due to significant oscillations and instability, while also giving us a chance to find a successful amplitude.\"<br><strong>current_best</strong>: None<br><strong>new_amplitude_to_try</strong>: 0.5106619524071225<br>\n",
       "    </p>\n",
       "    "
      ]
     },
     "metadata": {},
     "output_type": "display_data"
    },
    {
     "data": {
      "text/plain": [
       "<IPython.core.display.HTML object>"
      ],
      "text/html": [
       "\n",
       "    <div id=\"b2ca3e2f-f0ec-4b81-bed6-2824cd942dc1\" style=\"font-size:16px;\">\n",
       "        <i class=\"fa fa-spinner fa-spin\"></i> Analyzing experiment results...\n",
       "    </div>\n",
       "    "
      ]
     },
     "metadata": {},
     "output_type": "display_data"
    },
    {
     "data": {
      "text/plain": [
       "<IPython.core.display.Javascript object>"
      ],
      "application/javascript": "\n    var spinnerElement = document.getElementById('b2ca3e2f-f0ec-4b81-bed6-2824cd942dc1');\n    if (spinnerElement) {\n        spinnerElement.remove();  // Remove the spinner element from the DOM\n    } else {\n        // Retry removing the spinner after a short delay if not immediately found\n        window.setTimeout(() => {\n            var spinnerElement = document.getElementById('b2ca3e2f-f0ec-4b81-bed6-2824cd942dc1');\n            if (spinnerElement) {\n                spinnerElement.remove();\n            }\n        }, 100);\n    }\n    "
     },
     "metadata": {},
     "output_type": "display_data"
    },
    {
     "data": {
      "text/plain": [
       "<IPython.core.display.HTML object>"
      ],
      "text/html": [
       "\n",
       "    <p style=\"background-color: #FFF0F5; padding: 20px; border-radius: 8px; color: #333;\">\n",
       "        <strong>Execution Agent:</strong> Experiment analysis results are as follows:<br><strong>analysis</strong>: 'The experiment failed due to the initial amplitude being too low to achieve control, with no successful experiments observed.'<br><strong>success</strong>: False<br><strong>best_amplitude</strong>: None<br><strong>new_amplitude_to_try</strong>: 0.5106619524071225<br>\n",
       "    </p>\n",
       "    "
      ]
     },
     "metadata": {},
     "output_type": "display_data"
    },
    {
     "data": {
      "text/plain": [
       "<IPython.core.display.HTML object>"
      ],
      "text/html": [
       "\n",
       "    <div id=\"f0be7090-9470-4f37-b79e-4f7fb741e893\" style=\"font-size:16px;\">\n",
       "        <i class=\"fa fa-spinner fa-spin\"></i> Considering the next stage...\n",
       "    </div>\n",
       "    "
      ]
     },
     "metadata": {},
     "output_type": "display_data"
    },
    {
     "data": {
      "text/plain": [
       "<IPython.core.display.Javascript object>"
      ],
      "application/javascript": "\n    var spinnerElement = document.getElementById('f0be7090-9470-4f37-b79e-4f7fb741e893');\n    if (spinnerElement) {\n        spinnerElement.remove();  // Remove the spinner element from the DOM\n    } else {\n        // Retry removing the spinner after a short delay if not immediately found\n        window.setTimeout(() => {\n            var spinnerElement = document.getElementById('f0be7090-9470-4f37-b79e-4f7fb741e893');\n            if (spinnerElement) {\n                spinnerElement.remove();\n            }\n        }, 100);\n    }\n    "
     },
     "metadata": {},
     "output_type": "display_data"
    },
    {
     "data": {
      "text/plain": [
       "<IPython.core.display.HTML object>"
      ],
      "text/html": [
       "\n",
       "    <p style=\"background-color: #F0F8FF; padding: 20px; border-radius: 8px; color: #333;\">\n",
       "        <strong>Execution Agent:</strong> Transitioning to the next stage Fail with the following description:<br>Conclude the experiment has failed.<br>Given the experiment has failed 6 times, exceeding the threshold of 5 failures set by the rule of transition, the experiment is concluded to have failed. No successful experiments were observed, and the initial amplitude was too low to achieve control.\n",
       "    </p>\n",
       "    "
      ]
     },
     "metadata": {},
     "output_type": "display_data"
    },
    {
     "data": {
      "text/plain": [
       "<IPython.core.display.HTML object>"
      ],
      "text/html": [
       "\n",
       "    <div id=\"8a10ae31-2062-4e80-bb26-5ffd2b9a8cbf\" style=\"font-size:16px;\">\n",
       "        <i class=\"fa fa-spinner fa-spin\"></i> Executing Fail: Failure...\n",
       "    </div>\n",
       "    "
      ]
     },
     "metadata": {},
     "output_type": "display_data"
    },
    {
     "data": {
      "text/plain": [
       "<IPython.core.display.HTML object>"
      ],
      "text/html": [
       "<div style=\"font-family: Arial, sans-serif;\"></div>"
      ]
     },
     "metadata": {},
     "output_type": "display_data"
    },
    {
     "data": {
      "text/plain": [
       "Recalling:   0%|          | 0/5 [00:00<?, ?it/s]"
      ],
      "application/vnd.jupyter.widget-view+json": {
       "version_major": 2,
       "version_minor": 0,
       "model_id": "280fe9c3b9fc492daeeb423edde9556b"
      }
     },
     "metadata": {},
     "output_type": "display_data"
    },
    {
     "name": "stdout",
     "output_type": "stream",
     "text": [
      "No code suggestion found. Recall more ideas.\n"
     ]
    },
    {
     "data": {
      "text/plain": [
       "Recalling:   0%|          | 0/7 [00:00<?, ?it/s]"
      ],
      "application/vnd.jupyter.widget-view+json": {
       "version_major": 2,
       "version_minor": 0,
       "model_id": "c04a76b73ce945bbbdd9cd7ebc1d22d3"
      }
     },
     "metadata": {},
     "output_type": "display_data"
    },
    {
     "name": "stderr",
     "output_type": "stream",
     "text": [
      "   experiment_instance = AutoExperiment_2(instruction=\"\"\"Iterative Two-qubit Amplitude test at frequency on duts\"\"\" , frequency=frequency, duts=duts)  \n",
      "                          ^^^^\n",
      "KeyboardInterrupt: \n",
      "/Users/zijian/PycharmProjects/KnowleAgents/k_agents/variable_table.py:142: UserWarning:\n",
      "\n",
      "Error raised when interpreting: experiment_instance = AutoExperiment_2(instruction=\"\"\"Iterative Two-qubit Amplitude test at frequency on duts\"\"\" , frequency=frequency, duts=duts)   \n",
      " Error detail: ('KeyboardInterrupt', '   experiment_instance = AutoExperiment_2(instruction=\"\"\"Iterative Two-qubit Amplitude test at frequency on duts\"\"\" , frequency=frequency, duts=duts)  \\n                          ^^^^\\nKeyboardInterrupt: ') \n",
      "\n",
      "('KeyboardInterrupt', '   experiment_instance = AutoExperiment_2(instruction=\"\"\"Iterative Two-qubit Amplitude test at frequency on duts\"\"\" , frequency=frequency, duts=duts)  \\nKeyboardInterrupt: ') \n",
      "\n",
      "\n",
      "/Users/zijian/PycharmProjects/KnowleAgents/k_agents/execution/agent.py:112: UserWarning:\n",
      "\n",
      "Experiment object not found in the variable table.\n",
      "\n"
     ]
    },
    {
     "data": {
      "text/plain": [
       "<IPython.core.display.HTML object>"
      ],
      "text/html": [
       "\n",
       "    <div id=\"60ac8342-3efe-4174-90c5-63e845f9cb76\" style=\"font-size:16px;\">\n",
       "        <i class=\"fa fa-spinner fa-spin\"></i> Executing Stage1: Iterative Two-qubit Amplitude Test...\n",
       "    </div>\n",
       "    "
      ]
     },
     "metadata": {},
     "output_type": "display_data"
    },
    {
     "data": {
      "text/plain": [
       "<IPython.core.display.HTML object>"
      ],
      "text/html": [
       "<div style=\"font-family: Arial, sans-serif;\">\n",
       "            <div style=\"margin-bottom: 20px; padding: 10px; border: 1px solid #ccc; border-radius: 8px;\">\n",
       "                <h3>Iterative Two-qubit Amplitude Test</h3>\n",
       "                <p><strong>Description:</strong> Conduct the Iterative Two-qubit Amplitude test with parameters frequency on duts.</p>\n",
       "                <p><strong>Next Steps:</strong> Proceed to Complete if successful. If the test results suggest parameter adjustments, refine the parameters and retry Stage1.</p>\n",
       "            </div>\n",
       "        </div>"
      ]
     },
     "metadata": {},
     "output_type": "display_data"
    },
    {
     "data": {
      "text/plain": [
       "<IPython.core.display.Javascript object>"
      ],
      "application/javascript": "\n    var spinnerElement = document.getElementById('60ac8342-3efe-4174-90c5-63e845f9cb76');\n    if (spinnerElement) {\n        spinnerElement.remove();  // Remove the spinner element from the DOM\n    } else {\n        // Retry removing the spinner after a short delay if not immediately found\n        window.setTimeout(() => {\n            var spinnerElement = document.getElementById('60ac8342-3efe-4174-90c5-63e845f9cb76');\n            if (spinnerElement) {\n                spinnerElement.remove();\n            }\n        }, 100);\n    }\n    "
     },
     "metadata": {},
     "output_type": "display_data"
    },
    {
     "data": {
      "text/plain": [
       "<IPython.core.display.HTML object>"
      ],
      "text/html": [
       "\n",
       "    <p style=\"background-color: #F8F8FF; padding: 20px; border-radius: 8px; color: #333;\">\n",
       "        <strong>Execution agent (generating code):</strong> Here is the generated code:<br>\n",
       "        <div style=\"background: #f8f8f8; padding: 10px; border-radius: 5px; overflow: auto; margin-top: 8px;\">\n",
       "            <div class=\"highlight\"><pre><span></span><span class=\"n\">experiment_instance</span> <span class=\"o\">=</span> <span class=\"n\">AutoExperiment_2</span><span class=\"p\">(</span><span class=\"n\">instruction</span><span class=\"o\">=</span><span class=\"s2\">&quot;Iterative Two-qubit Amplitude test at frequency on duts&quot;</span><span class=\"p\">,</span> <span class=\"n\">frequency</span><span class=\"o\">=</span><span class=\"n\">frequency</span><span class=\"p\">,</span> <span class=\"n\">duts</span><span class=\"o\">=</span><span class=\"n\">duts</span><span class=\"p\">)</span>\n",
       "</pre></div>\n",
       "\n",
       "        </div>\n",
       "\n",
       "    </p>\n",
       "    "
      ]
     },
     "metadata": {},
     "output_type": "display_data"
    },
    {
     "data": {
      "text/plain": [
       "<IPython.core.display.HTML object>"
      ],
      "text/html": [
       "\n",
       "    <div id=\"3aa89b93-d056-4832-87a0-6e6bf7a005fd\" style=\"font-size:16px;\">\n",
       "        <i class=\"fa fa-spinner fa-spin\"></i> Decomposing instructions...\n",
       "    </div>\n",
       "    "
      ]
     },
     "metadata": {},
     "output_type": "display_data"
    },
    {
     "data": {
      "text/plain": [
       "<IPython.core.display.Javascript object>"
      ],
      "application/javascript": "\n    var spinnerElement = document.getElementById('3aa89b93-d056-4832-87a0-6e6bf7a005fd');\n    if (spinnerElement) {\n        spinnerElement.remove();  // Remove the spinner element from the DOM\n    } else {\n        // Retry removing the spinner after a short delay if not immediately found\n        window.setTimeout(() => {\n            var spinnerElement = document.getElementById('3aa89b93-d056-4832-87a0-6e6bf7a005fd');\n            if (spinnerElement) {\n                spinnerElement.remove();\n            }\n        }, 100);\n    }\n    "
     },
     "metadata": {},
     "output_type": "display_data"
    },
    {
     "data": {
      "text/plain": [
       "<IPython.core.display.HTML object>"
      ],
      "text/html": [
       "\n",
       "    <div id=\"abe127fa-8860-4baf-af91-46ec9e243b81\" style=\"font-size:16px;\">\n",
       "        <i class=\"fa fa-spinner fa-spin\"></i> AI is designing the experiment...\n",
       "    </div>\n",
       "    "
      ]
     },
     "metadata": {},
     "output_type": "display_data"
    }
   ],
   "execution_count": null
  },
  {
   "metadata": {
    "jupyter": {
     "is_executing": true
    }
   },
   "cell_type": "code",
   "source": [
    "from leeq.experiments.builtin import ConditionalStarkShiftContinuous\n",
    "\n",
    "exp = ConditionalStarkShiftContinuous(duts, amp_control=1.2, frequency=7000, amp_target=1.6)\n",
    "res = exp.get_ai_inspection_results()\n",
    "res"
   ],
   "id": "6d4023c17026e7ba",
   "outputs": [],
   "execution_count": null
  },
  {
   "metadata": {
    "jupyter": {
     "is_executing": true
    }
   },
   "cell_type": "code",
   "source": "",
   "id": "53a496fcaf13871e",
   "outputs": [],
   "execution_count": null
  }
 ],
 "metadata": {
  "kernelspec": {
   "display_name": "Python 3",
   "language": "python",
   "name": "python3"
  },
  "language_info": {
   "codemirror_mode": {
    "name": "ipython",
    "version": 2
   },
   "file_extension": ".py",
   "mimetype": "text/x-python",
   "name": "python",
   "nbconvert_exporter": "python",
   "pygments_lexer": "ipython2",
   "version": "2.7.6"
  }
 },
 "nbformat": 4,
 "nbformat_minor": 5
}
