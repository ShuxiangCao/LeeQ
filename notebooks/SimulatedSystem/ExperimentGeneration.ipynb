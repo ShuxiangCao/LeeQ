{
 "cells": [
  {
   "cell_type": "code",
   "execution_count": 1,
   "id": "862804fd-472d-402a-b459-cab2caed74c5",
   "metadata": {},
   "outputs": [],
   "source": [
    "from leeq.utils.ai.experiment_generation.experiment_generation import generate_experiment\n",
    "from leeq.utils.ai.experiment_generation.pulse_sequences import generate_pulse_sequences\n"
   ]
  },
  {
   "cell_type": "code",
   "execution_count": 2,
   "id": "4e0621e0-6bc0-4c48-bd90-b1b4a3d5b097",
   "metadata": {},
   "outputs": [],
   "source": [
    "description = \"\"\"\n",
    "Please measure the T1 time of the qubit in the following way:\n",
    "1. Prepare the qubit to the excited state by applying a pi pulse.\n",
    "2. Delay a time t, sweep time t \n",
    "3. Measure the qubit after the decay time.\n",
    "4. fit the qubit excited state population versus time t.\n",
    "5. Plot the excited state population versus time t both the data points and the fitted results. \n",
    "\n",
    "\"\"\""
   ]
  },
  {
   "cell_type": "code",
   "execution_count": 3,
   "id": "e4586610-f345-4e5c-9527-b1e3fa65d7b0",
   "metadata": {},
   "outputs": [
    {
     "data": {
      "application/vnd.jupyter.widget-view+json": {
       "model_id": "aa2056154de34b81822b8a4f2851f693",
       "version_major": 2,
       "version_minor": 0
      },
      "text/plain": [
       "Experiment Generation Progress:   0%|          | 0/5 [00:00<?, ?it/s]"
      ]
     },
     "metadata": {},
     "output_type": "display_data"
    },
    {
     "data": {
      "text/html": [
       "\n",
       "    <p style=\"background-color: #F8F8FF; padding: 20px; border-radius: 8px; color: #333;\">\n",
       "        <strong>Experiment generation agent:</strong> \n",
       "        <div style=\"background: #f8f8f8; padding: 10px; border-radius: 5px; overflow: auto; margin-top: 8px;\">\n",
       "            <div class=\"highlight\"><pre><span></span><span class=\"kn\">from</span> <span class=\"nn\">labchronicle</span> <span class=\"kn\">import</span> <span class=\"n\">log_and_record</span><span class=\"p\">,</span> <span class=\"n\">register_browser_function</span>\n",
       "<span class=\"kn\">from</span> <span class=\"nn\">leeq</span> <span class=\"kn\">import</span> <span class=\"n\">Experiment</span><span class=\"p\">,</span> <span class=\"n\">Sweeper</span><span class=\"p\">,</span> <span class=\"n\">SweepParametersSideEffectFactory</span><span class=\"p\">,</span> <span class=\"n\">basic_run</span>\n",
       "<span class=\"kn\">from</span> <span class=\"nn\">leeq.core.primitives.logical_primitives</span> <span class=\"kn\">import</span> <span class=\"n\">LogicalPrimitiveBlock</span>\n",
       "<span class=\"kn\">from</span> <span class=\"nn\">leeq.utils.compatibility</span> <span class=\"kn\">import</span> <span class=\"n\">prims</span>\n",
       "<span class=\"kn\">import</span> <span class=\"nn\">numpy</span> <span class=\"k\">as</span> <span class=\"nn\">np</span>\n",
       "<span class=\"kn\">from</span> <span class=\"nn\">scipy.optimize</span> <span class=\"kn\">import</span> <span class=\"n\">minimize</span>\n",
       "<span class=\"kn\">import</span> <span class=\"nn\">matplotlib.pyplot</span> <span class=\"k\">as</span> <span class=\"nn\">plt</span>\n",
       "\n",
       "<span class=\"k\">class</span> <span class=\"nc\">T1Experiment</span><span class=\"p\">(</span><span class=\"n\">Experiment</span><span class=\"p\">):</span>\n",
       "<span class=\"w\">    </span><span class=\"sd\">&quot;&quot;&quot;</span>\n",
       "<span class=\"sd\">    Class for measuring the T1 time of a qubit by preparing it in the excited state,</span>\n",
       "<span class=\"sd\">    allowing it to decay over time, and fitting the excited state population versus time.</span>\n",
       "<span class=\"sd\">    &quot;&quot;&quot;</span>\n",
       "\n",
       "    <span class=\"nd\">@log_and_record</span>\n",
       "    <span class=\"k\">def</span> <span class=\"nf\">run</span><span class=\"p\">(</span><span class=\"bp\">self</span><span class=\"p\">,</span>\n",
       "            <span class=\"n\">dut_qubit</span><span class=\"p\">:</span> <span class=\"n\">Any</span><span class=\"p\">,</span>\n",
       "            <span class=\"n\">collection_name</span><span class=\"p\">:</span> <span class=\"nb\">str</span> <span class=\"o\">=</span> <span class=\"s1\">&#39;f01&#39;</span><span class=\"p\">,</span>\n",
       "            <span class=\"n\">mprim_index</span><span class=\"p\">:</span> <span class=\"nb\">int</span> <span class=\"o\">=</span> <span class=\"mi\">0</span><span class=\"p\">,</span>\n",
       "            <span class=\"n\">start</span><span class=\"p\">:</span> <span class=\"nb\">float</span> <span class=\"o\">=</span> <span class=\"mf\">0.1</span><span class=\"p\">,</span>\n",
       "            <span class=\"n\">stop</span><span class=\"p\">:</span> <span class=\"nb\">float</span> <span class=\"o\">=</span> <span class=\"mf\">1.0</span><span class=\"p\">,</span>\n",
       "            <span class=\"n\">step</span><span class=\"p\">:</span> <span class=\"nb\">float</span> <span class=\"o\">=</span> <span class=\"mf\">0.1</span><span class=\"p\">,</span>\n",
       "            <span class=\"n\">fit</span><span class=\"p\">:</span> <span class=\"nb\">bool</span> <span class=\"o\">=</span> <span class=\"kc\">True</span><span class=\"p\">)</span> <span class=\"o\">-&gt;</span> <span class=\"kc\">None</span><span class=\"p\">:</span>\n",
       "<span class=\"w\">        </span><span class=\"sd\">&quot;&quot;&quot;</span>\n",
       "<span class=\"sd\">        Run the T1 experiment on a given qubit and analyze the results.</span>\n",
       "\n",
       "<span class=\"sd\">        Parameters:</span>\n",
       "<span class=\"sd\">        dut_qubit (Any): Device under test (DUT) qubit object.</span>\n",
       "<span class=\"sd\">        collection_name (str): Collection name for retrieving c1. Default is &#39;f01&#39;.</span>\n",
       "<span class=\"sd\">        mprim_index (int): Index for retrieving measurement primitive. Default is 0.</span>\n",
       "<span class=\"sd\">        start (float): Start time for the delay sweep. Default is 0.1.</span>\n",
       "<span class=\"sd\">        stop (float): Stop time for the delay sweep. Default is 1.0.</span>\n",
       "<span class=\"sd\">        step (float): Step time for the delay sweep. Default is 0.1.</span>\n",
       "<span class=\"sd\">        fit (bool): Whether to fit the resulting data to an exponential decay curve. Default is True.</span>\n",
       "<span class=\"sd\">        &quot;&quot;&quot;</span>\n",
       "        <span class=\"n\">c1</span> <span class=\"o\">=</span> <span class=\"n\">dut_qubit</span><span class=\"o\">.</span><span class=\"n\">get_c1</span><span class=\"p\">(</span><span class=\"n\">collection_name</span><span class=\"p\">)</span>\n",
       "        <span class=\"n\">pi_pulse</span> <span class=\"o\">=</span> <span class=\"n\">c1</span><span class=\"p\">[</span><span class=\"s1\">&#39;X&#39;</span><span class=\"p\">]</span><span class=\"o\">.</span><span class=\"n\">clone</span><span class=\"p\">()</span>\n",
       "        <span class=\"n\">pi_pulse</span><span class=\"o\">.</span><span class=\"n\">update_pulse_args</span><span class=\"p\">(</span><span class=\"n\">amp</span><span class=\"o\">=</span><span class=\"mf\">1.0</span><span class=\"p\">,</span> <span class=\"n\">phase</span><span class=\"o\">=</span><span class=\"mf\">0.0</span><span class=\"p\">,</span> <span class=\"n\">shape</span><span class=\"o\">=</span><span class=\"s1\">&#39;square&#39;</span><span class=\"p\">,</span> <span class=\"n\">width</span><span class=\"o\">=</span><span class=\"mf\">1.0</span><span class=\"p\">)</span>\n",
       "        <span class=\"n\">delay_sweeper</span> <span class=\"o\">=</span> <span class=\"n\">Sweeper</span><span class=\"p\">(</span><span class=\"n\">np</span><span class=\"o\">.</span><span class=\"n\">arange</span><span class=\"p\">,</span> <span class=\"n\">n_kwargs</span><span class=\"o\">=</span><span class=\"p\">{</span><span class=\"s1\">&#39;start&#39;</span><span class=\"p\">:</span> <span class=\"n\">start</span><span class=\"p\">,</span> <span class=\"s1\">&#39;stop&#39;</span><span class=\"p\">:</span> <span class=\"n\">stop</span><span class=\"p\">,</span> <span class=\"s1\">&#39;step&#39;</span><span class=\"p\">:</span> <span class=\"n\">step</span><span class=\"p\">},</span> <span class=\"n\">params</span><span class=\"o\">=</span><span class=\"p\">[</span><span class=\"n\">SweepParametersSideEffectFactory</span><span class=\"o\">.</span><span class=\"n\">func</span><span class=\"p\">(</span><span class=\"n\">pi_pulse</span><span class=\"o\">.</span><span class=\"n\">update_pulse_args</span><span class=\"p\">,</span> <span class=\"p\">{},</span> <span class=\"s1\">&#39;delay_time&#39;</span><span class=\"p\">)])</span>\n",
       "        <span class=\"n\">mprim</span> <span class=\"o\">=</span> <span class=\"n\">dut_qubit</span><span class=\"o\">.</span><span class=\"n\">get_measurement_prim_intlist</span><span class=\"p\">(</span><span class=\"n\">mprim_index</span><span class=\"p\">)</span>\n",
       "        <span class=\"n\">lpb</span> <span class=\"o\">=</span> <span class=\"n\">pi_pulse</span> <span class=\"o\">+</span> <span class=\"n\">DelayPrimitive</span><span class=\"p\">({</span><span class=\"s1\">&#39;delay_time&#39;</span><span class=\"p\">:</span> <span class=\"mi\">0</span><span class=\"p\">})</span> <span class=\"o\">+</span> <span class=\"n\">mprim</span>\n",
       "        <span class=\"n\">basic</span><span class=\"p\">(</span><span class=\"n\">lpb</span><span class=\"p\">,</span> <span class=\"n\">delay_sweeper</span><span class=\"p\">,</span> <span class=\"s1\">&#39;&lt;z&gt;&#39;</span><span class=\"p\">)</span>\n",
       "        <span class=\"bp\">self</span><span class=\"o\">.</span><span class=\"n\">data</span> <span class=\"o\">=</span> <span class=\"n\">np</span><span class=\"o\">.</span><span class=\"n\">squeeze</span><span class=\"p\">(</span><span class=\"n\">mprim</span><span class=\"o\">.</span><span class=\"n\">result</span><span class=\"p\">())</span>\n",
       "        <span class=\"k\">if</span> <span class=\"n\">fit</span><span class=\"p\">:</span>\n",
       "            <span class=\"bp\">self</span><span class=\"o\">.</span><span class=\"n\">fit_params</span> <span class=\"o\">=</span> <span class=\"bp\">self</span><span class=\"o\">.</span><span class=\"n\">fit_decay_curve</span><span class=\"p\">(</span><span class=\"bp\">self</span><span class=\"o\">.</span><span class=\"n\">data</span><span class=\"p\">,</span> <span class=\"n\">time_step</span><span class=\"o\">=</span><span class=\"n\">step</span><span class=\"p\">)</span>\n",
       "\n",
       "    <span class=\"k\">def</span> <span class=\"nf\">data_analysis</span><span class=\"p\">(</span><span class=\"bp\">self</span><span class=\"p\">)</span> <span class=\"o\">-&gt;</span> <span class=\"kc\">None</span><span class=\"p\">:</span>\n",
       "<span class=\"w\">        </span><span class=\"sd\">&quot;&quot;&quot;</span>\n",
       "<span class=\"sd\">        Analyze the data obtained from the experiment and fit it to an exponential decay curve.</span>\n",
       "<span class=\"sd\">        &quot;&quot;&quot;</span>\n",
       "        <span class=\"n\">result</span> <span class=\"o\">=</span> <span class=\"n\">fit_exp_decay_with_cov</span><span class=\"p\">(</span><span class=\"bp\">self</span><span class=\"o\">.</span><span class=\"n\">data</span><span class=\"p\">,</span> <span class=\"bp\">self</span><span class=\"o\">.</span><span class=\"n\">step</span><span class=\"p\">)</span>\n",
       "        <span class=\"bp\">self</span><span class=\"o\">.</span><span class=\"n\">fit_params</span> <span class=\"o\">=</span> <span class=\"p\">{</span>\n",
       "            <span class=\"s1\">&#39;Amplitude&#39;</span><span class=\"p\">:</span> <span class=\"n\">result</span><span class=\"p\">[</span><span class=\"s1\">&#39;Amplitude&#39;</span><span class=\"p\">]</span><span class=\"o\">.</span><span class=\"n\">nominal_value</span><span class=\"p\">,</span>\n",
       "            <span class=\"s1\">&#39;Offset&#39;</span><span class=\"p\">:</span> <span class=\"n\">result</span><span class=\"p\">[</span><span class=\"s1\">&#39;Offset&#39;</span><span class=\"p\">]</span><span class=\"o\">.</span><span class=\"n\">nominal_value</span><span class=\"p\">,</span>\n",
       "            <span class=\"s1\">&#39;Decay&#39;</span><span class=\"p\">:</span> <span class=\"n\">result</span><span class=\"p\">[</span><span class=\"s1\">&#39;Decay&#39;</span><span class=\"p\">]</span><span class=\"o\">.</span><span class=\"n\">nominal_value</span><span class=\"p\">,</span>\n",
       "            <span class=\"s1\">&#39;Cov&#39;</span><span class=\"p\">:</span> <span class=\"n\">result</span><span class=\"p\">[</span><span class=\"s1\">&#39;Cov&#39;</span><span class=\"p\">]</span>\n",
       "        <span class=\"p\">}</span>\n",
       "\n",
       "    <span class=\"k\">def</span> <span class=\"nf\">data_visualization</span><span class=\"p\">(</span><span class=\"bp\">self</span><span class=\"p\">)</span> <span class=\"o\">-&gt;</span> <span class=\"n\">plt</span><span class=\"o\">.</span><span class=\"n\">Figure</span><span class=\"p\">:</span>\n",
       "<span class=\"w\">        </span><span class=\"sd\">&quot;&quot;&quot;</span>\n",
       "<span class=\"sd\">        Visualize the data obtained from the experiment and the fitted results.</span>\n",
       "\n",
       "<span class=\"sd\">        Returns:</span>\n",
       "<span class=\"sd\">        plt.Figure: Matplotlib figure.</span>\n",
       "<span class=\"sd\">        &quot;&quot;&quot;</span>\n",
       "        <span class=\"bp\">self</span><span class=\"o\">.</span><span class=\"n\">data_analysis</span><span class=\"p\">()</span>\n",
       "\n",
       "        <span class=\"n\">t</span> <span class=\"o\">=</span> <span class=\"bp\">self</span><span class=\"o\">.</span><span class=\"n\">data</span><span class=\"p\">[</span><span class=\"s1\">&#39;time&#39;</span><span class=\"p\">]</span>\n",
       "        <span class=\"n\">excited_state_population</span> <span class=\"o\">=</span> <span class=\"bp\">self</span><span class=\"o\">.</span><span class=\"n\">data</span><span class=\"p\">[</span><span class=\"s1\">&#39;excited_state_population&#39;</span><span class=\"p\">]</span>\n",
       "\n",
       "        <span class=\"n\">fitted_population</span> <span class=\"o\">=</span> <span class=\"bp\">self</span><span class=\"o\">.</span><span class=\"n\">fit_params</span><span class=\"p\">[</span><span class=\"s1\">&#39;Amplitude&#39;</span><span class=\"p\">]</span> <span class=\"o\">*</span> <span class=\"n\">np</span><span class=\"o\">.</span><span class=\"n\">exp</span><span class=\"p\">(</span><span class=\"o\">-</span><span class=\"bp\">self</span><span class=\"o\">.</span><span class=\"n\">fit_params</span><span class=\"p\">[</span><span class=\"s1\">&#39;Decay&#39;</span><span class=\"p\">]</span> <span class=\"o\">*</span> <span class=\"n\">t</span><span class=\"p\">)</span> <span class=\"o\">+</span> <span class=\"bp\">self</span><span class=\"o\">.</span><span class=\"n\">fit_params</span><span class=\"p\">[</span><span class=\"s1\">&#39;Offset&#39;</span><span class=\"p\">]</span>\n",
       "\n",
       "        <span class=\"n\">plt</span><span class=\"o\">.</span><span class=\"n\">figure</span><span class=\"p\">()</span>\n",
       "        <span class=\"n\">plt</span><span class=\"o\">.</span><span class=\"n\">plot</span><span class=\"p\">(</span><span class=\"n\">t</span><span class=\"p\">,</span> <span class=\"n\">excited_state_population</span><span class=\"p\">,</span> <span class=\"s1\">&#39;o&#39;</span><span class=\"p\">,</span> <span class=\"n\">label</span><span class=\"o\">=</span><span class=\"s1\">&#39;Data Points&#39;</span><span class=\"p\">)</span>\n",
       "        <span class=\"n\">plt</span><span class=\"o\">.</span><span class=\"n\">plot</span><span class=\"p\">(</span><span class=\"n\">t</span><span class=\"p\">,</span> <span class=\"n\">fitted_population</span><span class=\"p\">,</span> <span class=\"n\">label</span><span class=\"o\">=</span><span class=\"s1\">&#39;Fitted Results&#39;</span><span class=\"p\">)</span>\n",
       "        <span class=\"n\">plt</span><span class=\"o\">.</span><span class=\"n\">xlabel</span><span class=\"p\">(</span><span class=\"s1\">&#39;Time (t)&#39;</span><span class=\"p\">)</span>\n",
       "        <span class=\"n\">plt</span><span class=\"o\">.</span><span class=\"n\">ylabel</span><span class=\"p\">(</span><span class=\"s1\">&#39;Excited State Population&#39;</span><span class=\"p\">)</span>\n",
       "        <span class=\"n\">plt</span><span class=\"o\">.</span><span class=\"n\">legend</span><span class=\"p\">()</span>\n",
       "\n",
       "        <span class=\"k\">return</span> <span class=\"n\">plt</span><span class=\"o\">.</span><span class=\"n\">gcf</span><span class=\"p\">()</span>\n",
       "</pre></div>\n",
       "\n",
       "        </div>\n",
       "\n",
       "    </p>\n",
       "    "
      ],
      "text/plain": [
       "<IPython.core.display.HTML object>"
      ]
     },
     "metadata": {},
     "output_type": "display_data"
    },
    {
     "data": {
      "text/plain": [
       "'from labchronicle import log_and_record, register_browser_function\\nfrom leeq import Experiment, Sweeper, SweepParametersSideEffectFactory, basic_run\\nfrom leeq.core.primitives.logical_primitives import LogicalPrimitiveBlock\\nfrom leeq.utils.compatibility import prims\\nimport numpy as np\\nfrom scipy.optimize import minimize\\nimport matplotlib.pyplot as plt\\n\\nclass T1Experiment(Experiment):\\n    \"\"\"\\n    Class for measuring the T1 time of a qubit by preparing it in the excited state,\\n    allowing it to decay over time, and fitting the excited state population versus time.\\n    \"\"\"\\n\\n    @log_and_record\\n    def run(self,\\n            dut_qubit: Any,\\n            collection_name: str = \\'f01\\',\\n            mprim_index: int = 0,\\n            start: float = 0.1,\\n            stop: float = 1.0,\\n            step: float = 0.1,\\n            fit: bool = True) -> None:\\n        \"\"\"\\n        Run the T1 experiment on a given qubit and analyze the results.\\n\\n        Parameters:\\n        dut_qubit (Any): Device under test (DUT) qubit object.\\n        collection_name (str): Collection name for retrieving c1. Default is \\'f01\\'.\\n        mprim_index (int): Index for retrieving measurement primitive. Default is 0.\\n        start (float): Start time for the delay sweep. Default is 0.1.\\n        stop (float): Stop time for the delay sweep. Default is 1.0.\\n        step (float): Step time for the delay sweep. Default is 0.1.\\n        fit (bool): Whether to fit the resulting data to an exponential decay curve. Default is True.\\n        \"\"\"\\n        c1 = dut_qubit.get_c1(collection_name)\\n        pi_pulse = c1[\\'X\\'].clone()\\n        pi_pulse.update_pulse_args(amp=1.0, phase=0.0, shape=\\'square\\', width=1.0)\\n        delay_sweeper = Sweeper(np.arange, n_kwargs={\\'start\\': start, \\'stop\\': stop, \\'step\\': step}, params=[SweepParametersSideEffectFactory.func(pi_pulse.update_pulse_args, {}, \\'delay_time\\')])\\n        mprim = dut_qubit.get_measurement_prim_intlist(mprim_index)\\n        lpb = pi_pulse + DelayPrimitive({\\'delay_time\\': 0}) + mprim\\n        basic(lpb, delay_sweeper, \\'<z>\\')\\n        self.data = np.squeeze(mprim.result())\\n        if fit:\\n            self.fit_params = self.fit_decay_curve(self.data, time_step=step)\\n\\n    def data_analysis(self) -> None:\\n        \"\"\"\\n        Analyze the data obtained from the experiment and fit it to an exponential decay curve.\\n        \"\"\"\\n        result = fit_exp_decay_with_cov(self.data, self.step)\\n        self.fit_params = {\\n            \\'Amplitude\\': result[\\'Amplitude\\'].nominal_value,\\n            \\'Offset\\': result[\\'Offset\\'].nominal_value,\\n            \\'Decay\\': result[\\'Decay\\'].nominal_value,\\n            \\'Cov\\': result[\\'Cov\\']\\n        }\\n\\n    def data_visualization(self) -> plt.Figure:\\n        \"\"\"\\n        Visualize the data obtained from the experiment and the fitted results.\\n\\n        Returns:\\n        plt.Figure: Matplotlib figure.\\n        \"\"\"\\n        self.data_analysis()\\n\\n        t = self.data[\\'time\\']\\n        excited_state_population = self.data[\\'excited_state_population\\']\\n\\n        fitted_population = self.fit_params[\\'Amplitude\\'] * np.exp(-self.fit_params[\\'Decay\\'] * t) + self.fit_params[\\'Offset\\']\\n\\n        plt.figure()\\n        plt.plot(t, excited_state_population, \\'o\\', label=\\'Data Points\\')\\n        plt.plot(t, fitted_population, label=\\'Fitted Results\\')\\n        plt.xlabel(\\'Time (t)\\')\\n        plt.ylabel(\\'Excited State Population\\')\\n        plt.legend()\\n\\n        return plt.gcf()'"
      ]
     },
     "execution_count": 3,
     "metadata": {},
     "output_type": "execute_result"
    }
   ],
   "source": [
    "generate_experiment(description)"
   ]
  },
  {
   "cell_type": "code",
   "execution_count": 4,
   "id": "160e2b16-0273-4bf4-9ad3-a1eb2635ff50",
   "metadata": {},
   "outputs": [],
   "source": [
    "description = \"\"\"\n",
    "\n",
    "Please measure the T2 echo time of the qubit in the following way:\n",
    "1. Prepare the qubit to the super position state by applying a pi/2 pulse.\n",
    "2. Delay a time t, sweep time t \n",
    "3. apply a X gate to flip the qubit\n",
    "4. Delay a same amount of time t\n",
    "5. applying a pi/2 pulse.\n",
    "6. Measure the qubit after the decay time.\n",
    "7. fit the qubit excited state population versus time t.\n",
    "8. Plot the excited state population versus time t both the data points and the fitted results. \n",
    "\n",
    "\"\"\""
   ]
  },
  {
   "cell_type": "code",
   "execution_count": 5,
   "id": "257083be-ecb8-4d8e-84dc-9d089be0289f",
   "metadata": {},
   "outputs": [
    {
     "data": {
      "application/vnd.jupyter.widget-view+json": {
       "model_id": "9bb7582bfd284a19ba9b8fa82b4c3fd5",
       "version_major": 2,
       "version_minor": 0
      },
      "text/plain": [
       "Experiment Generation Progress:   0%|          | 0/5 [00:00<?, ?it/s]"
      ]
     },
     "metadata": {},
     "output_type": "display_data"
    },
    {
     "data": {
      "text/html": [
       "\n",
       "    <p style=\"background-color: #F8F8FF; padding: 20px; border-radius: 8px; color: #333;\">\n",
       "        <strong>Experiment generation agent:</strong> \n",
       "        <div style=\"background: #f8f8f8; padding: 10px; border-radius: 5px; overflow: auto; margin-top: 8px;\">\n",
       "            <div class=\"highlight\"><pre><span></span><span class=\"kn\">from</span> <span class=\"nn\">labchronicle</span> <span class=\"kn\">import</span> <span class=\"n\">log_and_record</span><span class=\"p\">,</span> <span class=\"n\">register_browser_function</span>\n",
       "<span class=\"kn\">from</span> <span class=\"nn\">leeq</span> <span class=\"kn\">import</span> <span class=\"n\">Experiment</span><span class=\"p\">,</span> <span class=\"n\">Sweeper</span><span class=\"p\">,</span> <span class=\"n\">SweepParametersSideEffectFactory</span><span class=\"p\">,</span> <span class=\"n\">basic_run</span>\n",
       "<span class=\"kn\">from</span> <span class=\"nn\">leeq.core.primitives.logical_primitives</span> <span class=\"kn\">import</span> <span class=\"n\">LogicalPrimitiveBlock</span>\n",
       "<span class=\"kn\">from</span> <span class=\"nn\">leeq.setups.built_in.setup_simulation_high_level</span> <span class=\"kn\">import</span> <span class=\"n\">HighLevelSimulationSetup</span>\n",
       "<span class=\"kn\">from</span> <span class=\"nn\">leeq.utils.compatibility</span> <span class=\"kn\">import</span> <span class=\"n\">prims</span>\n",
       "<span class=\"kn\">from</span> <span class=\"nn\">leeq.theory.fits</span> <span class=\"kn\">import</span> <span class=\"n\">fit_exp_decay_with_cov</span>\n",
       "<span class=\"kn\">import</span> <span class=\"nn\">numpy</span> <span class=\"k\">as</span> <span class=\"nn\">np</span>\n",
       "<span class=\"kn\">import</span> <span class=\"nn\">matplotlib.pyplot</span> <span class=\"k\">as</span> <span class=\"nn\">plt</span>\n",
       "\n",
       "<span class=\"k\">class</span> <span class=\"nc\">T2EchoExperiment</span><span class=\"p\">(</span><span class=\"n\">Experiment</span><span class=\"p\">):</span>\n",
       "<span class=\"w\">    </span><span class=\"sd\">&quot;&quot;&quot;</span>\n",
       "<span class=\"sd\">    Class for measuring the T2 echo time of a qubit by preparing it in a superposition state,</span>\n",
       "<span class=\"sd\">    applying specific pulse sequences, and analyzing the decay of the excited state population over time.</span>\n",
       "<span class=\"sd\">    &quot;&quot;&quot;</span>\n",
       "\n",
       "    <span class=\"nd\">@log_and_record</span>\n",
       "    <span class=\"k\">def</span> <span class=\"nf\">run</span><span class=\"p\">(</span><span class=\"bp\">self</span><span class=\"p\">,</span>\n",
       "            <span class=\"n\">dut_qubit</span><span class=\"p\">:</span> <span class=\"n\">Any</span><span class=\"p\">,</span>\n",
       "            <span class=\"n\">t</span><span class=\"p\">:</span> <span class=\"nb\">float</span><span class=\"p\">,</span>\n",
       "            <span class=\"n\">collection_name</span><span class=\"p\">:</span> <span class=\"nb\">str</span> <span class=\"o\">=</span> <span class=\"s1\">&#39;f01&#39;</span><span class=\"p\">,</span>\n",
       "            <span class=\"n\">mprim_index</span><span class=\"p\">:</span> <span class=\"nb\">int</span> <span class=\"o\">=</span> <span class=\"mi\">0</span><span class=\"p\">)</span> <span class=\"o\">-&gt;</span> <span class=\"n\">Dict</span><span class=\"p\">[</span><span class=\"nb\">str</span><span class=\"p\">,</span> <span class=\"nb\">float</span><span class=\"p\">]:</span>\n",
       "<span class=\"w\">        </span><span class=\"sd\">&quot;&quot;&quot;</span>\n",
       "<span class=\"sd\">        Run the T2 echo experiment on a given qubit and analyze the results.</span>\n",
       "\n",
       "<span class=\"sd\">        Parameters:</span>\n",
       "<span class=\"sd\">        dut_qubit (Any): Device under test (DUT) qubit object.</span>\n",
       "<span class=\"sd\">        t (float): Delay time for the experiment.</span>\n",
       "<span class=\"sd\">        collection_name (str): Collection name for retrieving c1. Default is &#39;f01&#39;.</span>\n",
       "<span class=\"sd\">        mprim_index (int): Index for retrieving measurement primitive. Default is 0.</span>\n",
       "\n",
       "<span class=\"sd\">        Returns:</span>\n",
       "<span class=\"sd\">        Dict[str, float]: Fit parameters of the decay curve.</span>\n",
       "\n",
       "<span class=\"sd\">        Example:</span>\n",
       "<span class=\"sd\">            &gt;&gt;&gt; # Run an experiment to measure T2 echo time</span>\n",
       "<span class=\"sd\">            &gt;&gt;&gt; t2_echo_experiment = T2EchoExperiment()</span>\n",
       "<span class=\"sd\">            &gt;&gt;&gt; fit_params = t2_echo_experiment.run(dut_qubit=dut, t=0.1, collection_name=&#39;f01&#39;, mprim_index=0)</span>\n",
       "<span class=\"sd\">        &quot;&quot;&quot;</span>\n",
       "        <span class=\"n\">c1</span> <span class=\"o\">=</span> <span class=\"n\">dut_qubit</span><span class=\"o\">.</span><span class=\"n\">get_c1</span><span class=\"p\">(</span><span class=\"n\">collection_name</span><span class=\"p\">)</span>\n",
       "        <span class=\"n\">pi_half_pulse</span> <span class=\"o\">=</span> <span class=\"n\">c1</span><span class=\"p\">[</span><span class=\"s1\">&#39;Yp&#39;</span><span class=\"p\">]</span><span class=\"o\">.</span><span class=\"n\">clone</span><span class=\"p\">()</span>\n",
       "        <span class=\"n\">x_gate</span> <span class=\"o\">=</span> <span class=\"n\">c1</span><span class=\"p\">[</span><span class=\"s1\">&#39;X&#39;</span><span class=\"p\">]</span><span class=\"o\">.</span><span class=\"n\">clone</span><span class=\"p\">()</span>\n",
       "        <span class=\"n\">delay_time</span> <span class=\"o\">=</span> <span class=\"p\">{</span><span class=\"s1\">&#39;delay_time&#39;</span><span class=\"p\">:</span> <span class=\"n\">t</span><span class=\"p\">}</span>\n",
       "        <span class=\"n\">delay</span> <span class=\"o\">=</span> <span class=\"n\">DelayPrimitive</span><span class=\"p\">(</span><span class=\"n\">delay_time</span><span class=\"p\">)</span>\n",
       "        <span class=\"n\">lpb</span> <span class=\"o\">=</span> <span class=\"n\">pi_half_pulse</span> <span class=\"o\">+</span> <span class=\"n\">delay</span> <span class=\"o\">+</span> <span class=\"n\">x_gate</span> <span class=\"o\">+</span> <span class=\"n\">delay</span> <span class=\"o\">+</span> <span class=\"n\">pi_half_pulse</span> <span class=\"o\">+</span> <span class=\"n\">dut_qubit</span><span class=\"o\">.</span><span class=\"n\">get_measurement_prim_intlist</span><span class=\"p\">(</span><span class=\"n\">mprim_index</span><span class=\"p\">)</span>\n",
       "        <span class=\"n\">basic</span><span class=\"p\">(</span><span class=\"n\">lpb</span><span class=\"p\">,</span> <span class=\"kc\">None</span><span class=\"p\">,</span> <span class=\"s1\">&#39;&lt;z&gt;&#39;</span><span class=\"p\">)</span>\n",
       "        <span class=\"bp\">self</span><span class=\"o\">.</span><span class=\"n\">data</span> <span class=\"o\">=</span> <span class=\"n\">np</span><span class=\"o\">.</span><span class=\"n\">squeeze</span><span class=\"p\">(</span><span class=\"n\">mprim</span><span class=\"o\">.</span><span class=\"n\">result</span><span class=\"p\">())</span>\n",
       "        <span class=\"bp\">self</span><span class=\"o\">.</span><span class=\"n\">fit_params</span> <span class=\"o\">=</span> <span class=\"bp\">self</span><span class=\"o\">.</span><span class=\"n\">fit_decay_curve</span><span class=\"p\">(</span><span class=\"bp\">self</span><span class=\"o\">.</span><span class=\"n\">data</span><span class=\"p\">,</span> <span class=\"n\">time_step</span><span class=\"o\">=</span><span class=\"n\">t</span><span class=\"p\">)</span>\n",
       "        <span class=\"k\">return</span> <span class=\"bp\">self</span><span class=\"o\">.</span><span class=\"n\">fit_params</span>\n",
       "\n",
       "    <span class=\"k\">def</span> <span class=\"nf\">fit_decay_curve</span><span class=\"p\">(</span><span class=\"bp\">self</span><span class=\"p\">,</span> <span class=\"n\">data</span><span class=\"p\">:</span> <span class=\"n\">np</span><span class=\"o\">.</span><span class=\"n\">ndarray</span><span class=\"p\">,</span> <span class=\"n\">time_step</span><span class=\"p\">:</span> <span class=\"nb\">float</span><span class=\"p\">)</span> <span class=\"o\">-&gt;</span> <span class=\"n\">Dict</span><span class=\"p\">[</span><span class=\"nb\">str</span><span class=\"p\">,</span> <span class=\"nb\">float</span><span class=\"p\">]:</span>\n",
       "<span class=\"w\">        </span><span class=\"sd\">&quot;&quot;&quot;</span>\n",
       "<span class=\"sd\">        Fit an exponential decay curve to the experimental data.</span>\n",
       "\n",
       "<span class=\"sd\">        Parameters:</span>\n",
       "<span class=\"sd\">        data (np.ndarray): The experimental data array.</span>\n",
       "<span class=\"sd\">        time_step (float): The time step between data points.</span>\n",
       "\n",
       "<span class=\"sd\">        Returns:</span>\n",
       "<span class=\"sd\">        Dict[str, float]: Fit parameters of the decay curve.</span>\n",
       "<span class=\"sd\">        &quot;&quot;&quot;</span>\n",
       "        <span class=\"n\">result</span> <span class=\"o\">=</span> <span class=\"n\">fit_exp_decay_with_cov</span><span class=\"p\">(</span><span class=\"n\">data</span><span class=\"p\">,</span> <span class=\"n\">dt</span><span class=\"o\">=</span><span class=\"n\">time_step</span><span class=\"p\">)</span>\n",
       "        <span class=\"k\">return</span> <span class=\"p\">{</span>\n",
       "            <span class=\"s1\">&#39;Amplitude&#39;</span><span class=\"p\">:</span> <span class=\"n\">result</span><span class=\"p\">[</span><span class=\"s1\">&#39;Amplitude&#39;</span><span class=\"p\">]</span><span class=\"o\">.</span><span class=\"n\">nominal_value</span><span class=\"p\">,</span>\n",
       "            <span class=\"s1\">&#39;Offset&#39;</span><span class=\"p\">:</span> <span class=\"n\">result</span><span class=\"p\">[</span><span class=\"s1\">&#39;Offset&#39;</span><span class=\"p\">]</span><span class=\"o\">.</span><span class=\"n\">nominal_value</span><span class=\"p\">,</span>\n",
       "            <span class=\"s1\">&#39;Decay&#39;</span><span class=\"p\">:</span> <span class=\"n\">result</span><span class=\"p\">[</span><span class=\"s1\">&#39;Decay&#39;</span><span class=\"p\">]</span><span class=\"o\">.</span><span class=\"n\">nominal_value</span><span class=\"p\">,</span>\n",
       "            <span class=\"s1\">&#39;Cov&#39;</span><span class=\"p\">:</span> <span class=\"n\">result</span><span class=\"p\">[</span><span class=\"s1\">&#39;Cov&#39;</span><span class=\"p\">]</span>\n",
       "        <span class=\"p\">}</span>\n",
       "\n",
       "    <span class=\"k\">def</span> <span class=\"nf\">data_visualization</span><span class=\"p\">(</span><span class=\"bp\">self</span><span class=\"p\">)</span> <span class=\"o\">-&gt;</span> <span class=\"n\">plt</span><span class=\"o\">.</span><span class=\"n\">Figure</span><span class=\"p\">:</span>\n",
       "<span class=\"w\">        </span><span class=\"sd\">&quot;&quot;&quot;</span>\n",
       "<span class=\"sd\">        Visualize the experimental data and the fitted curve.</span>\n",
       "\n",
       "<span class=\"sd\">        Returns:</span>\n",
       "<span class=\"sd\">        plt.Figure: Matplotlib figure.</span>\n",
       "<span class=\"sd\">        &quot;&quot;&quot;</span>\n",
       "        <span class=\"bp\">self</span><span class=\"o\">.</span><span class=\"n\">data_analysis</span><span class=\"p\">()</span>\n",
       "\n",
       "        <span class=\"n\">plt</span><span class=\"o\">.</span><span class=\"n\">scatter</span><span class=\"p\">(</span><span class=\"bp\">self</span><span class=\"o\">.</span><span class=\"n\">time</span><span class=\"p\">,</span> <span class=\"bp\">self</span><span class=\"o\">.</span><span class=\"n\">data</span><span class=\"p\">,</span> <span class=\"n\">label</span><span class=\"o\">=</span><span class=\"s1\">&#39;Experimental Data&#39;</span><span class=\"p\">)</span>\n",
       "\n",
       "        <span class=\"n\">fitted_curve</span> <span class=\"o\">=</span> <span class=\"bp\">self</span><span class=\"o\">.</span><span class=\"n\">amplitude</span> <span class=\"o\">*</span> <span class=\"n\">np</span><span class=\"o\">.</span><span class=\"n\">exp</span><span class=\"p\">(</span><span class=\"o\">-</span><span class=\"bp\">self</span><span class=\"o\">.</span><span class=\"n\">decay_constant</span> <span class=\"o\">*</span> <span class=\"bp\">self</span><span class=\"o\">.</span><span class=\"n\">time</span><span class=\"p\">)</span> <span class=\"o\">+</span> <span class=\"bp\">self</span><span class=\"o\">.</span><span class=\"n\">offset</span>\n",
       "        <span class=\"n\">plt</span><span class=\"o\">.</span><span class=\"n\">plot</span><span class=\"p\">(</span><span class=\"bp\">self</span><span class=\"o\">.</span><span class=\"n\">time</span><span class=\"p\">,</span> <span class=\"n\">fitted_curve</span><span class=\"p\">,</span> <span class=\"n\">label</span><span class=\"o\">=</span><span class=\"s1\">&#39;Fitted Curve&#39;</span><span class=\"p\">,</span> <span class=\"n\">color</span><span class=\"o\">=</span><span class=\"s1\">&#39;red&#39;</span><span class=\"p\">)</span>\n",
       "\n",
       "        <span class=\"n\">plt</span><span class=\"o\">.</span><span class=\"n\">xlabel</span><span class=\"p\">(</span><span class=\"s1\">&#39;Time t&#39;</span><span class=\"p\">)</span>\n",
       "        <span class=\"n\">plt</span><span class=\"o\">.</span><span class=\"n\">ylabel</span><span class=\"p\">(</span><span class=\"s1\">&#39;Excited State Population&#39;</span><span class=\"p\">)</span>\n",
       "        <span class=\"n\">plt</span><span class=\"o\">.</span><span class=\"n\">title</span><span class=\"p\">(</span><span class=\"s1\">&#39;Excited State Population vs Time&#39;</span><span class=\"p\">)</span>\n",
       "        <span class=\"n\">plt</span><span class=\"o\">.</span><span class=\"n\">legend</span><span class=\"p\">()</span>\n",
       "\n",
       "        <span class=\"k\">return</span> <span class=\"n\">plt</span><span class=\"o\">.</span><span class=\"n\">figure</span><span class=\"p\">()</span>\n",
       "</pre></div>\n",
       "\n",
       "        </div>\n",
       "\n",
       "    </p>\n",
       "    "
      ],
      "text/plain": [
       "<IPython.core.display.HTML object>"
      ]
     },
     "metadata": {},
     "output_type": "display_data"
    },
    {
     "data": {
      "text/plain": [
       "'from labchronicle import log_and_record, register_browser_function\\nfrom leeq import Experiment, Sweeper, SweepParametersSideEffectFactory, basic_run\\nfrom leeq.core.primitives.logical_primitives import LogicalPrimitiveBlock\\nfrom leeq.setups.built_in.setup_simulation_high_level import HighLevelSimulationSetup\\nfrom leeq.utils.compatibility import prims\\nfrom leeq.theory.fits import fit_exp_decay_with_cov\\nimport numpy as np\\nimport matplotlib.pyplot as plt\\n\\nclass T2EchoExperiment(Experiment):\\n    \"\"\"\\n    Class for measuring the T2 echo time of a qubit by preparing it in a superposition state,\\n    applying specific pulse sequences, and analyzing the decay of the excited state population over time.\\n    \"\"\"\\n\\n    @log_and_record\\n    def run(self,\\n            dut_qubit: Any,\\n            t: float,\\n            collection_name: str = \\'f01\\',\\n            mprim_index: int = 0) -> Dict[str, float]:\\n        \"\"\"\\n        Run the T2 echo experiment on a given qubit and analyze the results.\\n\\n        Parameters:\\n        dut_qubit (Any): Device under test (DUT) qubit object.\\n        t (float): Delay time for the experiment.\\n        collection_name (str): Collection name for retrieving c1. Default is \\'f01\\'.\\n        mprim_index (int): Index for retrieving measurement primitive. Default is 0.\\n\\n        Returns:\\n        Dict[str, float]: Fit parameters of the decay curve.\\n\\n        Example:\\n            >>> # Run an experiment to measure T2 echo time\\n            >>> t2_echo_experiment = T2EchoExperiment()\\n            >>> fit_params = t2_echo_experiment.run(dut_qubit=dut, t=0.1, collection_name=\\'f01\\', mprim_index=0)\\n        \"\"\"\\n        c1 = dut_qubit.get_c1(collection_name)\\n        pi_half_pulse = c1[\\'Yp\\'].clone()\\n        x_gate = c1[\\'X\\'].clone()\\n        delay_time = {\\'delay_time\\': t}\\n        delay = DelayPrimitive(delay_time)\\n        lpb = pi_half_pulse + delay + x_gate + delay + pi_half_pulse + dut_qubit.get_measurement_prim_intlist(mprim_index)\\n        basic(lpb, None, \\'<z>\\')\\n        self.data = np.squeeze(mprim.result())\\n        self.fit_params = self.fit_decay_curve(self.data, time_step=t)\\n        return self.fit_params\\n\\n    def fit_decay_curve(self, data: np.ndarray, time_step: float) -> Dict[str, float]:\\n        \"\"\"\\n        Fit an exponential decay curve to the experimental data.\\n\\n        Parameters:\\n        data (np.ndarray): The experimental data array.\\n        time_step (float): The time step between data points.\\n\\n        Returns:\\n        Dict[str, float]: Fit parameters of the decay curve.\\n        \"\"\"\\n        result = fit_exp_decay_with_cov(data, dt=time_step)\\n        return {\\n            \\'Amplitude\\': result[\\'Amplitude\\'].nominal_value,\\n            \\'Offset\\': result[\\'Offset\\'].nominal_value,\\n            \\'Decay\\': result[\\'Decay\\'].nominal_value,\\n            \\'Cov\\': result[\\'Cov\\']\\n        }\\n\\n    def data_visualization(self) -> plt.Figure:\\n        \"\"\"\\n        Visualize the experimental data and the fitted curve.\\n\\n        Returns:\\n        plt.Figure: Matplotlib figure.\\n        \"\"\"\\n        self.data_analysis()\\n\\n        plt.scatter(self.time, self.data, label=\\'Experimental Data\\')\\n\\n        fitted_curve = self.amplitude * np.exp(-self.decay_constant * self.time) + self.offset\\n        plt.plot(self.time, fitted_curve, label=\\'Fitted Curve\\', color=\\'red\\')\\n\\n        plt.xlabel(\\'Time t\\')\\n        plt.ylabel(\\'Excited State Population\\')\\n        plt.title(\\'Excited State Population vs Time\\')\\n        plt.legend()\\n\\n        return plt.figure()'"
      ]
     },
     "execution_count": 5,
     "metadata": {},
     "output_type": "execute_result"
    }
   ],
   "source": [
    "generate_experiment(description)"
   ]
  },
  {
   "cell_type": "code",
   "execution_count": null,
   "id": "c7a9c63f-aedc-43ae-810a-ce725def211f",
   "metadata": {},
   "outputs": [],
   "source": []
  }
 ],
 "metadata": {
  "kernelspec": {
   "display_name": "Python 3 (ipykernel)",
   "language": "python",
   "name": "python3"
  },
  "language_info": {
   "codemirror_mode": {
    "name": "ipython",
    "version": 3
   },
   "file_extension": ".py",
   "mimetype": "text/x-python",
   "name": "python",
   "nbconvert_exporter": "python",
   "pygments_lexer": "ipython3",
   "version": "3.11.7"
  }
 },
 "nbformat": 4,
 "nbformat_minor": 5
}
