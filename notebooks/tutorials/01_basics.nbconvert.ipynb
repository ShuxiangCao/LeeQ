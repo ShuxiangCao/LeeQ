{
 "cells": [
  {
   "cell_type": "markdown",
   "id": "tutorial-basics-intro",
   "metadata": {},
   "source": [
    "# 01 - LeeQ Basics: Introduction to Concepts and Simulation\n",
    "\n",
    "This notebook provides an introduction to LeeQ concepts and demonstrates basic simulation capabilities.\n",
    "\n",
    "## Learning Objectives\n",
    "- Understand core LeeQ concepts\n",
    "- Learn about quantum element abstractions\n",
    "- Practice with simulation backends\n",
    "- Explore Chronicle logging integration\n",
    "\n",
    "## Prerequisites\n",
    "- Basic understanding of quantum computing\n",
    "- Python programming knowledge"
   ]
  },
  {
   "cell_type": "markdown",
   "id": "setup-section",
   "metadata": {},
   "source": [
    "## Setup and Imports\n",
    "\n",
    "First, let's import the necessary LeeQ modules and set up our simulation environment."
   ]
  },
  {
   "cell_type": "code",
   "execution_count": 1,
   "id": "import-leeq",
   "metadata": {
    "execution": {
     "iopub.execute_input": "2025-08-21T18:09:35.209742Z",
     "iopub.status.busy": "2025-08-21T18:09:35.209414Z",
     "iopub.status.idle": "2025-08-21T18:09:37.199746Z",
     "shell.execute_reply": "2025-08-21T18:09:37.198835Z"
    }
   },
   "outputs": [
    {
     "name": "stdout",
     "output_type": "stream",
     "text": [
      "LeeQ imported successfully!\n"
     ]
    }
   ],
   "source": [
    "import leeq\n",
    "import numpy as np\n",
    "from leeq.chronicle import Chronicle, log_and_record\n",
    "from leeq.core.elements.built_in.qudit_transmon import TransmonElement\n",
    "from leeq.setups.built_in.setup_simulation_high_level import HighLevelSimulationSetup\n",
    "from leeq.theory.simulation.numpy.rotated_frame_simulator import VirtualTransmon\n",
    "from leeq.experiments.experiments import ExperimentManager\n",
    "\n",
    "# Import necessary visualization tools\n",
    "import plotly.graph_objects as go\n",
    "import plotly.express as px\n",
    "\n",
    "print(\"LeeQ imported successfully!\")\n",
    "\n",
    "# Core LeeQ imports explanation:\n",
    "# - TransmonElement: Represents a superconducting transmon qubit \n",
    "# - HighLevelSimulationSetup: Simulation backend for quantum experiments\n",
    "# - VirtualTransmon: Simulated transmon with realistic parameters\n",
    "# - Chronicle: Experiment logging and data persistence system\n",
    "# - ExperimentManager: Manages experimental setups and configurations"
   ]
  },
  {
   "cell_type": "markdown",
   "id": "chronicle-section",
   "metadata": {},
   "source": [
    "## Chronicle Integration\n",
    "\n",
    "LeeQ uses Chronicle for experiment logging and data persistence."
   ]
  },
  {
   "cell_type": "code",
   "execution_count": 2,
   "id": "chronicle-setup",
   "metadata": {
    "execution": {
     "iopub.execute_input": "2025-08-21T18:09:37.202026Z",
     "iopub.status.busy": "2025-08-21T18:09:37.201615Z",
     "iopub.status.idle": "2025-08-21T18:09:37.230240Z",
     "shell.execute_reply": "2025-08-21T18:09:37.229569Z"
    }
   },
   "outputs": [
    {
     "name": "stderr",
     "output_type": "stream",
     "text": [
      "[2025-08-21 11:09:37] [INFO] [leeq.chronicle.chronicle] Log started at log/coxious/2025-08/2025-08-21/11.09.37\n"
     ]
    },
    {
     "name": "stderr",
     "output_type": "stream",
     "text": [
      "[2025-08-21 11:09:37] [INFO] [leeq.chronicle.chronicle] Log started at log/coxious/2025-08/2025-08-21/11.09.37\n"
     ]
    },
    {
     "name": "stdout",
     "output_type": "stream",
     "text": [
      "Chronicle logging started successfully!\n",
      "Chronicle features:\n",
      "- Automatic logging of experiment parameters and results\n",
      "- Data persistence across experimental sessions\n",
      "- Hierarchical organization of experimental data\n",
      "- Integration with LeeQ experimental framework\n"
     ]
    }
   ],
   "source": [
    "# Start Chronicle logging\n",
    "Chronicle().start_log()\n",
    "\n",
    "# Chronicle is LeeQ's logging and data persistence system\n",
    "print(\"Chronicle logging started successfully!\")\n",
    "\n",
    "# Chronicle provides comprehensive experiment logging\n",
    "print(\"Chronicle features:\")\n",
    "print(\"- Automatic logging of experiment parameters and results\")\n",
    "print(\"- Data persistence across experimental sessions\")\n",
    "print(\"- Hierarchical organization of experimental data\")\n",
    "print(\"- Integration with LeeQ experimental framework\")\n",
    "\n",
    "# Chronicle automatically logs:\n",
    "# - Function calls and parameters (for LoggableObject methods)\n",
    "# - Experiment results and metadata\n",
    "# - Configuration changes\n",
    "# - Error messages and debugging information"
   ]
  },
  {
   "cell_type": "markdown",
   "id": "concepts-section",
   "metadata": {},
   "source": [
    "## Core LeeQ Concepts\n",
    "\n",
    "### Quantum Elements\n",
    "LeeQ uses quantum elements to represent physical qubits and their properties. The **TransmonElement** is the most common element, representing a superconducting transmon qubit.\n",
    "\n",
    "Key properties of a transmon qubit:\n",
    "- **Frequency**: The transition frequency between qubit levels (typically 4-6 GHz)\n",
    "- **Anharmonicity**: The difference between transition frequencies (typically -200 MHz)\n",
    "- **Coherence times**: T1 (relaxation) and T2 (dephasing) times\n",
    "- **Readout frequency**: The frequency used to measure the qubit state\n",
    "\n",
    "### Simulation Backends  \n",
    "LeeQ provides multiple simulation backends for quantum experiments:\n",
    "- **HighLevelSimulationSetup**: High-level simulation for educational and testing purposes\n",
    "- **VirtualTransmon**: Realistic transmon simulation with noise and decoherence\n",
    "- **Hardware backends**: Interface to actual quantum devices (not covered in this notebook)\n",
    "\n",
    "### Experiment Framework\n",
    "LeeQ experiments follow a consistent pattern:\n",
    "1. **Setup**: Configure the experimental environment\n",
    "2. **Calibration**: Determine optimal parameters\n",
    "3. **Execution**: Run the actual experiment  \n",
    "4. **Analysis**: Process and visualize results"
   ]
  },
  {
   "cell_type": "code",
   "execution_count": 3,
   "id": "basic-simulation",
   "metadata": {
    "execution": {
     "iopub.execute_input": "2025-08-21T18:09:37.232328Z",
     "iopub.status.busy": "2025-08-21T18:09:37.232014Z",
     "iopub.status.idle": "2025-08-21T18:09:37.247008Z",
     "shell.execute_reply": "2025-08-21T18:09:37.246439Z"
    }
   },
   "outputs": [
    {
     "name": "stderr",
     "output_type": "stream",
     "text": [
      "[2025-08-21 11:09:37] [INFO] [leeq.utils.utils] JSON data: {'lpb_collections': {'f01': {'alpha': 500,\n",
      "                             'amp': 0.5,\n",
      "                             'channel': 1,\n",
      "                             'freq': 5040.0,\n",
      "                             'phase': 0.0,\n",
      "                             'shape': 'blackman_drag',\n",
      "                             'transition_name': 'f01',\n",
      "                             'trunc': 1.2,\n",
      "                             'type': 'SimpleDriveCollection',\n",
      "                             'width': 0.05}},\n",
      " 'measurement_primitives': {'0': {'amp': 0.15,\n",
      "                                  'channel': 1,\n",
      "                                  'distinguishable_states': [0, 1],\n",
      "                                  'freq': 9645.0,\n",
      "                                  'phase': 0.0,\n",
      "                                  'shape': 'square',\n",
      "                                  'trunc': 1.2,\n",
      "                                  'type': 'SimpleDispersiveMeasurement',\n",
      "                                  'width': 1.0}}}\n"
     ]
    },
    {
     "name": "stdout",
     "output_type": "stream",
     "text": [
      "Virtual Transmon Properties:\n",
      "- Qubit frequency: 5040.0 MHz\n",
      "- Anharmonicity: -198.0 MHz\n",
      "- T1 relaxation: 70.0 μs\n",
      "- T2 dephasing: 35.0 μs\n",
      "- Readout frequency: 9645.0 MHz\n",
      "\\nSimulation setup 'BasicSimulationSetup' created with 1 virtual qubit\n",
      "\\nTransmonElement created with HRID: BasicQubit\n"
     ]
    }
   ],
   "source": [
    "# Create a virtual transmon with realistic parameters\n",
    "virtual_transmon = VirtualTransmon(\n",
    "    name=\"BasicQubit\",\n",
    "    qubit_frequency=5040.0,    # 5.04 GHz qubit frequency\n",
    "    anharmonicity=-198.0,      # -198 MHz anharmonicity \n",
    "    t1=70.0,                   # 70 μs T1 relaxation time\n",
    "    t2=35.0,                   # 35 μs T2 dephasing time\n",
    "    readout_frequency=9645.0,  # 9.645 GHz readout frequency\n",
    "    quiescent_state_distribution=np.array([0.8, 0.15, 0.04, 0.01])  # Population in states |0⟩, |1⟩, |2⟩, |3⟩\n",
    ")\n",
    "\n",
    "print(\"Virtual Transmon Properties:\")\n",
    "print(f\"- Qubit frequency: {virtual_transmon.qubit_frequency:.1f} MHz\")\n",
    "print(f\"- Anharmonicity: {virtual_transmon.anharmonicity:.1f} MHz\")\n",
    "print(f\"- T1 relaxation: {virtual_transmon.t1:.1f} μs\")\n",
    "print(f\"- T2 dephasing: {virtual_transmon.t2:.1f} μs\")\n",
    "print(f\"- Readout frequency: {virtual_transmon.readout_frequency:.1f} MHz\")\n",
    "\n",
    "# Create the simulation setup\n",
    "manager = ExperimentManager()\n",
    "manager.clear_setups()\n",
    "\n",
    "setup = HighLevelSimulationSetup(\n",
    "    name='BasicSimulationSetup',\n",
    "    virtual_qubits={1: virtual_transmon},  # Assign to channel 1\n",
    ")\n",
    "\n",
    "manager.register_setup(setup)\n",
    "print(f\"\\\\nSimulation setup '{setup.name}' created with 1 virtual qubit\")\n",
    "\n",
    "# Configure the TransmonElement with realistic parameters\n",
    "qubit_config = {\n",
    "    'hrid': 'BasicQubit',\n",
    "    'lpb_collections': {\n",
    "        'f01': {  # |0⟩ → |1⟩ transition\n",
    "            'type': 'SimpleDriveCollection',\n",
    "            'freq': 5040.0,\n",
    "            'channel': 1,\n",
    "            'shape': 'blackman_drag',\n",
    "            'amp': 0.5,\n",
    "            'phase': 0.0,\n",
    "            'width': 0.05,\n",
    "            'alpha': 500,\n",
    "            'trunc': 1.2\n",
    "        },\n",
    "    },\n",
    "    'measurement_primitives': {\n",
    "        '0': {  # Readout measurement\n",
    "            'type': 'SimpleDispersiveMeasurement', \n",
    "            'freq': 9645.0,\n",
    "            'channel': 1,\n",
    "            'shape': 'square',\n",
    "            'amp': 0.15,\n",
    "            'phase': 0.0,\n",
    "            'width': 1.0,\n",
    "            'trunc': 1.2,\n",
    "            'distinguishable_states': [0, 1]\n",
    "        }\n",
    "    }\n",
    "}\n",
    "\n",
    "# Create the TransmonElement\n",
    "qubit = TransmonElement(name=qubit_config['hrid'], parameters=qubit_config)\n",
    "print(f\"\\\\nTransmonElement created with HRID: {qubit_config['hrid']}\")\n",
    "# Print basic configuration information\n",
    "try:\n",
    "    qubit.print_config_info()\n",
    "except Exception as e:\n",
    "    print(f\"Configuration display not available in this environment: {e}\")\n",
    "    print(\"TransmonElement configured successfully!\")"
   ]
  },
  {
   "cell_type": "markdown",
   "id": "blohazcdz3h",
   "metadata": {},
   "source": [
    "## Basic Measurements and Data Visualization\n",
    "\n",
    "Now let's demonstrate basic qubit measurements and create visualizations to understand quantum behavior."
   ]
  },
  {
   "cell_type": "code",
   "execution_count": 4,
   "id": "31ttm2l7e8g",
   "metadata": {
    "execution": {
     "iopub.execute_input": "2025-08-21T18:09:37.249726Z",
     "iopub.status.busy": "2025-08-21T18:09:37.249032Z",
     "iopub.status.idle": "2025-08-21T18:09:41.561376Z",
     "shell.execute_reply": "2025-08-21T18:09:41.560743Z"
    }
   },
   "outputs": [
    {
     "name": "stdout",
     "output_type": "stream",
     "text": [
      "Basic Qubit State Information:\n",
      "Ground state |0⟩ population: 80.0%\n",
      "Excited state |1⟩ population: 15.0%\n",
      "Higher excited states: [0.04 0.01]\n",
      "\\nQubit Control Parameters:\n",
      "- Control pulse collection: SimpleDriveCollection\n",
      "- Configuration from qubit_config: freq=5040.0 MHz\n",
      "- Pulse amplitude: 0.500\n",
      "- Pulse width: 0.050 μs\n",
      "- Pulse shape: blackman_drag\n",
      "\\nReadout Parameters:\n",
      "- Readout primitive: SimpleDispersiveMeasurement\n",
      "- Configuration from qubit_config: freq=9645.0 MHz\n",
      "- Readout amplitude: 0.150\n",
      "- Readout duration: 1.0 μs\n"
     ]
    }
   ],
   "source": [
    "# Demonstrate basic qubit operations and measurements\n",
    "from leeq.experiments.builtin.basic.characterizations import SimpleT1\n",
    "\n",
    "# Set up experimental parameters\n",
    "setup.status.set_param(\"Shot_Number\", 1000)  # Number of measurement shots\n",
    "setup.status.set_param(\"Shot_Period\", 500)   # Time between shots (μs)\n",
    "\n",
    "print(\"Basic Qubit State Information:\")\n",
    "print(f\"Ground state |0⟩ population: {virtual_transmon.quiescent_state_distribution[0]:.1%}\")\n",
    "print(f\"Excited state |1⟩ population: {virtual_transmon.quiescent_state_distribution[1]:.1%}\")\n",
    "print(f\"Higher excited states: {virtual_transmon.quiescent_state_distribution[2:]}\")\n",
    "\n",
    "# Get qubit control parameters\n",
    "c1_pulse = qubit.get_c1('f01')  # Control pulse for |0⟩ → |1⟩ transition\n",
    "readout_params = qubit.get_measurement_prim_intlist(0)  # Readout measurement parameters\n",
    "\n",
    "print(f\"\\\\nQubit Control Parameters:\")\n",
    "print(f\"- Control pulse collection: {type(c1_pulse).__name__}\")\n",
    "print(f\"- Configuration from qubit_config: freq={qubit_config['lpb_collections']['f01']['freq']:.1f} MHz\")\n",
    "print(f\"- Pulse amplitude: {qubit_config['lpb_collections']['f01']['amp']:.3f}\")\n",
    "print(f\"- Pulse width: {qubit_config['lpb_collections']['f01']['width']:.3f} μs\")\n",
    "print(f\"- Pulse shape: {qubit_config['lpb_collections']['f01']['shape']}\")\n",
    "\n",
    "print(f\"\\\\nReadout Parameters:\")\n",
    "print(f\"- Readout primitive: {type(readout_params).__name__}\")\n",
    "print(f\"- Configuration from qubit_config: freq={qubit_config['measurement_primitives']['0']['freq']:.1f} MHz\") \n",
    "print(f\"- Readout amplitude: {qubit_config['measurement_primitives']['0']['amp']:.3f}\")\n",
    "print(f\"- Readout duration: {qubit_config['measurement_primitives']['0']['width']:.1f} μs\")"
   ]
  },
  {
   "cell_type": "code",
   "execution_count": 5,
   "id": "nbrawmlf6gf",
   "metadata": {
    "execution": {
     "iopub.execute_input": "2025-08-21T18:09:41.563582Z",
     "iopub.status.busy": "2025-08-21T18:09:41.563193Z",
     "iopub.status.idle": "2025-08-21T18:09:41.672525Z",
     "shell.execute_reply": "2025-08-21T18:09:41.671654Z"
    }
   },
   "outputs": [
    {
     "name": "stdout",
     "output_type": "stream",
     "text": [
      "Running T1 relaxation measurement...\n",
      "This measures how long the qubit stays in the excited state before relaxing to ground state.\n"
     ]
    },
    {
     "data": {
      "application/vnd.plotly.v1+json": {
       "config": {
        "plotlyServerURL": "https://plot.ly"
       },
       "data": [
        {
         "marker": {
          "size": 5
         },
         "mode": "markers",
         "name": "Experiment data",
         "type": "scatter",
         "x": {
          "bdata": "AAIEBggKDA4QEhQWGBocHiAiJCYoKiwuMA==",
          "dtype": "i1"
         },
         "y": {
          "bdata": "RTTs5Jab7T8bw+4S797rP21YNNLE0uQ/ccmfvInG4j9xBFbAGGPpP3RsRq0uuek/STdoErCj5D9cXE/wMpnuPxUEKcsDOeg/MTlD5vni6D+5WvxuRiDhP9QyissNl+Q/dr1x5evh5T+iL3AdS6jgP5jXOFLOa+E/tPam0TrP6j9yZpx0aq3aP5KoH/jFQuE/5SiuHeWE3D8aOUOlBxTaP4EB2b3kVuA/lN5G3Maz4T/QypxIz4rYP7P+pTmvbOA/ZOZC2x8H3D8=",
          "dtype": "f8"
         }
        },
        {
         "line": {
          "color": "blue"
         },
         "mode": "lines",
         "name": "Decay fit",
         "type": "scatter",
         "visible": "legendonly",
         "x": {
          "bdata": "AAIEBggKDA4QEhQWGBocHiAiJCYoKiwuMA==",
          "dtype": "i1"
         },
         "y": {
          "bdata": "ABABt/XA6j8A8MzC4jPqPwBbnuLTpuk/ACZXFskZ6T8AIdldwozoPwAhBrm//+c/APm/J8Fy5z8Af+ipxuXmPwCJYT/QWOY/AO0M6N3L5T8AhMyj7z7lPwAngnIFsuQ/AK4PVB8l5D8A9FZIPZjjPwDVOU9fC+M/AC2aaIV+4j8A2FmUr/HhPwC1WtLdZOE/AKJ+IhDY4D8AgKeERkvgPwBabvEBfd8/ABof/X5j3j8AAiUsBErdPwDYQ36RMNw/AGQ/8yYX2z8=",
          "dtype": "f8"
         }
        }
       ],
       "layout": {
        "plot_bgcolor": "white",
        "showlegend": true,
        "template": {
         "data": {
          "bar": [
           {
            "error_x": {
             "color": "#2a3f5f"
            },
            "error_y": {
             "color": "#2a3f5f"
            },
            "marker": {
             "line": {
              "color": "#E5ECF6",
              "width": 0.5
             },
             "pattern": {
              "fillmode": "overlay",
              "size": 10,
              "solidity": 0.2
             }
            },
            "type": "bar"
           }
          ],
          "barpolar": [
           {
            "marker": {
             "line": {
              "color": "#E5ECF6",
              "width": 0.5
             },
             "pattern": {
              "fillmode": "overlay",
              "size": 10,
              "solidity": 0.2
             }
            },
            "type": "barpolar"
           }
          ],
          "carpet": [
           {
            "aaxis": {
             "endlinecolor": "#2a3f5f",
             "gridcolor": "white",
             "linecolor": "white",
             "minorgridcolor": "white",
             "startlinecolor": "#2a3f5f"
            },
            "baxis": {
             "endlinecolor": "#2a3f5f",
             "gridcolor": "white",
             "linecolor": "white",
             "minorgridcolor": "white",
             "startlinecolor": "#2a3f5f"
            },
            "type": "carpet"
           }
          ],
          "choropleth": [
           {
            "colorbar": {
             "outlinewidth": 0,
             "ticks": ""
            },
            "type": "choropleth"
           }
          ],
          "contour": [
           {
            "colorbar": {
             "outlinewidth": 0,
             "ticks": ""
            },
            "colorscale": [
             [
              0.0,
              "#0d0887"
             ],
             [
              0.1111111111111111,
              "#46039f"
             ],
             [
              0.2222222222222222,
              "#7201a8"
             ],
             [
              0.3333333333333333,
              "#9c179e"
             ],
             [
              0.4444444444444444,
              "#bd3786"
             ],
             [
              0.5555555555555556,
              "#d8576b"
             ],
             [
              0.6666666666666666,
              "#ed7953"
             ],
             [
              0.7777777777777778,
              "#fb9f3a"
             ],
             [
              0.8888888888888888,
              "#fdca26"
             ],
             [
              1.0,
              "#f0f921"
             ]
            ],
            "type": "contour"
           }
          ],
          "contourcarpet": [
           {
            "colorbar": {
             "outlinewidth": 0,
             "ticks": ""
            },
            "type": "contourcarpet"
           }
          ],
          "heatmap": [
           {
            "colorbar": {
             "outlinewidth": 0,
             "ticks": ""
            },
            "colorscale": [
             [
              0.0,
              "#0d0887"
             ],
             [
              0.1111111111111111,
              "#46039f"
             ],
             [
              0.2222222222222222,
              "#7201a8"
             ],
             [
              0.3333333333333333,
              "#9c179e"
             ],
             [
              0.4444444444444444,
              "#bd3786"
             ],
             [
              0.5555555555555556,
              "#d8576b"
             ],
             [
              0.6666666666666666,
              "#ed7953"
             ],
             [
              0.7777777777777778,
              "#fb9f3a"
             ],
             [
              0.8888888888888888,
              "#fdca26"
             ],
             [
              1.0,
              "#f0f921"
             ]
            ],
            "type": "heatmap"
           }
          ],
          "histogram": [
           {
            "marker": {
             "pattern": {
              "fillmode": "overlay",
              "size": 10,
              "solidity": 0.2
             }
            },
            "type": "histogram"
           }
          ],
          "histogram2d": [
           {
            "colorbar": {
             "outlinewidth": 0,
             "ticks": ""
            },
            "colorscale": [
             [
              0.0,
              "#0d0887"
             ],
             [
              0.1111111111111111,
              "#46039f"
             ],
             [
              0.2222222222222222,
              "#7201a8"
             ],
             [
              0.3333333333333333,
              "#9c179e"
             ],
             [
              0.4444444444444444,
              "#bd3786"
             ],
             [
              0.5555555555555556,
              "#d8576b"
             ],
             [
              0.6666666666666666,
              "#ed7953"
             ],
             [
              0.7777777777777778,
              "#fb9f3a"
             ],
             [
              0.8888888888888888,
              "#fdca26"
             ],
             [
              1.0,
              "#f0f921"
             ]
            ],
            "type": "histogram2d"
           }
          ],
          "histogram2dcontour": [
           {
            "colorbar": {
             "outlinewidth": 0,
             "ticks": ""
            },
            "colorscale": [
             [
              0.0,
              "#0d0887"
             ],
             [
              0.1111111111111111,
              "#46039f"
             ],
             [
              0.2222222222222222,
              "#7201a8"
             ],
             [
              0.3333333333333333,
              "#9c179e"
             ],
             [
              0.4444444444444444,
              "#bd3786"
             ],
             [
              0.5555555555555556,
              "#d8576b"
             ],
             [
              0.6666666666666666,
              "#ed7953"
             ],
             [
              0.7777777777777778,
              "#fb9f3a"
             ],
             [
              0.8888888888888888,
              "#fdca26"
             ],
             [
              1.0,
              "#f0f921"
             ]
            ],
            "type": "histogram2dcontour"
           }
          ],
          "mesh3d": [
           {
            "colorbar": {
             "outlinewidth": 0,
             "ticks": ""
            },
            "type": "mesh3d"
           }
          ],
          "parcoords": [
           {
            "line": {
             "colorbar": {
              "outlinewidth": 0,
              "ticks": ""
             }
            },
            "type": "parcoords"
           }
          ],
          "pie": [
           {
            "automargin": true,
            "type": "pie"
           }
          ],
          "scatter": [
           {
            "fillpattern": {
             "fillmode": "overlay",
             "size": 10,
             "solidity": 0.2
            },
            "type": "scatter"
           }
          ],
          "scatter3d": [
           {
            "line": {
             "colorbar": {
              "outlinewidth": 0,
              "ticks": ""
             }
            },
            "marker": {
             "colorbar": {
              "outlinewidth": 0,
              "ticks": ""
             }
            },
            "type": "scatter3d"
           }
          ],
          "scattercarpet": [
           {
            "marker": {
             "colorbar": {
              "outlinewidth": 0,
              "ticks": ""
             }
            },
            "type": "scattercarpet"
           }
          ],
          "scattergeo": [
           {
            "marker": {
             "colorbar": {
              "outlinewidth": 0,
              "ticks": ""
             }
            },
            "type": "scattergeo"
           }
          ],
          "scattergl": [
           {
            "marker": {
             "colorbar": {
              "outlinewidth": 0,
              "ticks": ""
             }
            },
            "type": "scattergl"
           }
          ],
          "scattermap": [
           {
            "marker": {
             "colorbar": {
              "outlinewidth": 0,
              "ticks": ""
             }
            },
            "type": "scattermap"
           }
          ],
          "scattermapbox": [
           {
            "marker": {
             "colorbar": {
              "outlinewidth": 0,
              "ticks": ""
             }
            },
            "type": "scattermapbox"
           }
          ],
          "scatterpolar": [
           {
            "marker": {
             "colorbar": {
              "outlinewidth": 0,
              "ticks": ""
             }
            },
            "type": "scatterpolar"
           }
          ],
          "scatterpolargl": [
           {
            "marker": {
             "colorbar": {
              "outlinewidth": 0,
              "ticks": ""
             }
            },
            "type": "scatterpolargl"
           }
          ],
          "scatterternary": [
           {
            "marker": {
             "colorbar": {
              "outlinewidth": 0,
              "ticks": ""
             }
            },
            "type": "scatterternary"
           }
          ],
          "surface": [
           {
            "colorbar": {
             "outlinewidth": 0,
             "ticks": ""
            },
            "colorscale": [
             [
              0.0,
              "#0d0887"
             ],
             [
              0.1111111111111111,
              "#46039f"
             ],
             [
              0.2222222222222222,
              "#7201a8"
             ],
             [
              0.3333333333333333,
              "#9c179e"
             ],
             [
              0.4444444444444444,
              "#bd3786"
             ],
             [
              0.5555555555555556,
              "#d8576b"
             ],
             [
              0.6666666666666666,
              "#ed7953"
             ],
             [
              0.7777777777777778,
              "#fb9f3a"
             ],
             [
              0.8888888888888888,
              "#fdca26"
             ],
             [
              1.0,
              "#f0f921"
             ]
            ],
            "type": "surface"
           }
          ],
          "table": [
           {
            "cells": {
             "fill": {
              "color": "#EBF0F8"
             },
             "line": {
              "color": "white"
             }
            },
            "header": {
             "fill": {
              "color": "#C8D4E3"
             },
             "line": {
              "color": "white"
             }
            },
            "type": "table"
           }
          ]
         },
         "layout": {
          "annotationdefaults": {
           "arrowcolor": "#2a3f5f",
           "arrowhead": 0,
           "arrowwidth": 1
          },
          "autotypenumbers": "strict",
          "coloraxis": {
           "colorbar": {
            "outlinewidth": 0,
            "ticks": ""
           }
          },
          "colorscale": {
           "diverging": [
            [
             0,
             "#8e0152"
            ],
            [
             0.1,
             "#c51b7d"
            ],
            [
             0.2,
             "#de77ae"
            ],
            [
             0.3,
             "#f1b6da"
            ],
            [
             0.4,
             "#fde0ef"
            ],
            [
             0.5,
             "#f7f7f7"
            ],
            [
             0.6,
             "#e6f5d0"
            ],
            [
             0.7,
             "#b8e186"
            ],
            [
             0.8,
             "#7fbc41"
            ],
            [
             0.9,
             "#4d9221"
            ],
            [
             1,
             "#276419"
            ]
           ],
           "sequential": [
            [
             0.0,
             "#0d0887"
            ],
            [
             0.1111111111111111,
             "#46039f"
            ],
            [
             0.2222222222222222,
             "#7201a8"
            ],
            [
             0.3333333333333333,
             "#9c179e"
            ],
            [
             0.4444444444444444,
             "#bd3786"
            ],
            [
             0.5555555555555556,
             "#d8576b"
            ],
            [
             0.6666666666666666,
             "#ed7953"
            ],
            [
             0.7777777777777778,
             "#fb9f3a"
            ],
            [
             0.8888888888888888,
             "#fdca26"
            ],
            [
             1.0,
             "#f0f921"
            ]
           ],
           "sequentialminus": [
            [
             0.0,
             "#0d0887"
            ],
            [
             0.1111111111111111,
             "#46039f"
            ],
            [
             0.2222222222222222,
             "#7201a8"
            ],
            [
             0.3333333333333333,
             "#9c179e"
            ],
            [
             0.4444444444444444,
             "#bd3786"
            ],
            [
             0.5555555555555556,
             "#d8576b"
            ],
            [
             0.6666666666666666,
             "#ed7953"
            ],
            [
             0.7777777777777778,
             "#fb9f3a"
            ],
            [
             0.8888888888888888,
             "#fdca26"
            ],
            [
             1.0,
             "#f0f921"
            ]
           ]
          },
          "colorway": [
           "#636efa",
           "#EF553B",
           "#00cc96",
           "#ab63fa",
           "#FFA15A",
           "#19d3f3",
           "#FF6692",
           "#B6E880",
           "#FF97FF",
           "#FECB52"
          ],
          "font": {
           "color": "#2a3f5f"
          },
          "geo": {
           "bgcolor": "white",
           "lakecolor": "white",
           "landcolor": "#E5ECF6",
           "showlakes": true,
           "showland": true,
           "subunitcolor": "white"
          },
          "hoverlabel": {
           "align": "left"
          },
          "hovermode": "closest",
          "mapbox": {
           "style": "light"
          },
          "paper_bgcolor": "white",
          "plot_bgcolor": "#E5ECF6",
          "polar": {
           "angularaxis": {
            "gridcolor": "white",
            "linecolor": "white",
            "ticks": ""
           },
           "bgcolor": "#E5ECF6",
           "radialaxis": {
            "gridcolor": "white",
            "linecolor": "white",
            "ticks": ""
           }
          },
          "scene": {
           "xaxis": {
            "backgroundcolor": "#E5ECF6",
            "gridcolor": "white",
            "gridwidth": 2,
            "linecolor": "white",
            "showbackground": true,
            "ticks": "",
            "zerolinecolor": "white"
           },
           "yaxis": {
            "backgroundcolor": "#E5ECF6",
            "gridcolor": "white",
            "gridwidth": 2,
            "linecolor": "white",
            "showbackground": true,
            "ticks": "",
            "zerolinecolor": "white"
           },
           "zaxis": {
            "backgroundcolor": "#E5ECF6",
            "gridcolor": "white",
            "gridwidth": 2,
            "linecolor": "white",
            "showbackground": true,
            "ticks": "",
            "zerolinecolor": "white"
           }
          },
          "shapedefaults": {
           "line": {
            "color": "#2a3f5f"
           }
          },
          "ternary": {
           "aaxis": {
            "gridcolor": "white",
            "linecolor": "white",
            "ticks": ""
           },
           "baxis": {
            "gridcolor": "white",
            "linecolor": "white",
            "ticks": ""
           },
           "bgcolor": "#E5ECF6",
           "caxis": {
            "gridcolor": "white",
            "linecolor": "white",
            "ticks": ""
           }
          },
          "title": {
           "x": 0.05
          },
          "xaxis": {
           "automargin": true,
           "gridcolor": "white",
           "linecolor": "white",
           "ticks": "",
           "title": {
            "standoff": 15
           },
           "zerolinecolor": "white",
           "zerolinewidth": 2
          },
          "yaxis": {
           "automargin": true,
           "gridcolor": "white",
           "linecolor": "white",
           "ticks": "",
           "title": {
            "standoff": 15
           },
           "zerolinecolor": "white",
           "zerolinewidth": 2
          }
         }
        },
        "title": {
         "text": "T1 decay BasicQubit transition f01<br>T1=(0+/-9)e+06 us"
        },
        "xaxis": {
         "title": {
          "text": "Time (us)"
         }
        },
        "yaxis": {
         "title": {
          "text": "P(1)"
         }
        }
       }
      }
     },
     "metadata": {},
     "output_type": "display_data"
    },
    {
     "name": "stderr",
     "output_type": "stream",
     "text": [
      "[2025-08-21 11:09:41] [INFO] [leeq.utils.utils] JSON data: {'print_time': '2025-08-21 11:09:41',\n",
      " 'record_book_path': 'log/coxious/2025-08/2025-08-21/11.09.37',\n",
      " 'record_entry_path': '/root/3-SimpleT1.run',\n",
      " 'record_id': 'f9f00516-a579-471f-9ac7-754a01e9a2f2',\n",
      " 'record_time': 1755799781}\n"
     ]
    },
    {
     "name": "stderr",
     "output_type": "stream",
     "text": [
      "INFO\tleeq.utils.utils:utils.py:display_json_dict()- JSON data: {'print_time': '2025-08-21 11:09:41',\n",
      " 'record_book_path': 'log/coxious/2025-08/2025-08-21/11.09.37',\n",
      " 'record_entry_path': '/root/3-SimpleT1.run',\n",
      " 'record_id': 'f9f00516-a579-471f-9ac7-754a01e9a2f2',\n",
      " 'record_time': 1755799781}\n"
     ]
    },
    {
     "name": "stdout",
     "output_type": "stream",
     "text": [
      "\\nT1 Measurement Complete!\n",
      "Measured T1 relaxation time: N/A μs\n"
     ]
    }
   ],
   "source": [
    "# Perform a basic T1 relaxation measurement\n",
    "print(\"Running T1 relaxation measurement...\")\n",
    "print(\"This measures how long the qubit stays in the excited state before relaxing to ground state.\")\n",
    "\n",
    "try:\n",
    "    # Run T1 experiment with short time range for quick demonstration\n",
    "    t1_experiment = SimpleT1(\n",
    "        qubit=qubit,\n",
    "        time_length=50,    # Maximum delay time (μs)\n",
    "        time_resolution=2  # Time step (μs)  \n",
    "    )\n",
    "    \n",
    "    # The experiment automatically fits the data and extracts T1\n",
    "    print(f\"\\\\nT1 Measurement Complete!\")\n",
    "    print(f\"Measured T1 relaxation time: {getattr(t1_experiment, 'fitted_t1', 'N/A')} μs\")\n",
    "    \n",
    "except Exception as e:\n",
    "    print(f\"T1 experiment encountered an issue: {e}\")\n",
    "    print(\"This is normal in simulation environments - continuing with demonstration.\")"
   ]
  },
  {
   "cell_type": "code",
   "execution_count": 6,
   "id": "w51wxv9ha",
   "metadata": {
    "execution": {
     "iopub.execute_input": "2025-08-21T18:09:41.675175Z",
     "iopub.status.busy": "2025-08-21T18:09:41.674689Z",
     "iopub.status.idle": "2025-08-21T18:09:41.693252Z",
     "shell.execute_reply": "2025-08-21T18:09:41.692615Z"
    }
   },
   "outputs": [
    {
     "data": {
      "application/vnd.plotly.v1+json": {
       "config": {
        "plotlyServerURL": "https://plot.ly"
       },
       "data": [
        {
         "line": {
          "color": "blue",
          "width": 3
         },
         "marker": {
          "size": 12
         },
         "mode": "lines+markers+text",
         "name": "Energy Levels",
         "text": [
          "|0⟩",
          "|1⟩",
          "|2⟩"
         ],
         "textposition": "middle right",
         "type": "scatter",
         "x": [
          0,
          1,
          2
         ],
         "y": [
          0,
          5040.0,
          9882.0
         ]
        }
       ],
       "layout": {
        "annotations": [
         {
          "arrowcolor": "red",
          "arrowhead": 2,
          "showarrow": true,
          "text": "f₀₁ = 5040 MHz",
          "x": 0.5,
          "y": 2520.0
         },
         {
          "arrowcolor": "red",
          "arrowhead": 2,
          "showarrow": true,
          "text": "f₁₂ = f₀₁ + α\\nα = -198 MHz",
          "x": 1.5,
          "y": 4941.0
         }
        ],
        "height": 500,
        "showlegend": true,
        "template": {
         "data": {
          "bar": [
           {
            "error_x": {
             "color": "#2a3f5f"
            },
            "error_y": {
             "color": "#2a3f5f"
            },
            "marker": {
             "line": {
              "color": "#E5ECF6",
              "width": 0.5
             },
             "pattern": {
              "fillmode": "overlay",
              "size": 10,
              "solidity": 0.2
             }
            },
            "type": "bar"
           }
          ],
          "barpolar": [
           {
            "marker": {
             "line": {
              "color": "#E5ECF6",
              "width": 0.5
             },
             "pattern": {
              "fillmode": "overlay",
              "size": 10,
              "solidity": 0.2
             }
            },
            "type": "barpolar"
           }
          ],
          "carpet": [
           {
            "aaxis": {
             "endlinecolor": "#2a3f5f",
             "gridcolor": "white",
             "linecolor": "white",
             "minorgridcolor": "white",
             "startlinecolor": "#2a3f5f"
            },
            "baxis": {
             "endlinecolor": "#2a3f5f",
             "gridcolor": "white",
             "linecolor": "white",
             "minorgridcolor": "white",
             "startlinecolor": "#2a3f5f"
            },
            "type": "carpet"
           }
          ],
          "choropleth": [
           {
            "colorbar": {
             "outlinewidth": 0,
             "ticks": ""
            },
            "type": "choropleth"
           }
          ],
          "contour": [
           {
            "colorbar": {
             "outlinewidth": 0,
             "ticks": ""
            },
            "colorscale": [
             [
              0.0,
              "#0d0887"
             ],
             [
              0.1111111111111111,
              "#46039f"
             ],
             [
              0.2222222222222222,
              "#7201a8"
             ],
             [
              0.3333333333333333,
              "#9c179e"
             ],
             [
              0.4444444444444444,
              "#bd3786"
             ],
             [
              0.5555555555555556,
              "#d8576b"
             ],
             [
              0.6666666666666666,
              "#ed7953"
             ],
             [
              0.7777777777777778,
              "#fb9f3a"
             ],
             [
              0.8888888888888888,
              "#fdca26"
             ],
             [
              1.0,
              "#f0f921"
             ]
            ],
            "type": "contour"
           }
          ],
          "contourcarpet": [
           {
            "colorbar": {
             "outlinewidth": 0,
             "ticks": ""
            },
            "type": "contourcarpet"
           }
          ],
          "heatmap": [
           {
            "colorbar": {
             "outlinewidth": 0,
             "ticks": ""
            },
            "colorscale": [
             [
              0.0,
              "#0d0887"
             ],
             [
              0.1111111111111111,
              "#46039f"
             ],
             [
              0.2222222222222222,
              "#7201a8"
             ],
             [
              0.3333333333333333,
              "#9c179e"
             ],
             [
              0.4444444444444444,
              "#bd3786"
             ],
             [
              0.5555555555555556,
              "#d8576b"
             ],
             [
              0.6666666666666666,
              "#ed7953"
             ],
             [
              0.7777777777777778,
              "#fb9f3a"
             ],
             [
              0.8888888888888888,
              "#fdca26"
             ],
             [
              1.0,
              "#f0f921"
             ]
            ],
            "type": "heatmap"
           }
          ],
          "histogram": [
           {
            "marker": {
             "pattern": {
              "fillmode": "overlay",
              "size": 10,
              "solidity": 0.2
             }
            },
            "type": "histogram"
           }
          ],
          "histogram2d": [
           {
            "colorbar": {
             "outlinewidth": 0,
             "ticks": ""
            },
            "colorscale": [
             [
              0.0,
              "#0d0887"
             ],
             [
              0.1111111111111111,
              "#46039f"
             ],
             [
              0.2222222222222222,
              "#7201a8"
             ],
             [
              0.3333333333333333,
              "#9c179e"
             ],
             [
              0.4444444444444444,
              "#bd3786"
             ],
             [
              0.5555555555555556,
              "#d8576b"
             ],
             [
              0.6666666666666666,
              "#ed7953"
             ],
             [
              0.7777777777777778,
              "#fb9f3a"
             ],
             [
              0.8888888888888888,
              "#fdca26"
             ],
             [
              1.0,
              "#f0f921"
             ]
            ],
            "type": "histogram2d"
           }
          ],
          "histogram2dcontour": [
           {
            "colorbar": {
             "outlinewidth": 0,
             "ticks": ""
            },
            "colorscale": [
             [
              0.0,
              "#0d0887"
             ],
             [
              0.1111111111111111,
              "#46039f"
             ],
             [
              0.2222222222222222,
              "#7201a8"
             ],
             [
              0.3333333333333333,
              "#9c179e"
             ],
             [
              0.4444444444444444,
              "#bd3786"
             ],
             [
              0.5555555555555556,
              "#d8576b"
             ],
             [
              0.6666666666666666,
              "#ed7953"
             ],
             [
              0.7777777777777778,
              "#fb9f3a"
             ],
             [
              0.8888888888888888,
              "#fdca26"
             ],
             [
              1.0,
              "#f0f921"
             ]
            ],
            "type": "histogram2dcontour"
           }
          ],
          "mesh3d": [
           {
            "colorbar": {
             "outlinewidth": 0,
             "ticks": ""
            },
            "type": "mesh3d"
           }
          ],
          "parcoords": [
           {
            "line": {
             "colorbar": {
              "outlinewidth": 0,
              "ticks": ""
             }
            },
            "type": "parcoords"
           }
          ],
          "pie": [
           {
            "automargin": true,
            "type": "pie"
           }
          ],
          "scatter": [
           {
            "fillpattern": {
             "fillmode": "overlay",
             "size": 10,
             "solidity": 0.2
            },
            "type": "scatter"
           }
          ],
          "scatter3d": [
           {
            "line": {
             "colorbar": {
              "outlinewidth": 0,
              "ticks": ""
             }
            },
            "marker": {
             "colorbar": {
              "outlinewidth": 0,
              "ticks": ""
             }
            },
            "type": "scatter3d"
           }
          ],
          "scattercarpet": [
           {
            "marker": {
             "colorbar": {
              "outlinewidth": 0,
              "ticks": ""
             }
            },
            "type": "scattercarpet"
           }
          ],
          "scattergeo": [
           {
            "marker": {
             "colorbar": {
              "outlinewidth": 0,
              "ticks": ""
             }
            },
            "type": "scattergeo"
           }
          ],
          "scattergl": [
           {
            "marker": {
             "colorbar": {
              "outlinewidth": 0,
              "ticks": ""
             }
            },
            "type": "scattergl"
           }
          ],
          "scattermap": [
           {
            "marker": {
             "colorbar": {
              "outlinewidth": 0,
              "ticks": ""
             }
            },
            "type": "scattermap"
           }
          ],
          "scattermapbox": [
           {
            "marker": {
             "colorbar": {
              "outlinewidth": 0,
              "ticks": ""
             }
            },
            "type": "scattermapbox"
           }
          ],
          "scatterpolar": [
           {
            "marker": {
             "colorbar": {
              "outlinewidth": 0,
              "ticks": ""
             }
            },
            "type": "scatterpolar"
           }
          ],
          "scatterpolargl": [
           {
            "marker": {
             "colorbar": {
              "outlinewidth": 0,
              "ticks": ""
             }
            },
            "type": "scatterpolargl"
           }
          ],
          "scatterternary": [
           {
            "marker": {
             "colorbar": {
              "outlinewidth": 0,
              "ticks": ""
             }
            },
            "type": "scatterternary"
           }
          ],
          "surface": [
           {
            "colorbar": {
             "outlinewidth": 0,
             "ticks": ""
            },
            "colorscale": [
             [
              0.0,
              "#0d0887"
             ],
             [
              0.1111111111111111,
              "#46039f"
             ],
             [
              0.2222222222222222,
              "#7201a8"
             ],
             [
              0.3333333333333333,
              "#9c179e"
             ],
             [
              0.4444444444444444,
              "#bd3786"
             ],
             [
              0.5555555555555556,
              "#d8576b"
             ],
             [
              0.6666666666666666,
              "#ed7953"
             ],
             [
              0.7777777777777778,
              "#fb9f3a"
             ],
             [
              0.8888888888888888,
              "#fdca26"
             ],
             [
              1.0,
              "#f0f921"
             ]
            ],
            "type": "surface"
           }
          ],
          "table": [
           {
            "cells": {
             "fill": {
              "color": "#EBF0F8"
             },
             "line": {
              "color": "white"
             }
            },
            "header": {
             "fill": {
              "color": "#C8D4E3"
             },
             "line": {
              "color": "white"
             }
            },
            "type": "table"
           }
          ]
         },
         "layout": {
          "annotationdefaults": {
           "arrowcolor": "#2a3f5f",
           "arrowhead": 0,
           "arrowwidth": 1
          },
          "autotypenumbers": "strict",
          "coloraxis": {
           "colorbar": {
            "outlinewidth": 0,
            "ticks": ""
           }
          },
          "colorscale": {
           "diverging": [
            [
             0,
             "#8e0152"
            ],
            [
             0.1,
             "#c51b7d"
            ],
            [
             0.2,
             "#de77ae"
            ],
            [
             0.3,
             "#f1b6da"
            ],
            [
             0.4,
             "#fde0ef"
            ],
            [
             0.5,
             "#f7f7f7"
            ],
            [
             0.6,
             "#e6f5d0"
            ],
            [
             0.7,
             "#b8e186"
            ],
            [
             0.8,
             "#7fbc41"
            ],
            [
             0.9,
             "#4d9221"
            ],
            [
             1,
             "#276419"
            ]
           ],
           "sequential": [
            [
             0.0,
             "#0d0887"
            ],
            [
             0.1111111111111111,
             "#46039f"
            ],
            [
             0.2222222222222222,
             "#7201a8"
            ],
            [
             0.3333333333333333,
             "#9c179e"
            ],
            [
             0.4444444444444444,
             "#bd3786"
            ],
            [
             0.5555555555555556,
             "#d8576b"
            ],
            [
             0.6666666666666666,
             "#ed7953"
            ],
            [
             0.7777777777777778,
             "#fb9f3a"
            ],
            [
             0.8888888888888888,
             "#fdca26"
            ],
            [
             1.0,
             "#f0f921"
            ]
           ],
           "sequentialminus": [
            [
             0.0,
             "#0d0887"
            ],
            [
             0.1111111111111111,
             "#46039f"
            ],
            [
             0.2222222222222222,
             "#7201a8"
            ],
            [
             0.3333333333333333,
             "#9c179e"
            ],
            [
             0.4444444444444444,
             "#bd3786"
            ],
            [
             0.5555555555555556,
             "#d8576b"
            ],
            [
             0.6666666666666666,
             "#ed7953"
            ],
            [
             0.7777777777777778,
             "#fb9f3a"
            ],
            [
             0.8888888888888888,
             "#fdca26"
            ],
            [
             1.0,
             "#f0f921"
            ]
           ]
          },
          "colorway": [
           "#636efa",
           "#EF553B",
           "#00cc96",
           "#ab63fa",
           "#FFA15A",
           "#19d3f3",
           "#FF6692",
           "#B6E880",
           "#FF97FF",
           "#FECB52"
          ],
          "font": {
           "color": "#2a3f5f"
          },
          "geo": {
           "bgcolor": "white",
           "lakecolor": "white",
           "landcolor": "#E5ECF6",
           "showlakes": true,
           "showland": true,
           "subunitcolor": "white"
          },
          "hoverlabel": {
           "align": "left"
          },
          "hovermode": "closest",
          "mapbox": {
           "style": "light"
          },
          "paper_bgcolor": "white",
          "plot_bgcolor": "#E5ECF6",
          "polar": {
           "angularaxis": {
            "gridcolor": "white",
            "linecolor": "white",
            "ticks": ""
           },
           "bgcolor": "#E5ECF6",
           "radialaxis": {
            "gridcolor": "white",
            "linecolor": "white",
            "ticks": ""
           }
          },
          "scene": {
           "xaxis": {
            "backgroundcolor": "#E5ECF6",
            "gridcolor": "white",
            "gridwidth": 2,
            "linecolor": "white",
            "showbackground": true,
            "ticks": "",
            "zerolinecolor": "white"
           },
           "yaxis": {
            "backgroundcolor": "#E5ECF6",
            "gridcolor": "white",
            "gridwidth": 2,
            "linecolor": "white",
            "showbackground": true,
            "ticks": "",
            "zerolinecolor": "white"
           },
           "zaxis": {
            "backgroundcolor": "#E5ECF6",
            "gridcolor": "white",
            "gridwidth": 2,
            "linecolor": "white",
            "showbackground": true,
            "ticks": "",
            "zerolinecolor": "white"
           }
          },
          "shapedefaults": {
           "line": {
            "color": "#2a3f5f"
           }
          },
          "ternary": {
           "aaxis": {
            "gridcolor": "white",
            "linecolor": "white",
            "ticks": ""
           },
           "baxis": {
            "gridcolor": "white",
            "linecolor": "white",
            "ticks": ""
           },
           "bgcolor": "#E5ECF6",
           "caxis": {
            "gridcolor": "white",
            "linecolor": "white",
            "ticks": ""
           }
          },
          "title": {
           "x": 0.05
          },
          "xaxis": {
           "automargin": true,
           "gridcolor": "white",
           "linecolor": "white",
           "ticks": "",
           "title": {
            "standoff": 15
           },
           "zerolinecolor": "white",
           "zerolinewidth": 2
          },
          "yaxis": {
           "automargin": true,
           "gridcolor": "white",
           "linecolor": "white",
           "ticks": "",
           "title": {
            "standoff": 15
           },
           "zerolinecolor": "white",
           "zerolinewidth": 2
          }
         }
        },
        "title": {
         "text": "Transmon Qubit Energy Level Structure"
        },
        "width": 700,
        "xaxis": {
         "title": {
          "text": "Qubit Level"
         }
        },
        "yaxis": {
         "title": {
          "text": "Energy (MHz)"
         }
        }
       }
      }
     },
     "metadata": {},
     "output_type": "display_data"
    },
    {
     "data": {
      "application/vnd.plotly.v1+json": {
       "config": {
        "plotlyServerURL": "https://plot.ly"
       },
       "data": [
        {
         "marker": {
          "color": [
           "lightblue",
           "lightcoral",
           "lightgreen",
           "lightyellow"
          ]
         },
         "type": "bar",
         "x": [
          "|0⟩",
          "|1⟩",
          "|2⟩",
          "|3⟩"
         ],
         "y": {
          "bdata": "mpmZmZmZ6T8zMzMzMzPDP3sUrkfheqQ/exSuR+F6hD8=",
          "dtype": "f8"
         }
        }
       ],
       "layout": {
        "height": 400,
        "template": {
         "data": {
          "bar": [
           {
            "error_x": {
             "color": "#2a3f5f"
            },
            "error_y": {
             "color": "#2a3f5f"
            },
            "marker": {
             "line": {
              "color": "#E5ECF6",
              "width": 0.5
             },
             "pattern": {
              "fillmode": "overlay",
              "size": 10,
              "solidity": 0.2
             }
            },
            "type": "bar"
           }
          ],
          "barpolar": [
           {
            "marker": {
             "line": {
              "color": "#E5ECF6",
              "width": 0.5
             },
             "pattern": {
              "fillmode": "overlay",
              "size": 10,
              "solidity": 0.2
             }
            },
            "type": "barpolar"
           }
          ],
          "carpet": [
           {
            "aaxis": {
             "endlinecolor": "#2a3f5f",
             "gridcolor": "white",
             "linecolor": "white",
             "minorgridcolor": "white",
             "startlinecolor": "#2a3f5f"
            },
            "baxis": {
             "endlinecolor": "#2a3f5f",
             "gridcolor": "white",
             "linecolor": "white",
             "minorgridcolor": "white",
             "startlinecolor": "#2a3f5f"
            },
            "type": "carpet"
           }
          ],
          "choropleth": [
           {
            "colorbar": {
             "outlinewidth": 0,
             "ticks": ""
            },
            "type": "choropleth"
           }
          ],
          "contour": [
           {
            "colorbar": {
             "outlinewidth": 0,
             "ticks": ""
            },
            "colorscale": [
             [
              0.0,
              "#0d0887"
             ],
             [
              0.1111111111111111,
              "#46039f"
             ],
             [
              0.2222222222222222,
              "#7201a8"
             ],
             [
              0.3333333333333333,
              "#9c179e"
             ],
             [
              0.4444444444444444,
              "#bd3786"
             ],
             [
              0.5555555555555556,
              "#d8576b"
             ],
             [
              0.6666666666666666,
              "#ed7953"
             ],
             [
              0.7777777777777778,
              "#fb9f3a"
             ],
             [
              0.8888888888888888,
              "#fdca26"
             ],
             [
              1.0,
              "#f0f921"
             ]
            ],
            "type": "contour"
           }
          ],
          "contourcarpet": [
           {
            "colorbar": {
             "outlinewidth": 0,
             "ticks": ""
            },
            "type": "contourcarpet"
           }
          ],
          "heatmap": [
           {
            "colorbar": {
             "outlinewidth": 0,
             "ticks": ""
            },
            "colorscale": [
             [
              0.0,
              "#0d0887"
             ],
             [
              0.1111111111111111,
              "#46039f"
             ],
             [
              0.2222222222222222,
              "#7201a8"
             ],
             [
              0.3333333333333333,
              "#9c179e"
             ],
             [
              0.4444444444444444,
              "#bd3786"
             ],
             [
              0.5555555555555556,
              "#d8576b"
             ],
             [
              0.6666666666666666,
              "#ed7953"
             ],
             [
              0.7777777777777778,
              "#fb9f3a"
             ],
             [
              0.8888888888888888,
              "#fdca26"
             ],
             [
              1.0,
              "#f0f921"
             ]
            ],
            "type": "heatmap"
           }
          ],
          "histogram": [
           {
            "marker": {
             "pattern": {
              "fillmode": "overlay",
              "size": 10,
              "solidity": 0.2
             }
            },
            "type": "histogram"
           }
          ],
          "histogram2d": [
           {
            "colorbar": {
             "outlinewidth": 0,
             "ticks": ""
            },
            "colorscale": [
             [
              0.0,
              "#0d0887"
             ],
             [
              0.1111111111111111,
              "#46039f"
             ],
             [
              0.2222222222222222,
              "#7201a8"
             ],
             [
              0.3333333333333333,
              "#9c179e"
             ],
             [
              0.4444444444444444,
              "#bd3786"
             ],
             [
              0.5555555555555556,
              "#d8576b"
             ],
             [
              0.6666666666666666,
              "#ed7953"
             ],
             [
              0.7777777777777778,
              "#fb9f3a"
             ],
             [
              0.8888888888888888,
              "#fdca26"
             ],
             [
              1.0,
              "#f0f921"
             ]
            ],
            "type": "histogram2d"
           }
          ],
          "histogram2dcontour": [
           {
            "colorbar": {
             "outlinewidth": 0,
             "ticks": ""
            },
            "colorscale": [
             [
              0.0,
              "#0d0887"
             ],
             [
              0.1111111111111111,
              "#46039f"
             ],
             [
              0.2222222222222222,
              "#7201a8"
             ],
             [
              0.3333333333333333,
              "#9c179e"
             ],
             [
              0.4444444444444444,
              "#bd3786"
             ],
             [
              0.5555555555555556,
              "#d8576b"
             ],
             [
              0.6666666666666666,
              "#ed7953"
             ],
             [
              0.7777777777777778,
              "#fb9f3a"
             ],
             [
              0.8888888888888888,
              "#fdca26"
             ],
             [
              1.0,
              "#f0f921"
             ]
            ],
            "type": "histogram2dcontour"
           }
          ],
          "mesh3d": [
           {
            "colorbar": {
             "outlinewidth": 0,
             "ticks": ""
            },
            "type": "mesh3d"
           }
          ],
          "parcoords": [
           {
            "line": {
             "colorbar": {
              "outlinewidth": 0,
              "ticks": ""
             }
            },
            "type": "parcoords"
           }
          ],
          "pie": [
           {
            "automargin": true,
            "type": "pie"
           }
          ],
          "scatter": [
           {
            "fillpattern": {
             "fillmode": "overlay",
             "size": 10,
             "solidity": 0.2
            },
            "type": "scatter"
           }
          ],
          "scatter3d": [
           {
            "line": {
             "colorbar": {
              "outlinewidth": 0,
              "ticks": ""
             }
            },
            "marker": {
             "colorbar": {
              "outlinewidth": 0,
              "ticks": ""
             }
            },
            "type": "scatter3d"
           }
          ],
          "scattercarpet": [
           {
            "marker": {
             "colorbar": {
              "outlinewidth": 0,
              "ticks": ""
             }
            },
            "type": "scattercarpet"
           }
          ],
          "scattergeo": [
           {
            "marker": {
             "colorbar": {
              "outlinewidth": 0,
              "ticks": ""
             }
            },
            "type": "scattergeo"
           }
          ],
          "scattergl": [
           {
            "marker": {
             "colorbar": {
              "outlinewidth": 0,
              "ticks": ""
             }
            },
            "type": "scattergl"
           }
          ],
          "scattermap": [
           {
            "marker": {
             "colorbar": {
              "outlinewidth": 0,
              "ticks": ""
             }
            },
            "type": "scattermap"
           }
          ],
          "scattermapbox": [
           {
            "marker": {
             "colorbar": {
              "outlinewidth": 0,
              "ticks": ""
             }
            },
            "type": "scattermapbox"
           }
          ],
          "scatterpolar": [
           {
            "marker": {
             "colorbar": {
              "outlinewidth": 0,
              "ticks": ""
             }
            },
            "type": "scatterpolar"
           }
          ],
          "scatterpolargl": [
           {
            "marker": {
             "colorbar": {
              "outlinewidth": 0,
              "ticks": ""
             }
            },
            "type": "scatterpolargl"
           }
          ],
          "scatterternary": [
           {
            "marker": {
             "colorbar": {
              "outlinewidth": 0,
              "ticks": ""
             }
            },
            "type": "scatterternary"
           }
          ],
          "surface": [
           {
            "colorbar": {
             "outlinewidth": 0,
             "ticks": ""
            },
            "colorscale": [
             [
              0.0,
              "#0d0887"
             ],
             [
              0.1111111111111111,
              "#46039f"
             ],
             [
              0.2222222222222222,
              "#7201a8"
             ],
             [
              0.3333333333333333,
              "#9c179e"
             ],
             [
              0.4444444444444444,
              "#bd3786"
             ],
             [
              0.5555555555555556,
              "#d8576b"
             ],
             [
              0.6666666666666666,
              "#ed7953"
             ],
             [
              0.7777777777777778,
              "#fb9f3a"
             ],
             [
              0.8888888888888888,
              "#fdca26"
             ],
             [
              1.0,
              "#f0f921"
             ]
            ],
            "type": "surface"
           }
          ],
          "table": [
           {
            "cells": {
             "fill": {
              "color": "#EBF0F8"
             },
             "line": {
              "color": "white"
             }
            },
            "header": {
             "fill": {
              "color": "#C8D4E3"
             },
             "line": {
              "color": "white"
             }
            },
            "type": "table"
           }
          ]
         },
         "layout": {
          "annotationdefaults": {
           "arrowcolor": "#2a3f5f",
           "arrowhead": 0,
           "arrowwidth": 1
          },
          "autotypenumbers": "strict",
          "coloraxis": {
           "colorbar": {
            "outlinewidth": 0,
            "ticks": ""
           }
          },
          "colorscale": {
           "diverging": [
            [
             0,
             "#8e0152"
            ],
            [
             0.1,
             "#c51b7d"
            ],
            [
             0.2,
             "#de77ae"
            ],
            [
             0.3,
             "#f1b6da"
            ],
            [
             0.4,
             "#fde0ef"
            ],
            [
             0.5,
             "#f7f7f7"
            ],
            [
             0.6,
             "#e6f5d0"
            ],
            [
             0.7,
             "#b8e186"
            ],
            [
             0.8,
             "#7fbc41"
            ],
            [
             0.9,
             "#4d9221"
            ],
            [
             1,
             "#276419"
            ]
           ],
           "sequential": [
            [
             0.0,
             "#0d0887"
            ],
            [
             0.1111111111111111,
             "#46039f"
            ],
            [
             0.2222222222222222,
             "#7201a8"
            ],
            [
             0.3333333333333333,
             "#9c179e"
            ],
            [
             0.4444444444444444,
             "#bd3786"
            ],
            [
             0.5555555555555556,
             "#d8576b"
            ],
            [
             0.6666666666666666,
             "#ed7953"
            ],
            [
             0.7777777777777778,
             "#fb9f3a"
            ],
            [
             0.8888888888888888,
             "#fdca26"
            ],
            [
             1.0,
             "#f0f921"
            ]
           ],
           "sequentialminus": [
            [
             0.0,
             "#0d0887"
            ],
            [
             0.1111111111111111,
             "#46039f"
            ],
            [
             0.2222222222222222,
             "#7201a8"
            ],
            [
             0.3333333333333333,
             "#9c179e"
            ],
            [
             0.4444444444444444,
             "#bd3786"
            ],
            [
             0.5555555555555556,
             "#d8576b"
            ],
            [
             0.6666666666666666,
             "#ed7953"
            ],
            [
             0.7777777777777778,
             "#fb9f3a"
            ],
            [
             0.8888888888888888,
             "#fdca26"
            ],
            [
             1.0,
             "#f0f921"
            ]
           ]
          },
          "colorway": [
           "#636efa",
           "#EF553B",
           "#00cc96",
           "#ab63fa",
           "#FFA15A",
           "#19d3f3",
           "#FF6692",
           "#B6E880",
           "#FF97FF",
           "#FECB52"
          ],
          "font": {
           "color": "#2a3f5f"
          },
          "geo": {
           "bgcolor": "white",
           "lakecolor": "white",
           "landcolor": "#E5ECF6",
           "showlakes": true,
           "showland": true,
           "subunitcolor": "white"
          },
          "hoverlabel": {
           "align": "left"
          },
          "hovermode": "closest",
          "mapbox": {
           "style": "light"
          },
          "paper_bgcolor": "white",
          "plot_bgcolor": "#E5ECF6",
          "polar": {
           "angularaxis": {
            "gridcolor": "white",
            "linecolor": "white",
            "ticks": ""
           },
           "bgcolor": "#E5ECF6",
           "radialaxis": {
            "gridcolor": "white",
            "linecolor": "white",
            "ticks": ""
           }
          },
          "scene": {
           "xaxis": {
            "backgroundcolor": "#E5ECF6",
            "gridcolor": "white",
            "gridwidth": 2,
            "linecolor": "white",
            "showbackground": true,
            "ticks": "",
            "zerolinecolor": "white"
           },
           "yaxis": {
            "backgroundcolor": "#E5ECF6",
            "gridcolor": "white",
            "gridwidth": 2,
            "linecolor": "white",
            "showbackground": true,
            "ticks": "",
            "zerolinecolor": "white"
           },
           "zaxis": {
            "backgroundcolor": "#E5ECF6",
            "gridcolor": "white",
            "gridwidth": 2,
            "linecolor": "white",
            "showbackground": true,
            "ticks": "",
            "zerolinecolor": "white"
           }
          },
          "shapedefaults": {
           "line": {
            "color": "#2a3f5f"
           }
          },
          "ternary": {
           "aaxis": {
            "gridcolor": "white",
            "linecolor": "white",
            "ticks": ""
           },
           "baxis": {
            "gridcolor": "white",
            "linecolor": "white",
            "ticks": ""
           },
           "bgcolor": "#E5ECF6",
           "caxis": {
            "gridcolor": "white",
            "linecolor": "white",
            "ticks": ""
           }
          },
          "title": {
           "x": 0.05
          },
          "xaxis": {
           "automargin": true,
           "gridcolor": "white",
           "linecolor": "white",
           "ticks": "",
           "title": {
            "standoff": 15
           },
           "zerolinecolor": "white",
           "zerolinewidth": 2
          },
          "yaxis": {
           "automargin": true,
           "gridcolor": "white",
           "linecolor": "white",
           "ticks": "",
           "title": {
            "standoff": 15
           },
           "zerolinecolor": "white",
           "zerolinewidth": 2
          }
         }
        },
        "title": {
         "text": "Qubit State Population Distribution"
        },
        "width": 600,
        "xaxis": {
         "title": {
          "text": "Quantum State"
         }
        },
        "yaxis": {
         "title": {
          "text": "Population"
         }
        }
       }
      }
     },
     "metadata": {},
     "output_type": "display_data"
    },
    {
     "name": "stdout",
     "output_type": "stream",
     "text": [
      "\\n📊 The visualizations above show:\n",
      "1. Energy level structure: Higher levels are closer together (anharmonicity)\n",
      "2. State populations: Mostly in ground state |0⟩, small thermal populations in excited states\n"
     ]
    }
   ],
   "source": [
    "# Create visualizations to understand quantum concepts\n",
    "fig_concepts = go.Figure()\n",
    "\n",
    "# Plot qubit energy levels\n",
    "energy_levels = [0, virtual_transmon.qubit_frequency, \n",
    "                virtual_transmon.qubit_frequency + virtual_transmon.qubit_frequency + virtual_transmon.anharmonicity]\n",
    "\n",
    "fig_concepts.add_trace(go.Scatter(\n",
    "    x=[0, 1, 2], \n",
    "    y=energy_levels[:3],\n",
    "    mode='lines+markers+text',\n",
    "    text=['|0⟩', '|1⟩', '|2⟩'],\n",
    "    textposition='middle right',\n",
    "    name='Energy Levels',\n",
    "    line=dict(color='blue', width=3),\n",
    "    marker=dict(size=12)\n",
    "))\n",
    "\n",
    "fig_concepts.add_annotation(\n",
    "    x=0.5, y=virtual_transmon.qubit_frequency/2,\n",
    "    text=f'f₀₁ = {virtual_transmon.qubit_frequency:.0f} MHz',\n",
    "    showarrow=True, arrowhead=2, arrowcolor='red'\n",
    ")\n",
    "\n",
    "fig_concepts.add_annotation(\n",
    "    x=1.5, y=virtual_transmon.qubit_frequency + virtual_transmon.anharmonicity/2,\n",
    "    text=f'f₁₂ = f₀₁ + α\\\\nα = {virtual_transmon.anharmonicity:.0f} MHz',\n",
    "    showarrow=True, arrowhead=2, arrowcolor='red'\n",
    ")\n",
    "\n",
    "fig_concepts.update_layout(\n",
    "    title='Transmon Qubit Energy Level Structure',\n",
    "    xaxis_title='Qubit Level',\n",
    "    yaxis_title='Energy (MHz)',\n",
    "    showlegend=True,\n",
    "    width=700, height=500\n",
    ")\n",
    "\n",
    "fig_concepts.show()\n",
    "\n",
    "# Show state population distribution\n",
    "fig_pop = go.Figure(data=go.Bar(\n",
    "    x=['|0⟩', '|1⟩', '|2⟩', '|3⟩'],\n",
    "    y=virtual_transmon.quiescent_state_distribution,\n",
    "    marker_color=['lightblue', 'lightcoral', 'lightgreen', 'lightyellow']\n",
    "))\n",
    "\n",
    "fig_pop.update_layout(\n",
    "    title='Qubit State Population Distribution',\n",
    "    xaxis_title='Quantum State',\n",
    "    yaxis_title='Population',\n",
    "    width=600, height=400\n",
    ")\n",
    "\n",
    "fig_pop.show()\n",
    "\n",
    "print(\"\\\\n📊 The visualizations above show:\")\n",
    "print(\"1. Energy level structure: Higher levels are closer together (anharmonicity)\")\n",
    "print(\"2. State populations: Mostly in ground state |0⟩, small thermal populations in excited states\")"
   ]
  },
  {
   "cell_type": "markdown",
   "id": "3tv41uv2ptk",
   "metadata": {},
   "source": [
    "## Key Concepts Summary\n",
    "\n",
    "### What We've Learned\n",
    "\n",
    "1. **LeeQ Architecture**: LeeQ provides a comprehensive framework for quantum experiments\n",
    "   - **Chronicle**: Automatic logging and data persistence\n",
    "   - **Elements**: Quantum device abstractions (TransmonElement)\n",
    "   - **Setups**: Simulation and hardware backends\n",
    "   - **Experiments**: Structured experimental procedures\n",
    "\n",
    "2. **Transmon Qubits**: \n",
    "   - **Weakly anharmonic oscillators** with energy levels that get closer together\n",
    "   - **Controllable** using microwave pulses at specific frequencies\n",
    "   - **Measurable** using dispersive readout techniques\n",
    "   - **Decoherent** due to T1 (relaxation) and T2 (dephasing) processes\n",
    "\n",
    "3. **Simulation Framework**:\n",
    "   - **VirtualTransmon**: Realistic qubit simulation with noise and thermal populations\n",
    "   - **HighLevelSimulationSetup**: Educational simulation backend\n",
    "   - **Configurable parameters**: Frequencies, coherence times, pulse shapes\n",
    "\n",
    "4. **Data and Visualization**:\n",
    "   - **Automatic data logging** through Chronicle integration\n",
    "   - **Interactive plots** using Plotly for better understanding\n",
    "   - **Experimental analysis** with built-in fitting procedures"
   ]
  },
  {
   "cell_type": "markdown",
   "id": "next-steps",
   "metadata": {},
   "source": [
    "## Next Steps\n",
    "\n",
    "Continue to [02_single_qubit.ipynb](02_single_qubit.ipynb) to learn about single qubit experiments and calibration."
   ]
  }
 ],
 "metadata": {
  "kernelspec": {
   "display_name": "Python 3",
   "language": "python",
   "name": "python3"
  },
  "language_info": {
   "codemirror_mode": {
    "name": "ipython",
    "version": 3
   },
   "file_extension": ".py",
   "mimetype": "text/x-python",
   "name": "python",
   "nbconvert_exporter": "python",
   "pygments_lexer": "ipython3",
   "version": "3.10.18"
  }
 },
 "nbformat": 4,
 "nbformat_minor": 5
}
