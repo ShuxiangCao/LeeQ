{
 "cells": [
  {
   "cell_type": "code",
   "id": "6cfcdb4d-7754-40b0-939e-343f1b875636",
   "metadata": {},
   "source": [
    "import os\n",
    "import json\n",
    "from pprint import pprint\n",
    "\n",
    "# List to hold the data from all JSON files\n",
    "all_json_data = {}\n",
    "\n",
    "# Get the current directory\n",
    "current_directory = os.getcwd()\n",
    "res_dir = current_directory + '/result_old'\n",
    "\n",
    "# Loop through all files in the current directory\n",
    "for filename in os.listdir(res_dir):\n",
    "    if filename.endswith('.json'):\n",
    "        # if filename.startswith('.'):\n",
    "            # continue\n",
    "        file_path = os.path.join(res_dir, filename)\n",
    "        \n",
    "        # Open and read the JSON file\n",
    "        with open(file_path, 'r') as file:\n",
    "            try:\n",
    "                json_data = json.load(file)\n",
    "\n",
    "                label = filename.split('.')[0]\n",
    "                if len(label) == 0:\n",
    "                    continue\n",
    "\n",
    "                all_json_data[label] = json_data\n",
    "            except json.JSONDecodeError as e:\n",
    "                print(f\"Error reading {filename}: {e}\")\n",
    "\n",
    "# Now, all_json_data contains the contents of all JSON files\n",
    "pprint(all_json_data.keys())\n"
   ],
   "outputs": [],
   "execution_count": null
  },
  {
   "cell_type": "code",
   "id": "86fdc7ac-bf98-48ee-af2e-a6e96827d4c7",
   "metadata": {},
   "source": [
    "all_json_data.keys()"
   ],
   "outputs": [],
   "execution_count": null
  },
  {
   "cell_type": "code",
   "id": "acad67e1-ab3c-4387-8d51-29ffe31a18a0",
   "metadata": {},
   "source": [
    "import pandas as pd"
   ],
   "outputs": [],
   "execution_count": null
  },
  {
   "cell_type": "code",
   "id": "3e96dc22-1985-473b-a147-7147e11025be",
   "metadata": {},
   "source": [
    "entries = []\n",
    "\n",
    "def summarize_statistics(data):\n",
    "\n",
    "    entries = []\n",
    "    for key,val in data.items():\n",
    "        data = {\n",
    "            'model_type':key\n",
    "        }\n",
    "        data.update(val)\n",
    "        entries.append(data)\n",
    "\n",
    "    return entries\n",
    "\n",
    "for case,data in all_json_data.items():\n",
    "    model = case.split('_')[0]\n",
    "    case = '_'.join(case.split('_')[1:-1])\n",
    "    for _, report in data.items():\n",
    "        for inspection_type, results in report.items():\n",
    "            entry = {}\n",
    "            entry['inspection_type']=inspection_type\n",
    "            entry['case'] = case\n",
    "            entry['model'] = model\n",
    "            for r in summarize_statistics(results):\n",
    "                r.update(entry)\n",
    "                entries.append(r)"
   ],
   "outputs": [],
   "execution_count": null
  },
  {
   "cell_type": "code",
   "id": "a14803a0-78cf-4259-b610-c58a2b1db821",
   "metadata": {},
   "source": [
    "print(entries[0].keys())"
   ],
   "outputs": [],
   "execution_count": null
  },
  {
   "cell_type": "code",
   "id": "692853c9-1282-4541-b1e5-1372abc9fea8",
   "metadata": {},
   "source": [
    "df = pd.DataFrame(entries)"
   ],
   "outputs": [],
   "execution_count": null
  },
  {
   "cell_type": "code",
   "id": "7368d5ff90c7f27a",
   "metadata": {},
   "source": [
    "df"
   ],
   "outputs": [],
   "execution_count": null
  },
  {
   "cell_type": "code",
   "id": "5992bb51-b798-47d2-bee4-d73343209aa9",
   "metadata": {},
   "source": [
    "mask = df['case'].str.contains('success')\n",
    "df['target_output'] = mask\n",
    "df['ai_output'] = df['Experiment success']\n",
    "df['success'] = (df['ai_output'] == df['target_output'])\n",
    "# for all entry whose model_type is \"fitting_only\", set its \"inspection\" to \"fitting\"\n",
    "#df.loc[df['model_type'] == 'fitting_only', 'inspection_type'] = 'fitting'\n",
    "\n",
    "# if the model_type is \"fitting_only\", set its \"run_type\" to \"fitting\"\n",
    "df.loc[df['model_type'] == 'fitting_only', 'run_type'] = 'fitting_only'\n",
    "# if the model_type is \"full\", set its \"run_type\" to be \"full\"+\"inspection_type\"\n",
    "df.loc[df['model_type'] == 'full', 'run_type'] = 'full_' + df['inspection_type']\n",
    "# if the model_type is \"visual_only\", set its \"run_type\" to be \"visual\"+\"inspection_type\"\n",
    "df.loc[df['model_type'] == 'visual_only', 'run_type'] = 'visual_only_' + df['inspection_type']\n",
    "\n"
   ],
   "outputs": [],
   "execution_count": null
  },
  {
   "cell_type": "code",
   "id": "a417d5db4e8196d8",
   "metadata": {},
   "source": [
    "# get the ratio of True in \"full success\"\n",
    "# group by the value of \"case\"\n",
    "df.groupby(['model', 'run_type'])['success'].mean()"
   ],
   "outputs": [],
   "execution_count": null
  },
  {
   "metadata": {},
   "cell_type": "code",
   "source": [
    "\n",
    "map_model_to_plot_name = {\n",
    "    \"openai\": \"GPT-4o\",\n",
    "    \"anthropic\" : \"Claude-3-Opus\",\n",
    "    \"llama\": \"Llama-3-70B+Llava-v1.6-34B\",\n",
    "    \"gemini\": \"Gemini-1.5-Pro\"\n",
    "}\n",
    "\n",
    "map_run_type_to_plot_name = {\n",
    "    \"fitting_only\": \"Fitting only\",\n",
    "    \"full_image_few_shot\": \"Full (few shot)\",\n",
    "    \"full_image_zero_shot\": \"Full (zero shot)\",\n",
    "    \"visual_only_image_few_shot\": \"Visual (few shot)\",\n",
    "    \"visual_only_image_zero_shot\": \"Visual (zero shot)\",\n",
    "}\n",
    "\n",
    "\n",
    "# map the model name to the plot name\n",
    "df['model_plot_name'] = df['model'].map(map_model_to_plot_name)\n",
    "df['run_type_plot_name'] = df['run_type'].map(map_run_type_to_plot_name)\n"
   ],
   "id": "bafd47c64dda9f32",
   "outputs": [],
   "execution_count": null
  },
  {
   "metadata": {},
   "cell_type": "code",
   "source": [
    "# draw a bar plot\n",
    "import seaborn as sns\n",
    "import matplotlib.pyplot as plt\n",
    "\n",
    "model_order = [\"openai\", \"gemini\", \"anthropic\", \"llama\"]\n",
    "model_order = [map_model_to_plot_name[o] for o in model_order]\n",
    "run_type_order = [\"full_image_few_shot\", \"visual_only_image_few_shot\", \"full_image_zero_shot\", \"visual_only_image_zero_shot\", \"fitting_only\"]\n",
    "run_type_order = [map_run_type_to_plot_name[o] for o in run_type_order]\n",
    "\n",
    "\n",
    "sns.color_palette(\"mako\", as_cmap=True)\n",
    "plt.figure(figsize=(12, 2.5))\n",
    "sns.barplot(x='model_plot_name', y='success', hue='run_type_plot_name', data=df, errorbar=None, order=model_order, hue_order=run_type_order, palette='viridis')\n",
    "# remove the y label and axis\n",
    "plt.ylabel('')\n",
    "plt.yticks([])\n",
    "\n",
    "# Set the y axis start from 0.5\n",
    "plt.ylim(0.4, 1.0)\n",
    "\n",
    "plt.xlabel('Model')\n",
    "\n",
    "# Move the legend to the right of the plot\n",
    "plt.legend(loc='center left', bbox_to_anchor=(1, 0.5), title='Inspection type')\n",
    "\n",
    "plt.title('Accuracy of visual inspection')\n",
    "\n",
    "for bar in plt.gca().patches:\n",
    "    current_x = bar.get_x()\n",
    "    if current_x > 2.5:\n",
    "        bar.set_x(current_x - 0.17)\n",
    "    \n",
    "# Add the number on the top of the bar\n",
    "# Use the font family of 'Comic Sans MS'\n",
    "for p in plt.gca().patches:\n",
    "    if p.get_height() == 0.0:\n",
    "        continue\n",
    "    plt.gca().annotate(f\"{p.get_height()*100:.1f}%\", (p.get_x() + p.get_width() / 2. + 0.005, p.get_height()),\n",
    "                ha='center', va='center', fontsize=9, color='black', xytext=(0, 5),\n",
    "                textcoords='offset points', fontfamily='sans-serif')\n",
    "\n",
    "# Save the plot\n",
    "plt.savefig('inspection_benchmark_summary.png', bbox_inches='tight', dpi=300)\n",
    "plt.show()"
   ],
   "id": "c8557d7537ca0c82",
   "outputs": [],
   "execution_count": null
  },
  {
   "metadata": {},
   "cell_type": "code",
   "source": "\n",
   "id": "c51c3b1cd4b8132d",
   "outputs": [],
   "execution_count": null
  }
 ],
 "metadata": {
  "kernelspec": {
   "display_name": "Python 3 (ipykernel)",
   "language": "python",
   "name": "python3"
  },
  "language_info": {
   "codemirror_mode": {
    "name": "ipython",
    "version": 3
   },
   "file_extension": ".py",
   "mimetype": "text/x-python",
   "name": "python",
   "nbconvert_exporter": "python",
   "pygments_lexer": "ipython3",
   "version": "3.11.2"
  }
 },
 "nbformat": 4,
 "nbformat_minor": 5
}
