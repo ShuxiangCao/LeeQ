{
 "cells": [
  {
   "cell_type": "code",
   "execution_count": 1,
   "id": "6cfcdb4d-7754-40b0-939e-343f1b875636",
   "metadata": {
    "ExecuteTime": {
     "end_time": "2024-09-01T23:49:17.573876Z",
     "start_time": "2024-09-01T23:49:17.552849Z"
    }
   },
   "outputs": [
    {
     "name": "stdout",
     "output_type": "stream",
     "text": [
      "dict_keys(['openai_rabi_failure_cases', 'openai_gmm_failure_cases', 'openai_drag_success_cases', 'openai_gmm_success_cases', 'openai_drag_failure_cases', 'openai_rabi_success_cases', 'openai_resonator_spec_failure_cases', 'openai_resonator_spec_success_cases'])\n"
     ]
    }
   ],
   "source": [
    "import os\n",
    "import json\n",
    "from pprint import pprint\n",
    "\n",
    "# List to hold the data from all JSON files\n",
    "all_json_data = {}\n",
    "\n",
    "# Get the current directory\n",
    "current_directory = os.getcwd()\n",
    "\n",
    "# Loop through all files in the current directory\n",
    "for filename in os.listdir(current_directory):\n",
    "    if filename.endswith('.json'):\n",
    "        # if filename.startswith('.'):\n",
    "            # continue\n",
    "        file_path = os.path.join(current_directory, filename)\n",
    "        \n",
    "        # Open and read the JSON file\n",
    "        with open(file_path, 'r') as file:\n",
    "            try:\n",
    "                json_data = json.load(file)\n",
    "\n",
    "                label = filename.split('.')[0]\n",
    "                if len(label) == 0:\n",
    "                    continue\n",
    "\n",
    "                all_json_data[label] = json_data\n",
    "            except json.JSONDecodeError as e:\n",
    "                print(f\"Error reading {filename}: {e}\")\n",
    "\n",
    "# Now, all_json_data contains the contents of all JSON files\n",
    "pprint(all_json_data.keys())\n"
   ]
  },
  {
   "cell_type": "code",
   "execution_count": 2,
   "id": "86fdc7ac-bf98-48ee-af2e-a6e96827d4c7",
   "metadata": {},
   "outputs": [
    {
     "data": {
      "text/plain": [
       "dict_keys(['openai_rabi_failure_cases', 'openai_gmm_failure_cases', 'openai_drag_success_cases', 'openai_gmm_success_cases', 'openai_drag_failure_cases', 'openai_rabi_success_cases', 'openai_resonator_spec_failure_cases', 'openai_resonator_spec_success_cases'])"
      ]
     },
     "execution_count": 2,
     "metadata": {},
     "output_type": "execute_result"
    }
   ],
   "source": [
    "all_json_data.keys()"
   ]
  },
  {
   "cell_type": "code",
   "execution_count": 3,
   "id": "acad67e1-ab3c-4387-8d51-29ffe31a18a0",
   "metadata": {
    "ExecuteTime": {
     "end_time": "2024-09-01T23:49:18.760314Z",
     "start_time": "2024-09-01T23:49:18.758221Z"
    }
   },
   "outputs": [],
   "source": [
    "import pandas as pd"
   ]
  },
  {
   "cell_type": "code",
   "execution_count": 4,
   "id": "3e96dc22-1985-473b-a147-7147e11025be",
   "metadata": {
    "ExecuteTime": {
     "end_time": "2024-09-01T23:49:19.238626Z",
     "start_time": "2024-09-01T23:49:19.233967Z"
    }
   },
   "outputs": [],
   "source": [
    "entries = []\n",
    "\n",
    "def summarize_statistics(data):\n",
    "\n",
    "    entries = []\n",
    "    for key,val in data.items():\n",
    "        data = {\n",
    "            'model_type':key\n",
    "        }\n",
    "        data.update(val)\n",
    "        entries.append(data)\n",
    "\n",
    "    return entries\n",
    "\n",
    "for case,data in all_json_data.items():\n",
    "    model = case.split('_')[0]\n",
    "    case = '_'.join(case.split('_')[1:-1])\n",
    "    for _, report in data.items():\n",
    "        for inspection_type, results in report.items():\n",
    "            entry = {}\n",
    "            entry['inspection_type']=inspection_type\n",
    "            entry['case'] = case\n",
    "            entry['model'] = model\n",
    "            for r in summarize_statistics(results):\n",
    "                r.update(entry)\n",
    "                entries.append(r)"
   ]
  },
  {
   "cell_type": "code",
   "execution_count": 5,
   "id": "a14803a0-78cf-4259-b610-c58a2b1db821",
   "metadata": {
    "ExecuteTime": {
     "end_time": "2024-09-01T23:49:20.054199Z",
     "start_time": "2024-09-01T23:49:20.051363Z"
    }
   },
   "outputs": [
    {
     "name": "stdout",
     "output_type": "stream",
     "text": [
      "dict_keys(['model_type', 'plot_fft', 'fitting', 'Final analysis', 'Suggested parameter updates', 'Experiment success', 'inspection_type', 'case', 'model'])\n"
     ]
    }
   ],
   "source": [
    "print(entries[0].keys())"
   ]
  },
  {
   "cell_type": "code",
   "execution_count": 6,
   "id": "692853c9-1282-4541-b1e5-1372abc9fea8",
   "metadata": {
    "ExecuteTime": {
     "end_time": "2024-09-02T00:49:48.160979Z",
     "start_time": "2024-09-02T00:49:48.157762Z"
    }
   },
   "outputs": [],
   "source": [
    "df = pd.DataFrame(entries)"
   ]
  },
  {
   "cell_type": "code",
   "execution_count": 7,
   "id": "7368d5ff90c7f27a",
   "metadata": {
    "ExecuteTime": {
     "end_time": "2024-09-02T00:49:48.797194Z",
     "start_time": "2024-09-02T00:49:48.786249Z"
    }
   },
   "outputs": [
    {
     "data": {
      "text/html": [
       "<div>\n",
       "<style scoped>\n",
       "    .dataframe tbody tr th:only-of-type {\n",
       "        vertical-align: middle;\n",
       "    }\n",
       "\n",
       "    .dataframe tbody tr th {\n",
       "        vertical-align: top;\n",
       "    }\n",
       "\n",
       "    .dataframe thead th {\n",
       "        text-align: right;\n",
       "    }\n",
       "</style>\n",
       "<table border=\"1\" class=\"dataframe\">\n",
       "  <thead>\n",
       "    <tr style=\"text-align: right;\">\n",
       "      <th></th>\n",
       "      <th>model_type</th>\n",
       "      <th>plot_fft</th>\n",
       "      <th>fitting</th>\n",
       "      <th>Final analysis</th>\n",
       "      <th>Suggested parameter updates</th>\n",
       "      <th>Experiment success</th>\n",
       "      <th>inspection_type</th>\n",
       "      <th>case</th>\n",
       "      <th>model</th>\n",
       "      <th>plot_hexbin</th>\n",
       "      <th>plot</th>\n",
       "      <th>plot_magnitude</th>\n",
       "    </tr>\n",
       "  </thead>\n",
       "  <tbody>\n",
       "    <tr>\n",
       "      <th>0</th>\n",
       "      <td>full</td>\n",
       "      <td>The plot shows the frequency spectrum of Rabi ...</td>\n",
       "      <td>The fitting result of the Rabi oscillation sug...</td>\n",
       "      <td>The experiment successfully observed Rabi osci...</td>\n",
       "      <td>amp should be updated by 0.20677828</td>\n",
       "      <td>True</td>\n",
       "      <td>no_image_few_shot</td>\n",
       "      <td>rabi_failure</td>\n",
       "      <td>openai</td>\n",
       "      <td>NaN</td>\n",
       "      <td>NaN</td>\n",
       "      <td>NaN</td>\n",
       "    </tr>\n",
       "    <tr>\n",
       "      <th>1</th>\n",
       "      <td>fitting_only</td>\n",
       "      <td>NaN</td>\n",
       "      <td>The fitting result of the Rabi oscillation sug...</td>\n",
       "      <td>The experiment successfully demonstrated a cle...</td>\n",
       "      <td>amp should be updated by 0.20677828</td>\n",
       "      <td>True</td>\n",
       "      <td>no_image_few_shot</td>\n",
       "      <td>rabi_failure</td>\n",
       "      <td>openai</td>\n",
       "      <td>NaN</td>\n",
       "      <td>NaN</td>\n",
       "      <td>NaN</td>\n",
       "    </tr>\n",
       "    <tr>\n",
       "      <th>2</th>\n",
       "      <td>visual_only</td>\n",
       "      <td>The plot shows the frequency spectrum of Rabi ...</td>\n",
       "      <td>NaN</td>\n",
       "      <td>The experiment successfully observed Rabi osci...</td>\n",
       "      <td>None</td>\n",
       "      <td>True</td>\n",
       "      <td>no_image_few_shot</td>\n",
       "      <td>rabi_failure</td>\n",
       "      <td>openai</td>\n",
       "      <td>NaN</td>\n",
       "      <td>NaN</td>\n",
       "      <td>NaN</td>\n",
       "    </tr>\n",
       "    <tr>\n",
       "      <th>3</th>\n",
       "      <td>full</td>\n",
       "      <td>The plot shows the frequency spectrum of Rabi ...</td>\n",
       "      <td>The fitting result of the Rabi oscillation sug...</td>\n",
       "      <td>The experiment was successful as indicated by ...</td>\n",
       "      <td>amp should be updated by 0.15745233</td>\n",
       "      <td>True</td>\n",
       "      <td>image_few_shot</td>\n",
       "      <td>rabi_failure</td>\n",
       "      <td>openai</td>\n",
       "      <td>NaN</td>\n",
       "      <td>NaN</td>\n",
       "      <td>NaN</td>\n",
       "    </tr>\n",
       "    <tr>\n",
       "      <th>4</th>\n",
       "      <td>fitting_only</td>\n",
       "      <td>NaN</td>\n",
       "      <td>The fitting result of the Rabi oscillation sug...</td>\n",
       "      <td>The experiment results indicate a successful R...</td>\n",
       "      <td>amp should be updated by 0.15745233</td>\n",
       "      <td>True</td>\n",
       "      <td>image_few_shot</td>\n",
       "      <td>rabi_failure</td>\n",
       "      <td>openai</td>\n",
       "      <td>NaN</td>\n",
       "      <td>NaN</td>\n",
       "      <td>NaN</td>\n",
       "    </tr>\n",
       "    <tr>\n",
       "      <th>...</th>\n",
       "      <td>...</td>\n",
       "      <td>...</td>\n",
       "      <td>...</td>\n",
       "      <td>...</td>\n",
       "      <td>...</td>\n",
       "      <td>...</td>\n",
       "      <td>...</td>\n",
       "      <td>...</td>\n",
       "      <td>...</td>\n",
       "      <td>...</td>\n",
       "      <td>...</td>\n",
       "      <td>...</td>\n",
       "    </tr>\n",
       "    <tr>\n",
       "      <th>955</th>\n",
       "      <td>fitting_only</td>\n",
       "      <td>NaN</td>\n",
       "      <td>The fitting suggest that the resonant frequenc...</td>\n",
       "      <td>The experiment successfully detected a resonat...</td>\n",
       "      <td>None</td>\n",
       "      <td>True</td>\n",
       "      <td>no_image_few_shot</td>\n",
       "      <td>resonator_spec_success</td>\n",
       "      <td>openai</td>\n",
       "      <td>NaN</td>\n",
       "      <td>NaN</td>\n",
       "      <td>NaN</td>\n",
       "    </tr>\n",
       "    <tr>\n",
       "      <th>956</th>\n",
       "      <td>visual_only</td>\n",
       "      <td>NaN</td>\n",
       "      <td>NaN</td>\n",
       "      <td>The experiment successfully identified a reson...</td>\n",
       "      <td>None</td>\n",
       "      <td>True</td>\n",
       "      <td>no_image_few_shot</td>\n",
       "      <td>resonator_spec_success</td>\n",
       "      <td>openai</td>\n",
       "      <td>NaN</td>\n",
       "      <td>NaN</td>\n",
       "      <td>The resonator spectroscopy magnitude plot show...</td>\n",
       "    </tr>\n",
       "    <tr>\n",
       "      <th>957</th>\n",
       "      <td>full</td>\n",
       "      <td>NaN</td>\n",
       "      <td>The fitting suggest that the resonant frequenc...</td>\n",
       "      <td>The experiment successfully detected a resonat...</td>\n",
       "      <td>None</td>\n",
       "      <td>True</td>\n",
       "      <td>image_few_shot</td>\n",
       "      <td>resonator_spec_success</td>\n",
       "      <td>openai</td>\n",
       "      <td>NaN</td>\n",
       "      <td>NaN</td>\n",
       "      <td>The resonator spectroscopy magnitude plot show...</td>\n",
       "    </tr>\n",
       "    <tr>\n",
       "      <th>958</th>\n",
       "      <td>fitting_only</td>\n",
       "      <td>NaN</td>\n",
       "      <td>The fitting suggest that the resonant frequenc...</td>\n",
       "      <td>The experiment successfully detected a resonat...</td>\n",
       "      <td>None</td>\n",
       "      <td>True</td>\n",
       "      <td>image_few_shot</td>\n",
       "      <td>resonator_spec_success</td>\n",
       "      <td>openai</td>\n",
       "      <td>NaN</td>\n",
       "      <td>NaN</td>\n",
       "      <td>NaN</td>\n",
       "    </tr>\n",
       "    <tr>\n",
       "      <th>959</th>\n",
       "      <td>visual_only</td>\n",
       "      <td>NaN</td>\n",
       "      <td>NaN</td>\n",
       "      <td>The experiment successfully detected a resonat...</td>\n",
       "      <td>None</td>\n",
       "      <td>True</td>\n",
       "      <td>image_few_shot</td>\n",
       "      <td>resonator_spec_success</td>\n",
       "      <td>openai</td>\n",
       "      <td>NaN</td>\n",
       "      <td>NaN</td>\n",
       "      <td>The resonator spectroscopy magnitude plot show...</td>\n",
       "    </tr>\n",
       "  </tbody>\n",
       "</table>\n",
       "<p>960 rows × 12 columns</p>\n",
       "</div>"
      ],
      "text/plain": [
       "       model_type                                           plot_fft  \\\n",
       "0            full  The plot shows the frequency spectrum of Rabi ...   \n",
       "1    fitting_only                                                NaN   \n",
       "2     visual_only  The plot shows the frequency spectrum of Rabi ...   \n",
       "3            full  The plot shows the frequency spectrum of Rabi ...   \n",
       "4    fitting_only                                                NaN   \n",
       "..            ...                                                ...   \n",
       "955  fitting_only                                                NaN   \n",
       "956   visual_only                                                NaN   \n",
       "957          full                                                NaN   \n",
       "958  fitting_only                                                NaN   \n",
       "959   visual_only                                                NaN   \n",
       "\n",
       "                                               fitting  \\\n",
       "0    The fitting result of the Rabi oscillation sug...   \n",
       "1    The fitting result of the Rabi oscillation sug...   \n",
       "2                                                  NaN   \n",
       "3    The fitting result of the Rabi oscillation sug...   \n",
       "4    The fitting result of the Rabi oscillation sug...   \n",
       "..                                                 ...   \n",
       "955  The fitting suggest that the resonant frequenc...   \n",
       "956                                                NaN   \n",
       "957  The fitting suggest that the resonant frequenc...   \n",
       "958  The fitting suggest that the resonant frequenc...   \n",
       "959                                                NaN   \n",
       "\n",
       "                                        Final analysis  \\\n",
       "0    The experiment successfully observed Rabi osci...   \n",
       "1    The experiment successfully demonstrated a cle...   \n",
       "2    The experiment successfully observed Rabi osci...   \n",
       "3    The experiment was successful as indicated by ...   \n",
       "4    The experiment results indicate a successful R...   \n",
       "..                                                 ...   \n",
       "955  The experiment successfully detected a resonat...   \n",
       "956  The experiment successfully identified a reson...   \n",
       "957  The experiment successfully detected a resonat...   \n",
       "958  The experiment successfully detected a resonat...   \n",
       "959  The experiment successfully detected a resonat...   \n",
       "\n",
       "             Suggested parameter updates Experiment success  \\\n",
       "0    amp should be updated by 0.20677828               True   \n",
       "1    amp should be updated by 0.20677828               True   \n",
       "2                                   None               True   \n",
       "3    amp should be updated by 0.15745233               True   \n",
       "4    amp should be updated by 0.15745233               True   \n",
       "..                                   ...                ...   \n",
       "955                                 None               True   \n",
       "956                                 None               True   \n",
       "957                                 None               True   \n",
       "958                                 None               True   \n",
       "959                                 None               True   \n",
       "\n",
       "       inspection_type                    case   model plot_hexbin plot  \\\n",
       "0    no_image_few_shot            rabi_failure  openai         NaN  NaN   \n",
       "1    no_image_few_shot            rabi_failure  openai         NaN  NaN   \n",
       "2    no_image_few_shot            rabi_failure  openai         NaN  NaN   \n",
       "3       image_few_shot            rabi_failure  openai         NaN  NaN   \n",
       "4       image_few_shot            rabi_failure  openai         NaN  NaN   \n",
       "..                 ...                     ...     ...         ...  ...   \n",
       "955  no_image_few_shot  resonator_spec_success  openai         NaN  NaN   \n",
       "956  no_image_few_shot  resonator_spec_success  openai         NaN  NaN   \n",
       "957     image_few_shot  resonator_spec_success  openai         NaN  NaN   \n",
       "958     image_few_shot  resonator_spec_success  openai         NaN  NaN   \n",
       "959     image_few_shot  resonator_spec_success  openai         NaN  NaN   \n",
       "\n",
       "                                        plot_magnitude  \n",
       "0                                                  NaN  \n",
       "1                                                  NaN  \n",
       "2                                                  NaN  \n",
       "3                                                  NaN  \n",
       "4                                                  NaN  \n",
       "..                                                 ...  \n",
       "955                                                NaN  \n",
       "956  The resonator spectroscopy magnitude plot show...  \n",
       "957  The resonator spectroscopy magnitude plot show...  \n",
       "958                                                NaN  \n",
       "959  The resonator spectroscopy magnitude plot show...  \n",
       "\n",
       "[960 rows x 12 columns]"
      ]
     },
     "execution_count": 7,
     "metadata": {},
     "output_type": "execute_result"
    }
   ],
   "source": [
    "df"
   ]
  },
  {
   "cell_type": "code",
   "execution_count": 8,
   "id": "5992bb51-b798-47d2-bee4-d73343209aa9",
   "metadata": {
    "ExecuteTime": {
     "end_time": "2024-09-02T00:49:49.225576Z",
     "start_time": "2024-09-02T00:49:49.223152Z"
    }
   },
   "outputs": [],
   "source": [
    "mask = df['case'].str.contains('success')\n",
    "df['target_output'] = mask\n",
    "df['ai_output'] = df['Experiment success']\n",
    "df['success'] = (df['ai_output'] == df['target_output'])"
   ]
  },
  {
   "cell_type": "code",
   "execution_count": 10,
   "id": "a417d5db4e8196d8",
   "metadata": {
    "ExecuteTime": {
     "end_time": "2024-09-02T00:51:49.658754Z",
     "start_time": "2024-09-02T00:51:49.621869Z"
    }
   },
   "outputs": [
    {
     "data": {
      "text/plain": [
       "case                    model_type    inspection_type  \n",
       "drag_failure            fitting_only  image_few_shot       0.55\n",
       "                                      no_image_few_shot    0.60\n",
       "                        full          image_few_shot       0.55\n",
       "                                      no_image_few_shot    0.60\n",
       "                        visual_only   image_few_shot       0.60\n",
       "                                      no_image_few_shot    0.75\n",
       "drag_success            fitting_only  image_few_shot       0.95\n",
       "                                      no_image_few_shot    1.00\n",
       "                        full          image_few_shot       1.00\n",
       "                                      no_image_few_shot    1.00\n",
       "                        visual_only   image_few_shot       0.70\n",
       "                                      no_image_few_shot    0.90\n",
       "gmm_failure             fitting_only  image_few_shot       0.00\n",
       "                                      no_image_few_shot    0.00\n",
       "                        full          image_few_shot       0.90\n",
       "                                      no_image_few_shot    0.95\n",
       "                        visual_only   image_few_shot       1.00\n",
       "                                      no_image_few_shot    1.00\n",
       "gmm_success             fitting_only  image_few_shot       1.00\n",
       "                                      no_image_few_shot    1.00\n",
       "                        full          image_few_shot       0.60\n",
       "                                      no_image_few_shot    0.65\n",
       "                        visual_only   image_few_shot       0.55\n",
       "                                      no_image_few_shot    0.60\n",
       "rabi_failure            fitting_only  image_few_shot       0.00\n",
       "                                      no_image_few_shot    0.00\n",
       "                        full          image_few_shot       0.50\n",
       "                                      no_image_few_shot    0.05\n",
       "                        visual_only   image_few_shot       0.50\n",
       "                                      no_image_few_shot    0.05\n",
       "rabi_success            fitting_only  image_few_shot       1.00\n",
       "                                      no_image_few_shot    1.00\n",
       "                        full          image_few_shot       1.00\n",
       "                                      no_image_few_shot    1.00\n",
       "                        visual_only   image_few_shot       1.00\n",
       "                                      no_image_few_shot    1.00\n",
       "resonator_spec_failure  fitting_only  image_few_shot       0.15\n",
       "                                      no_image_few_shot    0.10\n",
       "                        full          image_few_shot       1.00\n",
       "                                      no_image_few_shot    0.65\n",
       "                        visual_only   image_few_shot       1.00\n",
       "                                      no_image_few_shot    0.70\n",
       "resonator_spec_success  fitting_only  image_few_shot       0.95\n",
       "                                      no_image_few_shot    1.00\n",
       "                        full          image_few_shot       1.00\n",
       "                                      no_image_few_shot    1.00\n",
       "                        visual_only   image_few_shot       1.00\n",
       "                                      no_image_few_shot    1.00\n",
       "Name: success, dtype: float64"
      ]
     },
     "execution_count": 10,
     "metadata": {},
     "output_type": "execute_result"
    }
   ],
   "source": [
    "# get the ratio of True in \"full success\"\n",
    "# group by the value of \"case\"\n",
    "df.groupby(['case','model_type','inspection_type'])['success'].mean()"
   ]
  },
  {
   "cell_type": "code",
   "execution_count": null,
   "id": "f083cfdc-7842-4e3f-9c58-81109f20db61",
   "metadata": {},
   "outputs": [],
   "source": []
  },
  {
   "cell_type": "code",
   "execution_count": null,
   "id": "755076c1-35a9-4370-b558-ab62904064f0",
   "metadata": {},
   "outputs": [],
   "source": []
  },
  {
   "cell_type": "code",
   "execution_count": null,
   "id": "a1952449-0574-4018-be1c-8dbbecc6fcdb",
   "metadata": {},
   "outputs": [],
   "source": []
  },
  {
   "cell_type": "code",
   "execution_count": null,
   "id": "94ddeb42-d000-4195-a863-eda8212c7dbf",
   "metadata": {},
   "outputs": [],
   "source": []
  }
 ],
 "metadata": {
  "kernelspec": {
   "display_name": "Python 3 (ipykernel)",
   "language": "python",
   "name": "python3"
  },
  "language_info": {
   "codemirror_mode": {
    "name": "ipython",
    "version": 3
   },
   "file_extension": ".py",
   "mimetype": "text/x-python",
   "name": "python",
   "nbconvert_exporter": "python",
   "pygments_lexer": "ipython3",
   "version": "3.11.2"
  }
 },
 "nbformat": 4,
 "nbformat_minor": 5
}
