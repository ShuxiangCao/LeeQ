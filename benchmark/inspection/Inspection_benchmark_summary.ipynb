{
 "cells": [
  {
   "cell_type": "code",
   "id": "6cfcdb4d-7754-40b0-939e-343f1b875636",
   "metadata": {
    "ExecuteTime": {
     "end_time": "2024-10-23T04:16:28.776928Z",
     "start_time": "2024-10-23T04:16:28.754333Z"
    }
   },
   "source": [
    "import os\n",
    "import json\n",
    "from pprint import pprint\n",
    "\n",
    "# List to hold the data from all JSON files\n",
    "all_json_data = {}\n",
    "\n",
    "# Get the current directory\n",
    "current_directory = os.getcwd()\n",
    "res_dir = current_directory + '/result'\n",
    "\n",
    "# Loop through all files in the current directory\n",
    "for filename in os.listdir(res_dir):\n",
    "    if filename.endswith('.json'):\n",
    "        # if filename.startswith('.'):\n",
    "            # continue\n",
    "        file_path = os.path.join(res_dir, filename)\n",
    "        \n",
    "        # Open and read the JSON file\n",
    "        with open(file_path, 'r') as file:\n",
    "            try:\n",
    "                json_data = json.load(file)\n",
    "\n",
    "                label = filename.split('.')[0]\n",
    "                if len(label) == 0:\n",
    "                    continue\n",
    "\n",
    "                all_json_data[label] = json_data\n",
    "            except json.JSONDecodeError as e:\n",
    "                print(f\"Error reading {filename}: {e}\")\n",
    "\n",
    "# Now, all_json_data contains the contents of all JSON files\n",
    "pprint(all_json_data.keys())\n"
   ],
   "outputs": [
    {
     "name": "stdout",
     "output_type": "stream",
     "text": [
      "dict_keys(['anthropic_resonator_spec_success_cases', 'llama_resonator_spec_success_cases', 'gemini_drag_success_cases', 'openai_drag_failure_cases', 'gemini_resonator_spec_failure_cases', 'anthropic_drag_success_cases', 'llama_drag_success_cases', 'openai_resonator_spec_success_cases', 'llama_gmm_success_cases', 'openai_gmm_failure_cases', 'openai_rabi_failure_cases', 'gemini_gmm_success_cases', 'gemini_rabi_success_cases', 'llama_rabi_success_cases', 'anthropic_gmm_failure_cases', 'anthropic_rabi_success_cases', 'llama_gmm_failure_cases', 'openai_gmm_success_cases', 'anthropic_gmm_success_cases', 'anthropic_rabi_failure_cases', 'llama_rabi_failure_cases', 'gemini_rabi_failure_cases', 'openai_rabi_success_cases', 'gemini_gmm_failure_cases', 'llama_resonator_spec_failure_cases', 'anthropic_resonator_spec_failure_cases', 'openai_resonator_spec_failure_cases', 'llama_drag_failure_cases', 'anthropic_drag_failure_cases', 'openai_drag_success_cases', 'gemini_resonator_spec_success_cases', 'gemini_drag_failure_cases'])\n"
     ]
    }
   ],
   "execution_count": 23
  },
  {
   "cell_type": "code",
   "id": "86fdc7ac-bf98-48ee-af2e-a6e96827d4c7",
   "metadata": {
    "ExecuteTime": {
     "end_time": "2024-10-23T04:16:28.784060Z",
     "start_time": "2024-10-23T04:16:28.780977Z"
    }
   },
   "source": [
    "all_json_data.keys()"
   ],
   "outputs": [
    {
     "data": {
      "text/plain": [
       "dict_keys(['anthropic_resonator_spec_success_cases', 'llama_resonator_spec_success_cases', 'gemini_drag_success_cases', 'openai_drag_failure_cases', 'gemini_resonator_spec_failure_cases', 'anthropic_drag_success_cases', 'llama_drag_success_cases', 'openai_resonator_spec_success_cases', 'llama_gmm_success_cases', 'openai_gmm_failure_cases', 'openai_rabi_failure_cases', 'gemini_gmm_success_cases', 'gemini_rabi_success_cases', 'llama_rabi_success_cases', 'anthropic_gmm_failure_cases', 'anthropic_rabi_success_cases', 'llama_gmm_failure_cases', 'openai_gmm_success_cases', 'anthropic_gmm_success_cases', 'anthropic_rabi_failure_cases', 'llama_rabi_failure_cases', 'gemini_rabi_failure_cases', 'openai_rabi_success_cases', 'gemini_gmm_failure_cases', 'llama_resonator_spec_failure_cases', 'anthropic_resonator_spec_failure_cases', 'openai_resonator_spec_failure_cases', 'llama_drag_failure_cases', 'anthropic_drag_failure_cases', 'openai_drag_success_cases', 'gemini_resonator_spec_success_cases', 'gemini_drag_failure_cases'])"
      ]
     },
     "execution_count": 24,
     "metadata": {},
     "output_type": "execute_result"
    }
   ],
   "execution_count": 24
  },
  {
   "cell_type": "code",
   "id": "acad67e1-ab3c-4387-8d51-29ffe31a18a0",
   "metadata": {
    "ExecuteTime": {
     "end_time": "2024-10-23T04:16:28.786408Z",
     "start_time": "2024-10-23T04:16:28.784889Z"
    }
   },
   "source": [
    "import pandas as pd"
   ],
   "outputs": [],
   "execution_count": 25
  },
  {
   "cell_type": "code",
   "id": "3e96dc22-1985-473b-a147-7147e11025be",
   "metadata": {
    "ExecuteTime": {
     "end_time": "2024-10-23T04:16:28.792002Z",
     "start_time": "2024-10-23T04:16:28.786908Z"
    }
   },
   "source": [
    "entries = []\n",
    "\n",
    "def summarize_statistics(data):\n",
    "\n",
    "    entries = []\n",
    "    for key,val in data.items():\n",
    "        data = {\n",
    "            'model_type':key\n",
    "        }\n",
    "        data.update(val)\n",
    "        entries.append(data)\n",
    "\n",
    "    return entries\n",
    "\n",
    "for case,data in all_json_data.items():\n",
    "    model = case.split('_')[0]\n",
    "    case = '_'.join(case.split('_')[1:-1])\n",
    "    for _, report in data.items():\n",
    "        for inspection_type, results in report.items():\n",
    "            entry = {}\n",
    "            entry['inspection_type']=inspection_type\n",
    "            entry['case'] = case\n",
    "            entry['model'] = model\n",
    "            for r in summarize_statistics(results):\n",
    "                r.update(entry)\n",
    "                entries.append(r)"
   ],
   "outputs": [],
   "execution_count": 26
  },
  {
   "cell_type": "code",
   "id": "a14803a0-78cf-4259-b610-c58a2b1db821",
   "metadata": {
    "ExecuteTime": {
     "end_time": "2024-10-23T04:16:28.795624Z",
     "start_time": "2024-10-23T04:16:28.793155Z"
    }
   },
   "source": [
    "print(entries[0].keys())"
   ],
   "outputs": [
    {
     "name": "stdout",
     "output_type": "stream",
     "text": [
      "dict_keys(['model_type', 'analysis', 'success', 'inspection_type', 'case', 'model'])\n"
     ]
    }
   ],
   "execution_count": 27
  },
  {
   "cell_type": "code",
   "id": "692853c9-1282-4541-b1e5-1372abc9fea8",
   "metadata": {
    "ExecuteTime": {
     "end_time": "2024-10-23T04:16:28.800596Z",
     "start_time": "2024-10-23T04:16:28.796539Z"
    }
   },
   "source": [
    "df = pd.DataFrame(entries)"
   ],
   "outputs": [],
   "execution_count": 28
  },
  {
   "cell_type": "code",
   "id": "7368d5ff90c7f27a",
   "metadata": {
    "ExecuteTime": {
     "end_time": "2024-10-23T04:16:28.807042Z",
     "start_time": "2024-10-23T04:16:28.801525Z"
    }
   },
   "source": [
    "df"
   ],
   "outputs": [
    {
     "data": {
      "text/plain": [
       "        model_type                                           analysis success  \\\n",
       "0             full  The resonator spectroscopy experiment was succ...    True   \n",
       "1     fitting_only  The fitting results suggest the presence of a ...    None   \n",
       "2      visual_only  The resonator spectroscopy magnitude plot exhi...    True   \n",
       "3             full  The resonator spectroscopy experiment was succ...    True   \n",
       "4     fitting_only  The fitting results suggest the presence of a ...    True   \n",
       "...            ...                                                ...     ...   \n",
       "3355  fitting_only  The DRAG calibration experiment was unsuccessf...   False   \n",
       "3356   visual_only  The DRAG calibration experiment successfully i...    True   \n",
       "3357          full  The DRAG coefficient calibration experiment fa...   False   \n",
       "3358  fitting_only  The DRAG calibration experiment was successful...    True   \n",
       "3359   visual_only  The DRAG calibration experiment failed. The an...   False   \n",
       "\n",
       "      inspection_type                    case      model recommended_action  \\\n",
       "0     image_zero_shot  resonator_spec_success  anthropic                NaN   \n",
       "1     image_zero_shot  resonator_spec_success  anthropic                NaN   \n",
       "2     image_zero_shot  resonator_spec_success  anthropic                NaN   \n",
       "3      image_few_shot  resonator_spec_success  anthropic                NaN   \n",
       "4      image_few_shot  resonator_spec_success  anthropic                NaN   \n",
       "...               ...                     ...        ...                ...   \n",
       "3355  image_zero_shot            drag_failure     gemini                NaN   \n",
       "3356  image_zero_shot            drag_failure     gemini                NaN   \n",
       "3357   image_few_shot            drag_failure     gemini                NaN   \n",
       "3358   image_few_shot            drag_failure     gemini                NaN   \n",
       "3359   image_few_shot            drag_failure     gemini                NaN   \n",
       "\n",
       "     recommendation  \n",
       "0               NaN  \n",
       "1               NaN  \n",
       "2               NaN  \n",
       "3               NaN  \n",
       "4               NaN  \n",
       "...             ...  \n",
       "3355            NaN  \n",
       "3356            NaN  \n",
       "3357            NaN  \n",
       "3358            NaN  \n",
       "3359            NaN  \n",
       "\n",
       "[3360 rows x 8 columns]"
      ],
      "text/html": [
       "<div>\n",
       "<style scoped>\n",
       "    .dataframe tbody tr th:only-of-type {\n",
       "        vertical-align: middle;\n",
       "    }\n",
       "\n",
       "    .dataframe tbody tr th {\n",
       "        vertical-align: top;\n",
       "    }\n",
       "\n",
       "    .dataframe thead th {\n",
       "        text-align: right;\n",
       "    }\n",
       "</style>\n",
       "<table border=\"1\" class=\"dataframe\">\n",
       "  <thead>\n",
       "    <tr style=\"text-align: right;\">\n",
       "      <th></th>\n",
       "      <th>model_type</th>\n",
       "      <th>analysis</th>\n",
       "      <th>success</th>\n",
       "      <th>inspection_type</th>\n",
       "      <th>case</th>\n",
       "      <th>model</th>\n",
       "      <th>recommended_action</th>\n",
       "      <th>recommendation</th>\n",
       "    </tr>\n",
       "  </thead>\n",
       "  <tbody>\n",
       "    <tr>\n",
       "      <th>0</th>\n",
       "      <td>full</td>\n",
       "      <td>The resonator spectroscopy experiment was succ...</td>\n",
       "      <td>True</td>\n",
       "      <td>image_zero_shot</td>\n",
       "      <td>resonator_spec_success</td>\n",
       "      <td>anthropic</td>\n",
       "      <td>NaN</td>\n",
       "      <td>NaN</td>\n",
       "    </tr>\n",
       "    <tr>\n",
       "      <th>1</th>\n",
       "      <td>fitting_only</td>\n",
       "      <td>The fitting results suggest the presence of a ...</td>\n",
       "      <td>None</td>\n",
       "      <td>image_zero_shot</td>\n",
       "      <td>resonator_spec_success</td>\n",
       "      <td>anthropic</td>\n",
       "      <td>NaN</td>\n",
       "      <td>NaN</td>\n",
       "    </tr>\n",
       "    <tr>\n",
       "      <th>2</th>\n",
       "      <td>visual_only</td>\n",
       "      <td>The resonator spectroscopy magnitude plot exhi...</td>\n",
       "      <td>True</td>\n",
       "      <td>image_zero_shot</td>\n",
       "      <td>resonator_spec_success</td>\n",
       "      <td>anthropic</td>\n",
       "      <td>NaN</td>\n",
       "      <td>NaN</td>\n",
       "    </tr>\n",
       "    <tr>\n",
       "      <th>3</th>\n",
       "      <td>full</td>\n",
       "      <td>The resonator spectroscopy experiment was succ...</td>\n",
       "      <td>True</td>\n",
       "      <td>image_few_shot</td>\n",
       "      <td>resonator_spec_success</td>\n",
       "      <td>anthropic</td>\n",
       "      <td>NaN</td>\n",
       "      <td>NaN</td>\n",
       "    </tr>\n",
       "    <tr>\n",
       "      <th>4</th>\n",
       "      <td>fitting_only</td>\n",
       "      <td>The fitting results suggest the presence of a ...</td>\n",
       "      <td>True</td>\n",
       "      <td>image_few_shot</td>\n",
       "      <td>resonator_spec_success</td>\n",
       "      <td>anthropic</td>\n",
       "      <td>NaN</td>\n",
       "      <td>NaN</td>\n",
       "    </tr>\n",
       "    <tr>\n",
       "      <th>...</th>\n",
       "      <td>...</td>\n",
       "      <td>...</td>\n",
       "      <td>...</td>\n",
       "      <td>...</td>\n",
       "      <td>...</td>\n",
       "      <td>...</td>\n",
       "      <td>...</td>\n",
       "      <td>...</td>\n",
       "    </tr>\n",
       "    <tr>\n",
       "      <th>3355</th>\n",
       "      <td>fitting_only</td>\n",
       "      <td>The DRAG calibration experiment was unsuccessf...</td>\n",
       "      <td>False</td>\n",
       "      <td>image_zero_shot</td>\n",
       "      <td>drag_failure</td>\n",
       "      <td>gemini</td>\n",
       "      <td>NaN</td>\n",
       "      <td>NaN</td>\n",
       "    </tr>\n",
       "    <tr>\n",
       "      <th>3356</th>\n",
       "      <td>visual_only</td>\n",
       "      <td>The DRAG calibration experiment successfully i...</td>\n",
       "      <td>True</td>\n",
       "      <td>image_zero_shot</td>\n",
       "      <td>drag_failure</td>\n",
       "      <td>gemini</td>\n",
       "      <td>NaN</td>\n",
       "      <td>NaN</td>\n",
       "    </tr>\n",
       "    <tr>\n",
       "      <th>3357</th>\n",
       "      <td>full</td>\n",
       "      <td>The DRAG coefficient calibration experiment fa...</td>\n",
       "      <td>False</td>\n",
       "      <td>image_few_shot</td>\n",
       "      <td>drag_failure</td>\n",
       "      <td>gemini</td>\n",
       "      <td>NaN</td>\n",
       "      <td>NaN</td>\n",
       "    </tr>\n",
       "    <tr>\n",
       "      <th>3358</th>\n",
       "      <td>fitting_only</td>\n",
       "      <td>The DRAG calibration experiment was successful...</td>\n",
       "      <td>True</td>\n",
       "      <td>image_few_shot</td>\n",
       "      <td>drag_failure</td>\n",
       "      <td>gemini</td>\n",
       "      <td>NaN</td>\n",
       "      <td>NaN</td>\n",
       "    </tr>\n",
       "    <tr>\n",
       "      <th>3359</th>\n",
       "      <td>visual_only</td>\n",
       "      <td>The DRAG calibration experiment failed. The an...</td>\n",
       "      <td>False</td>\n",
       "      <td>image_few_shot</td>\n",
       "      <td>drag_failure</td>\n",
       "      <td>gemini</td>\n",
       "      <td>NaN</td>\n",
       "      <td>NaN</td>\n",
       "    </tr>\n",
       "  </tbody>\n",
       "</table>\n",
       "<p>3360 rows × 8 columns</p>\n",
       "</div>"
      ]
     },
     "execution_count": 29,
     "metadata": {},
     "output_type": "execute_result"
    }
   ],
   "execution_count": 29
  },
  {
   "cell_type": "code",
   "id": "5992bb51-b798-47d2-bee4-d73343209aa9",
   "metadata": {
    "ExecuteTime": {
     "end_time": "2024-10-23T04:16:28.814155Z",
     "start_time": "2024-10-23T04:16:28.808259Z"
    }
   },
   "source": [
    "mask = df['case'].str.contains('success')\n",
    "df['target_output'] = mask\n",
    "df['ai_output'] = df['success']\n",
    "df['success'] = (df['ai_output'] == df['target_output'])\n",
    "# for all entry whose model_type is \"fitting_only\", set its \"inspection\" to \"fitting\"\n",
    "#df.loc[df['model_type'] == 'fitting_only', 'inspection_type'] = 'fitting'\n",
    "\n",
    "# if the model_type is \"fitting_only\", set its \"run_type\" to \"fitting\"\n",
    "df.loc[df['model_type'] == 'fitting_only', 'run_type'] = 'fitting_only'\n",
    "# if the model_type is \"full\", set its \"run_type\" to be \"full\"+\"inspection_type\"\n",
    "df.loc[df['model_type'] == 'full', 'run_type'] = 'full_' + df['inspection_type']\n",
    "# if the model_type is \"visual_only\", set its \"run_type\" to be \"visual\"+\"inspection_type\"\n",
    "df.loc[df['model_type'] == 'visual_only', 'run_type'] = 'visual_only_' + df['inspection_type']\n",
    "\n"
   ],
   "outputs": [],
   "execution_count": 30
  },
  {
   "cell_type": "code",
   "id": "a417d5db4e8196d8",
   "metadata": {
    "ExecuteTime": {
     "end_time": "2024-10-23T04:16:28.819044Z",
     "start_time": "2024-10-23T04:16:28.814730Z"
    }
   },
   "source": [
    "# get the ratio of True in \"full success\"\n",
    "# group by the value of \"case\"\n",
    "df.groupby(['model', 'run_type'])['success'].mean()"
   ],
   "outputs": [
    {
     "data": {
      "text/plain": [
       "model      run_type                   \n",
       "anthropic  fitting_only                   0.55000\n",
       "           full_image_few_shot            0.90000\n",
       "           full_image_zero_shot           0.63125\n",
       "           visual_only_image_few_shot     0.88125\n",
       "           visual_only_image_zero_shot    0.50625\n",
       "gemini     fitting_only                   0.58750\n",
       "           full_image_few_shot            0.83750\n",
       "           full_image_zero_shot           0.81875\n",
       "           visual_only_image_few_shot     0.87500\n",
       "           visual_only_image_zero_shot    0.78750\n",
       "llama      fitting_only                   0.61875\n",
       "           full_image_zero_shot           0.57500\n",
       "           visual_only_image_zero_shot    0.48750\n",
       "openai     fitting_only                   0.54375\n",
       "           full_image_few_shot            0.90625\n",
       "           full_image_zero_shot           0.81875\n",
       "           visual_only_image_few_shot     0.96875\n",
       "           visual_only_image_zero_shot    0.80000\n",
       "Name: success, dtype: float64"
      ]
     },
     "execution_count": 31,
     "metadata": {},
     "output_type": "execute_result"
    }
   ],
   "execution_count": 31
  },
  {
   "metadata": {
    "ExecuteTime": {
     "end_time": "2024-10-23T04:16:28.823259Z",
     "start_time": "2024-10-23T04:16:28.819886Z"
    }
   },
   "cell_type": "code",
   "source": [
    "\n",
    "map_model_to_plot_name = {\n",
    "    \"openai\": \"GPT-4o\",\n",
    "    \"anthropic\" : \"Claude-3-Opus\",\n",
    "    \"llama\": \"Llama-3-70B+LLaVA-v1.6-34B\",\n",
    "    \"gemini\": \"Gemini-1.5-Pro\"\n",
    "}\n",
    "\n",
    "map_run_type_to_plot_name = {\n",
    "    \"fitting_only\": \"Fitting only\",\n",
    "    \"full_image_few_shot\": \"Combined (few shot)\",\n",
    "    \"full_image_zero_shot\": \"Combined (zero shot)\",\n",
    "    \"visual_only_image_few_shot\": \"Visual (few shot)\",\n",
    "    \"visual_only_image_zero_shot\": \"Visual (zero shot)\",\n",
    "}\n",
    "\n",
    "\n",
    "# map the model name to the plot name\n",
    "df['model_plot_name'] = df['model'].map(map_model_to_plot_name)\n",
    "df['run_type_plot_name'] = df['run_type'].map(map_run_type_to_plot_name)\n"
   ],
   "id": "bafd47c64dda9f32",
   "outputs": [],
   "execution_count": 32
  },
  {
   "metadata": {
    "ExecuteTime": {
     "end_time": "2024-10-23T04:16:29.010231Z",
     "start_time": "2024-10-23T04:16:28.823812Z"
    }
   },
   "cell_type": "code",
   "source": [
    "# draw a bar plot\n",
    "import seaborn as sns\n",
    "import matplotlib.pyplot as plt\n",
    "\n",
    "model_order = [\"openai\", \"gemini\", \"anthropic\", \"llama\"]\n",
    "model_order = [map_model_to_plot_name[o] for o in model_order]\n",
    "run_type_order = [\"full_image_few_shot\", \"visual_only_image_few_shot\", \"full_image_zero_shot\", \"visual_only_image_zero_shot\", \"fitting_only\"]\n",
    "run_type_order = [map_run_type_to_plot_name[o] for o in run_type_order]\n",
    "\n",
    "\n",
    "sns.color_palette(\"mako\", as_cmap=True)\n",
    "plt.figure(figsize=(12, 2.5))\n",
    "sns.barplot(x='model_plot_name', y='success', hue='run_type_plot_name', data=df, errorbar=None, order=model_order, hue_order=run_type_order, palette='viridis')\n",
    "# remove the y label and axis\n",
    "plt.ylabel('')\n",
    "plt.yticks([])\n",
    "\n",
    "# Set the y axis start from 0.5\n",
    "plt.ylim(0.4, 1.03)\n",
    "\n",
    "plt.xlabel('Model')\n",
    "\n",
    "# Move the legend to the right of the plot\n",
    "plt.legend(loc='center left', bbox_to_anchor=(1, 0.5), title='Inspection type')\n",
    "\n",
    "plt.title('Accuracy of visual inspection')\n",
    "\n",
    "for bar in plt.gca().patches:\n",
    "    current_x = bar.get_x()\n",
    "    if current_x > 2.5:\n",
    "        bar.set_x(current_x - 0.17)\n",
    "    \n",
    "# Add the number on the top of the bar\n",
    "# Use the font family of 'Comic Sans MS'\n",
    "for p in plt.gca().patches:\n",
    "    if p.get_height() == 0.0:\n",
    "        continue\n",
    "    plt.gca().annotate(f\"{p.get_height()*100:.1f}%\", (p.get_x() + p.get_width() / 2. + 0.005, p.get_height()),\n",
    "                ha='center', va='center', fontsize=9, color='black', xytext=(0, 5),\n",
    "                textcoords='offset points', fontfamily='sans-serif')\n",
    "\n",
    "# Save the plot\n",
    "plt.savefig('inspection_benchmark_summary.pdf', bbox_inches='tight', dpi=300)\n",
    "plt.show()"
   ],
   "id": "c8557d7537ca0c82",
   "outputs": [
    {
     "data": {
      "text/plain": [
       "<Figure size 1200x250 with 1 Axes>"
      ],
      "image/png": "[encoded data removed]"
     },
     "metadata": {},
     "output_type": "display_data"
    }
   ],
   "execution_count": 33
  },
  {
   "metadata": {
    "ExecuteTime": {
     "end_time": "2024-10-23T04:16:29.012964Z",
     "start_time": "2024-10-23T04:16:29.011219Z"
    }
   },
   "cell_type": "code",
   "source": "\n",
   "id": "c51c3b1cd4b8132d",
   "outputs": [],
   "execution_count": 33
  }
 ],
 "metadata": {
  "kernelspec": {
   "display_name": "Python 3 (ipykernel)",
   "language": "python",
   "name": "python3"
  },
  "language_info": {
   "codemirror_mode": {
    "name": "ipython",
    "version": 3
   },
   "file_extension": ".py",
   "mimetype": "text/x-python",
   "name": "python",
   "nbconvert_exporter": "python",
   "pygments_lexer": "ipython3",
   "version": "3.11.2"
  }
 },
 "nbformat": 4,
 "nbformat_minor": 5
}
