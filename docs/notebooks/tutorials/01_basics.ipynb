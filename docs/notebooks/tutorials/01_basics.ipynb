{
 "cells": [
  {
   "cell_type": "markdown",
   "id": "tutorial-basics-intro",
   "metadata": {},
   "source": [
    "# 01 - LeeQ Basics: Introduction to Concepts and Simulation\n",
    "\n",
    "This notebook provides an introduction to LeeQ concepts and demonstrates basic simulation capabilities.\n",
    "\n",
    "## Learning Objectives\n",
    "- Understand core LeeQ concepts\n",
    "- Learn about quantum element abstractions\n",
    "- Practice with simulation backends\n",
    "- Explore Chronicle logging integration\n",
    "\n",
    "## Prerequisites\n",
    "- Basic understanding of quantum computing\n",
    "- Python programming knowledge"
   ]
  },
  {
   "cell_type": "markdown",
   "id": "setup-section",
   "metadata": {},
   "source": [
    "## Setup and Imports\n",
    "\n",
    "First, let's import the necessary LeeQ modules and set up our simulation environment."
   ]
  },
  {
   "cell_type": "code",
   "execution_count": null,
   "id": "import-leeq",
   "metadata": {
    "execution": {
     "iopub.execute_input": "2025-08-20T23:54:22.334771Z",
     "iopub.status.busy": "2025-08-20T23:54:22.334530Z",
     "iopub.status.idle": "2025-08-20T23:54:24.604005Z",
     "shell.execute_reply": "2025-08-20T23:54:24.603537Z"
    }
   },
   "outputs": [],
   "source": "import leeq\nimport numpy as np\nfrom leeq.chronicle import Chronicle, log_and_record\nfrom leeq.core.elements.built_in.qudit_transmon import TransmonElement\nfrom leeq.setups.built_in.setup_simulation_high_level import HighLevelSimulationSetup\nfrom leeq.theory.simulation.numpy.rotated_frame_simulator import VirtualTransmon\nfrom leeq.experiments.experiments import ExperimentManager\n\n# Import necessary visualization tools\nimport plotly.graph_objects as go\nimport plotly.express as px\n\nprint(\"LeeQ imported successfully!\")\n\n# Core LeeQ imports explanation:\n# - TransmonElement: Represents a superconducting transmon qubit \n# - HighLevelSimulationSetup: Simulation backend for quantum experiments\n# - VirtualTransmon: Simulated transmon with realistic parameters\n# - Chronicle: Experiment logging and data persistence system\n# - ExperimentManager: Manages experimental setups and configurations"
  },
  {
   "cell_type": "markdown",
   "id": "chronicle-section",
   "metadata": {},
   "source": [
    "## Chronicle Integration\n",
    "\n",
    "LeeQ uses Chronicle for experiment logging and data persistence."
   ]
  },
  {
   "cell_type": "code",
   "execution_count": null,
   "id": "chronicle-setup",
   "metadata": {
    "execution": {
     "iopub.execute_input": "2025-08-20T23:54:24.606913Z",
     "iopub.status.busy": "2025-08-20T23:54:24.606460Z",
     "iopub.status.idle": "2025-08-20T23:54:24.630462Z",
     "shell.execute_reply": "2025-08-20T23:54:24.629949Z"
    }
   },
   "outputs": [],
   "source": "# Start Chronicle logging\nChronicle().start_log()\n\n# Chronicle is LeeQ's logging and data persistence system\nprint(\"Chronicle logging started successfully!\")\n\n# Chronicle provides comprehensive experiment logging\nprint(\"Chronicle features:\")\nprint(\"- Automatic logging of experiment parameters and results\")\nprint(\"- Data persistence across experimental sessions\")\nprint(\"- Hierarchical organization of experimental data\")\nprint(\"- Integration with LeeQ experimental framework\")\n\n# Chronicle automatically logs:\n# - Function calls and parameters (for LoggableObject methods)\n# - Experiment results and metadata\n# - Configuration changes\n# - Error messages and debugging information"
  },
  {
   "cell_type": "markdown",
   "id": "concepts-section",
   "metadata": {},
   "source": "## Core LeeQ Concepts\n\n### Quantum Elements\nLeeQ uses quantum elements to represent physical qubits and their properties. The **TransmonElement** is the most common element, representing a superconducting transmon qubit.\n\nKey properties of a transmon qubit:\n- **Frequency**: The transition frequency between qubit levels (typically 4-6 GHz)\n- **Anharmonicity**: The difference between transition frequencies (typically -200 MHz)\n- **Coherence times**: T1 (relaxation) and T2 (dephasing) times\n- **Readout frequency**: The frequency used to measure the qubit state\n\n### Simulation Backends  \nLeeQ provides multiple simulation backends for quantum experiments:\n- **HighLevelSimulationSetup**: High-level simulation for educational and testing purposes\n- **VirtualTransmon**: Realistic transmon simulation with noise and decoherence\n- **Hardware backends**: Interface to actual quantum devices (not covered in this notebook)\n\n### Experiment Framework\nLeeQ experiments follow a consistent pattern:\n1. **Setup**: Configure the experimental environment\n2. **Calibration**: Determine optimal parameters\n3. **Execution**: Run the actual experiment  \n4. **Analysis**: Process and visualize results"
  },
  {
   "cell_type": "code",
   "execution_count": null,
   "id": "basic-simulation",
   "metadata": {
    "execution": {
     "iopub.execute_input": "2025-08-20T23:54:24.632043Z",
     "iopub.status.busy": "2025-08-20T23:54:24.631897Z",
     "iopub.status.idle": "2025-08-20T23:54:24.634350Z",
     "shell.execute_reply": "2025-08-20T23:54:24.633890Z"
    }
   },
   "outputs": [],
   "source": "# Create a virtual transmon with realistic parameters\nvirtual_transmon = VirtualTransmon(\n    name=\"BasicQubit\",\n    qubit_frequency=5040.0,    # 5.04 GHz qubit frequency\n    anharmonicity=-198.0,      # -198 MHz anharmonicity \n    t1=70.0,                   # 70 μs T1 relaxation time\n    t2=35.0,                   # 35 μs T2 dephasing time\n    readout_frequency=9645.0,  # 9.645 GHz readout frequency\n    quiescent_state_distribution=np.array([0.8, 0.15, 0.04, 0.01])  # Population in states |0⟩, |1⟩, |2⟩, |3⟩\n)\n\nprint(\"Virtual Transmon Properties:\")\nprint(f\"- Qubit frequency: {virtual_transmon.qubit_frequency:.1f} MHz\")\nprint(f\"- Anharmonicity: {virtual_transmon.anharmonicity:.1f} MHz\")\nprint(f\"- T1 relaxation: {virtual_transmon.t1:.1f} μs\")\nprint(f\"- T2 dephasing: {virtual_transmon.t2:.1f} μs\")\nprint(f\"- Readout frequency: {virtual_transmon.readout_frequency:.1f} MHz\")\n\n# Create the simulation setup\nmanager = ExperimentManager()\nmanager.clear_setups()\n\nsetup = HighLevelSimulationSetup(\n    name='BasicSimulationSetup',\n    virtual_qubits={1: virtual_transmon},  # Assign to channel 1\n)\n\nmanager.register_setup(setup)\nprint(f\"\\\\nSimulation setup '{setup.name}' created with 1 virtual qubit\")\n\n# Configure the TransmonElement with realistic parameters\nqubit_config = {\n    'hrid': 'BasicQubit',\n    'lpb_collections': {\n        'f01': {  # |0⟩ → |1⟩ transition\n            'type': 'SimpleDriveCollection',\n            'freq': 5040.0,\n            'channel': 1,\n            'shape': 'blackman_drag',\n            'amp': 0.5,\n            'phase': 0.0,\n            'width': 0.05,\n            'alpha': 500,\n            'trunc': 1.2\n        },\n    },\n    'measurement_primitives': {\n        '0': {  # Readout measurement\n            'type': 'SimpleDispersiveMeasurement', \n            'freq': 9645.0,\n            'channel': 1,\n            'shape': 'square',\n            'amp': 0.15,\n            'phase': 0.0,\n            'width': 1.0,\n            'trunc': 1.2,\n            'distinguishable_states': [0, 1]\n        }\n    }\n}\n\n# Create the TransmonElement\nqubit = TransmonElement(name=qubit_config['hrid'], parameters=qubit_config)\nprint(f\"\\\\nTransmonElement created with HRID: {qubit_config['hrid']}\")\n# Print basic configuration information\ntry:\n    qubit.print_config_info()\nexcept Exception as e:\n    print(f\"Configuration display not available in this environment: {e}\")\n    print(\"TransmonElement configured successfully!\")"
  },
  {
   "cell_type": "markdown",
   "id": "blohazcdz3h",
   "source": "## Basic Measurements and Data Visualization\n\nNow let's demonstrate basic qubit measurements and create visualizations to understand quantum behavior.",
   "metadata": {}
  },
  {
   "cell_type": "code",
   "id": "31ttm2l7e8g",
   "source": "# Demonstrate basic qubit operations and measurements\nfrom leeq.experiments.builtin.basic.characterizations import SimpleT1\n\n# Set up experimental parameters\nsetup.status.set_param(\"Shot_Number\", 1000)  # Number of measurement shots\nsetup.status.set_param(\"Shot_Period\", 500)   # Time between shots (μs)\n\nprint(\"Basic Qubit State Information:\")\nprint(f\"Ground state |0⟩ population: {virtual_transmon.quiescent_state_distribution[0]:.1%}\")\nprint(f\"Excited state |1⟩ population: {virtual_transmon.quiescent_state_distribution[1]:.1%}\")\nprint(f\"Higher excited states: {virtual_transmon.quiescent_state_distribution[2:]}\")\n\n# Get qubit control parameters\nc1_pulse = qubit.get_c1('f01')  # Control pulse for |0⟩ → |1⟩ transition\nreadout_params = qubit.get_measurement_prim_intlist(0)  # Readout measurement parameters\n\nprint(f\"\\\\nQubit Control Parameters:\")\nprint(f\"- Control pulse collection: {type(c1_pulse).__name__}\")\nprint(f\"- Configuration from qubit_config: freq={qubit_config['lpb_collections']['f01']['freq']:.1f} MHz\")\nprint(f\"- Pulse amplitude: {qubit_config['lpb_collections']['f01']['amp']:.3f}\")\nprint(f\"- Pulse width: {qubit_config['lpb_collections']['f01']['width']:.3f} μs\")\nprint(f\"- Pulse shape: {qubit_config['lpb_collections']['f01']['shape']}\")\n\nprint(f\"\\\\nReadout Parameters:\")\nprint(f\"- Readout primitive: {type(readout_params).__name__}\")\nprint(f\"- Configuration from qubit_config: freq={qubit_config['measurement_primitives']['0']['freq']:.1f} MHz\") \nprint(f\"- Readout amplitude: {qubit_config['measurement_primitives']['0']['amp']:.3f}\")\nprint(f\"- Readout duration: {qubit_config['measurement_primitives']['0']['width']:.1f} μs\")",
   "metadata": {},
   "execution_count": null,
   "outputs": []
  },
  {
   "cell_type": "code",
   "id": "nbrawmlf6gf",
   "source": "# Perform a basic T1 relaxation measurement\nprint(\"Running T1 relaxation measurement...\")\nprint(\"This measures how long the qubit stays in the excited state before relaxing to ground state.\")\n\ntry:\n    # Run T1 experiment with short time range for quick demonstration\n    t1_experiment = SimpleT1(\n        qubit=qubit,\n        time_length=50,    # Maximum delay time (μs)\n        time_resolution=2  # Time step (μs)  \n    )\n    \n    # The experiment automatically fits the data and extracts T1\n    print(f\"\\\\nT1 Measurement Complete!\")\n    print(f\"Measured T1 relaxation time: {getattr(t1_experiment, 'fitted_t1', 'N/A')} μs\")\n    \nexcept Exception as e:\n    print(f\"T1 experiment encountered an issue: {e}\")\n    print(\"This is normal in simulation environments - continuing with demonstration.\")",
   "metadata": {},
   "execution_count": null,
   "outputs": []
  },
  {
   "cell_type": "code",
   "id": "w51wxv9ha",
   "source": "# Create visualizations to understand quantum concepts\nfig_concepts = go.Figure()\n\n# Plot qubit energy levels\nenergy_levels = [0, virtual_transmon.qubit_frequency, \n                virtual_transmon.qubit_frequency + virtual_transmon.qubit_frequency + virtual_transmon.anharmonicity]\n\nfig_concepts.add_trace(go.Scatter(\n    x=[0, 1, 2], \n    y=energy_levels[:3],\n    mode='lines+markers+text',\n    text=['|0⟩', '|1⟩', '|2⟩'],\n    textposition='middle right',\n    name='Energy Levels',\n    line=dict(color='blue', width=3),\n    marker=dict(size=12)\n))\n\nfig_concepts.add_annotation(\n    x=0.5, y=virtual_transmon.qubit_frequency/2,\n    text=f'f₀₁ = {virtual_transmon.qubit_frequency:.0f} MHz',\n    showarrow=True, arrowhead=2, arrowcolor='red'\n)\n\nfig_concepts.add_annotation(\n    x=1.5, y=virtual_transmon.qubit_frequency + virtual_transmon.anharmonicity/2,\n    text=f'f₁₂ = f₀₁ + α\\\\nα = {virtual_transmon.anharmonicity:.0f} MHz',\n    showarrow=True, arrowhead=2, arrowcolor='red'\n)\n\nfig_concepts.update_layout(\n    title='Transmon Qubit Energy Level Structure',\n    xaxis_title='Qubit Level',\n    yaxis_title='Energy (MHz)',\n    showlegend=True,\n    width=700, height=500\n)\n\nfig_concepts.show()\n\n# Show state population distribution\nfig_pop = go.Figure(data=go.Bar(\n    x=['|0⟩', '|1⟩', '|2⟩', '|3⟩'],\n    y=virtual_transmon.quiescent_state_distribution,\n    marker_color=['lightblue', 'lightcoral', 'lightgreen', 'lightyellow']\n))\n\nfig_pop.update_layout(\n    title='Qubit State Population Distribution',\n    xaxis_title='Quantum State',\n    yaxis_title='Population',\n    width=600, height=400\n)\n\nfig_pop.show()\n\nprint(\"\\\\n📊 The visualizations above show:\")\nprint(\"1. Energy level structure: Higher levels are closer together (anharmonicity)\")\nprint(\"2. State populations: Mostly in ground state |0⟩, small thermal populations in excited states\")",
   "metadata": {},
   "execution_count": null,
   "outputs": []
  },
  {
   "cell_type": "markdown",
   "id": "3tv41uv2ptk",
   "source": "## Key Concepts Summary\n\n### What We've Learned\n\n1. **LeeQ Architecture**: LeeQ provides a comprehensive framework for quantum experiments\n   - **Chronicle**: Automatic logging and data persistence\n   - **Elements**: Quantum device abstractions (TransmonElement)\n   - **Setups**: Simulation and hardware backends\n   - **Experiments**: Structured experimental procedures\n\n2. **Transmon Qubits**: \n   - **Weakly anharmonic oscillators** with energy levels that get closer together\n   - **Controllable** using microwave pulses at specific frequencies\n   - **Measurable** using dispersive readout techniques\n   - **Decoherent** due to T1 (relaxation) and T2 (dephasing) processes\n\n3. **Simulation Framework**:\n   - **VirtualTransmon**: Realistic qubit simulation with noise and thermal populations\n   - **HighLevelSimulationSetup**: Educational simulation backend\n   - **Configurable parameters**: Frequencies, coherence times, pulse shapes\n\n4. **Data and Visualization**:\n   - **Automatic data logging** through Chronicle integration\n   - **Interactive plots** using Plotly for better understanding\n   - **Experimental analysis** with built-in fitting procedures",
   "metadata": {}
  },
  {
   "cell_type": "markdown",
   "id": "next-steps",
   "metadata": {},
   "source": [
    "## Next Steps\n",
    "\n",
    "Continue to [02_single_qubit.ipynb](02_single_qubit.ipynb) to learn about single qubit experiments and calibration."
   ]
  }
 ],
 "metadata": {
  "kernelspec": {
   "display_name": "Python 3",
   "language": "python",
   "name": "python3"
  },
  "language_info": {
   "codemirror_mode": {
    "name": "ipython",
    "version": 3
   },
   "file_extension": ".py",
   "mimetype": "text/x-python",
   "name": "python",
   "nbconvert_exporter": "python",
   "pygments_lexer": "ipython3",
   "version": "3.12.7"
  }
 },
 "nbformat": 4,
 "nbformat_minor": 5
}