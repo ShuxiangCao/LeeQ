{
 "cells": [
  {
   "cell_type": "markdown",
   "id": "single-qubit-intro",
   "metadata": {},
   "source": [
    "# 02 - Single Qubit Experiments and Calibration\n",
    "\n",
    "This notebook demonstrates single qubit experiments and calibration procedures in LeeQ.\n",
    "\n",
    "## Learning Objectives\n",
    "- Perform Rabi oscillation experiments\n",
    "- Understand qubit calibration workflows\n",
    "- Learn measurement primitives\n",
    "- Practice with coherence time measurements\n",
    "\n",
    "## Prerequisites\n",
    "- Complete [01_basics.ipynb](01_basics.ipynb)\n",
    "- Understand quantum single-qubit gates"
   ]
  },
  {
   "cell_type": "markdown",
   "id": "setup-section",
   "metadata": {},
   "source": [
    "## Setup and Configuration"
   ]
  },
  {
   "cell_type": "code",
   "execution_count": 1,
   "id": "import-modules",
   "metadata": {
    "execution": {
     "iopub.execute_input": "2025-08-21T18:09:49.559141Z",
     "iopub.status.busy": "2025-08-21T18:09:49.558916Z",
     "iopub.status.idle": "2025-08-21T18:09:55.822934Z",
     "shell.execute_reply": "2025-08-21T18:09:55.821958Z"
    }
   },
   "outputs": [
    {
     "name": "stdout",
     "output_type": "stream",
     "text": [
      "✓ LeeQ environment loaded successfully\n"
     ]
    }
   ],
   "source": [
    "import leeq\n",
    "import numpy as np\n",
    "from leeq.experiments.builtin.basic.calibrations import *\n",
    "from leeq.experiments.builtin.basic.characterizations import *\n",
    "from leeq.core.elements.built_in.qudit_transmon import TransmonElement\n",
    "from leeq.setups.built_in.setup_simulation_high_level import HighLevelSimulationSetup\n",
    "from leeq.theory.simulation.numpy.rotated_frame_simulator import VirtualTransmon\n",
    "from leeq.experiments.experiments import ExperimentManager\n",
    "from leeq.chronicle import Chronicle, log_and_record\n",
    "import plotly.graph_objects as go\n",
    "from scipy import optimize as so\n",
    "\n",
    "print(\"✓ LeeQ environment loaded successfully\")"
   ]
  },
  {
   "cell_type": "code",
   "execution_count": 2,
   "id": "v2m81smh88c",
   "metadata": {
    "execution": {
     "iopub.execute_input": "2025-08-21T18:09:55.825457Z",
     "iopub.status.busy": "2025-08-21T18:09:55.825039Z",
     "iopub.status.idle": "2025-08-21T18:09:55.940977Z",
     "shell.execute_reply": "2025-08-21T18:09:55.940286Z"
    }
   },
   "outputs": [
    {
     "name": "stderr",
     "output_type": "stream",
     "text": [
      "[2025-08-21 11:09:55] [INFO] [leeq.chronicle.chronicle] Log started at log/coxious/2025-08/2025-08-21/11.09.55\n"
     ]
    },
    {
     "name": "stderr",
     "output_type": "stream",
     "text": [
      "[2025-08-21 11:09:55] [INFO] [leeq.chronicle.chronicle] Log started at log/coxious/2025-08/2025-08-21/11.09.55\n"
     ]
    },
    {
     "name": "stdout",
     "output_type": "stream",
     "text": [
      "✓ Single qubit simulation environment initialized\n",
      "✓ Qubit frequency: 5040.4 MHz\n",
      "✓ T1: 70 µs, T2: 35 µs\n"
     ]
    }
   ],
   "source": [
    "# Setup simulation environment\n",
    "def setup_single_qubit_simulation():\n",
    "    \"\"\"Initialize the simulation environment with a single qubit\"\"\"\n",
    "    # Start Chronicle logging\n",
    "    Chronicle().start_log()\n",
    "    \n",
    "    # Clear any existing setups\n",
    "    manager = ExperimentManager()\n",
    "    manager.clear_setups()\n",
    "    \n",
    "    # Create virtual transmon with realistic parameters\n",
    "    virtual_transmon = VirtualTransmon(\n",
    "        name=\"SingleQubit\",\n",
    "        qubit_frequency=5040.4,     # 5.04 GHz qubit frequency\n",
    "        anharmonicity=-198,         # -198 MHz anharmonicity\n",
    "        t1=70,                      # 70 µs T1 time\n",
    "        t2=35,                      # 35 µs T2 time  \n",
    "        readout_frequency=9645.4,   # 9.645 GHz readout frequency\n",
    "        quiescent_state_distribution=np.asarray([0.8, 0.15, 0.04, 0.01])\n",
    "    )\n",
    "    \n",
    "    # Create high-level simulation setup\n",
    "    setup = HighLevelSimulationSetup(\n",
    "        name='SingleQubitSimulation',\n",
    "        virtual_qubits={2: virtual_transmon}  # Channel 2 for the qubit\n",
    "    )\n",
    "    \n",
    "    # Register setup with experiment manager\n",
    "    manager.register_setup(setup)\n",
    "    \n",
    "    print(\"✓ Single qubit simulation environment initialized\")\n",
    "    print(f\"✓ Qubit frequency: {virtual_transmon.qubit_frequency} MHz\")\n",
    "    print(f\"✓ T1: {virtual_transmon.t1} µs, T2: {virtual_transmon.t2} µs\")\n",
    "    \n",
    "    return setup, virtual_transmon\n",
    "\n",
    "# Initialize simulation\n",
    "simulation_setup, virtual_qubit = setup_single_qubit_simulation()"
   ]
  },
  {
   "cell_type": "code",
   "execution_count": 3,
   "id": "munk5418dm8",
   "metadata": {
    "execution": {
     "iopub.execute_input": "2025-08-21T18:09:55.943412Z",
     "iopub.status.busy": "2025-08-21T18:09:55.942819Z",
     "iopub.status.idle": "2025-08-21T18:09:55.960678Z",
     "shell.execute_reply": "2025-08-21T18:09:55.959786Z"
    }
   },
   "outputs": [
    {
     "name": "stdout",
     "output_type": "stream",
     "text": [
      "✓ Qubit configured successfully\n",
      "✓ Qubit name: Q1\n",
      "✓ Drive frequency (f01): 5040.4 MHz\n",
      "✓ Readout frequency: 9645.5 MHz\n"
     ]
    }
   ],
   "source": [
    "# Configure qubit parameters following simulated_setup.py pattern\n",
    "qubit_config = {\n",
    "    'hrid': 'Q1',\n",
    "    'lpb_collections': {\n",
    "        'f01': {  # 0->1 transition\n",
    "            'type': 'SimpleDriveCollection',\n",
    "            'freq': 5040.4,\n",
    "            'channel': 2,\n",
    "            'shape': 'blackman_drag',\n",
    "            'amp': 0.5487,\n",
    "            'phase': 0.,\n",
    "            'width': 0.05,\n",
    "            'alpha': 500,\n",
    "            'trunc': 1.2\n",
    "        },\n",
    "        'f12': {  # 1->2 transition\n",
    "            'type': 'SimpleDriveCollection',\n",
    "            'freq': 5040.4-198,  # Lower by anharmonicity\n",
    "            'channel': 2,\n",
    "            'shape': 'blackman_drag',\n",
    "            'amp': 0.1 / np.sqrt(2),\n",
    "            'phase': 0.,\n",
    "            'width': 0.025,\n",
    "            'alpha': 425.1365229849309,\n",
    "            'trunc': 1.2\n",
    "        }\n",
    "    },\n",
    "    'measurement_primitives': {\n",
    "        '0': {\n",
    "            'type': 'SimpleDispersiveMeasurement',\n",
    "            'freq': 9645.5,\n",
    "            'channel': 1,\n",
    "            'shape': 'square',\n",
    "            'amp': 0.15,\n",
    "            'phase': 0.,\n",
    "            'width': 1,\n",
    "            'trunc': 1.2,\n",
    "            'distinguishable_states': [0, 1]\n",
    "        }\n",
    "    }\n",
    "}\n",
    "\n",
    "# Create TransmonElement with configuration\n",
    "qubit = TransmonElement(name=qubit_config['hrid'], parameters=qubit_config)\n",
    "\n",
    "# Configure simulation parameters\n",
    "from leeq import setup\n",
    "setup().status().set_param(\"Shot_Number\", 500)\n",
    "setup().status().set_param(\"Shot_Period\", 500)\n",
    "\n",
    "print(\"✓ Qubit configured successfully\")\n",
    "print(f\"✓ Qubit name: {qubit.hrid}\")\n",
    "print(f\"✓ Drive frequency (f01): {qubit_config['lpb_collections']['f01']['freq']} MHz\")\n",
    "print(f\"✓ Readout frequency: {qubit_config['measurement_primitives']['0']['freq']} MHz\")"
   ]
  },
  {
   "cell_type": "markdown",
   "id": "rabi-section",
   "metadata": {},
   "source": [
    "## Rabi Oscillation Experiments\n",
    "\n",
    "Rabi oscillations are fundamental quantum experiments that demonstrate coherent control of a qubit. When we apply a continuous microwave drive to a qubit at its resonant frequency, the qubit oscillates between the ground state |0⟩ and excited state |1⟩.\n",
    "\n",
    "### Theory\n",
    "- **Rabi frequency**: The frequency at which the qubit oscillates, proportional to drive amplitude\n",
    "- **π-pulse**: A pulse that flips the qubit from |0⟩ to |1⟩ (half period of oscillation)  \n",
    "- **π/2-pulse**: A pulse that creates a superposition state (quarter period of oscillation)\n",
    "\n",
    "### Experiment Protocol\n",
    "1. Apply variable-amplitude microwave pulses to the qubit\n",
    "2. Measure the excited state population after each pulse\n",
    "3. Observe sinusoidal oscillations as a function of pulse amplitude\n",
    "4. Extract the optimal π-pulse amplitude for calibration"
   ]
  },
  {
   "cell_type": "code",
   "execution_count": 4,
   "id": "rabi-experiment",
   "metadata": {
    "execution": {
     "iopub.execute_input": "2025-08-21T18:09:55.963747Z",
     "iopub.status.busy": "2025-08-21T18:09:55.963253Z",
     "iopub.status.idle": "2025-08-21T18:09:56.161726Z",
     "shell.execute_reply": "2025-08-21T18:09:56.160510Z"
    }
   },
   "outputs": [
    {
     "name": "stdout",
     "output_type": "stream",
     "text": [
      "Running Rabi oscillation experiment...\n"
     ]
    },
    {
     "data": {
      "application/vnd.plotly.v1+json": {
       "config": {
        "plotlyServerURL": "https://plot.ly"
       },
       "data": [
        {
         "marker": {
          "color": "Blue",
          "line": {
           "color": "Black",
           "width": 2
          },
          "opacity": 0.5,
          "size": 7
         },
         "mode": "markers",
         "name": "data",
         "type": "scatter",
         "x": {
          "bdata": "exSuR+F6hD97FK5H4XqUP7gehetRuJ4/exSuR+F6pD+amZmZmZmpP7kehetRuK4/61G4HoXrsT97FK5H4Xq0PwrXo3A9Crc/mZmZmZmZuT8pXI/C9Si8P7gehetRuL4/pHA9CtejwD/sUbgehevBPzQzMzMzM8M/exSuR+F6xD/D9Shcj8LFPwvXo3A9Csc/UrgehetRyD+amZmZmZnJP+J6FK5H4co/KVyPwvUozD9xPQrXo3DNP7kehetRuM4/AAAAAAAA0D+kcD0K16PQP0jhehSuR9E/7FG4HoXr0T+QwvUoXI/SPzMzMzMzM9M/16NwPQrX0z97FK5H4XrUPx+F61G4HtU/w/UoXI/C1T9nZmZmZmbWPwvXo3A9Ctc/rkfhehSu1z9SuB6F61HYP/YoXI/C9dg/mpmZmZmZ2T8+CtejcD3aP+J6FK5H4do/hetRuB6F2z8pXI/C9SjcP83MzMzMzNw/cT0K16Nw3T8VrkfhehTeP7kehetRuN4/XI/C9Shc3z8=",
          "dtype": "f8"
         },
         "y": {
          "bdata": "htQu38Vy7D8wYa8KiDbdP0RLwM1ml9A/aG+T836Tvb/CT3J8mSzLv7Qc6vWkDOO/mK2TmqRY3b9bXP6SWGjkvwm9/oGKY+q/RtDA5t3Ywb+RnWEOg1fRvwowBq5kSrg/T0ua/wfw2z8+B5w4Y03VPy56HmMuKOU/AKn1BINc4z+q8mDm2nXiPzbfAdv4WNc/arrhTmCrpr/k3tolY1S0v3gFJvEZ4tu/Gf2XgEaX4r9ApqR+Hsfiv6qO0H10qum/TEfmeBQF4b8p9lC/KZvZv0CpJVoxFXI/xM2Ro7Ln0D98U+VIlsPQP5w2Dqqxld4/TKPXApji3j+OmYGPhVvbP5tW9iPX3Ng/0g8bYkaEyD8Q72tafyXAP4Z7AWHZaqQ/pVjP7xRB0b+akgxgdjXcv8ZDjWADieK/QpY9DNCo4r8QIRMYJM3dv+NwL7pv1tq/LIF6W+6Uu78ZhlEWaGnDP/dUf9P/AuA/Invfln7K4z/sWxQ4wvbnP1B96mKxjOg/DQqjcAXX4z8=",
          "dtype": "f8"
         }
        },
        {
         "line": {
          "color": "Red"
         },
         "mode": "lines",
         "name": "fit",
         "type": "scatter",
         "visible": "legendonly",
         "x": {
          "bdata": "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",
          "dtype": "f8"
         },
         "y": {
          "bdata": "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",
          "dtype": "f8"
         }
        }
       ],
       "layout": {
        "font": {
         "color": "Black",
         "family": "Courier New, monospace",
         "size": 12
        },
        "legend": {
         "title": {
          "text": "Legend"
         }
        },
        "plot_bgcolor": "white",
        "template": {
         "data": {
          "bar": [
           {
            "error_x": {
             "color": "#2a3f5f"
            },
            "error_y": {
             "color": "#2a3f5f"
            },
            "marker": {
             "line": {
              "color": "#E5ECF6",
              "width": 0.5
             },
             "pattern": {
              "fillmode": "overlay",
              "size": 10,
              "solidity": 0.2
             }
            },
            "type": "bar"
           }
          ],
          "barpolar": [
           {
            "marker": {
             "line": {
              "color": "#E5ECF6",
              "width": 0.5
             },
             "pattern": {
              "fillmode": "overlay",
              "size": 10,
              "solidity": 0.2
             }
            },
            "type": "barpolar"
           }
          ],
          "carpet": [
           {
            "aaxis": {
             "endlinecolor": "#2a3f5f",
             "gridcolor": "white",
             "linecolor": "white",
             "minorgridcolor": "white",
             "startlinecolor": "#2a3f5f"
            },
            "baxis": {
             "endlinecolor": "#2a3f5f",
             "gridcolor": "white",
             "linecolor": "white",
             "minorgridcolor": "white",
             "startlinecolor": "#2a3f5f"
            },
            "type": "carpet"
           }
          ],
          "choropleth": [
           {
            "colorbar": {
             "outlinewidth": 0,
             "ticks": ""
            },
            "type": "choropleth"
           }
          ],
          "contour": [
           {
            "colorbar": {
             "outlinewidth": 0,
             "ticks": ""
            },
            "colorscale": [
             [
              0.0,
              "#0d0887"
             ],
             [
              0.1111111111111111,
              "#46039f"
             ],
             [
              0.2222222222222222,
              "#7201a8"
             ],
             [
              0.3333333333333333,
              "#9c179e"
             ],
             [
              0.4444444444444444,
              "#bd3786"
             ],
             [
              0.5555555555555556,
              "#d8576b"
             ],
             [
              0.6666666666666666,
              "#ed7953"
             ],
             [
              0.7777777777777778,
              "#fb9f3a"
             ],
             [
              0.8888888888888888,
              "#fdca26"
             ],
             [
              1.0,
              "#f0f921"
             ]
            ],
            "type": "contour"
           }
          ],
          "contourcarpet": [
           {
            "colorbar": {
             "outlinewidth": 0,
             "ticks": ""
            },
            "type": "contourcarpet"
           }
          ],
          "heatmap": [
           {
            "colorbar": {
             "outlinewidth": 0,
             "ticks": ""
            },
            "colorscale": [
             [
              0.0,
              "#0d0887"
             ],
             [
              0.1111111111111111,
              "#46039f"
             ],
             [
              0.2222222222222222,
              "#7201a8"
             ],
             [
              0.3333333333333333,
              "#9c179e"
             ],
             [
              0.4444444444444444,
              "#bd3786"
             ],
             [
              0.5555555555555556,
              "#d8576b"
             ],
             [
              0.6666666666666666,
              "#ed7953"
             ],
             [
              0.7777777777777778,
              "#fb9f3a"
             ],
             [
              0.8888888888888888,
              "#fdca26"
             ],
             [
              1.0,
              "#f0f921"
             ]
            ],
            "type": "heatmap"
           }
          ],
          "histogram": [
           {
            "marker": {
             "pattern": {
              "fillmode": "overlay",
              "size": 10,
              "solidity": 0.2
             }
            },
            "type": "histogram"
           }
          ],
          "histogram2d": [
           {
            "colorbar": {
             "outlinewidth": 0,
             "ticks": ""
            },
            "colorscale": [
             [
              0.0,
              "#0d0887"
             ],
             [
              0.1111111111111111,
              "#46039f"
             ],
             [
              0.2222222222222222,
              "#7201a8"
             ],
             [
              0.3333333333333333,
              "#9c179e"
             ],
             [
              0.4444444444444444,
              "#bd3786"
             ],
             [
              0.5555555555555556,
              "#d8576b"
             ],
             [
              0.6666666666666666,
              "#ed7953"
             ],
             [
              0.7777777777777778,
              "#fb9f3a"
             ],
             [
              0.8888888888888888,
              "#fdca26"
             ],
             [
              1.0,
              "#f0f921"
             ]
            ],
            "type": "histogram2d"
           }
          ],
          "histogram2dcontour": [
           {
            "colorbar": {
             "outlinewidth": 0,
             "ticks": ""
            },
            "colorscale": [
             [
              0.0,
              "#0d0887"
             ],
             [
              0.1111111111111111,
              "#46039f"
             ],
             [
              0.2222222222222222,
              "#7201a8"
             ],
             [
              0.3333333333333333,
              "#9c179e"
             ],
             [
              0.4444444444444444,
              "#bd3786"
             ],
             [
              0.5555555555555556,
              "#d8576b"
             ],
             [
              0.6666666666666666,
              "#ed7953"
             ],
             [
              0.7777777777777778,
              "#fb9f3a"
             ],
             [
              0.8888888888888888,
              "#fdca26"
             ],
             [
              1.0,
              "#f0f921"
             ]
            ],
            "type": "histogram2dcontour"
           }
          ],
          "mesh3d": [
           {
            "colorbar": {
             "outlinewidth": 0,
             "ticks": ""
            },
            "type": "mesh3d"
           }
          ],
          "parcoords": [
           {
            "line": {
             "colorbar": {
              "outlinewidth": 0,
              "ticks": ""
             }
            },
            "type": "parcoords"
           }
          ],
          "pie": [
           {
            "automargin": true,
            "type": "pie"
           }
          ],
          "scatter": [
           {
            "fillpattern": {
             "fillmode": "overlay",
             "size": 10,
             "solidity": 0.2
            },
            "type": "scatter"
           }
          ],
          "scatter3d": [
           {
            "line": {
             "colorbar": {
              "outlinewidth": 0,
              "ticks": ""
             }
            },
            "marker": {
             "colorbar": {
              "outlinewidth": 0,
              "ticks": ""
             }
            },
            "type": "scatter3d"
           }
          ],
          "scattercarpet": [
           {
            "marker": {
             "colorbar": {
              "outlinewidth": 0,
              "ticks": ""
             }
            },
            "type": "scattercarpet"
           }
          ],
          "scattergeo": [
           {
            "marker": {
             "colorbar": {
              "outlinewidth": 0,
              "ticks": ""
             }
            },
            "type": "scattergeo"
           }
          ],
          "scattergl": [
           {
            "marker": {
             "colorbar": {
              "outlinewidth": 0,
              "ticks": ""
             }
            },
            "type": "scattergl"
           }
          ],
          "scattermap": [
           {
            "marker": {
             "colorbar": {
              "outlinewidth": 0,
              "ticks": ""
             }
            },
            "type": "scattermap"
           }
          ],
          "scattermapbox": [
           {
            "marker": {
             "colorbar": {
              "outlinewidth": 0,
              "ticks": ""
             }
            },
            "type": "scattermapbox"
           }
          ],
          "scatterpolar": [
           {
            "marker": {
             "colorbar": {
              "outlinewidth": 0,
              "ticks": ""
             }
            },
            "type": "scatterpolar"
           }
          ],
          "scatterpolargl": [
           {
            "marker": {
             "colorbar": {
              "outlinewidth": 0,
              "ticks": ""
             }
            },
            "type": "scatterpolargl"
           }
          ],
          "scatterternary": [
           {
            "marker": {
             "colorbar": {
              "outlinewidth": 0,
              "ticks": ""
             }
            },
            "type": "scatterternary"
           }
          ],
          "surface": [
           {
            "colorbar": {
             "outlinewidth": 0,
             "ticks": ""
            },
            "colorscale": [
             [
              0.0,
              "#0d0887"
             ],
             [
              0.1111111111111111,
              "#46039f"
             ],
             [
              0.2222222222222222,
              "#7201a8"
             ],
             [
              0.3333333333333333,
              "#9c179e"
             ],
             [
              0.4444444444444444,
              "#bd3786"
             ],
             [
              0.5555555555555556,
              "#d8576b"
             ],
             [
              0.6666666666666666,
              "#ed7953"
             ],
             [
              0.7777777777777778,
              "#fb9f3a"
             ],
             [
              0.8888888888888888,
              "#fdca26"
             ],
             [
              1.0,
              "#f0f921"
             ]
            ],
            "type": "surface"
           }
          ],
          "table": [
           {
            "cells": {
             "fill": {
              "color": "#EBF0F8"
             },
             "line": {
              "color": "white"
             }
            },
            "header": {
             "fill": {
              "color": "#C8D4E3"
             },
             "line": {
              "color": "white"
             }
            },
            "type": "table"
           }
          ]
         },
         "layout": {
          "annotationdefaults": {
           "arrowcolor": "#2a3f5f",
           "arrowhead": 0,
           "arrowwidth": 1
          },
          "autotypenumbers": "strict",
          "coloraxis": {
           "colorbar": {
            "outlinewidth": 0,
            "ticks": ""
           }
          },
          "colorscale": {
           "diverging": [
            [
             0,
             "#8e0152"
            ],
            [
             0.1,
             "#c51b7d"
            ],
            [
             0.2,
             "#de77ae"
            ],
            [
             0.3,
             "#f1b6da"
            ],
            [
             0.4,
             "#fde0ef"
            ],
            [
             0.5,
             "#f7f7f7"
            ],
            [
             0.6,
             "#e6f5d0"
            ],
            [
             0.7,
             "#b8e186"
            ],
            [
             0.8,
             "#7fbc41"
            ],
            [
             0.9,
             "#4d9221"
            ],
            [
             1,
             "#276419"
            ]
           ],
           "sequential": [
            [
             0.0,
             "#0d0887"
            ],
            [
             0.1111111111111111,
             "#46039f"
            ],
            [
             0.2222222222222222,
             "#7201a8"
            ],
            [
             0.3333333333333333,
             "#9c179e"
            ],
            [
             0.4444444444444444,
             "#bd3786"
            ],
            [
             0.5555555555555556,
             "#d8576b"
            ],
            [
             0.6666666666666666,
             "#ed7953"
            ],
            [
             0.7777777777777778,
             "#fb9f3a"
            ],
            [
             0.8888888888888888,
             "#fdca26"
            ],
            [
             1.0,
             "#f0f921"
            ]
           ],
           "sequentialminus": [
            [
             0.0,
             "#0d0887"
            ],
            [
             0.1111111111111111,
             "#46039f"
            ],
            [
             0.2222222222222222,
             "#7201a8"
            ],
            [
             0.3333333333333333,
             "#9c179e"
            ],
            [
             0.4444444444444444,
             "#bd3786"
            ],
            [
             0.5555555555555556,
             "#d8576b"
            ],
            [
             0.6666666666666666,
             "#ed7953"
            ],
            [
             0.7777777777777778,
             "#fb9f3a"
            ],
            [
             0.8888888888888888,
             "#fdca26"
            ],
            [
             1.0,
             "#f0f921"
            ]
           ]
          },
          "colorway": [
           "#636efa",
           "#EF553B",
           "#00cc96",
           "#ab63fa",
           "#FFA15A",
           "#19d3f3",
           "#FF6692",
           "#B6E880",
           "#FF97FF",
           "#FECB52"
          ],
          "font": {
           "color": "#2a3f5f"
          },
          "geo": {
           "bgcolor": "white",
           "lakecolor": "white",
           "landcolor": "#E5ECF6",
           "showlakes": true,
           "showland": true,
           "subunitcolor": "white"
          },
          "hoverlabel": {
           "align": "left"
          },
          "hovermode": "closest",
          "mapbox": {
           "style": "light"
          },
          "paper_bgcolor": "white",
          "plot_bgcolor": "#E5ECF6",
          "polar": {
           "angularaxis": {
            "gridcolor": "white",
            "linecolor": "white",
            "ticks": ""
           },
           "bgcolor": "#E5ECF6",
           "radialaxis": {
            "gridcolor": "white",
            "linecolor": "white",
            "ticks": ""
           }
          },
          "scene": {
           "xaxis": {
            "backgroundcolor": "#E5ECF6",
            "gridcolor": "white",
            "gridwidth": 2,
            "linecolor": "white",
            "showbackground": true,
            "ticks": "",
            "zerolinecolor": "white"
           },
           "yaxis": {
            "backgroundcolor": "#E5ECF6",
            "gridcolor": "white",
            "gridwidth": 2,
            "linecolor": "white",
            "showbackground": true,
            "ticks": "",
            "zerolinecolor": "white"
           },
           "zaxis": {
            "backgroundcolor": "#E5ECF6",
            "gridcolor": "white",
            "gridwidth": 2,
            "linecolor": "white",
            "showbackground": true,
            "ticks": "",
            "zerolinecolor": "white"
           }
          },
          "shapedefaults": {
           "line": {
            "color": "#2a3f5f"
           }
          },
          "ternary": {
           "aaxis": {
            "gridcolor": "white",
            "linecolor": "white",
            "ticks": ""
           },
           "baxis": {
            "gridcolor": "white",
            "linecolor": "white",
            "ticks": ""
           },
           "bgcolor": "#E5ECF6",
           "caxis": {
            "gridcolor": "white",
            "linecolor": "white",
            "ticks": ""
           }
          },
          "title": {
           "x": 0.05
          },
          "xaxis": {
           "automargin": true,
           "gridcolor": "white",
           "linecolor": "white",
           "ticks": "",
           "title": {
            "standoff": 15
           },
           "zerolinecolor": "white",
           "zerolinewidth": 2
          },
          "yaxis": {
           "automargin": true,
           "gridcolor": "white",
           "linecolor": "white",
           "ticks": "",
           "title": {
            "standoff": 15
           },
           "zerolinecolor": "white",
           "zerolinewidth": 2
          }
         }
        },
        "title": {
         "text": "Time Rabi"
        },
        "xaxis": {
         "title": {
          "text": "Time (µs)"
         }
        },
        "yaxis": {
         "title": {
          "text": "<z>"
         }
        }
       }
      }
     },
     "metadata": {},
     "output_type": "display_data"
    },
    {
     "name": "stderr",
     "output_type": "stream",
     "text": [
      "[2025-08-21 11:09:56] [INFO] [leeq.utils.utils] JSON data: {'print_time': '2025-08-21 11:09:56',\n",
      " 'record_book_path': 'log/coxious/2025-08/2025-08-21/11.09.55',\n",
      " 'record_entry_path': '/root/3-NormalisedRabi.run',\n",
      " 'record_id': '5e0c5475-04c4-4b59-99ab-3bf4594a9ba1',\n",
      " 'record_time': 1755799795}\n"
     ]
    },
    {
     "name": "stderr",
     "output_type": "stream",
     "text": [
      "INFO\tleeq.utils.utils:utils.py:display_json_dict()- JSON data: {'print_time': '2025-08-21 11:09:56',\n",
      " 'record_book_path': 'log/coxious/2025-08/2025-08-21/11.09.55',\n",
      " 'record_entry_path': '/root/3-NormalisedRabi.run',\n",
      " 'record_id': '5e0c5475-04c4-4b59-99ab-3bf4594a9ba1',\n",
      " 'record_time': 1755799795}\n"
     ]
    },
    {
     "name": "stdout",
     "output_type": "stream",
     "text": [
      "✓ Rabi experiment completed!\n",
      "✓ Data shows oscillations between |0⟩ and |1⟩ states\n",
      "✓ Calibrated π-pulse amplitude: 0.5495105598776096 (normalized units)\n"
     ]
    }
   ],
   "source": [
    "# Perform Rabi oscillation experiment\n",
    "print(\"Running Rabi oscillation experiment...\")\n",
    "\n",
    "# NormalisedRabi sweeps the pulse amplitude and measures excited state population\n",
    "rabi_experiment = NormalisedRabi(\n",
    "    dut_qubit=qubit,           # Device under test (our qubit)\n",
    "    step=0.01,                 # Amplitude step size\n",
    "    stop=0.5,                  # Maximum amplitude to sweep\n",
    "    amp=0.19905818643939352,   # Starting amplitude (close to π-pulse)\n",
    "    update=True                # Update qubit calibration with results\n",
    ")\n",
    "\n",
    "print(\"✓ Rabi experiment completed!\")\n",
    "print(\"✓ Data shows oscillations between |0⟩ and |1⟩ states\")\n",
    "print(f\"✓ Calibrated π-pulse amplitude: {qubit.get_c1('f01').get_parameters()['amp']} (normalized units)\")"
   ]
  },
  {
   "cell_type": "markdown",
   "id": "calibration-section",
   "metadata": {},
   "source": [
    "## Single Qubit Calibration Workflow\n",
    "\n",
    "A complete single qubit calibration involves multiple steps to optimize all pulse parameters:\n",
    "\n",
    "### 1. Frequency Calibration (Ramsey Experiment)\n",
    "Ramsey interferometry measures the qubit frequency by creating superposition states and measuring phase accumulation during free evolution.\n",
    "\n",
    "### 2. Amplitude Recalibration\n",
    "After frequency calibration, we often need to recalibrate the pulse amplitude as parameters are interdependent.\n",
    "\n",
    "### 3. Phase Calibration (Pingpong)\n",
    "Phase calibration ensures that successive π-pulses properly cancel, optimizing gate fidelity.\n",
    "\n",
    "### 4. DRAG Calibration\n",
    "DRAG (Derivative Removal by Adiabatic Gating) pulses reduce leakage to higher excited states by adding a derivative component."
   ]
  },
  {
   "cell_type": "code",
   "execution_count": 5,
   "id": "calibration-workflow",
   "metadata": {
    "execution": {
     "iopub.execute_input": "2025-08-21T18:09:56.164855Z",
     "iopub.status.busy": "2025-08-21T18:09:56.164392Z",
     "iopub.status.idle": "2025-08-21T18:09:57.560733Z",
     "shell.execute_reply": "2025-08-21T18:09:57.559886Z"
    }
   },
   "outputs": [
    {
     "name": "stdout",
     "output_type": "stream",
     "text": [
      "=== Single Qubit Calibration Workflow ===\n",
      "\n",
      "1. Frequency calibration (Ramsey)...\n",
      "   Running coarse frequency sweep...\n"
     ]
    },
    {
     "data": {
      "application/vnd.plotly.v1+json": {
       "config": {
        "plotlyServerURL": "https://plot.ly"
       },
       "data": [
        {
         "mode": "markers",
         "name": "Data",
         "type": "scatter",
         "x": {
          "bdata": "AAAAAAAAAAB7FK5H4Xp0P3sUrkfheoQ/uB6F61G4jj97FK5H4XqUP5qZmZmZmZk/uB6F61G4nj/sUbgeheuhP3sUrkfheqQ/CtejcD0Kpz+amZmZmZmpPylcj8L1KKw/uB6F61G4rj+kcD0K16OwP+xRuB6F67E/MzMzMzMzsz97FK5H4Xq0P8P1KFyPwrU/CtejcD0Ktz9SuB6F61G4P5qZmZmZmbk/4XoUrkfhuj8pXI/C9Si8P3E9CtejcL0/uB6F61G4vj8AAAAAAADAP6RwPQrXo8A/SOF6FK5HwT/sUbgehevBP4/C9Shcj8I/MzMzMzMzwz/Xo3A9CtfDP3sUrkfhesQ/H4XrUbgexT/D9Shcj8LFP2dmZmZmZsY/CtejcD0Kxz+uR+F6FK7HP1K4HoXrUcg/9ihcj8L1yD+amZmZmZnJPz4K16NwPco/4XoUrkfhyj+F61G4HoXLPylcj8L1KMw/zczMzMzMzD9xPQrXo3DNPxWuR+F6FM4/uB6F61G4zj9cj8L1KFzPPwAAAAAAANA/UrgehetR0D+kcD0K16PQP/YoXI/C9dA/SOF6FK5H0T+amZmZmZnRP+xRuB6F69E/PgrXo3A90j+PwvUoXI/SP+F6FK5H4dI/",
          "dtype": "f8"
         },
         "xaxis": "x",
         "y": {
          "bdata": "YhBYObTI7j/dJAaBlUPrP4/C9Shcj+o/0SLb+X5q5D9xPQrXo3DlP+xRuB6F6+E/XrpJDAIr1z8fhetRuB7VP2ZmZmZmZtY/7FG4HoXr0T/pJjEIrBy6Pxsv3SQGgbU/O99PjZdusj+yne+nxkvHP57vp8ZLN9k/WDm0yHa+3z9eukkMAivnP7bz/dR46eY/Gy/dJAaB7T+oxks3iUHoPwAAAAAAAPA/AAAAAAAA8D+PwvUoXI/qP7bz/dR46eY/KVyPwvUo5D9KDAIrhxbhP8l2vp8aL90/6SYxCKwcyj+JQWDl0CLLP+xRuB6F68E/I9v5fmq8xD/b+X5qvHTDP3Noke18P9U/N4lBYOXQ0j/NzMzMzMzcP6RwPQrXo+A/4XoUrkfh4j+wcmiR7XznP4XrUbgehes/5dAi2/l+6j8AAAAAAADwP23n+6nx0u0/y6FFtvP97D9zaJHtfD/lP166SQwCK+c/UI2XbhKD4D/Jdr6fGi/dPwaBlUOLbNc/g8DKoUW2wz/RItv5fmrMP/p+arx0k7g/46WbxCCwwj/Jdr6fGi+9P0SLbOf7qdE/iUFg5dAi2z9I4XoUrkfhP4ts5/up8eI/uB6F61G45j8fhetRuB7lP6AaL90kBuk/",
          "dtype": "f8"
         },
         "yaxis": "y"
        },
        {
         "mode": "lines",
         "name": "Fit",
         "type": "scatter",
         "visible": "legendonly",
         "x": {
          "bdata": "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",
          "dtype": "f8"
         },
         "xaxis": "x",
         "y": {
          "bdata": "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",
          "dtype": "f8"
         },
         "yaxis": "y"
        }
       ],
       "layout": {
        "plot_bgcolor": "white",
        "template": {
         "data": {
          "bar": [
           {
            "error_x": {
             "color": "#2a3f5f"
            },
            "error_y": {
             "color": "#2a3f5f"
            },
            "marker": {
             "line": {
              "color": "#E5ECF6",
              "width": 0.5
             },
             "pattern": {
              "fillmode": "overlay",
              "size": 10,
              "solidity": 0.2
             }
            },
            "type": "bar"
           }
          ],
          "barpolar": [
           {
            "marker": {
             "line": {
              "color": "#E5ECF6",
              "width": 0.5
             },
             "pattern": {
              "fillmode": "overlay",
              "size": 10,
              "solidity": 0.2
             }
            },
            "type": "barpolar"
           }
          ],
          "carpet": [
           {
            "aaxis": {
             "endlinecolor": "#2a3f5f",
             "gridcolor": "white",
             "linecolor": "white",
             "minorgridcolor": "white",
             "startlinecolor": "#2a3f5f"
            },
            "baxis": {
             "endlinecolor": "#2a3f5f",
             "gridcolor": "white",
             "linecolor": "white",
             "minorgridcolor": "white",
             "startlinecolor": "#2a3f5f"
            },
            "type": "carpet"
           }
          ],
          "choropleth": [
           {
            "colorbar": {
             "outlinewidth": 0,
             "ticks": ""
            },
            "type": "choropleth"
           }
          ],
          "contour": [
           {
            "colorbar": {
             "outlinewidth": 0,
             "ticks": ""
            },
            "colorscale": [
             [
              0.0,
              "#0d0887"
             ],
             [
              0.1111111111111111,
              "#46039f"
             ],
             [
              0.2222222222222222,
              "#7201a8"
             ],
             [
              0.3333333333333333,
              "#9c179e"
             ],
             [
              0.4444444444444444,
              "#bd3786"
             ],
             [
              0.5555555555555556,
              "#d8576b"
             ],
             [
              0.6666666666666666,
              "#ed7953"
             ],
             [
              0.7777777777777778,
              "#fb9f3a"
             ],
             [
              0.8888888888888888,
              "#fdca26"
             ],
             [
              1.0,
              "#f0f921"
             ]
            ],
            "type": "contour"
           }
          ],
          "contourcarpet": [
           {
            "colorbar": {
             "outlinewidth": 0,
             "ticks": ""
            },
            "type": "contourcarpet"
           }
          ],
          "heatmap": [
           {
            "colorbar": {
             "outlinewidth": 0,
             "ticks": ""
            },
            "colorscale": [
             [
              0.0,
              "#0d0887"
             ],
             [
              0.1111111111111111,
              "#46039f"
             ],
             [
              0.2222222222222222,
              "#7201a8"
             ],
             [
              0.3333333333333333,
              "#9c179e"
             ],
             [
              0.4444444444444444,
              "#bd3786"
             ],
             [
              0.5555555555555556,
              "#d8576b"
             ],
             [
              0.6666666666666666,
              "#ed7953"
             ],
             [
              0.7777777777777778,
              "#fb9f3a"
             ],
             [
              0.8888888888888888,
              "#fdca26"
             ],
             [
              1.0,
              "#f0f921"
             ]
            ],
            "type": "heatmap"
           }
          ],
          "histogram": [
           {
            "marker": {
             "pattern": {
              "fillmode": "overlay",
              "size": 10,
              "solidity": 0.2
             }
            },
            "type": "histogram"
           }
          ],
          "histogram2d": [
           {
            "colorbar": {
             "outlinewidth": 0,
             "ticks": ""
            },
            "colorscale": [
             [
              0.0,
              "#0d0887"
             ],
             [
              0.1111111111111111,
              "#46039f"
             ],
             [
              0.2222222222222222,
              "#7201a8"
             ],
             [
              0.3333333333333333,
              "#9c179e"
             ],
             [
              0.4444444444444444,
              "#bd3786"
             ],
             [
              0.5555555555555556,
              "#d8576b"
             ],
             [
              0.6666666666666666,
              "#ed7953"
             ],
             [
              0.7777777777777778,
              "#fb9f3a"
             ],
             [
              0.8888888888888888,
              "#fdca26"
             ],
             [
              1.0,
              "#f0f921"
             ]
            ],
            "type": "histogram2d"
           }
          ],
          "histogram2dcontour": [
           {
            "colorbar": {
             "outlinewidth": 0,
             "ticks": ""
            },
            "colorscale": [
             [
              0.0,
              "#0d0887"
             ],
             [
              0.1111111111111111,
              "#46039f"
             ],
             [
              0.2222222222222222,
              "#7201a8"
             ],
             [
              0.3333333333333333,
              "#9c179e"
             ],
             [
              0.4444444444444444,
              "#bd3786"
             ],
             [
              0.5555555555555556,
              "#d8576b"
             ],
             [
              0.6666666666666666,
              "#ed7953"
             ],
             [
              0.7777777777777778,
              "#fb9f3a"
             ],
             [
              0.8888888888888888,
              "#fdca26"
             ],
             [
              1.0,
              "#f0f921"
             ]
            ],
            "type": "histogram2dcontour"
           }
          ],
          "mesh3d": [
           {
            "colorbar": {
             "outlinewidth": 0,
             "ticks": ""
            },
            "type": "mesh3d"
           }
          ],
          "parcoords": [
           {
            "line": {
             "colorbar": {
              "outlinewidth": 0,
              "ticks": ""
             }
            },
            "type": "parcoords"
           }
          ],
          "pie": [
           {
            "automargin": true,
            "type": "pie"
           }
          ],
          "scatter": [
           {
            "fillpattern": {
             "fillmode": "overlay",
             "size": 10,
             "solidity": 0.2
            },
            "type": "scatter"
           }
          ],
          "scatter3d": [
           {
            "line": {
             "colorbar": {
              "outlinewidth": 0,
              "ticks": ""
             }
            },
            "marker": {
             "colorbar": {
              "outlinewidth": 0,
              "ticks": ""
             }
            },
            "type": "scatter3d"
           }
          ],
          "scattercarpet": [
           {
            "marker": {
             "colorbar": {
              "outlinewidth": 0,
              "ticks": ""
             }
            },
            "type": "scattercarpet"
           }
          ],
          "scattergeo": [
           {
            "marker": {
             "colorbar": {
              "outlinewidth": 0,
              "ticks": ""
             }
            },
            "type": "scattergeo"
           }
          ],
          "scattergl": [
           {
            "marker": {
             "colorbar": {
              "outlinewidth": 0,
              "ticks": ""
             }
            },
            "type": "scattergl"
           }
          ],
          "scattermap": [
           {
            "marker": {
             "colorbar": {
              "outlinewidth": 0,
              "ticks": ""
             }
            },
            "type": "scattermap"
           }
          ],
          "scattermapbox": [
           {
            "marker": {
             "colorbar": {
              "outlinewidth": 0,
              "ticks": ""
             }
            },
            "type": "scattermapbox"
           }
          ],
          "scatterpolar": [
           {
            "marker": {
             "colorbar": {
              "outlinewidth": 0,
              "ticks": ""
             }
            },
            "type": "scatterpolar"
           }
          ],
          "scatterpolargl": [
           {
            "marker": {
             "colorbar": {
              "outlinewidth": 0,
              "ticks": ""
             }
            },
            "type": "scatterpolargl"
           }
          ],
          "scatterternary": [
           {
            "marker": {
             "colorbar": {
              "outlinewidth": 0,
              "ticks": ""
             }
            },
            "type": "scatterternary"
           }
          ],
          "surface": [
           {
            "colorbar": {
             "outlinewidth": 0,
             "ticks": ""
            },
            "colorscale": [
             [
              0.0,
              "#0d0887"
             ],
             [
              0.1111111111111111,
              "#46039f"
             ],
             [
              0.2222222222222222,
              "#7201a8"
             ],
             [
              0.3333333333333333,
              "#9c179e"
             ],
             [
              0.4444444444444444,
              "#bd3786"
             ],
             [
              0.5555555555555556,
              "#d8576b"
             ],
             [
              0.6666666666666666,
              "#ed7953"
             ],
             [
              0.7777777777777778,
              "#fb9f3a"
             ],
             [
              0.8888888888888888,
              "#fdca26"
             ],
             [
              1.0,
              "#f0f921"
             ]
            ],
            "type": "surface"
           }
          ],
          "table": [
           {
            "cells": {
             "fill": {
              "color": "#EBF0F8"
             },
             "line": {
              "color": "white"
             }
            },
            "header": {
             "fill": {
              "color": "#C8D4E3"
             },
             "line": {
              "color": "white"
             }
            },
            "type": "table"
           }
          ]
         },
         "layout": {
          "annotationdefaults": {
           "arrowcolor": "#2a3f5f",
           "arrowhead": 0,
           "arrowwidth": 1
          },
          "autotypenumbers": "strict",
          "coloraxis": {
           "colorbar": {
            "outlinewidth": 0,
            "ticks": ""
           }
          },
          "colorscale": {
           "diverging": [
            [
             0,
             "#8e0152"
            ],
            [
             0.1,
             "#c51b7d"
            ],
            [
             0.2,
             "#de77ae"
            ],
            [
             0.3,
             "#f1b6da"
            ],
            [
             0.4,
             "#fde0ef"
            ],
            [
             0.5,
             "#f7f7f7"
            ],
            [
             0.6,
             "#e6f5d0"
            ],
            [
             0.7,
             "#b8e186"
            ],
            [
             0.8,
             "#7fbc41"
            ],
            [
             0.9,
             "#4d9221"
            ],
            [
             1,
             "#276419"
            ]
           ],
           "sequential": [
            [
             0.0,
             "#0d0887"
            ],
            [
             0.1111111111111111,
             "#46039f"
            ],
            [
             0.2222222222222222,
             "#7201a8"
            ],
            [
             0.3333333333333333,
             "#9c179e"
            ],
            [
             0.4444444444444444,
             "#bd3786"
            ],
            [
             0.5555555555555556,
             "#d8576b"
            ],
            [
             0.6666666666666666,
             "#ed7953"
            ],
            [
             0.7777777777777778,
             "#fb9f3a"
            ],
            [
             0.8888888888888888,
             "#fdca26"
            ],
            [
             1.0,
             "#f0f921"
            ]
           ],
           "sequentialminus": [
            [
             0.0,
             "#0d0887"
            ],
            [
             0.1111111111111111,
             "#46039f"
            ],
            [
             0.2222222222222222,
             "#7201a8"
            ],
            [
             0.3333333333333333,
             "#9c179e"
            ],
            [
             0.4444444444444444,
             "#bd3786"
            ],
            [
             0.5555555555555556,
             "#d8576b"
            ],
            [
             0.6666666666666666,
             "#ed7953"
            ],
            [
             0.7777777777777778,
             "#fb9f3a"
            ],
            [
             0.8888888888888888,
             "#fdca26"
            ],
            [
             1.0,
             "#f0f921"
            ]
           ]
          },
          "colorway": [
           "#636efa",
           "#EF553B",
           "#00cc96",
           "#ab63fa",
           "#FFA15A",
           "#19d3f3",
           "#FF6692",
           "#B6E880",
           "#FF97FF",
           "#FECB52"
          ],
          "font": {
           "color": "#2a3f5f"
          },
          "geo": {
           "bgcolor": "white",
           "lakecolor": "white",
           "landcolor": "#E5ECF6",
           "showlakes": true,
           "showland": true,
           "subunitcolor": "white"
          },
          "hoverlabel": {
           "align": "left"
          },
          "hovermode": "closest",
          "mapbox": {
           "style": "light"
          },
          "paper_bgcolor": "white",
          "plot_bgcolor": "#E5ECF6",
          "polar": {
           "angularaxis": {
            "gridcolor": "white",
            "linecolor": "white",
            "ticks": ""
           },
           "bgcolor": "#E5ECF6",
           "radialaxis": {
            "gridcolor": "white",
            "linecolor": "white",
            "ticks": ""
           }
          },
          "scene": {
           "xaxis": {
            "backgroundcolor": "#E5ECF6",
            "gridcolor": "white",
            "gridwidth": 2,
            "linecolor": "white",
            "showbackground": true,
            "ticks": "",
            "zerolinecolor": "white"
           },
           "yaxis": {
            "backgroundcolor": "#E5ECF6",
            "gridcolor": "white",
            "gridwidth": 2,
            "linecolor": "white",
            "showbackground": true,
            "ticks": "",
            "zerolinecolor": "white"
           },
           "zaxis": {
            "backgroundcolor": "#E5ECF6",
            "gridcolor": "white",
            "gridwidth": 2,
            "linecolor": "white",
            "showbackground": true,
            "ticks": "",
            "zerolinecolor": "white"
           }
          },
          "shapedefaults": {
           "line": {
            "color": "#2a3f5f"
           }
          },
          "ternary": {
           "aaxis": {
            "gridcolor": "white",
            "linecolor": "white",
            "ticks": ""
           },
           "baxis": {
            "gridcolor": "white",
            "linecolor": "white",
            "ticks": ""
           },
           "bgcolor": "#E5ECF6",
           "caxis": {
            "gridcolor": "white",
            "linecolor": "white",
            "ticks": ""
           }
          },
          "title": {
           "x": 0.05
          },
          "xaxis": {
           "automargin": true,
           "gridcolor": "white",
           "linecolor": "white",
           "ticks": "",
           "title": {
            "standoff": 15
           },
           "zerolinecolor": "white",
           "zerolinewidth": 2
          },
          "yaxis": {
           "automargin": true,
           "gridcolor": "white",
           "linecolor": "white",
           "ticks": "",
           "title": {
            "standoff": 15
           },
           "zerolinecolor": "white",
           "zerolinewidth": 2
          }
         }
        },
        "title": {
         "text": "Ramsey decay Q1 transition f01: <br>4+/-6 us"
        },
        "xaxis": {
         "anchor": "y",
         "domain": [
          0.0,
          1.0
         ],
         "title": {
          "text": "Time (us) <br> Frequency: 9.95+/-0.06 MHz"
         }
        },
        "yaxis": {
         "anchor": "x",
         "domain": [
          0.0,
          1.0
         ],
         "title": {
          "text": "<z>"
         }
        }
       }
      }
     },
     "metadata": {},
     "output_type": "display_data"
    },
    {
     "name": "stderr",
     "output_type": "stream",
     "text": [
      "[2025-08-21 11:09:56] [INFO] [leeq.utils.utils] JSON data: {'print_time': '2025-08-21 11:09:56',\n",
      " 'record_book_path': 'log/coxious/2025-08/2025-08-21/11.09.55',\n",
      " 'record_entry_path': '/root/4-SimpleRamseyMultilevel.run',\n",
      " 'record_id': '6673464b-47ac-4e5b-be15-ad1a5ffe781e',\n",
      " 'record_time': 1755799796}\n"
     ]
    },
    {
     "name": "stderr",
     "output_type": "stream",
     "text": [
      "INFO\tleeq.utils.utils:utils.py:display_json_dict()- JSON data: {'print_time': '2025-08-21 11:09:56',\n",
      " 'record_book_path': 'log/coxious/2025-08/2025-08-21/11.09.55',\n",
      " 'record_entry_path': '/root/4-SimpleRamseyMultilevel.run',\n",
      " 'record_id': '6673464b-47ac-4e5b-be15-ad1a5ffe781e',\n",
      " 'record_time': 1755799796}\n"
     ]
    },
    {
     "name": "stdout",
     "output_type": "stream",
     "text": [
      "   Running medium frequency sweep...\n"
     ]
    },
    {
     "data": {
      "application/vnd.plotly.v1+json": {
       "config": {
        "plotlyServerURL": "https://plot.ly"
       },
       "data": [
        {
         "mode": "markers",
         "name": "Data",
         "type": "scatter",
         "x": {
          "bdata": "AAAAAAAAAACamZmZmZmpP5qZmZmZmbk/NDMzMzMzwz+amZmZmZnJPwAAAAAAANA/NDMzMzMz0z9nZmZmZmbWP5qZmZmZmdk/zczMzMzM3D8AAAAAAADgP5qZmZmZmeE/NDMzMzMz4z/NzMzMzMzkP2dmZmZmZuY/AAAAAAAA6D+amZmZmZnpPzQzMzMzM+s/zczMzMzM7D9nZmZmZmbuPwAAAAAAAPA/zczMzMzM8D+amZmZmZnxP2dmZmZmZvI/NDMzMzMz8z8AAAAAAAD0P83MzMzMzPQ/mpmZmZmZ9T9nZmZmZmb2PzQzMzMzM/c/AAAAAAAA+D/NzMzMzMz4P5qZmZmZmfk/Z2ZmZmZm+j80MzMzMzP7PwAAAAAAAPw/zczMzMzM/D+amZmZmZn9P2dmZmZmZv4/NDMzMzMz/z8AAAAAAAAAQGdmZmZmZgBAzczMzMzMAEAzMzMzMzMBQJqZmZmZmQFAAAAAAAAAAkBnZmZmZmYCQM3MzMzMzAJANDMzMzMzA0CamZmZmZkDQAAAAAAAAARAZ2ZmZmZmBEDNzMzMzMwEQDQzMzMzMwVAmpmZmZmZBUAAAAAAAAAGQGdmZmZmZgZAzczMzMzMBkA0MzMzMzMHQJqZmZmZmQdA",
          "dtype": "f8"
         },
         "xaxis": "x",
         "y": {
          "bdata": "PQrXo3A96j8AAAAAAADwPycxCKwcWuw/9P3UeOkm6T/pJjEIrBziP1K4HoXrUeA/f2q8dJMY1D9oke18PzXOPzvfT42XbpI/AAAAAAAAAACcxCCwcmihP/p+arx0k3g/GQRWDi2yvT+YbhKDwMrRPwaBlUOLbNc/CKwcWmQ73z+JQWDl0CLjPw4tsp3vp+Y/bef7qfHS7T9iEFg5tMjuP7Kd76fGS+8/AAAAAAAA8D8nMQisHFrkP7x0kxgEVuY/yXa+nxov5T/ByqFFtvPdP7bz/dR46dY/ukkMAiuH1j9U46WbxCDAP9V46SYxCNw/arx0kxgEtj8AAAAAAAAAACPb+X5qvMQ/I9v5fmq81D81XrpJDALbP7x0kxgEVt4/8KfGSzeJ4T+mm8QgsHLoPxfZzvdT4+0/Rrbz/dR46T8ZBFYOLbLtPwAAAAAAAPA/y6FFtvP97D+iRbbz/dToPzMzMzMzM+M/DAIrhxbZ3j81XrpJDALbP9v5fmq8dNM/8tJNYhBYyT9KDAIrhxa5PwAAAAAAAAAA7FG4HoXrwT97FK5H4XrEP+Olm8QgsNI/2c73U+Ol2z/2KFyPwvXgP/LSTWIQWOE/IbByaJHt5D9xPQrXo3DtP/hT46WbxOg/",
          "dtype": "f8"
         },
         "yaxis": "y"
        },
        {
         "mode": "lines",
         "name": "Fit",
         "type": "scatter",
         "visible": "legendonly",
         "x": {
          "bdata": "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",
          "dtype": "f8"
         },
         "xaxis": "x",
         "y": {
          "bdata": "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",
          "dtype": "f8"
         },
         "yaxis": "y"
        }
       ],
       "layout": {
        "plot_bgcolor": "white",
        "template": {
         "data": {
          "bar": [
           {
            "error_x": {
             "color": "#2a3f5f"
            },
            "error_y": {
             "color": "#2a3f5f"
            },
            "marker": {
             "line": {
              "color": "#E5ECF6",
              "width": 0.5
             },
             "pattern": {
              "fillmode": "overlay",
              "size": 10,
              "solidity": 0.2
             }
            },
            "type": "bar"
           }
          ],
          "barpolar": [
           {
            "marker": {
             "line": {
              "color": "#E5ECF6",
              "width": 0.5
             },
             "pattern": {
              "fillmode": "overlay",
              "size": 10,
              "solidity": 0.2
             }
            },
            "type": "barpolar"
           }
          ],
          "carpet": [
           {
            "aaxis": {
             "endlinecolor": "#2a3f5f",
             "gridcolor": "white",
             "linecolor": "white",
             "minorgridcolor": "white",
             "startlinecolor": "#2a3f5f"
            },
            "baxis": {
             "endlinecolor": "#2a3f5f",
             "gridcolor": "white",
             "linecolor": "white",
             "minorgridcolor": "white",
             "startlinecolor": "#2a3f5f"
            },
            "type": "carpet"
           }
          ],
          "choropleth": [
           {
            "colorbar": {
             "outlinewidth": 0,
             "ticks": ""
            },
            "type": "choropleth"
           }
          ],
          "contour": [
           {
            "colorbar": {
             "outlinewidth": 0,
             "ticks": ""
            },
            "colorscale": [
             [
              0.0,
              "#0d0887"
             ],
             [
              0.1111111111111111,
              "#46039f"
             ],
             [
              0.2222222222222222,
              "#7201a8"
             ],
             [
              0.3333333333333333,
              "#9c179e"
             ],
             [
              0.4444444444444444,
              "#bd3786"
             ],
             [
              0.5555555555555556,
              "#d8576b"
             ],
             [
              0.6666666666666666,
              "#ed7953"
             ],
             [
              0.7777777777777778,
              "#fb9f3a"
             ],
             [
              0.8888888888888888,
              "#fdca26"
             ],
             [
              1.0,
              "#f0f921"
             ]
            ],
            "type": "contour"
           }
          ],
          "contourcarpet": [
           {
            "colorbar": {
             "outlinewidth": 0,
             "ticks": ""
            },
            "type": "contourcarpet"
           }
          ],
          "heatmap": [
           {
            "colorbar": {
             "outlinewidth": 0,
             "ticks": ""
            },
            "colorscale": [
             [
              0.0,
              "#0d0887"
             ],
             [
              0.1111111111111111,
              "#46039f"
             ],
             [
              0.2222222222222222,
              "#7201a8"
             ],
             [
              0.3333333333333333,
              "#9c179e"
             ],
             [
              0.4444444444444444,
              "#bd3786"
             ],
             [
              0.5555555555555556,
              "#d8576b"
             ],
             [
              0.6666666666666666,
              "#ed7953"
             ],
             [
              0.7777777777777778,
              "#fb9f3a"
             ],
             [
              0.8888888888888888,
              "#fdca26"
             ],
             [
              1.0,
              "#f0f921"
             ]
            ],
            "type": "heatmap"
           }
          ],
          "histogram": [
           {
            "marker": {
             "pattern": {
              "fillmode": "overlay",
              "size": 10,
              "solidity": 0.2
             }
            },
            "type": "histogram"
           }
          ],
          "histogram2d": [
           {
            "colorbar": {
             "outlinewidth": 0,
             "ticks": ""
            },
            "colorscale": [
             [
              0.0,
              "#0d0887"
             ],
             [
              0.1111111111111111,
              "#46039f"
             ],
             [
              0.2222222222222222,
              "#7201a8"
             ],
             [
              0.3333333333333333,
              "#9c179e"
             ],
             [
              0.4444444444444444,
              "#bd3786"
             ],
             [
              0.5555555555555556,
              "#d8576b"
             ],
             [
              0.6666666666666666,
              "#ed7953"
             ],
             [
              0.7777777777777778,
              "#fb9f3a"
             ],
             [
              0.8888888888888888,
              "#fdca26"
             ],
             [
              1.0,
              "#f0f921"
             ]
            ],
            "type": "histogram2d"
           }
          ],
          "histogram2dcontour": [
           {
            "colorbar": {
             "outlinewidth": 0,
             "ticks": ""
            },
            "colorscale": [
             [
              0.0,
              "#0d0887"
             ],
             [
              0.1111111111111111,
              "#46039f"
             ],
             [
              0.2222222222222222,
              "#7201a8"
             ],
             [
              0.3333333333333333,
              "#9c179e"
             ],
             [
              0.4444444444444444,
              "#bd3786"
             ],
             [
              0.5555555555555556,
              "#d8576b"
             ],
             [
              0.6666666666666666,
              "#ed7953"
             ],
             [
              0.7777777777777778,
              "#fb9f3a"
             ],
             [
              0.8888888888888888,
              "#fdca26"
             ],
             [
              1.0,
              "#f0f921"
             ]
            ],
            "type": "histogram2dcontour"
           }
          ],
          "mesh3d": [
           {
            "colorbar": {
             "outlinewidth": 0,
             "ticks": ""
            },
            "type": "mesh3d"
           }
          ],
          "parcoords": [
           {
            "line": {
             "colorbar": {
              "outlinewidth": 0,
              "ticks": ""
             }
            },
            "type": "parcoords"
           }
          ],
          "pie": [
           {
            "automargin": true,
            "type": "pie"
           }
          ],
          "scatter": [
           {
            "fillpattern": {
             "fillmode": "overlay",
             "size": 10,
             "solidity": 0.2
            },
            "type": "scatter"
           }
          ],
          "scatter3d": [
           {
            "line": {
             "colorbar": {
              "outlinewidth": 0,
              "ticks": ""
             }
            },
            "marker": {
             "colorbar": {
              "outlinewidth": 0,
              "ticks": ""
             }
            },
            "type": "scatter3d"
           }
          ],
          "scattercarpet": [
           {
            "marker": {
             "colorbar": {
              "outlinewidth": 0,
              "ticks": ""
             }
            },
            "type": "scattercarpet"
           }
          ],
          "scattergeo": [
           {
            "marker": {
             "colorbar": {
              "outlinewidth": 0,
              "ticks": ""
             }
            },
            "type": "scattergeo"
           }
          ],
          "scattergl": [
           {
            "marker": {
             "colorbar": {
              "outlinewidth": 0,
              "ticks": ""
             }
            },
            "type": "scattergl"
           }
          ],
          "scattermap": [
           {
            "marker": {
             "colorbar": {
              "outlinewidth": 0,
              "ticks": ""
             }
            },
            "type": "scattermap"
           }
          ],
          "scattermapbox": [
           {
            "marker": {
             "colorbar": {
              "outlinewidth": 0,
              "ticks": ""
             }
            },
            "type": "scattermapbox"
           }
          ],
          "scatterpolar": [
           {
            "marker": {
             "colorbar": {
              "outlinewidth": 0,
              "ticks": ""
             }
            },
            "type": "scatterpolar"
           }
          ],
          "scatterpolargl": [
           {
            "marker": {
             "colorbar": {
              "outlinewidth": 0,
              "ticks": ""
             }
            },
            "type": "scatterpolargl"
           }
          ],
          "scatterternary": [
           {
            "marker": {
             "colorbar": {
              "outlinewidth": 0,
              "ticks": ""
             }
            },
            "type": "scatterternary"
           }
          ],
          "surface": [
           {
            "colorbar": {
             "outlinewidth": 0,
             "ticks": ""
            },
            "colorscale": [
             [
              0.0,
              "#0d0887"
             ],
             [
              0.1111111111111111,
              "#46039f"
             ],
             [
              0.2222222222222222,
              "#7201a8"
             ],
             [
              0.3333333333333333,
              "#9c179e"
             ],
             [
              0.4444444444444444,
              "#bd3786"
             ],
             [
              0.5555555555555556,
              "#d8576b"
             ],
             [
              0.6666666666666666,
              "#ed7953"
             ],
             [
              0.7777777777777778,
              "#fb9f3a"
             ],
             [
              0.8888888888888888,
              "#fdca26"
             ],
             [
              1.0,
              "#f0f921"
             ]
            ],
            "type": "surface"
           }
          ],
          "table": [
           {
            "cells": {
             "fill": {
              "color": "#EBF0F8"
             },
             "line": {
              "color": "white"
             }
            },
            "header": {
             "fill": {
              "color": "#C8D4E3"
             },
             "line": {
              "color": "white"
             }
            },
            "type": "table"
           }
          ]
         },
         "layout": {
          "annotationdefaults": {
           "arrowcolor": "#2a3f5f",
           "arrowhead": 0,
           "arrowwidth": 1
          },
          "autotypenumbers": "strict",
          "coloraxis": {
           "colorbar": {
            "outlinewidth": 0,
            "ticks": ""
           }
          },
          "colorscale": {
           "diverging": [
            [
             0,
             "#8e0152"
            ],
            [
             0.1,
             "#c51b7d"
            ],
            [
             0.2,
             "#de77ae"
            ],
            [
             0.3,
             "#f1b6da"
            ],
            [
             0.4,
             "#fde0ef"
            ],
            [
             0.5,
             "#f7f7f7"
            ],
            [
             0.6,
             "#e6f5d0"
            ],
            [
             0.7,
             "#b8e186"
            ],
            [
             0.8,
             "#7fbc41"
            ],
            [
             0.9,
             "#4d9221"
            ],
            [
             1,
             "#276419"
            ]
           ],
           "sequential": [
            [
             0.0,
             "#0d0887"
            ],
            [
             0.1111111111111111,
             "#46039f"
            ],
            [
             0.2222222222222222,
             "#7201a8"
            ],
            [
             0.3333333333333333,
             "#9c179e"
            ],
            [
             0.4444444444444444,
             "#bd3786"
            ],
            [
             0.5555555555555556,
             "#d8576b"
            ],
            [
             0.6666666666666666,
             "#ed7953"
            ],
            [
             0.7777777777777778,
             "#fb9f3a"
            ],
            [
             0.8888888888888888,
             "#fdca26"
            ],
            [
             1.0,
             "#f0f921"
            ]
           ],
           "sequentialminus": [
            [
             0.0,
             "#0d0887"
            ],
            [
             0.1111111111111111,
             "#46039f"
            ],
            [
             0.2222222222222222,
             "#7201a8"
            ],
            [
             0.3333333333333333,
             "#9c179e"
            ],
            [
             0.4444444444444444,
             "#bd3786"
            ],
            [
             0.5555555555555556,
             "#d8576b"
            ],
            [
             0.6666666666666666,
             "#ed7953"
            ],
            [
             0.7777777777777778,
             "#fb9f3a"
            ],
            [
             0.8888888888888888,
             "#fdca26"
            ],
            [
             1.0,
             "#f0f921"
            ]
           ]
          },
          "colorway": [
           "#636efa",
           "#EF553B",
           "#00cc96",
           "#ab63fa",
           "#FFA15A",
           "#19d3f3",
           "#FF6692",
           "#B6E880",
           "#FF97FF",
           "#FECB52"
          ],
          "font": {
           "color": "#2a3f5f"
          },
          "geo": {
           "bgcolor": "white",
           "lakecolor": "white",
           "landcolor": "#E5ECF6",
           "showlakes": true,
           "showland": true,
           "subunitcolor": "white"
          },
          "hoverlabel": {
           "align": "left"
          },
          "hovermode": "closest",
          "mapbox": {
           "style": "light"
          },
          "paper_bgcolor": "white",
          "plot_bgcolor": "#E5ECF6",
          "polar": {
           "angularaxis": {
            "gridcolor": "white",
            "linecolor": "white",
            "ticks": ""
           },
           "bgcolor": "#E5ECF6",
           "radialaxis": {
            "gridcolor": "white",
            "linecolor": "white",
            "ticks": ""
           }
          },
          "scene": {
           "xaxis": {
            "backgroundcolor": "#E5ECF6",
            "gridcolor": "white",
            "gridwidth": 2,
            "linecolor": "white",
            "showbackground": true,
            "ticks": "",
            "zerolinecolor": "white"
           },
           "yaxis": {
            "backgroundcolor": "#E5ECF6",
            "gridcolor": "white",
            "gridwidth": 2,
            "linecolor": "white",
            "showbackground": true,
            "ticks": "",
            "zerolinecolor": "white"
           },
           "zaxis": {
            "backgroundcolor": "#E5ECF6",
            "gridcolor": "white",
            "gridwidth": 2,
            "linecolor": "white",
            "showbackground": true,
            "ticks": "",
            "zerolinecolor": "white"
           }
          },
          "shapedefaults": {
           "line": {
            "color": "#2a3f5f"
           }
          },
          "ternary": {
           "aaxis": {
            "gridcolor": "white",
            "linecolor": "white",
            "ticks": ""
           },
           "baxis": {
            "gridcolor": "white",
            "linecolor": "white",
            "ticks": ""
           },
           "bgcolor": "#E5ECF6",
           "caxis": {
            "gridcolor": "white",
            "linecolor": "white",
            "ticks": ""
           }
          },
          "title": {
           "x": 0.05
          },
          "xaxis": {
           "automargin": true,
           "gridcolor": "white",
           "linecolor": "white",
           "ticks": "",
           "title": {
            "standoff": 15
           },
           "zerolinecolor": "white",
           "zerolinewidth": 2
          },
          "yaxis": {
           "automargin": true,
           "gridcolor": "white",
           "linecolor": "white",
           "ticks": "",
           "title": {
            "standoff": 15
           },
           "zerolinecolor": "white",
           "zerolinewidth": 2
          }
         }
        },
        "title": {
         "text": "Ramsey decay Q1 transition f01: <br>14+/-8 us"
        },
        "xaxis": {
         "anchor": "y",
         "domain": [
          0.0,
          1.0
         ],
         "title": {
          "text": "Time (us) <br> Frequency: 0.994+/-0.007 MHz"
         }
        },
        "yaxis": {
         "anchor": "x",
         "domain": [
          0.0,
          1.0
         ],
         "title": {
          "text": "<z>"
         }
        }
       }
      }
     },
     "metadata": {},
     "output_type": "display_data"
    },
    {
     "name": "stderr",
     "output_type": "stream",
     "text": [
      "[2025-08-21 11:09:56] [INFO] [leeq.utils.utils] JSON data: {'print_time': '2025-08-21 11:09:56',\n",
      " 'record_book_path': 'log/coxious/2025-08/2025-08-21/11.09.55',\n",
      " 'record_entry_path': '/root/5-SimpleRamseyMultilevel.run',\n",
      " 'record_id': '0d726919-631c-471a-b36b-13a170fd2b3c',\n",
      " 'record_time': 1755799796}\n"
     ]
    },
    {
     "name": "stderr",
     "output_type": "stream",
     "text": [
      "INFO\tleeq.utils.utils:utils.py:display_json_dict()- JSON data: {'print_time': '2025-08-21 11:09:56',\n",
      " 'record_book_path': 'log/coxious/2025-08/2025-08-21/11.09.55',\n",
      " 'record_entry_path': '/root/5-SimpleRamseyMultilevel.run',\n",
      " 'record_id': '0d726919-631c-471a-b36b-13a170fd2b3c',\n",
      " 'record_time': 1755799796}\n"
     ]
    },
    {
     "name": "stdout",
     "output_type": "stream",
     "text": [
      "   Running fine frequency sweep...\n"
     ]
    },
    {
     "data": {
      "application/vnd.plotly.v1+json": {
       "config": {
        "plotlyServerURL": "https://plot.ly"
       },
       "data": [
        {
         "mode": "markers",
         "name": "Data",
         "type": "scatter",
         "x": {
          "bdata": "AAAAAAAAAAAAAAAAAADgPwAAAAAAAPA/AAAAAAAA+D8AAAAAAAAAQAAAAAAAAARAAAAAAAAACEAAAAAAAAAMQAAAAAAAABBAAAAAAAAAEkAAAAAAAAAUQAAAAAAAABZAAAAAAAAAGEAAAAAAAAAaQAAAAAAAABxAAAAAAAAAHkAAAAAAAAAgQAAAAAAAACFAAAAAAAAAIkAAAAAAAAAjQAAAAAAAACRAAAAAAAAAJUAAAAAAAAAmQAAAAAAAACdAAAAAAAAAKEAAAAAAAAApQAAAAAAAACpAAAAAAAAAK0AAAAAAAAAsQAAAAAAAAC1AAAAAAAAALkAAAAAAAAAvQAAAAAAAADBAAAAAAACAMEAAAAAAAAAxQAAAAAAAgDFAAAAAAAAAMkAAAAAAAIAyQAAAAAAAADNAAAAAAACAM0AAAAAAAAA0QAAAAAAAgDRAAAAAAAAANUAAAAAAAIA1QAAAAAAAADZAAAAAAACANkAAAAAAAAA3QAAAAAAAgDdAAAAAAAAAOEAAAAAAAIA4QAAAAAAAADlAAAAAAACAOUAAAAAAAAA6QAAAAAAAgDpAAAAAAAAAO0AAAAAAAIA7QAAAAAAAADxAAAAAAACAPEAAAAAAAAA9QAAAAAAAgD1A",
          "dtype": "f8"
         },
         "xaxis": "x",
         "y": {
          "bdata": "MzMzMzMz6z/Xo3A9CtfrP4GVQ4ts5+s/bef7qfHS5T/NzMzMzMzkP1TjpZvEIOA/bef7qfHS3T/jpZvEILDSP3sUrkfherQ/7nw/NV662T+6SQwCK4eWP+Olm8QgsMI/H4XrUbge1T9MN4lBYOXQPxfZzvdT49U/UrgehetR4D8zMzMzMzPjPx1aZDvfT+U/+n5qvHST6D+R7Xw/NV7qP5HtfD81Xuo/nMQgsHJo6T8lBoGVQ4vkPwrXo3A9Cuc/5dAi2/l+4j8AAAAAAADgP8dLN4lBYNU/ZmZmZmZm1j9aZDvfT43XPxsv3SQGgbU/WmQ730+Nxz9iEFg5tMjGP3E9CtejcM0/WmQ730+N1z9iEFg5tMjWP/7UeOkmMeA/7nw/NV664T9cj8L1KFznPwrXo3A9Cuc/K4cW2c736z/+1HjpJjHoP166SQwCK+8/7nw/NV666T9OYhBYObToP42XbhKDwOI/qvHSTWIQ4D8CK4cW2c7XP+Olm8QgsNI/N4lBYOXQ0j+BlUOLbOfLP+xRuB6F68E/WmQ730+Nxz+TGARWDi3CP9NNYhBYOdQ//tR46SYx2D9kO99PjZfeP99PjZduEuM/wcqhRbbz5T+yne+nxkvnP30/NV66Sew/",
          "dtype": "f8"
         },
         "yaxis": "y"
        },
        {
         "mode": "lines",
         "name": "Fit",
         "type": "scatter",
         "visible": "legendonly",
         "x": {
          "bdata": "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",
          "dtype": "f8"
         },
         "xaxis": "x",
         "y": {
          "bdata": "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",
          "dtype": "f8"
         },
         "yaxis": "y"
        }
       ],
       "layout": {
        "plot_bgcolor": "white",
        "template": {
         "data": {
          "bar": [
           {
            "error_x": {
             "color": "#2a3f5f"
            },
            "error_y": {
             "color": "#2a3f5f"
            },
            "marker": {
             "line": {
              "color": "#E5ECF6",
              "width": 0.5
             },
             "pattern": {
              "fillmode": "overlay",
              "size": 10,
              "solidity": 0.2
             }
            },
            "type": "bar"
           }
          ],
          "barpolar": [
           {
            "marker": {
             "line": {
              "color": "#E5ECF6",
              "width": 0.5
             },
             "pattern": {
              "fillmode": "overlay",
              "size": 10,
              "solidity": 0.2
             }
            },
            "type": "barpolar"
           }
          ],
          "carpet": [
           {
            "aaxis": {
             "endlinecolor": "#2a3f5f",
             "gridcolor": "white",
             "linecolor": "white",
             "minorgridcolor": "white",
             "startlinecolor": "#2a3f5f"
            },
            "baxis": {
             "endlinecolor": "#2a3f5f",
             "gridcolor": "white",
             "linecolor": "white",
             "minorgridcolor": "white",
             "startlinecolor": "#2a3f5f"
            },
            "type": "carpet"
           }
          ],
          "choropleth": [
           {
            "colorbar": {
             "outlinewidth": 0,
             "ticks": ""
            },
            "type": "choropleth"
           }
          ],
          "contour": [
           {
            "colorbar": {
             "outlinewidth": 0,
             "ticks": ""
            },
            "colorscale": [
             [
              0.0,
              "#0d0887"
             ],
             [
              0.1111111111111111,
              "#46039f"
             ],
             [
              0.2222222222222222,
              "#7201a8"
             ],
             [
              0.3333333333333333,
              "#9c179e"
             ],
             [
              0.4444444444444444,
              "#bd3786"
             ],
             [
              0.5555555555555556,
              "#d8576b"
             ],
             [
              0.6666666666666666,
              "#ed7953"
             ],
             [
              0.7777777777777778,
              "#fb9f3a"
             ],
             [
              0.8888888888888888,
              "#fdca26"
             ],
             [
              1.0,
              "#f0f921"
             ]
            ],
            "type": "contour"
           }
          ],
          "contourcarpet": [
           {
            "colorbar": {
             "outlinewidth": 0,
             "ticks": ""
            },
            "type": "contourcarpet"
           }
          ],
          "heatmap": [
           {
            "colorbar": {
             "outlinewidth": 0,
             "ticks": ""
            },
            "colorscale": [
             [
              0.0,
              "#0d0887"
             ],
             [
              0.1111111111111111,
              "#46039f"
             ],
             [
              0.2222222222222222,
              "#7201a8"
             ],
             [
              0.3333333333333333,
              "#9c179e"
             ],
             [
              0.4444444444444444,
              "#bd3786"
             ],
             [
              0.5555555555555556,
              "#d8576b"
             ],
             [
              0.6666666666666666,
              "#ed7953"
             ],
             [
              0.7777777777777778,
              "#fb9f3a"
             ],
             [
              0.8888888888888888,
              "#fdca26"
             ],
             [
              1.0,
              "#f0f921"
             ]
            ],
            "type": "heatmap"
           }
          ],
          "histogram": [
           {
            "marker": {
             "pattern": {
              "fillmode": "overlay",
              "size": 10,
              "solidity": 0.2
             }
            },
            "type": "histogram"
           }
          ],
          "histogram2d": [
           {
            "colorbar": {
             "outlinewidth": 0,
             "ticks": ""
            },
            "colorscale": [
             [
              0.0,
              "#0d0887"
             ],
             [
              0.1111111111111111,
              "#46039f"
             ],
             [
              0.2222222222222222,
              "#7201a8"
             ],
             [
              0.3333333333333333,
              "#9c179e"
             ],
             [
              0.4444444444444444,
              "#bd3786"
             ],
             [
              0.5555555555555556,
              "#d8576b"
             ],
             [
              0.6666666666666666,
              "#ed7953"
             ],
             [
              0.7777777777777778,
              "#fb9f3a"
             ],
             [
              0.8888888888888888,
              "#fdca26"
             ],
             [
              1.0,
              "#f0f921"
             ]
            ],
            "type": "histogram2d"
           }
          ],
          "histogram2dcontour": [
           {
            "colorbar": {
             "outlinewidth": 0,
             "ticks": ""
            },
            "colorscale": [
             [
              0.0,
              "#0d0887"
             ],
             [
              0.1111111111111111,
              "#46039f"
             ],
             [
              0.2222222222222222,
              "#7201a8"
             ],
             [
              0.3333333333333333,
              "#9c179e"
             ],
             [
              0.4444444444444444,
              "#bd3786"
             ],
             [
              0.5555555555555556,
              "#d8576b"
             ],
             [
              0.6666666666666666,
              "#ed7953"
             ],
             [
              0.7777777777777778,
              "#fb9f3a"
             ],
             [
              0.8888888888888888,
              "#fdca26"
             ],
             [
              1.0,
              "#f0f921"
             ]
            ],
            "type": "histogram2dcontour"
           }
          ],
          "mesh3d": [
           {
            "colorbar": {
             "outlinewidth": 0,
             "ticks": ""
            },
            "type": "mesh3d"
           }
          ],
          "parcoords": [
           {
            "line": {
             "colorbar": {
              "outlinewidth": 0,
              "ticks": ""
             }
            },
            "type": "parcoords"
           }
          ],
          "pie": [
           {
            "automargin": true,
            "type": "pie"
           }
          ],
          "scatter": [
           {
            "fillpattern": {
             "fillmode": "overlay",
             "size": 10,
             "solidity": 0.2
            },
            "type": "scatter"
           }
          ],
          "scatter3d": [
           {
            "line": {
             "colorbar": {
              "outlinewidth": 0,
              "ticks": ""
             }
            },
            "marker": {
             "colorbar": {
              "outlinewidth": 0,
              "ticks": ""
             }
            },
            "type": "scatter3d"
           }
          ],
          "scattercarpet": [
           {
            "marker": {
             "colorbar": {
              "outlinewidth": 0,
              "ticks": ""
             }
            },
            "type": "scattercarpet"
           }
          ],
          "scattergeo": [
           {
            "marker": {
             "colorbar": {
              "outlinewidth": 0,
              "ticks": ""
             }
            },
            "type": "scattergeo"
           }
          ],
          "scattergl": [
           {
            "marker": {
             "colorbar": {
              "outlinewidth": 0,
              "ticks": ""
             }
            },
            "type": "scattergl"
           }
          ],
          "scattermap": [
           {
            "marker": {
             "colorbar": {
              "outlinewidth": 0,
              "ticks": ""
             }
            },
            "type": "scattermap"
           }
          ],
          "scattermapbox": [
           {
            "marker": {
             "colorbar": {
              "outlinewidth": 0,
              "ticks": ""
             }
            },
            "type": "scattermapbox"
           }
          ],
          "scatterpolar": [
           {
            "marker": {
             "colorbar": {
              "outlinewidth": 0,
              "ticks": ""
             }
            },
            "type": "scatterpolar"
           }
          ],
          "scatterpolargl": [
           {
            "marker": {
             "colorbar": {
              "outlinewidth": 0,
              "ticks": ""
             }
            },
            "type": "scatterpolargl"
           }
          ],
          "scatterternary": [
           {
            "marker": {
             "colorbar": {
              "outlinewidth": 0,
              "ticks": ""
             }
            },
            "type": "scatterternary"
           }
          ],
          "surface": [
           {
            "colorbar": {
             "outlinewidth": 0,
             "ticks": ""
            },
            "colorscale": [
             [
              0.0,
              "#0d0887"
             ],
             [
              0.1111111111111111,
              "#46039f"
             ],
             [
              0.2222222222222222,
              "#7201a8"
             ],
             [
              0.3333333333333333,
              "#9c179e"
             ],
             [
              0.4444444444444444,
              "#bd3786"
             ],
             [
              0.5555555555555556,
              "#d8576b"
             ],
             [
              0.6666666666666666,
              "#ed7953"
             ],
             [
              0.7777777777777778,
              "#fb9f3a"
             ],
             [
              0.8888888888888888,
              "#fdca26"
             ],
             [
              1.0,
              "#f0f921"
             ]
            ],
            "type": "surface"
           }
          ],
          "table": [
           {
            "cells": {
             "fill": {
              "color": "#EBF0F8"
             },
             "line": {
              "color": "white"
             }
            },
            "header": {
             "fill": {
              "color": "#C8D4E3"
             },
             "line": {
              "color": "white"
             }
            },
            "type": "table"
           }
          ]
         },
         "layout": {
          "annotationdefaults": {
           "arrowcolor": "#2a3f5f",
           "arrowhead": 0,
           "arrowwidth": 1
          },
          "autotypenumbers": "strict",
          "coloraxis": {
           "colorbar": {
            "outlinewidth": 0,
            "ticks": ""
           }
          },
          "colorscale": {
           "diverging": [
            [
             0,
             "#8e0152"
            ],
            [
             0.1,
             "#c51b7d"
            ],
            [
             0.2,
             "#de77ae"
            ],
            [
             0.3,
             "#f1b6da"
            ],
            [
             0.4,
             "#fde0ef"
            ],
            [
             0.5,
             "#f7f7f7"
            ],
            [
             0.6,
             "#e6f5d0"
            ],
            [
             0.7,
             "#b8e186"
            ],
            [
             0.8,
             "#7fbc41"
            ],
            [
             0.9,
             "#4d9221"
            ],
            [
             1,
             "#276419"
            ]
           ],
           "sequential": [
            [
             0.0,
             "#0d0887"
            ],
            [
             0.1111111111111111,
             "#46039f"
            ],
            [
             0.2222222222222222,
             "#7201a8"
            ],
            [
             0.3333333333333333,
             "#9c179e"
            ],
            [
             0.4444444444444444,
             "#bd3786"
            ],
            [
             0.5555555555555556,
             "#d8576b"
            ],
            [
             0.6666666666666666,
             "#ed7953"
            ],
            [
             0.7777777777777778,
             "#fb9f3a"
            ],
            [
             0.8888888888888888,
             "#fdca26"
            ],
            [
             1.0,
             "#f0f921"
            ]
           ],
           "sequentialminus": [
            [
             0.0,
             "#0d0887"
            ],
            [
             0.1111111111111111,
             "#46039f"
            ],
            [
             0.2222222222222222,
             "#7201a8"
            ],
            [
             0.3333333333333333,
             "#9c179e"
            ],
            [
             0.4444444444444444,
             "#bd3786"
            ],
            [
             0.5555555555555556,
             "#d8576b"
            ],
            [
             0.6666666666666666,
             "#ed7953"
            ],
            [
             0.7777777777777778,
             "#fb9f3a"
            ],
            [
             0.8888888888888888,
             "#fdca26"
            ],
            [
             1.0,
             "#f0f921"
            ]
           ]
          },
          "colorway": [
           "#636efa",
           "#EF553B",
           "#00cc96",
           "#ab63fa",
           "#FFA15A",
           "#19d3f3",
           "#FF6692",
           "#B6E880",
           "#FF97FF",
           "#FECB52"
          ],
          "font": {
           "color": "#2a3f5f"
          },
          "geo": {
           "bgcolor": "white",
           "lakecolor": "white",
           "landcolor": "#E5ECF6",
           "showlakes": true,
           "showland": true,
           "subunitcolor": "white"
          },
          "hoverlabel": {
           "align": "left"
          },
          "hovermode": "closest",
          "mapbox": {
           "style": "light"
          },
          "paper_bgcolor": "white",
          "plot_bgcolor": "#E5ECF6",
          "polar": {
           "angularaxis": {
            "gridcolor": "white",
            "linecolor": "white",
            "ticks": ""
           },
           "bgcolor": "#E5ECF6",
           "radialaxis": {
            "gridcolor": "white",
            "linecolor": "white",
            "ticks": ""
           }
          },
          "scene": {
           "xaxis": {
            "backgroundcolor": "#E5ECF6",
            "gridcolor": "white",
            "gridwidth": 2,
            "linecolor": "white",
            "showbackground": true,
            "ticks": "",
            "zerolinecolor": "white"
           },
           "yaxis": {
            "backgroundcolor": "#E5ECF6",
            "gridcolor": "white",
            "gridwidth": 2,
            "linecolor": "white",
            "showbackground": true,
            "ticks": "",
            "zerolinecolor": "white"
           },
           "zaxis": {
            "backgroundcolor": "#E5ECF6",
            "gridcolor": "white",
            "gridwidth": 2,
            "linecolor": "white",
            "showbackground": true,
            "ticks": "",
            "zerolinecolor": "white"
           }
          },
          "shapedefaults": {
           "line": {
            "color": "#2a3f5f"
           }
          },
          "ternary": {
           "aaxis": {
            "gridcolor": "white",
            "linecolor": "white",
            "ticks": ""
           },
           "baxis": {
            "gridcolor": "white",
            "linecolor": "white",
            "ticks": ""
           },
           "bgcolor": "#E5ECF6",
           "caxis": {
            "gridcolor": "white",
            "linecolor": "white",
            "ticks": ""
           }
          },
          "title": {
           "x": 0.05
          },
          "xaxis": {
           "automargin": true,
           "gridcolor": "white",
           "linecolor": "white",
           "ticks": "",
           "title": {
            "standoff": 15
           },
           "zerolinecolor": "white",
           "zerolinewidth": 2
          },
          "yaxis": {
           "automargin": true,
           "gridcolor": "white",
           "linecolor": "white",
           "ticks": "",
           "title": {
            "standoff": 15
           },
           "zerolinecolor": "white",
           "zerolinewidth": 2
          }
         }
        },
        "title": {
         "text": "Ramsey decay Q1 transition f01: <br>(0.0+/-1.4)e+12 us"
        },
        "xaxis": {
         "anchor": "y",
         "domain": [
          0.0,
          1.0
         ],
         "title": {
          "text": "Time (us) <br> Frequency: 0.0999+/-0.0007 MHz"
         }
        },
        "yaxis": {
         "anchor": "x",
         "domain": [
          0.0,
          1.0
         ],
         "title": {
          "text": "<z>"
         }
        }
       }
      }
     },
     "metadata": {},
     "output_type": "display_data"
    },
    {
     "name": "stderr",
     "output_type": "stream",
     "text": [
      "[2025-08-21 11:09:56] [INFO] [leeq.utils.utils] JSON data: {'print_time': '2025-08-21 11:09:56',\n",
      " 'record_book_path': 'log/coxious/2025-08/2025-08-21/11.09.55',\n",
      " 'record_entry_path': '/root/6-SimpleRamseyMultilevel.run',\n",
      " 'record_id': 'c8f98650-8837-4134-97ae-b75460bd3fe0',\n",
      " 'record_time': 1755799796}\n"
     ]
    },
    {
     "name": "stderr",
     "output_type": "stream",
     "text": [
      "INFO\tleeq.utils.utils:utils.py:display_json_dict()- JSON data: {'print_time': '2025-08-21 11:09:56',\n",
      " 'record_book_path': 'log/coxious/2025-08/2025-08-21/11.09.55',\n",
      " 'record_entry_path': '/root/6-SimpleRamseyMultilevel.run',\n",
      " 'record_id': 'c8f98650-8837-4134-97ae-b75460bd3fe0',\n",
      " 'record_time': 1755799796}\n"
     ]
    },
    {
     "name": "stdout",
     "output_type": "stream",
     "text": [
      "\n",
      "2. Phase calibration (Pingpong)...\n"
     ]
    },
    {
     "data": {
      "image/png": "[encoded data removed]",
      "text/plain": [
       "<Figure size 400x250 with 1 Axes>"
      ]
     },
     "metadata": {},
     "output_type": "display_data"
    },
    {
     "name": "stderr",
     "output_type": "stream",
     "text": [
      "[2025-08-21 11:09:56] [INFO] [leeq.utils.utils] JSON data: {'print_time': '2025-08-21 11:09:56',\n",
      " 'record_book_path': 'log/coxious/2025-08/2025-08-21/11.09.55',\n",
      " 'record_entry_path': '/root/7-AmpPingpongCalibrationSingleQubitMultilevel.run/0-PingPongSingleQubitMultilevel.run',\n",
      " 'record_id': '6d690589-ce68-40af-a32a-a4a2e3088911',\n",
      " 'record_time': 1755799796}\n"
     ]
    },
    {
     "name": "stderr",
     "output_type": "stream",
     "text": [
      "INFO\tleeq.utils.utils:utils.py:display_json_dict()- JSON data: {'print_time': '2025-08-21 11:09:56',\n",
      " 'record_book_path': 'log/coxious/2025-08/2025-08-21/11.09.55',\n",
      " 'record_entry_path': '/root/7-AmpPingpongCalibrationSingleQubitMultilevel.run/0-PingPongSingleQubitMultilevel.run',\n",
      " 'record_id': '6d690589-ce68-40af-a32a-a4a2e3088911',\n",
      " 'record_time': 1755799796}\n"
     ]
    },
    {
     "data": {
      "image/png": "[encoded data removed]",
      "text/plain": [
       "<Figure size 400x250 with 1 Axes>"
      ]
     },
     "metadata": {},
     "output_type": "display_data"
    },
    {
     "name": "stderr",
     "output_type": "stream",
     "text": [
      "[2025-08-21 11:09:56] [INFO] [leeq.utils.utils] JSON data: {'print_time': '2025-08-21 11:09:56',\n",
      " 'record_book_path': 'log/coxious/2025-08/2025-08-21/11.09.55',\n",
      " 'record_entry_path': '/root/7-AmpPingpongCalibrationSingleQubitMultilevel.run/1-PingPongSingleQubitMultilevel.run',\n",
      " 'record_id': 'ad718052-f652-4427-b93c-4ca6e10f742c',\n",
      " 'record_time': 1755799796}\n"
     ]
    },
    {
     "name": "stderr",
     "output_type": "stream",
     "text": [
      "INFO\tleeq.utils.utils:utils.py:display_json_dict()- JSON data: {'print_time': '2025-08-21 11:09:56',\n",
      " 'record_book_path': 'log/coxious/2025-08/2025-08-21/11.09.55',\n",
      " 'record_entry_path': '/root/7-AmpPingpongCalibrationSingleQubitMultilevel.run/1-PingPongSingleQubitMultilevel.run',\n",
      " 'record_id': 'ad718052-f652-4427-b93c-4ca6e10f742c',\n",
      " 'record_time': 1755799796}\n"
     ]
    },
    {
     "data": {
      "image/png": "[encoded data removed]",
      "text/plain": [
       "<Figure size 400x250 with 1 Axes>"
      ]
     },
     "metadata": {},
     "output_type": "display_data"
    },
    {
     "name": "stderr",
     "output_type": "stream",
     "text": [
      "[2025-08-21 11:09:56] [INFO] [leeq.utils.utils] JSON data: {'print_time': '2025-08-21 11:09:56',\n",
      " 'record_book_path': 'log/coxious/2025-08/2025-08-21/11.09.55',\n",
      " 'record_entry_path': '/root/7-AmpPingpongCalibrationSingleQubitMultilevel.run/2-PingPongSingleQubitMultilevel.run',\n",
      " 'record_id': '9726f0b4-f218-4c71-ae43-58043fc23023',\n",
      " 'record_time': 1755799796}\n"
     ]
    },
    {
     "name": "stderr",
     "output_type": "stream",
     "text": [
      "INFO\tleeq.utils.utils:utils.py:display_json_dict()- JSON data: {'print_time': '2025-08-21 11:09:56',\n",
      " 'record_book_path': 'log/coxious/2025-08/2025-08-21/11.09.55',\n",
      " 'record_entry_path': '/root/7-AmpPingpongCalibrationSingleQubitMultilevel.run/2-PingPongSingleQubitMultilevel.run',\n",
      " 'record_id': '9726f0b4-f218-4c71-ae43-58043fc23023',\n",
      " 'record_time': 1755799796}\n"
     ]
    },
    {
     "data": {
      "image/png": "[encoded data removed]",
      "text/plain": [
       "<Figure size 400x250 with 1 Axes>"
      ]
     },
     "metadata": {},
     "output_type": "display_data"
    },
    {
     "name": "stderr",
     "output_type": "stream",
     "text": [
      "[2025-08-21 11:09:56] [INFO] [leeq.utils.utils] JSON data: {'print_time': '2025-08-21 11:09:56',\n",
      " 'record_book_path': 'log/coxious/2025-08/2025-08-21/11.09.55',\n",
      " 'record_entry_path': '/root/7-AmpPingpongCalibrationSingleQubitMultilevel.run/3-PingPongSingleQubitMultilevel.run',\n",
      " 'record_id': '74f339b3-2451-4a3b-b88f-ca44edc1e564',\n",
      " 'record_time': 1755799796}\n"
     ]
    },
    {
     "name": "stderr",
     "output_type": "stream",
     "text": [
      "INFO\tleeq.utils.utils:utils.py:display_json_dict()- JSON data: {'print_time': '2025-08-21 11:09:56',\n",
      " 'record_book_path': 'log/coxious/2025-08/2025-08-21/11.09.55',\n",
      " 'record_entry_path': '/root/7-AmpPingpongCalibrationSingleQubitMultilevel.run/3-PingPongSingleQubitMultilevel.run',\n",
      " 'record_id': '74f339b3-2451-4a3b-b88f-ca44edc1e564',\n",
      " 'record_time': 1755799796}\n"
     ]
    },
    {
     "data": {
      "image/png": "[encoded data removed]",
      "text/plain": [
       "<Figure size 400x250 with 1 Axes>"
      ]
     },
     "metadata": {},
     "output_type": "display_data"
    },
    {
     "name": "stderr",
     "output_type": "stream",
     "text": [
      "[2025-08-21 11:09:56] [INFO] [leeq.utils.utils] JSON data: {'print_time': '2025-08-21 11:09:56',\n",
      " 'record_book_path': 'log/coxious/2025-08/2025-08-21/11.09.55',\n",
      " 'record_entry_path': '/root/7-AmpPingpongCalibrationSingleQubitMultilevel.run/4-PingPongSingleQubitMultilevel.run',\n",
      " 'record_id': '6befce16-f028-4714-a718-45fce5b1b9e4',\n",
      " 'record_time': 1755799796}\n"
     ]
    },
    {
     "name": "stderr",
     "output_type": "stream",
     "text": [
      "INFO\tleeq.utils.utils:utils.py:display_json_dict()- JSON data: {'print_time': '2025-08-21 11:09:56',\n",
      " 'record_book_path': 'log/coxious/2025-08/2025-08-21/11.09.55',\n",
      " 'record_entry_path': '/root/7-AmpPingpongCalibrationSingleQubitMultilevel.run/4-PingPongSingleQubitMultilevel.run',\n",
      " 'record_id': '6befce16-f028-4714-a718-45fce5b1b9e4',\n",
      " 'record_time': 1755799796}\n"
     ]
    },
    {
     "data": {
      "image/png": "[encoded data removed]",
      "text/plain": [
       "<Figure size 400x250 with 1 Axes>"
      ]
     },
     "metadata": {},
     "output_type": "display_data"
    },
    {
     "name": "stderr",
     "output_type": "stream",
     "text": [
      "[2025-08-21 11:09:57] [INFO] [leeq.utils.utils] JSON data: {'print_time': '2025-08-21 11:09:57',\n",
      " 'record_book_path': 'log/coxious/2025-08/2025-08-21/11.09.55',\n",
      " 'record_entry_path': '/root/7-AmpPingpongCalibrationSingleQubitMultilevel.run/5-PingPongSingleQubitMultilevel.run',\n",
      " 'record_id': 'd462dbe9-169a-4c90-84b4-765c6cbc3379',\n",
      " 'record_time': 1755799796}\n"
     ]
    },
    {
     "name": "stderr",
     "output_type": "stream",
     "text": [
      "INFO\tleeq.utils.utils:utils.py:display_json_dict()- JSON data: {'print_time': '2025-08-21 11:09:57',\n",
      " 'record_book_path': 'log/coxious/2025-08/2025-08-21/11.09.55',\n",
      " 'record_entry_path': '/root/7-AmpPingpongCalibrationSingleQubitMultilevel.run/5-PingPongSingleQubitMultilevel.run',\n",
      " 'record_id': 'd462dbe9-169a-4c90-84b4-765c6cbc3379',\n",
      " 'record_time': 1755799796}\n"
     ]
    },
    {
     "data": {
      "image/png": "[encoded data removed]",
      "text/plain": [
       "<Figure size 400x250 with 1 Axes>"
      ]
     },
     "metadata": {},
     "output_type": "display_data"
    },
    {
     "name": "stderr",
     "output_type": "stream",
     "text": [
      "[2025-08-21 11:09:57] [INFO] [leeq.utils.utils] JSON data: {'print_time': '2025-08-21 11:09:57',\n",
      " 'record_book_path': 'log/coxious/2025-08/2025-08-21/11.09.55',\n",
      " 'record_entry_path': '/root/7-AmpPingpongCalibrationSingleQubitMultilevel.run/6-PingPongSingleQubitMultilevel.run',\n",
      " 'record_id': 'a6dd96ed-f424-47cc-8201-04c57ead291b',\n",
      " 'record_time': 1755799797}\n"
     ]
    },
    {
     "name": "stderr",
     "output_type": "stream",
     "text": [
      "INFO\tleeq.utils.utils:utils.py:display_json_dict()- JSON data: {'print_time': '2025-08-21 11:09:57',\n",
      " 'record_book_path': 'log/coxious/2025-08/2025-08-21/11.09.55',\n",
      " 'record_entry_path': '/root/7-AmpPingpongCalibrationSingleQubitMultilevel.run/6-PingPongSingleQubitMultilevel.run',\n",
      " 'record_id': 'a6dd96ed-f424-47cc-8201-04c57ead291b',\n",
      " 'record_time': 1755799797}\n"
     ]
    },
    {
     "data": {
      "image/png": "[encoded data removed]",
      "text/plain": [
       "<Figure size 400x250 with 1 Axes>"
      ]
     },
     "metadata": {},
     "output_type": "display_data"
    },
    {
     "name": "stderr",
     "output_type": "stream",
     "text": [
      "[2025-08-21 11:09:57] [INFO] [leeq.utils.utils] JSON data: {'print_time': '2025-08-21 11:09:57',\n",
      " 'record_book_path': 'log/coxious/2025-08/2025-08-21/11.09.55',\n",
      " 'record_entry_path': '/root/7-AmpPingpongCalibrationSingleQubitMultilevel.run/7-PingPongSingleQubitMultilevel.run',\n",
      " 'record_id': '45ed6ca9-928e-4a31-bf9a-dcfbe2141e9a',\n",
      " 'record_time': 1755799797}\n"
     ]
    },
    {
     "name": "stderr",
     "output_type": "stream",
     "text": [
      "INFO\tleeq.utils.utils:utils.py:display_json_dict()- JSON data: {'print_time': '2025-08-21 11:09:57',\n",
      " 'record_book_path': 'log/coxious/2025-08/2025-08-21/11.09.55',\n",
      " 'record_entry_path': '/root/7-AmpPingpongCalibrationSingleQubitMultilevel.run/7-PingPongSingleQubitMultilevel.run',\n",
      " 'record_id': '45ed6ca9-928e-4a31-bf9a-dcfbe2141e9a',\n",
      " 'record_time': 1755799797}\n"
     ]
    },
    {
     "data": {
      "image/png": "[encoded data removed]",
      "text/plain": [
       "<Figure size 400x250 with 1 Axes>"
      ]
     },
     "metadata": {},
     "output_type": "display_data"
    },
    {
     "name": "stderr",
     "output_type": "stream",
     "text": [
      "[2025-08-21 11:09:57] [INFO] [leeq.utils.utils] JSON data: {'print_time': '2025-08-21 11:09:57',\n",
      " 'record_book_path': 'log/coxious/2025-08/2025-08-21/11.09.55',\n",
      " 'record_entry_path': '/root/7-AmpPingpongCalibrationSingleQubitMultilevel.run/8-PingPongSingleQubitMultilevel.run',\n",
      " 'record_id': 'e9bf5195-adc6-48d3-a35c-5c711e8b6a45',\n",
      " 'record_time': 1755799797}\n"
     ]
    },
    {
     "name": "stderr",
     "output_type": "stream",
     "text": [
      "INFO\tleeq.utils.utils:utils.py:display_json_dict()- JSON data: {'print_time': '2025-08-21 11:09:57',\n",
      " 'record_book_path': 'log/coxious/2025-08/2025-08-21/11.09.55',\n",
      " 'record_entry_path': '/root/7-AmpPingpongCalibrationSingleQubitMultilevel.run/8-PingPongSingleQubitMultilevel.run',\n",
      " 'record_id': 'e9bf5195-adc6-48d3-a35c-5c711e8b6a45',\n",
      " 'record_time': 1755799797}\n"
     ]
    },
    {
     "data": {
      "image/png": "[encoded data removed]",
      "text/plain": [
       "<Figure size 400x250 with 1 Axes>"
      ]
     },
     "metadata": {},
     "output_type": "display_data"
    },
    {
     "name": "stderr",
     "output_type": "stream",
     "text": [
      "[2025-08-21 11:09:57] [INFO] [leeq.utils.utils] JSON data: {'print_time': '2025-08-21 11:09:57',\n",
      " 'record_book_path': 'log/coxious/2025-08/2025-08-21/11.09.55',\n",
      " 'record_entry_path': '/root/7-AmpPingpongCalibrationSingleQubitMultilevel.run',\n",
      " 'record_id': '2da3f159-c26a-4069-95ff-5a6ec24fba62',\n",
      " 'record_time': 1755799796}\n"
     ]
    },
    {
     "name": "stderr",
     "output_type": "stream",
     "text": [
      "INFO\tleeq.utils.utils:utils.py:display_json_dict()- JSON data: {'print_time': '2025-08-21 11:09:57',\n",
      " 'record_book_path': 'log/coxious/2025-08/2025-08-21/11.09.55',\n",
      " 'record_entry_path': '/root/7-AmpPingpongCalibrationSingleQubitMultilevel.run',\n",
      " 'record_id': '2da3f159-c26a-4069-95ff-5a6ec24fba62',\n",
      " 'record_time': 1755799796}\n"
     ]
    },
    {
     "name": "stdout",
     "output_type": "stream",
     "text": [
      "\n",
      "3. DRAG calibration...\n"
     ]
    },
    {
     "data": {
      "image/png": "[encoded data removed]",
      "text/plain": [
       "<Figure size 640x480 with 1 Axes>"
      ]
     },
     "metadata": {},
     "output_type": "display_data"
    },
    {
     "name": "stderr",
     "output_type": "stream",
     "text": [
      "[2025-08-21 11:09:57] [INFO] [leeq.utils.utils] JSON data: {'print_time': '2025-08-21 11:09:57',\n",
      " 'record_book_path': 'log/coxious/2025-08/2025-08-21/11.09.55',\n",
      " 'record_entry_path': '/root/8-CrossAllXYDragMultiRunSingleQubitMultilevel.run/0-DragCalibrationSingleQubitMultilevel.run',\n",
      " 'record_id': '23178ed1-dc90-4f36-8f6c-e23ac099e9c1',\n",
      " 'record_time': 1755799797}\n"
     ]
    },
    {
     "name": "stderr",
     "output_type": "stream",
     "text": [
      "INFO\tleeq.utils.utils:utils.py:display_json_dict()- JSON data: {'print_time': '2025-08-21 11:09:57',\n",
      " 'record_book_path': 'log/coxious/2025-08/2025-08-21/11.09.55',\n",
      " 'record_entry_path': '/root/8-CrossAllXYDragMultiRunSingleQubitMultilevel.run/0-DragCalibrationSingleQubitMultilevel.run',\n",
      " 'record_id': '23178ed1-dc90-4f36-8f6c-e23ac099e9c1',\n",
      " 'record_time': 1755799797}\n"
     ]
    },
    {
     "data": {
      "image/png": "[encoded data removed]",
      "text/plain": [
       "<Figure size 640x480 with 1 Axes>"
      ]
     },
     "metadata": {},
     "output_type": "display_data"
    },
    {
     "name": "stderr",
     "output_type": "stream",
     "text": [
      "[2025-08-21 11:09:57] [INFO] [leeq.utils.utils] JSON data: {'print_time': '2025-08-21 11:09:57',\n",
      " 'record_book_path': 'log/coxious/2025-08/2025-08-21/11.09.55',\n",
      " 'record_entry_path': '/root/8-CrossAllXYDragMultiRunSingleQubitMultilevel.run/1-DragCalibrationSingleQubitMultilevel.run',\n",
      " 'record_id': '4a0766a0-5874-47f2-a34e-829e934aed0d',\n",
      " 'record_time': 1755799797}\n"
     ]
    },
    {
     "name": "stderr",
     "output_type": "stream",
     "text": [
      "INFO\tleeq.utils.utils:utils.py:display_json_dict()- JSON data: {'print_time': '2025-08-21 11:09:57',\n",
      " 'record_book_path': 'log/coxious/2025-08/2025-08-21/11.09.55',\n",
      " 'record_entry_path': '/root/8-CrossAllXYDragMultiRunSingleQubitMultilevel.run/1-DragCalibrationSingleQubitMultilevel.run',\n",
      " 'record_id': '4a0766a0-5874-47f2-a34e-829e934aed0d',\n",
      " 'record_time': 1755799797}\n"
     ]
    },
    {
     "name": "stderr",
     "output_type": "stream",
     "text": [
      "[2025-08-21 11:09:57] [INFO] [leeq.utils.utils] JSON data: {'print_time': '2025-08-21 11:09:57',\n",
      " 'record_book_path': 'log/coxious/2025-08/2025-08-21/11.09.55',\n",
      " 'record_entry_path': '/root/8-CrossAllXYDragMultiRunSingleQubitMultilevel.run',\n",
      " 'record_id': '296aebea-57db-499d-8494-1bca1333a980',\n",
      " 'record_time': 1755799797}\n"
     ]
    },
    {
     "name": "stderr",
     "output_type": "stream",
     "text": [
      "INFO\tleeq.utils.utils:utils.py:display_json_dict()- JSON data: {'print_time': '2025-08-21 11:09:57',\n",
      " 'record_book_path': 'log/coxious/2025-08/2025-08-21/11.09.55',\n",
      " 'record_entry_path': '/root/8-CrossAllXYDragMultiRunSingleQubitMultilevel.run',\n",
      " 'record_id': '296aebea-57db-499d-8494-1bca1333a980',\n",
      " 'record_time': 1755799797}\n"
     ]
    },
    {
     "name": "stdout",
     "output_type": "stream",
     "text": [
      "\n",
      "✓ Single qubit calibration workflow completed!\n",
      "✓ All pulse parameters optimized for high-fidelity operations\n",
      "✓ Final pulse amplitude: 0.5476361098650135\n",
      "✓ Final pulse frequency: 5040.4 MHz\n"
     ]
    }
   ],
   "source": [
    "# Complete single qubit calibration workflow\n",
    "\n",
    "print(\"=== Single Qubit Calibration Workflow ===\")\n",
    "\n",
    "# Step 1: Ramsey frequency calibration  \n",
    "print(\"\\n1. Frequency calibration (Ramsey)...\")\n",
    "print(\"   Running coarse frequency sweep...\")\n",
    "\n",
    "# Coarse Ramsey scan (wide range, large steps)\n",
    "ramsey_coarse = SimpleRamseyMultilevel(\n",
    "    dut=qubit, \n",
    "    set_offset=10,   # 10 MHz offset for coarse scan\n",
    "    stop=0.3,        # 300 ns evolution time\n",
    "    step=0.005       # 5 ns time steps\n",
    ")\n",
    "\n",
    "print(\"   Running medium frequency sweep...\")\n",
    "# Medium Ramsey scan\n",
    "ramsey_medium = SimpleRamseyMultilevel(\n",
    "    dut=qubit,\n",
    "    set_offset=1,    # 1 MHz offset  \n",
    "    stop=3,          # 3 µs evolution time\n",
    "    step=0.05        # 50 ns time steps\n",
    ")\n",
    "\n",
    "print(\"   Running fine frequency sweep...\")\n",
    "# Fine Ramsey scan\n",
    "ramsey_fine = SimpleRamseyMultilevel(\n",
    "    dut=qubit,\n",
    "    set_offset=0.1,  # 100 kHz offset\n",
    "    stop=30,         # 30 µs evolution time  \n",
    "    step=0.5         # 500 ns time steps\n",
    ")\n",
    "\n",
    "# Step 2: Phase calibration (Pingpong)\n",
    "print(\"\\n2. Phase calibration (Pingpong)...\")\n",
    "pingpong = AmpPingpongCalibrationSingleQubitMultilevel(dut=qubit)\n",
    "\n",
    "# Step 3: DRAG calibration\n",
    "print(\"\\n3. DRAG calibration...\")\n",
    "drag = CrossAllXYDragMultiRunSingleQubitMultilevel(dut=qubit)\n",
    "\n",
    "print(\"\\n✓ Single qubit calibration workflow completed!\")\n",
    "print(\"✓ All pulse parameters optimized for high-fidelity operations\")\n",
    "print(f\"✓ Final pulse amplitude: {qubit.get_c1('f01').get_parameters()['amp']}\")\n",
    "print(f\"✓ Final pulse frequency: {qubit.get_c1('f01').get_parameters()['freq']} MHz\")"
   ]
  },
  {
   "cell_type": "markdown",
   "id": "coherence-section",
   "metadata": {},
   "source": [
    "## Coherence Time Measurements\n",
    "\n",
    "Coherence times characterize how long quantum information can be stored in a qubit:\n",
    "\n",
    "### T1 (Relaxation Time)\n",
    "T1 measures the energy relaxation time - how long the qubit stays in the excited state |1⟩ before decaying to the ground state |0⟩ due to energy loss to the environment.\n",
    "\n",
    "**Experiment**: Prepare |1⟩ state → Wait variable time → Measure population\n",
    "\n",
    "### T2* (Ramsey Dephasing Time) \n",
    "T2* measures free induction decay - how quickly the qubit loses phase coherence in a superposition state due to low-frequency noise.\n",
    "\n",
    "**Experiment**: π/2 pulse → Wait variable time → π/2 pulse → Measure\n",
    "\n",
    "### T2 (Spin Echo Time)\n",
    "T2 measures the pure dephasing time, removing effects of low-frequency noise using a refocusing pulse (spin echo sequence).\n",
    "\n",
    "**Experiment**: π/2 pulse → Wait τ/2 → π pulse → Wait τ/2 → π/2 pulse → Measure\n",
    "\n",
    "The relationship is: 1/T2* = 1/T2 + 1/(2×T1)"
   ]
  },
  {
   "cell_type": "code",
   "execution_count": 6,
   "id": "coherence-measurements",
   "metadata": {
    "execution": {
     "iopub.execute_input": "2025-08-21T18:09:57.563252Z",
     "iopub.status.busy": "2025-08-21T18:09:57.562678Z",
     "iopub.status.idle": "2025-08-21T18:09:57.660732Z",
     "shell.execute_reply": "2025-08-21T18:09:57.659943Z"
    }
   },
   "outputs": [
    {
     "name": "stdout",
     "output_type": "stream",
     "text": [
      "=== Coherence Time Measurements ===\n",
      "\n",
      "1. T1 (Relaxation Time) Measurement...\n",
      "   Measuring energy decay from |1⟩ to |0⟩...\n"
     ]
    },
    {
     "data": {
      "application/vnd.plotly.v1+json": {
       "config": {
        "plotlyServerURL": "https://plot.ly"
       },
       "data": [
        {
         "marker": {
          "size": 5
         },
         "mode": "markers",
         "name": "Experiment data",
         "type": "scatter",
         "x": {
          "bdata": "AAAFAAoADwAUABkAHgAjACgALQAyADcAPABBAEYASwBQAFUAWgBfAGQAaQBuAHMAeAB9AIIAhwCMAJEAlgCbAKAApQCqAK8AtAC5AL4AwwDIAM0A0gDXANwA4QDmAOsA8AD1APoA/wAEAQkBDgETARgBHQEiAScB",
          "dtype": "i2"
         },
         "y": {
          "bdata": "f8lfoaw05z9ZvQFI5mvqP6s/LW0kUu4/6Zkip1XV2T9GX5Ul9uLhP4H/Dv2ZnN0/0j6x4Bgh1j89kCRKVTDZP8qg4nm0z9w/LZXEF/o+2j81pMECl7zdPzELtEq9zNQ/DvuE4vmr1D8HktLoJNDUPyziacpTl9c/k+xTrTPQxD+lazA/zGrKP08Mao21Csk/k3m6Yn9m1j9I+mkvhPTIPyBsCwqQ7Ms/SDnicycfxz9vnXfkrHfMP0neLaUst8g/oFqtpOpjyD+5mfPg2+vDP5lu66w9hro/SS8D5WKOvz/3SyM4AFrBPylhUJstoMY/IoWpkLrAtT+qSPmmYna5P+kKH67jkrA/RspkJeEdrz/BjcT1LK64P1+WoZb5fLI/3585LZ7DrD9Z8H1nlmWsP1WP9T63g7A/w//fVgidpj8Ao3Kdm9etP4dh6YLuFq0/foSZknupoj8IKyV/cMigP0usrczkG6w/1OSh7tEWmT+/iLpKknihPwlvsmavYqI/83Gv2TsCmj8vh2e9qZWcP0diuAHV0JY/0EydQJuxfj8BWCY6sAqMP4hun2FjLoY/DKAxECaznD8TeelYQ66MP4qtClgKGIk/oJswm3BSgT/cC2ofBN6QPylQW3Bkz4k/",
          "dtype": "f8"
         }
        },
        {
         "line": {
          "color": "blue"
         },
         "mode": "lines",
         "name": "Decay fit",
         "type": "scatter",
         "visible": "legendonly",
         "x": {
          "bdata": "AAAFAAoADwAUABkAHgAjACgALQAyADcAPABBAEYASwBQAFUAWgBfAGQAaQBuAHMAeAB9AIIAhwCMAJEAlgCbAKAApQCqAK8AtAC5AL4AwwDIAM0A0gDXANwA4QDmAOsA8AD1APoA/wAEAQkBDgETARgBHQEiAScB",
          "dtype": "i2"
         },
         "y": {
          "bdata": "kYsTxhlo6D9FdB3o5sPmPxgqlswzPOU/9/zUoRHP4z+Emo4ls3riP1JEJF5qPeE/ahJ4e6YV4D+cLjC54wPePy6JgW/gAdw/dKHExLki2j8onvptEmTYPyG7oC22w9Y/Rd7nCpc/1T+k90O5ytXTP2XQCy2IhNI/f9kaWiVK0T9pnJsZFSXQP1TPpWjKJ84/EtzjHXkqzD93FkHssk/KP/PlMRAglcg/ntKmc5H4xj+i6cbr/XfFP6vgkKZ/EcQ/pEYjxVHDwj99eKQfzovBP+Wl9y9racA/BGs6QXS1vj9gE5X6yby8P1B83wVa5ro/l1YTGtIvuT/n/IY8CJe3Px9uGwX4GbY/eALhEcC2tD8vw/qmn2uzPzIwwHf0NrI/i1lRljgXsT/hwwGHAAuwP6GqV+ryIa4/DHhRDs9PrD/nLqCeSJ2qPy2yDrA6CKk/ogIWkqWOpz/DdXdIrC6mP0AYrjCS5qQ//gs+0Li0oz8xUhzJnZeiP42RmfHYjaE/I0VnjRqWoD+EI/FKU16fPz72TfnEr50/nhBPPmoenD8Kjv0VSKiaP25gg9+FS5k/CsAdCGsGmD8oBo7eXNeWPxzeSYzcvJU/kmfbMYW1lD+KWA4kCsCTP+CcsEc125I/",
          "dtype": "f8"
         }
        }
       ],
       "layout": {
        "plot_bgcolor": "white",
        "showlegend": true,
        "template": {
         "data": {
          "bar": [
           {
            "error_x": {
             "color": "#2a3f5f"
            },
            "error_y": {
             "color": "#2a3f5f"
            },
            "marker": {
             "line": {
              "color": "#E5ECF6",
              "width": 0.5
             },
             "pattern": {
              "fillmode": "overlay",
              "size": 10,
              "solidity": 0.2
             }
            },
            "type": "bar"
           }
          ],
          "barpolar": [
           {
            "marker": {
             "line": {
              "color": "#E5ECF6",
              "width": 0.5
             },
             "pattern": {
              "fillmode": "overlay",
              "size": 10,
              "solidity": 0.2
             }
            },
            "type": "barpolar"
           }
          ],
          "carpet": [
           {
            "aaxis": {
             "endlinecolor": "#2a3f5f",
             "gridcolor": "white",
             "linecolor": "white",
             "minorgridcolor": "white",
             "startlinecolor": "#2a3f5f"
            },
            "baxis": {
             "endlinecolor": "#2a3f5f",
             "gridcolor": "white",
             "linecolor": "white",
             "minorgridcolor": "white",
             "startlinecolor": "#2a3f5f"
            },
            "type": "carpet"
           }
          ],
          "choropleth": [
           {
            "colorbar": {
             "outlinewidth": 0,
             "ticks": ""
            },
            "type": "choropleth"
           }
          ],
          "contour": [
           {
            "colorbar": {
             "outlinewidth": 0,
             "ticks": ""
            },
            "colorscale": [
             [
              0.0,
              "#0d0887"
             ],
             [
              0.1111111111111111,
              "#46039f"
             ],
             [
              0.2222222222222222,
              "#7201a8"
             ],
             [
              0.3333333333333333,
              "#9c179e"
             ],
             [
              0.4444444444444444,
              "#bd3786"
             ],
             [
              0.5555555555555556,
              "#d8576b"
             ],
             [
              0.6666666666666666,
              "#ed7953"
             ],
             [
              0.7777777777777778,
              "#fb9f3a"
             ],
             [
              0.8888888888888888,
              "#fdca26"
             ],
             [
              1.0,
              "#f0f921"
             ]
            ],
            "type": "contour"
           }
          ],
          "contourcarpet": [
           {
            "colorbar": {
             "outlinewidth": 0,
             "ticks": ""
            },
            "type": "contourcarpet"
           }
          ],
          "heatmap": [
           {
            "colorbar": {
             "outlinewidth": 0,
             "ticks": ""
            },
            "colorscale": [
             [
              0.0,
              "#0d0887"
             ],
             [
              0.1111111111111111,
              "#46039f"
             ],
             [
              0.2222222222222222,
              "#7201a8"
             ],
             [
              0.3333333333333333,
              "#9c179e"
             ],
             [
              0.4444444444444444,
              "#bd3786"
             ],
             [
              0.5555555555555556,
              "#d8576b"
             ],
             [
              0.6666666666666666,
              "#ed7953"
             ],
             [
              0.7777777777777778,
              "#fb9f3a"
             ],
             [
              0.8888888888888888,
              "#fdca26"
             ],
             [
              1.0,
              "#f0f921"
             ]
            ],
            "type": "heatmap"
           }
          ],
          "histogram": [
           {
            "marker": {
             "pattern": {
              "fillmode": "overlay",
              "size": 10,
              "solidity": 0.2
             }
            },
            "type": "histogram"
           }
          ],
          "histogram2d": [
           {
            "colorbar": {
             "outlinewidth": 0,
             "ticks": ""
            },
            "colorscale": [
             [
              0.0,
              "#0d0887"
             ],
             [
              0.1111111111111111,
              "#46039f"
             ],
             [
              0.2222222222222222,
              "#7201a8"
             ],
             [
              0.3333333333333333,
              "#9c179e"
             ],
             [
              0.4444444444444444,
              "#bd3786"
             ],
             [
              0.5555555555555556,
              "#d8576b"
             ],
             [
              0.6666666666666666,
              "#ed7953"
             ],
             [
              0.7777777777777778,
              "#fb9f3a"
             ],
             [
              0.8888888888888888,
              "#fdca26"
             ],
             [
              1.0,
              "#f0f921"
             ]
            ],
            "type": "histogram2d"
           }
          ],
          "histogram2dcontour": [
           {
            "colorbar": {
             "outlinewidth": 0,
             "ticks": ""
            },
            "colorscale": [
             [
              0.0,
              "#0d0887"
             ],
             [
              0.1111111111111111,
              "#46039f"
             ],
             [
              0.2222222222222222,
              "#7201a8"
             ],
             [
              0.3333333333333333,
              "#9c179e"
             ],
             [
              0.4444444444444444,
              "#bd3786"
             ],
             [
              0.5555555555555556,
              "#d8576b"
             ],
             [
              0.6666666666666666,
              "#ed7953"
             ],
             [
              0.7777777777777778,
              "#fb9f3a"
             ],
             [
              0.8888888888888888,
              "#fdca26"
             ],
             [
              1.0,
              "#f0f921"
             ]
            ],
            "type": "histogram2dcontour"
           }
          ],
          "mesh3d": [
           {
            "colorbar": {
             "outlinewidth": 0,
             "ticks": ""
            },
            "type": "mesh3d"
           }
          ],
          "parcoords": [
           {
            "line": {
             "colorbar": {
              "outlinewidth": 0,
              "ticks": ""
             }
            },
            "type": "parcoords"
           }
          ],
          "pie": [
           {
            "automargin": true,
            "type": "pie"
           }
          ],
          "scatter": [
           {
            "fillpattern": {
             "fillmode": "overlay",
             "size": 10,
             "solidity": 0.2
            },
            "type": "scatter"
           }
          ],
          "scatter3d": [
           {
            "line": {
             "colorbar": {
              "outlinewidth": 0,
              "ticks": ""
             }
            },
            "marker": {
             "colorbar": {
              "outlinewidth": 0,
              "ticks": ""
             }
            },
            "type": "scatter3d"
           }
          ],
          "scattercarpet": [
           {
            "marker": {
             "colorbar": {
              "outlinewidth": 0,
              "ticks": ""
             }
            },
            "type": "scattercarpet"
           }
          ],
          "scattergeo": [
           {
            "marker": {
             "colorbar": {
              "outlinewidth": 0,
              "ticks": ""
             }
            },
            "type": "scattergeo"
           }
          ],
          "scattergl": [
           {
            "marker": {
             "colorbar": {
              "outlinewidth": 0,
              "ticks": ""
             }
            },
            "type": "scattergl"
           }
          ],
          "scattermap": [
           {
            "marker": {
             "colorbar": {
              "outlinewidth": 0,
              "ticks": ""
             }
            },
            "type": "scattermap"
           }
          ],
          "scattermapbox": [
           {
            "marker": {
             "colorbar": {
              "outlinewidth": 0,
              "ticks": ""
             }
            },
            "type": "scattermapbox"
           }
          ],
          "scatterpolar": [
           {
            "marker": {
             "colorbar": {
              "outlinewidth": 0,
              "ticks": ""
             }
            },
            "type": "scatterpolar"
           }
          ],
          "scatterpolargl": [
           {
            "marker": {
             "colorbar": {
              "outlinewidth": 0,
              "ticks": ""
             }
            },
            "type": "scatterpolargl"
           }
          ],
          "scatterternary": [
           {
            "marker": {
             "colorbar": {
              "outlinewidth": 0,
              "ticks": ""
             }
            },
            "type": "scatterternary"
           }
          ],
          "surface": [
           {
            "colorbar": {
             "outlinewidth": 0,
             "ticks": ""
            },
            "colorscale": [
             [
              0.0,
              "#0d0887"
             ],
             [
              0.1111111111111111,
              "#46039f"
             ],
             [
              0.2222222222222222,
              "#7201a8"
             ],
             [
              0.3333333333333333,
              "#9c179e"
             ],
             [
              0.4444444444444444,
              "#bd3786"
             ],
             [
              0.5555555555555556,
              "#d8576b"
             ],
             [
              0.6666666666666666,
              "#ed7953"
             ],
             [
              0.7777777777777778,
              "#fb9f3a"
             ],
             [
              0.8888888888888888,
              "#fdca26"
             ],
             [
              1.0,
              "#f0f921"
             ]
            ],
            "type": "surface"
           }
          ],
          "table": [
           {
            "cells": {
             "fill": {
              "color": "#EBF0F8"
             },
             "line": {
              "color": "white"
             }
            },
            "header": {
             "fill": {
              "color": "#C8D4E3"
             },
             "line": {
              "color": "white"
             }
            },
            "type": "table"
           }
          ]
         },
         "layout": {
          "annotationdefaults": {
           "arrowcolor": "#2a3f5f",
           "arrowhead": 0,
           "arrowwidth": 1
          },
          "autotypenumbers": "strict",
          "coloraxis": {
           "colorbar": {
            "outlinewidth": 0,
            "ticks": ""
           }
          },
          "colorscale": {
           "diverging": [
            [
             0,
             "#8e0152"
            ],
            [
             0.1,
             "#c51b7d"
            ],
            [
             0.2,
             "#de77ae"
            ],
            [
             0.3,
             "#f1b6da"
            ],
            [
             0.4,
             "#fde0ef"
            ],
            [
             0.5,
             "#f7f7f7"
            ],
            [
             0.6,
             "#e6f5d0"
            ],
            [
             0.7,
             "#b8e186"
            ],
            [
             0.8,
             "#7fbc41"
            ],
            [
             0.9,
             "#4d9221"
            ],
            [
             1,
             "#276419"
            ]
           ],
           "sequential": [
            [
             0.0,
             "#0d0887"
            ],
            [
             0.1111111111111111,
             "#46039f"
            ],
            [
             0.2222222222222222,
             "#7201a8"
            ],
            [
             0.3333333333333333,
             "#9c179e"
            ],
            [
             0.4444444444444444,
             "#bd3786"
            ],
            [
             0.5555555555555556,
             "#d8576b"
            ],
            [
             0.6666666666666666,
             "#ed7953"
            ],
            [
             0.7777777777777778,
             "#fb9f3a"
            ],
            [
             0.8888888888888888,
             "#fdca26"
            ],
            [
             1.0,
             "#f0f921"
            ]
           ],
           "sequentialminus": [
            [
             0.0,
             "#0d0887"
            ],
            [
             0.1111111111111111,
             "#46039f"
            ],
            [
             0.2222222222222222,
             "#7201a8"
            ],
            [
             0.3333333333333333,
             "#9c179e"
            ],
            [
             0.4444444444444444,
             "#bd3786"
            ],
            [
             0.5555555555555556,
             "#d8576b"
            ],
            [
             0.6666666666666666,
             "#ed7953"
            ],
            [
             0.7777777777777778,
             "#fb9f3a"
            ],
            [
             0.8888888888888888,
             "#fdca26"
            ],
            [
             1.0,
             "#f0f921"
            ]
           ]
          },
          "colorway": [
           "#636efa",
           "#EF553B",
           "#00cc96",
           "#ab63fa",
           "#FFA15A",
           "#19d3f3",
           "#FF6692",
           "#B6E880",
           "#FF97FF",
           "#FECB52"
          ],
          "font": {
           "color": "#2a3f5f"
          },
          "geo": {
           "bgcolor": "white",
           "lakecolor": "white",
           "landcolor": "#E5ECF6",
           "showlakes": true,
           "showland": true,
           "subunitcolor": "white"
          },
          "hoverlabel": {
           "align": "left"
          },
          "hovermode": "closest",
          "mapbox": {
           "style": "light"
          },
          "paper_bgcolor": "white",
          "plot_bgcolor": "#E5ECF6",
          "polar": {
           "angularaxis": {
            "gridcolor": "white",
            "linecolor": "white",
            "ticks": ""
           },
           "bgcolor": "#E5ECF6",
           "radialaxis": {
            "gridcolor": "white",
            "linecolor": "white",
            "ticks": ""
           }
          },
          "scene": {
           "xaxis": {
            "backgroundcolor": "#E5ECF6",
            "gridcolor": "white",
            "gridwidth": 2,
            "linecolor": "white",
            "showbackground": true,
            "ticks": "",
            "zerolinecolor": "white"
           },
           "yaxis": {
            "backgroundcolor": "#E5ECF6",
            "gridcolor": "white",
            "gridwidth": 2,
            "linecolor": "white",
            "showbackground": true,
            "ticks": "",
            "zerolinecolor": "white"
           },
           "zaxis": {
            "backgroundcolor": "#E5ECF6",
            "gridcolor": "white",
            "gridwidth": 2,
            "linecolor": "white",
            "showbackground": true,
            "ticks": "",
            "zerolinecolor": "white"
           }
          },
          "shapedefaults": {
           "line": {
            "color": "#2a3f5f"
           }
          },
          "ternary": {
           "aaxis": {
            "gridcolor": "white",
            "linecolor": "white",
            "ticks": ""
           },
           "baxis": {
            "gridcolor": "white",
            "linecolor": "white",
            "ticks": ""
           },
           "bgcolor": "#E5ECF6",
           "caxis": {
            "gridcolor": "white",
            "linecolor": "white",
            "ticks": ""
           }
          },
          "title": {
           "x": 0.05
          },
          "xaxis": {
           "automargin": true,
           "gridcolor": "white",
           "linecolor": "white",
           "ticks": "",
           "title": {
            "standoff": 15
           },
           "zerolinecolor": "white",
           "zerolinewidth": 2
          },
          "yaxis": {
           "automargin": true,
           "gridcolor": "white",
           "linecolor": "white",
           "ticks": "",
           "title": {
            "standoff": 15
           },
           "zerolinecolor": "white",
           "zerolinewidth": 2
          }
         }
        },
        "title": {
         "text": "T1 decay Q1 transition f01<br>T1=71+/-8 us"
        },
        "xaxis": {
         "title": {
          "text": "Time (us)"
         }
        },
        "yaxis": {
         "title": {
          "text": "P(1)"
         }
        }
       }
      }
     },
     "metadata": {},
     "output_type": "display_data"
    },
    {
     "name": "stderr",
     "output_type": "stream",
     "text": [
      "[2025-08-21 11:09:57] [INFO] [leeq.utils.utils] JSON data: {'print_time': '2025-08-21 11:09:57',\n",
      " 'record_book_path': 'log/coxious/2025-08/2025-08-21/11.09.55',\n",
      " 'record_entry_path': '/root/9-SimpleT1.run',\n",
      " 'record_id': '72fc3953-77fa-4d6c-9455-439998f97988',\n",
      " 'record_time': 1755799797}\n"
     ]
    },
    {
     "name": "stderr",
     "output_type": "stream",
     "text": [
      "INFO\tleeq.utils.utils:utils.py:display_json_dict()- JSON data: {'print_time': '2025-08-21 11:09:57',\n",
      " 'record_book_path': 'log/coxious/2025-08/2025-08-21/11.09.55',\n",
      " 'record_entry_path': '/root/9-SimpleT1.run',\n",
      " 'record_id': '72fc3953-77fa-4d6c-9455-439998f97988',\n",
      " 'record_time': 1755799797}\n"
     ]
    },
    {
     "name": "stdout",
     "output_type": "stream",
     "text": [
      "   ✓ T1 measurement completed\n",
      "   Expected T1 ≈ 70 µs (from virtual transmon parameters)\n",
      "\n",
      "2. T2 (Spin Echo) Measurement...\n",
      "   Measuring dephasing time with echo refocusing...\n"
     ]
    },
    {
     "data": {
      "application/vnd.plotly.v1+json": {
       "config": {
        "plotlyServerURL": "https://plot.ly"
       },
       "data": [
        {
         "marker": {
          "color": "blue",
          "size": 5
         },
         "mode": "markers",
         "name": "Experiment data",
         "type": "scatter",
         "x": {
          "bdata": "AAAFAAoADwAUABkAHgAjACgALQAyADcAPABBAEYASwBQAFUAWgBfAGQAaQBuAHMAeAB9AIIAhwCMAJEAlgCbAKAApQCqAK8AtAC5AL4AwwA=",
          "dtype": "i2"
         },
         "y": {
          "bdata": "ixD4ny606D+411OH6NPoP0kZFFVz1+U/vTjNhXw15T+30EWIOr/jPyMToQOmp+E/8moy9O5D4j9nxgj2PyDgP9yKrUOzCuI/AjOSiS+53j9GCrz8W6TfP+EIFmHJb+A/nc1WUFKD3j8UWVTfNArgP8aXjanCiN4/SqcWjexG2z/9g1WC+JzbPx/mQ9gCiN4/H28nBRxL2j9iSNGSXcPcP37Ztf9GdN0/AH8D6DMw2D8ijqOwrKLZPwFdbwZawtk/UYoStjR62j+CD3Dt1XnfP+/AkfhDQdw/w525IjMR2j9I7DcdYhHbPwfviy594Ng/P2Eo4tq22z+rMzpWFkvaP/HY/6IIPdo/ZgeuAkxQ2j/z6eQ9C6rbP6Swd5NP1Ng/AkVINeMY3D9VQ3Dp7ijbP8DW8lH5fdk/5lF+8F7o2T8=",
          "dtype": "f8"
         }
        },
        {
         "line": {
          "color": "blue"
         },
         "mode": "lines",
         "name": "Decay fit",
         "type": "scatter",
         "visible": "legendonly",
         "x": {
          "bdata": "AAAFAAoADwAUABkAHgAjACgALQAyADcAPABBAEYASwBQAFUAWgBfAGQAaQBuAHMAeAB9AIIAhwCMAJEAlgCbAKAApQCqAK8AtAC5AL4AwwA=",
          "dtype": "i2"
         },
         "y": {
          "bdata": "klp4ueNF6T/Ss0XlypPnPzoDV8zGHuY/mxKBNz/e5D+c4C+G0crjP2hloh4l3uI/hE5L/8US4j+UGIyUBGThP6EeERXazeA/5lLHwdBM4D9UqKn63rvfP/GFZ4VQ/d4/s7/9JpJZ3j9rABsK3szdP7BH/D/2U90/wF0coRHs3D8AzrJey5LcP9CPFuQURtw/4b+7tCkE3D9jyDv/hMvbP+oy6afYmts/2oEXlgVx2z/Q4a4WFU3bP7YhBy0zLts/GNmCsKkT2z+gWhsa3PzaPzDXG+lD6do/CdfFiW3Y2j/7dJer9cnaP/07fveGvdo/u1V3GNiy2j976QMLqqnaP6VSeqnGodo/9NSjbP+a2j+q70pZLJXaP4KEZxQrkNo/Os55GN6L2j+m3GgHLIjaPyt84RT/hNo/BvTChUSC2j8=",
          "dtype": "f8"
         }
        }
       ],
       "layout": {
        "plot_bgcolor": "white",
        "showlegend": true,
        "template": {
         "data": {
          "bar": [
           {
            "error_x": {
             "color": "#2a3f5f"
            },
            "error_y": {
             "color": "#2a3f5f"
            },
            "marker": {
             "line": {
              "color": "#E5ECF6",
              "width": 0.5
             },
             "pattern": {
              "fillmode": "overlay",
              "size": 10,
              "solidity": 0.2
             }
            },
            "type": "bar"
           }
          ],
          "barpolar": [
           {
            "marker": {
             "line": {
              "color": "#E5ECF6",
              "width": 0.5
             },
             "pattern": {
              "fillmode": "overlay",
              "size": 10,
              "solidity": 0.2
             }
            },
            "type": "barpolar"
           }
          ],
          "carpet": [
           {
            "aaxis": {
             "endlinecolor": "#2a3f5f",
             "gridcolor": "white",
             "linecolor": "white",
             "minorgridcolor": "white",
             "startlinecolor": "#2a3f5f"
            },
            "baxis": {
             "endlinecolor": "#2a3f5f",
             "gridcolor": "white",
             "linecolor": "white",
             "minorgridcolor": "white",
             "startlinecolor": "#2a3f5f"
            },
            "type": "carpet"
           }
          ],
          "choropleth": [
           {
            "colorbar": {
             "outlinewidth": 0,
             "ticks": ""
            },
            "type": "choropleth"
           }
          ],
          "contour": [
           {
            "colorbar": {
             "outlinewidth": 0,
             "ticks": ""
            },
            "colorscale": [
             [
              0.0,
              "#0d0887"
             ],
             [
              0.1111111111111111,
              "#46039f"
             ],
             [
              0.2222222222222222,
              "#7201a8"
             ],
             [
              0.3333333333333333,
              "#9c179e"
             ],
             [
              0.4444444444444444,
              "#bd3786"
             ],
             [
              0.5555555555555556,
              "#d8576b"
             ],
             [
              0.6666666666666666,
              "#ed7953"
             ],
             [
              0.7777777777777778,
              "#fb9f3a"
             ],
             [
              0.8888888888888888,
              "#fdca26"
             ],
             [
              1.0,
              "#f0f921"
             ]
            ],
            "type": "contour"
           }
          ],
          "contourcarpet": [
           {
            "colorbar": {
             "outlinewidth": 0,
             "ticks": ""
            },
            "type": "contourcarpet"
           }
          ],
          "heatmap": [
           {
            "colorbar": {
             "outlinewidth": 0,
             "ticks": ""
            },
            "colorscale": [
             [
              0.0,
              "#0d0887"
             ],
             [
              0.1111111111111111,
              "#46039f"
             ],
             [
              0.2222222222222222,
              "#7201a8"
             ],
             [
              0.3333333333333333,
              "#9c179e"
             ],
             [
              0.4444444444444444,
              "#bd3786"
             ],
             [
              0.5555555555555556,
              "#d8576b"
             ],
             [
              0.6666666666666666,
              "#ed7953"
             ],
             [
              0.7777777777777778,
              "#fb9f3a"
             ],
             [
              0.8888888888888888,
              "#fdca26"
             ],
             [
              1.0,
              "#f0f921"
             ]
            ],
            "type": "heatmap"
           }
          ],
          "histogram": [
           {
            "marker": {
             "pattern": {
              "fillmode": "overlay",
              "size": 10,
              "solidity": 0.2
             }
            },
            "type": "histogram"
           }
          ],
          "histogram2d": [
           {
            "colorbar": {
             "outlinewidth": 0,
             "ticks": ""
            },
            "colorscale": [
             [
              0.0,
              "#0d0887"
             ],
             [
              0.1111111111111111,
              "#46039f"
             ],
             [
              0.2222222222222222,
              "#7201a8"
             ],
             [
              0.3333333333333333,
              "#9c179e"
             ],
             [
              0.4444444444444444,
              "#bd3786"
             ],
             [
              0.5555555555555556,
              "#d8576b"
             ],
             [
              0.6666666666666666,
              "#ed7953"
             ],
             [
              0.7777777777777778,
              "#fb9f3a"
             ],
             [
              0.8888888888888888,
              "#fdca26"
             ],
             [
              1.0,
              "#f0f921"
             ]
            ],
            "type": "histogram2d"
           }
          ],
          "histogram2dcontour": [
           {
            "colorbar": {
             "outlinewidth": 0,
             "ticks": ""
            },
            "colorscale": [
             [
              0.0,
              "#0d0887"
             ],
             [
              0.1111111111111111,
              "#46039f"
             ],
             [
              0.2222222222222222,
              "#7201a8"
             ],
             [
              0.3333333333333333,
              "#9c179e"
             ],
             [
              0.4444444444444444,
              "#bd3786"
             ],
             [
              0.5555555555555556,
              "#d8576b"
             ],
             [
              0.6666666666666666,
              "#ed7953"
             ],
             [
              0.7777777777777778,
              "#fb9f3a"
             ],
             [
              0.8888888888888888,
              "#fdca26"
             ],
             [
              1.0,
              "#f0f921"
             ]
            ],
            "type": "histogram2dcontour"
           }
          ],
          "mesh3d": [
           {
            "colorbar": {
             "outlinewidth": 0,
             "ticks": ""
            },
            "type": "mesh3d"
           }
          ],
          "parcoords": [
           {
            "line": {
             "colorbar": {
              "outlinewidth": 0,
              "ticks": ""
             }
            },
            "type": "parcoords"
           }
          ],
          "pie": [
           {
            "automargin": true,
            "type": "pie"
           }
          ],
          "scatter": [
           {
            "fillpattern": {
             "fillmode": "overlay",
             "size": 10,
             "solidity": 0.2
            },
            "type": "scatter"
           }
          ],
          "scatter3d": [
           {
            "line": {
             "colorbar": {
              "outlinewidth": 0,
              "ticks": ""
             }
            },
            "marker": {
             "colorbar": {
              "outlinewidth": 0,
              "ticks": ""
             }
            },
            "type": "scatter3d"
           }
          ],
          "scattercarpet": [
           {
            "marker": {
             "colorbar": {
              "outlinewidth": 0,
              "ticks": ""
             }
            },
            "type": "scattercarpet"
           }
          ],
          "scattergeo": [
           {
            "marker": {
             "colorbar": {
              "outlinewidth": 0,
              "ticks": ""
             }
            },
            "type": "scattergeo"
           }
          ],
          "scattergl": [
           {
            "marker": {
             "colorbar": {
              "outlinewidth": 0,
              "ticks": ""
             }
            },
            "type": "scattergl"
           }
          ],
          "scattermap": [
           {
            "marker": {
             "colorbar": {
              "outlinewidth": 0,
              "ticks": ""
             }
            },
            "type": "scattermap"
           }
          ],
          "scattermapbox": [
           {
            "marker": {
             "colorbar": {
              "outlinewidth": 0,
              "ticks": ""
             }
            },
            "type": "scattermapbox"
           }
          ],
          "scatterpolar": [
           {
            "marker": {
             "colorbar": {
              "outlinewidth": 0,
              "ticks": ""
             }
            },
            "type": "scatterpolar"
           }
          ],
          "scatterpolargl": [
           {
            "marker": {
             "colorbar": {
              "outlinewidth": 0,
              "ticks": ""
             }
            },
            "type": "scatterpolargl"
           }
          ],
          "scatterternary": [
           {
            "marker": {
             "colorbar": {
              "outlinewidth": 0,
              "ticks": ""
             }
            },
            "type": "scatterternary"
           }
          ],
          "surface": [
           {
            "colorbar": {
             "outlinewidth": 0,
             "ticks": ""
            },
            "colorscale": [
             [
              0.0,
              "#0d0887"
             ],
             [
              0.1111111111111111,
              "#46039f"
             ],
             [
              0.2222222222222222,
              "#7201a8"
             ],
             [
              0.3333333333333333,
              "#9c179e"
             ],
             [
              0.4444444444444444,
              "#bd3786"
             ],
             [
              0.5555555555555556,
              "#d8576b"
             ],
             [
              0.6666666666666666,
              "#ed7953"
             ],
             [
              0.7777777777777778,
              "#fb9f3a"
             ],
             [
              0.8888888888888888,
              "#fdca26"
             ],
             [
              1.0,
              "#f0f921"
             ]
            ],
            "type": "surface"
           }
          ],
          "table": [
           {
            "cells": {
             "fill": {
              "color": "#EBF0F8"
             },
             "line": {
              "color": "white"
             }
            },
            "header": {
             "fill": {
              "color": "#C8D4E3"
             },
             "line": {
              "color": "white"
             }
            },
            "type": "table"
           }
          ]
         },
         "layout": {
          "annotationdefaults": {
           "arrowcolor": "#2a3f5f",
           "arrowhead": 0,
           "arrowwidth": 1
          },
          "autotypenumbers": "strict",
          "coloraxis": {
           "colorbar": {
            "outlinewidth": 0,
            "ticks": ""
           }
          },
          "colorscale": {
           "diverging": [
            [
             0,
             "#8e0152"
            ],
            [
             0.1,
             "#c51b7d"
            ],
            [
             0.2,
             "#de77ae"
            ],
            [
             0.3,
             "#f1b6da"
            ],
            [
             0.4,
             "#fde0ef"
            ],
            [
             0.5,
             "#f7f7f7"
            ],
            [
             0.6,
             "#e6f5d0"
            ],
            [
             0.7,
             "#b8e186"
            ],
            [
             0.8,
             "#7fbc41"
            ],
            [
             0.9,
             "#4d9221"
            ],
            [
             1,
             "#276419"
            ]
           ],
           "sequential": [
            [
             0.0,
             "#0d0887"
            ],
            [
             0.1111111111111111,
             "#46039f"
            ],
            [
             0.2222222222222222,
             "#7201a8"
            ],
            [
             0.3333333333333333,
             "#9c179e"
            ],
            [
             0.4444444444444444,
             "#bd3786"
            ],
            [
             0.5555555555555556,
             "#d8576b"
            ],
            [
             0.6666666666666666,
             "#ed7953"
            ],
            [
             0.7777777777777778,
             "#fb9f3a"
            ],
            [
             0.8888888888888888,
             "#fdca26"
            ],
            [
             1.0,
             "#f0f921"
            ]
           ],
           "sequentialminus": [
            [
             0.0,
             "#0d0887"
            ],
            [
             0.1111111111111111,
             "#46039f"
            ],
            [
             0.2222222222222222,
             "#7201a8"
            ],
            [
             0.3333333333333333,
             "#9c179e"
            ],
            [
             0.4444444444444444,
             "#bd3786"
            ],
            [
             0.5555555555555556,
             "#d8576b"
            ],
            [
             0.6666666666666666,
             "#ed7953"
            ],
            [
             0.7777777777777778,
             "#fb9f3a"
            ],
            [
             0.8888888888888888,
             "#fdca26"
            ],
            [
             1.0,
             "#f0f921"
            ]
           ]
          },
          "colorway": [
           "#636efa",
           "#EF553B",
           "#00cc96",
           "#ab63fa",
           "#FFA15A",
           "#19d3f3",
           "#FF6692",
           "#B6E880",
           "#FF97FF",
           "#FECB52"
          ],
          "font": {
           "color": "#2a3f5f"
          },
          "geo": {
           "bgcolor": "white",
           "lakecolor": "white",
           "landcolor": "#E5ECF6",
           "showlakes": true,
           "showland": true,
           "subunitcolor": "white"
          },
          "hoverlabel": {
           "align": "left"
          },
          "hovermode": "closest",
          "mapbox": {
           "style": "light"
          },
          "paper_bgcolor": "white",
          "plot_bgcolor": "#E5ECF6",
          "polar": {
           "angularaxis": {
            "gridcolor": "white",
            "linecolor": "white",
            "ticks": ""
           },
           "bgcolor": "#E5ECF6",
           "radialaxis": {
            "gridcolor": "white",
            "linecolor": "white",
            "ticks": ""
           }
          },
          "scene": {
           "xaxis": {
            "backgroundcolor": "#E5ECF6",
            "gridcolor": "white",
            "gridwidth": 2,
            "linecolor": "white",
            "showbackground": true,
            "ticks": "",
            "zerolinecolor": "white"
           },
           "yaxis": {
            "backgroundcolor": "#E5ECF6",
            "gridcolor": "white",
            "gridwidth": 2,
            "linecolor": "white",
            "showbackground": true,
            "ticks": "",
            "zerolinecolor": "white"
           },
           "zaxis": {
            "backgroundcolor": "#E5ECF6",
            "gridcolor": "white",
            "gridwidth": 2,
            "linecolor": "white",
            "showbackground": true,
            "ticks": "",
            "zerolinecolor": "white"
           }
          },
          "shapedefaults": {
           "line": {
            "color": "#2a3f5f"
           }
          },
          "ternary": {
           "aaxis": {
            "gridcolor": "white",
            "linecolor": "white",
            "ticks": ""
           },
           "baxis": {
            "gridcolor": "white",
            "linecolor": "white",
            "ticks": ""
           },
           "bgcolor": "#E5ECF6",
           "caxis": {
            "gridcolor": "white",
            "linecolor": "white",
            "ticks": ""
           }
          },
          "title": {
           "x": 0.05
          },
          "xaxis": {
           "automargin": true,
           "gridcolor": "white",
           "linecolor": "white",
           "ticks": "",
           "title": {
            "standoff": 15
           },
           "zerolinecolor": "white",
           "zerolinewidth": 2
          },
          "yaxis": {
           "automargin": true,
           "gridcolor": "white",
           "linecolor": "white",
           "ticks": "",
           "title": {
            "standoff": 15
           },
           "zerolinecolor": "white",
           "zerolinewidth": 2
          }
         }
        },
        "title": {
         "text": "T2 echo Q1 transition f01<br>T2=33.0+/-3.3 us"
        },
        "xaxis": {
         "title": {
          "text": "Time (us)"
         }
        },
        "yaxis": {
         "title": {
          "text": "P(0)"
         }
        }
       }
      }
     },
     "metadata": {},
     "output_type": "display_data"
    },
    {
     "name": "stderr",
     "output_type": "stream",
     "text": [
      "[2025-08-21 11:09:57] [INFO] [leeq.utils.utils] JSON data: {'print_time': '2025-08-21 11:09:57',\n",
      " 'record_book_path': 'log/coxious/2025-08/2025-08-21/11.09.55',\n",
      " 'record_entry_path': '/root/10-SpinEchoMultiLevel.run',\n",
      " 'record_id': '15acaf3f-b14a-4d9d-a680-1ce1b7c378cc',\n",
      " 'record_time': 1755799797}\n"
     ]
    },
    {
     "name": "stderr",
     "output_type": "stream",
     "text": [
      "INFO\tleeq.utils.utils:utils.py:display_json_dict()- JSON data: {'print_time': '2025-08-21 11:09:57',\n",
      " 'record_book_path': 'log/coxious/2025-08/2025-08-21/11.09.55',\n",
      " 'record_entry_path': '/root/10-SpinEchoMultiLevel.run',\n",
      " 'record_id': '15acaf3f-b14a-4d9d-a680-1ce1b7c378cc',\n",
      " 'record_time': 1755799797}\n"
     ]
    },
    {
     "name": "stdout",
     "output_type": "stream",
     "text": [
      "   Plotting T2 echo decay curve...\n",
      "   ✓ T2 echo measurement completed\n",
      "   Expected T2 ≈ 35 µs (from virtual transmon parameters)\n",
      "\n",
      "3. T2* (Ramsey) Measurement...\n",
      "   Measuring free induction decay...\n"
     ]
    },
    {
     "data": {
      "application/vnd.plotly.v1+json": {
       "config": {
        "plotlyServerURL": "https://plot.ly"
       },
       "data": [
        {
         "mode": "markers",
         "name": "Data",
         "type": "scatter",
         "x": {
          "bdata": "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",
          "dtype": "f8"
         },
         "xaxis": "x",
         "y": {
          "bdata": "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",
          "dtype": "f8"
         },
         "yaxis": "y"
        },
        {
         "mode": "lines",
         "name": "Fit",
         "type": "scatter",
         "visible": "legendonly",
         "x": {
          "bdata": "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",
          "dtype": "f8"
         },
         "xaxis": "x",
         "y": {
          "bdata": "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",
          "dtype": "f8"
         },
         "yaxis": "y"
        }
       ],
       "layout": {
        "plot_bgcolor": "white",
        "template": {
         "data": {
          "bar": [
           {
            "error_x": {
             "color": "#2a3f5f"
            },
            "error_y": {
             "color": "#2a3f5f"
            },
            "marker": {
             "line": {
              "color": "#E5ECF6",
              "width": 0.5
             },
             "pattern": {
              "fillmode": "overlay",
              "size": 10,
              "solidity": 0.2
             }
            },
            "type": "bar"
           }
          ],
          "barpolar": [
           {
            "marker": {
             "line": {
              "color": "#E5ECF6",
              "width": 0.5
             },
             "pattern": {
              "fillmode": "overlay",
              "size": 10,
              "solidity": 0.2
             }
            },
            "type": "barpolar"
           }
          ],
          "carpet": [
           {
            "aaxis": {
             "endlinecolor": "#2a3f5f",
             "gridcolor": "white",
             "linecolor": "white",
             "minorgridcolor": "white",
             "startlinecolor": "#2a3f5f"
            },
            "baxis": {
             "endlinecolor": "#2a3f5f",
             "gridcolor": "white",
             "linecolor": "white",
             "minorgridcolor": "white",
             "startlinecolor": "#2a3f5f"
            },
            "type": "carpet"
           }
          ],
          "choropleth": [
           {
            "colorbar": {
             "outlinewidth": 0,
             "ticks": ""
            },
            "type": "choropleth"
           }
          ],
          "contour": [
           {
            "colorbar": {
             "outlinewidth": 0,
             "ticks": ""
            },
            "colorscale": [
             [
              0.0,
              "#0d0887"
             ],
             [
              0.1111111111111111,
              "#46039f"
             ],
             [
              0.2222222222222222,
              "#7201a8"
             ],
             [
              0.3333333333333333,
              "#9c179e"
             ],
             [
              0.4444444444444444,
              "#bd3786"
             ],
             [
              0.5555555555555556,
              "#d8576b"
             ],
             [
              0.6666666666666666,
              "#ed7953"
             ],
             [
              0.7777777777777778,
              "#fb9f3a"
             ],
             [
              0.8888888888888888,
              "#fdca26"
             ],
             [
              1.0,
              "#f0f921"
             ]
            ],
            "type": "contour"
           }
          ],
          "contourcarpet": [
           {
            "colorbar": {
             "outlinewidth": 0,
             "ticks": ""
            },
            "type": "contourcarpet"
           }
          ],
          "heatmap": [
           {
            "colorbar": {
             "outlinewidth": 0,
             "ticks": ""
            },
            "colorscale": [
             [
              0.0,
              "#0d0887"
             ],
             [
              0.1111111111111111,
              "#46039f"
             ],
             [
              0.2222222222222222,
              "#7201a8"
             ],
             [
              0.3333333333333333,
              "#9c179e"
             ],
             [
              0.4444444444444444,
              "#bd3786"
             ],
             [
              0.5555555555555556,
              "#d8576b"
             ],
             [
              0.6666666666666666,
              "#ed7953"
             ],
             [
              0.7777777777777778,
              "#fb9f3a"
             ],
             [
              0.8888888888888888,
              "#fdca26"
             ],
             [
              1.0,
              "#f0f921"
             ]
            ],
            "type": "heatmap"
           }
          ],
          "histogram": [
           {
            "marker": {
             "pattern": {
              "fillmode": "overlay",
              "size": 10,
              "solidity": 0.2
             }
            },
            "type": "histogram"
           }
          ],
          "histogram2d": [
           {
            "colorbar": {
             "outlinewidth": 0,
             "ticks": ""
            },
            "colorscale": [
             [
              0.0,
              "#0d0887"
             ],
             [
              0.1111111111111111,
              "#46039f"
             ],
             [
              0.2222222222222222,
              "#7201a8"
             ],
             [
              0.3333333333333333,
              "#9c179e"
             ],
             [
              0.4444444444444444,
              "#bd3786"
             ],
             [
              0.5555555555555556,
              "#d8576b"
             ],
             [
              0.6666666666666666,
              "#ed7953"
             ],
             [
              0.7777777777777778,
              "#fb9f3a"
             ],
             [
              0.8888888888888888,
              "#fdca26"
             ],
             [
              1.0,
              "#f0f921"
             ]
            ],
            "type": "histogram2d"
           }
          ],
          "histogram2dcontour": [
           {
            "colorbar": {
             "outlinewidth": 0,
             "ticks": ""
            },
            "colorscale": [
             [
              0.0,
              "#0d0887"
             ],
             [
              0.1111111111111111,
              "#46039f"
             ],
             [
              0.2222222222222222,
              "#7201a8"
             ],
             [
              0.3333333333333333,
              "#9c179e"
             ],
             [
              0.4444444444444444,
              "#bd3786"
             ],
             [
              0.5555555555555556,
              "#d8576b"
             ],
             [
              0.6666666666666666,
              "#ed7953"
             ],
             [
              0.7777777777777778,
              "#fb9f3a"
             ],
             [
              0.8888888888888888,
              "#fdca26"
             ],
             [
              1.0,
              "#f0f921"
             ]
            ],
            "type": "histogram2dcontour"
           }
          ],
          "mesh3d": [
           {
            "colorbar": {
             "outlinewidth": 0,
             "ticks": ""
            },
            "type": "mesh3d"
           }
          ],
          "parcoords": [
           {
            "line": {
             "colorbar": {
              "outlinewidth": 0,
              "ticks": ""
             }
            },
            "type": "parcoords"
           }
          ],
          "pie": [
           {
            "automargin": true,
            "type": "pie"
           }
          ],
          "scatter": [
           {
            "fillpattern": {
             "fillmode": "overlay",
             "size": 10,
             "solidity": 0.2
            },
            "type": "scatter"
           }
          ],
          "scatter3d": [
           {
            "line": {
             "colorbar": {
              "outlinewidth": 0,
              "ticks": ""
             }
            },
            "marker": {
             "colorbar": {
              "outlinewidth": 0,
              "ticks": ""
             }
            },
            "type": "scatter3d"
           }
          ],
          "scattercarpet": [
           {
            "marker": {
             "colorbar": {
              "outlinewidth": 0,
              "ticks": ""
             }
            },
            "type": "scattercarpet"
           }
          ],
          "scattergeo": [
           {
            "marker": {
             "colorbar": {
              "outlinewidth": 0,
              "ticks": ""
             }
            },
            "type": "scattergeo"
           }
          ],
          "scattergl": [
           {
            "marker": {
             "colorbar": {
              "outlinewidth": 0,
              "ticks": ""
             }
            },
            "type": "scattergl"
           }
          ],
          "scattermap": [
           {
            "marker": {
             "colorbar": {
              "outlinewidth": 0,
              "ticks": ""
             }
            },
            "type": "scattermap"
           }
          ],
          "scattermapbox": [
           {
            "marker": {
             "colorbar": {
              "outlinewidth": 0,
              "ticks": ""
             }
            },
            "type": "scattermapbox"
           }
          ],
          "scatterpolar": [
           {
            "marker": {
             "colorbar": {
              "outlinewidth": 0,
              "ticks": ""
             }
            },
            "type": "scatterpolar"
           }
          ],
          "scatterpolargl": [
           {
            "marker": {
             "colorbar": {
              "outlinewidth": 0,
              "ticks": ""
             }
            },
            "type": "scatterpolargl"
           }
          ],
          "scatterternary": [
           {
            "marker": {
             "colorbar": {
              "outlinewidth": 0,
              "ticks": ""
             }
            },
            "type": "scatterternary"
           }
          ],
          "surface": [
           {
            "colorbar": {
             "outlinewidth": 0,
             "ticks": ""
            },
            "colorscale": [
             [
              0.0,
              "#0d0887"
             ],
             [
              0.1111111111111111,
              "#46039f"
             ],
             [
              0.2222222222222222,
              "#7201a8"
             ],
             [
              0.3333333333333333,
              "#9c179e"
             ],
             [
              0.4444444444444444,
              "#bd3786"
             ],
             [
              0.5555555555555556,
              "#d8576b"
             ],
             [
              0.6666666666666666,
              "#ed7953"
             ],
             [
              0.7777777777777778,
              "#fb9f3a"
             ],
             [
              0.8888888888888888,
              "#fdca26"
             ],
             [
              1.0,
              "#f0f921"
             ]
            ],
            "type": "surface"
           }
          ],
          "table": [
           {
            "cells": {
             "fill": {
              "color": "#EBF0F8"
             },
             "line": {
              "color": "white"
             }
            },
            "header": {
             "fill": {
              "color": "#C8D4E3"
             },
             "line": {
              "color": "white"
             }
            },
            "type": "table"
           }
          ]
         },
         "layout": {
          "annotationdefaults": {
           "arrowcolor": "#2a3f5f",
           "arrowhead": 0,
           "arrowwidth": 1
          },
          "autotypenumbers": "strict",
          "coloraxis": {
           "colorbar": {
            "outlinewidth": 0,
            "ticks": ""
           }
          },
          "colorscale": {
           "diverging": [
            [
             0,
             "#8e0152"
            ],
            [
             0.1,
             "#c51b7d"
            ],
            [
             0.2,
             "#de77ae"
            ],
            [
             0.3,
             "#f1b6da"
            ],
            [
             0.4,
             "#fde0ef"
            ],
            [
             0.5,
             "#f7f7f7"
            ],
            [
             0.6,
             "#e6f5d0"
            ],
            [
             0.7,
             "#b8e186"
            ],
            [
             0.8,
             "#7fbc41"
            ],
            [
             0.9,
             "#4d9221"
            ],
            [
             1,
             "#276419"
            ]
           ],
           "sequential": [
            [
             0.0,
             "#0d0887"
            ],
            [
             0.1111111111111111,
             "#46039f"
            ],
            [
             0.2222222222222222,
             "#7201a8"
            ],
            [
             0.3333333333333333,
             "#9c179e"
            ],
            [
             0.4444444444444444,
             "#bd3786"
            ],
            [
             0.5555555555555556,
             "#d8576b"
            ],
            [
             0.6666666666666666,
             "#ed7953"
            ],
            [
             0.7777777777777778,
             "#fb9f3a"
            ],
            [
             0.8888888888888888,
             "#fdca26"
            ],
            [
             1.0,
             "#f0f921"
            ]
           ],
           "sequentialminus": [
            [
             0.0,
             "#0d0887"
            ],
            [
             0.1111111111111111,
             "#46039f"
            ],
            [
             0.2222222222222222,
             "#7201a8"
            ],
            [
             0.3333333333333333,
             "#9c179e"
            ],
            [
             0.4444444444444444,
             "#bd3786"
            ],
            [
             0.5555555555555556,
             "#d8576b"
            ],
            [
             0.6666666666666666,
             "#ed7953"
            ],
            [
             0.7777777777777778,
             "#fb9f3a"
            ],
            [
             0.8888888888888888,
             "#fdca26"
            ],
            [
             1.0,
             "#f0f921"
            ]
           ]
          },
          "colorway": [
           "#636efa",
           "#EF553B",
           "#00cc96",
           "#ab63fa",
           "#FFA15A",
           "#19d3f3",
           "#FF6692",
           "#B6E880",
           "#FF97FF",
           "#FECB52"
          ],
          "font": {
           "color": "#2a3f5f"
          },
          "geo": {
           "bgcolor": "white",
           "lakecolor": "white",
           "landcolor": "#E5ECF6",
           "showlakes": true,
           "showland": true,
           "subunitcolor": "white"
          },
          "hoverlabel": {
           "align": "left"
          },
          "hovermode": "closest",
          "mapbox": {
           "style": "light"
          },
          "paper_bgcolor": "white",
          "plot_bgcolor": "#E5ECF6",
          "polar": {
           "angularaxis": {
            "gridcolor": "white",
            "linecolor": "white",
            "ticks": ""
           },
           "bgcolor": "#E5ECF6",
           "radialaxis": {
            "gridcolor": "white",
            "linecolor": "white",
            "ticks": ""
           }
          },
          "scene": {
           "xaxis": {
            "backgroundcolor": "#E5ECF6",
            "gridcolor": "white",
            "gridwidth": 2,
            "linecolor": "white",
            "showbackground": true,
            "ticks": "",
            "zerolinecolor": "white"
           },
           "yaxis": {
            "backgroundcolor": "#E5ECF6",
            "gridcolor": "white",
            "gridwidth": 2,
            "linecolor": "white",
            "showbackground": true,
            "ticks": "",
            "zerolinecolor": "white"
           },
           "zaxis": {
            "backgroundcolor": "#E5ECF6",
            "gridcolor": "white",
            "gridwidth": 2,
            "linecolor": "white",
            "showbackground": true,
            "ticks": "",
            "zerolinecolor": "white"
           }
          },
          "shapedefaults": {
           "line": {
            "color": "#2a3f5f"
           }
          },
          "ternary": {
           "aaxis": {
            "gridcolor": "white",
            "linecolor": "white",
            "ticks": ""
           },
           "baxis": {
            "gridcolor": "white",
            "linecolor": "white",
            "ticks": ""
           },
           "bgcolor": "#E5ECF6",
           "caxis": {
            "gridcolor": "white",
            "linecolor": "white",
            "ticks": ""
           }
          },
          "title": {
           "x": 0.05
          },
          "xaxis": {
           "automargin": true,
           "gridcolor": "white",
           "linecolor": "white",
           "ticks": "",
           "title": {
            "standoff": 15
           },
           "zerolinecolor": "white",
           "zerolinewidth": 2
          },
          "yaxis": {
           "automargin": true,
           "gridcolor": "white",
           "linecolor": "white",
           "ticks": "",
           "title": {
            "standoff": 15
           },
           "zerolinecolor": "white",
           "zerolinewidth": 2
          }
         }
        },
        "title": {
         "text": "Ramsey decay Q1 transition f01: <br>64+/-6 us"
        },
        "xaxis": {
         "anchor": "y",
         "domain": [
          0.0,
          1.0
         ],
         "title": {
          "text": "Time (us) <br> Frequency: 0.20014+/-0.00025 MHz"
         }
        },
        "yaxis": {
         "anchor": "x",
         "domain": [
          0.0,
          1.0
         ],
         "title": {
          "text": "<z>"
         }
        }
       }
      }
     },
     "metadata": {},
     "output_type": "display_data"
    },
    {
     "name": "stderr",
     "output_type": "stream",
     "text": [
      "[2025-08-21 11:09:57] [INFO] [leeq.utils.utils] JSON data: {'print_time': '2025-08-21 11:09:57',\n",
      " 'record_book_path': 'log/coxious/2025-08/2025-08-21/11.09.55',\n",
      " 'record_entry_path': '/root/11-SimpleRamseyMultilevel.run',\n",
      " 'record_id': 'b1f947f2-c10b-4aed-abc5-365cd5acae4e',\n",
      " 'record_time': 1755799797}\n"
     ]
    },
    {
     "name": "stderr",
     "output_type": "stream",
     "text": [
      "INFO\tleeq.utils.utils:utils.py:display_json_dict()- JSON data: {'print_time': '2025-08-21 11:09:57',\n",
      " 'record_book_path': 'log/coxious/2025-08/2025-08-21/11.09.55',\n",
      " 'record_entry_path': '/root/11-SimpleRamseyMultilevel.run',\n",
      " 'record_id': 'b1f947f2-c10b-4aed-abc5-365cd5acae4e',\n",
      " 'record_time': 1755799797}\n"
     ]
    },
    {
     "name": "stdout",
     "output_type": "stream",
     "text": [
      "   ✓ T2* (Ramsey) measurement completed\n",
      "\n",
      "=== Coherence Times Summary ===\n",
      "✓ T1 (Energy relaxation): ~70 µs\n",
      "✓ T2 (Pure dephasing): ~35 µs\n",
      "✓ T2* (Free induction decay): < T2\n",
      "✓ All coherence measurements demonstrate expected exponential decay\n",
      "✓ Coherence times are consistent with superconducting transmon qubits\n"
     ]
    }
   ],
   "source": [
    "# Coherence time measurements\n",
    "\n",
    "print(\"=== Coherence Time Measurements ===\")\n",
    "\n",
    "# T1 measurement (energy relaxation)\n",
    "print(\"\\n1. T1 (Relaxation Time) Measurement...\")\n",
    "print(\"   Measuring energy decay from |1⟩ to |0⟩...\")\n",
    "\n",
    "t1_experiment = SimpleT1(\n",
    "    qubit=qubit,           # Our qubit  \n",
    "    time_length=300,       # Maximum wait time: 300 µs\n",
    "    time_resolution=5      # Time step: 5 µs\n",
    ")\n",
    "\n",
    "print(f\"   ✓ T1 measurement completed\")\n",
    "print(f\"   Expected T1 ≈ 70 µs (from virtual transmon parameters)\")\n",
    "\n",
    "# T2 measurement (spin echo - pure dephasing)  \n",
    "print(\"\\n2. T2 (Spin Echo) Measurement...\")\n",
    "print(\"   Measuring dephasing time with echo refocusing...\")\n",
    "\n",
    "t2_echo_experiment = SpinEchoMultiLevel(\n",
    "    dut=qubit,                    # Our qubit\n",
    "    free_evolution_time=200,      # Maximum echo time: 200 µs  \n",
    "    time_resolution=5             # Time step: 5 µs\n",
    ")\n",
    "\n",
    "# Plot the echo decay curve\n",
    "print(\"   Plotting T2 echo decay curve...\")\n",
    "t2_echo_experiment.plot_echo()\n",
    "\n",
    "print(f\"   ✓ T2 echo measurement completed\")\n",
    "print(f\"   Expected T2 ≈ 35 µs (from virtual transmon parameters)\")\n",
    "\n",
    "# T2* measurement (Ramsey - free induction decay)\n",
    "print(\"\\n3. T2* (Ramsey) Measurement...\") \n",
    "print(\"   Measuring free induction decay...\")\n",
    "\n",
    "t2_ramsey_experiment = SimpleRamseyMultilevel(\n",
    "    dut=qubit,\n",
    "    stop=50,            # Maximum evolution time: 50 µs\n",
    "    step=0.25,          # Time step: 250 ns  \n",
    "    set_offset=0.2      # Small frequency offset: 200 kHz\n",
    ")\n",
    "\n",
    "print(\"   ✓ T2* (Ramsey) measurement completed\")\n",
    "\n",
    "# Summary of coherence measurements\n",
    "print(\"\\n=== Coherence Times Summary ===\")\n",
    "print(f\"✓ T1 (Energy relaxation): ~70 µs\")\n",
    "print(f\"✓ T2 (Pure dephasing): ~35 µs\") \n",
    "print(f\"✓ T2* (Free induction decay): < T2\")\n",
    "print(\"✓ All coherence measurements demonstrate expected exponential decay\")\n",
    "print(\"✓ Coherence times are consistent with superconducting transmon qubits\")"
   ]
  },
  {
   "cell_type": "markdown",
   "id": "bbm4lvec4ai",
   "metadata": {},
   "source": [
    "## Parameter Optimization and Validation\n",
    "\n",
    "After calibration and characterization, it's important to validate that our qubit parameters are optimized and working correctly."
   ]
  },
  {
   "cell_type": "code",
   "execution_count": 7,
   "id": "ppi3m1urdsl",
   "metadata": {
    "execution": {
     "iopub.execute_input": "2025-08-21T18:09:57.663338Z",
     "iopub.status.busy": "2025-08-21T18:09:57.662743Z",
     "iopub.status.idle": "2025-08-21T18:09:57.693874Z",
     "shell.execute_reply": "2025-08-21T18:09:57.693099Z"
    }
   },
   "outputs": [
    {
     "name": "stdout",
     "output_type": "stream",
     "text": [
      "=== Parameter Validation ===\n",
      "\n",
      "1. Final Calibrated Parameters:\n",
      "   π-pulse amplitude: 0.547636\n",
      "   Drive frequency: 5040.400 MHz\n",
      "   Pulse width: 0.050 µs\n",
      "   DRAG parameter α: -179.0\n",
      "\n",
      "2. Validation: π-pulse Fidelity Check\n",
      "   Running short Rabi sweep around calibrated amplitude...\n"
     ]
    },
    {
     "data": {
      "application/vnd.plotly.v1+json": {
       "config": {
        "plotlyServerURL": "https://plot.ly"
       },
       "data": [
        {
         "marker": {
          "color": "Blue",
          "line": {
           "color": "Black",
           "width": 2
          },
          "opacity": 0.5,
          "size": 7
         },
         "mode": "markers",
         "name": "data",
         "type": "scatter",
         "x": {
          "bdata": "exSuR+F6hD+4HoXrUbiOP3oUrkfhepQ/mZmZmZmZmT+4HoXrUbieP+tRuB6F66E/ehSuR+F6pD8K16NwPQqnP5mZmZmZmak/KFyPwvUorD+3HoXrUbiuP6NwPQrXo7A/61G4HoXrsT8yMzMzMzOzP3oUrkfherQ/wfUoXI/CtT8J16NwPQq3P1G4HoXrUbg/mJmZmZmZuT/gehSuR+G6Pydcj8L1KLw/bz0K16NwvT+3HoXrUbi+P/7//////78/o3A9CtejwD9H4XoUrkfBP+tRuB6F68E/j8L1KFyPwj8zMzMzMzPDP9ejcD0K18M/ehSuR+F6xD8ehetRuB7FP8L1KFyPwsU/ZmZmZmZmxj8K16NwPQrHP61H4XoUrsc/UbgehetRyD/1KFyPwvXIP5mZmZmZmck/PQrXo3A9yj/gehSuR+HKP4TrUbgehcs/KFyPwvUozD/MzMzMzMzMP3A9CtejcM0/FK5H4XoUzj+3HoXrUbjOP1uPwvUoXM8/////////zz9RuB6F61HQP6NwPQrXo9A/9Shcj8L10D9H4XoUrkfRP5mZmZmZmdE/61G4HoXr0T89CtejcD3SP4/C9Shcj9I/4XoUrkfh0j8zMzMzMzPTP4TrUbgehdM/1qNwPQrX0z8oXI/C9SjUP3oUrkfhetQ/zMzMzMzM1D8ehetRuB7VP3A9CtejcNU/wvUoXI/C1T8UrkfhehTWP2ZmZmZmZtY/uB6F61G41j8J16NwPQrXP1uPwvUoXNc/rUfhehSu1z/////////XP1G4HoXrUdg/o3A9Ctej2D/1KFyPwvXYP0fhehSuR9k/mZmZmZmZ2T/rUbgehevZPzwK16NwPdo/jsL1KFyP2j/gehSuR+HaPzIzMzMzM9s/hOtRuB6F2z/Wo3A9CtfbPyhcj8L1KNw/ehSuR+F63D/MzMzMzMzcPx6F61G4Ht0/cD0K16Nw3T/B9Shcj8LdPxOuR+F6FN4/ZWZmZmZm3j+3HoXrUbjePwnXo3A9Ct8/W4/C9Shc3z+tR+F6FK7fP////////98/KFyPwvUo4D9RuB6F61HgP3oUrkfheuA/o3A9Ctej4D/MzMzMzMzgP/UoXI/C9eA/HoXrUbge4T9H4XoUrkfhP3A9CtejcOE/mZmZmZmZ4T/C9Shcj8LhP+tRuB6F6+E/FK5H4XoU4j89CtejcD3iP2ZmZmZmZuI/j8L1KFyP4j+4HoXrUbjiP+F6FK5H4eI/CtejcD0K4z8yMzMzMzPjP1uPwvUoXOM/hOtRuB6F4z+tR+F6FK7jP9ajcD0K1+M/////////4z8oXI/C9SjkP1G4HoXrUeQ/ehSuR+F65D+jcD0K16PkP8zMzMzMzOQ/9Shcj8L15D8=",
          "dtype": "f8"
         },
         "y": {
          "bdata": "59dYk2sz1j9chaw+itCtP2aBs9lXS8O/4INMD/4Qxr/UbsSh5Hbav/Ssd2bFyea/fi6ejBtt4L+2NJ5IckLkv/sx2cRv/bC/CDuOfJ4bgD/+0PnXRKPRP7WwIesxi80/YkPsslsrzT9UAVGVECTXPyyP7kWGBNI/wPPB+ISJkD8h1hTbWiPAv3CBXT5k25G/w/KgMFbc2b9BBxguNVfgv3L14EYTqeO/POwnUvmK27+vP1XC9ufKvx0XitR5U8K/9StT9Qzq1j+wNLmiYEzcP4PN+6wMKeE/7trV1wFZ7j8K4AOjXKndPzriI6Rx07E/Lhm5p6mMrz99ePqKC1/Kv42/e670X8q/FiQ4a2bi37+Mp0/3v9Hnv6WLF+djROe/oyV5UBwU1r+Cg47lf9HLv5x9VaTQ2qI/EGdw4xTm4D/VW/S0hXznPzMx8pPAhOk//sBxWuAs1z+W0BEXp1nEP0wZ3gThhs8/wAplwkWntT/cdT0UlnnIv1Ig2Ax5A+O/1DintVBm3b/b9Rt72DXov4EoWml1NOa/kCZI93DR0r+g8gobrzxmPx5pniNkQtQ/UWbNlz7f0z9HUFxtrA3hPzL15Qr0ceA/YdjA/CiJ3T/Y38nJtPe7P/dF7Ma/psy/EBSEaa+Vpr+9J59UGD/hv834wPOqJuC/uTEVVBsL4r8c32c77sjkv655PJ78dLS/1WB3I4U2p7/+gJLkJGXfP06PBQvfFeI/bgGVBDkQ5D9CqG8pZwLjP3Tnlh6+P+Y/JDb7xSlk0j9Jf1+bkPO5P0en4pAmMd2/nOmxHqbZ179KKwXbX3fmvzkDtKUyS+S/c4dlOSYq4L9GHRIhDNLcv+0oryCwKLO/ah2aYLEA0j9KDgGkvlvSPxlia2EN6eQ/zMUyCJNE5j+xC6C4jlLeP9Fzq75dOOQ/0/VtDkjxwz+QePES4o3Bv6Ubji2LBdW/Eyjimiqc2b8U9O7SYjrlv05QrTdTduG/Z5zAkNEP3r+Gtqu08vPKvxw0AhhvYrC/SrvehsdT2D9XtSpVFrjbP6H+HubsEuc/miJJigcd5T+aBLHNm77WP9UMd21AQ8k/4WqAyhBmxz/31YQwz/S7v9XvrzT0puG/1kuW19zl4790NR/7B5nov4GSilmXXdK/UR7AOIV9zL+vtWrkbeXCv1s94z55rMA/JdXaCfzM3j+IOhLNHYroP/j8DJemq+Q/H50EnKM24z+goAwyP47EP8ZvlalSycE/TnIiO+vBzL+Pz6TQWDjTv5aYXqPaXNm/8kjy1pvo57+CTK7i1Q3Xv7eva4PQatG/gmn5dPpLwb9YICETOTTAP+XsFQl3qNE/X+4rWkAC5T/iYD0LDh/kP9rGMyTqCOg/H9bdx7CQzz8=",
          "dtype": "f8"
         }
        },
        {
         "line": {
          "color": "Red"
         },
         "mode": "lines",
         "name": "fit",
         "type": "scatter",
         "visible": "legendonly",
         "x": {
          "bdata": "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",
          "dtype": "f8"
         },
         "y": {
          "bdata": "HTvJQvgZ2T+GrHSaunbWP55Cyi8Gp9M/A+h4ZmKw0D9XdIdoRjHLP7Kbw1W7y8Q/wFhJB3B5vD80mlq9iUSuP3qtns0Yw3o/ZuqRlaGcp7+seqlMwDK5v2lSJENjM8O/uvALHTaoyb9SGw04JuvPv4EBt5nx99K//4uigEvV1b/vDbqW/ofYvyjQJYO8Ctu/536hPZVY3b+P0VzEAG3fvyYKpAL0oeC/VQ+jdNZs4b8sBrm4mBXiv+N6PezumuK/5KgD1tL74r9fZQzqhTfjv8kVQsCSTeO/O7xd+8094780BC+eVgjjv2eYn86VreK/vbHpBj4u4r/Ai5i2SYvhv4AGBVb5xeC/dxku4KG/379BZUZOKrXdv3CzgnWPcNu/dO7lKkf22L9x77fTMEvWv+GqXNCLdNO/KjRpKu130L9OhIQ0abbKv0dVtvMBScS/z5U07ZBou7/AgJbXtxSsv1ihxLziNWK/AtOBqO7NqT+ptxAfGUW6P8Rqzh42t8M/iPmQPockyj/QThEb7i7QPz3GfsR7K9M/lBaUBA0C1j/w3Zn4DK3YPzoxM2w8J9s/2ALyKrxr3T/l4x+VFnbfP2a1cTIkoeA/L3JBSWRm4T+zmh+kRwniP5NPDeyNiOI/bGLp0zzj4j/xBbAEohjjP3wZNXxUKOM/V1CnWzUS4z+yEkYkcNbiP2Wz0mF6deI/6TxlwxLw4T/7dGukP0fhP6CUswhNfOA/KM7yHpQh3z+Z1PPECw3dP0wvKk4Yv9o/NFX68EE82D+BULnleInVPyaQbbALrNI/hgA8YjlTzz+sPmseLhDJP+A7jCtGm8I/OUU2XmgCuD9yqX2UzzulPxIo5IX25Ia/WKvHjqlSsL+pDFldv6m9vzq9owXSY8W/qLOC8EXJy79teuqWU/zQv6+5wOnl8tO/jbxYHYbC1r9fBcX1rGXZv0gQ0q0q19u/P0VAKjES3r+EOXa2Lgngv2GfqBrg6eC/xx213nKp4b+rf+BBbkbiv+oOpYqdv+K/HuLXZRIU47+l81q7JkPjvzNCwvR9TOO/mZdpswUw47/f3ZT09e3iv7X2U6PQhuK/xKACmWD74b8d5FoOuEzhv3CQKoAufOC/zcSgF7wW37+llGKRQPjcv7r8r0kVodq/WgfNl9QV2L83kNFAf1vVvzn33aByd9K/drFxPLzezr8P1yr2b5LIv5Ph/jdjFsK/3sTuZ63utr/KsYXCPwmjv5Ch3isFuI8/vVjqHbBpsT+SwVwP/Li+Py1I7Mxb5cU/qT4YeJdCzD+0QwF51jPRP6x6EEhDJNQ/Md9RbMrs1j8IsFGf8ofZP+m72NSb8Ns/7LA6Twki3j/J5yt49QvgPzPMf9oy5+A/URMDpQ2h4T8daxFWGDjiP3GIyOIpq+I/A/4z/1/54j8wq1fbICLjP0iIrVEcJeM/Du3DhEwC4z++V8bq9bniP3gF2samTOI/iSRXETa74T/21wTRwQbhP8J3l+isMOA/lZeGuTh13j/aoIAw6EzcP6u2Nmim7Nk/QHVIlx9Z1z8ImlrIZJfUPxSjS+PhrNE/QqVsB6Y+zT/v8nNjcunGPwA0bSadZsA/GSvWsuiFsz9fPUKhNFyYPyQax4S1k52/fnRJKoLTtL+kFExmIw3BvxvB8ZaPj8e/wkyabDjkzb8jL0BWVf/Rv+1L1cty6dS/bQTuQrmq178YfHm4vT3av0r2LyJwndy/LAtmYyXF3r8ZfLE9UFjgv23olW0NLuG/PJgv6SXi4b8Wk0OCN3PivxHzFu0k4OK/6cmA8Rco478eKTQQg0rjv1fIBZkiR+O/MwgKMP0d478Kh4XAY8/iv7f2yd3wW+K/Hyo4k4fE4b8kMb2lUQrhv6ehOEq9LuC/fGuXqvRm3r+WLzPU7TTcv3kG/ly3y9m/ULlwGA8w17/SXJ8OFmfUv0uw+2VGdtG/Kl6oO9HGzL9TnH1dEGnGv32PNZ2ev7+/X/yycdFvsr+CA0hanPOTvyBQZg9b/aA/k8okcmjotT8Qrldm9JLBP7KiPVuSDsg/6K+aP05azj8DxiQz4zTSP0zqXNOHGNU/cg62ZmbS1z/fXqB6Il3aP/fc0k68s9w/4MIVqprR3j/KYbXySVngP6gN5Q17KeE//3MtN8fX4T/kN26n12LiPz2g8OGayeI/aVlAzkYL4z8tqp1FWifjP1Z7+xCeHeM/LbCVVSXu4j/OQkpvTZniP2Ew/zi9H+I/0Eh+xGOC4T+bNkyEdsLgP2W/Ltbdwt8/LuTWCg/C3T+A3bomcYbbPy2ev1FoFNk/Jwa6uMNw1j+FXiwYtKDTPzwLJofBqdA/KvawLIEjyz/xdYyxjb3EP+1dY7J7XLw/dBgt3eAJrj/s06j9aut4P/iGrjVw16e/feVfPNpPub+u9jXtrEHDv5rsEmAgtsm/ik5ntpX4z7943HTAXv7Sv2/Ui2th29W/V8b3TbGN2L/RvfjRABDbv7Xpa8hgXd2/SUABHUpx37+ietpe06PgvxfyBNJsbuG/apEb+OIW4r9XiyeE6pvivwAHq9d9/OK/N9YiBd83478xvopFmU3jvznBBd6BPeO/LMPmc7gH479LRXTOpqziv0me4QYALeK/uMoWKL+J4b/XhPtAJcTgv8YmIdptu9+/CBRisHKw3b/j7rSGXWvbv2JjqSKl8Ni/p2H8xSlF1r/Su72XK27Tv21z3lBAcdC/GsDsgJCoyr8XmbV6xTrEvyCDAG+IS7u/aK6j9PnZq7+YfCQG3Qxdv2beC1arCKo/rkIMaSBiuj8i5R+yccXDP7UxqsJeMso/dZIfOZo10D8puFQf2zHTP2xS7hMTCNY/SgfR462y2D/kC4ghbSzbP5VdUnVycN0/mYY5MEl63z8Tx66H96LgP2QtHQ/uZ+E/Lawy1IQK4j/PnY0WfIniPyjQdCTa4+I/iJTlRe0Y4z+SVxUaTSjjPzlot2TbEeM/GTxzScTV4j+sQBb1fXTiPxDwK7XH7uE/jDfFf6hF4T+TElPubHrgPy7FGl9JHd8/tsLY6j4I3T8O/nzK0rnaP3EiuCGONtg/bgfIAWKD1T+g7o2xnaXSP77NvHjIRc8/PvwnuEICyT+NymOo+4zCP70Q81NN5bc/4m/g8v8ApT8vBpSdzNCHv/6NPkr9b7C/pOVrZLLGvb9T8Z+3/nHFv9Q/qfAJ18u/WEnhtPMC0b8Sv/odN/nTvzPkZvt7yNa//jHYxDtr2b8lksh/R9zbv167JPHRFt6/reZdhzwL4L9jgPBOp+vgv3nlJffvquG/5V8BUZ5H4r+lpn06fsDivyY5iPyhFOO/KHuAHmRD478vLaOraEzjv/tG4uedL+O/ao3Fcjzt4r+VTA/YxoXiv1I1AI8I+uG/v0QzahRL4b9XoyR7Qnrgv9fHFNtaEt+/ibdjv17z3L+HySt8vJvav9d8r1IPENi//SFX3VhV1b/HCkI393DSv+lJ2ds00c6/KQJco3KEyL+achh2CwjCv8Vh42+B0ba/to5Vp2HOor8nPAOY41GQPxQ2pZz3hrE/QHp5N9nVvj8D5tHTePPFP/H8XDBHUMw/6M2SOGo60T9n+sP7hSrUP7FlPcSv8tY/0TYlA2+N2T/ks6t6pPXbP5+lw1CUJt4/mDIyr/cN4D9ZTYPU7ejgP3WN2Pp9ouE/2kBYMzs54j9/UHsL/aviP7F2DdTh+eI/3WgDXVAi4z+pGL4i+STjP9mTaurWAeM/TvtKzC654j8EV9Srj0viP6+CrB7RueE/kNWwxBEF4T+WUkcUtS7gP1DbnT7BcN4/SWIbrPFH3D8Wd/acOufZPwppci5JU9c/ETXgPC+R1D8YzDZrWabRP7xIS/AIMc0/4pY462Pbxj/TBO/xOFjAP3+BOmytaLM/iCeHA2Lmlz89QUDvhQmev8uWiMu78LS/lU90PYYbwb8+fN4pnJ3Hv8PFLhrT8c2/kbHOWdwF0r+TF+alpu/Uv6qOy8CNsNe/O9/3YidD2r94UzlUZKLcv2bC6V6ayd6/eUY/vkZa4L+R5bMUvC/hv18K72eJ4+G/F1SEHU104r9RX+aC6uDivwZtS/2LKOO/5ezBraRK478CxzqG8Ubjv2aPaM15HeO/xktwEI/O4r+U74eCzFrivyT3vcsVw+G/7mJCSZUI4b+dj6HCuSzgv/W/5TBnYt6/YpAL5OIv3L/2/yrhOMbZvxT2+N4nKte/bOmFs9Fg1L8HJms8sW/Rv+pYwy8fucy/WtDoh/Faxr9PhrjovqK/vzvWmHyIUrK/jQ084rl9k7++MWCyNzihP4fZ7ZWSBbY/lcrVs0qhwT9sXzmyjRzIP8bs2yDTZ84/6b/HHV070j+NMoJ7rB7VPwgeircp2Nc/0KK+Hnli2j8Bqo/Gm7jcP2b5I2D51d4/b0TaoDRb4D/YyytKHSvhP5DmEssd2eE/8I458d9j4j+UWODZUsriP9BmiAqtC+M/Pfwu/W0n4z/GZQ8dXx3jP+Qs+jGU7eI/rnduOWuY4j/EF8Ktix7iP4jMwzzlgOE/HHZf8K3A4D/dasaZv77fPyYrKdNrvd0/iYiXElKB2z8bHI1z1w7ZPzatpgLMatY/+5WnRmGa0z8bscsJIKPQP3fd9+66Fcs/SECaR1+vxD/iEGBNhj+8P7TYpNc2z60/cpbj67sTdz82IpUAPhKov+f/lEPzbLm/AWv45PVPw7+f2xq0CcTJvxJOdAUCA9C/dDj+NcsE07/6EFWKduHVv/xVux9jk9i/fbG6I0QV2788OYBAK2Ldv1uzZk+Sdd+/D1NOH7Kl4L/udDOMAnDhvz3pGo4sGOK/CrTLbeWc4r/Tg4AnKP3iv7wgOWw3OOO/mPkGFp9N47+nongMNT3jv5kOY5cZB+O/wLJlH7er4r/Db6ZcwSvivwHLYPUziOG/ao7/jlDC4L9MLhyrOLffv7qnuvy5q92/yTp7lypm279RXVAxAuvYv60+PughP9a/UTHPqcpn078DoxvekmrQv0CabtW2msq/qr8/RogsxL8qEab1fi67v3CnxxY7n6u/ZLS43/StVb/q4OEDZ0OqPycYg7Umf7o/2vXSiKzTwz+i4rtNNUDKP6Bjar1FPNA/mu1VxDk40z93H8hSGA7WPz8bduVNuNg/EIME1pwx2z/3JI2pJ3XdP9xoA6J6ft8/mTvTP8qk4D+DgaQwd2nhP3S5+FnBC+I/rDUXkmmK4j/e67fCduTiP9fS39I3GeM/2LkpA0Uo4z/Hp865gBHjP6uA3LwX1eI/k3Uo2oBz4j+raar9e+3hP4TJDLgQROE/+htXOIx44D8FVl15/RjfP0vJa/5wA90/MOAsSoy02j8R1XJt2TDYP07XNVJKfdU/iw8AAi+f0j/PYH1mVjjPP8lZCGRW9Mg/7JoWdLB+wj94ZI5jMci3PzB82YAvxqQ/bIUeAaK8iL8bhaNwUI2wv029BFmk472/Tv+4oiqAxb+Uo83tzOTLv3AyRjSTCdG/EubJl4f/07/t0Z8Ecc7Wv+VYTqbJcNm/BI8tTWPh27+HnYOecRvevzmVHcJJDeC/RHvS5G3t4L/9YSpqbKzhvyfj9LTNSOK/vXO4Ol7B4r//toPgMBXjv8WNOc2gQ+O/8NrCrVJM47/paqhoNS/jvwrJsz+C7OK/fOBUX7yE4r9P26ncr/jhv+eTJCRwSeG/sOji21V44L9DW8Z7+A3fv/Vmk9577ty/CrjbtWKW2r9587QsSQrYv+XMqLIxT9W/RBGjIXtq0r8jDEFcrMPOvwsHyGx0dsi/gX1nDbP5wb/ZOsimVLS2v0LERuaCk6K/YVPG6sPHkD9kiR5xPqSxP20nNji18r4/kK+aCZUBxj+LV7Pb9V3MPwXQzFT9QNE/hdeA8Mcw1D94vApDlPjWPyT+XXXqktk/14FCGKz62z9vrHY1HiveP6S5mE75D+A//G3cLqjq4D/nCjOq7aPhP0XlmmRdOuI/SP3yg8+s4j+pfs/1YvriPxmVGyp/IuM/KRciP9Uk4z/H+a6cYAHjP+B2GP1muOI//yEe5HdK4j8ymauEa7jhP1DhqRdhA+E/N5ojp7ws4D/F0CWkSGzePzUzdBz6Qtw/Qj3P3M3h2T9Z+vHocU3XP8j8qe74itQ/z6jTS9Cf0T/Ib/rDaiPNP2j5W5lUzcY/fc8JIdRJwD9Ka6xpcUuzP0tUN2+OcJc/2jo0VVV/nr/NC2Ct9A21v7e3gXboKcG/E1eA4aerx781lfewbP/Nv2IfSbViDNK/uxp/vNn11L8JBk5hYbbXv/836xeQSNq/iJJqelen3L/8B1c6Ds7evwH2vaU8XOC/T+jrGmox4b/WDy4/7OThv9Of8wtideK/DiznZ6/h4r8E/aVV/yjjv/EMn5bFSuO/zurhvr9G47+kGb+39Rzjv8wHObC5zeK/Kzdke6dZ4r8ocfRdo8Hhv6+xUU3YBuG/3aOno7Uq4L8L5Oea2F3ev+VfQOzWKty/TYFjdLnA2b8PshXNPyTXv4eKM5qMWtS/H15KcBtp0b8zm44YbKvMv0PC4uLRTMa/2dFFEN6Fv781CLTgPjWyvxKg0cjWB5O/Ao6EqBNzoT8MtjPluyK2P48O11igr8E/+V7II4gqyD/PuIPhVnXOP/Zvo1vWQdI/5mm5W9Ak1T+ShdIm7N3XP9I3b8nOZ9o/eknnLnq93D9KP+vyVtreP9Q3ibQeXeA/C+hZ5L4s4T+qzHu2c9rhP5zIb43nZOI/ycF3IArL4j+zuBGTEgzjPyKk/P+AJ+M/Sza+dB8d4z/X5LpbAu3iPyqOD1SIl+I/0LF7d1kd4j86McoPZn/hP0q/Qr7kvuA/16uKMaC63z/jLoKCx7jdP2apffoxfNs/+AhmqEUJ2T8FvXJ402TWPyZcd7sNlNM/",
          "dtype": "f8"
         }
        }
       ],
       "layout": {
        "font": {
         "color": "Black",
         "family": "Courier New, monospace",
         "size": 12
        },
        "legend": {
         "title": {
          "text": "Legend"
         }
        },
        "plot_bgcolor": "white",
        "template": {
         "data": {
          "bar": [
           {
            "error_x": {
             "color": "#2a3f5f"
            },
            "error_y": {
             "color": "#2a3f5f"
            },
            "marker": {
             "line": {
              "color": "#E5ECF6",
              "width": 0.5
             },
             "pattern": {
              "fillmode": "overlay",
              "size": 10,
              "solidity": 0.2
             }
            },
            "type": "bar"
           }
          ],
          "barpolar": [
           {
            "marker": {
             "line": {
              "color": "#E5ECF6",
              "width": 0.5
             },
             "pattern": {
              "fillmode": "overlay",
              "size": 10,
              "solidity": 0.2
             }
            },
            "type": "barpolar"
           }
          ],
          "carpet": [
           {
            "aaxis": {
             "endlinecolor": "#2a3f5f",
             "gridcolor": "white",
             "linecolor": "white",
             "minorgridcolor": "white",
             "startlinecolor": "#2a3f5f"
            },
            "baxis": {
             "endlinecolor": "#2a3f5f",
             "gridcolor": "white",
             "linecolor": "white",
             "minorgridcolor": "white",
             "startlinecolor": "#2a3f5f"
            },
            "type": "carpet"
           }
          ],
          "choropleth": [
           {
            "colorbar": {
             "outlinewidth": 0,
             "ticks": ""
            },
            "type": "choropleth"
           }
          ],
          "contour": [
           {
            "colorbar": {
             "outlinewidth": 0,
             "ticks": ""
            },
            "colorscale": [
             [
              0.0,
              "#0d0887"
             ],
             [
              0.1111111111111111,
              "#46039f"
             ],
             [
              0.2222222222222222,
              "#7201a8"
             ],
             [
              0.3333333333333333,
              "#9c179e"
             ],
             [
              0.4444444444444444,
              "#bd3786"
             ],
             [
              0.5555555555555556,
              "#d8576b"
             ],
             [
              0.6666666666666666,
              "#ed7953"
             ],
             [
              0.7777777777777778,
              "#fb9f3a"
             ],
             [
              0.8888888888888888,
              "#fdca26"
             ],
             [
              1.0,
              "#f0f921"
             ]
            ],
            "type": "contour"
           }
          ],
          "contourcarpet": [
           {
            "colorbar": {
             "outlinewidth": 0,
             "ticks": ""
            },
            "type": "contourcarpet"
           }
          ],
          "heatmap": [
           {
            "colorbar": {
             "outlinewidth": 0,
             "ticks": ""
            },
            "colorscale": [
             [
              0.0,
              "#0d0887"
             ],
             [
              0.1111111111111111,
              "#46039f"
             ],
             [
              0.2222222222222222,
              "#7201a8"
             ],
             [
              0.3333333333333333,
              "#9c179e"
             ],
             [
              0.4444444444444444,
              "#bd3786"
             ],
             [
              0.5555555555555556,
              "#d8576b"
             ],
             [
              0.6666666666666666,
              "#ed7953"
             ],
             [
              0.7777777777777778,
              "#fb9f3a"
             ],
             [
              0.8888888888888888,
              "#fdca26"
             ],
             [
              1.0,
              "#f0f921"
             ]
            ],
            "type": "heatmap"
           }
          ],
          "histogram": [
           {
            "marker": {
             "pattern": {
              "fillmode": "overlay",
              "size": 10,
              "solidity": 0.2
             }
            },
            "type": "histogram"
           }
          ],
          "histogram2d": [
           {
            "colorbar": {
             "outlinewidth": 0,
             "ticks": ""
            },
            "colorscale": [
             [
              0.0,
              "#0d0887"
             ],
             [
              0.1111111111111111,
              "#46039f"
             ],
             [
              0.2222222222222222,
              "#7201a8"
             ],
             [
              0.3333333333333333,
              "#9c179e"
             ],
             [
              0.4444444444444444,
              "#bd3786"
             ],
             [
              0.5555555555555556,
              "#d8576b"
             ],
             [
              0.6666666666666666,
              "#ed7953"
             ],
             [
              0.7777777777777778,
              "#fb9f3a"
             ],
             [
              0.8888888888888888,
              "#fdca26"
             ],
             [
              1.0,
              "#f0f921"
             ]
            ],
            "type": "histogram2d"
           }
          ],
          "histogram2dcontour": [
           {
            "colorbar": {
             "outlinewidth": 0,
             "ticks": ""
            },
            "colorscale": [
             [
              0.0,
              "#0d0887"
             ],
             [
              0.1111111111111111,
              "#46039f"
             ],
             [
              0.2222222222222222,
              "#7201a8"
             ],
             [
              0.3333333333333333,
              "#9c179e"
             ],
             [
              0.4444444444444444,
              "#bd3786"
             ],
             [
              0.5555555555555556,
              "#d8576b"
             ],
             [
              0.6666666666666666,
              "#ed7953"
             ],
             [
              0.7777777777777778,
              "#fb9f3a"
             ],
             [
              0.8888888888888888,
              "#fdca26"
             ],
             [
              1.0,
              "#f0f921"
             ]
            ],
            "type": "histogram2dcontour"
           }
          ],
          "mesh3d": [
           {
            "colorbar": {
             "outlinewidth": 0,
             "ticks": ""
            },
            "type": "mesh3d"
           }
          ],
          "parcoords": [
           {
            "line": {
             "colorbar": {
              "outlinewidth": 0,
              "ticks": ""
             }
            },
            "type": "parcoords"
           }
          ],
          "pie": [
           {
            "automargin": true,
            "type": "pie"
           }
          ],
          "scatter": [
           {
            "fillpattern": {
             "fillmode": "overlay",
             "size": 10,
             "solidity": 0.2
            },
            "type": "scatter"
           }
          ],
          "scatter3d": [
           {
            "line": {
             "colorbar": {
              "outlinewidth": 0,
              "ticks": ""
             }
            },
            "marker": {
             "colorbar": {
              "outlinewidth": 0,
              "ticks": ""
             }
            },
            "type": "scatter3d"
           }
          ],
          "scattercarpet": [
           {
            "marker": {
             "colorbar": {
              "outlinewidth": 0,
              "ticks": ""
             }
            },
            "type": "scattercarpet"
           }
          ],
          "scattergeo": [
           {
            "marker": {
             "colorbar": {
              "outlinewidth": 0,
              "ticks": ""
             }
            },
            "type": "scattergeo"
           }
          ],
          "scattergl": [
           {
            "marker": {
             "colorbar": {
              "outlinewidth": 0,
              "ticks": ""
             }
            },
            "type": "scattergl"
           }
          ],
          "scattermap": [
           {
            "marker": {
             "colorbar": {
              "outlinewidth": 0,
              "ticks": ""
             }
            },
            "type": "scattermap"
           }
          ],
          "scattermapbox": [
           {
            "marker": {
             "colorbar": {
              "outlinewidth": 0,
              "ticks": ""
             }
            },
            "type": "scattermapbox"
           }
          ],
          "scatterpolar": [
           {
            "marker": {
             "colorbar": {
              "outlinewidth": 0,
              "ticks": ""
             }
            },
            "type": "scatterpolar"
           }
          ],
          "scatterpolargl": [
           {
            "marker": {
             "colorbar": {
              "outlinewidth": 0,
              "ticks": ""
             }
            },
            "type": "scatterpolargl"
           }
          ],
          "scatterternary": [
           {
            "marker": {
             "colorbar": {
              "outlinewidth": 0,
              "ticks": ""
             }
            },
            "type": "scatterternary"
           }
          ],
          "surface": [
           {
            "colorbar": {
             "outlinewidth": 0,
             "ticks": ""
            },
            "colorscale": [
             [
              0.0,
              "#0d0887"
             ],
             [
              0.1111111111111111,
              "#46039f"
             ],
             [
              0.2222222222222222,
              "#7201a8"
             ],
             [
              0.3333333333333333,
              "#9c179e"
             ],
             [
              0.4444444444444444,
              "#bd3786"
             ],
             [
              0.5555555555555556,
              "#d8576b"
             ],
             [
              0.6666666666666666,
              "#ed7953"
             ],
             [
              0.7777777777777778,
              "#fb9f3a"
             ],
             [
              0.8888888888888888,
              "#fdca26"
             ],
             [
              1.0,
              "#f0f921"
             ]
            ],
            "type": "surface"
           }
          ],
          "table": [
           {
            "cells": {
             "fill": {
              "color": "#EBF0F8"
             },
             "line": {
              "color": "white"
             }
            },
            "header": {
             "fill": {
              "color": "#C8D4E3"
             },
             "line": {
              "color": "white"
             }
            },
            "type": "table"
           }
          ]
         },
         "layout": {
          "annotationdefaults": {
           "arrowcolor": "#2a3f5f",
           "arrowhead": 0,
           "arrowwidth": 1
          },
          "autotypenumbers": "strict",
          "coloraxis": {
           "colorbar": {
            "outlinewidth": 0,
            "ticks": ""
           }
          },
          "colorscale": {
           "diverging": [
            [
             0,
             "#8e0152"
            ],
            [
             0.1,
             "#c51b7d"
            ],
            [
             0.2,
             "#de77ae"
            ],
            [
             0.3,
             "#f1b6da"
            ],
            [
             0.4,
             "#fde0ef"
            ],
            [
             0.5,
             "#f7f7f7"
            ],
            [
             0.6,
             "#e6f5d0"
            ],
            [
             0.7,
             "#b8e186"
            ],
            [
             0.8,
             "#7fbc41"
            ],
            [
             0.9,
             "#4d9221"
            ],
            [
             1,
             "#276419"
            ]
           ],
           "sequential": [
            [
             0.0,
             "#0d0887"
            ],
            [
             0.1111111111111111,
             "#46039f"
            ],
            [
             0.2222222222222222,
             "#7201a8"
            ],
            [
             0.3333333333333333,
             "#9c179e"
            ],
            [
             0.4444444444444444,
             "#bd3786"
            ],
            [
             0.5555555555555556,
             "#d8576b"
            ],
            [
             0.6666666666666666,
             "#ed7953"
            ],
            [
             0.7777777777777778,
             "#fb9f3a"
            ],
            [
             0.8888888888888888,
             "#fdca26"
            ],
            [
             1.0,
             "#f0f921"
            ]
           ],
           "sequentialminus": [
            [
             0.0,
             "#0d0887"
            ],
            [
             0.1111111111111111,
             "#46039f"
            ],
            [
             0.2222222222222222,
             "#7201a8"
            ],
            [
             0.3333333333333333,
             "#9c179e"
            ],
            [
             0.4444444444444444,
             "#bd3786"
            ],
            [
             0.5555555555555556,
             "#d8576b"
            ],
            [
             0.6666666666666666,
             "#ed7953"
            ],
            [
             0.7777777777777778,
             "#fb9f3a"
            ],
            [
             0.8888888888888888,
             "#fdca26"
            ],
            [
             1.0,
             "#f0f921"
            ]
           ]
          },
          "colorway": [
           "#636efa",
           "#EF553B",
           "#00cc96",
           "#ab63fa",
           "#FFA15A",
           "#19d3f3",
           "#FF6692",
           "#B6E880",
           "#FF97FF",
           "#FECB52"
          ],
          "font": {
           "color": "#2a3f5f"
          },
          "geo": {
           "bgcolor": "white",
           "lakecolor": "white",
           "landcolor": "#E5ECF6",
           "showlakes": true,
           "showland": true,
           "subunitcolor": "white"
          },
          "hoverlabel": {
           "align": "left"
          },
          "hovermode": "closest",
          "mapbox": {
           "style": "light"
          },
          "paper_bgcolor": "white",
          "plot_bgcolor": "#E5ECF6",
          "polar": {
           "angularaxis": {
            "gridcolor": "white",
            "linecolor": "white",
            "ticks": ""
           },
           "bgcolor": "#E5ECF6",
           "radialaxis": {
            "gridcolor": "white",
            "linecolor": "white",
            "ticks": ""
           }
          },
          "scene": {
           "xaxis": {
            "backgroundcolor": "#E5ECF6",
            "gridcolor": "white",
            "gridwidth": 2,
            "linecolor": "white",
            "showbackground": true,
            "ticks": "",
            "zerolinecolor": "white"
           },
           "yaxis": {
            "backgroundcolor": "#E5ECF6",
            "gridcolor": "white",
            "gridwidth": 2,
            "linecolor": "white",
            "showbackground": true,
            "ticks": "",
            "zerolinecolor": "white"
           },
           "zaxis": {
            "backgroundcolor": "#E5ECF6",
            "gridcolor": "white",
            "gridwidth": 2,
            "linecolor": "white",
            "showbackground": true,
            "ticks": "",
            "zerolinecolor": "white"
           }
          },
          "shapedefaults": {
           "line": {
            "color": "#2a3f5f"
           }
          },
          "ternary": {
           "aaxis": {
            "gridcolor": "white",
            "linecolor": "white",
            "ticks": ""
           },
           "baxis": {
            "gridcolor": "white",
            "linecolor": "white",
            "ticks": ""
           },
           "bgcolor": "#E5ECF6",
           "caxis": {
            "gridcolor": "white",
            "linecolor": "white",
            "ticks": ""
           }
          },
          "title": {
           "x": 0.05
          },
          "xaxis": {
           "automargin": true,
           "gridcolor": "white",
           "linecolor": "white",
           "ticks": "",
           "title": {
            "standoff": 15
           },
           "zerolinecolor": "white",
           "zerolinewidth": 2
          },
          "yaxis": {
           "automargin": true,
           "gridcolor": "white",
           "linecolor": "white",
           "ticks": "",
           "title": {
            "standoff": 15
           },
           "zerolinecolor": "white",
           "zerolinewidth": 2
          }
         }
        },
        "title": {
         "text": "Time Rabi"
        },
        "xaxis": {
         "title": {
          "text": "Time (µs)"
         }
        },
        "yaxis": {
         "title": {
          "text": "<z>"
         }
        }
       }
      }
     },
     "metadata": {},
     "output_type": "display_data"
    },
    {
     "name": "stderr",
     "output_type": "stream",
     "text": [
      "[2025-08-21 11:09:57] [INFO] [leeq.utils.utils] JSON data: {'print_time': '2025-08-21 11:09:57',\n",
      " 'record_book_path': 'log/coxious/2025-08/2025-08-21/11.09.55',\n",
      " 'record_entry_path': '/root/12-NormalisedRabi.run',\n",
      " 'record_id': '8015955b-945e-453f-b31b-556fff9de59b',\n",
      " 'record_time': 1755799797}\n"
     ]
    },
    {
     "name": "stderr",
     "output_type": "stream",
     "text": [
      "INFO\tleeq.utils.utils:utils.py:display_json_dict()- JSON data: {'print_time': '2025-08-21 11:09:57',\n",
      " 'record_book_path': 'log/coxious/2025-08/2025-08-21/11.09.55',\n",
      " 'record_entry_path': '/root/12-NormalisedRabi.run',\n",
      " 'record_id': '8015955b-945e-453f-b31b-556fff9de59b',\n",
      " 'record_time': 1755799797}\n"
     ]
    },
    {
     "name": "stdout",
     "output_type": "stream",
     "text": [
      "   ✓ Validation completed\n",
      "   ✓ π-pulse should show maximum population inversion\n",
      "\n",
      "3. Qubit Quality Summary:\n",
      "   ✓ Coherence quality factor: Q = f01 × T2 = 176414\n",
      "   ✓ Relaxation-limited T2: T2_max = 2×T1 = 140 µs\n",
      "   ✓ Dephasing efficiency: T2/T2_max = 0.25\n",
      "   ✓ Gate time / T2 ratio: 0.001429 (good for high fidelity)\n",
      "\n",
      "✓ Single qubit characterization and optimization complete!\n",
      "✓ Ready for multi-qubit operations and advanced experiments\n"
     ]
    }
   ],
   "source": [
    "# Parameter validation and optimization\n",
    "print(\"=== Parameter Validation ===\")\n",
    "\n",
    "# Display final calibrated parameters\n",
    "print(\"\\n1. Final Calibrated Parameters:\")\n",
    "print(f\"   π-pulse amplitude: {qubit.get_c1('f01').get_parameters()['amp']:.6f}\")\n",
    "print(f\"   Drive frequency: {qubit.get_c1('f01').get_parameters()['freq']:.3f} MHz\")\n",
    "print(f\"   Pulse width: {qubit.get_c1('f01').get_parameters()['width']:.3f} µs\") \n",
    "print(f\"   DRAG parameter α: {qubit.get_c1('f01').get_parameters()['alpha']:.1f}\")\n",
    "\n",
    "# Verify π-pulse fidelity with a quick Rabi check\n",
    "print(\"\\n2. Validation: π-pulse Fidelity Check\")\n",
    "print(\"   Running short Rabi sweep around calibrated amplitude...\")\n",
    "\n",
    "validation_rabi = NormalisedRabi(\n",
    "    dut_qubit=qubit,\n",
    "    step=0.005,              # Fine step for validation\n",
    "    stop=qubit.get_c1('f01').get_parameters()['amp'] * 1.2,  # Sweep around calibrated value\n",
    "    amp=qubit.get_c1('f01').get_parameters()['amp'] * 0.8,   # Start below calibrated value\n",
    "    update=False             # Don't update calibration\n",
    ")\n",
    "\n",
    "print(\"   ✓ Validation completed\")\n",
    "print(\"   ✓ π-pulse should show maximum population inversion\")\n",
    "\n",
    "# Parameter summary with quality metrics\n",
    "print(\"\\n3. Qubit Quality Summary:\")\n",
    "print(f\"   ✓ Coherence quality factor: Q = f01 × T2 = {5040.4 * 35:.0f}\")\n",
    "print(f\"   ✓ Relaxation-limited T2: T2_max = 2×T1 = {2*70} µs\")\n",
    "print(f\"   ✓ Dephasing efficiency: T2/T2_max = {35/(2*70):.2f}\")\n",
    "print(f\"   ✓ Gate time / T2 ratio: {0.05/35:.6f} (good for high fidelity)\")\n",
    "\n",
    "print(\"\\n✓ Single qubit characterization and optimization complete!\")\n",
    "print(\"✓ Ready for multi-qubit operations and advanced experiments\")"
   ]
  },
  {
   "cell_type": "markdown",
   "id": "next-steps",
   "metadata": {},
   "source": [
    "## Next Steps\n",
    "\n",
    "Continue to [03_multi_qubit.ipynb](03_multi_qubit.ipynb) to learn about two-qubit gates and entanglement."
   ]
  },
  {
   "cell_type": "markdown",
   "id": "hdub9m3vywe",
   "metadata": {},
   "source": [
    "## Data Logging and Persistence\n",
    "\n",
    "LeeQ automatically logs all experimental data through the Chronicle system, allowing you to save and load calibration parameters."
   ]
  },
  {
   "cell_type": "code",
   "execution_count": 8,
   "id": "kwu6qp1o9e",
   "metadata": {
    "execution": {
     "iopub.execute_input": "2025-08-21T18:09:57.696668Z",
     "iopub.status.busy": "2025-08-21T18:09:57.696173Z",
     "iopub.status.idle": "2025-08-21T18:09:57.704051Z",
     "shell.execute_reply": "2025-08-21T18:09:57.703171Z"
    }
   },
   "outputs": [
    {
     "name": "stderr",
     "output_type": "stream",
     "text": [
      "[2025-08-21 11:09:57] [WARNING] [leeq.utils.utils] LEEQ_CALIBRATION_LOG_PATH not found in environment variables. Using default path at /home/coxious/Projects/VILA_training/LeeQ/docs/notebooks/tutorials/calibration_logs.\n"
     ]
    },
    {
     "name": "stderr",
     "output_type": "stream",
     "text": [
      "WARNING\tleeq.utils.utils:utils.py:get_calibration_log_path()- LEEQ_CALIBRATION_LOG_PATH not found in environment variables. Using default path at /home/coxious/Projects/VILA_training/LeeQ/docs/notebooks/tutorials/calibration_logs.\n"
     ]
    },
    {
     "name": "stdout",
     "output_type": "stream",
     "text": [
      "=== Data Logging and Calibration Persistence ===\n",
      "\n",
      "1. Saving calibration parameters...\n",
      "   ✓ Calibration parameters saved to Chronicle log\n",
      "   ℹ Note: 'TransmonElement' object has no attribute 'name'\n",
      "   ✓ In real hardware setups, this would save to persistent storage\n",
      "\n",
      "2. Parameters that would be logged:\n",
      "   - π-pulse amplitude and frequency\n",
      "   - DRAG parameters\n",
      "   - Measurement calibration data\n",
      "   - Coherence time measurements\n",
      "   - All experimental metadata and timestamps\n",
      "\n",
      "3. Loading calibration parameters:\n",
      "   # To load saved parameters in future sessions:\n",
      "   # qubit = TransmonElement.load_from_calibration_log('Q1')\n",
      "   ✓ This ensures consistent qubit parameters across experiments\n",
      "\n",
      "✓ Chronicle logging provides full experimental traceability\n",
      "✓ All data is automatically timestamped and organized\n",
      "✓ Parameters can be easily shared between notebooks and users\n"
     ]
    }
   ],
   "source": [
    "# Demonstrate data logging and calibration persistence\n",
    "print(\"=== Data Logging and Calibration Persistence ===\")\n",
    "\n",
    "# Save current calibration parameters to Chronicle log\n",
    "print(\"\\n1. Saving calibration parameters...\")\n",
    "try:\n",
    "    qubit.save_calibration_log()\n",
    "    print(\"   ✓ Calibration parameters saved to Chronicle log\")\n",
    "    print(f\"   ✓ Logged under qubit name: {qubit.name}\")\n",
    "except Exception as e:\n",
    "    print(f\"   ℹ Note: {e}\")\n",
    "    print(\"   ✓ In real hardware setups, this would save to persistent storage\")\n",
    "\n",
    "# Display what would be saved\n",
    "print(\"\\n2. Parameters that would be logged:\")\n",
    "print(\"   - π-pulse amplitude and frequency\")\n",
    "print(\"   - DRAG parameters\")  \n",
    "print(\"   - Measurement calibration data\")\n",
    "print(\"   - Coherence time measurements\")\n",
    "print(\"   - All experimental metadata and timestamps\")\n",
    "\n",
    "# Demonstrate how to load parameters (in real use)\n",
    "print(\"\\n3. Loading calibration parameters:\")\n",
    "print(\"   # To load saved parameters in future sessions:\")\n",
    "print(\"   # qubit = TransmonElement.load_from_calibration_log('Q1')\")\n",
    "print(\"   ✓ This ensures consistent qubit parameters across experiments\")\n",
    "\n",
    "print(\"\\n✓ Chronicle logging provides full experimental traceability\")\n",
    "print(\"✓ All data is automatically timestamped and organized\")\n",
    "print(\"✓ Parameters can be easily shared between notebooks and users\")"
   ]
  }
 ],
 "metadata": {
  "kernelspec": {
   "display_name": "Python 3",
   "language": "python",
   "name": "python3"
  },
  "language_info": {
   "codemirror_mode": {
    "name": "ipython",
    "version": 3
   },
   "file_extension": ".py",
   "mimetype": "text/x-python",
   "name": "python",
   "nbconvert_exporter": "python",
   "pygments_lexer": "ipython3",
   "version": "3.10.18"
  }
 },
 "nbformat": 4,
 "nbformat_minor": 5
}
