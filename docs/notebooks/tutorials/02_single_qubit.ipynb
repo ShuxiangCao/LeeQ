{
 "cells": [
  {
   "cell_type": "markdown",
   "id": "single-qubit-intro",
   "metadata": {},
   "source": [
    "# 02 - Single Qubit Experiments and Calibration\n",
    "\n",
    "This notebook demonstrates single qubit experiments and calibration procedures in LeeQ.\n",
    "\n",
    "## Learning Objectives\n",
    "- Perform Rabi oscillation experiments\n",
    "- Understand qubit calibration workflows\n",
    "- Learn measurement primitives\n",
    "- Practice with coherence time measurements\n",
    "\n",
    "## Prerequisites\n",
    "- Complete [01_basics.ipynb](01_basics.ipynb)\n",
    "- Understand quantum single-qubit gates"
   ]
  },
  {
   "cell_type": "markdown",
   "id": "setup-section",
   "metadata": {},
   "source": [
    "## Setup and Configuration"
   ]
  },
  {
   "cell_type": "code",
   "execution_count": null,
   "id": "import-modules",
   "metadata": {},
   "outputs": [],
   "source": "import leeq\nimport numpy as np\nfrom leeq.experiments.builtin.basic.calibrations import *\nfrom leeq.experiments.builtin.basic.characterizations import *\nfrom leeq.core.elements.built_in.qudit_transmon import TransmonElement\nfrom leeq.setups.built_in.setup_simulation_high_level import HighLevelSimulationSetup\nfrom leeq.theory.simulation.numpy.rotated_frame_simulator import VirtualTransmon\nfrom leeq.experiments.experiments import ExperimentManager\nfrom leeq.chronicle import Chronicle, log_and_record\nimport plotly.graph_objects as go\nfrom scipy import optimize as so\n\nprint(\"✓ LeeQ environment loaded successfully\")"
  },
  {
   "cell_type": "code",
   "id": "v2m81smh88c",
   "source": "# Setup simulation environment\ndef setup_single_qubit_simulation():\n    \"\"\"Initialize the simulation environment with a single qubit\"\"\"\n    # Start Chronicle logging\n    Chronicle().start_log()\n    \n    # Clear any existing setups\n    manager = ExperimentManager()\n    manager.clear_setups()\n    \n    # Create virtual transmon with realistic parameters\n    virtual_transmon = VirtualTransmon(\n        name=\"SingleQubit\",\n        qubit_frequency=5040.4,     # 5.04 GHz qubit frequency\n        anharmonicity=-198,         # -198 MHz anharmonicity\n        t1=70,                      # 70 µs T1 time\n        t2=35,                      # 35 µs T2 time  \n        readout_frequency=9645.4,   # 9.645 GHz readout frequency\n        quiescent_state_distribution=np.asarray([0.8, 0.15, 0.04, 0.01])\n    )\n    \n    # Create high-level simulation setup\n    setup = HighLevelSimulationSetup(\n        name='SingleQubitSimulation',\n        virtual_qubits={2: virtual_transmon}  # Channel 2 for the qubit\n    )\n    \n    # Register setup with experiment manager\n    manager.register_setup(setup)\n    \n    print(\"✓ Single qubit simulation environment initialized\")\n    print(f\"✓ Qubit frequency: {virtual_transmon.qubit_frequency} MHz\")\n    print(f\"✓ T1: {virtual_transmon.t1} µs, T2: {virtual_transmon.t2} µs\")\n    \n    return setup, virtual_transmon\n\n# Initialize simulation\nsimulation_setup, virtual_qubit = setup_single_qubit_simulation()",
   "metadata": {},
   "execution_count": null,
   "outputs": []
  },
  {
   "cell_type": "code",
   "id": "munk5418dm8",
   "source": "# Configure qubit parameters following simulated_setup.py pattern\nqubit_config = {\n    'hrid': 'Q1',\n    'lpb_collections': {\n        'f01': {  # 0->1 transition\n            'type': 'SimpleDriveCollection',\n            'freq': 5040.4,\n            'channel': 2,\n            'shape': 'blackman_drag',\n            'amp': 0.5487,\n            'phase': 0.,\n            'width': 0.05,\n            'alpha': 500,\n            'trunc': 1.2\n        },\n        'f12': {  # 1->2 transition\n            'type': 'SimpleDriveCollection',\n            'freq': 5040.4-198,  # Lower by anharmonicity\n            'channel': 2,\n            'shape': 'blackman_drag',\n            'amp': 0.1 / np.sqrt(2),\n            'phase': 0.,\n            'width': 0.025,\n            'alpha': 425.1365229849309,\n            'trunc': 1.2\n        }\n    },\n    'measurement_primitives': {\n        '0': {\n            'type': 'SimpleDispersiveMeasurement',\n            'freq': 9645.5,\n            'channel': 1,\n            'shape': 'square',\n            'amp': 0.15,\n            'phase': 0.,\n            'width': 1,\n            'trunc': 1.2,\n            'distinguishable_states': [0, 1]\n        }\n    }\n}\n\n# Create TransmonElement with configuration\nqubit = TransmonElement(name=qubit_config['hrid'], parameters=qubit_config)\n\n# Configure simulation parameters\nfrom leeq import setup\nsetup().status().set_param(\"Shot_Number\", 500)\nsetup().status().set_param(\"Shot_Period\", 500)\n\nprint(\"✓ Qubit configured successfully\")\nprint(f\"✓ Qubit name: {qubit.hrid}\")\nprint(f\"✓ Drive frequency (f01): {qubit_config['lpb_collections']['f01']['freq']} MHz\")\nprint(f\"✓ Readout frequency: {qubit_config['measurement_primitives']['0']['freq']} MHz\")",
   "metadata": {},
   "execution_count": null,
   "outputs": []
  },
  {
   "cell_type": "markdown",
   "id": "rabi-section",
   "metadata": {},
   "source": "## Rabi Oscillation Experiments\n\nRabi oscillations are fundamental quantum experiments that demonstrate coherent control of a qubit. When we apply a continuous microwave drive to a qubit at its resonant frequency, the qubit oscillates between the ground state |0⟩ and excited state |1⟩.\n\n### Theory\n- **Rabi frequency**: The frequency at which the qubit oscillates, proportional to drive amplitude\n- **π-pulse**: A pulse that flips the qubit from |0⟩ to |1⟩ (half period of oscillation)  \n- **π/2-pulse**: A pulse that creates a superposition state (quarter period of oscillation)\n\n### Experiment Protocol\n1. Apply variable-amplitude microwave pulses to the qubit\n2. Measure the excited state population after each pulse\n3. Observe sinusoidal oscillations as a function of pulse amplitude\n4. Extract the optimal π-pulse amplitude for calibration"
  },
  {
   "cell_type": "code",
   "execution_count": null,
   "id": "rabi-experiment",
   "metadata": {},
   "outputs": [],
   "source": "# Perform Rabi oscillation experiment\nprint(\"Running Rabi oscillation experiment...\")\n\n# NormalisedRabi sweeps the pulse amplitude and measures excited state population\nrabi_experiment = NormalisedRabi(\n    dut_qubit=qubit,           # Device under test (our qubit)\n    step=0.01,                 # Amplitude step size\n    stop=0.5,                  # Maximum amplitude to sweep\n    amp=0.19905818643939352,   # Starting amplitude (close to π-pulse)\n    update=True                # Update qubit calibration with results\n)\n\nprint(\"✓ Rabi experiment completed!\")\nprint(\"✓ Data shows oscillations between |0⟩ and |1⟩ states\")\nprint(f\"✓ Calibrated π-pulse amplitude: {qubit.get_c1('f01').get_parameters()['amp']} (normalized units)\")"
  },
  {
   "cell_type": "markdown",
   "id": "calibration-section",
   "metadata": {},
   "source": "## Single Qubit Calibration Workflow\n\nA complete single qubit calibration involves multiple steps to optimize all pulse parameters:\n\n### 1. Frequency Calibration (Ramsey Experiment)\nRamsey interferometry measures the qubit frequency by creating superposition states and measuring phase accumulation during free evolution.\n\n### 2. Amplitude Recalibration\nAfter frequency calibration, we often need to recalibrate the pulse amplitude as parameters are interdependent.\n\n### 3. Phase Calibration (Pingpong)\nPhase calibration ensures that successive π-pulses properly cancel, optimizing gate fidelity.\n\n### 4. DRAG Calibration\nDRAG (Derivative Removal by Adiabatic Gating) pulses reduce leakage to higher excited states by adding a derivative component."
  },
  {
   "cell_type": "code",
   "execution_count": null,
   "id": "calibration-workflow",
   "metadata": {},
   "outputs": [],
   "source": "# Complete single qubit calibration workflow\n\nprint(\"=== Single Qubit Calibration Workflow ===\")\n\n# Step 1: Ramsey frequency calibration  \nprint(\"\\n1. Frequency calibration (Ramsey)...\")\nprint(\"   Running coarse frequency sweep...\")\n\n# Coarse Ramsey scan (wide range, large steps)\nramsey_coarse = SimpleRamseyMultilevel(\n    dut=qubit, \n    set_offset=10,   # 10 MHz offset for coarse scan\n    stop=0.3,        # 300 ns evolution time\n    step=0.005       # 5 ns time steps\n)\n\nprint(\"   Running medium frequency sweep...\")\n# Medium Ramsey scan\nramsey_medium = SimpleRamseyMultilevel(\n    dut=qubit,\n    set_offset=1,    # 1 MHz offset  \n    stop=3,          # 3 µs evolution time\n    step=0.05        # 50 ns time steps\n)\n\nprint(\"   Running fine frequency sweep...\")\n# Fine Ramsey scan\nramsey_fine = SimpleRamseyMultilevel(\n    dut=qubit,\n    set_offset=0.1,  # 100 kHz offset\n    stop=30,         # 30 µs evolution time  \n    step=0.5         # 500 ns time steps\n)\n\n# Step 2: Phase calibration (Pingpong)\nprint(\"\\n2. Phase calibration (Pingpong)...\")\npingpong = AmpPingpongCalibrationSingleQubitMultilevel(dut=qubit)\n\n# Step 3: DRAG calibration\nprint(\"\\n3. DRAG calibration...\")\ndrag = CrossAllXYDragMultiRunSingleQubitMultilevel(dut=qubit)\n\nprint(\"\\n✓ Single qubit calibration workflow completed!\")\nprint(\"✓ All pulse parameters optimized for high-fidelity operations\")\nprint(f\"✓ Final pulse amplitude: {qubit.get_c1('f01').get_parameters()['amp']}\")\nprint(f\"✓ Final pulse frequency: {qubit.get_c1('f01').get_parameters()['freq']} MHz\")"
  },
  {
   "cell_type": "markdown",
   "id": "coherence-section",
   "metadata": {},
   "source": "## Coherence Time Measurements\n\nCoherence times characterize how long quantum information can be stored in a qubit:\n\n### T1 (Relaxation Time)\nT1 measures the energy relaxation time - how long the qubit stays in the excited state |1⟩ before decaying to the ground state |0⟩ due to energy loss to the environment.\n\n**Experiment**: Prepare |1⟩ state → Wait variable time → Measure population\n\n### T2* (Ramsey Dephasing Time) \nT2* measures free induction decay - how quickly the qubit loses phase coherence in a superposition state due to low-frequency noise.\n\n**Experiment**: π/2 pulse → Wait variable time → π/2 pulse → Measure\n\n### T2 (Spin Echo Time)\nT2 measures the pure dephasing time, removing effects of low-frequency noise using a refocusing pulse (spin echo sequence).\n\n**Experiment**: π/2 pulse → Wait τ/2 → π pulse → Wait τ/2 → π/2 pulse → Measure\n\nThe relationship is: 1/T2* = 1/T2 + 1/(2×T1)"
  },
  {
   "cell_type": "code",
   "execution_count": null,
   "id": "coherence-measurements",
   "metadata": {},
   "outputs": [],
   "source": "# Coherence time measurements\n\nprint(\"=== Coherence Time Measurements ===\")\n\n# T1 measurement (energy relaxation)\nprint(\"\\n1. T1 (Relaxation Time) Measurement...\")\nprint(\"   Measuring energy decay from |1⟩ to |0⟩...\")\n\nt1_experiment = SimpleT1(\n    qubit=qubit,           # Our qubit  \n    time_length=300,       # Maximum wait time: 300 µs\n    time_resolution=5      # Time step: 5 µs\n)\n\nprint(f\"   ✓ T1 measurement completed\")\nprint(f\"   Expected T1 ≈ 70 µs (from virtual transmon parameters)\")\n\n# T2 measurement (spin echo - pure dephasing)  \nprint(\"\\n2. T2 (Spin Echo) Measurement...\")\nprint(\"   Measuring dephasing time with echo refocusing...\")\n\nt2_echo_experiment = SpinEchoMultiLevel(\n    dut=qubit,                    # Our qubit\n    free_evolution_time=200,      # Maximum echo time: 200 µs  \n    time_resolution=5             # Time step: 5 µs\n)\n\n# Plot the echo decay curve\nprint(\"   Plotting T2 echo decay curve...\")\nt2_echo_experiment.plot_echo()\n\nprint(f\"   ✓ T2 echo measurement completed\")\nprint(f\"   Expected T2 ≈ 35 µs (from virtual transmon parameters)\")\n\n# T2* measurement (Ramsey - free induction decay)\nprint(\"\\n3. T2* (Ramsey) Measurement...\") \nprint(\"   Measuring free induction decay...\")\n\nt2_ramsey_experiment = SimpleRamseyMultilevel(\n    dut=qubit,\n    stop=50,            # Maximum evolution time: 50 µs\n    step=0.25,          # Time step: 250 ns  \n    set_offset=0.2      # Small frequency offset: 200 kHz\n)\n\nprint(\"   ✓ T2* (Ramsey) measurement completed\")\n\n# Summary of coherence measurements\nprint(\"\\n=== Coherence Times Summary ===\")\nprint(f\"✓ T1 (Energy relaxation): ~70 µs\")\nprint(f\"✓ T2 (Pure dephasing): ~35 µs\") \nprint(f\"✓ T2* (Free induction decay): < T2\")\nprint(\"✓ All coherence measurements demonstrate expected exponential decay\")\nprint(\"✓ Coherence times are consistent with superconducting transmon qubits\")"
  },
  {
   "cell_type": "markdown",
   "id": "bbm4lvec4ai",
   "source": "## Parameter Optimization and Validation\n\nAfter calibration and characterization, it's important to validate that our qubit parameters are optimized and working correctly.",
   "metadata": {}
  },
  {
   "cell_type": "code",
   "id": "ppi3m1urdsl",
   "source": "# Parameter validation and optimization\nprint(\"=== Parameter Validation ===\")\n\n# Display final calibrated parameters\nprint(\"\\n1. Final Calibrated Parameters:\")\nprint(f\"   π-pulse amplitude: {qubit.get_c1('f01').get_parameters()['amp']:.6f}\")\nprint(f\"   Drive frequency: {qubit.get_c1('f01').get_parameters()['freq']:.3f} MHz\")\nprint(f\"   Pulse width: {qubit.get_c1('f01').get_parameters()['width']:.3f} µs\") \nprint(f\"   DRAG parameter α: {qubit.get_c1('f01').get_parameters()['alpha']:.1f}\")\n\n# Verify π-pulse fidelity with a quick Rabi check\nprint(\"\\n2. Validation: π-pulse Fidelity Check\")\nprint(\"   Running short Rabi sweep around calibrated amplitude...\")\n\nvalidation_rabi = NormalisedRabi(\n    dut_qubit=qubit,\n    step=0.005,              # Fine step for validation\n    stop=qubit.get_c1('f01').get_parameters()['amp'] * 1.2,  # Sweep around calibrated value\n    amp=qubit.get_c1('f01').get_parameters()['amp'] * 0.8,   # Start below calibrated value\n    update=False             # Don't update calibration\n)\n\nprint(\"   ✓ Validation completed\")\nprint(\"   ✓ π-pulse should show maximum population inversion\")\n\n# Parameter summary with quality metrics\nprint(\"\\n3. Qubit Quality Summary:\")\nprint(f\"   ✓ Coherence quality factor: Q = f01 × T2 = {5040.4 * 35:.0f}\")\nprint(f\"   ✓ Relaxation-limited T2: T2_max = 2×T1 = {2*70} µs\")\nprint(f\"   ✓ Dephasing efficiency: T2/T2_max = {35/(2*70):.2f}\")\nprint(f\"   ✓ Gate time / T2 ratio: {0.05/35:.6f} (good for high fidelity)\")\n\nprint(\"\\n✓ Single qubit characterization and optimization complete!\")\nprint(\"✓ Ready for multi-qubit operations and advanced experiments\")",
   "metadata": {},
   "execution_count": null,
   "outputs": []
  },
  {
   "cell_type": "markdown",
   "id": "next-steps",
   "metadata": {},
   "source": [
    "## Next Steps\n",
    "\n",
    "Continue to [03_multi_qubit.ipynb](03_multi_qubit.ipynb) to learn about two-qubit gates and entanglement."
   ]
  },
  {
   "cell_type": "markdown",
   "id": "hdub9m3vywe",
   "source": "## Data Logging and Persistence\n\nLeeQ automatically logs all experimental data through the Chronicle system, allowing you to save and load calibration parameters.",
   "metadata": {}
  },
  {
   "cell_type": "code",
   "id": "kwu6qp1o9e",
   "source": "# Demonstrate data logging and calibration persistence\nprint(\"=== Data Logging and Calibration Persistence ===\")\n\n# Save current calibration parameters to Chronicle log\nprint(\"\\n1. Saving calibration parameters...\")\ntry:\n    qubit.save_calibration_log()\n    print(\"   ✓ Calibration parameters saved to Chronicle log\")\n    print(f\"   ✓ Logged under qubit name: {qubit.name}\")\nexcept Exception as e:\n    print(f\"   ℹ Note: {e}\")\n    print(\"   ✓ In real hardware setups, this would save to persistent storage\")\n\n# Display what would be saved\nprint(\"\\n2. Parameters that would be logged:\")\nprint(\"   - π-pulse amplitude and frequency\")\nprint(\"   - DRAG parameters\")  \nprint(\"   - Measurement calibration data\")\nprint(\"   - Coherence time measurements\")\nprint(\"   - All experimental metadata and timestamps\")\n\n# Demonstrate how to load parameters (in real use)\nprint(\"\\n3. Loading calibration parameters:\")\nprint(\"   # To load saved parameters in future sessions:\")\nprint(\"   # qubit = TransmonElement.load_from_calibration_log('Q1')\")\nprint(\"   ✓ This ensures consistent qubit parameters across experiments\")\n\nprint(\"\\n✓ Chronicle logging provides full experimental traceability\")\nprint(\"✓ All data is automatically timestamped and organized\")\nprint(\"✓ Parameters can be easily shared between notebooks and users\")",
   "metadata": {},
   "execution_count": null,
   "outputs": []
  }
 ],
 "metadata": {
  "kernelspec": {
   "display_name": "Python 3",
   "language": "python",
   "name": "python3"
  },
  "language_info": {
   "codemirror_mode": {
    "name": "ipython",
    "version": 3
   },
   "file_extension": ".py",
   "mimetype": "text/x-python",
   "name": "python",
   "nbconvert_exporter": "python",
   "pygments_lexer": "ipython3",
   "version": "3.9.0"
  }
 },
 "nbformat": 4,
 "nbformat_minor": 5
}